{
 "cells": [
  {
   "cell_type": "markdown",
   "metadata": {},
   "source": [
    "# Data preparation"
   ]
  },
  {
   "cell_type": "code",
   "execution_count": 32,
   "metadata": {},
   "outputs": [],
   "source": [
    "import pandas as pd\n",
    "import numpy as np\n",
    "import yfinance as yf\n",
    "import matplotlib.pyplot as plt\n",
    "import seaborn as sns\n",
    "\n",
    "import scipy.stats as stats"
   ]
  },
  {
   "cell_type": "markdown",
   "metadata": {},
   "source": [
    "## Treasury bond rates"
   ]
  },
  {
   "cell_type": "markdown",
   "metadata": {},
   "source": [
    "https://finance.yahoo.com/bonds/\n",
    "\n",
    "- ^IRX : 13 week Treasury Bill\n",
    "- ^FVX : Treasury Yield 5 years\n",
    "- ^TNX : Treasury Yield 10 years\n",
    "- ^TYX : Treasury Yield 30 years\n",
    "\n",
    "- Scale : %\n",
    "- frequency : daily (B)"
   ]
  },
  {
   "cell_type": "code",
   "execution_count": 2,
   "metadata": {},
   "outputs": [
    {
     "name": "stdout",
     "output_type": "stream",
     "text": [
      "[*********************100%***********************]  4 of 4 completed\n"
     ]
    },
    {
     "data": {
      "text/html": [
       "<div>\n",
       "<style scoped>\n",
       "    .dataframe tbody tr th:only-of-type {\n",
       "        vertical-align: middle;\n",
       "    }\n",
       "\n",
       "    .dataframe tbody tr th {\n",
       "        vertical-align: top;\n",
       "    }\n",
       "\n",
       "    .dataframe thead th {\n",
       "        text-align: right;\n",
       "    }\n",
       "</style>\n",
       "<table border=\"1\" class=\"dataframe\">\n",
       "  <thead>\n",
       "    <tr style=\"text-align: right;\">\n",
       "      <th></th>\n",
       "      <th>5Y</th>\n",
       "      <th>13W</th>\n",
       "      <th>10Y</th>\n",
       "      <th>30Y</th>\n",
       "    </tr>\n",
       "    <tr>\n",
       "      <th>Date</th>\n",
       "      <th></th>\n",
       "      <th></th>\n",
       "      <th></th>\n",
       "      <th></th>\n",
       "    </tr>\n",
       "  </thead>\n",
       "  <tbody>\n",
       "    <tr>\n",
       "      <th>2023-08-28</th>\n",
       "      <td>4.412</td>\n",
       "      <td>5.323</td>\n",
       "      <td>4.212</td>\n",
       "      <td>4.291</td>\n",
       "    </tr>\n",
       "    <tr>\n",
       "      <th>2023-08-29</th>\n",
       "      <td>4.277</td>\n",
       "      <td>5.320</td>\n",
       "      <td>4.122</td>\n",
       "      <td>4.237</td>\n",
       "    </tr>\n",
       "    <tr>\n",
       "      <th>2023-08-30</th>\n",
       "      <td>4.273</td>\n",
       "      <td>5.315</td>\n",
       "      <td>4.118</td>\n",
       "      <td>4.228</td>\n",
       "    </tr>\n",
       "    <tr>\n",
       "      <th>2023-08-31</th>\n",
       "      <td>4.244</td>\n",
       "      <td>5.298</td>\n",
       "      <td>4.093</td>\n",
       "      <td>4.204</td>\n",
       "    </tr>\n",
       "    <tr>\n",
       "      <th>2023-09-01</th>\n",
       "      <td>4.270</td>\n",
       "      <td>5.275</td>\n",
       "      <td>4.159</td>\n",
       "      <td>4.285</td>\n",
       "    </tr>\n",
       "  </tbody>\n",
       "</table>\n",
       "</div>"
      ],
      "text/plain": [
       "               5Y    13W    10Y    30Y\n",
       "Date                                  \n",
       "2023-08-28  4.412  5.323  4.212  4.291\n",
       "2023-08-29  4.277  5.320  4.122  4.237\n",
       "2023-08-30  4.273  5.315  4.118  4.228\n",
       "2023-08-31  4.244  5.298  4.093  4.204\n",
       "2023-09-01  4.270  5.275  4.159  4.285"
      ]
     },
     "execution_count": 2,
     "metadata": {},
     "output_type": "execute_result"
    }
   ],
   "source": [
    "treasury_bonds = [\"^IRX\", \"^FVX\", \"^TNX\", \"^TYX\"]\n",
    "\n",
    "tb = yf.Tickers(treasury_bonds)\n",
    "df_tb = tb.history(period=\"max\")[\"Close\"]\n",
    "\n",
    "df_tb.rename(columns={\"^IRX\":\"13W\", \"^FVX\":\"5Y\", \"^TNX\":\"10Y\", \"^TYX\":\"30Y\"}, inplace=True)\n",
    "df_tb.tail()"
   ]
  },
  {
   "cell_type": "markdown",
   "metadata": {},
   "source": [
    "## Tesla stock price"
   ]
  },
  {
   "cell_type": "code",
   "execution_count": 3,
   "metadata": {},
   "outputs": [
    {
     "data": {
      "text/html": [
       "<div>\n",
       "<style scoped>\n",
       "    .dataframe tbody tr th:only-of-type {\n",
       "        vertical-align: middle;\n",
       "    }\n",
       "\n",
       "    .dataframe tbody tr th {\n",
       "        vertical-align: top;\n",
       "    }\n",
       "\n",
       "    .dataframe thead th {\n",
       "        text-align: right;\n",
       "    }\n",
       "</style>\n",
       "<table border=\"1\" class=\"dataframe\">\n",
       "  <thead>\n",
       "    <tr style=\"text-align: right;\">\n",
       "      <th></th>\n",
       "      <th>Close</th>\n",
       "    </tr>\n",
       "    <tr>\n",
       "      <th>Date</th>\n",
       "      <th></th>\n",
       "    </tr>\n",
       "  </thead>\n",
       "  <tbody>\n",
       "    <tr>\n",
       "      <th>2023-08-25 00:00:00-04:00</th>\n",
       "      <td>238.589996</td>\n",
       "    </tr>\n",
       "    <tr>\n",
       "      <th>2023-08-28 00:00:00-04:00</th>\n",
       "      <td>238.820007</td>\n",
       "    </tr>\n",
       "    <tr>\n",
       "      <th>2023-08-29 00:00:00-04:00</th>\n",
       "      <td>257.179993</td>\n",
       "    </tr>\n",
       "    <tr>\n",
       "      <th>2023-08-30 00:00:00-04:00</th>\n",
       "      <td>256.899994</td>\n",
       "    </tr>\n",
       "    <tr>\n",
       "      <th>2023-08-31 00:00:00-04:00</th>\n",
       "      <td>258.079987</td>\n",
       "    </tr>\n",
       "  </tbody>\n",
       "</table>\n",
       "</div>"
      ],
      "text/plain": [
       "                                Close\n",
       "Date                                 \n",
       "2023-08-25 00:00:00-04:00  238.589996\n",
       "2023-08-28 00:00:00-04:00  238.820007\n",
       "2023-08-29 00:00:00-04:00  257.179993\n",
       "2023-08-30 00:00:00-04:00  256.899994\n",
       "2023-08-31 00:00:00-04:00  258.079987"
      ]
     },
     "execution_count": 3,
     "metadata": {},
     "output_type": "execute_result"
    }
   ],
   "source": [
    "tesla = yf.Ticker(\"TSLA\")\n",
    "df_tesla = tesla.history(period=\"max\")[[\"Close\"]]\n",
    "df_tesla.tail()"
   ]
  },
  {
   "cell_type": "markdown",
   "metadata": {},
   "source": [
    "## FED Fund rates\n",
    "\n",
    "- Source : https://fred.stlouisfed.org/series/FEDFUNDS\n",
    "- frequency : monthly\n",
    "- path : './datasets/FEDFUNDS.csv'"
   ]
  },
  {
   "cell_type": "code",
   "execution_count": 34,
   "metadata": {},
   "outputs": [
    {
     "data": {
      "text/html": [
       "<div>\n",
       "<style scoped>\n",
       "    .dataframe tbody tr th:only-of-type {\n",
       "        vertical-align: middle;\n",
       "    }\n",
       "\n",
       "    .dataframe tbody tr th {\n",
       "        vertical-align: top;\n",
       "    }\n",
       "\n",
       "    .dataframe thead th {\n",
       "        text-align: right;\n",
       "    }\n",
       "</style>\n",
       "<table border=\"1\" class=\"dataframe\">\n",
       "  <thead>\n",
       "    <tr style=\"text-align: right;\">\n",
       "      <th></th>\n",
       "      <th>FEDFUNDS</th>\n",
       "    </tr>\n",
       "    <tr>\n",
       "      <th>DATE</th>\n",
       "      <th></th>\n",
       "    </tr>\n",
       "  </thead>\n",
       "  <tbody>\n",
       "    <tr>\n",
       "      <th>1954-07-01 00:00:00+00:00</th>\n",
       "      <td>0.80</td>\n",
       "    </tr>\n",
       "    <tr>\n",
       "      <th>1954-08-01 00:00:00+00:00</th>\n",
       "      <td>1.22</td>\n",
       "    </tr>\n",
       "    <tr>\n",
       "      <th>1954-09-01 00:00:00+00:00</th>\n",
       "      <td>1.07</td>\n",
       "    </tr>\n",
       "    <tr>\n",
       "      <th>1954-10-01 00:00:00+00:00</th>\n",
       "      <td>0.85</td>\n",
       "    </tr>\n",
       "    <tr>\n",
       "      <th>1954-11-01 00:00:00+00:00</th>\n",
       "      <td>0.83</td>\n",
       "    </tr>\n",
       "  </tbody>\n",
       "</table>\n",
       "</div>"
      ],
      "text/plain": [
       "                           FEDFUNDS\n",
       "DATE                               \n",
       "1954-07-01 00:00:00+00:00      0.80\n",
       "1954-08-01 00:00:00+00:00      1.22\n",
       "1954-09-01 00:00:00+00:00      1.07\n",
       "1954-10-01 00:00:00+00:00      0.85\n",
       "1954-11-01 00:00:00+00:00      0.83"
      ]
     },
     "execution_count": 34,
     "metadata": {},
     "output_type": "execute_result"
    }
   ],
   "source": [
    "df_fed = pd.read_csv('./datasets/FEDFUNDS.csv')\n",
    "\n",
    "# set \"DATE\" column to index\n",
    "df_fed.set_index(\"DATE\", inplace=True)\n",
    "# convert index to datetime index\n",
    "df_fed.index = pd.to_datetime(df_fed.index, utc=True)\n",
    "\n",
    "df_fed.head()"
   ]
  },
  {
   "cell_type": "markdown",
   "metadata": {},
   "source": [
    "## Integrate dataframes"
   ]
  },
  {
   "cell_type": "markdown",
   "metadata": {},
   "source": [
    "### Daily data"
   ]
  },
  {
   "cell_type": "code",
   "execution_count": 10,
   "metadata": {},
   "outputs": [
    {
     "data": {
      "text/html": [
       "<div>\n",
       "<style scoped>\n",
       "    .dataframe tbody tr th:only-of-type {\n",
       "        vertical-align: middle;\n",
       "    }\n",
       "\n",
       "    .dataframe tbody tr th {\n",
       "        vertical-align: top;\n",
       "    }\n",
       "\n",
       "    .dataframe thead th {\n",
       "        text-align: right;\n",
       "    }\n",
       "</style>\n",
       "<table border=\"1\" class=\"dataframe\">\n",
       "  <thead>\n",
       "    <tr style=\"text-align: right;\">\n",
       "      <th></th>\n",
       "      <th>5Y</th>\n",
       "      <th>13W</th>\n",
       "      <th>10Y</th>\n",
       "      <th>30Y</th>\n",
       "      <th>Price</th>\n",
       "    </tr>\n",
       "    <tr>\n",
       "      <th>Date</th>\n",
       "      <th></th>\n",
       "      <th></th>\n",
       "      <th></th>\n",
       "      <th></th>\n",
       "      <th></th>\n",
       "    </tr>\n",
       "  </thead>\n",
       "  <tbody>\n",
       "    <tr>\n",
       "      <th>2010-06-29 00:00:00+00:00</th>\n",
       "      <td>1.786</td>\n",
       "      <td>0.160</td>\n",
       "      <td>2.967</td>\n",
       "      <td>3.946</td>\n",
       "      <td>1.592667</td>\n",
       "    </tr>\n",
       "    <tr>\n",
       "      <th>2010-06-30 00:00:00+00:00</th>\n",
       "      <td>1.795</td>\n",
       "      <td>0.170</td>\n",
       "      <td>2.951</td>\n",
       "      <td>3.909</td>\n",
       "      <td>1.588667</td>\n",
       "    </tr>\n",
       "    <tr>\n",
       "      <th>2010-07-01 00:00:00+00:00</th>\n",
       "      <td>1.795</td>\n",
       "      <td>0.165</td>\n",
       "      <td>2.927</td>\n",
       "      <td>3.868</td>\n",
       "      <td>1.464000</td>\n",
       "    </tr>\n",
       "    <tr>\n",
       "      <th>2010-07-02 00:00:00+00:00</th>\n",
       "      <td>1.812</td>\n",
       "      <td>0.160</td>\n",
       "      <td>2.979</td>\n",
       "      <td>3.941</td>\n",
       "      <td>1.280000</td>\n",
       "    </tr>\n",
       "    <tr>\n",
       "      <th>2010-07-06 00:00:00+00:00</th>\n",
       "      <td>1.760</td>\n",
       "      <td>0.160</td>\n",
       "      <td>2.932</td>\n",
       "      <td>3.892</td>\n",
       "      <td>1.074000</td>\n",
       "    </tr>\n",
       "  </tbody>\n",
       "</table>\n",
       "</div>"
      ],
      "text/plain": [
       "                              5Y    13W    10Y    30Y     Price\n",
       "Date                                                           \n",
       "2010-06-29 00:00:00+00:00  1.786  0.160  2.967  3.946  1.592667\n",
       "2010-06-30 00:00:00+00:00  1.795  0.170  2.951  3.909  1.588667\n",
       "2010-07-01 00:00:00+00:00  1.795  0.165  2.927  3.868  1.464000\n",
       "2010-07-02 00:00:00+00:00  1.812  0.160  2.979  3.941  1.280000\n",
       "2010-07-06 00:00:00+00:00  1.760  0.160  2.932  3.892  1.074000"
      ]
     },
     "execution_count": 10,
     "metadata": {},
     "output_type": "execute_result"
    }
   ],
   "source": [
    "df_tb.index = pd.to_datetime(df_tb.index, utc=True).strftime(\"%Y-%m-%d\")\n",
    "df_tesla.index = pd.to_datetime(df_tesla.index, utc=True).strftime(\"%Y-%m-%d\")\n",
    "\n",
    "df_daily = pd.merge(df_tb, df_tesla, how=\"inner\", left_index=True, right_index=True)\n",
    "df_daily.rename(columns={\"Close\":\"Price\"}, inplace=True)\n",
    "df_daily.index = pd.to_datetime(df_daily.index, utc=True)\n",
    "df_daily.head()"
   ]
  },
  {
   "cell_type": "code",
   "execution_count": 40,
   "metadata": {},
   "outputs": [
    {
     "data": {
      "image/png": "[encoded data removed]",
      "text/plain": [
       "<Figure size 640x480 with 2 Axes>"
      ]
     },
     "metadata": {},
     "output_type": "display_data"
    }
   ],
   "source": [
    "fig, ax1 = plt.subplots()\n",
    "\n",
    "color = 'tab:red'\n",
    "ax1.set_xlabel('tesla')\n",
    "ax1.set_ylabel('$', color=color)\n",
    "ax1.plot(df_daily.index, df_daily[\"Price\"], color=color)\n",
    "\n",
    "ax2 = ax1.twinx()\n",
    "\n",
    "color = 'tab:blue'\n",
    "ax2.set_ylabel('FED rates')\n",
    "ax2.plot(df_daily.index, df_daily[[\"5Y\", \"13W\", \"10Y\", \"30Y\"]])\n",
    "\n",
    "fig.tight_layout()\n",
    "sns.despine()"
   ]
  },
  {
   "cell_type": "code",
   "execution_count": 27,
   "metadata": {},
   "outputs": [
    {
     "data": {
      "text/html": [
       "<div>\n",
       "<style scoped>\n",
       "    .dataframe tbody tr th:only-of-type {\n",
       "        vertical-align: middle;\n",
       "    }\n",
       "\n",
       "    .dataframe tbody tr th {\n",
       "        vertical-align: top;\n",
       "    }\n",
       "\n",
       "    .dataframe thead th {\n",
       "        text-align: right;\n",
       "    }\n",
       "</style>\n",
       "<table border=\"1\" class=\"dataframe\">\n",
       "  <thead>\n",
       "    <tr style=\"text-align: right;\">\n",
       "      <th></th>\n",
       "      <th>FEDFUNDS</th>\n",
       "      <th>5Y</th>\n",
       "      <th>13W</th>\n",
       "      <th>10Y</th>\n",
       "      <th>30Y</th>\n",
       "      <th>Price</th>\n",
       "    </tr>\n",
       "  </thead>\n",
       "  <tbody>\n",
       "    <tr>\n",
       "      <th>2010-07-01 00:00:00+00:00</th>\n",
       "      <td>0.18</td>\n",
       "      <td>1.795</td>\n",
       "      <td>0.165</td>\n",
       "      <td>2.927</td>\n",
       "      <td>3.868</td>\n",
       "      <td>1.464000</td>\n",
       "    </tr>\n",
       "    <tr>\n",
       "      <th>2010-09-01 00:00:00+00:00</th>\n",
       "      <td>0.19</td>\n",
       "      <td>1.409</td>\n",
       "      <td>0.130</td>\n",
       "      <td>2.582</td>\n",
       "      <td>3.662</td>\n",
       "      <td>1.363333</td>\n",
       "    </tr>\n",
       "    <tr>\n",
       "      <th>2010-10-01 00:00:00+00:00</th>\n",
       "      <td>0.19</td>\n",
       "      <td>1.271</td>\n",
       "      <td>0.150</td>\n",
       "      <td>2.526</td>\n",
       "      <td>3.721</td>\n",
       "      <td>1.373333</td>\n",
       "    </tr>\n",
       "    <tr>\n",
       "      <th>2010-11-01 00:00:00+00:00</th>\n",
       "      <td>0.19</td>\n",
       "      <td>1.163</td>\n",
       "      <td>0.105</td>\n",
       "      <td>2.628</td>\n",
       "      <td>4.017</td>\n",
       "      <td>1.427333</td>\n",
       "    </tr>\n",
       "    <tr>\n",
       "      <th>2010-12-01 00:00:00+00:00</th>\n",
       "      <td>0.18</td>\n",
       "      <td>1.622</td>\n",
       "      <td>0.155</td>\n",
       "      <td>2.964</td>\n",
       "      <td>4.237</td>\n",
       "      <td>2.290000</td>\n",
       "    </tr>\n",
       "  </tbody>\n",
       "</table>\n",
       "</div>"
      ],
      "text/plain": [
       "                           FEDFUNDS     5Y    13W    10Y    30Y     Price\n",
       "2010-07-01 00:00:00+00:00      0.18  1.795  0.165  2.927  3.868  1.464000\n",
       "2010-09-01 00:00:00+00:00      0.19  1.409  0.130  2.582  3.662  1.363333\n",
       "2010-10-01 00:00:00+00:00      0.19  1.271  0.150  2.526  3.721  1.373333\n",
       "2010-11-01 00:00:00+00:00      0.19  1.163  0.105  2.628  4.017  1.427333\n",
       "2010-12-01 00:00:00+00:00      0.18  1.622  0.155  2.964  4.237  2.290000"
      ]
     },
     "execution_count": 27,
     "metadata": {},
     "output_type": "execute_result"
    }
   ],
   "source": [
    "df_monthly = pd.merge(df_fed, df_daily, how=\"inner\", left_index=True, right_index=True)\n",
    "df_monthly.head()"
   ]
  },
  {
   "cell_type": "code",
   "execution_count": 41,
   "metadata": {},
   "outputs": [
    {
     "data": {
      "image/png": "[encoded data removed]",
      "text/plain": [
       "<Figure size 640x480 with 2 Axes>"
      ]
     },
     "metadata": {},
     "output_type": "display_data"
    }
   ],
   "source": [
    "fig, ax1 = plt.subplots()\n",
    "\n",
    "color = 'tab:red'\n",
    "ax1.set_xlabel('tesla')\n",
    "ax1.set_ylabel('$', color=color)\n",
    "ax1.plot(df_monthly.index, df_monthly[\"Price\"], color=color)\n",
    "\n",
    "ax2 = ax1.twinx()\n",
    "\n",
    "color = 'tab:blue'\n",
    "ax2.set_ylabel('FED rates')\n",
    "ax2.plot(df_monthly.index, df_monthly[[\"5Y\", \"13W\", \"10Y\", \"30Y\", \"FEDFUNDS\"]])\n",
    "\n",
    "fig.tight_layout()\n",
    "sns.despine()"
   ]
  },
  {
   "cell_type": "markdown",
   "metadata": {},
   "source": [
    "# Correlation Analysis"
   ]
  },
  {
   "cell_type": "markdown",
   "metadata": {},
   "source": [
    "## Correlation with Price"
   ]
  },
  {
   "cell_type": "markdown",
   "metadata": {},
   "source": [
    "### Daily data"
   ]
  },
  {
   "cell_type": "code",
   "execution_count": 28,
   "metadata": {},
   "outputs": [
    {
     "data": {
      "text/html": [
       "<div>\n",
       "<style scoped>\n",
       "    .dataframe tbody tr th:only-of-type {\n",
       "        vertical-align: middle;\n",
       "    }\n",
       "\n",
       "    .dataframe tbody tr th {\n",
       "        vertical-align: top;\n",
       "    }\n",
       "\n",
       "    .dataframe thead th {\n",
       "        text-align: right;\n",
       "    }\n",
       "</style>\n",
       "<table border=\"1\" class=\"dataframe\">\n",
       "  <thead>\n",
       "    <tr style=\"text-align: right;\">\n",
       "      <th></th>\n",
       "      <th>5Y</th>\n",
       "      <th>13W</th>\n",
       "      <th>10Y</th>\n",
       "      <th>30Y</th>\n",
       "      <th>Price</th>\n",
       "    </tr>\n",
       "  </thead>\n",
       "  <tbody>\n",
       "    <tr>\n",
       "      <th>5Y</th>\n",
       "      <td>1.000000</td>\n",
       "      <td>0.845130</td>\n",
       "      <td>0.873304</td>\n",
       "      <td>0.558143</td>\n",
       "      <td>0.252323</td>\n",
       "    </tr>\n",
       "    <tr>\n",
       "      <th>13W</th>\n",
       "      <td>0.845130</td>\n",
       "      <td>1.000000</td>\n",
       "      <td>0.601574</td>\n",
       "      <td>0.270127</td>\n",
       "      <td>0.315532</td>\n",
       "    </tr>\n",
       "    <tr>\n",
       "      <th>10Y</th>\n",
       "      <td>0.873304</td>\n",
       "      <td>0.601574</td>\n",
       "      <td>1.000000</td>\n",
       "      <td>0.886563</td>\n",
       "      <td>0.006551</td>\n",
       "    </tr>\n",
       "    <tr>\n",
       "      <th>30Y</th>\n",
       "      <td>0.558143</td>\n",
       "      <td>0.270127</td>\n",
       "      <td>0.886563</td>\n",
       "      <td>1.000000</td>\n",
       "      <td>-0.246455</td>\n",
       "    </tr>\n",
       "    <tr>\n",
       "      <th>Price</th>\n",
       "      <td>0.252323</td>\n",
       "      <td>0.315532</td>\n",
       "      <td>0.006551</td>\n",
       "      <td>-0.246455</td>\n",
       "      <td>1.000000</td>\n",
       "    </tr>\n",
       "  </tbody>\n",
       "</table>\n",
       "</div>"
      ],
      "text/plain": [
       "             5Y       13W       10Y       30Y     Price\n",
       "5Y     1.000000  0.845130  0.873304  0.558143  0.252323\n",
       "13W    0.845130  1.000000  0.601574  0.270127  0.315532\n",
       "10Y    0.873304  0.601574  1.000000  0.886563  0.006551\n",
       "30Y    0.558143  0.270127  0.886563  1.000000 -0.246455\n",
       "Price  0.252323  0.315532  0.006551 -0.246455  1.000000"
      ]
     },
     "execution_count": 28,
     "metadata": {},
     "output_type": "execute_result"
    }
   ],
   "source": [
    "# correlation\n",
    "df_daily.corr()"
   ]
  },
  {
   "cell_type": "code",
   "execution_count": 46,
   "metadata": {},
   "outputs": [
    {
     "name": "stdout",
     "output_type": "stream",
     "text": [
      "- 5Y : PearsonRResult(statistic=0.252322738331312, pvalue=2.6718167380083755e-49)\n",
      "\n",
      "- 13W : PearsonRResult(statistic=0.3155320545252404, pvalue=1.6533872189434185e-77)\n",
      "\n",
      "- 10Y : PearsonRResult(statistic=0.006551019347972065, pvalue=0.7061835563778683)\n",
      "\n",
      "- 30Y : PearsonRResult(statistic=-0.24645464941164713, pvalue=4.803227296265723e-47)\n",
      "\n"
     ]
    }
   ],
   "source": [
    "# pearson correlation\n",
    "cols = df_daily.columns[df_daily.columns != \"Price\"]\n",
    "for col in cols:\n",
    "    corr = stats.pearsonr(df_daily[\"Price\"], df_daily[col])\n",
    "    print(\"-\", col, \":\", corr)\n",
    "    print(\"\")\n",
    "    "
   ]
  },
  {
   "cell_type": "markdown",
   "metadata": {},
   "source": [
    "### Monthly data"
   ]
  },
  {
   "cell_type": "code",
   "execution_count": 47,
   "metadata": {},
   "outputs": [
    {
     "data": {
      "text/html": [
       "<div>\n",
       "<style scoped>\n",
       "    .dataframe tbody tr th:only-of-type {\n",
       "        vertical-align: middle;\n",
       "    }\n",
       "\n",
       "    .dataframe tbody tr th {\n",
       "        vertical-align: top;\n",
       "    }\n",
       "\n",
       "    .dataframe thead th {\n",
       "        text-align: right;\n",
       "    }\n",
       "</style>\n",
       "<table border=\"1\" class=\"dataframe\">\n",
       "  <thead>\n",
       "    <tr style=\"text-align: right;\">\n",
       "      <th></th>\n",
       "      <th>FEDFUNDS</th>\n",
       "      <th>5Y</th>\n",
       "      <th>13W</th>\n",
       "      <th>10Y</th>\n",
       "      <th>30Y</th>\n",
       "      <th>Price</th>\n",
       "    </tr>\n",
       "  </thead>\n",
       "  <tbody>\n",
       "    <tr>\n",
       "      <th>FEDFUNDS</th>\n",
       "      <td>1.000000</td>\n",
       "      <td>0.828300</td>\n",
       "      <td>0.997624</td>\n",
       "      <td>0.579947</td>\n",
       "      <td>0.253015</td>\n",
       "      <td>0.216192</td>\n",
       "    </tr>\n",
       "    <tr>\n",
       "      <th>5Y</th>\n",
       "      <td>0.828300</td>\n",
       "      <td>1.000000</td>\n",
       "      <td>0.836364</td>\n",
       "      <td>0.865706</td>\n",
       "      <td>0.543306</td>\n",
       "      <td>0.180876</td>\n",
       "    </tr>\n",
       "    <tr>\n",
       "      <th>13W</th>\n",
       "      <td>0.997624</td>\n",
       "      <td>0.836364</td>\n",
       "      <td>1.000000</td>\n",
       "      <td>0.583874</td>\n",
       "      <td>0.250560</td>\n",
       "      <td>0.241281</td>\n",
       "    </tr>\n",
       "    <tr>\n",
       "      <th>10Y</th>\n",
       "      <td>0.579947</td>\n",
       "      <td>0.865706</td>\n",
       "      <td>0.583874</td>\n",
       "      <td>1.000000</td>\n",
       "      <td>0.885427</td>\n",
       "      <td>-0.083016</td>\n",
       "    </tr>\n",
       "    <tr>\n",
       "      <th>30Y</th>\n",
       "      <td>0.253015</td>\n",
       "      <td>0.543306</td>\n",
       "      <td>0.250560</td>\n",
       "      <td>0.885427</td>\n",
       "      <td>1.000000</td>\n",
       "      <td>-0.337444</td>\n",
       "    </tr>\n",
       "    <tr>\n",
       "      <th>Price</th>\n",
       "      <td>0.216192</td>\n",
       "      <td>0.180876</td>\n",
       "      <td>0.241281</td>\n",
       "      <td>-0.083016</td>\n",
       "      <td>-0.337444</td>\n",
       "      <td>1.000000</td>\n",
       "    </tr>\n",
       "  </tbody>\n",
       "</table>\n",
       "</div>"
      ],
      "text/plain": [
       "          FEDFUNDS        5Y       13W       10Y       30Y     Price\n",
       "FEDFUNDS  1.000000  0.828300  0.997624  0.579947  0.253015  0.216192\n",
       "5Y        0.828300  1.000000  0.836364  0.865706  0.543306  0.180876\n",
       "13W       0.997624  0.836364  1.000000  0.583874  0.250560  0.241281\n",
       "10Y       0.579947  0.865706  0.583874  1.000000  0.885427 -0.083016\n",
       "30Y       0.253015  0.543306  0.250560  0.885427  1.000000 -0.337444\n",
       "Price     0.216192  0.180876  0.241281 -0.083016 -0.337444  1.000000"
      ]
     },
     "execution_count": 47,
     "metadata": {},
     "output_type": "execute_result"
    }
   ],
   "source": [
    "df_monthly.corr()"
   ]
  },
  {
   "cell_type": "code",
   "execution_count": 48,
   "metadata": {},
   "outputs": [
    {
     "name": "stdout",
     "output_type": "stream",
     "text": [
      "- 5Y : PearsonRResult(statistic=0.252322738331312, pvalue=2.6718167380083755e-49)\n",
      "\n",
      "- 13W : PearsonRResult(statistic=0.3155320545252404, pvalue=1.6533872189434185e-77)\n",
      "\n",
      "- 10Y : PearsonRResult(statistic=0.006551019347972065, pvalue=0.7061835563778683)\n",
      "\n",
      "- 30Y : PearsonRResult(statistic=-0.24645464941164713, pvalue=4.803227296265723e-47)\n",
      "\n"
     ]
    }
   ],
   "source": [
    "# Pearson correlation\n",
    "cols = df_daily.columns[df_daily.columns != \"Price\"]\n",
    "\n",
    "for col in cols:\n",
    "    corr = stats.pearsonr(df_daily[\"Price\"], df_daily[col])\n",
    "    print(\"-\", col, \":\", corr)\n",
    "    print(\"\")"
   ]
  },
  {
   "cell_type": "markdown",
   "metadata": {},
   "source": [
    "### Conclusion\n",
    "\n",
    "There are no correlations between prices and interest rates."
   ]
  },
  {
   "cell_type": "markdown",
   "metadata": {},
   "source": [
    "## Correaltion with Price change rate"
   ]
  },
  {
   "cell_type": "markdown",
   "metadata": {},
   "source": [
    "### Daily data"
   ]
  },
  {
   "cell_type": "code",
   "execution_count": 52,
   "metadata": {},
   "outputs": [
    {
     "data": {
      "text/html": [
       "<div>\n",
       "<style scoped>\n",
       "    .dataframe tbody tr th:only-of-type {\n",
       "        vertical-align: middle;\n",
       "    }\n",
       "\n",
       "    .dataframe tbody tr th {\n",
       "        vertical-align: top;\n",
       "    }\n",
       "\n",
       "    .dataframe thead th {\n",
       "        text-align: right;\n",
       "    }\n",
       "</style>\n",
       "<table border=\"1\" class=\"dataframe\">\n",
       "  <thead>\n",
       "    <tr style=\"text-align: right;\">\n",
       "      <th></th>\n",
       "      <th>5Y</th>\n",
       "      <th>13W</th>\n",
       "      <th>10Y</th>\n",
       "      <th>30Y</th>\n",
       "      <th>Price</th>\n",
       "      <th>percent</th>\n",
       "    </tr>\n",
       "    <tr>\n",
       "      <th>Date</th>\n",
       "      <th></th>\n",
       "      <th></th>\n",
       "      <th></th>\n",
       "      <th></th>\n",
       "      <th></th>\n",
       "      <th></th>\n",
       "    </tr>\n",
       "  </thead>\n",
       "  <tbody>\n",
       "    <tr>\n",
       "      <th>2010-07-01 00:00:00+00:00</th>\n",
       "      <td>1.795</td>\n",
       "      <td>0.165</td>\n",
       "      <td>2.927</td>\n",
       "      <td>3.868</td>\n",
       "      <td>1.464000</td>\n",
       "      <td>-7.847274</td>\n",
       "    </tr>\n",
       "    <tr>\n",
       "      <th>2010-07-02 00:00:00+00:00</th>\n",
       "      <td>1.812</td>\n",
       "      <td>0.160</td>\n",
       "      <td>2.979</td>\n",
       "      <td>3.941</td>\n",
       "      <td>1.280000</td>\n",
       "      <td>-12.568307</td>\n",
       "    </tr>\n",
       "    <tr>\n",
       "      <th>2010-07-06 00:00:00+00:00</th>\n",
       "      <td>1.760</td>\n",
       "      <td>0.160</td>\n",
       "      <td>2.932</td>\n",
       "      <td>3.892</td>\n",
       "      <td>1.074000</td>\n",
       "      <td>-16.093748</td>\n",
       "    </tr>\n",
       "    <tr>\n",
       "      <th>2010-07-07 00:00:00+00:00</th>\n",
       "      <td>1.776</td>\n",
       "      <td>0.155</td>\n",
       "      <td>2.980</td>\n",
       "      <td>3.954</td>\n",
       "      <td>1.053333</td>\n",
       "      <td>-1.924298</td>\n",
       "    </tr>\n",
       "    <tr>\n",
       "      <th>2010-07-08 00:00:00+00:00</th>\n",
       "      <td>1.801</td>\n",
       "      <td>0.145</td>\n",
       "      <td>3.020</td>\n",
       "      <td>4.001</td>\n",
       "      <td>1.164000</td>\n",
       "      <td>10.506363</td>\n",
       "    </tr>\n",
       "  </tbody>\n",
       "</table>\n",
       "</div>"
      ],
      "text/plain": [
       "                              5Y    13W    10Y    30Y     Price    percent\n",
       "Date                                                                      \n",
       "2010-07-01 00:00:00+00:00  1.795  0.165  2.927  3.868  1.464000  -7.847274\n",
       "2010-07-02 00:00:00+00:00  1.812  0.160  2.979  3.941  1.280000 -12.568307\n",
       "2010-07-06 00:00:00+00:00  1.760  0.160  2.932  3.892  1.074000 -16.093748\n",
       "2010-07-07 00:00:00+00:00  1.776  0.155  2.980  3.954  1.053333  -1.924298\n",
       "2010-07-08 00:00:00+00:00  1.801  0.145  3.020  4.001  1.164000  10.506363"
      ]
     },
     "execution_count": 52,
     "metadata": {},
     "output_type": "execute_result"
    }
   ],
   "source": [
    "# add price change percentage into dataframe\n",
    "\n",
    "df_daily[\"percent\"] = df_daily[\"Price\"].pct_change()*100\n",
    "df_daily.dropna(inplace=True)\n",
    "df_daily.head()"
   ]
  },
  {
   "cell_type": "code",
   "execution_count": 54,
   "metadata": {},
   "outputs": [
    {
     "data": {
      "text/plain": [
       "[<matplotlib.lines.Line2D at 0x14ef7f690>,\n",
       " <matplotlib.lines.Line2D at 0x14efc1810>,\n",
       " <matplotlib.lines.Line2D at 0x14efe7f90>,\n",
       " <matplotlib.lines.Line2D at 0x14efa4fd0>,\n",
       " <matplotlib.lines.Line2D at 0x14eff4f90>]"
      ]
     },
     "execution_count": 54,
     "metadata": {},
     "output_type": "execute_result"
    },
    {
     "data": {
      "image/png": "[encoded data removed]",
      "text/plain": [
       "<Figure size 640x480 with 1 Axes>"
      ]
     },
     "metadata": {},
     "output_type": "display_data"
    }
   ],
   "source": [
    "plt.plot(df_daily.index, df_daily[[\"5Y\", \"13W\", \"10Y\", \"30Y\", \"percent\"]])"
   ]
  },
  {
   "cell_type": "code",
   "execution_count": 55,
   "metadata": {},
   "outputs": [
    {
     "data": {
      "text/html": [
       "<div>\n",
       "<style scoped>\n",
       "    .dataframe tbody tr th:only-of-type {\n",
       "        vertical-align: middle;\n",
       "    }\n",
       "\n",
       "    .dataframe tbody tr th {\n",
       "        vertical-align: top;\n",
       "    }\n",
       "\n",
       "    .dataframe thead th {\n",
       "        text-align: right;\n",
       "    }\n",
       "</style>\n",
       "<table border=\"1\" class=\"dataframe\">\n",
       "  <thead>\n",
       "    <tr style=\"text-align: right;\">\n",
       "      <th></th>\n",
       "      <th>5Y</th>\n",
       "      <th>13W</th>\n",
       "      <th>10Y</th>\n",
       "      <th>30Y</th>\n",
       "      <th>Price</th>\n",
       "      <th>percent</th>\n",
       "    </tr>\n",
       "  </thead>\n",
       "  <tbody>\n",
       "    <tr>\n",
       "      <th>5Y</th>\n",
       "      <td>1.000000</td>\n",
       "      <td>0.845236</td>\n",
       "      <td>0.873464</td>\n",
       "      <td>0.558355</td>\n",
       "      <td>0.252399</td>\n",
       "      <td>-0.043908</td>\n",
       "    </tr>\n",
       "    <tr>\n",
       "      <th>13W</th>\n",
       "      <td>0.845236</td>\n",
       "      <td>1.000000</td>\n",
       "      <td>0.602057</td>\n",
       "      <td>0.270711</td>\n",
       "      <td>0.315393</td>\n",
       "      <td>-0.014582</td>\n",
       "    </tr>\n",
       "    <tr>\n",
       "      <th>10Y</th>\n",
       "      <td>0.873464</td>\n",
       "      <td>0.602057</td>\n",
       "      <td>1.000000</td>\n",
       "      <td>0.886528</td>\n",
       "      <td>0.006911</td>\n",
       "      <td>-0.044041</td>\n",
       "    </tr>\n",
       "    <tr>\n",
       "      <th>30Y</th>\n",
       "      <td>0.558355</td>\n",
       "      <td>0.270711</td>\n",
       "      <td>0.886528</td>\n",
       "      <td>1.000000</td>\n",
       "      <td>-0.246094</td>\n",
       "      <td>-0.030555</td>\n",
       "    </tr>\n",
       "    <tr>\n",
       "      <th>Price</th>\n",
       "      <td>0.252399</td>\n",
       "      <td>0.315393</td>\n",
       "      <td>0.006911</td>\n",
       "      <td>-0.246094</td>\n",
       "      <td>1.000000</td>\n",
       "      <td>0.008859</td>\n",
       "    </tr>\n",
       "    <tr>\n",
       "      <th>percent</th>\n",
       "      <td>-0.043908</td>\n",
       "      <td>-0.014582</td>\n",
       "      <td>-0.044041</td>\n",
       "      <td>-0.030555</td>\n",
       "      <td>0.008859</td>\n",
       "      <td>1.000000</td>\n",
       "    </tr>\n",
       "  </tbody>\n",
       "</table>\n",
       "</div>"
      ],
      "text/plain": [
       "               5Y       13W       10Y       30Y     Price   percent\n",
       "5Y       1.000000  0.845236  0.873464  0.558355  0.252399 -0.043908\n",
       "13W      0.845236  1.000000  0.602057  0.270711  0.315393 -0.014582\n",
       "10Y      0.873464  0.602057  1.000000  0.886528  0.006911 -0.044041\n",
       "30Y      0.558355  0.270711  0.886528  1.000000 -0.246094 -0.030555\n",
       "Price    0.252399  0.315393  0.006911 -0.246094  1.000000  0.008859\n",
       "percent -0.043908 -0.014582 -0.044041 -0.030555  0.008859  1.000000"
      ]
     },
     "execution_count": 55,
     "metadata": {},
     "output_type": "execute_result"
    }
   ],
   "source": [
    "df_daily.corr()"
   ]
  },
  {
   "cell_type": "code",
   "execution_count": 58,
   "metadata": {},
   "outputs": [
    {
     "name": "stdout",
     "output_type": "stream",
     "text": [
      "- 5Y : PearsonRResult(statistic=-0.04390762589217285, pvalue=0.011499310052681361)\n",
      "\n",
      "- 13W : PearsonRResult(statistic=-0.014581605071994462, pvalue=0.4015260562047477)\n",
      "\n",
      "- 10Y : PearsonRResult(statistic=-0.04404058951037111, pvalue=0.011250895040867818)\n",
      "\n",
      "- 30Y : PearsonRResult(statistic=-0.030555426903865084, pvalue=0.07871163614858359)\n",
      "\n",
      "- Price : PearsonRResult(statistic=0.008859090890448179, pvalue=0.6102910587595763)\n",
      "\n",
      "- percent : PearsonRResult(statistic=1.0, pvalue=0.0)\n",
      "\n"
     ]
    }
   ],
   "source": [
    "# Pearson's correlation\n",
    "\n",
    "cols = df_daily.columns[df_daily.columns != (\"Price\", \"percent\")]\n",
    "\n",
    "for col in cols:\n",
    "    corr = stats.pearsonr(df_daily[\"percent\"], df_daily[col])\n",
    "    print(\"-\", col, \":\", corr)\n",
    "    print(\"\")"
   ]
  },
  {
   "cell_type": "markdown",
   "metadata": {},
   "source": [
    "5Y, 10Y slightly negative correlation"
   ]
  },
  {
   "cell_type": "markdown",
   "metadata": {},
   "source": [
    "### Monthly data"
   ]
  },
  {
   "cell_type": "code",
   "execution_count": 62,
   "metadata": {},
   "outputs": [
    {
     "data": {
      "text/html": [
       "<div>\n",
       "<style scoped>\n",
       "    .dataframe tbody tr th:only-of-type {\n",
       "        vertical-align: middle;\n",
       "    }\n",
       "\n",
       "    .dataframe tbody tr th {\n",
       "        vertical-align: top;\n",
       "    }\n",
       "\n",
       "    .dataframe thead th {\n",
       "        text-align: right;\n",
       "    }\n",
       "</style>\n",
       "<table border=\"1\" class=\"dataframe\">\n",
       "  <thead>\n",
       "    <tr style=\"text-align: right;\">\n",
       "      <th></th>\n",
       "      <th>FEDFUNDS</th>\n",
       "      <th>5Y</th>\n",
       "      <th>13W</th>\n",
       "      <th>10Y</th>\n",
       "      <th>30Y</th>\n",
       "      <th>Price</th>\n",
       "      <th>percent</th>\n",
       "    </tr>\n",
       "  </thead>\n",
       "  <tbody>\n",
       "    <tr>\n",
       "      <th>2010-10-01 00:00:00+00:00</th>\n",
       "      <td>0.19</td>\n",
       "      <td>1.271</td>\n",
       "      <td>0.150</td>\n",
       "      <td>2.526</td>\n",
       "      <td>3.721</td>\n",
       "      <td>1.373333</td>\n",
       "      <td>0.733496</td>\n",
       "    </tr>\n",
       "    <tr>\n",
       "      <th>2010-11-01 00:00:00+00:00</th>\n",
       "      <td>0.19</td>\n",
       "      <td>1.163</td>\n",
       "      <td>0.105</td>\n",
       "      <td>2.628</td>\n",
       "      <td>4.017</td>\n",
       "      <td>1.427333</td>\n",
       "      <td>3.932041</td>\n",
       "    </tr>\n",
       "    <tr>\n",
       "      <th>2010-12-01 00:00:00+00:00</th>\n",
       "      <td>0.18</td>\n",
       "      <td>1.622</td>\n",
       "      <td>0.155</td>\n",
       "      <td>2.964</td>\n",
       "      <td>4.237</td>\n",
       "      <td>2.290000</td>\n",
       "      <td>60.439082</td>\n",
       "    </tr>\n",
       "    <tr>\n",
       "      <th>2011-02-01 00:00:00+00:00</th>\n",
       "      <td>0.16</td>\n",
       "      <td>2.021</td>\n",
       "      <td>0.150</td>\n",
       "      <td>3.443</td>\n",
       "      <td>4.613</td>\n",
       "      <td>1.594000</td>\n",
       "      <td>-30.393013</td>\n",
       "    </tr>\n",
       "    <tr>\n",
       "      <th>2011-03-01 00:00:00+00:00</th>\n",
       "      <td>0.14</td>\n",
       "      <td>2.118</td>\n",
       "      <td>0.130</td>\n",
       "      <td>3.414</td>\n",
       "      <td>4.490</td>\n",
       "      <td>1.596000</td>\n",
       "      <td>0.125469</td>\n",
       "    </tr>\n",
       "  </tbody>\n",
       "</table>\n",
       "</div>"
      ],
      "text/plain": [
       "                           FEDFUNDS     5Y    13W    10Y    30Y     Price  \\\n",
       "2010-10-01 00:00:00+00:00      0.19  1.271  0.150  2.526  3.721  1.373333   \n",
       "2010-11-01 00:00:00+00:00      0.19  1.163  0.105  2.628  4.017  1.427333   \n",
       "2010-12-01 00:00:00+00:00      0.18  1.622  0.155  2.964  4.237  2.290000   \n",
       "2011-02-01 00:00:00+00:00      0.16  2.021  0.150  3.443  4.613  1.594000   \n",
       "2011-03-01 00:00:00+00:00      0.14  2.118  0.130  3.414  4.490  1.596000   \n",
       "\n",
       "                             percent  \n",
       "2010-10-01 00:00:00+00:00   0.733496  \n",
       "2010-11-01 00:00:00+00:00   3.932041  \n",
       "2010-12-01 00:00:00+00:00  60.439082  \n",
       "2011-02-01 00:00:00+00:00 -30.393013  \n",
       "2011-03-01 00:00:00+00:00   0.125469  "
      ]
     },
     "execution_count": 62,
     "metadata": {},
     "output_type": "execute_result"
    }
   ],
   "source": [
    "# add price change rate\n",
    "\n",
    "df_monthly[\"percent\"] = df_monthly[\"Price\"].pct_change() * 100\n",
    "df_monthly.dropna(inplace=True)\n",
    "df_monthly.head()"
   ]
  },
  {
   "cell_type": "code",
   "execution_count": 64,
   "metadata": {},
   "outputs": [
    {
     "data": {
      "text/html": [
       "<div>\n",
       "<style scoped>\n",
       "    .dataframe tbody tr th:only-of-type {\n",
       "        vertical-align: middle;\n",
       "    }\n",
       "\n",
       "    .dataframe tbody tr th {\n",
       "        vertical-align: top;\n",
       "    }\n",
       "\n",
       "    .dataframe thead th {\n",
       "        text-align: right;\n",
       "    }\n",
       "</style>\n",
       "<table border=\"1\" class=\"dataframe\">\n",
       "  <thead>\n",
       "    <tr style=\"text-align: right;\">\n",
       "      <th></th>\n",
       "      <th>FEDFUNDS</th>\n",
       "      <th>5Y</th>\n",
       "      <th>13W</th>\n",
       "      <th>10Y</th>\n",
       "      <th>30Y</th>\n",
       "      <th>Price</th>\n",
       "      <th>percent</th>\n",
       "    </tr>\n",
       "  </thead>\n",
       "  <tbody>\n",
       "    <tr>\n",
       "      <th>FEDFUNDS</th>\n",
       "      <td>1.000000</td>\n",
       "      <td>0.830586</td>\n",
       "      <td>0.997616</td>\n",
       "      <td>0.592111</td>\n",
       "      <td>0.268987</td>\n",
       "      <td>0.210784</td>\n",
       "      <td>-0.195934</td>\n",
       "    </tr>\n",
       "    <tr>\n",
       "      <th>5Y</th>\n",
       "      <td>0.830586</td>\n",
       "      <td>1.000000</td>\n",
       "      <td>0.838478</td>\n",
       "      <td>0.870380</td>\n",
       "      <td>0.550926</td>\n",
       "      <td>0.181187</td>\n",
       "      <td>-0.271108</td>\n",
       "    </tr>\n",
       "    <tr>\n",
       "      <th>13W</th>\n",
       "      <td>0.997616</td>\n",
       "      <td>0.838478</td>\n",
       "      <td>1.000000</td>\n",
       "      <td>0.595674</td>\n",
       "      <td>0.266049</td>\n",
       "      <td>0.236217</td>\n",
       "      <td>-0.191609</td>\n",
       "    </tr>\n",
       "    <tr>\n",
       "      <th>10Y</th>\n",
       "      <td>0.592111</td>\n",
       "      <td>0.870380</td>\n",
       "      <td>0.595674</td>\n",
       "      <td>1.000000</td>\n",
       "      <td>0.885253</td>\n",
       "      <td>-0.074675</td>\n",
       "      <td>-0.260707</td>\n",
       "    </tr>\n",
       "    <tr>\n",
       "      <th>30Y</th>\n",
       "      <td>0.268987</td>\n",
       "      <td>0.550926</td>\n",
       "      <td>0.266049</td>\n",
       "      <td>0.885253</td>\n",
       "      <td>1.000000</td>\n",
       "      <td>-0.328438</td>\n",
       "      <td>-0.192604</td>\n",
       "    </tr>\n",
       "    <tr>\n",
       "      <th>Price</th>\n",
       "      <td>0.210784</td>\n",
       "      <td>0.181187</td>\n",
       "      <td>0.236217</td>\n",
       "      <td>-0.074675</td>\n",
       "      <td>-0.328438</td>\n",
       "      <td>1.000000</td>\n",
       "      <td>0.034198</td>\n",
       "    </tr>\n",
       "    <tr>\n",
       "      <th>percent</th>\n",
       "      <td>-0.195934</td>\n",
       "      <td>-0.271108</td>\n",
       "      <td>-0.191609</td>\n",
       "      <td>-0.260707</td>\n",
       "      <td>-0.192604</td>\n",
       "      <td>0.034198</td>\n",
       "      <td>1.000000</td>\n",
       "    </tr>\n",
       "  </tbody>\n",
       "</table>\n",
       "</div>"
      ],
      "text/plain": [
       "          FEDFUNDS        5Y       13W       10Y       30Y     Price   percent\n",
       "FEDFUNDS  1.000000  0.830586  0.997616  0.592111  0.268987  0.210784 -0.195934\n",
       "5Y        0.830586  1.000000  0.838478  0.870380  0.550926  0.181187 -0.271108\n",
       "13W       0.997616  0.838478  1.000000  0.595674  0.266049  0.236217 -0.191609\n",
       "10Y       0.592111  0.870380  0.595674  1.000000  0.885253 -0.074675 -0.260707\n",
       "30Y       0.268987  0.550926  0.266049  0.885253  1.000000 -0.328438 -0.192604\n",
       "Price     0.210784  0.181187  0.236217 -0.074675 -0.328438  1.000000  0.034198\n",
       "percent  -0.195934 -0.271108 -0.191609 -0.260707 -0.192604  0.034198  1.000000"
      ]
     },
     "execution_count": 64,
     "metadata": {},
     "output_type": "execute_result"
    }
   ],
   "source": [
    "df_monthly.corr()"
   ]
  },
  {
   "cell_type": "code",
   "execution_count": 65,
   "metadata": {},
   "outputs": [
    {
     "name": "stdout",
     "output_type": "stream",
     "text": [
      "- 5Y : PearsonRResult(statistic=-0.04390762589217285, pvalue=0.011499310052681361)\n",
      "\n",
      "- 13W : PearsonRResult(statistic=-0.014581605071994462, pvalue=0.4015260562047477)\n",
      "\n",
      "- 10Y : PearsonRResult(statistic=-0.04404058951037111, pvalue=0.011250895040867818)\n",
      "\n",
      "- 30Y : PearsonRResult(statistic=-0.030555426903865084, pvalue=0.07871163614858359)\n",
      "\n",
      "- Price : PearsonRResult(statistic=0.008859090890448179, pvalue=0.6102910587595763)\n",
      "\n",
      "- percent : PearsonRResult(statistic=1.0, pvalue=0.0)\n",
      "\n"
     ]
    }
   ],
   "source": [
    "# Peason's correlation\n",
    "\n",
    "cols = df_daily.columns[df_daily.columns != (\"Price\", \"percent\")]\n",
    "\n",
    "for col in cols:\n",
    "    corr = stats.pearsonr(df_daily[\"percent\"], df_daily[col])\n",
    "    print(\"-\", col, \":\", corr)\n",
    "    print(\"\")"
   ]
  },
  {
   "cell_type": "markdown",
   "metadata": {},
   "source": [
    "### Conclusion"
   ]
  },
  {
   "cell_type": "markdown",
   "metadata": {},
   "source": [
    "5Y, 10Y slightly negative correlation - very similar to daily data"
   ]
  },
  {
   "cell_type": "markdown",
   "metadata": {},
   "source": [
    "## Rolling data analysis"
   ]
  }
 ],
 "metadata": {
  "kernelspec": {
   "display_name": "finance",
   "language": "python",
   "name": "python3"
  },
  "language_info": {
   "codemirror_mode": {
    "name": "ipython",
    "version": 3
   },
   "file_extension": ".py",
   "mimetype": "text/x-python",
   "name": "python",
   "nbconvert_exporter": "python",
   "pygments_lexer": "ipython3",
   "version": "3.11.4"
  },
  "orig_nbformat": 4
 },
 "nbformat": 4,
 "nbformat_minor": 2
}
