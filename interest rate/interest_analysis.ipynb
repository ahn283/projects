{
 "cells": [
  {
   "cell_type": "markdown",
   "metadata": {},
   "source": [
    "# Data preparation"
   ]
  },
  {
   "cell_type": "code",
   "execution_count": 1,
   "metadata": {},
   "outputs": [],
   "source": [
    "import pandas as pd\n",
    "import numpy as np\n",
    "import yfinance as yf\n",
    "import matplotlib.pyplot as plt\n",
    "import seaborn as sns\n",
    "\n",
    "import scipy.stats as stats"
   ]
  },
  {
   "cell_type": "markdown",
   "metadata": {},
   "source": [
    "## Treasury bond rates"
   ]
  },
  {
   "cell_type": "markdown",
   "metadata": {},
   "source": [
    "https://finance.yahoo.com/bonds/\n",
    "\n",
    "- ^IRX : 13 week Treasury Bill\n",
    "- ^FVX : Treasury Yield 5 years\n",
    "- ^TNX : Treasury Yield 10 years\n",
    "- ^TYX : Treasury Yield 30 years\n",
    "\n",
    "- Scale : %\n",
    "- frequency : daily (B)"
   ]
  },
  {
   "cell_type": "code",
   "execution_count": 2,
   "metadata": {},
   "outputs": [
    {
     "name": "stdout",
     "output_type": "stream",
     "text": [
      "[*********************100%***********************]  4 of 4 completed\n"
     ]
    },
    {
     "data": {
      "text/html": [
       "<div>\n",
       "<style scoped>\n",
       "    .dataframe tbody tr th:only-of-type {\n",
       "        vertical-align: middle;\n",
       "    }\n",
       "\n",
       "    .dataframe tbody tr th {\n",
       "        vertical-align: top;\n",
       "    }\n",
       "\n",
       "    .dataframe thead th {\n",
       "        text-align: right;\n",
       "    }\n",
       "</style>\n",
       "<table border=\"1\" class=\"dataframe\">\n",
       "  <thead>\n",
       "    <tr style=\"text-align: right;\">\n",
       "      <th></th>\n",
       "      <th>5Y</th>\n",
       "      <th>13W</th>\n",
       "      <th>10Y</th>\n",
       "      <th>30Y</th>\n",
       "    </tr>\n",
       "    <tr>\n",
       "      <th>Date</th>\n",
       "      <th></th>\n",
       "      <th></th>\n",
       "      <th></th>\n",
       "      <th></th>\n",
       "    </tr>\n",
       "  </thead>\n",
       "  <tbody>\n",
       "    <tr>\n",
       "      <th>2023-08-28</th>\n",
       "      <td>4.412</td>\n",
       "      <td>5.323</td>\n",
       "      <td>4.212</td>\n",
       "      <td>4.291</td>\n",
       "    </tr>\n",
       "    <tr>\n",
       "      <th>2023-08-29</th>\n",
       "      <td>4.277</td>\n",
       "      <td>5.320</td>\n",
       "      <td>4.122</td>\n",
       "      <td>4.237</td>\n",
       "    </tr>\n",
       "    <tr>\n",
       "      <th>2023-08-30</th>\n",
       "      <td>4.273</td>\n",
       "      <td>5.315</td>\n",
       "      <td>4.118</td>\n",
       "      <td>4.228</td>\n",
       "    </tr>\n",
       "    <tr>\n",
       "      <th>2023-08-31</th>\n",
       "      <td>4.244</td>\n",
       "      <td>5.298</td>\n",
       "      <td>4.093</td>\n",
       "      <td>4.204</td>\n",
       "    </tr>\n",
       "    <tr>\n",
       "      <th>2023-09-01</th>\n",
       "      <td>4.291</td>\n",
       "      <td>5.268</td>\n",
       "      <td>4.173</td>\n",
       "      <td>4.285</td>\n",
       "    </tr>\n",
       "  </tbody>\n",
       "</table>\n",
       "</div>"
      ],
      "text/plain": [
       "               5Y    13W    10Y    30Y\n",
       "Date                                  \n",
       "2023-08-28  4.412  5.323  4.212  4.291\n",
       "2023-08-29  4.277  5.320  4.122  4.237\n",
       "2023-08-30  4.273  5.315  4.118  4.228\n",
       "2023-08-31  4.244  5.298  4.093  4.204\n",
       "2023-09-01  4.291  5.268  4.173  4.285"
      ]
     },
     "execution_count": 2,
     "metadata": {},
     "output_type": "execute_result"
    }
   ],
   "source": [
    "treasury_bonds = [\"^IRX\", \"^FVX\", \"^TNX\", \"^TYX\"]\n",
    "\n",
    "tb = yf.Tickers(treasury_bonds)\n",
    "df_tb = tb.history(period=\"max\")[\"Close\"]\n",
    "\n",
    "df_tb.rename(columns={\"^IRX\":\"13W\", \"^FVX\":\"5Y\", \"^TNX\":\"10Y\", \"^TYX\":\"30Y\"}, inplace=True)\n",
    "df_tb.tail()"
   ]
  },
  {
   "cell_type": "markdown",
   "metadata": {},
   "source": [
    "## Tesla stock price"
   ]
  },
  {
   "cell_type": "code",
   "execution_count": 3,
   "metadata": {},
   "outputs": [
    {
     "data": {
      "text/html": [
       "<div>\n",
       "<style scoped>\n",
       "    .dataframe tbody tr th:only-of-type {\n",
       "        vertical-align: middle;\n",
       "    }\n",
       "\n",
       "    .dataframe tbody tr th {\n",
       "        vertical-align: top;\n",
       "    }\n",
       "\n",
       "    .dataframe thead th {\n",
       "        text-align: right;\n",
       "    }\n",
       "</style>\n",
       "<table border=\"1\" class=\"dataframe\">\n",
       "  <thead>\n",
       "    <tr style=\"text-align: right;\">\n",
       "      <th></th>\n",
       "      <th>Close</th>\n",
       "    </tr>\n",
       "    <tr>\n",
       "      <th>Date</th>\n",
       "      <th></th>\n",
       "    </tr>\n",
       "  </thead>\n",
       "  <tbody>\n",
       "    <tr>\n",
       "      <th>2023-08-28 00:00:00-04:00</th>\n",
       "      <td>238.820007</td>\n",
       "    </tr>\n",
       "    <tr>\n",
       "      <th>2023-08-29 00:00:00-04:00</th>\n",
       "      <td>257.179993</td>\n",
       "    </tr>\n",
       "    <tr>\n",
       "      <th>2023-08-30 00:00:00-04:00</th>\n",
       "      <td>256.899994</td>\n",
       "    </tr>\n",
       "    <tr>\n",
       "      <th>2023-08-31 00:00:00-04:00</th>\n",
       "      <td>258.079987</td>\n",
       "    </tr>\n",
       "    <tr>\n",
       "      <th>2023-09-01 00:00:00-04:00</th>\n",
       "      <td>245.009995</td>\n",
       "    </tr>\n",
       "  </tbody>\n",
       "</table>\n",
       "</div>"
      ],
      "text/plain": [
       "                                Close\n",
       "Date                                 \n",
       "2023-08-28 00:00:00-04:00  238.820007\n",
       "2023-08-29 00:00:00-04:00  257.179993\n",
       "2023-08-30 00:00:00-04:00  256.899994\n",
       "2023-08-31 00:00:00-04:00  258.079987\n",
       "2023-09-01 00:00:00-04:00  245.009995"
      ]
     },
     "execution_count": 3,
     "metadata": {},
     "output_type": "execute_result"
    }
   ],
   "source": [
    "tesla = yf.Ticker(\"TSLA\")\n",
    "df_tesla = tesla.history(period=\"max\")[[\"Close\"]]\n",
    "df_tesla.tail()"
   ]
  },
  {
   "cell_type": "markdown",
   "metadata": {},
   "source": [
    "## FED Fund rates\n",
    "\n",
    "- Source : https://fred.stlouisfed.org/series/FEDFUNDS\n",
    "- frequency : monthly\n",
    "- path : './datasets/FEDFUNDS.csv'"
   ]
  },
  {
   "cell_type": "code",
   "execution_count": 4,
   "metadata": {},
   "outputs": [
    {
     "data": {
      "text/html": [
       "<div>\n",
       "<style scoped>\n",
       "    .dataframe tbody tr th:only-of-type {\n",
       "        vertical-align: middle;\n",
       "    }\n",
       "\n",
       "    .dataframe tbody tr th {\n",
       "        vertical-align: top;\n",
       "    }\n",
       "\n",
       "    .dataframe thead th {\n",
       "        text-align: right;\n",
       "    }\n",
       "</style>\n",
       "<table border=\"1\" class=\"dataframe\">\n",
       "  <thead>\n",
       "    <tr style=\"text-align: right;\">\n",
       "      <th></th>\n",
       "      <th>FEDFUNDS</th>\n",
       "    </tr>\n",
       "    <tr>\n",
       "      <th>DATE</th>\n",
       "      <th></th>\n",
       "    </tr>\n",
       "  </thead>\n",
       "  <tbody>\n",
       "    <tr>\n",
       "      <th>1954-07-01 00:00:00+00:00</th>\n",
       "      <td>0.80</td>\n",
       "    </tr>\n",
       "    <tr>\n",
       "      <th>1954-08-01 00:00:00+00:00</th>\n",
       "      <td>1.22</td>\n",
       "    </tr>\n",
       "    <tr>\n",
       "      <th>1954-09-01 00:00:00+00:00</th>\n",
       "      <td>1.07</td>\n",
       "    </tr>\n",
       "    <tr>\n",
       "      <th>1954-10-01 00:00:00+00:00</th>\n",
       "      <td>0.85</td>\n",
       "    </tr>\n",
       "    <tr>\n",
       "      <th>1954-11-01 00:00:00+00:00</th>\n",
       "      <td>0.83</td>\n",
       "    </tr>\n",
       "  </tbody>\n",
       "</table>\n",
       "</div>"
      ],
      "text/plain": [
       "                           FEDFUNDS\n",
       "DATE                               \n",
       "1954-07-01 00:00:00+00:00      0.80\n",
       "1954-08-01 00:00:00+00:00      1.22\n",
       "1954-09-01 00:00:00+00:00      1.07\n",
       "1954-10-01 00:00:00+00:00      0.85\n",
       "1954-11-01 00:00:00+00:00      0.83"
      ]
     },
     "execution_count": 4,
     "metadata": {},
     "output_type": "execute_result"
    }
   ],
   "source": [
    "df_fed = pd.read_csv('./datasets/FEDFUNDS.csv')\n",
    "\n",
    "# set \"DATE\" column to index\n",
    "df_fed.set_index(\"DATE\", inplace=True)\n",
    "# convert index to datetime index\n",
    "df_fed.index = pd.to_datetime(df_fed.index, utc=True)\n",
    "\n",
    "df_fed.head()"
   ]
  },
  {
   "cell_type": "markdown",
   "metadata": {},
   "source": [
    "## Integrate dataframes"
   ]
  },
  {
   "cell_type": "markdown",
   "metadata": {},
   "source": [
    "### Daily data"
   ]
  },
  {
   "cell_type": "code",
   "execution_count": 5,
   "metadata": {},
   "outputs": [
    {
     "data": {
      "text/html": [
       "<div>\n",
       "<style scoped>\n",
       "    .dataframe tbody tr th:only-of-type {\n",
       "        vertical-align: middle;\n",
       "    }\n",
       "\n",
       "    .dataframe tbody tr th {\n",
       "        vertical-align: top;\n",
       "    }\n",
       "\n",
       "    .dataframe thead th {\n",
       "        text-align: right;\n",
       "    }\n",
       "</style>\n",
       "<table border=\"1\" class=\"dataframe\">\n",
       "  <thead>\n",
       "    <tr style=\"text-align: right;\">\n",
       "      <th></th>\n",
       "      <th>5Y</th>\n",
       "      <th>13W</th>\n",
       "      <th>10Y</th>\n",
       "      <th>30Y</th>\n",
       "      <th>Price</th>\n",
       "    </tr>\n",
       "    <tr>\n",
       "      <th>Date</th>\n",
       "      <th></th>\n",
       "      <th></th>\n",
       "      <th></th>\n",
       "      <th></th>\n",
       "      <th></th>\n",
       "    </tr>\n",
       "  </thead>\n",
       "  <tbody>\n",
       "    <tr>\n",
       "      <th>2010-06-29 00:00:00+00:00</th>\n",
       "      <td>1.786</td>\n",
       "      <td>0.160</td>\n",
       "      <td>2.967</td>\n",
       "      <td>3.946</td>\n",
       "      <td>1.592667</td>\n",
       "    </tr>\n",
       "    <tr>\n",
       "      <th>2010-06-30 00:00:00+00:00</th>\n",
       "      <td>1.795</td>\n",
       "      <td>0.170</td>\n",
       "      <td>2.951</td>\n",
       "      <td>3.909</td>\n",
       "      <td>1.588667</td>\n",
       "    </tr>\n",
       "    <tr>\n",
       "      <th>2010-07-01 00:00:00+00:00</th>\n",
       "      <td>1.795</td>\n",
       "      <td>0.165</td>\n",
       "      <td>2.927</td>\n",
       "      <td>3.868</td>\n",
       "      <td>1.464000</td>\n",
       "    </tr>\n",
       "    <tr>\n",
       "      <th>2010-07-02 00:00:00+00:00</th>\n",
       "      <td>1.812</td>\n",
       "      <td>0.160</td>\n",
       "      <td>2.979</td>\n",
       "      <td>3.941</td>\n",
       "      <td>1.280000</td>\n",
       "    </tr>\n",
       "    <tr>\n",
       "      <th>2010-07-06 00:00:00+00:00</th>\n",
       "      <td>1.760</td>\n",
       "      <td>0.160</td>\n",
       "      <td>2.932</td>\n",
       "      <td>3.892</td>\n",
       "      <td>1.074000</td>\n",
       "    </tr>\n",
       "  </tbody>\n",
       "</table>\n",
       "</div>"
      ],
      "text/plain": [
       "                              5Y    13W    10Y    30Y     Price\n",
       "Date                                                           \n",
       "2010-06-29 00:00:00+00:00  1.786  0.160  2.967  3.946  1.592667\n",
       "2010-06-30 00:00:00+00:00  1.795  0.170  2.951  3.909  1.588667\n",
       "2010-07-01 00:00:00+00:00  1.795  0.165  2.927  3.868  1.464000\n",
       "2010-07-02 00:00:00+00:00  1.812  0.160  2.979  3.941  1.280000\n",
       "2010-07-06 00:00:00+00:00  1.760  0.160  2.932  3.892  1.074000"
      ]
     },
     "execution_count": 5,
     "metadata": {},
     "output_type": "execute_result"
    }
   ],
   "source": [
    "df_tb.index = pd.to_datetime(df_tb.index, utc=True).strftime(\"%Y-%m-%d\")\n",
    "df_tesla.index = pd.to_datetime(df_tesla.index, utc=True).strftime(\"%Y-%m-%d\")\n",
    "\n",
    "df_daily = pd.merge(df_tb, df_tesla, how=\"inner\", left_index=True, right_index=True)\n",
    "df_daily.rename(columns={\"Close\":\"Price\"}, inplace=True)\n",
    "df_daily.index = pd.to_datetime(df_daily.index, utc=True)\n",
    "df_daily.head()"
   ]
  },
  {
   "cell_type": "code",
   "execution_count": 6,
   "metadata": {},
   "outputs": [
    {
     "data": {
      "image/png": "[encoded data removed]",
      "text/plain": [
       "<Figure size 640x480 with 2 Axes>"
      ]
     },
     "metadata": {},
     "output_type": "display_data"
    }
   ],
   "source": [
    "fig, ax1 = plt.subplots()\n",
    "\n",
    "color = 'tab:red'\n",
    "ax1.set_xlabel('tesla')\n",
    "ax1.set_ylabel('$', color=color)\n",
    "ax1.plot(df_daily.index, df_daily[\"Price\"], color=color)\n",
    "\n",
    "ax2 = ax1.twinx()\n",
    "\n",
    "color = 'tab:blue'\n",
    "ax2.set_ylabel('FED rates')\n",
    "ax2.plot(df_daily.index, df_daily[[\"5Y\", \"13W\", \"10Y\", \"30Y\"]])\n",
    "\n",
    "fig.tight_layout()\n",
    "sns.despine()"
   ]
  },
  {
   "cell_type": "code",
   "execution_count": 7,
   "metadata": {},
   "outputs": [
    {
     "data": {
      "text/html": [
       "<div>\n",
       "<style scoped>\n",
       "    .dataframe tbody tr th:only-of-type {\n",
       "        vertical-align: middle;\n",
       "    }\n",
       "\n",
       "    .dataframe tbody tr th {\n",
       "        vertical-align: top;\n",
       "    }\n",
       "\n",
       "    .dataframe thead th {\n",
       "        text-align: right;\n",
       "    }\n",
       "</style>\n",
       "<table border=\"1\" class=\"dataframe\">\n",
       "  <thead>\n",
       "    <tr style=\"text-align: right;\">\n",
       "      <th></th>\n",
       "      <th>FEDFUNDS</th>\n",
       "      <th>5Y</th>\n",
       "      <th>13W</th>\n",
       "      <th>10Y</th>\n",
       "      <th>30Y</th>\n",
       "      <th>Price</th>\n",
       "    </tr>\n",
       "  </thead>\n",
       "  <tbody>\n",
       "    <tr>\n",
       "      <th>2010-07-01 00:00:00+00:00</th>\n",
       "      <td>0.18</td>\n",
       "      <td>1.795</td>\n",
       "      <td>0.165</td>\n",
       "      <td>2.927</td>\n",
       "      <td>3.868</td>\n",
       "      <td>1.464000</td>\n",
       "    </tr>\n",
       "    <tr>\n",
       "      <th>2010-09-01 00:00:00+00:00</th>\n",
       "      <td>0.19</td>\n",
       "      <td>1.409</td>\n",
       "      <td>0.130</td>\n",
       "      <td>2.582</td>\n",
       "      <td>3.662</td>\n",
       "      <td>1.363333</td>\n",
       "    </tr>\n",
       "    <tr>\n",
       "      <th>2010-10-01 00:00:00+00:00</th>\n",
       "      <td>0.19</td>\n",
       "      <td>1.271</td>\n",
       "      <td>0.150</td>\n",
       "      <td>2.526</td>\n",
       "      <td>3.721</td>\n",
       "      <td>1.373333</td>\n",
       "    </tr>\n",
       "    <tr>\n",
       "      <th>2010-11-01 00:00:00+00:00</th>\n",
       "      <td>0.19</td>\n",
       "      <td>1.163</td>\n",
       "      <td>0.105</td>\n",
       "      <td>2.628</td>\n",
       "      <td>4.017</td>\n",
       "      <td>1.427333</td>\n",
       "    </tr>\n",
       "    <tr>\n",
       "      <th>2010-12-01 00:00:00+00:00</th>\n",
       "      <td>0.18</td>\n",
       "      <td>1.622</td>\n",
       "      <td>0.155</td>\n",
       "      <td>2.964</td>\n",
       "      <td>4.237</td>\n",
       "      <td>2.290000</td>\n",
       "    </tr>\n",
       "  </tbody>\n",
       "</table>\n",
       "</div>"
      ],
      "text/plain": [
       "                           FEDFUNDS     5Y    13W    10Y    30Y     Price\n",
       "2010-07-01 00:00:00+00:00      0.18  1.795  0.165  2.927  3.868  1.464000\n",
       "2010-09-01 00:00:00+00:00      0.19  1.409  0.130  2.582  3.662  1.363333\n",
       "2010-10-01 00:00:00+00:00      0.19  1.271  0.150  2.526  3.721  1.373333\n",
       "2010-11-01 00:00:00+00:00      0.19  1.163  0.105  2.628  4.017  1.427333\n",
       "2010-12-01 00:00:00+00:00      0.18  1.622  0.155  2.964  4.237  2.290000"
      ]
     },
     "execution_count": 7,
     "metadata": {},
     "output_type": "execute_result"
    }
   ],
   "source": [
    "df_monthly = pd.merge(df_fed, df_daily, how=\"inner\", left_index=True, right_index=True)\n",
    "df_monthly.head()"
   ]
  },
  {
   "cell_type": "code",
   "execution_count": 8,
   "metadata": {},
   "outputs": [
    {
     "data": {
      "image/png": "[encoded data removed]",
      "text/plain": [
       "<Figure size 640x480 with 2 Axes>"
      ]
     },
     "metadata": {},
     "output_type": "display_data"
    }
   ],
   "source": [
    "fig, ax1 = plt.subplots()\n",
    "\n",
    "color = 'tab:red'\n",
    "ax1.set_xlabel('tesla')\n",
    "ax1.set_ylabel('$', color=color)\n",
    "ax1.plot(df_monthly.index, df_monthly[\"Price\"], color=color)\n",
    "\n",
    "ax2 = ax1.twinx()\n",
    "\n",
    "color = 'tab:blue'\n",
    "ax2.set_ylabel('FED rates')\n",
    "ax2.plot(df_monthly.index, df_monthly[[\"5Y\", \"13W\", \"10Y\", \"30Y\", \"FEDFUNDS\"]])\n",
    "\n",
    "fig.tight_layout()\n",
    "sns.despine()"
   ]
  },
  {
   "cell_type": "markdown",
   "metadata": {},
   "source": [
    "# Correlation Analysis"
   ]
  },
  {
   "cell_type": "markdown",
   "metadata": {},
   "source": [
    "## Correlation with Price"
   ]
  },
  {
   "cell_type": "markdown",
   "metadata": {},
   "source": [
    "### Daily data"
   ]
  },
  {
   "cell_type": "code",
   "execution_count": 9,
   "metadata": {},
   "outputs": [
    {
     "data": {
      "text/html": [
       "<div>\n",
       "<style scoped>\n",
       "    .dataframe tbody tr th:only-of-type {\n",
       "        vertical-align: middle;\n",
       "    }\n",
       "\n",
       "    .dataframe tbody tr th {\n",
       "        vertical-align: top;\n",
       "    }\n",
       "\n",
       "    .dataframe thead th {\n",
       "        text-align: right;\n",
       "    }\n",
       "</style>\n",
       "<table border=\"1\" class=\"dataframe\">\n",
       "  <thead>\n",
       "    <tr style=\"text-align: right;\">\n",
       "      <th></th>\n",
       "      <th>5Y</th>\n",
       "      <th>13W</th>\n",
       "      <th>10Y</th>\n",
       "      <th>30Y</th>\n",
       "      <th>Price</th>\n",
       "    </tr>\n",
       "  </thead>\n",
       "  <tbody>\n",
       "    <tr>\n",
       "      <th>5Y</th>\n",
       "      <td>1.000000</td>\n",
       "      <td>0.845532</td>\n",
       "      <td>0.873561</td>\n",
       "      <td>0.558740</td>\n",
       "      <td>0.253429</td>\n",
       "    </tr>\n",
       "    <tr>\n",
       "      <th>13W</th>\n",
       "      <td>0.845532</td>\n",
       "      <td>1.000000</td>\n",
       "      <td>0.602524</td>\n",
       "      <td>0.271381</td>\n",
       "      <td>0.316676</td>\n",
       "    </tr>\n",
       "    <tr>\n",
       "      <th>10Y</th>\n",
       "      <td>0.873561</td>\n",
       "      <td>0.602524</td>\n",
       "      <td>1.000000</td>\n",
       "      <td>0.886655</td>\n",
       "      <td>0.007907</td>\n",
       "    </tr>\n",
       "    <tr>\n",
       "      <th>30Y</th>\n",
       "      <td>0.558740</td>\n",
       "      <td>0.271381</td>\n",
       "      <td>0.886655</td>\n",
       "      <td>1.000000</td>\n",
       "      <td>-0.245222</td>\n",
       "    </tr>\n",
       "    <tr>\n",
       "      <th>Price</th>\n",
       "      <td>0.253429</td>\n",
       "      <td>0.316676</td>\n",
       "      <td>0.007907</td>\n",
       "      <td>-0.245222</td>\n",
       "      <td>1.000000</td>\n",
       "    </tr>\n",
       "  </tbody>\n",
       "</table>\n",
       "</div>"
      ],
      "text/plain": [
       "             5Y       13W       10Y       30Y     Price\n",
       "5Y     1.000000  0.845532  0.873561  0.558740  0.253429\n",
       "13W    0.845532  1.000000  0.602524  0.271381  0.316676\n",
       "10Y    0.873561  0.602524  1.000000  0.886655  0.007907\n",
       "30Y    0.558740  0.271381  0.886655  1.000000 -0.245222\n",
       "Price  0.253429  0.316676  0.007907 -0.245222  1.000000"
      ]
     },
     "execution_count": 9,
     "metadata": {},
     "output_type": "execute_result"
    }
   ],
   "source": [
    "# correlation\n",
    "df_daily.corr()"
   ]
  },
  {
   "cell_type": "code",
   "execution_count": 10,
   "metadata": {},
   "outputs": [
    {
     "name": "stdout",
     "output_type": "stream",
     "text": [
      "- 5Y : PearsonRResult(statistic=0.25342859458826344, pvalue=9.566020839999884e-50)\n",
      "\n",
      "- 13W : PearsonRResult(statistic=0.3166758882595264, pvalue=4.130350793787755e-78)\n",
      "\n",
      "- 10Y : PearsonRResult(statistic=0.007907267075387612, pvalue=0.64903405109992)\n",
      "\n",
      "- 30Y : PearsonRResult(statistic=-0.24522219695384073, pvalue=1.3614373131437018e-46)\n",
      "\n"
     ]
    }
   ],
   "source": [
    "# pearson correlation\n",
    "cols = df_daily.columns[df_daily.columns != \"Price\"]\n",
    "for col in cols:\n",
    "    corr = stats.pearsonr(df_daily[\"Price\"], df_daily[col])\n",
    "    print(\"-\", col, \":\", corr)\n",
    "    print(\"\")\n",
    "    "
   ]
  },
  {
   "cell_type": "markdown",
   "metadata": {},
   "source": [
    "### Monthly data"
   ]
  },
  {
   "cell_type": "code",
   "execution_count": 11,
   "metadata": {},
   "outputs": [
    {
     "data": {
      "text/html": [
       "<div>\n",
       "<style scoped>\n",
       "    .dataframe tbody tr th:only-of-type {\n",
       "        vertical-align: middle;\n",
       "    }\n",
       "\n",
       "    .dataframe tbody tr th {\n",
       "        vertical-align: top;\n",
       "    }\n",
       "\n",
       "    .dataframe thead th {\n",
       "        text-align: right;\n",
       "    }\n",
       "</style>\n",
       "<table border=\"1\" class=\"dataframe\">\n",
       "  <thead>\n",
       "    <tr style=\"text-align: right;\">\n",
       "      <th></th>\n",
       "      <th>FEDFUNDS</th>\n",
       "      <th>5Y</th>\n",
       "      <th>13W</th>\n",
       "      <th>10Y</th>\n",
       "      <th>30Y</th>\n",
       "      <th>Price</th>\n",
       "    </tr>\n",
       "  </thead>\n",
       "  <tbody>\n",
       "    <tr>\n",
       "      <th>FEDFUNDS</th>\n",
       "      <td>1.000000</td>\n",
       "      <td>0.828300</td>\n",
       "      <td>0.997624</td>\n",
       "      <td>0.579947</td>\n",
       "      <td>0.253015</td>\n",
       "      <td>0.216192</td>\n",
       "    </tr>\n",
       "    <tr>\n",
       "      <th>5Y</th>\n",
       "      <td>0.828300</td>\n",
       "      <td>1.000000</td>\n",
       "      <td>0.836364</td>\n",
       "      <td>0.865706</td>\n",
       "      <td>0.543306</td>\n",
       "      <td>0.180876</td>\n",
       "    </tr>\n",
       "    <tr>\n",
       "      <th>13W</th>\n",
       "      <td>0.997624</td>\n",
       "      <td>0.836364</td>\n",
       "      <td>1.000000</td>\n",
       "      <td>0.583874</td>\n",
       "      <td>0.250560</td>\n",
       "      <td>0.241281</td>\n",
       "    </tr>\n",
       "    <tr>\n",
       "      <th>10Y</th>\n",
       "      <td>0.579947</td>\n",
       "      <td>0.865706</td>\n",
       "      <td>0.583874</td>\n",
       "      <td>1.000000</td>\n",
       "      <td>0.885427</td>\n",
       "      <td>-0.083016</td>\n",
       "    </tr>\n",
       "    <tr>\n",
       "      <th>30Y</th>\n",
       "      <td>0.253015</td>\n",
       "      <td>0.543306</td>\n",
       "      <td>0.250560</td>\n",
       "      <td>0.885427</td>\n",
       "      <td>1.000000</td>\n",
       "      <td>-0.337444</td>\n",
       "    </tr>\n",
       "    <tr>\n",
       "      <th>Price</th>\n",
       "      <td>0.216192</td>\n",
       "      <td>0.180876</td>\n",
       "      <td>0.241281</td>\n",
       "      <td>-0.083016</td>\n",
       "      <td>-0.337444</td>\n",
       "      <td>1.000000</td>\n",
       "    </tr>\n",
       "  </tbody>\n",
       "</table>\n",
       "</div>"
      ],
      "text/plain": [
       "          FEDFUNDS        5Y       13W       10Y       30Y     Price\n",
       "FEDFUNDS  1.000000  0.828300  0.997624  0.579947  0.253015  0.216192\n",
       "5Y        0.828300  1.000000  0.836364  0.865706  0.543306  0.180876\n",
       "13W       0.997624  0.836364  1.000000  0.583874  0.250560  0.241281\n",
       "10Y       0.579947  0.865706  0.583874  1.000000  0.885427 -0.083016\n",
       "30Y       0.253015  0.543306  0.250560  0.885427  1.000000 -0.337444\n",
       "Price     0.216192  0.180876  0.241281 -0.083016 -0.337444  1.000000"
      ]
     },
     "execution_count": 11,
     "metadata": {},
     "output_type": "execute_result"
    }
   ],
   "source": [
    "df_monthly.corr()"
   ]
  },
  {
   "cell_type": "code",
   "execution_count": 12,
   "metadata": {},
   "outputs": [
    {
     "name": "stdout",
     "output_type": "stream",
     "text": [
      "- 5Y : PearsonRResult(statistic=0.25342859458826344, pvalue=9.566020839999884e-50)\n",
      "\n",
      "- 13W : PearsonRResult(statistic=0.3166758882595264, pvalue=4.130350793787755e-78)\n",
      "\n",
      "- 10Y : PearsonRResult(statistic=0.007907267075387612, pvalue=0.64903405109992)\n",
      "\n",
      "- 30Y : PearsonRResult(statistic=-0.24522219695384073, pvalue=1.3614373131437018e-46)\n",
      "\n"
     ]
    }
   ],
   "source": [
    "# Pearson correlation\n",
    "cols = df_daily.columns[df_daily.columns != \"Price\"]\n",
    "\n",
    "for col in cols:\n",
    "    corr = stats.pearsonr(df_daily[\"Price\"], df_daily[col])\n",
    "    print(\"-\", col, \":\", corr)\n",
    "    print(\"\")"
   ]
  },
  {
   "cell_type": "markdown",
   "metadata": {},
   "source": [
    "### Conclusion\n",
    "\n",
    "There are no correlations between prices and interest rates."
   ]
  },
  {
   "cell_type": "markdown",
   "metadata": {},
   "source": [
    "## Correaltion with Price change rate"
   ]
  },
  {
   "cell_type": "markdown",
   "metadata": {},
   "source": [
    "### Daily data"
   ]
  },
  {
   "cell_type": "code",
   "execution_count": 13,
   "metadata": {},
   "outputs": [
    {
     "data": {
      "text/html": [
       "<div>\n",
       "<style scoped>\n",
       "    .dataframe tbody tr th:only-of-type {\n",
       "        vertical-align: middle;\n",
       "    }\n",
       "\n",
       "    .dataframe tbody tr th {\n",
       "        vertical-align: top;\n",
       "    }\n",
       "\n",
       "    .dataframe thead th {\n",
       "        text-align: right;\n",
       "    }\n",
       "</style>\n",
       "<table border=\"1\" class=\"dataframe\">\n",
       "  <thead>\n",
       "    <tr style=\"text-align: right;\">\n",
       "      <th></th>\n",
       "      <th>5Y</th>\n",
       "      <th>13W</th>\n",
       "      <th>10Y</th>\n",
       "      <th>30Y</th>\n",
       "      <th>Price</th>\n",
       "      <th>percent</th>\n",
       "    </tr>\n",
       "    <tr>\n",
       "      <th>Date</th>\n",
       "      <th></th>\n",
       "      <th></th>\n",
       "      <th></th>\n",
       "      <th></th>\n",
       "      <th></th>\n",
       "      <th></th>\n",
       "    </tr>\n",
       "  </thead>\n",
       "  <tbody>\n",
       "    <tr>\n",
       "      <th>2010-06-30 00:00:00+00:00</th>\n",
       "      <td>1.795</td>\n",
       "      <td>0.170</td>\n",
       "      <td>2.951</td>\n",
       "      <td>3.909</td>\n",
       "      <td>1.588667</td>\n",
       "      <td>-0.251148</td>\n",
       "    </tr>\n",
       "    <tr>\n",
       "      <th>2010-07-01 00:00:00+00:00</th>\n",
       "      <td>1.795</td>\n",
       "      <td>0.165</td>\n",
       "      <td>2.927</td>\n",
       "      <td>3.868</td>\n",
       "      <td>1.464000</td>\n",
       "      <td>-7.847274</td>\n",
       "    </tr>\n",
       "    <tr>\n",
       "      <th>2010-07-02 00:00:00+00:00</th>\n",
       "      <td>1.812</td>\n",
       "      <td>0.160</td>\n",
       "      <td>2.979</td>\n",
       "      <td>3.941</td>\n",
       "      <td>1.280000</td>\n",
       "      <td>-12.568307</td>\n",
       "    </tr>\n",
       "    <tr>\n",
       "      <th>2010-07-06 00:00:00+00:00</th>\n",
       "      <td>1.760</td>\n",
       "      <td>0.160</td>\n",
       "      <td>2.932</td>\n",
       "      <td>3.892</td>\n",
       "      <td>1.074000</td>\n",
       "      <td>-16.093748</td>\n",
       "    </tr>\n",
       "    <tr>\n",
       "      <th>2010-07-07 00:00:00+00:00</th>\n",
       "      <td>1.776</td>\n",
       "      <td>0.155</td>\n",
       "      <td>2.980</td>\n",
       "      <td>3.954</td>\n",
       "      <td>1.053333</td>\n",
       "      <td>-1.924298</td>\n",
       "    </tr>\n",
       "  </tbody>\n",
       "</table>\n",
       "</div>"
      ],
      "text/plain": [
       "                              5Y    13W    10Y    30Y     Price    percent\n",
       "Date                                                                      \n",
       "2010-06-30 00:00:00+00:00  1.795  0.170  2.951  3.909  1.588667  -0.251148\n",
       "2010-07-01 00:00:00+00:00  1.795  0.165  2.927  3.868  1.464000  -7.847274\n",
       "2010-07-02 00:00:00+00:00  1.812  0.160  2.979  3.941  1.280000 -12.568307\n",
       "2010-07-06 00:00:00+00:00  1.760  0.160  2.932  3.892  1.074000 -16.093748\n",
       "2010-07-07 00:00:00+00:00  1.776  0.155  2.980  3.954  1.053333  -1.924298"
      ]
     },
     "execution_count": 13,
     "metadata": {},
     "output_type": "execute_result"
    }
   ],
   "source": [
    "# add price change percentage into dataframe\n",
    "\n",
    "df_daily[\"percent\"] = df_daily[\"Price\"].pct_change()*100\n",
    "df_daily.dropna(inplace=True)\n",
    "df_daily.head()"
   ]
  },
  {
   "cell_type": "code",
   "execution_count": 14,
   "metadata": {},
   "outputs": [
    {
     "data": {
      "text/plain": [
       "[<matplotlib.lines.Line2D at 0x16c3da910>,\n",
       " <matplotlib.lines.Line2D at 0x1785abf40>,\n",
       " <matplotlib.lines.Line2D at 0x1785abd00>,\n",
       " <matplotlib.lines.Line2D at 0x16c326b80>,\n",
       " <matplotlib.lines.Line2D at 0x16c3f7a90>]"
      ]
     },
     "execution_count": 14,
     "metadata": {},
     "output_type": "execute_result"
    },
    {
     "data": {
      "image/png": "[encoded data removed]",
      "text/plain": [
       "<Figure size 640x480 with 1 Axes>"
      ]
     },
     "metadata": {},
     "output_type": "display_data"
    }
   ],
   "source": [
    "plt.plot(df_daily.index, df_daily[[\"5Y\", \"13W\", \"10Y\", \"30Y\", \"percent\"]])"
   ]
  },
  {
   "cell_type": "code",
   "execution_count": 15,
   "metadata": {},
   "outputs": [
    {
     "data": {
      "text/html": [
       "<div>\n",
       "<style scoped>\n",
       "    .dataframe tbody tr th:only-of-type {\n",
       "        vertical-align: middle;\n",
       "    }\n",
       "\n",
       "    .dataframe tbody tr th {\n",
       "        vertical-align: top;\n",
       "    }\n",
       "\n",
       "    .dataframe thead th {\n",
       "        text-align: right;\n",
       "    }\n",
       "</style>\n",
       "<table border=\"1\" class=\"dataframe\">\n",
       "  <thead>\n",
       "    <tr style=\"text-align: right;\">\n",
       "      <th></th>\n",
       "      <th>5Y</th>\n",
       "      <th>13W</th>\n",
       "      <th>10Y</th>\n",
       "      <th>30Y</th>\n",
       "      <th>Price</th>\n",
       "      <th>percent</th>\n",
       "    </tr>\n",
       "  </thead>\n",
       "  <tbody>\n",
       "    <tr>\n",
       "      <th>5Y</th>\n",
       "      <td>1.000000</td>\n",
       "      <td>0.845585</td>\n",
       "      <td>0.873644</td>\n",
       "      <td>0.558852</td>\n",
       "      <td>0.253466</td>\n",
       "      <td>-0.045089</td>\n",
       "    </tr>\n",
       "    <tr>\n",
       "      <th>13W</th>\n",
       "      <td>0.845585</td>\n",
       "      <td>1.000000</td>\n",
       "      <td>0.602770</td>\n",
       "      <td>0.271681</td>\n",
       "      <td>0.316606</td>\n",
       "      <td>-0.016030</td>\n",
       "    </tr>\n",
       "    <tr>\n",
       "      <th>10Y</th>\n",
       "      <td>0.873644</td>\n",
       "      <td>0.602770</td>\n",
       "      <td>1.000000</td>\n",
       "      <td>0.886638</td>\n",
       "      <td>0.008089</td>\n",
       "      <td>-0.045124</td>\n",
       "    </tr>\n",
       "    <tr>\n",
       "      <th>30Y</th>\n",
       "      <td>0.558852</td>\n",
       "      <td>0.271681</td>\n",
       "      <td>0.886638</td>\n",
       "      <td>1.000000</td>\n",
       "      <td>-0.245039</td>\n",
       "      <td>-0.031377</td>\n",
       "    </tr>\n",
       "    <tr>\n",
       "      <th>Price</th>\n",
       "      <td>0.253466</td>\n",
       "      <td>0.316606</td>\n",
       "      <td>0.008089</td>\n",
       "      <td>-0.245039</td>\n",
       "      <td>1.000000</td>\n",
       "      <td>0.008078</td>\n",
       "    </tr>\n",
       "    <tr>\n",
       "      <th>percent</th>\n",
       "      <td>-0.045089</td>\n",
       "      <td>-0.016030</td>\n",
       "      <td>-0.045124</td>\n",
       "      <td>-0.031377</td>\n",
       "      <td>0.008078</td>\n",
       "      <td>1.000000</td>\n",
       "    </tr>\n",
       "  </tbody>\n",
       "</table>\n",
       "</div>"
      ],
      "text/plain": [
       "               5Y       13W       10Y       30Y     Price   percent\n",
       "5Y       1.000000  0.845585  0.873644  0.558852  0.253466 -0.045089\n",
       "13W      0.845585  1.000000  0.602770  0.271681  0.316606 -0.016030\n",
       "10Y      0.873644  0.602770  1.000000  0.886638  0.008089 -0.045124\n",
       "30Y      0.558852  0.271681  0.886638  1.000000 -0.245039 -0.031377\n",
       "Price    0.253466  0.316606  0.008089 -0.245039  1.000000  0.008078\n",
       "percent -0.045089 -0.016030 -0.045124 -0.031377  0.008078  1.000000"
      ]
     },
     "execution_count": 15,
     "metadata": {},
     "output_type": "execute_result"
    }
   ],
   "source": [
    "df_daily.corr()"
   ]
  },
  {
   "cell_type": "code",
   "execution_count": 16,
   "metadata": {},
   "outputs": [
    {
     "name": "stdout",
     "output_type": "stream",
     "text": [
      "- 5Y : PearsonRResult(statistic=-0.04508889181422493, pvalue=0.00943190527107644)\n",
      "\n",
      "- 13W : PearsonRResult(statistic=-0.01603023555928599, pvalue=0.35625253044615207)\n",
      "\n",
      "- 10Y : PearsonRResult(statistic=-0.04512418816541798, pvalue=0.009376211159922463)\n",
      "\n",
      "- 30Y : PearsonRResult(statistic=-0.03137741865318714, pvalue=0.07090613468798167)\n",
      "\n",
      "- Price : PearsonRResult(statistic=0.00807778108324735, pvalue=0.6420398669324743)\n",
      "\n",
      "- percent : PearsonRResult(statistic=1.0, pvalue=0.0)\n",
      "\n"
     ]
    }
   ],
   "source": [
    "# Pearson's correlation\n",
    "\n",
    "cols = df_daily.columns[df_daily.columns != (\"Price\", \"percent\")]\n",
    "\n",
    "for col in cols:\n",
    "    corr = stats.pearsonr(df_daily[\"percent\"], df_daily[col])\n",
    "    print(\"-\", col, \":\", corr)\n",
    "    print(\"\")"
   ]
  },
  {
   "cell_type": "markdown",
   "metadata": {},
   "source": [
    "5Y, 10Y slightly negative correlation"
   ]
  },
  {
   "cell_type": "markdown",
   "metadata": {},
   "source": [
    "### Monthly data"
   ]
  },
  {
   "cell_type": "code",
   "execution_count": 17,
   "metadata": {},
   "outputs": [
    {
     "data": {
      "text/html": [
       "<div>\n",
       "<style scoped>\n",
       "    .dataframe tbody tr th:only-of-type {\n",
       "        vertical-align: middle;\n",
       "    }\n",
       "\n",
       "    .dataframe tbody tr th {\n",
       "        vertical-align: top;\n",
       "    }\n",
       "\n",
       "    .dataframe thead th {\n",
       "        text-align: right;\n",
       "    }\n",
       "</style>\n",
       "<table border=\"1\" class=\"dataframe\">\n",
       "  <thead>\n",
       "    <tr style=\"text-align: right;\">\n",
       "      <th></th>\n",
       "      <th>FEDFUNDS</th>\n",
       "      <th>5Y</th>\n",
       "      <th>13W</th>\n",
       "      <th>10Y</th>\n",
       "      <th>30Y</th>\n",
       "      <th>Price</th>\n",
       "      <th>percent</th>\n",
       "    </tr>\n",
       "  </thead>\n",
       "  <tbody>\n",
       "    <tr>\n",
       "      <th>2010-09-01 00:00:00+00:00</th>\n",
       "      <td>0.19</td>\n",
       "      <td>1.409</td>\n",
       "      <td>0.130</td>\n",
       "      <td>2.582</td>\n",
       "      <td>3.662</td>\n",
       "      <td>1.363333</td>\n",
       "      <td>-6.876161</td>\n",
       "    </tr>\n",
       "    <tr>\n",
       "      <th>2010-10-01 00:00:00+00:00</th>\n",
       "      <td>0.19</td>\n",
       "      <td>1.271</td>\n",
       "      <td>0.150</td>\n",
       "      <td>2.526</td>\n",
       "      <td>3.721</td>\n",
       "      <td>1.373333</td>\n",
       "      <td>0.733496</td>\n",
       "    </tr>\n",
       "    <tr>\n",
       "      <th>2010-11-01 00:00:00+00:00</th>\n",
       "      <td>0.19</td>\n",
       "      <td>1.163</td>\n",
       "      <td>0.105</td>\n",
       "      <td>2.628</td>\n",
       "      <td>4.017</td>\n",
       "      <td>1.427333</td>\n",
       "      <td>3.932041</td>\n",
       "    </tr>\n",
       "    <tr>\n",
       "      <th>2010-12-01 00:00:00+00:00</th>\n",
       "      <td>0.18</td>\n",
       "      <td>1.622</td>\n",
       "      <td>0.155</td>\n",
       "      <td>2.964</td>\n",
       "      <td>4.237</td>\n",
       "      <td>2.290000</td>\n",
       "      <td>60.439082</td>\n",
       "    </tr>\n",
       "    <tr>\n",
       "      <th>2011-02-01 00:00:00+00:00</th>\n",
       "      <td>0.16</td>\n",
       "      <td>2.021</td>\n",
       "      <td>0.150</td>\n",
       "      <td>3.443</td>\n",
       "      <td>4.613</td>\n",
       "      <td>1.594000</td>\n",
       "      <td>-30.393013</td>\n",
       "    </tr>\n",
       "  </tbody>\n",
       "</table>\n",
       "</div>"
      ],
      "text/plain": [
       "                           FEDFUNDS     5Y    13W    10Y    30Y     Price  \\\n",
       "2010-09-01 00:00:00+00:00      0.19  1.409  0.130  2.582  3.662  1.363333   \n",
       "2010-10-01 00:00:00+00:00      0.19  1.271  0.150  2.526  3.721  1.373333   \n",
       "2010-11-01 00:00:00+00:00      0.19  1.163  0.105  2.628  4.017  1.427333   \n",
       "2010-12-01 00:00:00+00:00      0.18  1.622  0.155  2.964  4.237  2.290000   \n",
       "2011-02-01 00:00:00+00:00      0.16  2.021  0.150  3.443  4.613  1.594000   \n",
       "\n",
       "                             percent  \n",
       "2010-09-01 00:00:00+00:00  -6.876161  \n",
       "2010-10-01 00:00:00+00:00   0.733496  \n",
       "2010-11-01 00:00:00+00:00   3.932041  \n",
       "2010-12-01 00:00:00+00:00  60.439082  \n",
       "2011-02-01 00:00:00+00:00 -30.393013  "
      ]
     },
     "execution_count": 17,
     "metadata": {},
     "output_type": "execute_result"
    }
   ],
   "source": [
    "# add price change rate\n",
    "\n",
    "df_monthly[\"percent\"] = df_monthly[\"Price\"].pct_change() * 100\n",
    "df_monthly.dropna(inplace=True)\n",
    "df_monthly.head()"
   ]
  },
  {
   "cell_type": "code",
   "execution_count": 18,
   "metadata": {},
   "outputs": [
    {
     "data": {
      "text/html": [
       "<div>\n",
       "<style scoped>\n",
       "    .dataframe tbody tr th:only-of-type {\n",
       "        vertical-align: middle;\n",
       "    }\n",
       "\n",
       "    .dataframe tbody tr th {\n",
       "        vertical-align: top;\n",
       "    }\n",
       "\n",
       "    .dataframe thead th {\n",
       "        text-align: right;\n",
       "    }\n",
       "</style>\n",
       "<table border=\"1\" class=\"dataframe\">\n",
       "  <thead>\n",
       "    <tr style=\"text-align: right;\">\n",
       "      <th></th>\n",
       "      <th>FEDFUNDS</th>\n",
       "      <th>5Y</th>\n",
       "      <th>13W</th>\n",
       "      <th>10Y</th>\n",
       "      <th>30Y</th>\n",
       "      <th>Price</th>\n",
       "      <th>percent</th>\n",
       "    </tr>\n",
       "  </thead>\n",
       "  <tbody>\n",
       "    <tr>\n",
       "      <th>FEDFUNDS</th>\n",
       "      <td>1.000000</td>\n",
       "      <td>0.830503</td>\n",
       "      <td>0.997623</td>\n",
       "      <td>0.588133</td>\n",
       "      <td>0.262051</td>\n",
       "      <td>0.213504</td>\n",
       "      <td>-0.192250</td>\n",
       "    </tr>\n",
       "    <tr>\n",
       "      <th>5Y</th>\n",
       "      <td>0.830503</td>\n",
       "      <td>1.000000</td>\n",
       "      <td>0.838376</td>\n",
       "      <td>0.867926</td>\n",
       "      <td>0.545506</td>\n",
       "      <td>0.182407</td>\n",
       "      <td>-0.269076</td>\n",
       "    </tr>\n",
       "    <tr>\n",
       "      <th>13W</th>\n",
       "      <td>0.997623</td>\n",
       "      <td>0.838376</td>\n",
       "      <td>1.000000</td>\n",
       "      <td>0.591667</td>\n",
       "      <td>0.259103</td>\n",
       "      <td>0.238859</td>\n",
       "      <td>-0.187921</td>\n",
       "    </tr>\n",
       "    <tr>\n",
       "      <th>10Y</th>\n",
       "      <td>0.588133</td>\n",
       "      <td>0.867926</td>\n",
       "      <td>0.591667</td>\n",
       "      <td>1.000000</td>\n",
       "      <td>0.884588</td>\n",
       "      <td>-0.077539</td>\n",
       "      <td>-0.262731</td>\n",
       "    </tr>\n",
       "    <tr>\n",
       "      <th>30Y</th>\n",
       "      <td>0.262051</td>\n",
       "      <td>0.545506</td>\n",
       "      <td>0.259103</td>\n",
       "      <td>0.884588</td>\n",
       "      <td>1.000000</td>\n",
       "      <td>-0.332637</td>\n",
       "      <td>-0.197120</td>\n",
       "    </tr>\n",
       "    <tr>\n",
       "      <th>Price</th>\n",
       "      <td>0.213504</td>\n",
       "      <td>0.182407</td>\n",
       "      <td>0.238859</td>\n",
       "      <td>-0.077539</td>\n",
       "      <td>-0.332637</td>\n",
       "      <td>1.000000</td>\n",
       "      <td>0.037904</td>\n",
       "    </tr>\n",
       "    <tr>\n",
       "      <th>percent</th>\n",
       "      <td>-0.192250</td>\n",
       "      <td>-0.269076</td>\n",
       "      <td>-0.187921</td>\n",
       "      <td>-0.262731</td>\n",
       "      <td>-0.197120</td>\n",
       "      <td>0.037904</td>\n",
       "      <td>1.000000</td>\n",
       "    </tr>\n",
       "  </tbody>\n",
       "</table>\n",
       "</div>"
      ],
      "text/plain": [
       "          FEDFUNDS        5Y       13W       10Y       30Y     Price   percent\n",
       "FEDFUNDS  1.000000  0.830503  0.997623  0.588133  0.262051  0.213504 -0.192250\n",
       "5Y        0.830503  1.000000  0.838376  0.867926  0.545506  0.182407 -0.269076\n",
       "13W       0.997623  0.838376  1.000000  0.591667  0.259103  0.238859 -0.187921\n",
       "10Y       0.588133  0.867926  0.591667  1.000000  0.884588 -0.077539 -0.262731\n",
       "30Y       0.262051  0.545506  0.259103  0.884588  1.000000 -0.332637 -0.197120\n",
       "Price     0.213504  0.182407  0.238859 -0.077539 -0.332637  1.000000  0.037904\n",
       "percent  -0.192250 -0.269076 -0.187921 -0.262731 -0.197120  0.037904  1.000000"
      ]
     },
     "execution_count": 18,
     "metadata": {},
     "output_type": "execute_result"
    }
   ],
   "source": [
    "df_monthly.corr()"
   ]
  },
  {
   "cell_type": "code",
   "execution_count": 19,
   "metadata": {},
   "outputs": [
    {
     "name": "stdout",
     "output_type": "stream",
     "text": [
      "- FEDFUNDS : PearsonRResult(statistic=-0.1922501712494664, pvalue=0.052892170098470796)\n",
      "\n",
      "- 5Y : PearsonRResult(statistic=-0.26907615649963357, pvalue=0.006244242874807721)\n",
      "\n",
      "- 13W : PearsonRResult(statistic=-0.18792148699390926, pvalue=0.05856953266379309)\n",
      "\n",
      "- 10Y : PearsonRResult(statistic=-0.2627305625153188, pvalue=0.007635304798513631)\n",
      "\n",
      "- 30Y : PearsonRResult(statistic=-0.1971195899468253, pvalue=0.04705510119260959)\n",
      "\n",
      "- Price : PearsonRResult(statistic=0.03790383528963872, pvalue=0.7052612437358712)\n",
      "\n",
      "- percent : PearsonRResult(statistic=0.9999999999999996, pvalue=0.0)\n",
      "\n"
     ]
    }
   ],
   "source": [
    "# Peason's correlation\n",
    "\n",
    "cols = df_monthly.columns[df_monthly.columns != (\"Price\", \"percent\")]\n",
    "\n",
    "for col in cols:\n",
    "    corr = stats.pearsonr(df_monthly[\"percent\"], df_monthly[col])\n",
    "    print(\"-\", col, \":\", corr)\n",
    "    print(\"\")"
   ]
  },
  {
   "cell_type": "markdown",
   "metadata": {},
   "source": [
    "### Conclusion"
   ]
  },
  {
   "cell_type": "markdown",
   "metadata": {},
   "source": [
    "all except 30Y/13W are slightly negative correlation.\n",
    "5Y > 10Y >> FEDFUNDS >> (30Y > 13W)"
   ]
  },
  {
   "cell_type": "markdown",
   "metadata": {},
   "source": [
    "# Prediction modeling"
   ]
  },
  {
   "cell_type": "markdown",
   "metadata": {},
   "source": [
    "## NeuralProphet"
   ]
  },
  {
   "cell_type": "markdown",
   "metadata": {},
   "source": [
    "### Non stationary data"
   ]
  },
  {
   "cell_type": "code",
   "execution_count": 22,
   "metadata": {},
   "outputs": [],
   "source": [
    "from neuralprophet import NeuralProphet, set_log_level\n",
    "# from sklearn.model_selection import train_test_split\n",
    "set_log_level(\"ERROR\")"
   ]
  },
  {
   "cell_type": "code",
   "execution_count": 23,
   "metadata": {},
   "outputs": [
    {
     "name": "stderr",
     "output_type": "stream",
     "text": [
      "WARNING - (py.warnings._showwarnmsg) - /var/folders/dt/q9f0jq252ld5kmwg8rqf4pgw0000gn/T/ipykernel_46312/334945901.py:8: SettingWithCopyWarning: \n",
      "A value is trying to be set on a copy of a slice from a DataFrame\n",
      "\n",
      "See the caveats in the documentation: https://pandas.pydata.org/pandas-docs/stable/user_guide/indexing.html#returning-a-view-versus-a-copy\n",
      "  df_new.rename(columns={\"Date\":\"ds\", \"5Y\":\"y\"}, inplace=True)\n",
      "\n"
     ]
    },
    {
     "data": {
      "text/html": [
       "<div>\n",
       "<style scoped>\n",
       "    .dataframe tbody tr th:only-of-type {\n",
       "        vertical-align: middle;\n",
       "    }\n",
       "\n",
       "    .dataframe tbody tr th {\n",
       "        vertical-align: top;\n",
       "    }\n",
       "\n",
       "    .dataframe thead th {\n",
       "        text-align: right;\n",
       "    }\n",
       "</style>\n",
       "<table border=\"1\" class=\"dataframe\">\n",
       "  <thead>\n",
       "    <tr style=\"text-align: right;\">\n",
       "      <th></th>\n",
       "      <th>ds</th>\n",
       "      <th>y</th>\n",
       "    </tr>\n",
       "  </thead>\n",
       "  <tbody>\n",
       "    <tr>\n",
       "      <th>0</th>\n",
       "      <td>2010-06-30 00:00:00+00:00</td>\n",
       "      <td>1.795</td>\n",
       "    </tr>\n",
       "    <tr>\n",
       "      <th>1</th>\n",
       "      <td>2010-07-01 00:00:00+00:00</td>\n",
       "      <td>1.795</td>\n",
       "    </tr>\n",
       "    <tr>\n",
       "      <th>2</th>\n",
       "      <td>2010-07-02 00:00:00+00:00</td>\n",
       "      <td>1.812</td>\n",
       "    </tr>\n",
       "    <tr>\n",
       "      <th>3</th>\n",
       "      <td>2010-07-06 00:00:00+00:00</td>\n",
       "      <td>1.760</td>\n",
       "    </tr>\n",
       "    <tr>\n",
       "      <th>4</th>\n",
       "      <td>2010-07-07 00:00:00+00:00</td>\n",
       "      <td>1.776</td>\n",
       "    </tr>\n",
       "  </tbody>\n",
       "</table>\n",
       "</div>"
      ],
      "text/plain": [
       "                         ds      y\n",
       "0 2010-06-30 00:00:00+00:00  1.795\n",
       "1 2010-07-01 00:00:00+00:00  1.795\n",
       "2 2010-07-02 00:00:00+00:00  1.812\n",
       "3 2010-07-06 00:00:00+00:00  1.760\n",
       "4 2010-07-07 00:00:00+00:00  1.776"
      ]
     },
     "execution_count": 23,
     "metadata": {},
     "output_type": "execute_result"
    }
   ],
   "source": [
    "# Data adjustmnet\n",
    "\n",
    "df_new = pd.DataFrame()\n",
    "df_original = df_daily.reset_index()\n",
    "\n",
    "df_new = df_original[[\"Date\", \"5Y\"]]\n",
    "# df_tb.rename(columns={\"^IRX\":\"13W\", \"^FVX\":\"5Y\", \"^TNX\":\"10Y\", \"^TYX\":\"30Y\"}, inplace=True)\n",
    "df_new.rename(columns={\"Date\":\"ds\", \"5Y\":\"y\"}, inplace=True)\n",
    "df_new.head()"
   ]
  },
  {
   "cell_type": "code",
   "execution_count": 24,
   "metadata": {},
   "outputs": [
    {
     "name": "stderr",
     "output_type": "stream",
     "text": [
      "WARNING - (py.warnings._showwarnmsg) - /Users/woojin/miniforge3/envs/neuralprophet/lib/python3.9/site-packages/pytorch_lightning/trainer/setup.py:201: UserWarning: MPS available but not used. Set `accelerator` and `devices` using `Trainer(accelerator='mps', devices=1)`.\n",
      "  rank_zero_warn(\n",
      "\n"
     ]
    },
    {
     "data": {
      "application/vnd.jupyter.widget-view+json": {
       "model_id": "603974591b00445d9855d4eddfa0abb5",
       "version_major": 2,
       "version_minor": 0
      },
      "text/plain": [
       "Training: 0it [00:00, ?it/s]"
      ]
     },
     "metadata": {},
     "output_type": "display_data"
    },
    {
     "data": {
      "application/vnd.jupyter.widget-view+json": {
       "model_id": "d1367f9644f148cea4eb171eb2a4eea1",
       "version_major": 2,
       "version_minor": 0
      },
      "text/plain": [
       "Validation: 0it [00:00, ?it/s]"
      ]
     },
     "metadata": {},
     "output_type": "display_data"
    },
    {
     "data": {
      "application/vnd.jupyter.widget-view+json": {
       "model_id": "93586f9f84464acd973f7fddd05e9ce7",
       "version_major": 2,
       "version_minor": 0
      },
      "text/plain": [
       "Validation: 0it [00:00, ?it/s]"
      ]
     },
     "metadata": {},
     "output_type": "display_data"
    },
    {
     "data": {
      "application/vnd.jupyter.widget-view+json": {
       "model_id": "b507c4dcddae4ae8ba2de96196ba3eea",
       "version_major": 2,
       "version_minor": 0
      },
      "text/plain": [
       "Validation: 0it [00:00, ?it/s]"
      ]
     },
     "metadata": {},
     "output_type": "display_data"
    },
    {
     "data": {
      "application/vnd.jupyter.widget-view+json": {
       "model_id": "460d7c4ed8384105809c46a963eb5bb6",
       "version_major": 2,
       "version_minor": 0
      },
      "text/plain": [
       "Validation: 0it [00:00, ?it/s]"
      ]
     },
     "metadata": {},
     "output_type": "display_data"
    },
    {
     "data": {
      "application/vnd.jupyter.widget-view+json": {
       "model_id": "46c5c5886410498c9cc36df4a1559d35",
       "version_major": 2,
       "version_minor": 0
      },
      "text/plain": [
       "Validation: 0it [00:00, ?it/s]"
      ]
     },
     "metadata": {},
     "output_type": "display_data"
    },
    {
     "data": {
      "application/vnd.jupyter.widget-view+json": {
       "model_id": "a179204c55c94f92ba4ea819b83a56ac",
       "version_major": 2,
       "version_minor": 0
      },
      "text/plain": [
       "Validation: 0it [00:00, ?it/s]"
      ]
     },
     "metadata": {},
     "output_type": "display_data"
    },
    {
     "data": {
      "application/vnd.jupyter.widget-view+json": {
       "model_id": "18d5cdcb548c45838fbf1d295f04ab15",
       "version_major": 2,
       "version_minor": 0
      },
      "text/plain": [
       "Validation: 0it [00:00, ?it/s]"
      ]
     },
     "metadata": {},
     "output_type": "display_data"
    },
    {
     "data": {
      "application/vnd.jupyter.widget-view+json": {
       "model_id": "8c0397f3edee4033b9494c8a713e10e1",
       "version_major": 2,
       "version_minor": 0
      },
      "text/plain": [
       "Validation: 0it [00:00, ?it/s]"
      ]
     },
     "metadata": {},
     "output_type": "display_data"
    },
    {
     "data": {
      "application/vnd.jupyter.widget-view+json": {
       "model_id": "b67b736611704fe8b019b0774716c501",
       "version_major": 2,
       "version_minor": 0
      },
      "text/plain": [
       "Validation: 0it [00:00, ?it/s]"
      ]
     },
     "metadata": {},
     "output_type": "display_data"
    },
    {
     "data": {
      "application/vnd.jupyter.widget-view+json": {
       "model_id": "a13507ff30344b75b5c3965b5c64eb99",
       "version_major": 2,
       "version_minor": 0
      },
      "text/plain": [
       "Validation: 0it [00:00, ?it/s]"
      ]
     },
     "metadata": {},
     "output_type": "display_data"
    },
    {
     "data": {
      "application/vnd.jupyter.widget-view+json": {
       "model_id": "34c0f19f0af44b00a71ba17c552a37fc",
       "version_major": 2,
       "version_minor": 0
      },
      "text/plain": [
       "Validation: 0it [00:00, ?it/s]"
      ]
     },
     "metadata": {},
     "output_type": "display_data"
    },
    {
     "data": {
      "application/vnd.jupyter.widget-view+json": {
       "model_id": "43e28e7f06dc403cb79b479de326722d",
       "version_major": 2,
       "version_minor": 0
      },
      "text/plain": [
       "Validation: 0it [00:00, ?it/s]"
      ]
     },
     "metadata": {},
     "output_type": "display_data"
    },
    {
     "data": {
      "application/vnd.jupyter.widget-view+json": {
       "model_id": "b5e5740b3dc04dd29ab0ddf35dfe571c",
       "version_major": 2,
       "version_minor": 0
      },
      "text/plain": [
       "Validation: 0it [00:00, ?it/s]"
      ]
     },
     "metadata": {},
     "output_type": "display_data"
    },
    {
     "data": {
      "application/vnd.jupyter.widget-view+json": {
       "model_id": "7d940b72dc9e4a699ec504aa625ac74f",
       "version_major": 2,
       "version_minor": 0
      },
      "text/plain": [
       "Validation: 0it [00:00, ?it/s]"
      ]
     },
     "metadata": {},
     "output_type": "display_data"
    },
    {
     "data": {
      "application/vnd.jupyter.widget-view+json": {
       "model_id": "6769de91d24f43c3968455803d6f8943",
       "version_major": 2,
       "version_minor": 0
      },
      "text/plain": [
       "Validation: 0it [00:00, ?it/s]"
      ]
     },
     "metadata": {},
     "output_type": "display_data"
    },
    {
     "data": {
      "application/vnd.jupyter.widget-view+json": {
       "model_id": "07c5aa90ac6e4a62812f06ff9d764fcd",
       "version_major": 2,
       "version_minor": 0
      },
      "text/plain": [
       "Validation: 0it [00:00, ?it/s]"
      ]
     },
     "metadata": {},
     "output_type": "display_data"
    },
    {
     "data": {
      "application/vnd.jupyter.widget-view+json": {
       "model_id": "fec8c75f85ad406a838c9d3f84fe2bad",
       "version_major": 2,
       "version_minor": 0
      },
      "text/plain": [
       "Validation: 0it [00:00, ?it/s]"
      ]
     },
     "metadata": {},
     "output_type": "display_data"
    },
    {
     "data": {
      "application/vnd.jupyter.widget-view+json": {
       "model_id": "0934d7b1c9a849fa8620717fc51be092",
       "version_major": 2,
       "version_minor": 0
      },
      "text/plain": [
       "Validation: 0it [00:00, ?it/s]"
      ]
     },
     "metadata": {},
     "output_type": "display_data"
    },
    {
     "data": {
      "application/vnd.jupyter.widget-view+json": {
       "model_id": "9fcc96239a0545da8a6656ed76672936",
       "version_major": 2,
       "version_minor": 0
      },
      "text/plain": [
       "Validation: 0it [00:00, ?it/s]"
      ]
     },
     "metadata": {},
     "output_type": "display_data"
    },
    {
     "data": {
      "application/vnd.jupyter.widget-view+json": {
       "model_id": "785803d5439346da9e1ea71144fe3146",
       "version_major": 2,
       "version_minor": 0
      },
      "text/plain": [
       "Validation: 0it [00:00, ?it/s]"
      ]
     },
     "metadata": {},
     "output_type": "display_data"
    },
    {
     "data": {
      "application/vnd.jupyter.widget-view+json": {
       "model_id": "3c2e0e6fcbd140a2b56b9cedfb2ff160",
       "version_major": 2,
       "version_minor": 0
      },
      "text/plain": [
       "Validation: 0it [00:00, ?it/s]"
      ]
     },
     "metadata": {},
     "output_type": "display_data"
    },
    {
     "data": {
      "application/vnd.jupyter.widget-view+json": {
       "model_id": "7a8ecdbd13a34529b828a1b4b5e89dc7",
       "version_major": 2,
       "version_minor": 0
      },
      "text/plain": [
       "Validation: 0it [00:00, ?it/s]"
      ]
     },
     "metadata": {},
     "output_type": "display_data"
    },
    {
     "data": {
      "application/vnd.jupyter.widget-view+json": {
       "model_id": "4fa628dc5d164382af50b7b3bb71be06",
       "version_major": 2,
       "version_minor": 0
      },
      "text/plain": [
       "Validation: 0it [00:00, ?it/s]"
      ]
     },
     "metadata": {},
     "output_type": "display_data"
    },
    {
     "data": {
      "application/vnd.jupyter.widget-view+json": {
       "model_id": "70424a838cd049f2ab0df46d8fc87f2b",
       "version_major": 2,
       "version_minor": 0
      },
      "text/plain": [
       "Validation: 0it [00:00, ?it/s]"
      ]
     },
     "metadata": {},
     "output_type": "display_data"
    },
    {
     "data": {
      "application/vnd.jupyter.widget-view+json": {
       "model_id": "8e89dfffafd441fc8b9d0d99b5dcd37f",
       "version_major": 2,
       "version_minor": 0
      },
      "text/plain": [
       "Validation: 0it [00:00, ?it/s]"
      ]
     },
     "metadata": {},
     "output_type": "display_data"
    },
    {
     "data": {
      "application/vnd.jupyter.widget-view+json": {
       "model_id": "9d7592e112aa43fdbfddcbde4ccf30a4",
       "version_major": 2,
       "version_minor": 0
      },
      "text/plain": [
       "Validation: 0it [00:00, ?it/s]"
      ]
     },
     "metadata": {},
     "output_type": "display_data"
    },
    {
     "data": {
      "application/vnd.jupyter.widget-view+json": {
       "model_id": "b9c072b6798e4ea1bfd1d30e5d280d88",
       "version_major": 2,
       "version_minor": 0
      },
      "text/plain": [
       "Validation: 0it [00:00, ?it/s]"
      ]
     },
     "metadata": {},
     "output_type": "display_data"
    },
    {
     "data": {
      "application/vnd.jupyter.widget-view+json": {
       "model_id": "c64c52034e204a688b9d9d1c3fb0e717",
       "version_major": 2,
       "version_minor": 0
      },
      "text/plain": [
       "Validation: 0it [00:00, ?it/s]"
      ]
     },
     "metadata": {},
     "output_type": "display_data"
    },
    {
     "data": {
      "application/vnd.jupyter.widget-view+json": {
       "model_id": "54028d59fc3845a38b723eb00a3237e0",
       "version_major": 2,
       "version_minor": 0
      },
      "text/plain": [
       "Validation: 0it [00:00, ?it/s]"
      ]
     },
     "metadata": {},
     "output_type": "display_data"
    },
    {
     "data": {
      "application/vnd.jupyter.widget-view+json": {
       "model_id": "da995f196cf543249ecdc7db1eed33e1",
       "version_major": 2,
       "version_minor": 0
      },
      "text/plain": [
       "Validation: 0it [00:00, ?it/s]"
      ]
     },
     "metadata": {},
     "output_type": "display_data"
    },
    {
     "data": {
      "application/vnd.jupyter.widget-view+json": {
       "model_id": "0eb767a5f0a7430d99b51531bfd76bf5",
       "version_major": 2,
       "version_minor": 0
      },
      "text/plain": [
       "Validation: 0it [00:00, ?it/s]"
      ]
     },
     "metadata": {},
     "output_type": "display_data"
    },
    {
     "data": {
      "application/vnd.jupyter.widget-view+json": {
       "model_id": "ccdd03e5c1b2490dbbee59c4259dbfd9",
       "version_major": 2,
       "version_minor": 0
      },
      "text/plain": [
       "Validation: 0it [00:00, ?it/s]"
      ]
     },
     "metadata": {},
     "output_type": "display_data"
    },
    {
     "data": {
      "application/vnd.jupyter.widget-view+json": {
       "model_id": "5ef3df40b1bf4f52b669d4c83bfcbccd",
       "version_major": 2,
       "version_minor": 0
      },
      "text/plain": [
       "Validation: 0it [00:00, ?it/s]"
      ]
     },
     "metadata": {},
     "output_type": "display_data"
    },
    {
     "data": {
      "application/vnd.jupyter.widget-view+json": {
       "model_id": "1a25ee48d45942ccba3d1ee615eb1278",
       "version_major": 2,
       "version_minor": 0
      },
      "text/plain": [
       "Validation: 0it [00:00, ?it/s]"
      ]
     },
     "metadata": {},
     "output_type": "display_data"
    },
    {
     "data": {
      "application/vnd.jupyter.widget-view+json": {
       "model_id": "4b24c34337fb4db885299763cb5bd12e",
       "version_major": 2,
       "version_minor": 0
      },
      "text/plain": [
       "Validation: 0it [00:00, ?it/s]"
      ]
     },
     "metadata": {},
     "output_type": "display_data"
    },
    {
     "data": {
      "application/vnd.jupyter.widget-view+json": {
       "model_id": "12c1295949ec4e3bbfbab956b4226b4e",
       "version_major": 2,
       "version_minor": 0
      },
      "text/plain": [
       "Validation: 0it [00:00, ?it/s]"
      ]
     },
     "metadata": {},
     "output_type": "display_data"
    },
    {
     "data": {
      "application/vnd.jupyter.widget-view+json": {
       "model_id": "5b08ec52e089464ea62550a35992955e",
       "version_major": 2,
       "version_minor": 0
      },
      "text/plain": [
       "Validation: 0it [00:00, ?it/s]"
      ]
     },
     "metadata": {},
     "output_type": "display_data"
    },
    {
     "data": {
      "application/vnd.jupyter.widget-view+json": {
       "model_id": "c19e71af66e642a593a126f5fc0ef722",
       "version_major": 2,
       "version_minor": 0
      },
      "text/plain": [
       "Validation: 0it [00:00, ?it/s]"
      ]
     },
     "metadata": {},
     "output_type": "display_data"
    },
    {
     "data": {
      "application/vnd.jupyter.widget-view+json": {
       "model_id": "e8ef253a926d4055adb60f0a7a6f9beb",
       "version_major": 2,
       "version_minor": 0
      },
      "text/plain": [
       "Validation: 0it [00:00, ?it/s]"
      ]
     },
     "metadata": {},
     "output_type": "display_data"
    },
    {
     "data": {
      "application/vnd.jupyter.widget-view+json": {
       "model_id": "840b322a192848a792ed8a3aa486d8ca",
       "version_major": 2,
       "version_minor": 0
      },
      "text/plain": [
       "Validation: 0it [00:00, ?it/s]"
      ]
     },
     "metadata": {},
     "output_type": "display_data"
    },
    {
     "data": {
      "application/vnd.jupyter.widget-view+json": {
       "model_id": "65aada5acc874f38846cd08f5e87c5d8",
       "version_major": 2,
       "version_minor": 0
      },
      "text/plain": [
       "Validation: 0it [00:00, ?it/s]"
      ]
     },
     "metadata": {},
     "output_type": "display_data"
    },
    {
     "data": {
      "application/vnd.jupyter.widget-view+json": {
       "model_id": "a8a91c7e29254810bed590bbf1004959",
       "version_major": 2,
       "version_minor": 0
      },
      "text/plain": [
       "Validation: 0it [00:00, ?it/s]"
      ]
     },
     "metadata": {},
     "output_type": "display_data"
    },
    {
     "data": {
      "application/vnd.jupyter.widget-view+json": {
       "model_id": "be6e6b773c874f6880e0444bfebf9daf",
       "version_major": 2,
       "version_minor": 0
      },
      "text/plain": [
       "Validation: 0it [00:00, ?it/s]"
      ]
     },
     "metadata": {},
     "output_type": "display_data"
    },
    {
     "data": {
      "application/vnd.jupyter.widget-view+json": {
       "model_id": "7d1a56fc91af4975a46be9efe8a0375d",
       "version_major": 2,
       "version_minor": 0
      },
      "text/plain": [
       "Validation: 0it [00:00, ?it/s]"
      ]
     },
     "metadata": {},
     "output_type": "display_data"
    },
    {
     "data": {
      "application/vnd.jupyter.widget-view+json": {
       "model_id": "bfe12a727f7040fd8dcbf7c3340f3209",
       "version_major": 2,
       "version_minor": 0
      },
      "text/plain": [
       "Validation: 0it [00:00, ?it/s]"
      ]
     },
     "metadata": {},
     "output_type": "display_data"
    },
    {
     "data": {
      "application/vnd.jupyter.widget-view+json": {
       "model_id": "1998895130ab4b6f80ac7bb9b2c1d889",
       "version_major": 2,
       "version_minor": 0
      },
      "text/plain": [
       "Validation: 0it [00:00, ?it/s]"
      ]
     },
     "metadata": {},
     "output_type": "display_data"
    },
    {
     "data": {
      "application/vnd.jupyter.widget-view+json": {
       "model_id": "5f7c8ec8cb61452e85862f31bd76b058",
       "version_major": 2,
       "version_minor": 0
      },
      "text/plain": [
       "Validation: 0it [00:00, ?it/s]"
      ]
     },
     "metadata": {},
     "output_type": "display_data"
    },
    {
     "data": {
      "application/vnd.jupyter.widget-view+json": {
       "model_id": "689c85ff1e5a4a85a9dd9d914d908334",
       "version_major": 2,
       "version_minor": 0
      },
      "text/plain": [
       "Validation: 0it [00:00, ?it/s]"
      ]
     },
     "metadata": {},
     "output_type": "display_data"
    },
    {
     "data": {
      "application/vnd.jupyter.widget-view+json": {
       "model_id": "f37324d7edca47b8a0690ab3d762f198",
       "version_major": 2,
       "version_minor": 0
      },
      "text/plain": [
       "Validation: 0it [00:00, ?it/s]"
      ]
     },
     "metadata": {},
     "output_type": "display_data"
    },
    {
     "data": {
      "application/vnd.jupyter.widget-view+json": {
       "model_id": "5e1ea51b8eb3472d81b1c214cfbe3cba",
       "version_major": 2,
       "version_minor": 0
      },
      "text/plain": [
       "Validation: 0it [00:00, ?it/s]"
      ]
     },
     "metadata": {},
     "output_type": "display_data"
    },
    {
     "data": {
      "application/vnd.jupyter.widget-view+json": {
       "model_id": "c4042a4bc7444c9994c7686fb03c4026",
       "version_major": 2,
       "version_minor": 0
      },
      "text/plain": [
       "Validation: 0it [00:00, ?it/s]"
      ]
     },
     "metadata": {},
     "output_type": "display_data"
    },
    {
     "data": {
      "application/vnd.jupyter.widget-view+json": {
       "model_id": "1a75781c2c2348ae9daeb2749499b4f2",
       "version_major": 2,
       "version_minor": 0
      },
      "text/plain": [
       "Validation: 0it [00:00, ?it/s]"
      ]
     },
     "metadata": {},
     "output_type": "display_data"
    },
    {
     "data": {
      "application/vnd.jupyter.widget-view+json": {
       "model_id": "51afc276a88e4d219468d270b1e32784",
       "version_major": 2,
       "version_minor": 0
      },
      "text/plain": [
       "Validation: 0it [00:00, ?it/s]"
      ]
     },
     "metadata": {},
     "output_type": "display_data"
    },
    {
     "data": {
      "application/vnd.jupyter.widget-view+json": {
       "model_id": "b1586f607cd64b7897b151ba0b0f4018",
       "version_major": 2,
       "version_minor": 0
      },
      "text/plain": [
       "Validation: 0it [00:00, ?it/s]"
      ]
     },
     "metadata": {},
     "output_type": "display_data"
    },
    {
     "data": {
      "application/vnd.jupyter.widget-view+json": {
       "model_id": "579e8ffd9e694951b8f16305f4896618",
       "version_major": 2,
       "version_minor": 0
      },
      "text/plain": [
       "Validation: 0it [00:00, ?it/s]"
      ]
     },
     "metadata": {},
     "output_type": "display_data"
    },
    {
     "data": {
      "application/vnd.jupyter.widget-view+json": {
       "model_id": "308e66817bb84feaabba100269a94169",
       "version_major": 2,
       "version_minor": 0
      },
      "text/plain": [
       "Validation: 0it [00:00, ?it/s]"
      ]
     },
     "metadata": {},
     "output_type": "display_data"
    },
    {
     "data": {
      "application/vnd.jupyter.widget-view+json": {
       "model_id": "0423fe756c8447e88388bde40ec5a1a0",
       "version_major": 2,
       "version_minor": 0
      },
      "text/plain": [
       "Validation: 0it [00:00, ?it/s]"
      ]
     },
     "metadata": {},
     "output_type": "display_data"
    },
    {
     "data": {
      "application/vnd.jupyter.widget-view+json": {
       "model_id": "5a8baea704c045399efb5ca5128d4cce",
       "version_major": 2,
       "version_minor": 0
      },
      "text/plain": [
       "Validation: 0it [00:00, ?it/s]"
      ]
     },
     "metadata": {},
     "output_type": "display_data"
    },
    {
     "data": {
      "application/vnd.jupyter.widget-view+json": {
       "model_id": "f65c5e64b8e34216a26f9b61b26fcdc0",
       "version_major": 2,
       "version_minor": 0
      },
      "text/plain": [
       "Validation: 0it [00:00, ?it/s]"
      ]
     },
     "metadata": {},
     "output_type": "display_data"
    },
    {
     "data": {
      "application/vnd.jupyter.widget-view+json": {
       "model_id": "31590c13839f4173aea34b3652196998",
       "version_major": 2,
       "version_minor": 0
      },
      "text/plain": [
       "Validation: 0it [00:00, ?it/s]"
      ]
     },
     "metadata": {},
     "output_type": "display_data"
    },
    {
     "data": {
      "application/vnd.jupyter.widget-view+json": {
       "model_id": "ff08cf3b5c7246efb1180f40f9370e0d",
       "version_major": 2,
       "version_minor": 0
      },
      "text/plain": [
       "Validation: 0it [00:00, ?it/s]"
      ]
     },
     "metadata": {},
     "output_type": "display_data"
    },
    {
     "data": {
      "application/vnd.jupyter.widget-view+json": {
       "model_id": "9fa600b55cc14d74b8a1f1d486567160",
       "version_major": 2,
       "version_minor": 0
      },
      "text/plain": [
       "Validation: 0it [00:00, ?it/s]"
      ]
     },
     "metadata": {},
     "output_type": "display_data"
    },
    {
     "data": {
      "application/vnd.jupyter.widget-view+json": {
       "model_id": "b1ba1b97740e48919c9136e784869108",
       "version_major": 2,
       "version_minor": 0
      },
      "text/plain": [
       "Validation: 0it [00:00, ?it/s]"
      ]
     },
     "metadata": {},
     "output_type": "display_data"
    },
    {
     "data": {
      "application/vnd.jupyter.widget-view+json": {
       "model_id": "064084d5482541e0b52856a1d94a4b6b",
       "version_major": 2,
       "version_minor": 0
      },
      "text/plain": [
       "Validation: 0it [00:00, ?it/s]"
      ]
     },
     "metadata": {},
     "output_type": "display_data"
    },
    {
     "data": {
      "application/vnd.jupyter.widget-view+json": {
       "model_id": "6c54fae491974bfbae3223cb20a81e40",
       "version_major": 2,
       "version_minor": 0
      },
      "text/plain": [
       "Validation: 0it [00:00, ?it/s]"
      ]
     },
     "metadata": {},
     "output_type": "display_data"
    },
    {
     "data": {
      "application/vnd.jupyter.widget-view+json": {
       "model_id": "36bb136c5c984a14a27e6b3541977f38",
       "version_major": 2,
       "version_minor": 0
      },
      "text/plain": [
       "Validation: 0it [00:00, ?it/s]"
      ]
     },
     "metadata": {},
     "output_type": "display_data"
    },
    {
     "data": {
      "application/vnd.jupyter.widget-view+json": {
       "model_id": "d0cfa4d23c3f45d394b200cda7772c2a",
       "version_major": 2,
       "version_minor": 0
      },
      "text/plain": [
       "Validation: 0it [00:00, ?it/s]"
      ]
     },
     "metadata": {},
     "output_type": "display_data"
    },
    {
     "data": {
      "application/vnd.jupyter.widget-view+json": {
       "model_id": "5a7b84d2e78d45ca8c5389c27349af8e",
       "version_major": 2,
       "version_minor": 0
      },
      "text/plain": [
       "Validation: 0it [00:00, ?it/s]"
      ]
     },
     "metadata": {},
     "output_type": "display_data"
    },
    {
     "data": {
      "application/vnd.jupyter.widget-view+json": {
       "model_id": "9cf18dbf776a4c2c94af4dd7c2a6719e",
       "version_major": 2,
       "version_minor": 0
      },
      "text/plain": [
       "Validation: 0it [00:00, ?it/s]"
      ]
     },
     "metadata": {},
     "output_type": "display_data"
    },
    {
     "data": {
      "application/vnd.jupyter.widget-view+json": {
       "model_id": "7cc2e4ca3c274a75b232d00368b5f5bb",
       "version_major": 2,
       "version_minor": 0
      },
      "text/plain": [
       "Validation: 0it [00:00, ?it/s]"
      ]
     },
     "metadata": {},
     "output_type": "display_data"
    },
    {
     "data": {
      "application/vnd.jupyter.widget-view+json": {
       "model_id": "5bb5e244fee94996af9e86833bd9f2fd",
       "version_major": 2,
       "version_minor": 0
      },
      "text/plain": [
       "Validation: 0it [00:00, ?it/s]"
      ]
     },
     "metadata": {},
     "output_type": "display_data"
    },
    {
     "data": {
      "application/vnd.jupyter.widget-view+json": {
       "model_id": "f3d7914ebb50493493ae2d78c3279ac4",
       "version_major": 2,
       "version_minor": 0
      },
      "text/plain": [
       "Validation: 0it [00:00, ?it/s]"
      ]
     },
     "metadata": {},
     "output_type": "display_data"
    },
    {
     "data": {
      "application/vnd.jupyter.widget-view+json": {
       "model_id": "f4447ffa33924824af8b1c2a2b0b95e8",
       "version_major": 2,
       "version_minor": 0
      },
      "text/plain": [
       "Validation: 0it [00:00, ?it/s]"
      ]
     },
     "metadata": {},
     "output_type": "display_data"
    },
    {
     "data": {
      "application/vnd.jupyter.widget-view+json": {
       "model_id": "a1d83cfa9c064aea8f377f4f07663ae3",
       "version_major": 2,
       "version_minor": 0
      },
      "text/plain": [
       "Validation: 0it [00:00, ?it/s]"
      ]
     },
     "metadata": {},
     "output_type": "display_data"
    },
    {
     "data": {
      "application/vnd.jupyter.widget-view+json": {
       "model_id": "e8fbebf20b264ba39929b2e77ceb8ebc",
       "version_major": 2,
       "version_minor": 0
      },
      "text/plain": [
       "Validation: 0it [00:00, ?it/s]"
      ]
     },
     "metadata": {},
     "output_type": "display_data"
    },
    {
     "data": {
      "application/vnd.jupyter.widget-view+json": {
       "model_id": "4645a7c00ed84f53818adfff55997875",
       "version_major": 2,
       "version_minor": 0
      },
      "text/plain": [
       "Validation: 0it [00:00, ?it/s]"
      ]
     },
     "metadata": {},
     "output_type": "display_data"
    },
    {
     "data": {
      "application/vnd.jupyter.widget-view+json": {
       "model_id": "6c21d54fe7b543ec869241a517e2c530",
       "version_major": 2,
       "version_minor": 0
      },
      "text/plain": [
       "Validation: 0it [00:00, ?it/s]"
      ]
     },
     "metadata": {},
     "output_type": "display_data"
    },
    {
     "data": {
      "application/vnd.jupyter.widget-view+json": {
       "model_id": "2e416528250c43d285bb702998c4150f",
       "version_major": 2,
       "version_minor": 0
      },
      "text/plain": [
       "Validation: 0it [00:00, ?it/s]"
      ]
     },
     "metadata": {},
     "output_type": "display_data"
    },
    {
     "data": {
      "application/vnd.jupyter.widget-view+json": {
       "model_id": "a3f85faf43a047e79286895dcf50bba2",
       "version_major": 2,
       "version_minor": 0
      },
      "text/plain": [
       "Validation: 0it [00:00, ?it/s]"
      ]
     },
     "metadata": {},
     "output_type": "display_data"
    },
    {
     "data": {
      "application/vnd.jupyter.widget-view+json": {
       "model_id": "584d9f20ba9748efa77f37ec1fe2d2cd",
       "version_major": 2,
       "version_minor": 0
      },
      "text/plain": [
       "Validation: 0it [00:00, ?it/s]"
      ]
     },
     "metadata": {},
     "output_type": "display_data"
    },
    {
     "data": {
      "application/vnd.jupyter.widget-view+json": {
       "model_id": "782caba323f74b2a80758ad259ebe2ac",
       "version_major": 2,
       "version_minor": 0
      },
      "text/plain": [
       "Validation: 0it [00:00, ?it/s]"
      ]
     },
     "metadata": {},
     "output_type": "display_data"
    },
    {
     "data": {
      "application/vnd.jupyter.widget-view+json": {
       "model_id": "b151e2f5fead45db93e739af5f7f629e",
       "version_major": 2,
       "version_minor": 0
      },
      "text/plain": [
       "Validation: 0it [00:00, ?it/s]"
      ]
     },
     "metadata": {},
     "output_type": "display_data"
    },
    {
     "data": {
      "application/vnd.jupyter.widget-view+json": {
       "model_id": "891f22e65af04b84b3ba601e42ef945c",
       "version_major": 2,
       "version_minor": 0
      },
      "text/plain": [
       "Validation: 0it [00:00, ?it/s]"
      ]
     },
     "metadata": {},
     "output_type": "display_data"
    },
    {
     "data": {
      "application/vnd.jupyter.widget-view+json": {
       "model_id": "3b75985036fe4dc297f203f4d3155029",
       "version_major": 2,
       "version_minor": 0
      },
      "text/plain": [
       "Validation: 0it [00:00, ?it/s]"
      ]
     },
     "metadata": {},
     "output_type": "display_data"
    },
    {
     "data": {
      "application/vnd.jupyter.widget-view+json": {
       "model_id": "f0aac4f1cb3448baadae10fdb5ffca20",
       "version_major": 2,
       "version_minor": 0
      },
      "text/plain": [
       "Validation: 0it [00:00, ?it/s]"
      ]
     },
     "metadata": {},
     "output_type": "display_data"
    },
    {
     "data": {
      "application/vnd.jupyter.widget-view+json": {
       "model_id": "72b03b22403c47269f7e30aa283b5604",
       "version_major": 2,
       "version_minor": 0
      },
      "text/plain": [
       "Validation: 0it [00:00, ?it/s]"
      ]
     },
     "metadata": {},
     "output_type": "display_data"
    },
    {
     "data": {
      "application/vnd.jupyter.widget-view+json": {
       "model_id": "b9f6ac354a6d45b6aa63ebe01e8ce7f5",
       "version_major": 2,
       "version_minor": 0
      },
      "text/plain": [
       "Validation: 0it [00:00, ?it/s]"
      ]
     },
     "metadata": {},
     "output_type": "display_data"
    },
    {
     "data": {
      "application/vnd.jupyter.widget-view+json": {
       "model_id": "a4205579ac9b455b9215c36099c1ee10",
       "version_major": 2,
       "version_minor": 0
      },
      "text/plain": [
       "Validation: 0it [00:00, ?it/s]"
      ]
     },
     "metadata": {},
     "output_type": "display_data"
    },
    {
     "data": {
      "application/vnd.jupyter.widget-view+json": {
       "model_id": "7cee22bf9f2d48c48057c5d5ae39662b",
       "version_major": 2,
       "version_minor": 0
      },
      "text/plain": [
       "Validation: 0it [00:00, ?it/s]"
      ]
     },
     "metadata": {},
     "output_type": "display_data"
    },
    {
     "data": {
      "application/vnd.jupyter.widget-view+json": {
       "model_id": "be12a58516944b2d804de973c7000f5c",
       "version_major": 2,
       "version_minor": 0
      },
      "text/plain": [
       "Validation: 0it [00:00, ?it/s]"
      ]
     },
     "metadata": {},
     "output_type": "display_data"
    },
    {
     "data": {
      "application/vnd.jupyter.widget-view+json": {
       "model_id": "d7ed35a3d79c4e2da4a0af6202dff398",
       "version_major": 2,
       "version_minor": 0
      },
      "text/plain": [
       "Validation: 0it [00:00, ?it/s]"
      ]
     },
     "metadata": {},
     "output_type": "display_data"
    },
    {
     "data": {
      "application/vnd.jupyter.widget-view+json": {
       "model_id": "cc911addd11e4562bb938b57d43ebd99",
       "version_major": 2,
       "version_minor": 0
      },
      "text/plain": [
       "Validation: 0it [00:00, ?it/s]"
      ]
     },
     "metadata": {},
     "output_type": "display_data"
    },
    {
     "data": {
      "application/vnd.jupyter.widget-view+json": {
       "model_id": "1594053f1cfa4d9ca1895384c4241d1a",
       "version_major": 2,
       "version_minor": 0
      },
      "text/plain": [
       "Validation: 0it [00:00, ?it/s]"
      ]
     },
     "metadata": {},
     "output_type": "display_data"
    },
    {
     "data": {
      "application/vnd.jupyter.widget-view+json": {
       "model_id": "b260277026f54573acd7247f2cc387bb",
       "version_major": 2,
       "version_minor": 0
      },
      "text/plain": [
       "Validation: 0it [00:00, ?it/s]"
      ]
     },
     "metadata": {},
     "output_type": "display_data"
    },
    {
     "data": {
      "application/vnd.jupyter.widget-view+json": {
       "model_id": "e95b19cfff3e48019f7b021d02f2f4c0",
       "version_major": 2,
       "version_minor": 0
      },
      "text/plain": [
       "Validation: 0it [00:00, ?it/s]"
      ]
     },
     "metadata": {},
     "output_type": "display_data"
    },
    {
     "data": {
      "application/vnd.jupyter.widget-view+json": {
       "model_id": "757f8f8235e44844843ead8358382499",
       "version_major": 2,
       "version_minor": 0
      },
      "text/plain": [
       "Validation: 0it [00:00, ?it/s]"
      ]
     },
     "metadata": {},
     "output_type": "display_data"
    },
    {
     "data": {
      "application/vnd.jupyter.widget-view+json": {
       "model_id": "115a35ef5724462782cb019b780b061e",
       "version_major": 2,
       "version_minor": 0
      },
      "text/plain": [
       "Validation: 0it [00:00, ?it/s]"
      ]
     },
     "metadata": {},
     "output_type": "display_data"
    },
    {
     "data": {
      "application/vnd.jupyter.widget-view+json": {
       "model_id": "1dc0f833126447439d90542502b21949",
       "version_major": 2,
       "version_minor": 0
      },
      "text/plain": [
       "Validation: 0it [00:00, ?it/s]"
      ]
     },
     "metadata": {},
     "output_type": "display_data"
    },
    {
     "data": {
      "application/vnd.jupyter.widget-view+json": {
       "model_id": "9878777f2d6b416781bb7585fd8ca7b9",
       "version_major": 2,
       "version_minor": 0
      },
      "text/plain": [
       "Validation: 0it [00:00, ?it/s]"
      ]
     },
     "metadata": {},
     "output_type": "display_data"
    },
    {
     "data": {
      "application/vnd.jupyter.widget-view+json": {
       "model_id": "dbed4031ce32446490074925edec90a0",
       "version_major": 2,
       "version_minor": 0
      },
      "text/plain": [
       "Validation: 0it [00:00, ?it/s]"
      ]
     },
     "metadata": {},
     "output_type": "display_data"
    },
    {
     "data": {
      "image/png": "[encoded data removed]",
      "text/plain": [
       "<Figure size 640x480 with 1 Axes>"
      ]
     },
     "metadata": {},
     "output_type": "display_data"
    }
   ],
   "source": [
    "model_neupro = NeuralProphet(\n",
    "    growth='linear',\n",
    "    yearly_seasonality=True,\n",
    "    weekly_seasonality=False,\n",
    "    daily_seasonality=False,\n",
    "    batch_size=64,\n",
    "    epochs=100,\n",
    "    learning_rate=0.1,\n",
    "    n_lags=10,   # add the autoregression\n",
    "    ar_reg=1    # 1-step ahead forecast with Auto-Regression\n",
    ")\n",
    "\n",
    "train, test = model_neupro.split_df(df_new, freq=\"D\", valid_p=0.1)\n",
    "\n",
    "metrics = model_neupro.fit(train, freq=\"D\", validation_df=test, progress=\"plot\")"
   ]
  },
  {
   "cell_type": "code",
   "execution_count": 25,
   "metadata": {},
   "outputs": [
    {
     "data": {
      "text/html": [
       "<div>\n",
       "<style scoped>\n",
       "    .dataframe tbody tr th:only-of-type {\n",
       "        vertical-align: middle;\n",
       "    }\n",
       "\n",
       "    .dataframe tbody tr th {\n",
       "        vertical-align: top;\n",
       "    }\n",
       "\n",
       "    .dataframe thead th {\n",
       "        text-align: right;\n",
       "    }\n",
       "</style>\n",
       "<table border=\"1\" class=\"dataframe\">\n",
       "  <thead>\n",
       "    <tr style=\"text-align: right;\">\n",
       "      <th></th>\n",
       "      <th>MAE_val</th>\n",
       "      <th>RMSE_val</th>\n",
       "      <th>Loss_val</th>\n",
       "      <th>RegLoss_val</th>\n",
       "      <th>epoch</th>\n",
       "      <th>MAE</th>\n",
       "      <th>RMSE</th>\n",
       "      <th>Loss</th>\n",
       "      <th>RegLoss</th>\n",
       "    </tr>\n",
       "  </thead>\n",
       "  <tbody>\n",
       "    <tr>\n",
       "      <th>95</th>\n",
       "      <td>0.051361</td>\n",
       "      <td>0.071486</td>\n",
       "      <td>0.000605</td>\n",
       "      <td>0.000214</td>\n",
       "      <td>95</td>\n",
       "      <td>0.023106</td>\n",
       "      <td>0.034412</td>\n",
       "      <td>0.000280</td>\n",
       "      <td>0.000212</td>\n",
       "    </tr>\n",
       "    <tr>\n",
       "      <th>96</th>\n",
       "      <td>0.051141</td>\n",
       "      <td>0.071369</td>\n",
       "      <td>0.000607</td>\n",
       "      <td>0.000217</td>\n",
       "      <td>96</td>\n",
       "      <td>0.023110</td>\n",
       "      <td>0.034379</td>\n",
       "      <td>0.000284</td>\n",
       "      <td>0.000216</td>\n",
       "    </tr>\n",
       "    <tr>\n",
       "      <th>97</th>\n",
       "      <td>0.051133</td>\n",
       "      <td>0.071366</td>\n",
       "      <td>0.000609</td>\n",
       "      <td>0.000219</td>\n",
       "      <td>97</td>\n",
       "      <td>0.023072</td>\n",
       "      <td>0.034343</td>\n",
       "      <td>0.000286</td>\n",
       "      <td>0.000218</td>\n",
       "    </tr>\n",
       "    <tr>\n",
       "      <th>98</th>\n",
       "      <td>0.051170</td>\n",
       "      <td>0.071385</td>\n",
       "      <td>0.000610</td>\n",
       "      <td>0.000221</td>\n",
       "      <td>98</td>\n",
       "      <td>0.023175</td>\n",
       "      <td>0.034441</td>\n",
       "      <td>0.000289</td>\n",
       "      <td>0.000220</td>\n",
       "    </tr>\n",
       "    <tr>\n",
       "      <th>99</th>\n",
       "      <td>0.051112</td>\n",
       "      <td>0.071355</td>\n",
       "      <td>0.000610</td>\n",
       "      <td>0.000221</td>\n",
       "      <td>99</td>\n",
       "      <td>0.023137</td>\n",
       "      <td>0.034417</td>\n",
       "      <td>0.000289</td>\n",
       "      <td>0.000221</td>\n",
       "    </tr>\n",
       "  </tbody>\n",
       "</table>\n",
       "</div>"
      ],
      "text/plain": [
       "     MAE_val  RMSE_val  Loss_val  RegLoss_val  epoch       MAE      RMSE  \\\n",
       "95  0.051361  0.071486  0.000605     0.000214     95  0.023106  0.034412   \n",
       "96  0.051141  0.071369  0.000607     0.000217     96  0.023110  0.034379   \n",
       "97  0.051133  0.071366  0.000609     0.000219     97  0.023072  0.034343   \n",
       "98  0.051170  0.071385  0.000610     0.000221     98  0.023175  0.034441   \n",
       "99  0.051112  0.071355  0.000610     0.000221     99  0.023137  0.034417   \n",
       "\n",
       "        Loss   RegLoss  \n",
       "95  0.000280  0.000212  \n",
       "96  0.000284  0.000216  \n",
       "97  0.000286  0.000218  \n",
       "98  0.000289  0.000220  \n",
       "99  0.000289  0.000221  "
      ]
     },
     "execution_count": 25,
     "metadata": {},
     "output_type": "execute_result"
    }
   ],
   "source": [
    "metrics.tail()"
   ]
  },
  {
   "cell_type": "code",
   "execution_count": 26,
   "metadata": {},
   "outputs": [
    {
     "data": {
      "application/vnd.jupyter.widget-view+json": {
       "model_id": "8a2f6fdf6cb44ad4b7bf13c163f05ad5",
       "version_major": 2,
       "version_minor": 0
      },
      "text/plain": [
       "Predicting: 68it [00:00, ?it/s]"
      ]
     },
     "metadata": {},
     "output_type": "display_data"
    },
    {
     "data": {
      "application/vnd.jupyter.widget-view+json": {
       "model_id": "96ceb04f123e4f6187f29d90d04b13f5",
       "version_major": 2,
       "version_minor": 0
      },
      "text/plain": [
       "FigureWidgetResampler({\n",
       "    'data': [{'fill': 'none',\n",
       "              'line': {'color': 'rgba(45, 146, 255, 1.0)…"
      ]
     },
     "metadata": {},
     "output_type": "display_data"
    }
   ],
   "source": [
    "# predict\n",
    "\n",
    "forecast = model_neupro.predict(train)\n",
    "# model_neupro.set_plotting_backend(\"plotly-static\")\n",
    "model_neupro.plot(forecast)"
   ]
  },
  {
   "cell_type": "code",
   "execution_count": 27,
   "metadata": {},
   "outputs": [
    {
     "data": {
      "application/vnd.jupyter.widget-view+json": {
       "model_id": "86f2e9bea3fb4476ab0ce29438a6c11a",
       "version_major": 2,
       "version_minor": 0
      },
      "text/plain": [
       "Predicting: 68it [00:00, ?it/s]"
      ]
     },
     "metadata": {},
     "output_type": "display_data"
    },
    {
     "data": {
      "application/vnd.jupyter.widget-view+json": {
       "model_id": "427d8dd88297411d97193030b7fe4c03",
       "version_major": 2,
       "version_minor": 0
      },
      "text/plain": [
       "FigureWidgetResampler({\n",
       "    'data': [{'line': {'color': '#2d92ff', 'width': 2},\n",
       "              'mode': 'lines',…"
      ]
     },
     "metadata": {},
     "output_type": "display_data"
    }
   ],
   "source": [
    "forecast = model_neupro.predict(test)\n",
    "model_neupro = model_neupro.highlight_nth_step_ahead_of_each_forecast(1)\n",
    "model_neupro.plot(forecast[-5*4*12*1:])"
   ]
  },
  {
   "cell_type": "code",
   "execution_count": 28,
   "metadata": {},
   "outputs": [
    {
     "data": {
      "application/vnd.jupyter.widget-view+json": {
       "model_id": "08516499d77844838d33b5a40744c168",
       "version_major": 2,
       "version_minor": 0
      },
      "text/plain": [
       "FigureWidgetResampler({\n",
       "    'data': [{'line': {'color': '#2d92ff', 'width': 2},\n",
       "              'mode': 'lines',…"
      ]
     },
     "metadata": {},
     "output_type": "display_data"
    }
   ],
   "source": [
    "model_neupro.plot(forecast[['ds', 'y', 'yhat1']])"
   ]
  },
  {
   "cell_type": "code",
   "execution_count": 29,
   "metadata": {},
   "outputs": [
    {
     "data": {
      "application/vnd.jupyter.widget-view+json": {
       "model_id": "c4546745fc7a48d7a80ad90454fab8d4",
       "version_major": 2,
       "version_minor": 0
      },
      "text/plain": [
       "FigureWidgetResampler({\n",
       "    'data': [{'fill': 'none',\n",
       "              'line': {'color': '#2d92ff', 'width': 2},\n",
       "…"
      ]
     },
     "metadata": {},
     "output_type": "display_data"
    }
   ],
   "source": [
    "model_neupro.plot_parameters()"
   ]
  },
  {
   "cell_type": "code",
   "execution_count": 40,
   "metadata": {},
   "outputs": [
    {
     "data": {
      "text/html": [
       "<div>\n",
       "<style scoped>\n",
       "    .dataframe tbody tr th:only-of-type {\n",
       "        vertical-align: middle;\n",
       "    }\n",
       "\n",
       "    .dataframe tbody tr th {\n",
       "        vertical-align: top;\n",
       "    }\n",
       "\n",
       "    .dataframe thead th {\n",
       "        text-align: right;\n",
       "    }\n",
       "</style>\n",
       "<table border=\"1\" class=\"dataframe\">\n",
       "  <thead>\n",
       "    <tr style=\"text-align: right;\">\n",
       "      <th></th>\n",
       "      <th>ds</th>\n",
       "      <th>y</th>\n",
       "    </tr>\n",
       "  </thead>\n",
       "  <tbody>\n",
       "    <tr>\n",
       "      <th>0</th>\n",
       "      <td>2023-09-02 00:00:00+00:00</td>\n",
       "      <td>0</td>\n",
       "    </tr>\n",
       "    <tr>\n",
       "      <th>1</th>\n",
       "      <td>2023-09-03 00:00:00+00:00</td>\n",
       "      <td>0</td>\n",
       "    </tr>\n",
       "    <tr>\n",
       "      <th>2</th>\n",
       "      <td>2023-09-04 00:00:00+00:00</td>\n",
       "      <td>0</td>\n",
       "    </tr>\n",
       "    <tr>\n",
       "      <th>3</th>\n",
       "      <td>2023-09-05 00:00:00+00:00</td>\n",
       "      <td>0</td>\n",
       "    </tr>\n",
       "    <tr>\n",
       "      <th>4</th>\n",
       "      <td>2023-09-06 00:00:00+00:00</td>\n",
       "      <td>0</td>\n",
       "    </tr>\n",
       "    <tr>\n",
       "      <th>...</th>\n",
       "      <td>...</td>\n",
       "      <td>...</td>\n",
       "    </tr>\n",
       "    <tr>\n",
       "      <th>115</th>\n",
       "      <td>2023-12-26 00:00:00+00:00</td>\n",
       "      <td>0</td>\n",
       "    </tr>\n",
       "    <tr>\n",
       "      <th>116</th>\n",
       "      <td>2023-12-27 00:00:00+00:00</td>\n",
       "      <td>0</td>\n",
       "    </tr>\n",
       "    <tr>\n",
       "      <th>117</th>\n",
       "      <td>2023-12-28 00:00:00+00:00</td>\n",
       "      <td>0</td>\n",
       "    </tr>\n",
       "    <tr>\n",
       "      <th>118</th>\n",
       "      <td>2023-12-29 00:00:00+00:00</td>\n",
       "      <td>0</td>\n",
       "    </tr>\n",
       "    <tr>\n",
       "      <th>119</th>\n",
       "      <td>2023-12-30 00:00:00+00:00</td>\n",
       "      <td>0</td>\n",
       "    </tr>\n",
       "  </tbody>\n",
       "</table>\n",
       "<p>120 rows × 2 columns</p>\n",
       "</div>"
      ],
      "text/plain": [
       "                           ds  y\n",
       "0   2023-09-02 00:00:00+00:00  0\n",
       "1   2023-09-03 00:00:00+00:00  0\n",
       "2   2023-09-04 00:00:00+00:00  0\n",
       "3   2023-09-05 00:00:00+00:00  0\n",
       "4   2023-09-06 00:00:00+00:00  0\n",
       "..                        ... ..\n",
       "115 2023-12-26 00:00:00+00:00  0\n",
       "116 2023-12-27 00:00:00+00:00  0\n",
       "117 2023-12-28 00:00:00+00:00  0\n",
       "118 2023-12-29 00:00:00+00:00  0\n",
       "119 2023-12-30 00:00:00+00:00  0\n",
       "\n",
       "[120 rows x 2 columns]"
      ]
     },
     "execution_count": 40,
     "metadata": {},
     "output_type": "execute_result"
    }
   ],
   "source": [
    "df_future = pd.DataFrame()\n",
    "df_future['ds'] = pd.date_range(pd.to_datetime(\"2023-09-02\", utc=True), periods=120)\n",
    "df_future['y'] = 0\n",
    "df_future"
   ]
  },
  {
   "cell_type": "code",
   "execution_count": 41,
   "metadata": {},
   "outputs": [
    {
     "data": {
      "application/vnd.jupyter.widget-view+json": {
       "model_id": "4049895dab084477aafda7c36f59cdd2",
       "version_major": 2,
       "version_minor": 0
      },
      "text/plain": [
       "Predicting: 68it [00:00, ?it/s]"
      ]
     },
     "metadata": {},
     "output_type": "display_data"
    },
    {
     "data": {
      "application/vnd.jupyter.widget-view+json": {
       "model_id": "8c21c45f1e1948388133e56006b02719",
       "version_major": 2,
       "version_minor": 0
      },
      "text/plain": [
       "FigureWidgetResampler({\n",
       "    'data': [{'line': {'color': '#2d92ff', 'width': 2},\n",
       "              'mode': 'lines',…"
      ]
     },
     "metadata": {},
     "output_type": "display_data"
    }
   ],
   "source": [
    "# Forecast out-of-sample\n",
    "forecast = model_neupro.predict(df_future)\n",
    "model_neupro = model_neupro.highlight_nth_step_ahead_of_each_forecast(1)\n",
    "model_neupro.plot(forecast)"
   ]
  },
  {
   "cell_type": "markdown",
   "metadata": {},
   "source": [
    "## Times series - Linear univariate"
   ]
  },
  {
   "cell_type": "markdown",
   "metadata": {},
   "source": [
    "### TB 5Y Bond rate - non stationary"
   ]
  },
  {
   "cell_type": "code",
   "execution_count": 92,
   "metadata": {},
   "outputs": [],
   "source": [
    "## Time series - linear univar\n",
    "\n",
    "%reload_ext autoreload\n",
    "%autoreload 2\n",
    "from module_regression import * \n",
    "from module_timeseries import *\n",
    "\n",
    "# Data manipulation \n",
    "import requests\n",
    "from io import BytesIO\n",
    "import random\n",
    "from itertools import product\n",
    "import scipy as sp\n",
    "\n",
    "# Time series algorithms\n",
    "from statsmodels.tsa.arima_process import arma_generate_sample\n",
    "from statsmodels.tsa.arima_model import ARIMA\n",
    "from statsmodels.tsa.statespace.sarimax import SARIMAX\n",
    "# from statsmodels.tsa.statespace import SARIMAX\n",
    "from pmdarima import AutoARIMA\n",
    "from statsmodels.graphics.tsaplots import plot_acf, plot_pacf, plot_predict"
   ]
  },
  {
   "cell_type": "code",
   "execution_count": 93,
   "metadata": {},
   "outputs": [
    {
     "data": {
      "text/html": [
       "<div>\n",
       "<style scoped>\n",
       "    .dataframe tbody tr th:only-of-type {\n",
       "        vertical-align: middle;\n",
       "    }\n",
       "\n",
       "    .dataframe tbody tr th {\n",
       "        vertical-align: top;\n",
       "    }\n",
       "\n",
       "    .dataframe thead th {\n",
       "        text-align: right;\n",
       "    }\n",
       "</style>\n",
       "<table border=\"1\" class=\"dataframe\">\n",
       "  <thead>\n",
       "    <tr style=\"text-align: right;\">\n",
       "      <th></th>\n",
       "      <th>5Y</th>\n",
       "      <th>13W</th>\n",
       "      <th>10Y</th>\n",
       "      <th>30Y</th>\n",
       "      <th>Price</th>\n",
       "      <th>percent</th>\n",
       "    </tr>\n",
       "    <tr>\n",
       "      <th>Date</th>\n",
       "      <th></th>\n",
       "      <th></th>\n",
       "      <th></th>\n",
       "      <th></th>\n",
       "      <th></th>\n",
       "      <th></th>\n",
       "    </tr>\n",
       "  </thead>\n",
       "  <tbody>\n",
       "    <tr>\n",
       "      <th>2010-06-30 00:00:00+00:00</th>\n",
       "      <td>1.79</td>\n",
       "      <td>0.17</td>\n",
       "      <td>2.95</td>\n",
       "      <td>3.91</td>\n",
       "      <td>1.59</td>\n",
       "      <td>-0.25</td>\n",
       "    </tr>\n",
       "    <tr>\n",
       "      <th>2010-07-01 00:00:00+00:00</th>\n",
       "      <td>1.79</td>\n",
       "      <td>0.17</td>\n",
       "      <td>2.93</td>\n",
       "      <td>3.87</td>\n",
       "      <td>1.46</td>\n",
       "      <td>-7.85</td>\n",
       "    </tr>\n",
       "    <tr>\n",
       "      <th>2010-07-02 00:00:00+00:00</th>\n",
       "      <td>1.81</td>\n",
       "      <td>0.16</td>\n",
       "      <td>2.98</td>\n",
       "      <td>3.94</td>\n",
       "      <td>1.28</td>\n",
       "      <td>-12.57</td>\n",
       "    </tr>\n",
       "    <tr>\n",
       "      <th>2010-07-06 00:00:00+00:00</th>\n",
       "      <td>1.76</td>\n",
       "      <td>0.16</td>\n",
       "      <td>2.93</td>\n",
       "      <td>3.89</td>\n",
       "      <td>1.07</td>\n",
       "      <td>-16.09</td>\n",
       "    </tr>\n",
       "    <tr>\n",
       "      <th>2010-07-07 00:00:00+00:00</th>\n",
       "      <td>1.78</td>\n",
       "      <td>0.16</td>\n",
       "      <td>2.98</td>\n",
       "      <td>3.95</td>\n",
       "      <td>1.05</td>\n",
       "      <td>-1.92</td>\n",
       "    </tr>\n",
       "  </tbody>\n",
       "</table>\n",
       "</div>"
      ],
      "text/plain": [
       "                            5Y  13W  10Y  30Y  Price  percent\n",
       "Date                                                         \n",
       "2010-06-30 00:00:00+00:00 1.79 0.17 2.95 3.91   1.59    -0.25\n",
       "2010-07-01 00:00:00+00:00 1.79 0.17 2.93 3.87   1.46    -7.85\n",
       "2010-07-02 00:00:00+00:00 1.81 0.16 2.98 3.94   1.28   -12.57\n",
       "2010-07-06 00:00:00+00:00 1.76 0.16 2.93 3.89   1.07   -16.09\n",
       "2010-07-07 00:00:00+00:00 1.78 0.16 2.98 3.95   1.05    -1.92"
      ]
     },
     "execution_count": 93,
     "metadata": {},
     "output_type": "execute_result"
    }
   ],
   "source": [
    "df_daily.head()"
   ]
  },
  {
   "cell_type": "code",
   "execution_count": 94,
   "metadata": {},
   "outputs": [],
   "source": [
    "# ## Base algorithm : Linear Regression\n",
    "\n",
    "# # split data\n",
    "# Y_colname = ['percent']\n",
    "# X_colname = ['5Y']\n",
    "# X_train, X_test, Y_train, Y_test = datasplit_ts(df_daily, Y_colname, X_colname, '2020-07-31')\n",
    "\n",
    "\n",
    "# # Linear regression\n",
    "# model_lr = sm.OLS(Y_train, X_train).fit()\n",
    "# display(model_lr.summary())\n",
    "\n",
    "# Y_trpred = pd.DataFrame(model_lr.predict(X_train), columns=['Pred'])\n",
    "# Y_tepred = pd.DataFrame(model_lr.predict(X_test), columns=['Pred'])\n",
    "# plot_prediction(pd.concat([Y_train, Y_trpred], axis=1).reset_index().iloc[:, 1:])\n",
    "# plot_prediction(pd.concat([Y_test, Y_tepred], axis=1).reset_index().iloc[:, 1:])\n",
    "\n",
    "# # 분석 검증\n",
    "# Score = evaluation_reg_trte(Y_train, Y_trpred, Y_test, Y_tepred)\n",
    "# display(Score)\n",
    "\n",
    "# # 에러 분석\n",
    "# Resid_te = Y_test - Y_tepred.values\n",
    "# Resid_te.columns = ['Error']\n",
    "# Error_te = error_analysis_timeseries(X_test, Y_tepred, Resid_te, graph_on=True)\n",
    "# display(Error_te)"
   ]
  },
  {
   "cell_type": "markdown",
   "metadata": {},
   "source": [
    "#### Advanced Algorithm : SARIMA"
   ]
  },
  {
   "cell_type": "markdown",
   "metadata": {},
   "source": [
    "https://github.com/ahn283/finance/blob/main/time_series/lecture02_timeseries_linear_univariate.ipynb\n",
    "\n",
    "https://github.com/ahn283/finance/blob/main/python_for_finance_cookbook/time_series_analysis_forecasting.ipynb"
   ]
  },
  {
   "cell_type": "markdown",
   "metadata": {},
   "source": [
    "#### parameter guessing"
   ]
  },
  {
   "cell_type": "code",
   "execution_count": 95,
   "metadata": {},
   "outputs": [
    {
     "name": "stdout",
     "output_type": "stream",
     "text": [
      "H0 of ADF:  비정상상태\n",
      "H0 of KPSS:  정상상태\n"
     ]
    },
    {
     "data": {
      "text/html": [
       "<div>\n",
       "<style scoped>\n",
       "    .dataframe tbody tr th:only-of-type {\n",
       "        vertical-align: middle;\n",
       "    }\n",
       "\n",
       "    .dataframe tbody tr th {\n",
       "        vertical-align: top;\n",
       "    }\n",
       "\n",
       "    .dataframe thead th {\n",
       "        text-align: right;\n",
       "    }\n",
       "</style>\n",
       "<table border=\"1\" class=\"dataframe\">\n",
       "  <thead>\n",
       "    <tr style=\"text-align: right;\">\n",
       "      <th></th>\n",
       "      <th>Stationarity_ADF</th>\n",
       "      <th>Stationarity_KPSS</th>\n",
       "    </tr>\n",
       "  </thead>\n",
       "  <tbody>\n",
       "    <tr>\n",
       "      <th>Test Statistics</th>\n",
       "      <td>-0.33</td>\n",
       "      <td>1.68</td>\n",
       "    </tr>\n",
       "    <tr>\n",
       "      <th>p-value</th>\n",
       "      <td>0.92</td>\n",
       "      <td>0.01</td>\n",
       "    </tr>\n",
       "    <tr>\n",
       "      <th>Used Lag</th>\n",
       "      <td>23.00</td>\n",
       "      <td>37.00</td>\n",
       "    </tr>\n",
       "    <tr>\n",
       "      <th>Critical Value (1%)</th>\n",
       "      <td>-3.43</td>\n",
       "      <td>0.74</td>\n",
       "    </tr>\n",
       "    <tr>\n",
       "      <th>Critical Value (5%)</th>\n",
       "      <td>-2.86</td>\n",
       "      <td>0.46</td>\n",
       "    </tr>\n",
       "    <tr>\n",
       "      <th>Critical Value (10%)</th>\n",
       "      <td>-2.57</td>\n",
       "      <td>0.35</td>\n",
       "    </tr>\n",
       "    <tr>\n",
       "      <th>Critical Value (2.5%)</th>\n",
       "      <td>NaN</td>\n",
       "      <td>0.57</td>\n",
       "    </tr>\n",
       "  </tbody>\n",
       "</table>\n",
       "</div>"
      ],
      "text/plain": [
       "                       Stationarity_ADF  Stationarity_KPSS\n",
       "Test Statistics                   -0.33               1.68\n",
       "p-value                            0.92               0.01\n",
       "Used Lag                          23.00              37.00\n",
       "Critical Value (1%)               -3.43               0.74\n",
       "Critical Value (5%)               -2.86               0.46\n",
       "Critical Value (10%)              -2.57               0.35\n",
       "Critical Value (2.5%)               NaN               0.57"
      ]
     },
     "metadata": {},
     "output_type": "display_data"
    },
    {
     "data": {
      "image/png": "[encoded data removed]",
      "text/plain": [
       "<Figure size 1200x400 with 2 Axes>"
      ]
     },
     "metadata": {},
     "output_type": "display_data"
    }
   ],
   "source": [
    "## 정상성 테스트 및 모수추론\n",
    "sarima_y = pd.DataFrame(df_daily[\"5Y\"])\n",
    "\n",
    "print('H0 of ADF: ', '비정상상태')\n",
    "print('H0 of KPSS: ', '정상상태')\n",
    "display(stationarity_ADF_KPSS(pd.DataFrame(sarima_y.values.flatten())))\n",
    "\n",
    "plt.figure(figsize=(12, 4))\n",
    "plot_acf(sarima_y, lags=4*5*3, alpha=0.5, use_vlines=True, ax=plt.subplot(121))\n",
    "plot_pacf(sarima_y, lags=4*5*3, alpha=0.5, use_vlines=True, ax=plt.subplot(122))\n",
    "plt.tight_layout()\n",
    "sns.despine()\n",
    "plt.show()"
   ]
  },
  {
   "cell_type": "markdown",
   "metadata": {},
   "source": [
    "#### Train models with grid search"
   ]
  },
  {
   "cell_type": "code",
   "execution_count": 114,
   "metadata": {},
   "outputs": [],
   "source": [
    "import itertools\n",
    "\n",
    "# Define the p, d and q paramters to take any value between 0 and 4\n",
    "## ARMA(p, d, q)\n",
    "p = d = q = range(2)\n",
    "## seasonal ARMA(P, D, Q, S)\n",
    "P = D = Q = range(1)\n",
    "S = 4*5*3\n",
    "\n",
    "# Generate all different combinations of p, d and q triplets\n",
    "pdq = list(itertools.product(p, d, q))\n",
    "\n",
    "# Generate all different combinations of seasonal p, d and q tripliets\n",
    "seasonal_pdq = [(x[0], x[1], x[2], S) for x in list(itertools.product(P, D, Q))]"
   ]
  },
  {
   "cell_type": "code",
   "execution_count": 115,
   "metadata": {},
   "outputs": [
    {
     "data": {
      "text/plain": [
       "[(0, 0, 0),\n",
       " (0, 0, 1),\n",
       " (0, 1, 0),\n",
       " (0, 1, 1),\n",
       " (1, 0, 0),\n",
       " (1, 0, 1),\n",
       " (1, 1, 0),\n",
       " (1, 1, 1)]"
      ]
     },
     "execution_count": 115,
     "metadata": {},
     "output_type": "execute_result"
    }
   ],
   "source": [
    "pdq"
   ]
  },
  {
   "cell_type": "code",
   "execution_count": 116,
   "metadata": {},
   "outputs": [
    {
     "data": {
      "text/plain": [
       "[(0, 0, 0, 60)]"
      ]
     },
     "execution_count": 116,
     "metadata": {},
     "output_type": "execute_result"
    }
   ],
   "source": [
    "seasonal_pdq"
   ]
  },
  {
   "cell_type": "code",
   "execution_count": 99,
   "metadata": {},
   "outputs": [],
   "source": [
    "# # choose best AIC parameter (minimum)\n",
    "\n",
    "# best_aic = np.inf\n",
    "# best_pdq = None\n",
    "# best_seasonal_pdq = None\n",
    "# tmp_model = None\n",
    "# best_mdl = None\n",
    "# results = []\n",
    "\n",
    "# for param in pdq:\n",
    "#     for param_seasonal in seasonal_pdq:\n",
    "        # try:\n",
    "        #     tmp_mdl = SARIMAX(sarima_y.values, exog=None, order=param,\n",
    "        #                       seasonal_order=param_seasonal,\n",
    "        #                       enforce_stationarity=True,\n",
    "        #                       enforce_invertibility=True)\n",
    "        #     res = tmp_mdl.fit()\n",
    "        #     print(\"SARIMAX{}x{},{S} - AIC:{}\".format(param, param_seasonal, res.aic))\n",
    "            \n",
    "        #     if res.aic < best_aic:\n",
    "        #         best_aic = res.aic\n",
    "        #         best_pdq = param\n",
    "        #         best_seasonal_pdq = param_seasonal\n",
    "        #         best_mdl = tmp_mdl\n",
    "        \n",
    "        # except:\n",
    "        #     continue\n",
    "\n",
    "# print(\"Best SARIMAX{}x{}{} model - AIC:{}\".format(best_pdq, best_seasonal_pdq, S, best_aic))"
   ]
  },
  {
   "cell_type": "code",
   "execution_count": 117,
   "metadata": {},
   "outputs": [
    {
     "name": "stderr",
     "output_type": "stream",
     "text": [
      " This problem is unconstrained.\n",
      " This problem is unconstrained.\n"
     ]
    },
    {
     "name": "stdout",
     "output_type": "stream",
     "text": [
      "RUNNING THE L-BFGS-B CODE\n",
      "\n",
      "           * * *\n",
      "\n",
      "Machine precision = 2.220D-16\n",
      " N =            1     M =           10\n",
      "\n",
      "At X0         0 variables are exactly at the bounds\n",
      "\n",
      "At iterate    0    f=  2.07501D+00    |proj g|=  2.69242D-06\n",
      "\n",
      "           * * *\n",
      "\n",
      "Tit   = total number of iterations\n",
      "Tnf   = total number of function evaluations\n",
      "Tnint = total number of segments explored during Cauchy searches\n",
      "Skip  = number of BFGS updates skipped\n",
      "Nact  = number of active bounds at final generalized Cauchy point\n",
      "Projg = norm of the final projected gradient\n",
      "F     = final function value\n",
      "\n",
      "           * * *\n",
      "\n",
      "   N    Tit     Tnf  Tnint  Skip  Nact     Projg        F\n",
      "    1      0      1      0     0     0   2.692D-06   2.075D+00\n",
      "  F =   2.0750084113425791     \n",
      "\n",
      "CONVERGENCE: NORM_OF_PROJECTED_GRADIENT_<=_PGTOL            \n",
      "p: 0 d: 0 q: 0 P: 0 D: 0 Q: 0 S: 60\n",
      "RUNNING THE L-BFGS-B CODE\n",
      "\n",
      "           * * *\n",
      "\n",
      "Machine precision = 2.220D-16\n",
      " N =            2     M =           10\n",
      "\n",
      "At X0         0 variables are exactly at the bounds\n",
      "\n",
      "At iterate    0    f=  1.70654D+00    |proj g|=  3.82622D-01\n",
      "\n",
      "At iterate    5    f=  1.40654D+00    |proj g|=  2.33694D-02\n",
      "\n",
      "At iterate   10    f=  1.40099D+00    |proj g|=  5.69456D-03\n",
      "\n",
      "           * * *\n",
      "\n",
      "Tit   = total number of iterations\n",
      "Tnf   = total number of function evaluations\n",
      "Tnint = total number of segments explored during Cauchy searches\n",
      "Skip  = number of BFGS updates skipped\n",
      "Nact  = number of active bounds at final generalized Cauchy point\n",
      "Projg = norm of the final projected gradient\n",
      "F     = final function value\n",
      "\n",
      "           * * *\n",
      "\n",
      "   N    Tit     Tnf  Tnint  Skip  Nact     Projg        F\n",
      "    2     14     16      1     0     0   5.436D-07   1.401D+00\n",
      "  F =   1.4009231399243194     \n",
      "\n",
      "CONVERGENCE: NORM_OF_PROJECTED_GRADIENT_<=_PGTOL            \n",
      "p: 0 d: 0 q: 1 P: 0 D: 0 Q: 0 S: 60\n",
      "RUNNING THE L-BFGS-B CODE\n",
      "\n",
      "           * * *\n",
      "\n"
     ]
    },
    {
     "name": "stderr",
     "output_type": "stream",
     "text": [
      " This problem is unconstrained.\n",
      "\n",
      " Warning:  more than 10 function and gradient\n",
      "   evaluations in the last line search.  Termination\n",
      "   may possibly be caused by a bad search direction.\n",
      " This problem is unconstrained.\n",
      "\n",
      " Bad direction in the line search;\n",
      "   refresh the lbfgs memory and restart the iteration.\n",
      "\n",
      " Warning:  more than 10 function and gradient\n",
      "   evaluations in the last line search.  Termination\n",
      "   may possibly be caused by a bad search direction.\n"
     ]
    },
    {
     "name": "stdout",
     "output_type": "stream",
     "text": [
      "Machine precision = 2.220D-16\n",
      " N =            1     M =           10\n",
      "\n",
      "At X0         0 variables are exactly at the bounds\n",
      "\n",
      "At iterate    0    f= -1.54266D+00    |proj g|=  2.09599D-03\n",
      "\n",
      "           * * *\n",
      "\n",
      "Tit   = total number of iterations\n",
      "Tnf   = total number of function evaluations\n",
      "Tnint = total number of segments explored during Cauchy searches\n",
      "Skip  = number of BFGS updates skipped\n",
      "Nact  = number of active bounds at final generalized Cauchy point\n",
      "Projg = norm of the final projected gradient\n",
      "F     = final function value\n",
      "\n",
      "           * * *\n",
      "\n",
      "   N    Tit     Tnf  Tnint  Skip  Nact     Projg        F\n",
      "    1      2     15      1     0     0   3.122D-04  -1.543D+00\n",
      "  F =  -1.5426577182077132     \n",
      "\n",
      "CONVERGENCE: REL_REDUCTION_OF_F_<=_FACTR*EPSMCH             \n",
      "p: 0 d: 1 q: 0 P: 0 D: 0 Q: 0 S: 60\n",
      "RUNNING THE L-BFGS-B CODE\n",
      "\n",
      "           * * *\n",
      "\n",
      "Machine precision = 2.220D-16\n",
      " N =            2     M =           10\n",
      "\n",
      "At X0         0 variables are exactly at the bounds\n",
      "\n",
      "At iterate    0    f= -1.54280D+00    |proj g|=  1.99534D-02\n",
      "\n",
      "           * * *\n",
      "\n",
      "Tit   = total number of iterations\n",
      "Tnf   = total number of function evaluations\n",
      "Tnint = total number of segments explored during Cauchy searches\n",
      "Skip  = number of BFGS updates skipped\n",
      "Nact  = number of active bounds at final generalized Cauchy point\n",
      "Projg = norm of the final projected gradient\n",
      "F     = final function value\n",
      "\n",
      "           * * *\n",
      "\n",
      "   N    Tit     Tnf  Tnint  Skip  Nact     Projg        F\n",
      "    2      2     39      2     0     0   7.255D-04  -1.543D+00\n",
      "  F =  -1.5428002740473052     \n",
      "\n",
      "CONVERGENCE: REL_REDUCTION_OF_F_<=_FACTR*EPSMCH             \n",
      "p: 0 d: 1 q: 1 P: 0 D: 0 Q: 0 S: 60\n",
      "RUNNING THE L-BFGS-B CODE\n",
      "\n",
      "           * * *\n",
      "\n",
      "Machine precision = 2.220D-16\n",
      " N =            2     M =           10\n",
      "\n",
      "At X0         0 variables are exactly at the bounds\n",
      "\n",
      "At iterate    0    f=  6.92468D+02    |proj g|=  2.68348D+04\n",
      "\n",
      "At iterate    5    f=  1.30078D+00    |proj g|=  5.54956D-01\n",
      "\n",
      "At iterate   10    f= -1.18055D+00    |proj g|=  1.95524D+00\n",
      "\n",
      "At iterate   15    f= -1.50419D+00    |proj g|=  1.56150D+00\n",
      "\n",
      "At iterate   20    f= -1.53661D+00    |proj g|=  8.41617D-03\n"
     ]
    },
    {
     "name": "stderr",
     "output_type": "stream",
     "text": [
      " This problem is unconstrained.\n"
     ]
    },
    {
     "name": "stdout",
     "output_type": "stream",
     "text": [
      "\n",
      "At iterate   25    f= -1.54154D+00    |proj g|=  1.03398D-02\n",
      "\n",
      "At iterate   30    f= -1.54192D+00    |proj g|=  6.17028D-04\n",
      "\n",
      "           * * *\n",
      "\n",
      "Tit   = total number of iterations\n",
      "Tnf   = total number of function evaluations\n",
      "Tnint = total number of segments explored during Cauchy searches\n",
      "Skip  = number of BFGS updates skipped\n",
      "Nact  = number of active bounds at final generalized Cauchy point\n",
      "Projg = norm of the final projected gradient\n",
      "F     = final function value\n",
      "\n",
      "           * * *\n",
      "\n",
      "   N    Tit     Tnf  Tnint  Skip  Nact     Projg        F\n",
      "    2     34     52      1     0     0   5.674D-06  -1.542D+00\n",
      "  F =  -1.5419270262035578     \n",
      "\n",
      "CONVERGENCE: NORM_OF_PROJECTED_GRADIENT_<=_PGTOL            \n",
      "p: 1 d: 0 q: 0 P: 0 D: 0 Q: 0 S: 60\n",
      "RUNNING THE L-BFGS-B CODE\n",
      "\n",
      "           * * *\n",
      "\n",
      "Machine precision = 2.220D-16\n",
      " N =            3     M =           10\n",
      "\n",
      "At X0         0 variables are exactly at the bounds\n",
      "\n",
      "At iterate    0    f=  7.16833D+02    |proj g|=  2.77731D+04\n"
     ]
    },
    {
     "name": "stderr",
     "output_type": "stream",
     "text": [
      " This problem is unconstrained.\n"
     ]
    },
    {
     "name": "stdout",
     "output_type": "stream",
     "text": [
      "\n",
      "At iterate    5    f=  1.26736D+00    |proj g|=  5.68881D-01\n",
      "\n",
      "At iterate   10    f= -1.05736D+00    |proj g|=  3.24701D+00\n",
      "\n",
      "At iterate   15    f= -1.52289D+00    |proj g|=  4.18371D-01\n",
      "\n",
      "At iterate   20    f= -1.53615D+00    |proj g|=  8.43090D-02\n",
      "\n",
      "At iterate   25    f= -1.54160D+00    |proj g|=  8.36584D-03\n",
      "\n",
      "At iterate   30    f= -1.54205D+00    |proj g|=  1.07969D-02\n",
      "\n",
      "At iterate   35    f= -1.54207D+00    |proj g|=  5.72652D-04\n",
      "\n",
      "           * * *\n",
      "\n",
      "Tit   = total number of iterations\n",
      "Tnf   = total number of function evaluations\n",
      "Tnint = total number of segments explored during Cauchy searches\n",
      "Skip  = number of BFGS updates skipped\n",
      "Nact  = number of active bounds at final generalized Cauchy point\n",
      "Projg = norm of the final projected gradient\n",
      "F     = final function value\n",
      "\n",
      "           * * *\n",
      "\n",
      "   N    Tit     Tnf  Tnint  Skip  Nact     Projg        F\n",
      "    3     37     56      1     0     0   2.243D-06  -1.542D+00\n",
      "  F =  -1.5420675681077083     \n",
      "\n",
      "CONVERGENCE: NORM_OF_PROJECTED_GRADIENT_<=_PGTOL            \n",
      "p: 1 d: 0 q: 1 P: 0 D: 0 Q: 0 S: 60\n",
      "RUNNING THE L-BFGS-B CODE\n",
      "\n",
      "           * * *\n",
      "\n",
      "Machine precision = 2.220D-16\n",
      " N =            2     M =           10\n",
      "\n",
      "At X0         0 variables are exactly at the bounds\n",
      "\n",
      "At iterate    0    f= -1.54279D+00    |proj g|=  9.57078D-03\n",
      "\n",
      "           * * *\n",
      "\n",
      "Tit   = total number of iterations\n",
      "Tnf   = total number of function evaluations\n",
      "Tnint = total number of segments explored during Cauchy searches\n",
      "Skip  = number of BFGS updates skipped\n",
      "Nact  = number of active bounds at final generalized Cauchy point\n",
      "Projg = norm of the final projected gradient\n",
      "F     = final function value\n",
      "\n",
      "           * * *\n",
      "\n",
      "   N    Tit     Tnf  Tnint  Skip  Nact     Projg        F\n",
      "    2      2     16      1     0     0   3.607D-04  -1.543D+00\n",
      "  F =  -1.5427912757979081     \n",
      "\n",
      "CONVERGENCE: REL_REDUCTION_OF_F_<=_FACTR*EPSMCH             \n",
      "p: 1 d: 1 q: 0 P: 0 D: 0 Q: 0 S: 60\n",
      "RUNNING THE L-BFGS-B CODE\n",
      "\n",
      "           * * *\n",
      "\n",
      "Machine precision = 2.220D-16\n",
      " N =            3     M =           10\n",
      "\n",
      "At X0         0 variables are exactly at the bounds\n",
      "\n",
      "At iterate    0    f= -1.54294D+00    |proj g|=  1.66257D-02\n"
     ]
    },
    {
     "name": "stderr",
     "output_type": "stream",
     "text": [
      " This problem is unconstrained.\n",
      "\n",
      " Warning:  more than 10 function and gradient\n",
      "   evaluations in the last line search.  Termination\n",
      "   may possibly be caused by a bad search direction.\n",
      " This problem is unconstrained.\n"
     ]
    },
    {
     "name": "stdout",
     "output_type": "stream",
     "text": [
      "\n",
      "At iterate    5    f= -1.54294D+00    |proj g|=  3.13675D-02\n",
      "\n",
      "At iterate   10    f= -1.54295D+00    |proj g|=  4.58354D-04\n",
      "\n",
      "           * * *\n",
      "\n",
      "Tit   = total number of iterations\n",
      "Tnf   = total number of function evaluations\n",
      "Tnint = total number of segments explored during Cauchy searches\n",
      "Skip  = number of BFGS updates skipped\n",
      "Nact  = number of active bounds at final generalized Cauchy point\n",
      "Projg = norm of the final projected gradient\n",
      "F     = final function value\n",
      "\n",
      "           * * *\n",
      "\n",
      "   N    Tit     Tnf  Tnint  Skip  Nact     Projg        F\n",
      "    3     10     14      1     0     0   4.584D-04  -1.543D+00\n",
      "  F =  -1.5429462351569578     \n",
      "\n",
      "CONVERGENCE: REL_REDUCTION_OF_F_<=_FACTR*EPSMCH             \n",
      "p: 1 d: 1 q: 1 P: 0 D: 0 Q: 0 S: 60\n"
     ]
    }
   ],
   "source": [
    "# choose best AIC parameter (minimum)\n",
    "result = []\n",
    "\n",
    "for param in pdq:\n",
    "    for param_seasonal in seasonal_pdq:\n",
    "        if (p == 0) & (q == 0) & (d == 0):\n",
    "            continue\n",
    "        \n",
    "        model = SARIMAX(sarima_y, order=param,\n",
    "                        seasonal_order=param_seasonal\n",
    "                        ).fit()\n",
    "        \n",
    "        try:\n",
    "            print(\"p:\", param[0], \"d:\", param[1], \"q:\", param[2], \"P:\", param_seasonal[0], \"D:\", param_seasonal[1], \"Q:\", param_seasonal[2], \"S:\", param_seasonal[3])\n",
    "            result.append({'p':param[0], 'd':param[1], 'q':param[2], \n",
    "                            'P':param_seasonal[0], 'D':param_seasonal[1], 'Q':param_seasonal[2], 'S':param_seasonal[3], \n",
    "                            'LLF': model.llf, 'AIC': model.aic, 'BIC': model.bic})\n",
    "        \n",
    "        except:\n",
    "            pass"
   ]
  },
  {
   "cell_type": "code",
   "execution_count": 118,
   "metadata": {},
   "outputs": [
    {
     "data": {
      "text/html": [
       "<div>\n",
       "<style scoped>\n",
       "    .dataframe tbody tr th:only-of-type {\n",
       "        vertical-align: middle;\n",
       "    }\n",
       "\n",
       "    .dataframe tbody tr th {\n",
       "        vertical-align: top;\n",
       "    }\n",
       "\n",
       "    .dataframe thead th {\n",
       "        text-align: right;\n",
       "    }\n",
       "</style>\n",
       "<table border=\"1\" class=\"dataframe\">\n",
       "  <thead>\n",
       "    <tr style=\"text-align: right;\">\n",
       "      <th></th>\n",
       "      <th>p</th>\n",
       "      <th>d</th>\n",
       "      <th>q</th>\n",
       "      <th>P</th>\n",
       "      <th>D</th>\n",
       "      <th>Q</th>\n",
       "      <th>S</th>\n",
       "      <th>LLF</th>\n",
       "      <th>AIC</th>\n",
       "      <th>BIC</th>\n",
       "    </tr>\n",
       "  </thead>\n",
       "  <tbody>\n",
       "    <tr>\n",
       "      <th>0</th>\n",
       "      <td>0</td>\n",
       "      <td>0</td>\n",
       "      <td>0</td>\n",
       "      <td>0</td>\n",
       "      <td>0</td>\n",
       "      <td>0</td>\n",
       "      <td>60</td>\n",
       "      <td>-6,876.58</td>\n",
       "      <td>13,755.16</td>\n",
       "      <td>13,761.26</td>\n",
       "    </tr>\n",
       "    <tr>\n",
       "      <th>1</th>\n",
       "      <td>0</td>\n",
       "      <td>0</td>\n",
       "      <td>1</td>\n",
       "      <td>0</td>\n",
       "      <td>0</td>\n",
       "      <td>0</td>\n",
       "      <td>60</td>\n",
       "      <td>-4,642.66</td>\n",
       "      <td>9,289.32</td>\n",
       "      <td>9,301.53</td>\n",
       "    </tr>\n",
       "    <tr>\n",
       "      <th>2</th>\n",
       "      <td>0</td>\n",
       "      <td>1</td>\n",
       "      <td>0</td>\n",
       "      <td>0</td>\n",
       "      <td>0</td>\n",
       "      <td>0</td>\n",
       "      <td>60</td>\n",
       "      <td>5,112.37</td>\n",
       "      <td>-10,222.74</td>\n",
       "      <td>-10,216.63</td>\n",
       "    </tr>\n",
       "    <tr>\n",
       "      <th>3</th>\n",
       "      <td>0</td>\n",
       "      <td>1</td>\n",
       "      <td>1</td>\n",
       "      <td>0</td>\n",
       "      <td>0</td>\n",
       "      <td>0</td>\n",
       "      <td>60</td>\n",
       "      <td>5,112.84</td>\n",
       "      <td>-10,221.68</td>\n",
       "      <td>-10,209.47</td>\n",
       "    </tr>\n",
       "    <tr>\n",
       "      <th>4</th>\n",
       "      <td>1</td>\n",
       "      <td>0</td>\n",
       "      <td>0</td>\n",
       "      <td>0</td>\n",
       "      <td>0</td>\n",
       "      <td>0</td>\n",
       "      <td>60</td>\n",
       "      <td>5,109.95</td>\n",
       "      <td>-10,215.89</td>\n",
       "      <td>-10,203.68</td>\n",
       "    </tr>\n",
       "    <tr>\n",
       "      <th>5</th>\n",
       "      <td>1</td>\n",
       "      <td>0</td>\n",
       "      <td>1</td>\n",
       "      <td>0</td>\n",
       "      <td>0</td>\n",
       "      <td>0</td>\n",
       "      <td>60</td>\n",
       "      <td>5,110.41</td>\n",
       "      <td>-10,214.82</td>\n",
       "      <td>-10,196.51</td>\n",
       "    </tr>\n",
       "    <tr>\n",
       "      <th>6</th>\n",
       "      <td>1</td>\n",
       "      <td>1</td>\n",
       "      <td>0</td>\n",
       "      <td>0</td>\n",
       "      <td>0</td>\n",
       "      <td>0</td>\n",
       "      <td>60</td>\n",
       "      <td>5,112.81</td>\n",
       "      <td>-10,221.62</td>\n",
       "      <td>-10,209.41</td>\n",
       "    </tr>\n",
       "    <tr>\n",
       "      <th>7</th>\n",
       "      <td>1</td>\n",
       "      <td>1</td>\n",
       "      <td>1</td>\n",
       "      <td>0</td>\n",
       "      <td>0</td>\n",
       "      <td>0</td>\n",
       "      <td>60</td>\n",
       "      <td>5,113.32</td>\n",
       "      <td>-10,220.65</td>\n",
       "      <td>-10,202.33</td>\n",
       "    </tr>\n",
       "  </tbody>\n",
       "</table>\n",
       "</div>"
      ],
      "text/plain": [
       "   p  d  q  P  D  Q   S       LLF        AIC        BIC\n",
       "0  0  0  0  0  0  0  60 -6,876.58  13,755.16  13,761.26\n",
       "1  0  0  1  0  0  0  60 -4,642.66   9,289.32   9,301.53\n",
       "2  0  1  0  0  0  0  60  5,112.37 -10,222.74 -10,216.63\n",
       "3  0  1  1  0  0  0  60  5,112.84 -10,221.68 -10,209.47\n",
       "4  1  0  0  0  0  0  60  5,109.95 -10,215.89 -10,203.68\n",
       "5  1  0  1  0  0  0  60  5,110.41 -10,214.82 -10,196.51\n",
       "6  1  1  0  0  0  0  60  5,112.81 -10,221.62 -10,209.41\n",
       "7  1  1  1  0  0  0  60  5,113.32 -10,220.65 -10,202.33"
      ]
     },
     "metadata": {},
     "output_type": "display_data"
    },
    {
     "name": "stdout",
     "output_type": "stream",
     "text": [
      "( 0 1 0 ) ( 0 0 0 60 )\n"
     ]
    },
    {
     "data": {
      "image/png": "[encoded data removed]",
      "text/plain": [
       "<Figure size 640x480 with 1 Axes>"
      ]
     },
     "metadata": {},
     "output_type": "display_data"
    }
   ],
   "source": [
    "# plot the results\n",
    "result = pd.DataFrame(result)\n",
    "display(result)\n",
    "\n",
    "# AIC, BIC graph\n",
    "result.iloc[:, -3:].plot()\n",
    "\n",
    "# optimized aic, bic, best params\n",
    "opt_p = result.iloc[np.argmin(result['AIC']), 0]\n",
    "opt_d = result.iloc[np.argmin(result['AIC']), 1]\n",
    "opt_q = result.iloc[np.argmin(result['AIC']), 2]\n",
    "opt_P = result.iloc[np.argmin(result['AIC']), 3]\n",
    "opt_D = result.iloc[np.argmin(result['AIC']), 4]\n",
    "opt_Q = result.iloc[np.argmin(result['AIC']), 5]\n",
    "opt_S = result.iloc[np.argmin(result['AIC']), 6]\n",
    "\n",
    "print(\"(\", opt_p, opt_d, opt_q, \")\", \"(\", opt_P, opt_D, opt_Q, opt_S, \")\")"
   ]
  },
  {
   "cell_type": "code",
   "execution_count": 119,
   "metadata": {},
   "outputs": [
    {
     "name": "stdout",
     "output_type": "stream",
     "text": [
      "RUNNING THE L-BFGS-B CODE\n",
      "\n",
      "           * * *\n",
      "\n",
      "Machine precision = 2.220D-16\n",
      " N =            1     M =           10\n",
      "\n",
      "At X0         0 variables are exactly at the bounds\n",
      "\n",
      "At iterate    0    f= -1.54266D+00    |proj g|=  2.09599D-03\n",
      "\n",
      "           * * *\n",
      "\n",
      "Tit   = total number of iterations\n",
      "Tnf   = total number of function evaluations\n",
      "Tnint = total number of segments explored during Cauchy searches\n",
      "Skip  = number of BFGS updates skipped\n",
      "Nact  = number of active bounds at final generalized Cauchy point\n",
      "Projg = norm of the final projected gradient\n",
      "F     = final function value\n",
      "\n",
      "           * * *\n",
      "\n",
      "   N    Tit     Tnf  Tnint  Skip  Nact     Projg        F\n",
      "    1      2     15      1     0     0   3.122D-04  -1.543D+00\n",
      "  F =  -1.5426577182077132     \n",
      "\n",
      "CONVERGENCE: REL_REDUCTION_OF_F_<=_FACTR*EPSMCH             \n"
     ]
    },
    {
     "name": "stderr",
     "output_type": "stream",
     "text": [
      " This problem is unconstrained.\n",
      "\n",
      " Warning:  more than 10 function and gradient\n",
      "   evaluations in the last line search.  Termination\n",
      "   may possibly be caused by a bad search direction.\n"
     ]
    },
    {
     "data": {
      "text/html": [
       "<table class=\"simpletable\">\n",
       "<caption>SARIMAX Results</caption>\n",
       "<tr>\n",
       "  <th>Dep. Variable:</th>          <td>5Y</td>        <th>  No. Observations:  </th>    <td>3314</td>   \n",
       "</tr>\n",
       "<tr>\n",
       "  <th>Model:</th>           <td>SARIMAX(0, 1, 0)</td> <th>  Log Likelihood     </th>  <td>5112.368</td> \n",
       "</tr>\n",
       "<tr>\n",
       "  <th>Date:</th>            <td>Mon, 04 Sep 2023</td> <th>  AIC                </th> <td>-10222.735</td>\n",
       "</tr>\n",
       "<tr>\n",
       "  <th>Time:</th>                <td>00:15:06</td>     <th>  BIC                </th> <td>-10216.630</td>\n",
       "</tr>\n",
       "<tr>\n",
       "  <th>Sample:</th>                  <td>0</td>        <th>  HQIC               </th> <td>-10220.550</td>\n",
       "</tr>\n",
       "<tr>\n",
       "  <th></th>                      <td> - 3314</td>     <th>                     </th>      <td> </td>    \n",
       "</tr>\n",
       "<tr>\n",
       "  <th>Covariance Type:</th>        <td>opg</td>       <th>                     </th>      <td> </td>    \n",
       "</tr>\n",
       "</table>\n",
       "<table class=\"simpletable\">\n",
       "<tr>\n",
       "     <td></td>       <th>coef</th>     <th>std err</th>      <th>z</th>      <th>P>|z|</th>  <th>[0.025</th>    <th>0.975]</th>  \n",
       "</tr>\n",
       "<tr>\n",
       "  <th>sigma2</th> <td>    0.0027</td> <td> 4.06e-05</td> <td>   65.930</td> <td> 0.000</td> <td>    0.003</td> <td>    0.003</td>\n",
       "</tr>\n",
       "</table>\n",
       "<table class=\"simpletable\">\n",
       "<tr>\n",
       "  <th>Ljung-Box (L1) (Q):</th>     <td>0.91</td> <th>  Jarque-Bera (JB):  </th> <td>1478.23</td>\n",
       "</tr>\n",
       "<tr>\n",
       "  <th>Prob(Q):</th>                <td>0.34</td> <th>  Prob(JB):          </th>  <td>0.00</td>  \n",
       "</tr>\n",
       "<tr>\n",
       "  <th>Heteroskedasticity (H):</th> <td>1.86</td> <th>  Skew:              </th>  <td>-0.16</td> \n",
       "</tr>\n",
       "<tr>\n",
       "  <th>Prob(H) (two-sided):</th>    <td>0.00</td> <th>  Kurtosis:          </th>  <td>6.26</td>  \n",
       "</tr>\n",
       "</table><br/><br/>Warnings:<br/>[1] Covariance matrix calculated using the outer product of gradients (complex-step)."
      ],
      "text/latex": [
       "\\begin{center}\n",
       "\\begin{tabular}{lclc}\n",
       "\\toprule\n",
       "\\textbf{Dep. Variable:}          &        5Y        & \\textbf{  No. Observations:  } &    3314     \\\\\n",
       "\\textbf{Model:}                  & SARIMAX(0, 1, 0) & \\textbf{  Log Likelihood     } &  5112.368   \\\\\n",
       "\\textbf{Date:}                   & Mon, 04 Sep 2023 & \\textbf{  AIC                } & -10222.735  \\\\\n",
       "\\textbf{Time:}                   &     00:15:06     & \\textbf{  BIC                } & -10216.630  \\\\\n",
       "\\textbf{Sample:}                 &        0         & \\textbf{  HQIC               } & -10220.550  \\\\\n",
       "\\textbf{}                        &      - 3314      & \\textbf{                     } &             \\\\\n",
       "\\textbf{Covariance Type:}        &       opg        & \\textbf{                     } &             \\\\\n",
       "\\bottomrule\n",
       "\\end{tabular}\n",
       "\\begin{tabular}{lcccccc}\n",
       "                & \\textbf{coef} & \\textbf{std err} & \\textbf{z} & \\textbf{P$> |$z$|$} & \\textbf{[0.025} & \\textbf{0.975]}  \\\\\n",
       "\\midrule\n",
       "\\textbf{sigma2} &       0.0027  &     4.06e-05     &    65.930  &         0.000        &        0.003    &        0.003     \\\\\n",
       "\\bottomrule\n",
       "\\end{tabular}\n",
       "\\begin{tabular}{lclc}\n",
       "\\textbf{Ljung-Box (L1) (Q):}     & 0.91 & \\textbf{  Jarque-Bera (JB):  } & 1478.23  \\\\\n",
       "\\textbf{Prob(Q):}                & 0.34 & \\textbf{  Prob(JB):          } &   0.00   \\\\\n",
       "\\textbf{Heteroskedasticity (H):} & 1.86 & \\textbf{  Skew:              } &  -0.16   \\\\\n",
       "\\textbf{Prob(H) (two-sided):}    & 0.00 & \\textbf{  Kurtosis:          } &   6.26   \\\\\n",
       "\\bottomrule\n",
       "\\end{tabular}\n",
       "%\\caption{SARIMAX Results}\n",
       "\\end{center}\n",
       "\n",
       "Warnings: \\newline\n",
       " [1] Covariance matrix calculated using the outer product of gradients (complex-step)."
      ],
      "text/plain": [
       "<class 'statsmodels.iolib.summary.Summary'>\n",
       "\"\"\"\n",
       "                               SARIMAX Results                                \n",
       "==============================================================================\n",
       "Dep. Variable:                     5Y   No. Observations:                 3314\n",
       "Model:               SARIMAX(0, 1, 0)   Log Likelihood                5112.368\n",
       "Date:                Mon, 04 Sep 2023   AIC                         -10222.735\n",
       "Time:                        00:15:06   BIC                         -10216.630\n",
       "Sample:                             0   HQIC                        -10220.550\n",
       "                               - 3314                                         \n",
       "Covariance Type:                  opg                                         \n",
       "==============================================================================\n",
       "                 coef    std err          z      P>|z|      [0.025      0.975]\n",
       "------------------------------------------------------------------------------\n",
       "sigma2         0.0027   4.06e-05     65.930      0.000       0.003       0.003\n",
       "===================================================================================\n",
       "Ljung-Box (L1) (Q):                   0.91   Jarque-Bera (JB):              1478.23\n",
       "Prob(Q):                              0.34   Prob(JB):                         0.00\n",
       "Heteroskedasticity (H):               1.86   Skew:                            -0.16\n",
       "Prob(H) (two-sided):                  0.00   Kurtosis:                         6.26\n",
       "===================================================================================\n",
       "\n",
       "Warnings:\n",
       "[1] Covariance matrix calculated using the outer product of gradients (complex-step).\n",
       "\"\"\""
      ]
     },
     "metadata": {},
     "output_type": "display_data"
    }
   ],
   "source": [
    "# SARIMA modeling\n",
    "\n",
    "model = SARIMAX(sarima_y, order=(opt_p, opt_d, opt_q),\n",
    "                seasonal_order=(opt_P, opt_D, opt_Q, opt_S)).fit()\n",
    "display(model.summary())"
   ]
  },
  {
   "cell_type": "code",
   "execution_count": 120,
   "metadata": {},
   "outputs": [
    {
     "data": {
      "image/png": "[encoded data removed]",
      "text/plain": [
       "<Figure size 1000x800 with 2 Axes>"
      ]
     },
     "metadata": {},
     "output_type": "display_data"
    }
   ],
   "source": [
    "# Residual ACF/PACF\n",
    "plt.figure(figsize=(10, 8))\n",
    "plot_acf(model.resid, lags=30, ax=plt.subplot(211))\n",
    "plt.xlim(-1, 51)\n",
    "plt.ylim(-1.1, 1.1)\n",
    "plt.title('ACF')\n",
    "\n",
    "plot_pacf(model.resid, lags=30, ax=plt.subplot(212))\n",
    "plt.xlim(-1, 51)\n",
    "plt.ylim(-1.1, 1.1)\n",
    "plt.title('PACF')\n",
    "plt.tight_layout()\n",
    "plt.show()"
   ]
  },
  {
   "cell_type": "markdown",
   "metadata": {},
   "source": [
    "#### Prediction"
   ]
  },
  {
   "cell_type": "code",
   "execution_count": 121,
   "metadata": {},
   "outputs": [
    {
     "data": {
      "text/html": [
       "<div>\n",
       "<style scoped>\n",
       "    .dataframe tbody tr th:only-of-type {\n",
       "        vertical-align: middle;\n",
       "    }\n",
       "\n",
       "    .dataframe tbody tr th {\n",
       "        vertical-align: top;\n",
       "    }\n",
       "\n",
       "    .dataframe thead th {\n",
       "        text-align: right;\n",
       "    }\n",
       "</style>\n",
       "<table border=\"1\" class=\"dataframe\">\n",
       "  <thead>\n",
       "    <tr style=\"text-align: right;\">\n",
       "      <th></th>\n",
       "      <th>5Y</th>\n",
       "    </tr>\n",
       "    <tr>\n",
       "      <th>Date</th>\n",
       "      <th></th>\n",
       "    </tr>\n",
       "  </thead>\n",
       "  <tbody>\n",
       "    <tr>\n",
       "      <th>2010-06-30 00:00:00+00:00</th>\n",
       "      <td>1.79</td>\n",
       "    </tr>\n",
       "    <tr>\n",
       "      <th>2010-07-01 00:00:00+00:00</th>\n",
       "      <td>1.79</td>\n",
       "    </tr>\n",
       "    <tr>\n",
       "      <th>2010-07-02 00:00:00+00:00</th>\n",
       "      <td>1.81</td>\n",
       "    </tr>\n",
       "    <tr>\n",
       "      <th>2010-07-06 00:00:00+00:00</th>\n",
       "      <td>1.76</td>\n",
       "    </tr>\n",
       "    <tr>\n",
       "      <th>2010-07-07 00:00:00+00:00</th>\n",
       "      <td>1.78</td>\n",
       "    </tr>\n",
       "    <tr>\n",
       "      <th>...</th>\n",
       "      <td>...</td>\n",
       "    </tr>\n",
       "    <tr>\n",
       "      <th>2023-08-28 00:00:00+00:00</th>\n",
       "      <td>4.41</td>\n",
       "    </tr>\n",
       "    <tr>\n",
       "      <th>2023-08-29 00:00:00+00:00</th>\n",
       "      <td>4.28</td>\n",
       "    </tr>\n",
       "    <tr>\n",
       "      <th>2023-08-30 00:00:00+00:00</th>\n",
       "      <td>4.27</td>\n",
       "    </tr>\n",
       "    <tr>\n",
       "      <th>2023-08-31 00:00:00+00:00</th>\n",
       "      <td>4.24</td>\n",
       "    </tr>\n",
       "    <tr>\n",
       "      <th>2023-09-01 00:00:00+00:00</th>\n",
       "      <td>4.29</td>\n",
       "    </tr>\n",
       "  </tbody>\n",
       "</table>\n",
       "<p>3314 rows × 1 columns</p>\n",
       "</div>"
      ],
      "text/plain": [
       "                            5Y\n",
       "Date                          \n",
       "2010-06-30 00:00:00+00:00 1.79\n",
       "2010-07-01 00:00:00+00:00 1.79\n",
       "2010-07-02 00:00:00+00:00 1.81\n",
       "2010-07-06 00:00:00+00:00 1.76\n",
       "2010-07-07 00:00:00+00:00 1.78\n",
       "...                        ...\n",
       "2023-08-28 00:00:00+00:00 4.41\n",
       "2023-08-29 00:00:00+00:00 4.28\n",
       "2023-08-30 00:00:00+00:00 4.27\n",
       "2023-08-31 00:00:00+00:00 4.24\n",
       "2023-09-01 00:00:00+00:00 4.29\n",
       "\n",
       "[3314 rows x 1 columns]"
      ]
     },
     "execution_count": 121,
     "metadata": {},
     "output_type": "execute_result"
    }
   ],
   "source": [
    "sarima_y"
   ]
  },
  {
   "cell_type": "code",
   "execution_count": 122,
   "metadata": {},
   "outputs": [],
   "source": [
    "## In-sample-prediction and confidence bounds\n",
    "pred = model.get_prediction(start=pd.to_datetime('2020-07-30', utc=True),\n",
    "                            end=pd.to_datetime('2023-09-01', utc=True),\n",
    "                        #   dynamic=True  # dynamic 파라미터가 true 일 경우, In-sample prediction을 수행할 때, 예측값 대신 실제값을 이용\n",
    "                            )"
   ]
  },
  {
   "cell_type": "code",
   "execution_count": 123,
   "metadata": {},
   "outputs": [
    {
     "data": {
      "image/png": "[encoded data removed]",
      "text/plain": [
       "<Figure size 640x480 with 1 Axes>"
      ]
     },
     "metadata": {},
     "output_type": "display_data"
    }
   ],
   "source": [
    "# we can get prediction_mean and prediction confidence level 95%\n",
    "# pred(get_predict의 결과물)로부터 prediction mean과 prediction 95% 신뢰구간 획득 가능\n",
    "pred_ci = pred.conf_int()\n",
    "\n",
    "# pred_ci[1:].plot()\n",
    "\n",
    "# plot in-sample-prediction\n",
    "ax = sarima_y.plot(label=\"Observed\", color=\"#006699\")\n",
    "pred.predicted_mean[1:].plot(ax=ax, label=\"One-step Ahead prediction\", alpha=.7, color=\"#ff0066\")\n",
    "\n",
    "## Draw confidence bound (gray)\n",
    "ax.fill_between(pred_ci.index[1:],\n",
    "                pred_ci.iloc[1:, 0],\n",
    "                pred_ci.iloc[1:, 1], color='#ff0066', alpha=.25)\n",
    "\n",
    "## style the plot\n",
    "# ax.fill_between(ax.get_ylim(), pd.to_datetime('2010-06-30'), sarima_y.index[-1], alpha=.15, zorder=-1,\n",
    "#                 color='grey')\n",
    "ax.set_xlabel('Date')\n",
    "ax.set_ylabel('TB rates (5Y)')\n",
    "plt.legend(loc='upper left')\n",
    "plt.show()\n"
   ]
  },
  {
   "cell_type": "markdown",
   "metadata": {},
   "source": [
    "#### Forecast - out-of-sample"
   ]
  },
  {
   "cell_type": "code",
   "execution_count": 125,
   "metadata": {},
   "outputs": [
    {
     "data": {
      "text/html": [
       "<div>\n",
       "<style scoped>\n",
       "    .dataframe tbody tr th:only-of-type {\n",
       "        vertical-align: middle;\n",
       "    }\n",
       "\n",
       "    .dataframe tbody tr th {\n",
       "        vertical-align: top;\n",
       "    }\n",
       "\n",
       "    .dataframe thead th {\n",
       "        text-align: right;\n",
       "    }\n",
       "</style>\n",
       "<table border=\"1\" class=\"dataframe\">\n",
       "  <thead>\n",
       "    <tr style=\"text-align: right;\">\n",
       "      <th></th>\n",
       "      <th>lower 5Y</th>\n",
       "      <th>upper 5Y</th>\n",
       "    </tr>\n",
       "    <tr>\n",
       "      <th>Date</th>\n",
       "      <th></th>\n",
       "      <th></th>\n",
       "    </tr>\n",
       "  </thead>\n",
       "  <tbody>\n",
       "    <tr>\n",
       "      <th>2023-09-02 00:00:00+00:00</th>\n",
       "      <td>4.19</td>\n",
       "      <td>4.39</td>\n",
       "    </tr>\n",
       "    <tr>\n",
       "      <th>2023-09-03 00:00:00+00:00</th>\n",
       "      <td>4.15</td>\n",
       "      <td>4.43</td>\n",
       "    </tr>\n",
       "    <tr>\n",
       "      <th>2023-09-04 00:00:00+00:00</th>\n",
       "      <td>4.12</td>\n",
       "      <td>4.47</td>\n",
       "    </tr>\n",
       "    <tr>\n",
       "      <th>2023-09-05 00:00:00+00:00</th>\n",
       "      <td>4.09</td>\n",
       "      <td>4.49</td>\n",
       "    </tr>\n",
       "    <tr>\n",
       "      <th>2023-09-06 00:00:00+00:00</th>\n",
       "      <td>4.06</td>\n",
       "      <td>4.52</td>\n",
       "    </tr>\n",
       "    <tr>\n",
       "      <th>...</th>\n",
       "      <td>...</td>\n",
       "      <td>...</td>\n",
       "    </tr>\n",
       "    <tr>\n",
       "      <th>2023-12-26 00:00:00+00:00</th>\n",
       "      <td>3.20</td>\n",
       "      <td>5.38</td>\n",
       "    </tr>\n",
       "    <tr>\n",
       "      <th>2023-12-27 00:00:00+00:00</th>\n",
       "      <td>3.19</td>\n",
       "      <td>5.39</td>\n",
       "    </tr>\n",
       "    <tr>\n",
       "      <th>2023-12-28 00:00:00+00:00</th>\n",
       "      <td>3.19</td>\n",
       "      <td>5.39</td>\n",
       "    </tr>\n",
       "    <tr>\n",
       "      <th>2023-12-29 00:00:00+00:00</th>\n",
       "      <td>3.19</td>\n",
       "      <td>5.40</td>\n",
       "    </tr>\n",
       "    <tr>\n",
       "      <th>2023-12-30 00:00:00+00:00</th>\n",
       "      <td>3.18</td>\n",
       "      <td>5.40</td>\n",
       "    </tr>\n",
       "  </tbody>\n",
       "</table>\n",
       "<p>120 rows × 2 columns</p>\n",
       "</div>"
      ],
      "text/plain": [
       "                           lower 5Y  upper 5Y\n",
       "Date                                         \n",
       "2023-09-02 00:00:00+00:00      4.19      4.39\n",
       "2023-09-03 00:00:00+00:00      4.15      4.43\n",
       "2023-09-04 00:00:00+00:00      4.12      4.47\n",
       "2023-09-05 00:00:00+00:00      4.09      4.49\n",
       "2023-09-06 00:00:00+00:00      4.06      4.52\n",
       "...                             ...       ...\n",
       "2023-12-26 00:00:00+00:00      3.20      5.38\n",
       "2023-12-27 00:00:00+00:00      3.19      5.39\n",
       "2023-12-28 00:00:00+00:00      3.19      5.39\n",
       "2023-12-29 00:00:00+00:00      3.19      5.40\n",
       "2023-12-30 00:00:00+00:00      3.18      5.40\n",
       "\n",
       "[120 rows x 2 columns]"
      ]
     },
     "execution_count": 125,
     "metadata": {},
     "output_type": "execute_result"
    }
   ],
   "source": [
    "from datetime import datetime\n",
    "# get forecast 120 steps ahead in future\n",
    "forecast = model.get_forecast(steps=120)\n",
    "\n",
    "## get confidnece intervals of forecasts\n",
    "forecast_ci = forecast.conf_int()\n",
    "\n",
    "# set dateitme index to 120 forecasts to the confidence data\n",
    "dates_future = pd.date_range(pd.to_datetime(\"2023-09-02\", utc=True), periods=120)\n",
    "forecast_ci['Date'] = dates_future\n",
    "forecast_ci.set_index('Date', inplace=True)\n",
    "\n",
    "forecast_ci"
   ]
  },
  {
   "cell_type": "code",
   "execution_count": 126,
   "metadata": {},
   "outputs": [
    {
     "data": {
      "text/html": [
       "<div>\n",
       "<style scoped>\n",
       "    .dataframe tbody tr th:only-of-type {\n",
       "        vertical-align: middle;\n",
       "    }\n",
       "\n",
       "    .dataframe tbody tr th {\n",
       "        vertical-align: top;\n",
       "    }\n",
       "\n",
       "    .dataframe thead th {\n",
       "        text-align: right;\n",
       "    }\n",
       "</style>\n",
       "<table border=\"1\" class=\"dataframe\">\n",
       "  <thead>\n",
       "    <tr style=\"text-align: right;\">\n",
       "      <th></th>\n",
       "      <th>predicted_mean</th>\n",
       "    </tr>\n",
       "    <tr>\n",
       "      <th>Date</th>\n",
       "      <th></th>\n",
       "    </tr>\n",
       "  </thead>\n",
       "  <tbody>\n",
       "    <tr>\n",
       "      <th>2023-09-02 00:00:00+00:00</th>\n",
       "      <td>4.29</td>\n",
       "    </tr>\n",
       "    <tr>\n",
       "      <th>2023-09-03 00:00:00+00:00</th>\n",
       "      <td>4.29</td>\n",
       "    </tr>\n",
       "    <tr>\n",
       "      <th>2023-09-04 00:00:00+00:00</th>\n",
       "      <td>4.29</td>\n",
       "    </tr>\n",
       "    <tr>\n",
       "      <th>2023-09-05 00:00:00+00:00</th>\n",
       "      <td>4.29</td>\n",
       "    </tr>\n",
       "    <tr>\n",
       "      <th>2023-09-06 00:00:00+00:00</th>\n",
       "      <td>4.29</td>\n",
       "    </tr>\n",
       "    <tr>\n",
       "      <th>...</th>\n",
       "      <td>...</td>\n",
       "    </tr>\n",
       "    <tr>\n",
       "      <th>2023-12-26 00:00:00+00:00</th>\n",
       "      <td>4.29</td>\n",
       "    </tr>\n",
       "    <tr>\n",
       "      <th>2023-12-27 00:00:00+00:00</th>\n",
       "      <td>4.29</td>\n",
       "    </tr>\n",
       "    <tr>\n",
       "      <th>2023-12-28 00:00:00+00:00</th>\n",
       "      <td>4.29</td>\n",
       "    </tr>\n",
       "    <tr>\n",
       "      <th>2023-12-29 00:00:00+00:00</th>\n",
       "      <td>4.29</td>\n",
       "    </tr>\n",
       "    <tr>\n",
       "      <th>2023-12-30 00:00:00+00:00</th>\n",
       "      <td>4.29</td>\n",
       "    </tr>\n",
       "  </tbody>\n",
       "</table>\n",
       "<p>120 rows × 1 columns</p>\n",
       "</div>"
      ],
      "text/plain": [
       "                           predicted_mean\n",
       "Date                                     \n",
       "2023-09-02 00:00:00+00:00            4.29\n",
       "2023-09-03 00:00:00+00:00            4.29\n",
       "2023-09-04 00:00:00+00:00            4.29\n",
       "2023-09-05 00:00:00+00:00            4.29\n",
       "2023-09-06 00:00:00+00:00            4.29\n",
       "...                                   ...\n",
       "2023-12-26 00:00:00+00:00            4.29\n",
       "2023-12-27 00:00:00+00:00            4.29\n",
       "2023-12-28 00:00:00+00:00            4.29\n",
       "2023-12-29 00:00:00+00:00            4.29\n",
       "2023-12-30 00:00:00+00:00            4.29\n",
       "\n",
       "[120 rows x 1 columns]"
      ]
     },
     "execution_count": 126,
     "metadata": {},
     "output_type": "execute_result"
    }
   ],
   "source": [
    "# set dateitme index to 120 forecasts to the mean data\n",
    "pred_mean = pd.DataFrame(forecast.predicted_mean)\n",
    "pred_mean['Date'] = dates_future\n",
    "pred_mean.set_index('Date', inplace=True)\n",
    "pred_mean"
   ]
  },
  {
   "cell_type": "code",
   "execution_count": 127,
   "metadata": {},
   "outputs": [
    {
     "data": {
      "image/png": "[encoded data removed]",
      "text/plain": [
       "<Figure size 1600x800 with 1 Axes>"
      ]
     },
     "metadata": {},
     "output_type": "display_data"
    }
   ],
   "source": [
    "# plot time series and long-term forecast\n",
    "ax = sarima_y.plot(label='Pbserved', figsize=(16, 8), color='#006699')\n",
    "pred_mean.plot(ax=ax, label='Forecast', color='#ff0066')\n",
    "ax.fill_between(forecast_ci.index,\n",
    "                forecast_ci.iloc[:, 0],\n",
    "                forecast_ci.iloc[:, 1],\n",
    "                color='#ff0066', alpha=.25)\n",
    "\n",
    "ax.set_xlabel('Date')\n",
    "ax.set_ylabel('TB rates')\n",
    "plt.legend(loc='upper left')\n",
    "plt.show()"
   ]
  },
  {
   "cell_type": "markdown",
   "metadata": {},
   "source": [
    "### TB 5Y Bond rate - Stationary"
   ]
  },
  {
   "cell_type": "markdown",
   "metadata": {},
   "source": [
    "#### Stataionary analysis"
   ]
  },
  {
   "cell_type": "code",
   "execution_count": 139,
   "metadata": {},
   "outputs": [],
   "source": [
    "df_tb_5y = pd.DataFrame()\n",
    "\n",
    "df_tb_5y['5Y'] = df_daily['5Y']\n",
    "df_tb_5y['diff'] = df_tb_5y['5Y'].diff()\n",
    "df_tb_5y.dropna(inplace=True)"
   ]
  },
  {
   "cell_type": "code",
   "execution_count": 140,
   "metadata": {},
   "outputs": [
    {
     "data": {
      "text/plain": [
       "<Axes: xlabel='Date'>"
      ]
     },
     "execution_count": 140,
     "metadata": {},
     "output_type": "execute_result"
    },
    {
     "data": {
      "image/png": "[encoded data removed]",
      "text/plain": [
       "<Figure size 640x480 with 1 Axes>"
      ]
     },
     "metadata": {},
     "output_type": "display_data"
    }
   ],
   "source": [
    "df_tb_5y['diff'].plot()"
   ]
  },
  {
   "cell_type": "code",
   "execution_count": 141,
   "metadata": {},
   "outputs": [
    {
     "name": "stdout",
     "output_type": "stream",
     "text": [
      "H0 of ADF:  비정상상태\n",
      "H0 of KPSS:  정상상태\n"
     ]
    },
    {
     "data": {
      "text/html": [
       "<div>\n",
       "<style scoped>\n",
       "    .dataframe tbody tr th:only-of-type {\n",
       "        vertical-align: middle;\n",
       "    }\n",
       "\n",
       "    .dataframe tbody tr th {\n",
       "        vertical-align: top;\n",
       "    }\n",
       "\n",
       "    .dataframe thead th {\n",
       "        text-align: right;\n",
       "    }\n",
       "</style>\n",
       "<table border=\"1\" class=\"dataframe\">\n",
       "  <thead>\n",
       "    <tr style=\"text-align: right;\">\n",
       "      <th></th>\n",
       "      <th>Stationarity_ADF</th>\n",
       "      <th>Stationarity_KPSS</th>\n",
       "    </tr>\n",
       "  </thead>\n",
       "  <tbody>\n",
       "    <tr>\n",
       "      <th>Test Statistics</th>\n",
       "      <td>-12.07</td>\n",
       "      <td>0.30</td>\n",
       "    </tr>\n",
       "    <tr>\n",
       "      <th>p-value</th>\n",
       "      <td>0.00</td>\n",
       "      <td>0.10</td>\n",
       "    </tr>\n",
       "    <tr>\n",
       "      <th>Used Lag</th>\n",
       "      <td>22.00</td>\n",
       "      <td>1.00</td>\n",
       "    </tr>\n",
       "    <tr>\n",
       "      <th>Critical Value (1%)</th>\n",
       "      <td>-3.43</td>\n",
       "      <td>0.74</td>\n",
       "    </tr>\n",
       "    <tr>\n",
       "      <th>Critical Value (5%)</th>\n",
       "      <td>-2.86</td>\n",
       "      <td>0.46</td>\n",
       "    </tr>\n",
       "    <tr>\n",
       "      <th>Critical Value (10%)</th>\n",
       "      <td>-2.57</td>\n",
       "      <td>0.35</td>\n",
       "    </tr>\n",
       "    <tr>\n",
       "      <th>Critical Value (2.5%)</th>\n",
       "      <td>NaN</td>\n",
       "      <td>0.57</td>\n",
       "    </tr>\n",
       "  </tbody>\n",
       "</table>\n",
       "</div>"
      ],
      "text/plain": [
       "                       Stationarity_ADF  Stationarity_KPSS\n",
       "Test Statistics                  -12.07               0.30\n",
       "p-value                            0.00               0.10\n",
       "Used Lag                          22.00               1.00\n",
       "Critical Value (1%)               -3.43               0.74\n",
       "Critical Value (5%)               -2.86               0.46\n",
       "Critical Value (10%)              -2.57               0.35\n",
       "Critical Value (2.5%)               NaN               0.57"
      ]
     },
     "metadata": {},
     "output_type": "display_data"
    },
    {
     "data": {
      "image/png": "[encoded data removed]",
      "text/plain": [
       "<Figure size 1200x400 with 2 Axes>"
      ]
     },
     "metadata": {},
     "output_type": "display_data"
    }
   ],
   "source": [
    "# stationary test\n",
    "\n",
    "## 정상성 테스트 및 모수추론\n",
    "sarima_y_diff = pd.DataFrame(df_tb_5y[\"diff\"])\n",
    "\n",
    "print('H0 of ADF: ', '비정상상태')\n",
    "print('H0 of KPSS: ', '정상상태')\n",
    "display(stationarity_ADF_KPSS(pd.DataFrame(sarima_y_diff.values.flatten())))\n",
    "\n",
    "plt.figure(figsize=(12, 4))\n",
    "plot_acf(sarima_y_diff, lags=4*5*3, alpha=0.5, use_vlines=True, ax=plt.subplot(121))\n",
    "plot_pacf(sarima_y_diff, lags=4*5*3, alpha=0.5, use_vlines=True, ax=plt.subplot(122))\n",
    "plt.tight_layout()\n",
    "sns.despine()\n",
    "plt.show()"
   ]
  },
  {
   "cell_type": "code",
   "execution_count": 142,
   "metadata": {},
   "outputs": [
    {
     "name": "stdout",
     "output_type": "stream",
     "text": [
      "RUNNING THE L-BFGS-B CODE\n",
      "\n",
      "           * * *\n",
      "\n",
      "Machine precision = 2.220D-16\n",
      " N =            1     M =           10\n",
      "\n",
      "At X0         0 variables are exactly at the bounds\n",
      "\n",
      "At iterate    0    f=  2.07501D+00    |proj g|=  2.69242D-06\n",
      "\n",
      "           * * *\n",
      "\n",
      "Tit   = total number of iterations\n",
      "Tnf   = total number of function evaluations\n",
      "Tnint = total number of segments explored during Cauchy searches\n",
      "Skip  = number of BFGS updates skipped\n",
      "Nact  = number of active bounds at final generalized Cauchy point\n",
      "Projg = norm of the final projected gradient\n",
      "F     = final function value\n",
      "\n",
      "           * * *\n",
      "\n",
      "   N    Tit     Tnf  Tnint  Skip  Nact     Projg        F\n",
      "    1      0      1      0     0     0   2.692D-06   2.075D+00\n",
      "  F =   2.0750084113425791     \n",
      "\n",
      "CONVERGENCE: NORM_OF_PROJECTED_GRADIENT_<=_PGTOL            \n",
      "p: 0 d: 0 q: 0 P: 0 D: 0 Q: 0 S: 60\n",
      "RUNNING THE L-BFGS-B CODE\n",
      "\n",
      "           * * *\n",
      "\n",
      "Machine precision = 2.220D-16\n",
      " N =            2     M =           10\n",
      "\n",
      "At X0         0 variables are exactly at the bounds\n",
      "\n",
      "At iterate    0    f=  1.70654D+00    |proj g|=  3.82622D-01\n",
      "\n",
      "At iterate    5    f=  1.40654D+00    |proj g|=  2.33694D-02\n",
      "\n",
      "At iterate   10    f=  1.40099D+00    |proj g|=  5.69456D-03\n",
      "\n",
      "           * * *\n",
      "\n",
      "Tit   = total number of iterations\n",
      "Tnf   = total number of function evaluations\n",
      "Tnint = total number of segments explored during Cauchy searches\n",
      "Skip  = number of BFGS updates skipped\n",
      "Nact  = number of active bounds at final generalized Cauchy point\n",
      "Projg = norm of the final projected gradient\n",
      "F     = final function value\n",
      "\n",
      "           * * *\n",
      "\n",
      "   N    Tit     Tnf  Tnint  Skip  Nact     Projg        F\n",
      "    2     14     16      1     0     0   5.436D-07   1.401D+00\n",
      "  F =   1.4009231399243194     \n",
      "\n",
      "CONVERGENCE: NORM_OF_PROJECTED_GRADIENT_<=_PGTOL            \n",
      "p: 0 d: 0 q: 1 P: 0 D: 0 Q: 0 S: 60\n",
      "RUNNING THE L-BFGS-B CODE\n",
      "\n",
      "           * * *\n",
      "\n",
      "Machine precision = 2.220D-16\n",
      " N =            1     M =           10\n",
      "\n",
      "At X0         0 variables are exactly at the bounds\n",
      "\n",
      "At iterate    0    f= -1.54266D+00    |proj g|=  2.09599D-03\n",
      "\n",
      "           * * *\n",
      "\n",
      "Tit   = total number of iterations\n",
      "Tnf   = total number of function evaluations\n",
      "Tnint = total number of segments explored during Cauchy searches\n",
      "Skip  = number of BFGS updates skipped\n",
      "Nact  = number of active bounds at final generalized Cauchy point\n",
      "Projg = norm of the final projected gradient\n",
      "F     = final function value\n",
      "\n",
      "           * * *\n",
      "\n",
      "   N    Tit     Tnf  Tnint  Skip  Nact     Projg        F\n",
      "    1      2     15      1     0     0   3.122D-04  -1.543D+00\n",
      "  F =  -1.5426577182077132     \n",
      "\n",
      "CONVERGENCE: REL_REDUCTION_OF_F_<=_FACTR*EPSMCH             \n",
      "p: 0 d: 1 q: 0 P: 0 D: 0 Q: 0 S: 60\n",
      "RUNNING THE L-BFGS-B CODE\n",
      "\n",
      "           * * *\n",
      "\n",
      "Machine precision = 2.220D-16\n",
      " N =            2     M =           10\n",
      "\n",
      "At X0         0 variables are exactly at the bounds\n",
      "\n",
      "At iterate    0    f= -1.54280D+00    |proj g|=  1.99534D-02\n"
     ]
    },
    {
     "name": "stderr",
     "output_type": "stream",
     "text": [
      " This problem is unconstrained.\n",
      " This problem is unconstrained.\n",
      " This problem is unconstrained.\n",
      "\n",
      " Warning:  more than 10 function and gradient\n",
      "   evaluations in the last line search.  Termination\n",
      "   may possibly be caused by a bad search direction.\n",
      " This problem is unconstrained.\n",
      "\n",
      " Bad direction in the line search;\n",
      "   refresh the lbfgs memory and restart the iteration.\n",
      "\n",
      " Warning:  more than 10 function and gradient\n",
      "   evaluations in the last line search.  Termination\n",
      "   may possibly be caused by a bad search direction.\n",
      " This problem is unconstrained.\n"
     ]
    },
    {
     "name": "stdout",
     "output_type": "stream",
     "text": [
      "\n",
      "           * * *\n",
      "\n",
      "Tit   = total number of iterations\n",
      "Tnf   = total number of function evaluations\n",
      "Tnint = total number of segments explored during Cauchy searches\n",
      "Skip  = number of BFGS updates skipped\n",
      "Nact  = number of active bounds at final generalized Cauchy point\n",
      "Projg = norm of the final projected gradient\n",
      "F     = final function value\n",
      "\n",
      "           * * *\n",
      "\n",
      "   N    Tit     Tnf  Tnint  Skip  Nact     Projg        F\n",
      "    2      2     39      2     0     0   7.255D-04  -1.543D+00\n",
      "  F =  -1.5428002740473052     \n",
      "\n",
      "CONVERGENCE: REL_REDUCTION_OF_F_<=_FACTR*EPSMCH             \n",
      "p: 0 d: 1 q: 1 P: 0 D: 0 Q: 0 S: 60\n",
      "RUNNING THE L-BFGS-B CODE\n",
      "\n",
      "           * * *\n",
      "\n",
      "Machine precision = 2.220D-16\n",
      " N =            2     M =           10\n",
      "\n",
      "At X0         0 variables are exactly at the bounds\n",
      "\n",
      "At iterate    0    f=  6.92468D+02    |proj g|=  2.68348D+04\n",
      "\n",
      "At iterate    5    f=  1.30078D+00    |proj g|=  5.54956D-01\n",
      "\n",
      "At iterate   10    f= -1.18055D+00    |proj g|=  1.95524D+00\n",
      "\n",
      "At iterate   15    f= -1.50419D+00    |proj g|=  1.56150D+00\n",
      "\n",
      "At iterate   20    f= -1.53661D+00    |proj g|=  8.41617D-03\n",
      "\n",
      "At iterate   25    f= -1.54154D+00    |proj g|=  1.03398D-02\n",
      "\n",
      "At iterate   30    f= -1.54192D+00    |proj g|=  6.17028D-04\n",
      "\n",
      "           * * *\n",
      "\n",
      "Tit   = total number of iterations\n",
      "Tnf   = total number of function evaluations\n",
      "Tnint = total number of segments explored during Cauchy searches\n",
      "Skip  = number of BFGS updates skipped\n",
      "Nact  = number of active bounds at final generalized Cauchy point\n",
      "Projg = norm of the final projected gradient\n",
      "F     = final function value\n",
      "\n",
      "           * * *\n",
      "\n",
      "   N    Tit     Tnf  Tnint  Skip  Nact     Projg        F\n",
      "    2     34     52      1     0     0   5.674D-06  -1.542D+00\n",
      "  F =  -1.5419270262035578     \n",
      "\n",
      "CONVERGENCE: NORM_OF_PROJECTED_GRADIENT_<=_PGTOL            \n",
      "p: 1 d: 0 q: 0 P: 0 D: 0 Q: 0 S: 60\n",
      "RUNNING THE L-BFGS-B CODE\n",
      "\n",
      "           * * *\n",
      "\n",
      "Machine precision = 2.220D-16\n",
      " N =            3     M =           10\n",
      "\n",
      "At X0         0 variables are exactly at the bounds\n",
      "\n",
      "At iterate    0    f=  7.16833D+02    |proj g|=  2.77731D+04\n",
      "\n",
      "At iterate    5    f=  1.26736D+00    |proj g|=  5.68881D-01\n"
     ]
    },
    {
     "name": "stderr",
     "output_type": "stream",
     "text": [
      " This problem is unconstrained.\n"
     ]
    },
    {
     "name": "stdout",
     "output_type": "stream",
     "text": [
      "\n",
      "At iterate   10    f= -1.05736D+00    |proj g|=  3.24701D+00\n",
      "\n",
      "At iterate   15    f= -1.52289D+00    |proj g|=  4.18371D-01\n",
      "\n",
      "At iterate   20    f= -1.53615D+00    |proj g|=  8.43090D-02\n",
      "\n",
      "At iterate   25    f= -1.54160D+00    |proj g|=  8.36584D-03\n",
      "\n",
      "At iterate   30    f= -1.54205D+00    |proj g|=  1.07969D-02\n",
      "\n",
      "At iterate   35    f= -1.54207D+00    |proj g|=  5.72652D-04\n",
      "\n",
      "           * * *\n",
      "\n",
      "Tit   = total number of iterations\n",
      "Tnf   = total number of function evaluations\n",
      "Tnint = total number of segments explored during Cauchy searches\n",
      "Skip  = number of BFGS updates skipped\n",
      "Nact  = number of active bounds at final generalized Cauchy point\n",
      "Projg = norm of the final projected gradient\n",
      "F     = final function value\n",
      "\n",
      "           * * *\n",
      "\n",
      "   N    Tit     Tnf  Tnint  Skip  Nact     Projg        F\n",
      "    3     37     56      1     0     0   2.243D-06  -1.542D+00\n",
      "  F =  -1.5420675681077083     \n",
      "\n",
      "CONVERGENCE: NORM_OF_PROJECTED_GRADIENT_<=_PGTOL            \n",
      "p: 1 d: 0 q: 1 P: 0 D: 0 Q: 0 S: 60\n",
      "RUNNING THE L-BFGS-B CODE\n",
      "\n",
      "           * * *\n",
      "\n",
      "Machine precision = 2.220D-16\n",
      " N =            2     M =           10\n",
      "\n",
      "At X0         0 variables are exactly at the bounds\n",
      "\n",
      "At iterate    0    f= -1.54279D+00    |proj g|=  9.57078D-03\n"
     ]
    },
    {
     "name": "stderr",
     "output_type": "stream",
     "text": [
      " This problem is unconstrained.\n",
      "\n",
      " Warning:  more than 10 function and gradient\n",
      "   evaluations in the last line search.  Termination\n",
      "   may possibly be caused by a bad search direction.\n",
      " This problem is unconstrained.\n"
     ]
    },
    {
     "name": "stdout",
     "output_type": "stream",
     "text": [
      "\n",
      "           * * *\n",
      "\n",
      "Tit   = total number of iterations\n",
      "Tnf   = total number of function evaluations\n",
      "Tnint = total number of segments explored during Cauchy searches\n",
      "Skip  = number of BFGS updates skipped\n",
      "Nact  = number of active bounds at final generalized Cauchy point\n",
      "Projg = norm of the final projected gradient\n",
      "F     = final function value\n",
      "\n",
      "           * * *\n",
      "\n",
      "   N    Tit     Tnf  Tnint  Skip  Nact     Projg        F\n",
      "    2      2     16      1     0     0   3.607D-04  -1.543D+00\n",
      "  F =  -1.5427912757979081     \n",
      "\n",
      "CONVERGENCE: REL_REDUCTION_OF_F_<=_FACTR*EPSMCH             \n",
      "p: 1 d: 1 q: 0 P: 0 D: 0 Q: 0 S: 60\n",
      "RUNNING THE L-BFGS-B CODE\n",
      "\n",
      "           * * *\n",
      "\n",
      "Machine precision = 2.220D-16\n",
      " N =            3     M =           10\n",
      "\n",
      "At X0         0 variables are exactly at the bounds\n",
      "\n",
      "At iterate    0    f= -1.54294D+00    |proj g|=  1.66257D-02\n",
      "\n",
      "At iterate    5    f= -1.54294D+00    |proj g|=  3.13675D-02\n",
      "\n",
      "At iterate   10    f= -1.54295D+00    |proj g|=  4.58354D-04\n",
      "\n",
      "           * * *\n",
      "\n",
      "Tit   = total number of iterations\n",
      "Tnf   = total number of function evaluations\n",
      "Tnint = total number of segments explored during Cauchy searches\n",
      "Skip  = number of BFGS updates skipped\n",
      "Nact  = number of active bounds at final generalized Cauchy point\n",
      "Projg = norm of the final projected gradient\n",
      "F     = final function value\n",
      "\n",
      "           * * *\n",
      "\n",
      "   N    Tit     Tnf  Tnint  Skip  Nact     Projg        F\n",
      "    3     10     14      1     0     0   4.584D-04  -1.543D+00\n",
      "  F =  -1.5429462351569578     \n",
      "\n",
      "CONVERGENCE: REL_REDUCTION_OF_F_<=_FACTR*EPSMCH             \n",
      "p: 1 d: 1 q: 1 P: 0 D: 0 Q: 0 S: 60\n"
     ]
    }
   ],
   "source": [
    "# choose best AIC parameter (minimum)\n",
    "result_stationary = []\n",
    "\n",
    "for param in pdq:\n",
    "    for param_seasonal in seasonal_pdq:\n",
    "        if (p == 0) & (q == 0) & (d == 0):\n",
    "            continue\n",
    "        \n",
    "        model = SARIMAX(sarima_y, order=param,\n",
    "                        seasonal_order=param_seasonal\n",
    "                        ).fit()\n",
    "        \n",
    "        try:\n",
    "            print(\"p:\", param[0], \"d:\", param[1], \"q:\", param[2], \"P:\", param_seasonal[0], \"D:\", param_seasonal[1], \"Q:\", param_seasonal[2], \"S:\", param_seasonal[3])\n",
    "            result_stationary.append({'p':param[0], 'd':param[1], 'q':param[2], \n",
    "                            'P':param_seasonal[0], 'D':param_seasonal[1], 'Q':param_seasonal[2], 'S':param_seasonal[3], \n",
    "                            'LLF': model.llf, 'AIC': model.aic, 'BIC': model.bic})\n",
    "        \n",
    "        except:\n",
    "            pass"
   ]
  },
  {
   "cell_type": "code",
   "execution_count": 143,
   "metadata": {},
   "outputs": [
    {
     "data": {
      "text/html": [
       "<div>\n",
       "<style scoped>\n",
       "    .dataframe tbody tr th:only-of-type {\n",
       "        vertical-align: middle;\n",
       "    }\n",
       "\n",
       "    .dataframe tbody tr th {\n",
       "        vertical-align: top;\n",
       "    }\n",
       "\n",
       "    .dataframe thead th {\n",
       "        text-align: right;\n",
       "    }\n",
       "</style>\n",
       "<table border=\"1\" class=\"dataframe\">\n",
       "  <thead>\n",
       "    <tr style=\"text-align: right;\">\n",
       "      <th></th>\n",
       "      <th>p</th>\n",
       "      <th>d</th>\n",
       "      <th>q</th>\n",
       "      <th>P</th>\n",
       "      <th>D</th>\n",
       "      <th>Q</th>\n",
       "      <th>S</th>\n",
       "      <th>LLF</th>\n",
       "      <th>AIC</th>\n",
       "      <th>BIC</th>\n",
       "    </tr>\n",
       "  </thead>\n",
       "  <tbody>\n",
       "    <tr>\n",
       "      <th>0</th>\n",
       "      <td>0</td>\n",
       "      <td>0</td>\n",
       "      <td>0</td>\n",
       "      <td>0</td>\n",
       "      <td>0</td>\n",
       "      <td>0</td>\n",
       "      <td>60</td>\n",
       "      <td>-6,876.58</td>\n",
       "      <td>13,755.16</td>\n",
       "      <td>13,761.26</td>\n",
       "    </tr>\n",
       "    <tr>\n",
       "      <th>1</th>\n",
       "      <td>0</td>\n",
       "      <td>0</td>\n",
       "      <td>1</td>\n",
       "      <td>0</td>\n",
       "      <td>0</td>\n",
       "      <td>0</td>\n",
       "      <td>60</td>\n",
       "      <td>-4,642.66</td>\n",
       "      <td>9,289.32</td>\n",
       "      <td>9,301.53</td>\n",
       "    </tr>\n",
       "    <tr>\n",
       "      <th>2</th>\n",
       "      <td>0</td>\n",
       "      <td>1</td>\n",
       "      <td>0</td>\n",
       "      <td>0</td>\n",
       "      <td>0</td>\n",
       "      <td>0</td>\n",
       "      <td>60</td>\n",
       "      <td>5,112.37</td>\n",
       "      <td>-10,222.74</td>\n",
       "      <td>-10,216.63</td>\n",
       "    </tr>\n",
       "    <tr>\n",
       "      <th>3</th>\n",
       "      <td>0</td>\n",
       "      <td>1</td>\n",
       "      <td>1</td>\n",
       "      <td>0</td>\n",
       "      <td>0</td>\n",
       "      <td>0</td>\n",
       "      <td>60</td>\n",
       "      <td>5,112.84</td>\n",
       "      <td>-10,221.68</td>\n",
       "      <td>-10,209.47</td>\n",
       "    </tr>\n",
       "    <tr>\n",
       "      <th>4</th>\n",
       "      <td>1</td>\n",
       "      <td>0</td>\n",
       "      <td>0</td>\n",
       "      <td>0</td>\n",
       "      <td>0</td>\n",
       "      <td>0</td>\n",
       "      <td>60</td>\n",
       "      <td>5,109.95</td>\n",
       "      <td>-10,215.89</td>\n",
       "      <td>-10,203.68</td>\n",
       "    </tr>\n",
       "    <tr>\n",
       "      <th>5</th>\n",
       "      <td>1</td>\n",
       "      <td>0</td>\n",
       "      <td>1</td>\n",
       "      <td>0</td>\n",
       "      <td>0</td>\n",
       "      <td>0</td>\n",
       "      <td>60</td>\n",
       "      <td>5,110.41</td>\n",
       "      <td>-10,214.82</td>\n",
       "      <td>-10,196.51</td>\n",
       "    </tr>\n",
       "    <tr>\n",
       "      <th>6</th>\n",
       "      <td>1</td>\n",
       "      <td>1</td>\n",
       "      <td>0</td>\n",
       "      <td>0</td>\n",
       "      <td>0</td>\n",
       "      <td>0</td>\n",
       "      <td>60</td>\n",
       "      <td>5,112.81</td>\n",
       "      <td>-10,221.62</td>\n",
       "      <td>-10,209.41</td>\n",
       "    </tr>\n",
       "    <tr>\n",
       "      <th>7</th>\n",
       "      <td>1</td>\n",
       "      <td>1</td>\n",
       "      <td>1</td>\n",
       "      <td>0</td>\n",
       "      <td>0</td>\n",
       "      <td>0</td>\n",
       "      <td>60</td>\n",
       "      <td>5,113.32</td>\n",
       "      <td>-10,220.65</td>\n",
       "      <td>-10,202.33</td>\n",
       "    </tr>\n",
       "  </tbody>\n",
       "</table>\n",
       "</div>"
      ],
      "text/plain": [
       "   p  d  q  P  D  Q   S       LLF        AIC        BIC\n",
       "0  0  0  0  0  0  0  60 -6,876.58  13,755.16  13,761.26\n",
       "1  0  0  1  0  0  0  60 -4,642.66   9,289.32   9,301.53\n",
       "2  0  1  0  0  0  0  60  5,112.37 -10,222.74 -10,216.63\n",
       "3  0  1  1  0  0  0  60  5,112.84 -10,221.68 -10,209.47\n",
       "4  1  0  0  0  0  0  60  5,109.95 -10,215.89 -10,203.68\n",
       "5  1  0  1  0  0  0  60  5,110.41 -10,214.82 -10,196.51\n",
       "6  1  1  0  0  0  0  60  5,112.81 -10,221.62 -10,209.41\n",
       "7  1  1  1  0  0  0  60  5,113.32 -10,220.65 -10,202.33"
      ]
     },
     "metadata": {},
     "output_type": "display_data"
    },
    {
     "name": "stdout",
     "output_type": "stream",
     "text": [
      "( 0 1 0 ) ( 0 0 0 60 )\n"
     ]
    },
    {
     "data": {
      "image/png": "[encoded data removed]",
      "text/plain": [
       "<Figure size 640x480 with 1 Axes>"
      ]
     },
     "metadata": {},
     "output_type": "display_data"
    }
   ],
   "source": [
    "# plot the results\n",
    "result_stationary = pd.DataFrame(result_stationary)\n",
    "display(result_stationary)\n",
    "\n",
    "# AIC, BIC graph\n",
    "result_stationary.iloc[:, -3:].plot()\n",
    "\n",
    "# optimized aic, bic, best params\n",
    "opt_s_p = result.iloc[np.argmin(result['AIC']), 0]\n",
    "opt_s_d = result.iloc[np.argmin(result['AIC']), 1]\n",
    "opt_s_q = result.iloc[np.argmin(result['AIC']), 2]\n",
    "opt_s_P = result.iloc[np.argmin(result['AIC']), 3]\n",
    "opt_s_D = result.iloc[np.argmin(result['AIC']), 4]\n",
    "opt_s_Q = result.iloc[np.argmin(result['AIC']), 5]\n",
    "opt_s_S = result.iloc[np.argmin(result['AIC']), 6]\n",
    "\n",
    "print(\"(\", opt_s_p, opt_s_d, opt_s_q, \")\", \"(\", opt_s_P, opt_s_D, opt_s_Q, opt_s_S, \")\")"
   ]
  },
  {
   "cell_type": "code",
   "execution_count": 146,
   "metadata": {},
   "outputs": [
    {
     "name": "stdout",
     "output_type": "stream",
     "text": [
      "RUNNING THE L-BFGS-B CODE\n",
      "\n",
      "           * * *\n",
      "\n",
      "Machine precision = 2.220D-16\n",
      " N =            1     M =           10\n",
      "\n",
      "At X0         0 variables are exactly at the bounds\n",
      "\n",
      "At iterate    0    f= -1.18799D+00    |proj g|=  2.25507D-03\n",
      "\n",
      "           * * *\n",
      "\n",
      "Tit   = total number of iterations\n",
      "Tnf   = total number of function evaluations\n",
      "Tnint = total number of segments explored during Cauchy searches\n",
      "Skip  = number of BFGS updates skipped\n",
      "Nact  = number of active bounds at final generalized Cauchy point\n",
      "Projg = norm of the final projected gradient\n",
      "F     = final function value\n",
      "\n",
      "           * * *\n",
      "\n",
      "   N    Tit     Tnf  Tnint  Skip  Nact     Projg        F\n",
      "    1      2     12      1     0     0   2.545D-04  -1.188D+00\n",
      "  F =  -1.1879948175946817     \n",
      "\n",
      "CONVERGENCE: REL_REDUCTION_OF_F_<=_FACTR*EPSMCH             \n"
     ]
    },
    {
     "name": "stderr",
     "output_type": "stream",
     "text": [
      " This problem is unconstrained.\n"
     ]
    },
    {
     "data": {
      "text/html": [
       "<table class=\"simpletable\">\n",
       "<caption>SARIMAX Results</caption>\n",
       "<tr>\n",
       "  <th>Dep. Variable:</th>         <td>diff</td>       <th>  No. Observations:  </th>   <td>3313</td>   \n",
       "</tr>\n",
       "<tr>\n",
       "  <th>Model:</th>           <td>SARIMAX(0, 1, 0)</td> <th>  Log Likelihood     </th> <td>3935.827</td> \n",
       "</tr>\n",
       "<tr>\n",
       "  <th>Date:</th>            <td>Mon, 04 Sep 2023</td> <th>  AIC                </th> <td>-7869.654</td>\n",
       "</tr>\n",
       "<tr>\n",
       "  <th>Time:</th>                <td>00:49:05</td>     <th>  BIC                </th> <td>-7863.548</td>\n",
       "</tr>\n",
       "<tr>\n",
       "  <th>Sample:</th>                  <td>0</td>        <th>  HQIC               </th> <td>-7867.469</td>\n",
       "</tr>\n",
       "<tr>\n",
       "  <th></th>                      <td> - 3313</td>     <th>                     </th>     <td> </td>    \n",
       "</tr>\n",
       "<tr>\n",
       "  <th>Covariance Type:</th>        <td>opg</td>       <th>                     </th>     <td> </td>    \n",
       "</tr>\n",
       "</table>\n",
       "<table class=\"simpletable\">\n",
       "<tr>\n",
       "     <td></td>       <th>coef</th>     <th>std err</th>      <th>z</th>      <th>P>|z|</th>  <th>[0.025</th>    <th>0.975]</th>  \n",
       "</tr>\n",
       "<tr>\n",
       "  <th>sigma2</th> <td>    0.0054</td> <td> 8.24e-05</td> <td>   66.010</td> <td> 0.000</td> <td>    0.005</td> <td>    0.006</td>\n",
       "</tr>\n",
       "</table>\n",
       "<table class=\"simpletable\">\n",
       "<tr>\n",
       "  <th>Ljung-Box (L1) (Q):</th>     <td>803.66</td> <th>  Jarque-Bera (JB):  </th> <td>1474.12</td>\n",
       "</tr>\n",
       "<tr>\n",
       "  <th>Prob(Q):</th>                 <td>0.00</td>  <th>  Prob(JB):          </th>  <td>0.00</td>  \n",
       "</tr>\n",
       "<tr>\n",
       "  <th>Heteroskedasticity (H):</th>  <td>1.84</td>  <th>  Skew:              </th>  <td>0.11</td>  \n",
       "</tr>\n",
       "<tr>\n",
       "  <th>Prob(H) (two-sided):</th>     <td>0.00</td>  <th>  Kurtosis:          </th>  <td>6.26</td>  \n",
       "</tr>\n",
       "</table><br/><br/>Warnings:<br/>[1] Covariance matrix calculated using the outer product of gradients (complex-step)."
      ],
      "text/latex": [
       "\\begin{center}\n",
       "\\begin{tabular}{lclc}\n",
       "\\toprule\n",
       "\\textbf{Dep. Variable:}          &       diff       & \\textbf{  No. Observations:  } &    3313     \\\\\n",
       "\\textbf{Model:}                  & SARIMAX(0, 1, 0) & \\textbf{  Log Likelihood     } &  3935.827   \\\\\n",
       "\\textbf{Date:}                   & Mon, 04 Sep 2023 & \\textbf{  AIC                } & -7869.654   \\\\\n",
       "\\textbf{Time:}                   &     00:49:05     & \\textbf{  BIC                } & -7863.548   \\\\\n",
       "\\textbf{Sample:}                 &        0         & \\textbf{  HQIC               } & -7867.469   \\\\\n",
       "\\textbf{}                        &      - 3313      & \\textbf{                     } &             \\\\\n",
       "\\textbf{Covariance Type:}        &       opg        & \\textbf{                     } &             \\\\\n",
       "\\bottomrule\n",
       "\\end{tabular}\n",
       "\\begin{tabular}{lcccccc}\n",
       "                & \\textbf{coef} & \\textbf{std err} & \\textbf{z} & \\textbf{P$> |$z$|$} & \\textbf{[0.025} & \\textbf{0.975]}  \\\\\n",
       "\\midrule\n",
       "\\textbf{sigma2} &       0.0054  &     8.24e-05     &    66.010  &         0.000        &        0.005    &        0.006     \\\\\n",
       "\\bottomrule\n",
       "\\end{tabular}\n",
       "\\begin{tabular}{lclc}\n",
       "\\textbf{Ljung-Box (L1) (Q):}     & 803.66 & \\textbf{  Jarque-Bera (JB):  } & 1474.12  \\\\\n",
       "\\textbf{Prob(Q):}                &  0.00  & \\textbf{  Prob(JB):          } &   0.00   \\\\\n",
       "\\textbf{Heteroskedasticity (H):} &  1.84  & \\textbf{  Skew:              } &   0.11   \\\\\n",
       "\\textbf{Prob(H) (two-sided):}    &  0.00  & \\textbf{  Kurtosis:          } &   6.26   \\\\\n",
       "\\bottomrule\n",
       "\\end{tabular}\n",
       "%\\caption{SARIMAX Results}\n",
       "\\end{center}\n",
       "\n",
       "Warnings: \\newline\n",
       " [1] Covariance matrix calculated using the outer product of gradients (complex-step)."
      ],
      "text/plain": [
       "<class 'statsmodels.iolib.summary.Summary'>\n",
       "\"\"\"\n",
       "                               SARIMAX Results                                \n",
       "==============================================================================\n",
       "Dep. Variable:                   diff   No. Observations:                 3313\n",
       "Model:               SARIMAX(0, 1, 0)   Log Likelihood                3935.827\n",
       "Date:                Mon, 04 Sep 2023   AIC                          -7869.654\n",
       "Time:                        00:49:05   BIC                          -7863.548\n",
       "Sample:                             0   HQIC                         -7867.469\n",
       "                               - 3313                                         \n",
       "Covariance Type:                  opg                                         \n",
       "==============================================================================\n",
       "                 coef    std err          z      P>|z|      [0.025      0.975]\n",
       "------------------------------------------------------------------------------\n",
       "sigma2         0.0054   8.24e-05     66.010      0.000       0.005       0.006\n",
       "===================================================================================\n",
       "Ljung-Box (L1) (Q):                 803.66   Jarque-Bera (JB):              1474.12\n",
       "Prob(Q):                              0.00   Prob(JB):                         0.00\n",
       "Heteroskedasticity (H):               1.84   Skew:                             0.11\n",
       "Prob(H) (two-sided):                  0.00   Kurtosis:                         6.26\n",
       "===================================================================================\n",
       "\n",
       "Warnings:\n",
       "[1] Covariance matrix calculated using the outer product of gradients (complex-step).\n",
       "\"\"\""
      ]
     },
     "metadata": {},
     "output_type": "display_data"
    }
   ],
   "source": [
    "# SARIMA modeling with stationary data\n",
    "\n",
    "model = SARIMAX(sarima_y_diff, order=(opt_s_p, opt_s_d, opt_s_q),\n",
    "                seasonal_order=(opt_s_P, opt_s_D, opt_s_Q, opt_s_S)).fit()\n",
    "display(model.summary())"
   ]
  },
  {
   "cell_type": "markdown",
   "metadata": {},
   "source": [
    "#### Prediction"
   ]
  },
  {
   "cell_type": "code",
   "execution_count": 144,
   "metadata": {},
   "outputs": [
    {
     "data": {
      "text/html": [
       "<div>\n",
       "<style scoped>\n",
       "    .dataframe tbody tr th:only-of-type {\n",
       "        vertical-align: middle;\n",
       "    }\n",
       "\n",
       "    .dataframe tbody tr th {\n",
       "        vertical-align: top;\n",
       "    }\n",
       "\n",
       "    .dataframe thead th {\n",
       "        text-align: right;\n",
       "    }\n",
       "</style>\n",
       "<table border=\"1\" class=\"dataframe\">\n",
       "  <thead>\n",
       "    <tr style=\"text-align: right;\">\n",
       "      <th></th>\n",
       "      <th>diff</th>\n",
       "    </tr>\n",
       "    <tr>\n",
       "      <th>Date</th>\n",
       "      <th></th>\n",
       "    </tr>\n",
       "  </thead>\n",
       "  <tbody>\n",
       "    <tr>\n",
       "      <th>2010-07-01 00:00:00+00:00</th>\n",
       "      <td>0.00</td>\n",
       "    </tr>\n",
       "    <tr>\n",
       "      <th>2010-07-02 00:00:00+00:00</th>\n",
       "      <td>0.02</td>\n",
       "    </tr>\n",
       "    <tr>\n",
       "      <th>2010-07-06 00:00:00+00:00</th>\n",
       "      <td>-0.05</td>\n",
       "    </tr>\n",
       "    <tr>\n",
       "      <th>2010-07-07 00:00:00+00:00</th>\n",
       "      <td>0.02</td>\n",
       "    </tr>\n",
       "    <tr>\n",
       "      <th>2010-07-08 00:00:00+00:00</th>\n",
       "      <td>0.02</td>\n",
       "    </tr>\n",
       "    <tr>\n",
       "      <th>...</th>\n",
       "      <td>...</td>\n",
       "    </tr>\n",
       "    <tr>\n",
       "      <th>2023-08-28 00:00:00+00:00</th>\n",
       "      <td>-0.02</td>\n",
       "    </tr>\n",
       "    <tr>\n",
       "      <th>2023-08-29 00:00:00+00:00</th>\n",
       "      <td>-0.14</td>\n",
       "    </tr>\n",
       "    <tr>\n",
       "      <th>2023-08-30 00:00:00+00:00</th>\n",
       "      <td>-0.00</td>\n",
       "    </tr>\n",
       "    <tr>\n",
       "      <th>2023-08-31 00:00:00+00:00</th>\n",
       "      <td>-0.03</td>\n",
       "    </tr>\n",
       "    <tr>\n",
       "      <th>2023-09-01 00:00:00+00:00</th>\n",
       "      <td>0.05</td>\n",
       "    </tr>\n",
       "  </tbody>\n",
       "</table>\n",
       "<p>3313 rows × 1 columns</p>\n",
       "</div>"
      ],
      "text/plain": [
       "                           diff\n",
       "Date                           \n",
       "2010-07-01 00:00:00+00:00  0.00\n",
       "2010-07-02 00:00:00+00:00  0.02\n",
       "2010-07-06 00:00:00+00:00 -0.05\n",
       "2010-07-07 00:00:00+00:00  0.02\n",
       "2010-07-08 00:00:00+00:00  0.02\n",
       "...                         ...\n",
       "2023-08-28 00:00:00+00:00 -0.02\n",
       "2023-08-29 00:00:00+00:00 -0.14\n",
       "2023-08-30 00:00:00+00:00 -0.00\n",
       "2023-08-31 00:00:00+00:00 -0.03\n",
       "2023-09-01 00:00:00+00:00  0.05\n",
       "\n",
       "[3313 rows x 1 columns]"
      ]
     },
     "execution_count": 144,
     "metadata": {},
     "output_type": "execute_result"
    }
   ],
   "source": [
    "sarima_y_diff"
   ]
  },
  {
   "cell_type": "code",
   "execution_count": 148,
   "metadata": {},
   "outputs": [],
   "source": [
    "## In-sample-prediction and confidence bounds\n",
    "pred_s = model.get_prediction(start=pd.to_datetime('2020-07-30', utc=True),\n",
    "                            end=pd.to_datetime('2023-09-01', utc=True),\n",
    "                        #   dynamic=True  # dynamic 파라미터가 true 일 경우, In-sample prediction을 수행할 때, 예측값 대신 실제값을 이용\n",
    "                            )"
   ]
  },
  {
   "cell_type": "code",
   "execution_count": 149,
   "metadata": {},
   "outputs": [
    {
     "data": {
      "image/png": "[encoded data removed]",
      "text/plain": [
       "<Figure size 640x480 with 1 Axes>"
      ]
     },
     "metadata": {},
     "output_type": "display_data"
    }
   ],
   "source": [
    "# we can get prediction_mean and prediction confidence level 95%\n",
    "# pred(get_predict의 결과물)로부터 prediction mean과 prediction 95% 신뢰구간 획득 가능\n",
    "pred_s_ci = pred_s.conf_int()\n",
    "\n",
    "# pred_ci[1:].plot()\n",
    "\n",
    "# plot in-sample-prediction\n",
    "ax = sarima_y_diff.plot(label=\"Observed\", color=\"#006699\")\n",
    "pred_s.predicted_mean[1:].plot(ax=ax, label=\"One-step Ahead prediction\", alpha=.7, color=\"#ff0066\")\n",
    "\n",
    "## Draw confidence bound (gray)\n",
    "ax.fill_between(pred_s_ci.index[1:],\n",
    "                pred_s_ci.iloc[1:, 0],\n",
    "                pred_s_ci.iloc[1:, 1], color='#ff0066', alpha=.25)\n",
    "\n",
    "## style the plot\n",
    "# ax.fill_between(ax.get_ylim(), pd.to_datetime('2010-06-30'), sarima_y.index[-1], alpha=.15, zorder=-1,\n",
    "#                 color='grey')\n",
    "ax.set_xlabel('Date')\n",
    "ax.set_ylabel('TB rates (5Y)')\n",
    "plt.legend(loc='upper left')\n",
    "plt.show()\n"
   ]
  },
  {
   "cell_type": "markdown",
   "metadata": {},
   "source": [
    "#### Forecast - out-of-sample"
   ]
  },
  {
   "cell_type": "code",
   "execution_count": 160,
   "metadata": {},
   "outputs": [
    {
     "data": {
      "text/html": [
       "<div>\n",
       "<style scoped>\n",
       "    .dataframe tbody tr th:only-of-type {\n",
       "        vertical-align: middle;\n",
       "    }\n",
       "\n",
       "    .dataframe tbody tr th {\n",
       "        vertical-align: top;\n",
       "    }\n",
       "\n",
       "    .dataframe thead th {\n",
       "        text-align: right;\n",
       "    }\n",
       "</style>\n",
       "<table border=\"1\" class=\"dataframe\">\n",
       "  <thead>\n",
       "    <tr style=\"text-align: right;\">\n",
       "      <th></th>\n",
       "      <th>lower diff</th>\n",
       "      <th>upper diff</th>\n",
       "    </tr>\n",
       "    <tr>\n",
       "      <th>Date</th>\n",
       "      <th></th>\n",
       "      <th></th>\n",
       "    </tr>\n",
       "  </thead>\n",
       "  <tbody>\n",
       "    <tr>\n",
       "      <th>2023-09-02 00:00:00+00:00</th>\n",
       "      <td>-0.10</td>\n",
       "      <td>0.19</td>\n",
       "    </tr>\n",
       "    <tr>\n",
       "      <th>2023-09-03 00:00:00+00:00</th>\n",
       "      <td>-0.16</td>\n",
       "      <td>0.25</td>\n",
       "    </tr>\n",
       "    <tr>\n",
       "      <th>2023-09-04 00:00:00+00:00</th>\n",
       "      <td>-0.20</td>\n",
       "      <td>0.30</td>\n",
       "    </tr>\n",
       "    <tr>\n",
       "      <th>2023-09-05 00:00:00+00:00</th>\n",
       "      <td>-0.24</td>\n",
       "      <td>0.34</td>\n",
       "    </tr>\n",
       "    <tr>\n",
       "      <th>2023-09-06 00:00:00+00:00</th>\n",
       "      <td>-0.28</td>\n",
       "      <td>0.37</td>\n",
       "    </tr>\n",
       "    <tr>\n",
       "      <th>...</th>\n",
       "      <td>...</td>\n",
       "      <td>...</td>\n",
       "    </tr>\n",
       "    <tr>\n",
       "      <th>2023-12-26 00:00:00+00:00</th>\n",
       "      <td>-1.51</td>\n",
       "      <td>1.60</td>\n",
       "    </tr>\n",
       "    <tr>\n",
       "      <th>2023-12-27 00:00:00+00:00</th>\n",
       "      <td>-1.52</td>\n",
       "      <td>1.61</td>\n",
       "    </tr>\n",
       "    <tr>\n",
       "      <th>2023-12-28 00:00:00+00:00</th>\n",
       "      <td>-1.52</td>\n",
       "      <td>1.62</td>\n",
       "    </tr>\n",
       "    <tr>\n",
       "      <th>2023-12-29 00:00:00+00:00</th>\n",
       "      <td>-1.53</td>\n",
       "      <td>1.62</td>\n",
       "    </tr>\n",
       "    <tr>\n",
       "      <th>2023-12-30 00:00:00+00:00</th>\n",
       "      <td>-1.54</td>\n",
       "      <td>1.63</td>\n",
       "    </tr>\n",
       "  </tbody>\n",
       "</table>\n",
       "<p>120 rows × 2 columns</p>\n",
       "</div>"
      ],
      "text/plain": [
       "                           lower diff  upper diff\n",
       "Date                                             \n",
       "2023-09-02 00:00:00+00:00       -0.10        0.19\n",
       "2023-09-03 00:00:00+00:00       -0.16        0.25\n",
       "2023-09-04 00:00:00+00:00       -0.20        0.30\n",
       "2023-09-05 00:00:00+00:00       -0.24        0.34\n",
       "2023-09-06 00:00:00+00:00       -0.28        0.37\n",
       "...                               ...         ...\n",
       "2023-12-26 00:00:00+00:00       -1.51        1.60\n",
       "2023-12-27 00:00:00+00:00       -1.52        1.61\n",
       "2023-12-28 00:00:00+00:00       -1.52        1.62\n",
       "2023-12-29 00:00:00+00:00       -1.53        1.62\n",
       "2023-12-30 00:00:00+00:00       -1.54        1.63\n",
       "\n",
       "[120 rows x 2 columns]"
      ]
     },
     "execution_count": 160,
     "metadata": {},
     "output_type": "execute_result"
    }
   ],
   "source": [
    "from datetime import datetime\n",
    "# get forecast 120 steps ahead in future\n",
    "forecast_s = model.get_forecast(steps=120)\n",
    "\n",
    "## get confidnece intervals of forecasts\n",
    "forecast_s_ci = forecast_s.conf_int()\n",
    "\n",
    "# set dateitme index to 120 forecasts to the confidence data\n",
    "dates_future = pd.date_range(pd.to_datetime(\"2023-09-02\", utc=True), periods=120)\n",
    "forecast_s_ci['Date'] = dates_future\n",
    "forecast_s_ci.set_index('Date', inplace=True)\n",
    "\n",
    "forecast_s_ci"
   ]
  },
  {
   "cell_type": "code",
   "execution_count": 161,
   "metadata": {},
   "outputs": [
    {
     "data": {
      "text/html": [
       "<div>\n",
       "<style scoped>\n",
       "    .dataframe tbody tr th:only-of-type {\n",
       "        vertical-align: middle;\n",
       "    }\n",
       "\n",
       "    .dataframe tbody tr th {\n",
       "        vertical-align: top;\n",
       "    }\n",
       "\n",
       "    .dataframe thead th {\n",
       "        text-align: right;\n",
       "    }\n",
       "</style>\n",
       "<table border=\"1\" class=\"dataframe\">\n",
       "  <thead>\n",
       "    <tr style=\"text-align: right;\">\n",
       "      <th></th>\n",
       "      <th>predicted_mean</th>\n",
       "    </tr>\n",
       "    <tr>\n",
       "      <th>Date</th>\n",
       "      <th></th>\n",
       "    </tr>\n",
       "  </thead>\n",
       "  <tbody>\n",
       "    <tr>\n",
       "      <th>2023-09-02 00:00:00+00:00</th>\n",
       "      <td>0.05</td>\n",
       "    </tr>\n",
       "    <tr>\n",
       "      <th>2023-09-03 00:00:00+00:00</th>\n",
       "      <td>0.05</td>\n",
       "    </tr>\n",
       "    <tr>\n",
       "      <th>2023-09-04 00:00:00+00:00</th>\n",
       "      <td>0.05</td>\n",
       "    </tr>\n",
       "    <tr>\n",
       "      <th>2023-09-05 00:00:00+00:00</th>\n",
       "      <td>0.05</td>\n",
       "    </tr>\n",
       "    <tr>\n",
       "      <th>2023-09-06 00:00:00+00:00</th>\n",
       "      <td>0.05</td>\n",
       "    </tr>\n",
       "    <tr>\n",
       "      <th>...</th>\n",
       "      <td>...</td>\n",
       "    </tr>\n",
       "    <tr>\n",
       "      <th>2023-12-26 00:00:00+00:00</th>\n",
       "      <td>0.05</td>\n",
       "    </tr>\n",
       "    <tr>\n",
       "      <th>2023-12-27 00:00:00+00:00</th>\n",
       "      <td>0.05</td>\n",
       "    </tr>\n",
       "    <tr>\n",
       "      <th>2023-12-28 00:00:00+00:00</th>\n",
       "      <td>0.05</td>\n",
       "    </tr>\n",
       "    <tr>\n",
       "      <th>2023-12-29 00:00:00+00:00</th>\n",
       "      <td>0.05</td>\n",
       "    </tr>\n",
       "    <tr>\n",
       "      <th>2023-12-30 00:00:00+00:00</th>\n",
       "      <td>0.05</td>\n",
       "    </tr>\n",
       "  </tbody>\n",
       "</table>\n",
       "<p>120 rows × 1 columns</p>\n",
       "</div>"
      ],
      "text/plain": [
       "                           predicted_mean\n",
       "Date                                     \n",
       "2023-09-02 00:00:00+00:00            0.05\n",
       "2023-09-03 00:00:00+00:00            0.05\n",
       "2023-09-04 00:00:00+00:00            0.05\n",
       "2023-09-05 00:00:00+00:00            0.05\n",
       "2023-09-06 00:00:00+00:00            0.05\n",
       "...                                   ...\n",
       "2023-12-26 00:00:00+00:00            0.05\n",
       "2023-12-27 00:00:00+00:00            0.05\n",
       "2023-12-28 00:00:00+00:00            0.05\n",
       "2023-12-29 00:00:00+00:00            0.05\n",
       "2023-12-30 00:00:00+00:00            0.05\n",
       "\n",
       "[120 rows x 1 columns]"
      ]
     },
     "execution_count": 161,
     "metadata": {},
     "output_type": "execute_result"
    }
   ],
   "source": [
    "# set dateitme index to 120 forecasts to the mean data\n",
    "pred_mean_s = pd.DataFrame(forecast_s.predicted_mean)\n",
    "pred_mean_s['Date'] = dates_future\n",
    "pred_mean_s.set_index('Date', inplace=True)\n",
    "pred_mean_s"
   ]
  },
  {
   "cell_type": "code",
   "execution_count": 162,
   "metadata": {},
   "outputs": [
    {
     "data": {
      "image/png": "[encoded data removed]",
      "text/plain": [
       "<Figure size 1600x800 with 1 Axes>"
      ]
     },
     "metadata": {},
     "output_type": "display_data"
    }
   ],
   "source": [
    "# plot time series and long-term forecast\n",
    "ax = sarima_y_diff.plot(label='Pbserved', figsize=(16, 8), color='#006699')\n",
    "pred_mean_s.plot(ax=ax, label='Forecast', color='#ff0066')\n",
    "ax.fill_between(forecast_s_ci.index,\n",
    "                forecast_s_ci.iloc[:, 0],\n",
    "                forecast_s_ci.iloc[:, 1],\n",
    "                color='#ff0066', alpha=.25)\n",
    "\n",
    "ax.set_xlabel('Date')\n",
    "ax.set_ylabel('TB rates')\n",
    "plt.legend(loc='upper left')\n",
    "plt.show()"
   ]
  },
  {
   "cell_type": "markdown",
   "metadata": {},
   "source": [
    "## GARCH"
   ]
  },
  {
   "cell_type": "markdown",
   "metadata": {},
   "source": [
    "https://github.com/ahn283/finance/blob/main/python_for_finance_cookbook/volatility_model_garch.ipynb"
   ]
  },
  {
   "cell_type": "markdown",
   "metadata": {},
   "source": []
  }
 ],
 "metadata": {
  "kernelspec": {
   "display_name": "finance",
   "language": "python",
   "name": "python3"
  },
  "language_info": {
   "codemirror_mode": {
    "name": "ipython",
    "version": 3
   },
   "file_extension": ".py",
   "mimetype": "text/x-python",
   "name": "python",
   "nbconvert_exporter": "python",
   "pygments_lexer": "ipython3",
   "version": "3.9.17"
  },
  "orig_nbformat": 4
 },
 "nbformat": 4,
 "nbformat_minor": 2
}
