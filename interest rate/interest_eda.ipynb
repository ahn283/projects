{
 "cells": [
  {
   "cell_type": "markdown",
   "metadata": {},
   "source": [
    "# Treasury bond rate"
   ]
  },
  {
   "cell_type": "markdown",
   "metadata": {},
   "source": [
    "## Data download"
   ]
  },
  {
   "cell_type": "code",
   "execution_count": 1,
   "metadata": {},
   "outputs": [],
   "source": [
    "import pandas as pd\n",
    "import numpy as np\n",
    "import yfinance as yf\n",
    "import matplotlib.pyplot as plt\n",
    "import seaborn as sns"
   ]
  },
  {
   "cell_type": "markdown",
   "metadata": {},
   "source": [
    "https://finance.yahoo.com/bonds/\n",
    "\n",
    "- ^IRX : 13 week Treasury Bill\n",
    "- ^FVX : Treasury Yield 5 years\n",
    "- ^TNX : Treasury Yield 10 years\n",
    "- ^TYX : Treasury Yield 30 years\n",
    "\n",
    "- Scale : %\n",
    "- frequency : daily (B)"
   ]
  },
  {
   "cell_type": "code",
   "execution_count": 4,
   "metadata": {},
   "outputs": [
    {
     "name": "stdout",
     "output_type": "stream",
     "text": [
      "[*********************100%***********************]  4 of 4 completed\n"
     ]
    },
    {
     "data": {
      "text/html": [
       "<div>\n",
       "<style scoped>\n",
       "    .dataframe tbody tr th:only-of-type {\n",
       "        vertical-align: middle;\n",
       "    }\n",
       "\n",
       "    .dataframe tbody tr th {\n",
       "        vertical-align: top;\n",
       "    }\n",
       "\n",
       "    .dataframe thead th {\n",
       "        text-align: right;\n",
       "    }\n",
       "</style>\n",
       "<table border=\"1\" class=\"dataframe\">\n",
       "  <thead>\n",
       "    <tr style=\"text-align: right;\">\n",
       "      <th></th>\n",
       "      <th>^FVX</th>\n",
       "      <th>^IRX</th>\n",
       "      <th>^TNX</th>\n",
       "      <th>^TYX</th>\n",
       "    </tr>\n",
       "    <tr>\n",
       "      <th>Date</th>\n",
       "      <th></th>\n",
       "      <th></th>\n",
       "      <th></th>\n",
       "      <th></th>\n",
       "    </tr>\n",
       "  </thead>\n",
       "  <tbody>\n",
       "    <tr>\n",
       "      <th>2023-08-25</th>\n",
       "      <td>4.433</td>\n",
       "      <td>5.315</td>\n",
       "      <td>4.239</td>\n",
       "      <td>4.294</td>\n",
       "    </tr>\n",
       "    <tr>\n",
       "      <th>2023-08-28</th>\n",
       "      <td>4.412</td>\n",
       "      <td>5.323</td>\n",
       "      <td>4.212</td>\n",
       "      <td>4.291</td>\n",
       "    </tr>\n",
       "    <tr>\n",
       "      <th>2023-08-29</th>\n",
       "      <td>4.277</td>\n",
       "      <td>5.320</td>\n",
       "      <td>4.122</td>\n",
       "      <td>4.237</td>\n",
       "    </tr>\n",
       "    <tr>\n",
       "      <th>2023-08-30</th>\n",
       "      <td>4.273</td>\n",
       "      <td>5.315</td>\n",
       "      <td>4.118</td>\n",
       "      <td>4.228</td>\n",
       "    </tr>\n",
       "    <tr>\n",
       "      <th>2023-08-31</th>\n",
       "      <td>4.244</td>\n",
       "      <td>5.298</td>\n",
       "      <td>4.093</td>\n",
       "      <td>4.204</td>\n",
       "    </tr>\n",
       "  </tbody>\n",
       "</table>\n",
       "</div>"
      ],
      "text/plain": [
       "             ^FVX   ^IRX   ^TNX   ^TYX\n",
       "Date                                  \n",
       "2023-08-25  4.433  5.315  4.239  4.294\n",
       "2023-08-28  4.412  5.323  4.212  4.291\n",
       "2023-08-29  4.277  5.320  4.122  4.237\n",
       "2023-08-30  4.273  5.315  4.118  4.228\n",
       "2023-08-31  4.244  5.298  4.093  4.204"
      ]
     },
     "execution_count": 4,
     "metadata": {},
     "output_type": "execute_result"
    }
   ],
   "source": [
    "treasury_bonds = [\"^IRX\", \"^FVX\", \"^TNX\", \"^TYX\"]\n",
    "\n",
    "tb = yf.Tickers(treasury_bonds)\n",
    "df_tb = tb.history(period=\"max\")[\"Close\"]\n",
    "df_tb.tail()"
   ]
  },
  {
   "cell_type": "code",
   "execution_count": 7,
   "metadata": {},
   "outputs": [
    {
     "data": {
      "text/html": [
       "<div>\n",
       "<style scoped>\n",
       "    .dataframe tbody tr th:only-of-type {\n",
       "        vertical-align: middle;\n",
       "    }\n",
       "\n",
       "    .dataframe tbody tr th {\n",
       "        vertical-align: top;\n",
       "    }\n",
       "\n",
       "    .dataframe thead th {\n",
       "        text-align: right;\n",
       "    }\n",
       "</style>\n",
       "<table border=\"1\" class=\"dataframe\">\n",
       "  <thead>\n",
       "    <tr style=\"text-align: right;\">\n",
       "      <th></th>\n",
       "      <th>5Y</th>\n",
       "      <th>13W</th>\n",
       "      <th>10Y</th>\n",
       "      <th>30Y</th>\n",
       "    </tr>\n",
       "    <tr>\n",
       "      <th>Date</th>\n",
       "      <th></th>\n",
       "      <th></th>\n",
       "      <th></th>\n",
       "      <th></th>\n",
       "    </tr>\n",
       "  </thead>\n",
       "  <tbody>\n",
       "    <tr>\n",
       "      <th>2023-08-25</th>\n",
       "      <td>4.433</td>\n",
       "      <td>5.315</td>\n",
       "      <td>4.239</td>\n",
       "      <td>4.294</td>\n",
       "    </tr>\n",
       "    <tr>\n",
       "      <th>2023-08-28</th>\n",
       "      <td>4.412</td>\n",
       "      <td>5.323</td>\n",
       "      <td>4.212</td>\n",
       "      <td>4.291</td>\n",
       "    </tr>\n",
       "    <tr>\n",
       "      <th>2023-08-29</th>\n",
       "      <td>4.277</td>\n",
       "      <td>5.320</td>\n",
       "      <td>4.122</td>\n",
       "      <td>4.237</td>\n",
       "    </tr>\n",
       "    <tr>\n",
       "      <th>2023-08-30</th>\n",
       "      <td>4.273</td>\n",
       "      <td>5.315</td>\n",
       "      <td>4.118</td>\n",
       "      <td>4.228</td>\n",
       "    </tr>\n",
       "    <tr>\n",
       "      <th>2023-08-31</th>\n",
       "      <td>4.244</td>\n",
       "      <td>5.298</td>\n",
       "      <td>4.093</td>\n",
       "      <td>4.204</td>\n",
       "    </tr>\n",
       "  </tbody>\n",
       "</table>\n",
       "</div>"
      ],
      "text/plain": [
       "               5Y    13W    10Y    30Y\n",
       "Date                                  \n",
       "2023-08-25  4.433  5.315  4.239  4.294\n",
       "2023-08-28  4.412  5.323  4.212  4.291\n",
       "2023-08-29  4.277  5.320  4.122  4.237\n",
       "2023-08-30  4.273  5.315  4.118  4.228\n",
       "2023-08-31  4.244  5.298  4.093  4.204"
      ]
     },
     "execution_count": 7,
     "metadata": {},
     "output_type": "execute_result"
    }
   ],
   "source": [
    "df_tb.rename(columns={\"^IRX\":\"13W\", \"^FVX\":\"5Y\", \"^TNX\":\"10Y\", \"^TYX\":\"30Y\"}, inplace=True)\n",
    "df_tb.tail()"
   ]
  },
  {
   "cell_type": "code",
   "execution_count": 9,
   "metadata": {},
   "outputs": [
    {
     "data": {
      "image/png": "[encoded data removed]",
      "text/plain": [
       "<Figure size 640x480 with 1 Axes>"
      ]
     },
     "metadata": {},
     "output_type": "display_data"
    }
   ],
   "source": [
    "# plot graph\n",
    "df_tb.plot()\n",
    "\n",
    "plt.tight_layout()\n",
    "sns.despine()"
   ]
  },
  {
   "cell_type": "code",
   "execution_count": 10,
   "metadata": {},
   "outputs": [
    {
     "data": {
      "text/html": [
       "<div>\n",
       "<style scoped>\n",
       "    .dataframe tbody tr th:only-of-type {\n",
       "        vertical-align: middle;\n",
       "    }\n",
       "\n",
       "    .dataframe tbody tr th {\n",
       "        vertical-align: top;\n",
       "    }\n",
       "\n",
       "    .dataframe thead th {\n",
       "        text-align: right;\n",
       "    }\n",
       "</style>\n",
       "<table border=\"1\" class=\"dataframe\">\n",
       "  <thead>\n",
       "    <tr style=\"text-align: right;\">\n",
       "      <th></th>\n",
       "      <th>5Y</th>\n",
       "      <th>13W</th>\n",
       "      <th>10Y</th>\n",
       "      <th>30Y</th>\n",
       "    </tr>\n",
       "  </thead>\n",
       "  <tbody>\n",
       "    <tr>\n",
       "      <th>5Y</th>\n",
       "      <td>1.000000</td>\n",
       "      <td>0.952831</td>\n",
       "      <td>0.992974</td>\n",
       "      <td>0.982719</td>\n",
       "    </tr>\n",
       "    <tr>\n",
       "      <th>13W</th>\n",
       "      <td>0.952831</td>\n",
       "      <td>1.000000</td>\n",
       "      <td>0.922176</td>\n",
       "      <td>0.910523</td>\n",
       "    </tr>\n",
       "    <tr>\n",
       "      <th>10Y</th>\n",
       "      <td>0.992974</td>\n",
       "      <td>0.922176</td>\n",
       "      <td>1.000000</td>\n",
       "      <td>0.996173</td>\n",
       "    </tr>\n",
       "    <tr>\n",
       "      <th>30Y</th>\n",
       "      <td>0.982719</td>\n",
       "      <td>0.910523</td>\n",
       "      <td>0.996173</td>\n",
       "      <td>1.000000</td>\n",
       "    </tr>\n",
       "  </tbody>\n",
       "</table>\n",
       "</div>"
      ],
      "text/plain": [
       "           5Y       13W       10Y       30Y\n",
       "5Y   1.000000  0.952831  0.992974  0.982719\n",
       "13W  0.952831  1.000000  0.922176  0.910523\n",
       "10Y  0.992974  0.922176  1.000000  0.996173\n",
       "30Y  0.982719  0.910523  0.996173  1.000000"
      ]
     },
     "execution_count": 10,
     "metadata": {},
     "output_type": "execute_result"
    }
   ],
   "source": [
    "df_tb.corr()"
   ]
  },
  {
   "cell_type": "markdown",
   "metadata": {},
   "source": [
    "## Correlation with Tesla"
   ]
  },
  {
   "cell_type": "code",
   "execution_count": 14,
   "metadata": {},
   "outputs": [
    {
     "data": {
      "text/html": [
       "<div>\n",
       "<style scoped>\n",
       "    .dataframe tbody tr th:only-of-type {\n",
       "        vertical-align: middle;\n",
       "    }\n",
       "\n",
       "    .dataframe tbody tr th {\n",
       "        vertical-align: top;\n",
       "    }\n",
       "\n",
       "    .dataframe thead th {\n",
       "        text-align: right;\n",
       "    }\n",
       "</style>\n",
       "<table border=\"1\" class=\"dataframe\">\n",
       "  <thead>\n",
       "    <tr style=\"text-align: right;\">\n",
       "      <th></th>\n",
       "      <th>Close</th>\n",
       "    </tr>\n",
       "    <tr>\n",
       "      <th>Date</th>\n",
       "      <th></th>\n",
       "    </tr>\n",
       "  </thead>\n",
       "  <tbody>\n",
       "    <tr>\n",
       "      <th>2023-08-25 00:00:00-04:00</th>\n",
       "      <td>238.589996</td>\n",
       "    </tr>\n",
       "    <tr>\n",
       "      <th>2023-08-28 00:00:00-04:00</th>\n",
       "      <td>238.820007</td>\n",
       "    </tr>\n",
       "    <tr>\n",
       "      <th>2023-08-29 00:00:00-04:00</th>\n",
       "      <td>257.179993</td>\n",
       "    </tr>\n",
       "    <tr>\n",
       "      <th>2023-08-30 00:00:00-04:00</th>\n",
       "      <td>256.899994</td>\n",
       "    </tr>\n",
       "    <tr>\n",
       "      <th>2023-08-31 00:00:00-04:00</th>\n",
       "      <td>258.079987</td>\n",
       "    </tr>\n",
       "  </tbody>\n",
       "</table>\n",
       "</div>"
      ],
      "text/plain": [
       "                                Close\n",
       "Date                                 \n",
       "2023-08-25 00:00:00-04:00  238.589996\n",
       "2023-08-28 00:00:00-04:00  238.820007\n",
       "2023-08-29 00:00:00-04:00  257.179993\n",
       "2023-08-30 00:00:00-04:00  256.899994\n",
       "2023-08-31 00:00:00-04:00  258.079987"
      ]
     },
     "execution_count": 14,
     "metadata": {},
     "output_type": "execute_result"
    }
   ],
   "source": [
    "tesla = yf.Ticker(\"TSLA\")\n",
    "df_tesla = tesla.history(period=\"max\")[[\"Close\"]]\n",
    "df_tesla.tail()"
   ]
  },
  {
   "cell_type": "code",
   "execution_count": 17,
   "metadata": {},
   "outputs": [
    {
     "data": {
      "text/html": [
       "<div>\n",
       "<style scoped>\n",
       "    .dataframe tbody tr th:only-of-type {\n",
       "        vertical-align: middle;\n",
       "    }\n",
       "\n",
       "    .dataframe tbody tr th {\n",
       "        vertical-align: top;\n",
       "    }\n",
       "\n",
       "    .dataframe thead th {\n",
       "        text-align: right;\n",
       "    }\n",
       "</style>\n",
       "<table border=\"1\" class=\"dataframe\">\n",
       "  <thead>\n",
       "    <tr style=\"text-align: right;\">\n",
       "      <th></th>\n",
       "      <th>Close</th>\n",
       "    </tr>\n",
       "    <tr>\n",
       "      <th>Date</th>\n",
       "      <th></th>\n",
       "    </tr>\n",
       "  </thead>\n",
       "  <tbody>\n",
       "    <tr>\n",
       "      <th>2010-06-29 00:00:00-04:00</th>\n",
       "      <td>1.592667</td>\n",
       "    </tr>\n",
       "    <tr>\n",
       "      <th>2010-06-30 00:00:00-04:00</th>\n",
       "      <td>1.588667</td>\n",
       "    </tr>\n",
       "    <tr>\n",
       "      <th>2010-07-01 00:00:00-04:00</th>\n",
       "      <td>1.464000</td>\n",
       "    </tr>\n",
       "    <tr>\n",
       "      <th>2010-07-02 00:00:00-04:00</th>\n",
       "      <td>1.280000</td>\n",
       "    </tr>\n",
       "    <tr>\n",
       "      <th>2010-07-06 00:00:00-04:00</th>\n",
       "      <td>1.074000</td>\n",
       "    </tr>\n",
       "  </tbody>\n",
       "</table>\n",
       "</div>"
      ],
      "text/plain": [
       "                              Close\n",
       "Date                               \n",
       "2010-06-29 00:00:00-04:00  1.592667\n",
       "2010-06-30 00:00:00-04:00  1.588667\n",
       "2010-07-01 00:00:00-04:00  1.464000\n",
       "2010-07-02 00:00:00-04:00  1.280000\n",
       "2010-07-06 00:00:00-04:00  1.074000"
      ]
     },
     "execution_count": 17,
     "metadata": {},
     "output_type": "execute_result"
    }
   ],
   "source": [
    "# init date of Tesla\n",
    "df_tesla.head()"
   ]
  },
  {
   "cell_type": "code",
   "execution_count": 21,
   "metadata": {},
   "outputs": [
    {
     "data": {
      "text/html": [
       "<div>\n",
       "<style scoped>\n",
       "    .dataframe tbody tr th:only-of-type {\n",
       "        vertical-align: middle;\n",
       "    }\n",
       "\n",
       "    .dataframe tbody tr th {\n",
       "        vertical-align: top;\n",
       "    }\n",
       "\n",
       "    .dataframe thead th {\n",
       "        text-align: right;\n",
       "    }\n",
       "</style>\n",
       "<table border=\"1\" class=\"dataframe\">\n",
       "  <thead>\n",
       "    <tr style=\"text-align: right;\">\n",
       "      <th></th>\n",
       "      <th>5Y</th>\n",
       "      <th>13W</th>\n",
       "      <th>10Y</th>\n",
       "      <th>30Y</th>\n",
       "    </tr>\n",
       "    <tr>\n",
       "      <th>Date</th>\n",
       "      <th></th>\n",
       "      <th></th>\n",
       "      <th></th>\n",
       "      <th></th>\n",
       "    </tr>\n",
       "  </thead>\n",
       "  <tbody>\n",
       "    <tr>\n",
       "      <th>2010-06-29</th>\n",
       "      <td>1.786</td>\n",
       "      <td>0.160</td>\n",
       "      <td>2.967</td>\n",
       "      <td>3.946</td>\n",
       "    </tr>\n",
       "    <tr>\n",
       "      <th>2010-06-30</th>\n",
       "      <td>1.795</td>\n",
       "      <td>0.170</td>\n",
       "      <td>2.951</td>\n",
       "      <td>3.909</td>\n",
       "    </tr>\n",
       "    <tr>\n",
       "      <th>2010-07-01</th>\n",
       "      <td>1.795</td>\n",
       "      <td>0.165</td>\n",
       "      <td>2.927</td>\n",
       "      <td>3.868</td>\n",
       "    </tr>\n",
       "    <tr>\n",
       "      <th>2010-07-02</th>\n",
       "      <td>1.812</td>\n",
       "      <td>0.160</td>\n",
       "      <td>2.979</td>\n",
       "      <td>3.941</td>\n",
       "    </tr>\n",
       "    <tr>\n",
       "      <th>2010-07-06</th>\n",
       "      <td>1.760</td>\n",
       "      <td>0.160</td>\n",
       "      <td>2.932</td>\n",
       "      <td>3.892</td>\n",
       "    </tr>\n",
       "  </tbody>\n",
       "</table>\n",
       "</div>"
      ],
      "text/plain": [
       "               5Y    13W    10Y    30Y\n",
       "Date                                  \n",
       "2010-06-29  1.786  0.160  2.967  3.946\n",
       "2010-06-30  1.795  0.170  2.951  3.909\n",
       "2010-07-01  1.795  0.165  2.927  3.868\n",
       "2010-07-02  1.812  0.160  2.979  3.941\n",
       "2010-07-06  1.760  0.160  2.932  3.892"
      ]
     },
     "execution_count": 21,
     "metadata": {},
     "output_type": "execute_result"
    }
   ],
   "source": [
    "df_tb = df_tb[df_tb.index >= \"2010-06-29\"]\n",
    "df_tb.head()"
   ]
  },
  {
   "cell_type": "code",
   "execution_count": 24,
   "metadata": {},
   "outputs": [
    {
     "data": {
      "text/plain": [
       "datetime64[ns, America/New_York]"
      ]
     },
     "execution_count": 24,
     "metadata": {},
     "output_type": "execute_result"
    }
   ],
   "source": [
    "# merge two DataFrames\n",
    "\n",
    "df_tesla.index.dtype"
   ]
  },
  {
   "cell_type": "code",
   "execution_count": 36,
   "metadata": {},
   "outputs": [
    {
     "data": {
      "text/html": [
       "<div>\n",
       "<style scoped>\n",
       "    .dataframe tbody tr th:only-of-type {\n",
       "        vertical-align: middle;\n",
       "    }\n",
       "\n",
       "    .dataframe tbody tr th {\n",
       "        vertical-align: top;\n",
       "    }\n",
       "\n",
       "    .dataframe thead th {\n",
       "        text-align: right;\n",
       "    }\n",
       "</style>\n",
       "<table border=\"1\" class=\"dataframe\">\n",
       "  <thead>\n",
       "    <tr style=\"text-align: right;\">\n",
       "      <th></th>\n",
       "      <th>Close</th>\n",
       "    </tr>\n",
       "    <tr>\n",
       "      <th>Date</th>\n",
       "      <th></th>\n",
       "    </tr>\n",
       "  </thead>\n",
       "  <tbody>\n",
       "    <tr>\n",
       "      <th>2010-06-29</th>\n",
       "      <td>1.592667</td>\n",
       "    </tr>\n",
       "    <tr>\n",
       "      <th>2010-06-30</th>\n",
       "      <td>1.588667</td>\n",
       "    </tr>\n",
       "    <tr>\n",
       "      <th>2010-07-01</th>\n",
       "      <td>1.464000</td>\n",
       "    </tr>\n",
       "    <tr>\n",
       "      <th>2010-07-02</th>\n",
       "      <td>1.280000</td>\n",
       "    </tr>\n",
       "    <tr>\n",
       "      <th>2010-07-06</th>\n",
       "      <td>1.074000</td>\n",
       "    </tr>\n",
       "  </tbody>\n",
       "</table>\n",
       "</div>"
      ],
      "text/plain": [
       "               Close\n",
       "Date                \n",
       "2010-06-29  1.592667\n",
       "2010-06-30  1.588667\n",
       "2010-07-01  1.464000\n",
       "2010-07-02  1.280000\n",
       "2010-07-06  1.074000"
      ]
     },
     "execution_count": 36,
     "metadata": {},
     "output_type": "execute_result"
    }
   ],
   "source": [
    "df_tesla.index = pd.to_datetime(df_tesla.index, utc=True).strftime(\"%Y-%m-%d\")\n",
    "df_tesla.head()"
   ]
  },
  {
   "cell_type": "code",
   "execution_count": 37,
   "metadata": {},
   "outputs": [
    {
     "data": {
      "text/html": [
       "<div>\n",
       "<style scoped>\n",
       "    .dataframe tbody tr th:only-of-type {\n",
       "        vertical-align: middle;\n",
       "    }\n",
       "\n",
       "    .dataframe tbody tr th {\n",
       "        vertical-align: top;\n",
       "    }\n",
       "\n",
       "    .dataframe thead th {\n",
       "        text-align: right;\n",
       "    }\n",
       "</style>\n",
       "<table border=\"1\" class=\"dataframe\">\n",
       "  <thead>\n",
       "    <tr style=\"text-align: right;\">\n",
       "      <th></th>\n",
       "      <th>5Y</th>\n",
       "      <th>13W</th>\n",
       "      <th>10Y</th>\n",
       "      <th>30Y</th>\n",
       "    </tr>\n",
       "    <tr>\n",
       "      <th>Date</th>\n",
       "      <th></th>\n",
       "      <th></th>\n",
       "      <th></th>\n",
       "      <th></th>\n",
       "    </tr>\n",
       "  </thead>\n",
       "  <tbody>\n",
       "    <tr>\n",
       "      <th>2010-06-29</th>\n",
       "      <td>1.786</td>\n",
       "      <td>0.160</td>\n",
       "      <td>2.967</td>\n",
       "      <td>3.946</td>\n",
       "    </tr>\n",
       "    <tr>\n",
       "      <th>2010-06-30</th>\n",
       "      <td>1.795</td>\n",
       "      <td>0.170</td>\n",
       "      <td>2.951</td>\n",
       "      <td>3.909</td>\n",
       "    </tr>\n",
       "    <tr>\n",
       "      <th>2010-07-01</th>\n",
       "      <td>1.795</td>\n",
       "      <td>0.165</td>\n",
       "      <td>2.927</td>\n",
       "      <td>3.868</td>\n",
       "    </tr>\n",
       "    <tr>\n",
       "      <th>2010-07-02</th>\n",
       "      <td>1.812</td>\n",
       "      <td>0.160</td>\n",
       "      <td>2.979</td>\n",
       "      <td>3.941</td>\n",
       "    </tr>\n",
       "    <tr>\n",
       "      <th>2010-07-06</th>\n",
       "      <td>1.760</td>\n",
       "      <td>0.160</td>\n",
       "      <td>2.932</td>\n",
       "      <td>3.892</td>\n",
       "    </tr>\n",
       "  </tbody>\n",
       "</table>\n",
       "</div>"
      ],
      "text/plain": [
       "               5Y    13W    10Y    30Y\n",
       "Date                                  \n",
       "2010-06-29  1.786  0.160  2.967  3.946\n",
       "2010-06-30  1.795  0.170  2.951  3.909\n",
       "2010-07-01  1.795  0.165  2.927  3.868\n",
       "2010-07-02  1.812  0.160  2.979  3.941\n",
       "2010-07-06  1.760  0.160  2.932  3.892"
      ]
     },
     "execution_count": 37,
     "metadata": {},
     "output_type": "execute_result"
    }
   ],
   "source": [
    "df_tb.index = pd.to_datetime(df_tb.index, utc=True).strftime(\"%Y-%m-%d\")\n",
    "df_tb.head()"
   ]
  },
  {
   "cell_type": "code",
   "execution_count": 39,
   "metadata": {},
   "outputs": [
    {
     "data": {
      "text/html": [
       "<div>\n",
       "<style scoped>\n",
       "    .dataframe tbody tr th:only-of-type {\n",
       "        vertical-align: middle;\n",
       "    }\n",
       "\n",
       "    .dataframe tbody tr th {\n",
       "        vertical-align: top;\n",
       "    }\n",
       "\n",
       "    .dataframe thead th {\n",
       "        text-align: right;\n",
       "    }\n",
       "</style>\n",
       "<table border=\"1\" class=\"dataframe\">\n",
       "  <thead>\n",
       "    <tr style=\"text-align: right;\">\n",
       "      <th></th>\n",
       "      <th>5Y</th>\n",
       "      <th>13W</th>\n",
       "      <th>10Y</th>\n",
       "      <th>30Y</th>\n",
       "      <th>Close</th>\n",
       "    </tr>\n",
       "    <tr>\n",
       "      <th>Date</th>\n",
       "      <th></th>\n",
       "      <th></th>\n",
       "      <th></th>\n",
       "      <th></th>\n",
       "      <th></th>\n",
       "    </tr>\n",
       "  </thead>\n",
       "  <tbody>\n",
       "    <tr>\n",
       "      <th>2010-06-29</th>\n",
       "      <td>1.786</td>\n",
       "      <td>0.160</td>\n",
       "      <td>2.967</td>\n",
       "      <td>3.946</td>\n",
       "      <td>1.592667</td>\n",
       "    </tr>\n",
       "    <tr>\n",
       "      <th>2010-06-30</th>\n",
       "      <td>1.795</td>\n",
       "      <td>0.170</td>\n",
       "      <td>2.951</td>\n",
       "      <td>3.909</td>\n",
       "      <td>1.588667</td>\n",
       "    </tr>\n",
       "    <tr>\n",
       "      <th>2010-07-01</th>\n",
       "      <td>1.795</td>\n",
       "      <td>0.165</td>\n",
       "      <td>2.927</td>\n",
       "      <td>3.868</td>\n",
       "      <td>1.464000</td>\n",
       "    </tr>\n",
       "    <tr>\n",
       "      <th>2010-07-02</th>\n",
       "      <td>1.812</td>\n",
       "      <td>0.160</td>\n",
       "      <td>2.979</td>\n",
       "      <td>3.941</td>\n",
       "      <td>1.280000</td>\n",
       "    </tr>\n",
       "    <tr>\n",
       "      <th>2010-07-06</th>\n",
       "      <td>1.760</td>\n",
       "      <td>0.160</td>\n",
       "      <td>2.932</td>\n",
       "      <td>3.892</td>\n",
       "      <td>1.074000</td>\n",
       "    </tr>\n",
       "  </tbody>\n",
       "</table>\n",
       "</div>"
      ],
      "text/plain": [
       "               5Y    13W    10Y    30Y     Close\n",
       "Date                                            \n",
       "2010-06-29  1.786  0.160  2.967  3.946  1.592667\n",
       "2010-06-30  1.795  0.170  2.951  3.909  1.588667\n",
       "2010-07-01  1.795  0.165  2.927  3.868  1.464000\n",
       "2010-07-02  1.812  0.160  2.979  3.941  1.280000\n",
       "2010-07-06  1.760  0.160  2.932  3.892  1.074000"
      ]
     },
     "execution_count": 39,
     "metadata": {},
     "output_type": "execute_result"
    }
   ],
   "source": [
    "df = pd.merge(df_tb, df_tesla, how=\"inner\", left_index=True, right_index=True)\n",
    "df.head()"
   ]
  },
  {
   "cell_type": "code",
   "execution_count": 40,
   "metadata": {},
   "outputs": [
    {
     "data": {
      "text/html": [
       "<div>\n",
       "<style scoped>\n",
       "    .dataframe tbody tr th:only-of-type {\n",
       "        vertical-align: middle;\n",
       "    }\n",
       "\n",
       "    .dataframe tbody tr th {\n",
       "        vertical-align: top;\n",
       "    }\n",
       "\n",
       "    .dataframe thead th {\n",
       "        text-align: right;\n",
       "    }\n",
       "</style>\n",
       "<table border=\"1\" class=\"dataframe\">\n",
       "  <thead>\n",
       "    <tr style=\"text-align: right;\">\n",
       "      <th></th>\n",
       "      <th>5Y</th>\n",
       "      <th>13W</th>\n",
       "      <th>10Y</th>\n",
       "      <th>30Y</th>\n",
       "      <th>Close</th>\n",
       "    </tr>\n",
       "  </thead>\n",
       "  <tbody>\n",
       "    <tr>\n",
       "      <th>5Y</th>\n",
       "      <td>1.000000</td>\n",
       "      <td>0.845130</td>\n",
       "      <td>0.873304</td>\n",
       "      <td>0.558143</td>\n",
       "      <td>0.252323</td>\n",
       "    </tr>\n",
       "    <tr>\n",
       "      <th>13W</th>\n",
       "      <td>0.845130</td>\n",
       "      <td>1.000000</td>\n",
       "      <td>0.601574</td>\n",
       "      <td>0.270127</td>\n",
       "      <td>0.315532</td>\n",
       "    </tr>\n",
       "    <tr>\n",
       "      <th>10Y</th>\n",
       "      <td>0.873304</td>\n",
       "      <td>0.601574</td>\n",
       "      <td>1.000000</td>\n",
       "      <td>0.886563</td>\n",
       "      <td>0.006551</td>\n",
       "    </tr>\n",
       "    <tr>\n",
       "      <th>30Y</th>\n",
       "      <td>0.558143</td>\n",
       "      <td>0.270127</td>\n",
       "      <td>0.886563</td>\n",
       "      <td>1.000000</td>\n",
       "      <td>-0.246455</td>\n",
       "    </tr>\n",
       "    <tr>\n",
       "      <th>Close</th>\n",
       "      <td>0.252323</td>\n",
       "      <td>0.315532</td>\n",
       "      <td>0.006551</td>\n",
       "      <td>-0.246455</td>\n",
       "      <td>1.000000</td>\n",
       "    </tr>\n",
       "  </tbody>\n",
       "</table>\n",
       "</div>"
      ],
      "text/plain": [
       "             5Y       13W       10Y       30Y     Close\n",
       "5Y     1.000000  0.845130  0.873304  0.558143  0.252323\n",
       "13W    0.845130  1.000000  0.601574  0.270127  0.315532\n",
       "10Y    0.873304  0.601574  1.000000  0.886563  0.006551\n",
       "30Y    0.558143  0.270127  0.886563  1.000000 -0.246455\n",
       "Close  0.252323  0.315532  0.006551 -0.246455  1.000000"
      ]
     },
     "execution_count": 40,
     "metadata": {},
     "output_type": "execute_result"
    }
   ],
   "source": [
    "df.corr()"
   ]
  },
  {
   "cell_type": "code",
   "execution_count": 42,
   "metadata": {},
   "outputs": [
    {
     "data": {
      "text/plain": [
       "PearsonRResult(statistic=0.3155320545252404, pvalue=1.6533872189434185e-77)"
      ]
     },
     "execution_count": 42,
     "metadata": {},
     "output_type": "execute_result"
    }
   ],
   "source": [
    "# Pearson correlation evaluation\n",
    "import scipy.stats as stats\n",
    "\n",
    "corr = stats.pearsonr(df[\"13W\"], df[\"Close\"])\n",
    "corr"
   ]
  },
  {
   "cell_type": "markdown",
   "metadata": {},
   "source": [
    "### 13W treasury rate is not related to the 13W treasury bond rate.\n",
    "\n",
    "- Null Hypothesis (p-value : 1.6533...)"
   ]
  },
  {
   "cell_type": "markdown",
   "metadata": {},
   "source": [
    "# Federal funds rate"
   ]
  },
  {
   "cell_type": "markdown",
   "metadata": {},
   "source": [
    "- Source : https://fred.stlouisfed.org/series/FEDFUNDS\n",
    "- frequency : monthly\n",
    "- path : './datasets/FEDFUNDS.csv'"
   ]
  },
  {
   "cell_type": "code",
   "execution_count": 43,
   "metadata": {},
   "outputs": [
    {
     "data": {
      "text/html": [
       "<div>\n",
       "<style scoped>\n",
       "    .dataframe tbody tr th:only-of-type {\n",
       "        vertical-align: middle;\n",
       "    }\n",
       "\n",
       "    .dataframe tbody tr th {\n",
       "        vertical-align: top;\n",
       "    }\n",
       "\n",
       "    .dataframe thead th {\n",
       "        text-align: right;\n",
       "    }\n",
       "</style>\n",
       "<table border=\"1\" class=\"dataframe\">\n",
       "  <thead>\n",
       "    <tr style=\"text-align: right;\">\n",
       "      <th></th>\n",
       "      <th>DATE</th>\n",
       "      <th>FEDFUNDS</th>\n",
       "    </tr>\n",
       "  </thead>\n",
       "  <tbody>\n",
       "    <tr>\n",
       "      <th>0</th>\n",
       "      <td>1954-07-01</td>\n",
       "      <td>0.80</td>\n",
       "    </tr>\n",
       "    <tr>\n",
       "      <th>1</th>\n",
       "      <td>1954-08-01</td>\n",
       "      <td>1.22</td>\n",
       "    </tr>\n",
       "    <tr>\n",
       "      <th>2</th>\n",
       "      <td>1954-09-01</td>\n",
       "      <td>1.07</td>\n",
       "    </tr>\n",
       "    <tr>\n",
       "      <th>3</th>\n",
       "      <td>1954-10-01</td>\n",
       "      <td>0.85</td>\n",
       "    </tr>\n",
       "    <tr>\n",
       "      <th>4</th>\n",
       "      <td>1954-11-01</td>\n",
       "      <td>0.83</td>\n",
       "    </tr>\n",
       "  </tbody>\n",
       "</table>\n",
       "</div>"
      ],
      "text/plain": [
       "         DATE  FEDFUNDS\n",
       "0  1954-07-01      0.80\n",
       "1  1954-08-01      1.22\n",
       "2  1954-09-01      1.07\n",
       "3  1954-10-01      0.85\n",
       "4  1954-11-01      0.83"
      ]
     },
     "execution_count": 43,
     "metadata": {},
     "output_type": "execute_result"
    }
   ],
   "source": [
    "df_fe = pd.read_csv('./datasets/FEDFUNDS.csv')\n",
    "df_fe.head()"
   ]
  },
  {
   "cell_type": "code",
   "execution_count": 45,
   "metadata": {},
   "outputs": [
    {
     "data": {
      "text/html": [
       "<div>\n",
       "<style scoped>\n",
       "    .dataframe tbody tr th:only-of-type {\n",
       "        vertical-align: middle;\n",
       "    }\n",
       "\n",
       "    .dataframe tbody tr th {\n",
       "        vertical-align: top;\n",
       "    }\n",
       "\n",
       "    .dataframe thead th {\n",
       "        text-align: right;\n",
       "    }\n",
       "</style>\n",
       "<table border=\"1\" class=\"dataframe\">\n",
       "  <thead>\n",
       "    <tr style=\"text-align: right;\">\n",
       "      <th></th>\n",
       "      <th>DATE</th>\n",
       "      <th>FEDFUNDS</th>\n",
       "    </tr>\n",
       "  </thead>\n",
       "  <tbody>\n",
       "    <tr>\n",
       "      <th>671</th>\n",
       "      <td>2010-06-01</td>\n",
       "      <td>0.18</td>\n",
       "    </tr>\n",
       "    <tr>\n",
       "      <th>672</th>\n",
       "      <td>2010-07-01</td>\n",
       "      <td>0.18</td>\n",
       "    </tr>\n",
       "    <tr>\n",
       "      <th>673</th>\n",
       "      <td>2010-08-01</td>\n",
       "      <td>0.19</td>\n",
       "    </tr>\n",
       "    <tr>\n",
       "      <th>674</th>\n",
       "      <td>2010-09-01</td>\n",
       "      <td>0.19</td>\n",
       "    </tr>\n",
       "    <tr>\n",
       "      <th>675</th>\n",
       "      <td>2010-10-01</td>\n",
       "      <td>0.19</td>\n",
       "    </tr>\n",
       "  </tbody>\n",
       "</table>\n",
       "</div>"
      ],
      "text/plain": [
       "           DATE  FEDFUNDS\n",
       "671  2010-06-01      0.18\n",
       "672  2010-07-01      0.18\n",
       "673  2010-08-01      0.19\n",
       "674  2010-09-01      0.19\n",
       "675  2010-10-01      0.19"
      ]
     },
     "execution_count": 45,
     "metadata": {},
     "output_type": "execute_result"
    }
   ],
   "source": [
    "# adjust date to Tesla's DataFrame\n",
    "\n",
    "df_fe = df_fe[df_fe[\"DATE\"] >= \"2010-06-01\"]\n",
    "df_fe.head()"
   ]
  },
  {
   "cell_type": "code",
   "execution_count": 83,
   "metadata": {},
   "outputs": [],
   "source": [
    "df.head()\n",
    "df_tesla_new = df.iloc[:, -1:]"
   ]
  },
  {
   "cell_type": "code",
   "execution_count": 87,
   "metadata": {},
   "outputs": [
    {
     "data": {
      "text/plain": [
       "datetime64[ns, UTC]"
      ]
     },
     "execution_count": 87,
     "metadata": {},
     "output_type": "execute_result"
    }
   ],
   "source": [
    "df_tesla_new.index = pd.to_datetime(df_tesla_new.index)\n",
    "df_tesla_new.index.dtype"
   ]
  },
  {
   "cell_type": "code",
   "execution_count": 93,
   "metadata": {},
   "outputs": [
    {
     "data": {
      "text/html": [
       "<div>\n",
       "<style scoped>\n",
       "    .dataframe tbody tr th:only-of-type {\n",
       "        vertical-align: middle;\n",
       "    }\n",
       "\n",
       "    .dataframe tbody tr th {\n",
       "        vertical-align: top;\n",
       "    }\n",
       "\n",
       "    .dataframe thead th {\n",
       "        text-align: right;\n",
       "    }\n",
       "</style>\n",
       "<table border=\"1\" class=\"dataframe\">\n",
       "  <thead>\n",
       "    <tr style=\"text-align: right;\">\n",
       "      <th></th>\n",
       "      <th>Close</th>\n",
       "    </tr>\n",
       "    <tr>\n",
       "      <th>Date</th>\n",
       "      <th></th>\n",
       "    </tr>\n",
       "  </thead>\n",
       "  <tbody>\n",
       "    <tr>\n",
       "      <th>2010-07-01 00:00:00+00:00</th>\n",
       "      <td>1.464000</td>\n",
       "    </tr>\n",
       "    <tr>\n",
       "      <th>2010-07-02 00:00:00+00:00</th>\n",
       "      <td>1.280000</td>\n",
       "    </tr>\n",
       "    <tr>\n",
       "      <th>2010-07-06 00:00:00+00:00</th>\n",
       "      <td>1.074000</td>\n",
       "    </tr>\n",
       "    <tr>\n",
       "      <th>2010-07-07 00:00:00+00:00</th>\n",
       "      <td>1.053333</td>\n",
       "    </tr>\n",
       "    <tr>\n",
       "      <th>2010-07-08 00:00:00+00:00</th>\n",
       "      <td>1.164000</td>\n",
       "    </tr>\n",
       "    <tr>\n",
       "      <th>...</th>\n",
       "      <td>...</td>\n",
       "    </tr>\n",
       "    <tr>\n",
       "      <th>2023-08-25 00:00:00+00:00</th>\n",
       "      <td>238.589996</td>\n",
       "    </tr>\n",
       "    <tr>\n",
       "      <th>2023-08-28 00:00:00+00:00</th>\n",
       "      <td>238.820007</td>\n",
       "    </tr>\n",
       "    <tr>\n",
       "      <th>2023-08-29 00:00:00+00:00</th>\n",
       "      <td>257.179993</td>\n",
       "    </tr>\n",
       "    <tr>\n",
       "      <th>2023-08-30 00:00:00+00:00</th>\n",
       "      <td>256.899994</td>\n",
       "    </tr>\n",
       "    <tr>\n",
       "      <th>2023-08-31 00:00:00+00:00</th>\n",
       "      <td>258.079987</td>\n",
       "    </tr>\n",
       "  </tbody>\n",
       "</table>\n",
       "<p>3312 rows × 1 columns</p>\n",
       "</div>"
      ],
      "text/plain": [
       "                                Close\n",
       "Date                                 \n",
       "2010-07-01 00:00:00+00:00    1.464000\n",
       "2010-07-02 00:00:00+00:00    1.280000\n",
       "2010-07-06 00:00:00+00:00    1.074000\n",
       "2010-07-07 00:00:00+00:00    1.053333\n",
       "2010-07-08 00:00:00+00:00    1.164000\n",
       "...                               ...\n",
       "2023-08-25 00:00:00+00:00  238.589996\n",
       "2023-08-28 00:00:00+00:00  238.820007\n",
       "2023-08-29 00:00:00+00:00  257.179993\n",
       "2023-08-30 00:00:00+00:00  256.899994\n",
       "2023-08-31 00:00:00+00:00  258.079987\n",
       "\n",
       "[3312 rows x 1 columns]"
      ]
     },
     "execution_count": 93,
     "metadata": {},
     "output_type": "execute_result"
    }
   ],
   "source": [
    "df_tesla_new = df_tesla_new[df_tesla_new.index >= \"2010-07-01\"]\n",
    "df_tesla_new"
   ]
  },
  {
   "cell_type": "code",
   "execution_count": 95,
   "metadata": {},
   "outputs": [
    {
     "data": {
      "text/html": [
       "<div>\n",
       "<style scoped>\n",
       "    .dataframe tbody tr th:only-of-type {\n",
       "        vertical-align: middle;\n",
       "    }\n",
       "\n",
       "    .dataframe tbody tr th {\n",
       "        vertical-align: top;\n",
       "    }\n",
       "\n",
       "    .dataframe thead th {\n",
       "        text-align: right;\n",
       "    }\n",
       "</style>\n",
       "<table border=\"1\" class=\"dataframe\">\n",
       "  <thead>\n",
       "    <tr style=\"text-align: right;\">\n",
       "      <th></th>\n",
       "      <th>Close</th>\n",
       "    </tr>\n",
       "    <tr>\n",
       "      <th>Date</th>\n",
       "      <th></th>\n",
       "    </tr>\n",
       "  </thead>\n",
       "  <tbody>\n",
       "    <tr>\n",
       "      <th>2010-07-31 00:00:00+00:00</th>\n",
       "      <td>1.329333</td>\n",
       "    </tr>\n",
       "    <tr>\n",
       "      <th>2010-08-31 00:00:00+00:00</th>\n",
       "      <td>1.298667</td>\n",
       "    </tr>\n",
       "    <tr>\n",
       "      <th>2010-09-30 00:00:00+00:00</th>\n",
       "      <td>1.360667</td>\n",
       "    </tr>\n",
       "    <tr>\n",
       "      <th>2010-10-31 00:00:00+00:00</th>\n",
       "      <td>1.456000</td>\n",
       "    </tr>\n",
       "    <tr>\n",
       "      <th>2010-11-30 00:00:00+00:00</th>\n",
       "      <td>2.355333</td>\n",
       "    </tr>\n",
       "  </tbody>\n",
       "</table>\n",
       "</div>"
      ],
      "text/plain": [
       "                              Close\n",
       "Date                               \n",
       "2010-07-31 00:00:00+00:00  1.329333\n",
       "2010-08-31 00:00:00+00:00  1.298667\n",
       "2010-09-30 00:00:00+00:00  1.360667\n",
       "2010-10-31 00:00:00+00:00  1.456000\n",
       "2010-11-30 00:00:00+00:00  2.355333"
      ]
     },
     "execution_count": 95,
     "metadata": {},
     "output_type": "execute_result"
    }
   ],
   "source": [
    "# change Tesla's frequency into monthly data\n",
    "\n",
    "df_tesla_monthly = df_tesla_new.resample(\"M\").last()\n",
    "df_tesla_monthly.head()"
   ]
  },
  {
   "cell_type": "code",
   "execution_count": 98,
   "metadata": {},
   "outputs": [
    {
     "data": {
      "text/html": [
       "<div>\n",
       "<style scoped>\n",
       "    .dataframe tbody tr th:only-of-type {\n",
       "        vertical-align: middle;\n",
       "    }\n",
       "\n",
       "    .dataframe tbody tr th {\n",
       "        vertical-align: top;\n",
       "    }\n",
       "\n",
       "    .dataframe thead th {\n",
       "        text-align: right;\n",
       "    }\n",
       "</style>\n",
       "<table border=\"1\" class=\"dataframe\">\n",
       "  <thead>\n",
       "    <tr style=\"text-align: right;\">\n",
       "      <th></th>\n",
       "      <th>FEDFUNDS</th>\n",
       "    </tr>\n",
       "    <tr>\n",
       "      <th>DATE</th>\n",
       "      <th></th>\n",
       "    </tr>\n",
       "  </thead>\n",
       "  <tbody>\n",
       "    <tr>\n",
       "      <th>2010-06-01 00:00:00+00:00</th>\n",
       "      <td>0.18</td>\n",
       "    </tr>\n",
       "    <tr>\n",
       "      <th>2010-07-01 00:00:00+00:00</th>\n",
       "      <td>0.18</td>\n",
       "    </tr>\n",
       "    <tr>\n",
       "      <th>2010-08-01 00:00:00+00:00</th>\n",
       "      <td>0.19</td>\n",
       "    </tr>\n",
       "    <tr>\n",
       "      <th>2010-09-01 00:00:00+00:00</th>\n",
       "      <td>0.19</td>\n",
       "    </tr>\n",
       "    <tr>\n",
       "      <th>2010-10-01 00:00:00+00:00</th>\n",
       "      <td>0.19</td>\n",
       "    </tr>\n",
       "  </tbody>\n",
       "</table>\n",
       "</div>"
      ],
      "text/plain": [
       "                           FEDFUNDS\n",
       "DATE                               \n",
       "2010-06-01 00:00:00+00:00      0.18\n",
       "2010-07-01 00:00:00+00:00      0.18\n",
       "2010-08-01 00:00:00+00:00      0.19\n",
       "2010-09-01 00:00:00+00:00      0.19\n",
       "2010-10-01 00:00:00+00:00      0.19"
      ]
     },
     "execution_count": 98,
     "metadata": {},
     "output_type": "execute_result"
    }
   ],
   "source": [
    "df_fe.set_index(\"DATE\", inplace=True)\n",
    "df_fe.index = pd.to_datetime(df_fe.index, utc=True)\n",
    "df_fe.head()"
   ]
  },
  {
   "cell_type": "code",
   "execution_count": 99,
   "metadata": {},
   "outputs": [
    {
     "data": {
      "text/html": [
       "<div>\n",
       "<style scoped>\n",
       "    .dataframe tbody tr th:only-of-type {\n",
       "        vertical-align: middle;\n",
       "    }\n",
       "\n",
       "    .dataframe tbody tr th {\n",
       "        vertical-align: top;\n",
       "    }\n",
       "\n",
       "    .dataframe thead th {\n",
       "        text-align: right;\n",
       "    }\n",
       "</style>\n",
       "<table border=\"1\" class=\"dataframe\">\n",
       "  <thead>\n",
       "    <tr style=\"text-align: right;\">\n",
       "      <th></th>\n",
       "      <th>FEDFUNDS</th>\n",
       "      <th>Close</th>\n",
       "    </tr>\n",
       "  </thead>\n",
       "  <tbody>\n",
       "    <tr>\n",
       "      <th>2010-07-01 00:00:00+00:00</th>\n",
       "      <td>0.18</td>\n",
       "      <td>1.464000</td>\n",
       "    </tr>\n",
       "    <tr>\n",
       "      <th>2010-09-01 00:00:00+00:00</th>\n",
       "      <td>0.19</td>\n",
       "      <td>1.363333</td>\n",
       "    </tr>\n",
       "    <tr>\n",
       "      <th>2010-10-01 00:00:00+00:00</th>\n",
       "      <td>0.19</td>\n",
       "      <td>1.373333</td>\n",
       "    </tr>\n",
       "    <tr>\n",
       "      <th>2010-11-01 00:00:00+00:00</th>\n",
       "      <td>0.19</td>\n",
       "      <td>1.427333</td>\n",
       "    </tr>\n",
       "    <tr>\n",
       "      <th>2010-12-01 00:00:00+00:00</th>\n",
       "      <td>0.18</td>\n",
       "      <td>2.290000</td>\n",
       "    </tr>\n",
       "    <tr>\n",
       "      <th>...</th>\n",
       "      <td>...</td>\n",
       "      <td>...</td>\n",
       "    </tr>\n",
       "    <tr>\n",
       "      <th>2022-12-01 00:00:00+00:00</th>\n",
       "      <td>4.10</td>\n",
       "      <td>194.699997</td>\n",
       "    </tr>\n",
       "    <tr>\n",
       "      <th>2023-02-01 00:00:00+00:00</th>\n",
       "      <td>4.57</td>\n",
       "      <td>181.410004</td>\n",
       "    </tr>\n",
       "    <tr>\n",
       "      <th>2023-03-01 00:00:00+00:00</th>\n",
       "      <td>4.65</td>\n",
       "      <td>202.770004</td>\n",
       "    </tr>\n",
       "    <tr>\n",
       "      <th>2023-05-01 00:00:00+00:00</th>\n",
       "      <td>5.06</td>\n",
       "      <td>161.830002</td>\n",
       "    </tr>\n",
       "    <tr>\n",
       "      <th>2023-06-01 00:00:00+00:00</th>\n",
       "      <td>5.08</td>\n",
       "      <td>207.520004</td>\n",
       "    </tr>\n",
       "  </tbody>\n",
       "</table>\n",
       "<p>103 rows × 2 columns</p>\n",
       "</div>"
      ],
      "text/plain": [
       "                           FEDFUNDS       Close\n",
       "2010-07-01 00:00:00+00:00      0.18    1.464000\n",
       "2010-09-01 00:00:00+00:00      0.19    1.363333\n",
       "2010-10-01 00:00:00+00:00      0.19    1.373333\n",
       "2010-11-01 00:00:00+00:00      0.19    1.427333\n",
       "2010-12-01 00:00:00+00:00      0.18    2.290000\n",
       "...                             ...         ...\n",
       "2022-12-01 00:00:00+00:00      4.10  194.699997\n",
       "2023-02-01 00:00:00+00:00      4.57  181.410004\n",
       "2023-03-01 00:00:00+00:00      4.65  202.770004\n",
       "2023-05-01 00:00:00+00:00      5.06  161.830002\n",
       "2023-06-01 00:00:00+00:00      5.08  207.520004\n",
       "\n",
       "[103 rows x 2 columns]"
      ]
     },
     "execution_count": 99,
     "metadata": {},
     "output_type": "execute_result"
    }
   ],
   "source": [
    "df_fe_merge = pd.merge(df_fe, df_tesla_new, how=\"inner\", left_index=True, right_index=True)\n",
    "df_fe_merge"
   ]
  },
  {
   "cell_type": "code",
   "execution_count": 100,
   "metadata": {},
   "outputs": [
    {
     "data": {
      "text/html": [
       "<div>\n",
       "<style scoped>\n",
       "    .dataframe tbody tr th:only-of-type {\n",
       "        vertical-align: middle;\n",
       "    }\n",
       "\n",
       "    .dataframe tbody tr th {\n",
       "        vertical-align: top;\n",
       "    }\n",
       "\n",
       "    .dataframe thead th {\n",
       "        text-align: right;\n",
       "    }\n",
       "</style>\n",
       "<table border=\"1\" class=\"dataframe\">\n",
       "  <thead>\n",
       "    <tr style=\"text-align: right;\">\n",
       "      <th></th>\n",
       "      <th>FEDFUNDS</th>\n",
       "      <th>Close</th>\n",
       "    </tr>\n",
       "  </thead>\n",
       "  <tbody>\n",
       "    <tr>\n",
       "      <th>FEDFUNDS</th>\n",
       "      <td>1.000000</td>\n",
       "      <td>0.216192</td>\n",
       "    </tr>\n",
       "    <tr>\n",
       "      <th>Close</th>\n",
       "      <td>0.216192</td>\n",
       "      <td>1.000000</td>\n",
       "    </tr>\n",
       "  </tbody>\n",
       "</table>\n",
       "</div>"
      ],
      "text/plain": [
       "          FEDFUNDS     Close\n",
       "FEDFUNDS  1.000000  0.216192\n",
       "Close     0.216192  1.000000"
      ]
     },
     "execution_count": 100,
     "metadata": {},
     "output_type": "execute_result"
    }
   ],
   "source": [
    "df_fe_merge.corr()"
   ]
  },
  {
   "cell_type": "code",
   "execution_count": 108,
   "metadata": {},
   "outputs": [
    {
     "data": {
      "image/png": "[encoded data removed]",
      "text/plain": [
       "<Figure size 640x480 with 2 Axes>"
      ]
     },
     "metadata": {},
     "output_type": "display_data"
    }
   ],
   "source": [
    "fig, ax1 = plt.subplots()\n",
    "\n",
    "color = 'tab:red'\n",
    "ax1.set_xlabel('tesla')\n",
    "ax1.set_ylabel('$', color=color)\n",
    "ax1.plot(df_fe_merge.index, df_fe_merge[\"Close\"], color=color)\n",
    "\n",
    "ax2 = ax1.twinx()\n",
    "\n",
    "color = 'tab:blue'\n",
    "ax2.set_ylabel('FED rates')\n",
    "ax2.plot(df_fe_merge.index, df_fe_merge[\"FEDFUNDS\"], color=color)\n",
    "\n",
    "fig.tight_layout()\n",
    "sns.despine()"
   ]
  },
  {
   "cell_type": "code",
   "execution_count": 102,
   "metadata": {},
   "outputs": [
    {
     "data": {
      "text/plain": [
       "PearsonRResult(statistic=0.21619213350561575, pvalue=0.028282792309278895)"
      ]
     },
     "execution_count": 102,
     "metadata": {},
     "output_type": "execute_result"
    }
   ],
   "source": [
    "corr = stats.pearsonr(df_fe_merge[\"FEDFUNDS\"], df_fe_merge[\"Close\"])\n",
    "corr"
   ]
  },
  {
   "cell_type": "code",
   "execution_count": 111,
   "metadata": {},
   "outputs": [
    {
     "data": {
      "text/html": [
       "<div>\n",
       "<style scoped>\n",
       "    .dataframe tbody tr th:only-of-type {\n",
       "        vertical-align: middle;\n",
       "    }\n",
       "\n",
       "    .dataframe tbody tr th {\n",
       "        vertical-align: top;\n",
       "    }\n",
       "\n",
       "    .dataframe thead th {\n",
       "        text-align: right;\n",
       "    }\n",
       "</style>\n",
       "<table border=\"1\" class=\"dataframe\">\n",
       "  <thead>\n",
       "    <tr style=\"text-align: right;\">\n",
       "      <th></th>\n",
       "      <th>FEDFUNDS</th>\n",
       "      <th>Close</th>\n",
       "    </tr>\n",
       "  </thead>\n",
       "  <tbody>\n",
       "    <tr>\n",
       "      <th>2016-02-01 00:00:00+00:00</th>\n",
       "      <td>0.38</td>\n",
       "      <td>13.129333</td>\n",
       "    </tr>\n",
       "    <tr>\n",
       "      <th>2016-03-01 00:00:00+00:00</th>\n",
       "      <td>0.36</td>\n",
       "      <td>12.423333</td>\n",
       "    </tr>\n",
       "    <tr>\n",
       "      <th>2016-04-01 00:00:00+00:00</th>\n",
       "      <td>0.37</td>\n",
       "      <td>15.839333</td>\n",
       "    </tr>\n",
       "    <tr>\n",
       "      <th>2016-06-01 00:00:00+00:00</th>\n",
       "      <td>0.38</td>\n",
       "      <td>14.637333</td>\n",
       "    </tr>\n",
       "    <tr>\n",
       "      <th>2016-07-01 00:00:00+00:00</th>\n",
       "      <td>0.39</td>\n",
       "      <td>14.433333</td>\n",
       "    </tr>\n",
       "  </tbody>\n",
       "</table>\n",
       "</div>"
      ],
      "text/plain": [
       "                           FEDFUNDS      Close\n",
       "2016-02-01 00:00:00+00:00      0.38  13.129333\n",
       "2016-03-01 00:00:00+00:00      0.36  12.423333\n",
       "2016-04-01 00:00:00+00:00      0.37  15.839333\n",
       "2016-06-01 00:00:00+00:00      0.38  14.637333\n",
       "2016-07-01 00:00:00+00:00      0.39  14.433333"
      ]
     },
     "execution_count": 111,
     "metadata": {},
     "output_type": "execute_result"
    }
   ],
   "source": [
    "df_fe_merge_2016 = df_fe_merge[df_fe_merge.index >= \"2016\"]\n",
    "df_fe_merge_2016.head()"
   ]
  },
  {
   "cell_type": "code",
   "execution_count": 113,
   "metadata": {},
   "outputs": [
    {
     "data": {
      "text/html": [
       "<div>\n",
       "<style scoped>\n",
       "    .dataframe tbody tr th:only-of-type {\n",
       "        vertical-align: middle;\n",
       "    }\n",
       "\n",
       "    .dataframe tbody tr th {\n",
       "        vertical-align: top;\n",
       "    }\n",
       "\n",
       "    .dataframe thead th {\n",
       "        text-align: right;\n",
       "    }\n",
       "</style>\n",
       "<table border=\"1\" class=\"dataframe\">\n",
       "  <thead>\n",
       "    <tr style=\"text-align: right;\">\n",
       "      <th></th>\n",
       "      <th>FEDFUNDS</th>\n",
       "      <th>Close</th>\n",
       "    </tr>\n",
       "  </thead>\n",
       "  <tbody>\n",
       "    <tr>\n",
       "      <th>FEDFUNDS</th>\n",
       "      <td>1.000000</td>\n",
       "      <td>-0.032595</td>\n",
       "    </tr>\n",
       "    <tr>\n",
       "      <th>Close</th>\n",
       "      <td>-0.032595</td>\n",
       "      <td>1.000000</td>\n",
       "    </tr>\n",
       "  </tbody>\n",
       "</table>\n",
       "</div>"
      ],
      "text/plain": [
       "          FEDFUNDS     Close\n",
       "FEDFUNDS  1.000000 -0.032595\n",
       "Close    -0.032595  1.000000"
      ]
     },
     "execution_count": 113,
     "metadata": {},
     "output_type": "execute_result"
    }
   ],
   "source": [
    "df_fe_merge_2016.corr()"
   ]
  },
  {
   "cell_type": "code",
   "execution_count": 119,
   "metadata": {},
   "outputs": [
    {
     "data": {
      "text/html": [
       "<div>\n",
       "<style scoped>\n",
       "    .dataframe tbody tr th:only-of-type {\n",
       "        vertical-align: middle;\n",
       "    }\n",
       "\n",
       "    .dataframe tbody tr th {\n",
       "        vertical-align: top;\n",
       "    }\n",
       "\n",
       "    .dataframe thead th {\n",
       "        text-align: right;\n",
       "    }\n",
       "</style>\n",
       "<table border=\"1\" class=\"dataframe\">\n",
       "  <thead>\n",
       "    <tr style=\"text-align: right;\">\n",
       "      <th></th>\n",
       "      <th>FEDFUNDS</th>\n",
       "      <th>Close</th>\n",
       "      <th>rolling_corr</th>\n",
       "    </tr>\n",
       "  </thead>\n",
       "  <tbody>\n",
       "    <tr>\n",
       "      <th>2010-07-01 00:00:00+00:00</th>\n",
       "      <td>0.18</td>\n",
       "      <td>1.464000</td>\n",
       "      <td>NaN</td>\n",
       "    </tr>\n",
       "    <tr>\n",
       "      <th>2010-09-01 00:00:00+00:00</th>\n",
       "      <td>0.19</td>\n",
       "      <td>1.363333</td>\n",
       "      <td>NaN</td>\n",
       "    </tr>\n",
       "    <tr>\n",
       "      <th>2010-10-01 00:00:00+00:00</th>\n",
       "      <td>0.19</td>\n",
       "      <td>1.373333</td>\n",
       "      <td>NaN</td>\n",
       "    </tr>\n",
       "    <tr>\n",
       "      <th>2010-11-01 00:00:00+00:00</th>\n",
       "      <td>0.19</td>\n",
       "      <td>1.427333</td>\n",
       "      <td>NaN</td>\n",
       "    </tr>\n",
       "    <tr>\n",
       "      <th>2010-12-01 00:00:00+00:00</th>\n",
       "      <td>0.18</td>\n",
       "      <td>2.290000</td>\n",
       "      <td>NaN</td>\n",
       "    </tr>\n",
       "  </tbody>\n",
       "</table>\n",
       "</div>"
      ],
      "text/plain": [
       "                           FEDFUNDS     Close  rolling_corr\n",
       "2010-07-01 00:00:00+00:00      0.18  1.464000           NaN\n",
       "2010-09-01 00:00:00+00:00      0.19  1.363333           NaN\n",
       "2010-10-01 00:00:00+00:00      0.19  1.373333           NaN\n",
       "2010-11-01 00:00:00+00:00      0.19  1.427333           NaN\n",
       "2010-12-01 00:00:00+00:00      0.18  2.290000           NaN"
      ]
     },
     "execution_count": 119,
     "metadata": {},
     "output_type": "execute_result"
    }
   ],
   "source": [
    "df_fe_merge[\"rolling_corr\"] = df_fe_merge['Close'].rolling(12).corr(df_fe_merge['FEDFUNDS'])\n",
    "df_fe_merge.head()"
   ]
  },
  {
   "cell_type": "code",
   "execution_count": 121,
   "metadata": {},
   "outputs": [
    {
     "data": {
      "image/png": "[encoded data removed]",
      "text/plain": [
       "<Figure size 640x480 with 2 Axes>"
      ]
     },
     "metadata": {},
     "output_type": "display_data"
    }
   ],
   "source": [
    "fig, ax1 = plt.subplots()\n",
    "\n",
    "color = 'tab:red'\n",
    "ax1.set_xlabel('month')\n",
    "ax1.set_ylabel('rolling correlation', color=color)\n",
    "ax1.plot(df_fe_merge.index, df_fe_merge[\"rolling_corr\"], color=color)\n",
    "\n",
    "ax2 = ax1.twinx()\n",
    "\n",
    "color = 'tab:blue'\n",
    "ax2.set_ylabel('FED rates')\n",
    "ax2.plot(df_fe_merge.index, df_fe_merge[\"FEDFUNDS\"], color=color)\n",
    "\n",
    "fig.tight_layout()\n",
    "sns.despine()"
   ]
  },
  {
   "cell_type": "code",
   "execution_count": 124,
   "metadata": {},
   "outputs": [
    {
     "data": {
      "text/plain": [
       "PearsonRResult(statistic=-0.0994238392248944, pvalue=0.34571149540216467)"
      ]
     },
     "execution_count": 124,
     "metadata": {},
     "output_type": "execute_result"
    }
   ],
   "source": [
    "drop_df = df_fe_merge.dropna()\n",
    "corr = stats.pearsonr(drop_df[\"FEDFUNDS\"], drop_df[\"rolling_corr\"])\n",
    "corr"
   ]
  },
  {
   "cell_type": "markdown",
   "metadata": {},
   "source": [
    "### FED funds rate is slightly related to Tesla price\n",
    "\n",
    "- Alternative Hypothesis (p-value : 0.002828...)"
   ]
  },
  {
   "cell_type": "markdown",
   "metadata": {},
   "source": [
    "# Tesla price change percentage"
   ]
  },
  {
   "cell_type": "code",
   "execution_count": 125,
   "metadata": {},
   "outputs": [
    {
     "data": {
      "text/html": [
       "<div>\n",
       "<style scoped>\n",
       "    .dataframe tbody tr th:only-of-type {\n",
       "        vertical-align: middle;\n",
       "    }\n",
       "\n",
       "    .dataframe tbody tr th {\n",
       "        vertical-align: top;\n",
       "    }\n",
       "\n",
       "    .dataframe thead th {\n",
       "        text-align: right;\n",
       "    }\n",
       "</style>\n",
       "<table border=\"1\" class=\"dataframe\">\n",
       "  <thead>\n",
       "    <tr style=\"text-align: right;\">\n",
       "      <th></th>\n",
       "      <th>5Y</th>\n",
       "      <th>13W</th>\n",
       "      <th>10Y</th>\n",
       "      <th>30Y</th>\n",
       "      <th>Close</th>\n",
       "    </tr>\n",
       "    <tr>\n",
       "      <th>Date</th>\n",
       "      <th></th>\n",
       "      <th></th>\n",
       "      <th></th>\n",
       "      <th></th>\n",
       "      <th></th>\n",
       "    </tr>\n",
       "  </thead>\n",
       "  <tbody>\n",
       "    <tr>\n",
       "      <th>2010-06-29</th>\n",
       "      <td>1.786</td>\n",
       "      <td>0.160</td>\n",
       "      <td>2.967</td>\n",
       "      <td>3.946</td>\n",
       "      <td>1.592667</td>\n",
       "    </tr>\n",
       "    <tr>\n",
       "      <th>2010-06-30</th>\n",
       "      <td>1.795</td>\n",
       "      <td>0.170</td>\n",
       "      <td>2.951</td>\n",
       "      <td>3.909</td>\n",
       "      <td>1.588667</td>\n",
       "    </tr>\n",
       "    <tr>\n",
       "      <th>2010-07-01</th>\n",
       "      <td>1.795</td>\n",
       "      <td>0.165</td>\n",
       "      <td>2.927</td>\n",
       "      <td>3.868</td>\n",
       "      <td>1.464000</td>\n",
       "    </tr>\n",
       "    <tr>\n",
       "      <th>2010-07-02</th>\n",
       "      <td>1.812</td>\n",
       "      <td>0.160</td>\n",
       "      <td>2.979</td>\n",
       "      <td>3.941</td>\n",
       "      <td>1.280000</td>\n",
       "    </tr>\n",
       "    <tr>\n",
       "      <th>2010-07-06</th>\n",
       "      <td>1.760</td>\n",
       "      <td>0.160</td>\n",
       "      <td>2.932</td>\n",
       "      <td>3.892</td>\n",
       "      <td>1.074000</td>\n",
       "    </tr>\n",
       "  </tbody>\n",
       "</table>\n",
       "</div>"
      ],
      "text/plain": [
       "               5Y    13W    10Y    30Y     Close\n",
       "Date                                            \n",
       "2010-06-29  1.786  0.160  2.967  3.946  1.592667\n",
       "2010-06-30  1.795  0.170  2.951  3.909  1.588667\n",
       "2010-07-01  1.795  0.165  2.927  3.868  1.464000\n",
       "2010-07-02  1.812  0.160  2.979  3.941  1.280000\n",
       "2010-07-06  1.760  0.160  2.932  3.892  1.074000"
      ]
     },
     "execution_count": 125,
     "metadata": {},
     "output_type": "execute_result"
    }
   ],
   "source": [
    "df.head()"
   ]
  },
  {
   "cell_type": "code",
   "execution_count": 126,
   "metadata": {},
   "outputs": [
    {
     "data": {
      "text/html": [
       "<div>\n",
       "<style scoped>\n",
       "    .dataframe tbody tr th:only-of-type {\n",
       "        vertical-align: middle;\n",
       "    }\n",
       "\n",
       "    .dataframe tbody tr th {\n",
       "        vertical-align: top;\n",
       "    }\n",
       "\n",
       "    .dataframe thead th {\n",
       "        text-align: right;\n",
       "    }\n",
       "</style>\n",
       "<table border=\"1\" class=\"dataframe\">\n",
       "  <thead>\n",
       "    <tr style=\"text-align: right;\">\n",
       "      <th></th>\n",
       "      <th>FEDFUNDS</th>\n",
       "    </tr>\n",
       "    <tr>\n",
       "      <th>DATE</th>\n",
       "      <th></th>\n",
       "    </tr>\n",
       "  </thead>\n",
       "  <tbody>\n",
       "    <tr>\n",
       "      <th>2010-06-01 00:00:00+00:00</th>\n",
       "      <td>0.18</td>\n",
       "    </tr>\n",
       "    <tr>\n",
       "      <th>2010-07-01 00:00:00+00:00</th>\n",
       "      <td>0.18</td>\n",
       "    </tr>\n",
       "    <tr>\n",
       "      <th>2010-08-01 00:00:00+00:00</th>\n",
       "      <td>0.19</td>\n",
       "    </tr>\n",
       "    <tr>\n",
       "      <th>2010-09-01 00:00:00+00:00</th>\n",
       "      <td>0.19</td>\n",
       "    </tr>\n",
       "    <tr>\n",
       "      <th>2010-10-01 00:00:00+00:00</th>\n",
       "      <td>0.19</td>\n",
       "    </tr>\n",
       "  </tbody>\n",
       "</table>\n",
       "</div>"
      ],
      "text/plain": [
       "                           FEDFUNDS\n",
       "DATE                               \n",
       "2010-06-01 00:00:00+00:00      0.18\n",
       "2010-07-01 00:00:00+00:00      0.18\n",
       "2010-08-01 00:00:00+00:00      0.19\n",
       "2010-09-01 00:00:00+00:00      0.19\n",
       "2010-10-01 00:00:00+00:00      0.19"
      ]
     },
     "execution_count": 126,
     "metadata": {},
     "output_type": "execute_result"
    }
   ],
   "source": [
    "df_fe.head()"
   ]
  },
  {
   "cell_type": "code",
   "execution_count": 129,
   "metadata": {},
   "outputs": [
    {
     "data": {
      "text/html": [
       "<div>\n",
       "<style scoped>\n",
       "    .dataframe tbody tr th:only-of-type {\n",
       "        vertical-align: middle;\n",
       "    }\n",
       "\n",
       "    .dataframe tbody tr th {\n",
       "        vertical-align: top;\n",
       "    }\n",
       "\n",
       "    .dataframe thead th {\n",
       "        text-align: right;\n",
       "    }\n",
       "</style>\n",
       "<table border=\"1\" class=\"dataframe\">\n",
       "  <thead>\n",
       "    <tr style=\"text-align: right;\">\n",
       "      <th></th>\n",
       "      <th>5Y</th>\n",
       "      <th>13W</th>\n",
       "      <th>10Y</th>\n",
       "      <th>30Y</th>\n",
       "      <th>Close</th>\n",
       "      <th>FEDFUNDS</th>\n",
       "    </tr>\n",
       "  </thead>\n",
       "  <tbody>\n",
       "    <tr>\n",
       "      <th>2010-07-01 00:00:00+00:00</th>\n",
       "      <td>1.795</td>\n",
       "      <td>0.165</td>\n",
       "      <td>2.927</td>\n",
       "      <td>3.868</td>\n",
       "      <td>1.464000</td>\n",
       "      <td>0.18</td>\n",
       "    </tr>\n",
       "    <tr>\n",
       "      <th>2010-09-01 00:00:00+00:00</th>\n",
       "      <td>1.409</td>\n",
       "      <td>0.130</td>\n",
       "      <td>2.582</td>\n",
       "      <td>3.662</td>\n",
       "      <td>1.363333</td>\n",
       "      <td>0.19</td>\n",
       "    </tr>\n",
       "    <tr>\n",
       "      <th>2010-10-01 00:00:00+00:00</th>\n",
       "      <td>1.271</td>\n",
       "      <td>0.150</td>\n",
       "      <td>2.526</td>\n",
       "      <td>3.721</td>\n",
       "      <td>1.373333</td>\n",
       "      <td>0.19</td>\n",
       "    </tr>\n",
       "    <tr>\n",
       "      <th>2010-11-01 00:00:00+00:00</th>\n",
       "      <td>1.163</td>\n",
       "      <td>0.105</td>\n",
       "      <td>2.628</td>\n",
       "      <td>4.017</td>\n",
       "      <td>1.427333</td>\n",
       "      <td>0.19</td>\n",
       "    </tr>\n",
       "    <tr>\n",
       "      <th>2010-12-01 00:00:00+00:00</th>\n",
       "      <td>1.622</td>\n",
       "      <td>0.155</td>\n",
       "      <td>2.964</td>\n",
       "      <td>4.237</td>\n",
       "      <td>2.290000</td>\n",
       "      <td>0.18</td>\n",
       "    </tr>\n",
       "  </tbody>\n",
       "</table>\n",
       "</div>"
      ],
      "text/plain": [
       "                              5Y    13W    10Y    30Y     Close  FEDFUNDS\n",
       "2010-07-01 00:00:00+00:00  1.795  0.165  2.927  3.868  1.464000      0.18\n",
       "2010-09-01 00:00:00+00:00  1.409  0.130  2.582  3.662  1.363333      0.19\n",
       "2010-10-01 00:00:00+00:00  1.271  0.150  2.526  3.721  1.373333      0.19\n",
       "2010-11-01 00:00:00+00:00  1.163  0.105  2.628  4.017  1.427333      0.19\n",
       "2010-12-01 00:00:00+00:00  1.622  0.155  2.964  4.237  2.290000      0.18"
      ]
     },
     "execution_count": 129,
     "metadata": {},
     "output_type": "execute_result"
    }
   ],
   "source": [
    "df_final = df.copy()\n",
    "df_final.index = pd.to_datetime(df_final.index, utc=True)\n",
    "\n",
    "df_final = pd.merge(df_final, df_fe, how=\"inner\", left_index=True, right_index=True)\n",
    "df_final.head()"
   ]
  },
  {
   "cell_type": "code",
   "execution_count": 131,
   "metadata": {},
   "outputs": [
    {
     "data": {
      "text/html": [
       "<div>\n",
       "<style scoped>\n",
       "    .dataframe tbody tr th:only-of-type {\n",
       "        vertical-align: middle;\n",
       "    }\n",
       "\n",
       "    .dataframe tbody tr th {\n",
       "        vertical-align: top;\n",
       "    }\n",
       "\n",
       "    .dataframe thead th {\n",
       "        text-align: right;\n",
       "    }\n",
       "</style>\n",
       "<table border=\"1\" class=\"dataframe\">\n",
       "  <thead>\n",
       "    <tr style=\"text-align: right;\">\n",
       "      <th></th>\n",
       "      <th>5Y</th>\n",
       "      <th>13W</th>\n",
       "      <th>10Y</th>\n",
       "      <th>30Y</th>\n",
       "      <th>Close</th>\n",
       "      <th>FEDFUNDS</th>\n",
       "      <th>percent</th>\n",
       "    </tr>\n",
       "  </thead>\n",
       "  <tbody>\n",
       "    <tr>\n",
       "      <th>2010-07-01 00:00:00+00:00</th>\n",
       "      <td>1.795</td>\n",
       "      <td>0.165</td>\n",
       "      <td>2.927</td>\n",
       "      <td>3.868</td>\n",
       "      <td>1.464000</td>\n",
       "      <td>0.18</td>\n",
       "      <td>NaN</td>\n",
       "    </tr>\n",
       "    <tr>\n",
       "      <th>2010-09-01 00:00:00+00:00</th>\n",
       "      <td>1.409</td>\n",
       "      <td>0.130</td>\n",
       "      <td>2.582</td>\n",
       "      <td>3.662</td>\n",
       "      <td>1.363333</td>\n",
       "      <td>0.19</td>\n",
       "      <td>-0.068762</td>\n",
       "    </tr>\n",
       "    <tr>\n",
       "      <th>2010-10-01 00:00:00+00:00</th>\n",
       "      <td>1.271</td>\n",
       "      <td>0.150</td>\n",
       "      <td>2.526</td>\n",
       "      <td>3.721</td>\n",
       "      <td>1.373333</td>\n",
       "      <td>0.19</td>\n",
       "      <td>0.007335</td>\n",
       "    </tr>\n",
       "    <tr>\n",
       "      <th>2010-11-01 00:00:00+00:00</th>\n",
       "      <td>1.163</td>\n",
       "      <td>0.105</td>\n",
       "      <td>2.628</td>\n",
       "      <td>4.017</td>\n",
       "      <td>1.427333</td>\n",
       "      <td>0.19</td>\n",
       "      <td>0.039320</td>\n",
       "    </tr>\n",
       "    <tr>\n",
       "      <th>2010-12-01 00:00:00+00:00</th>\n",
       "      <td>1.622</td>\n",
       "      <td>0.155</td>\n",
       "      <td>2.964</td>\n",
       "      <td>4.237</td>\n",
       "      <td>2.290000</td>\n",
       "      <td>0.18</td>\n",
       "      <td>0.604391</td>\n",
       "    </tr>\n",
       "  </tbody>\n",
       "</table>\n",
       "</div>"
      ],
      "text/plain": [
       "                              5Y    13W    10Y    30Y     Close  FEDFUNDS  \\\n",
       "2010-07-01 00:00:00+00:00  1.795  0.165  2.927  3.868  1.464000      0.18   \n",
       "2010-09-01 00:00:00+00:00  1.409  0.130  2.582  3.662  1.363333      0.19   \n",
       "2010-10-01 00:00:00+00:00  1.271  0.150  2.526  3.721  1.373333      0.19   \n",
       "2010-11-01 00:00:00+00:00  1.163  0.105  2.628  4.017  1.427333      0.19   \n",
       "2010-12-01 00:00:00+00:00  1.622  0.155  2.964  4.237  2.290000      0.18   \n",
       "\n",
       "                            percent  \n",
       "2010-07-01 00:00:00+00:00       NaN  \n",
       "2010-09-01 00:00:00+00:00 -0.068762  \n",
       "2010-10-01 00:00:00+00:00  0.007335  \n",
       "2010-11-01 00:00:00+00:00  0.039320  \n",
       "2010-12-01 00:00:00+00:00  0.604391  "
      ]
     },
     "execution_count": 131,
     "metadata": {},
     "output_type": "execute_result"
    }
   ],
   "source": [
    "df_final[\"percent\"] = df_final[\"Close\"].pct_change()\n",
    "df_final.head()"
   ]
  },
  {
   "cell_type": "code",
   "execution_count": 132,
   "metadata": {},
   "outputs": [
    {
     "data": {
      "text/html": [
       "<div>\n",
       "<style scoped>\n",
       "    .dataframe tbody tr th:only-of-type {\n",
       "        vertical-align: middle;\n",
       "    }\n",
       "\n",
       "    .dataframe tbody tr th {\n",
       "        vertical-align: top;\n",
       "    }\n",
       "\n",
       "    .dataframe thead th {\n",
       "        text-align: right;\n",
       "    }\n",
       "</style>\n",
       "<table border=\"1\" class=\"dataframe\">\n",
       "  <thead>\n",
       "    <tr style=\"text-align: right;\">\n",
       "      <th></th>\n",
       "      <th>5Y</th>\n",
       "      <th>13W</th>\n",
       "      <th>10Y</th>\n",
       "      <th>30Y</th>\n",
       "      <th>Close</th>\n",
       "      <th>FEDFUNDS</th>\n",
       "      <th>percent</th>\n",
       "    </tr>\n",
       "  </thead>\n",
       "  <tbody>\n",
       "    <tr>\n",
       "      <th>5Y</th>\n",
       "      <td>1.000000</td>\n",
       "      <td>0.836364</td>\n",
       "      <td>0.865706</td>\n",
       "      <td>0.543306</td>\n",
       "      <td>0.180876</td>\n",
       "      <td>0.828300</td>\n",
       "      <td>-0.269076</td>\n",
       "    </tr>\n",
       "    <tr>\n",
       "      <th>13W</th>\n",
       "      <td>0.836364</td>\n",
       "      <td>1.000000</td>\n",
       "      <td>0.583874</td>\n",
       "      <td>0.250560</td>\n",
       "      <td>0.241281</td>\n",
       "      <td>0.997624</td>\n",
       "      <td>-0.187921</td>\n",
       "    </tr>\n",
       "    <tr>\n",
       "      <th>10Y</th>\n",
       "      <td>0.865706</td>\n",
       "      <td>0.583874</td>\n",
       "      <td>1.000000</td>\n",
       "      <td>0.885427</td>\n",
       "      <td>-0.083016</td>\n",
       "      <td>0.579947</td>\n",
       "      <td>-0.262731</td>\n",
       "    </tr>\n",
       "    <tr>\n",
       "      <th>30Y</th>\n",
       "      <td>0.543306</td>\n",
       "      <td>0.250560</td>\n",
       "      <td>0.885427</td>\n",
       "      <td>1.000000</td>\n",
       "      <td>-0.337444</td>\n",
       "      <td>0.253015</td>\n",
       "      <td>-0.197120</td>\n",
       "    </tr>\n",
       "    <tr>\n",
       "      <th>Close</th>\n",
       "      <td>0.180876</td>\n",
       "      <td>0.241281</td>\n",
       "      <td>-0.083016</td>\n",
       "      <td>-0.337444</td>\n",
       "      <td>1.000000</td>\n",
       "      <td>0.216192</td>\n",
       "      <td>0.037904</td>\n",
       "    </tr>\n",
       "    <tr>\n",
       "      <th>FEDFUNDS</th>\n",
       "      <td>0.828300</td>\n",
       "      <td>0.997624</td>\n",
       "      <td>0.579947</td>\n",
       "      <td>0.253015</td>\n",
       "      <td>0.216192</td>\n",
       "      <td>1.000000</td>\n",
       "      <td>-0.192250</td>\n",
       "    </tr>\n",
       "    <tr>\n",
       "      <th>percent</th>\n",
       "      <td>-0.269076</td>\n",
       "      <td>-0.187921</td>\n",
       "      <td>-0.262731</td>\n",
       "      <td>-0.197120</td>\n",
       "      <td>0.037904</td>\n",
       "      <td>-0.192250</td>\n",
       "      <td>1.000000</td>\n",
       "    </tr>\n",
       "  </tbody>\n",
       "</table>\n",
       "</div>"
      ],
      "text/plain": [
       "                5Y       13W       10Y       30Y     Close  FEDFUNDS   percent\n",
       "5Y        1.000000  0.836364  0.865706  0.543306  0.180876  0.828300 -0.269076\n",
       "13W       0.836364  1.000000  0.583874  0.250560  0.241281  0.997624 -0.187921\n",
       "10Y       0.865706  0.583874  1.000000  0.885427 -0.083016  0.579947 -0.262731\n",
       "30Y       0.543306  0.250560  0.885427  1.000000 -0.337444  0.253015 -0.197120\n",
       "Close     0.180876  0.241281 -0.083016 -0.337444  1.000000  0.216192  0.037904\n",
       "FEDFUNDS  0.828300  0.997624  0.579947  0.253015  0.216192  1.000000 -0.192250\n",
       "percent  -0.269076 -0.187921 -0.262731 -0.197120  0.037904 -0.192250  1.000000"
      ]
     },
     "execution_count": 132,
     "metadata": {},
     "output_type": "execute_result"
    }
   ],
   "source": [
    "df_final.corr()"
   ]
  },
  {
   "cell_type": "code",
   "execution_count": 135,
   "metadata": {},
   "outputs": [
    {
     "data": {
      "text/plain": [
       "PearsonRResult(statistic=-0.19225017124946644, pvalue=0.052892170098470796)"
      ]
     },
     "execution_count": 135,
     "metadata": {},
     "output_type": "execute_result"
    }
   ],
   "source": [
    "final_drop = df_final.dropna()\n",
    "corr = stats.pearsonr(final_drop[\"percent\"], final_drop[\"FEDFUNDS\"])\n",
    "corr"
   ]
  },
  {
   "cell_type": "code",
   "execution_count": 137,
   "metadata": {},
   "outputs": [
    {
     "data": {
      "text/plain": [
       "PearsonRResult(statistic=-0.18792148699390937, pvalue=0.05856953266379307)"
      ]
     },
     "execution_count": 137,
     "metadata": {},
     "output_type": "execute_result"
    }
   ],
   "source": [
    "corr = stats.pearsonr(final_drop[\"percent\"], final_drop[\"13W\"])\n",
    "corr"
   ]
  },
  {
   "cell_type": "code",
   "execution_count": 139,
   "metadata": {},
   "outputs": [
    {
     "data": {
      "text/plain": [
       "PearsonRResult(statistic=-0.26907615649963373, pvalue=0.006244242874807672)"
      ]
     },
     "execution_count": 139,
     "metadata": {},
     "output_type": "execute_result"
    }
   ],
   "source": [
    "corr = stats.pearsonr(final_drop[\"percent\"], final_drop[\"5Y\"])\n",
    "corr"
   ]
  },
  {
   "cell_type": "code",
   "execution_count": 141,
   "metadata": {},
   "outputs": [
    {
     "data": {
      "text/plain": [
       "PearsonRResult(statistic=-0.2627305625153189, pvalue=0.007635304798513546)"
      ]
     },
     "execution_count": 141,
     "metadata": {},
     "output_type": "execute_result"
    }
   ],
   "source": [
    "corr = stats.pearsonr(final_drop[\"percent\"], final_drop[\"10Y\"])\n",
    "corr"
   ]
  },
  {
   "cell_type": "code",
   "execution_count": 142,
   "metadata": {},
   "outputs": [
    {
     "data": {
      "text/plain": [
       "PearsonRResult(statistic=-0.19711958994682532, pvalue=0.04705510119260922)"
      ]
     },
     "execution_count": 142,
     "metadata": {},
     "output_type": "execute_result"
    }
   ],
   "source": [
    "corr = stats.pearsonr(final_drop[\"percent\"], final_drop[\"30Y\"])\n",
    "corr"
   ]
  },
  {
   "cell_type": "markdown",
   "metadata": {},
   "source": [
    "### Good job!\n",
    "이자율과 가격변화율 간에 유의미한 약한 음의 상관관계\n",
    "5Y > 10Y > 30Y > FED > 13W"
   ]
  },
  {
   "cell_type": "code",
   "execution_count": 143,
   "metadata": {},
   "outputs": [
    {
     "data": {
      "text/html": [
       "<div>\n",
       "<style scoped>\n",
       "    .dataframe tbody tr th:only-of-type {\n",
       "        vertical-align: middle;\n",
       "    }\n",
       "\n",
       "    .dataframe tbody tr th {\n",
       "        vertical-align: top;\n",
       "    }\n",
       "\n",
       "    .dataframe thead th {\n",
       "        text-align: right;\n",
       "    }\n",
       "</style>\n",
       "<table border=\"1\" class=\"dataframe\">\n",
       "  <thead>\n",
       "    <tr style=\"text-align: right;\">\n",
       "      <th></th>\n",
       "      <th>5Y</th>\n",
       "      <th>13W</th>\n",
       "      <th>10Y</th>\n",
       "      <th>30Y</th>\n",
       "      <th>Close</th>\n",
       "    </tr>\n",
       "    <tr>\n",
       "      <th>Date</th>\n",
       "      <th></th>\n",
       "      <th></th>\n",
       "      <th></th>\n",
       "      <th></th>\n",
       "      <th></th>\n",
       "    </tr>\n",
       "  </thead>\n",
       "  <tbody>\n",
       "    <tr>\n",
       "      <th>2010-06-29</th>\n",
       "      <td>1.786</td>\n",
       "      <td>0.160</td>\n",
       "      <td>2.967</td>\n",
       "      <td>3.946</td>\n",
       "      <td>1.592667</td>\n",
       "    </tr>\n",
       "    <tr>\n",
       "      <th>2010-06-30</th>\n",
       "      <td>1.795</td>\n",
       "      <td>0.170</td>\n",
       "      <td>2.951</td>\n",
       "      <td>3.909</td>\n",
       "      <td>1.588667</td>\n",
       "    </tr>\n",
       "    <tr>\n",
       "      <th>2010-07-01</th>\n",
       "      <td>1.795</td>\n",
       "      <td>0.165</td>\n",
       "      <td>2.927</td>\n",
       "      <td>3.868</td>\n",
       "      <td>1.464000</td>\n",
       "    </tr>\n",
       "    <tr>\n",
       "      <th>2010-07-02</th>\n",
       "      <td>1.812</td>\n",
       "      <td>0.160</td>\n",
       "      <td>2.979</td>\n",
       "      <td>3.941</td>\n",
       "      <td>1.280000</td>\n",
       "    </tr>\n",
       "    <tr>\n",
       "      <th>2010-07-06</th>\n",
       "      <td>1.760</td>\n",
       "      <td>0.160</td>\n",
       "      <td>2.932</td>\n",
       "      <td>3.892</td>\n",
       "      <td>1.074000</td>\n",
       "    </tr>\n",
       "  </tbody>\n",
       "</table>\n",
       "</div>"
      ],
      "text/plain": [
       "               5Y    13W    10Y    30Y     Close\n",
       "Date                                            \n",
       "2010-06-29  1.786  0.160  2.967  3.946  1.592667\n",
       "2010-06-30  1.795  0.170  2.951  3.909  1.588667\n",
       "2010-07-01  1.795  0.165  2.927  3.868  1.464000\n",
       "2010-07-02  1.812  0.160  2.979  3.941  1.280000\n",
       "2010-07-06  1.760  0.160  2.932  3.892  1.074000"
      ]
     },
     "execution_count": 143,
     "metadata": {},
     "output_type": "execute_result"
    }
   ],
   "source": [
    "df_daily = df.copy()\n",
    "df_daily.head()"
   ]
  },
  {
   "cell_type": "code",
   "execution_count": 144,
   "metadata": {},
   "outputs": [
    {
     "data": {
      "text/html": [
       "<div>\n",
       "<style scoped>\n",
       "    .dataframe tbody tr th:only-of-type {\n",
       "        vertical-align: middle;\n",
       "    }\n",
       "\n",
       "    .dataframe tbody tr th {\n",
       "        vertical-align: top;\n",
       "    }\n",
       "\n",
       "    .dataframe thead th {\n",
       "        text-align: right;\n",
       "    }\n",
       "</style>\n",
       "<table border=\"1\" class=\"dataframe\">\n",
       "  <thead>\n",
       "    <tr style=\"text-align: right;\">\n",
       "      <th></th>\n",
       "      <th>5Y</th>\n",
       "      <th>13W</th>\n",
       "      <th>10Y</th>\n",
       "      <th>30Y</th>\n",
       "      <th>Close</th>\n",
       "      <th>percent</th>\n",
       "    </tr>\n",
       "    <tr>\n",
       "      <th>Date</th>\n",
       "      <th></th>\n",
       "      <th></th>\n",
       "      <th></th>\n",
       "      <th></th>\n",
       "      <th></th>\n",
       "      <th></th>\n",
       "    </tr>\n",
       "  </thead>\n",
       "  <tbody>\n",
       "    <tr>\n",
       "      <th>2010-06-29</th>\n",
       "      <td>1.786</td>\n",
       "      <td>0.160</td>\n",
       "      <td>2.967</td>\n",
       "      <td>3.946</td>\n",
       "      <td>1.592667</td>\n",
       "      <td>NaN</td>\n",
       "    </tr>\n",
       "    <tr>\n",
       "      <th>2010-06-30</th>\n",
       "      <td>1.795</td>\n",
       "      <td>0.170</td>\n",
       "      <td>2.951</td>\n",
       "      <td>3.909</td>\n",
       "      <td>1.588667</td>\n",
       "      <td>-0.002511</td>\n",
       "    </tr>\n",
       "    <tr>\n",
       "      <th>2010-07-01</th>\n",
       "      <td>1.795</td>\n",
       "      <td>0.165</td>\n",
       "      <td>2.927</td>\n",
       "      <td>3.868</td>\n",
       "      <td>1.464000</td>\n",
       "      <td>-0.078473</td>\n",
       "    </tr>\n",
       "    <tr>\n",
       "      <th>2010-07-02</th>\n",
       "      <td>1.812</td>\n",
       "      <td>0.160</td>\n",
       "      <td>2.979</td>\n",
       "      <td>3.941</td>\n",
       "      <td>1.280000</td>\n",
       "      <td>-0.125683</td>\n",
       "    </tr>\n",
       "    <tr>\n",
       "      <th>2010-07-06</th>\n",
       "      <td>1.760</td>\n",
       "      <td>0.160</td>\n",
       "      <td>2.932</td>\n",
       "      <td>3.892</td>\n",
       "      <td>1.074000</td>\n",
       "      <td>-0.160937</td>\n",
       "    </tr>\n",
       "  </tbody>\n",
       "</table>\n",
       "</div>"
      ],
      "text/plain": [
       "               5Y    13W    10Y    30Y     Close   percent\n",
       "Date                                                      \n",
       "2010-06-29  1.786  0.160  2.967  3.946  1.592667       NaN\n",
       "2010-06-30  1.795  0.170  2.951  3.909  1.588667 -0.002511\n",
       "2010-07-01  1.795  0.165  2.927  3.868  1.464000 -0.078473\n",
       "2010-07-02  1.812  0.160  2.979  3.941  1.280000 -0.125683\n",
       "2010-07-06  1.760  0.160  2.932  3.892  1.074000 -0.160937"
      ]
     },
     "execution_count": 144,
     "metadata": {},
     "output_type": "execute_result"
    }
   ],
   "source": [
    "df_daily[\"percent\"] = df_daily[\"Close\"].pct_change()\n",
    "df_daily.head()"
   ]
  },
  {
   "cell_type": "code",
   "execution_count": 146,
   "metadata": {},
   "outputs": [],
   "source": [
    "df_daily.dropna(inplace=True)"
   ]
  },
  {
   "cell_type": "code",
   "execution_count": 153,
   "metadata": {},
   "outputs": [
    {
     "data": {
      "text/plain": [
       "Index(['5Y', '13W', '10Y', '30Y', 'Close', 'percent'], dtype='object')"
      ]
     },
     "execution_count": 153,
     "metadata": {},
     "output_type": "execute_result"
    }
   ],
   "source": [
    "df_daily.columns[df_daily.columns != (\"Close\", \"percent\")]"
   ]
  },
  {
   "cell_type": "code",
   "execution_count": 156,
   "metadata": {},
   "outputs": [
    {
     "name": "stdout",
     "output_type": "stream",
     "text": [
      "5Y PearsonRResult(statistic=-0.04391192092130989, pvalue=0.011478722006009056)\n",
      "13W PearsonRResult(statistic=-0.014560608374663544, pvalue=0.40213330220045934)\n",
      "10Y PearsonRResult(statistic=-0.044070396184509746, pvalue=0.011183618481273343)\n",
      "30Y PearsonRResult(statistic=-0.030598779634316002, pvalue=0.07824303789034436)\n",
      "Close PearsonRResult(statistic=0.008884213841361534, pvalue=0.6092245945782123)\n",
      "percent PearsonRResult(statistic=1.0, pvalue=0.0)\n"
     ]
    }
   ],
   "source": [
    "for column in df_daily.columns[df_daily.columns != (\"Close\", \"percent\")]:\n",
    "    corr = stats.pearsonr(df_daily[\"percent\"], df_daily[column])\n",
    "    print(column, corr)"
   ]
  },
  {
   "cell_type": "markdown",
   "metadata": {},
   "source": [
    "df_daily.columns[df_daily.columns != [\"Close\", \"percent\"]]"
   ]
  },
  {
   "cell_type": "code",
   "execution_count": null,
   "metadata": {},
   "outputs": [],
   "source": [
    "#\n",
    "10Y > 5Y 유의미한 음의 상관관계"
   ]
  }
 ],
 "metadata": {
  "kernelspec": {
   "display_name": "finance",
   "language": "python",
   "name": "python3"
  },
  "language_info": {
   "codemirror_mode": {
    "name": "ipython",
    "version": 3
   },
   "file_extension": ".py",
   "mimetype": "text/x-python",
   "name": "python",
   "nbconvert_exporter": "python",
   "pygments_lexer": "ipython3",
   "version": "3.11.4"
  },
  "orig_nbformat": 4
 },
 "nbformat": 4,
 "nbformat_minor": 2
}
