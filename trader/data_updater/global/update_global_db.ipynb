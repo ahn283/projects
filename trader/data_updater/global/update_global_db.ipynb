{
 "cells": [
  {
   "cell_type": "markdown",
   "metadata": {},
   "source": [
    "# Get global stock data "
   ]
  },
  {
   "cell_type": "markdown",
   "metadata": {},
   "source": [
    "## collect tickers"
   ]
  },
  {
   "cell_type": "code",
   "execution_count": 2,
   "metadata": {},
   "outputs": [],
   "source": [
    "from selenium import webdriver\n",
    "from selenium.webdriver.chrome.service import Service\n",
    "from webdriver_manager.chrome import ChromeDriverManager\n",
    "from selenium.webdriver.common.by import By\n",
    "from bs4 import BeautifulSoup\n",
    "import math\n",
    "import pandas as pd\n",
    "\n",
    "driver = webdriver.Chrome(service=Service(ChromeDriverManager().install()))\n",
    "url = 'https://www.investing.com/stock-screener/?sp=country::5|sector::a|industry::a|equityType::a%3Ceq_market_cap;1'\n",
    "# open url\n",
    "driver.get(url)"
   ]
  },
  {
   "cell_type": "code",
   "execution_count": 3,
   "metadata": {},
   "outputs": [],
   "source": [
    "# HTML 정보에 해당하는 driver.page_source를 BeautifulSoup 객체로 만들어준다.\n",
    "# make BeautifulSoup object from driver.page_source \n",
    "html = BeautifulSoup(driver.page_source, 'lxml')"
   ]
  },
  {
   "cell_type": "code",
   "execution_count": 5,
   "metadata": {},
   "outputs": [
    {
     "data": {
      "text/plain": [
       "'United States'"
      ]
     },
     "execution_count": 5,
     "metadata": {},
     "output_type": "execute_result"
    }
   ],
   "source": [
    "# country\n",
    "html.find(class_='js-search-input inputDropDown')['value']"
   ]
  },
  {
   "cell_type": "code",
   "execution_count": 6,
   "metadata": {},
   "outputs": [
    {
     "name": "stdout",
     "output_type": "stream",
     "text": [
      "<table class=\"genTbl openTbl resultsStockScreenerTbl elpTbl\" id=\"resultsTable\">\n",
      "<thead>\n",
      "<tr>\n",
      "<th class=\"flag\"> </th>\n",
      "<th class=\"symbol left js-sortable pointer\" data-column-name=\"name_trans\"><i title=\"Name\">Name</i><span class=\"headerSortDefault\"></span></th><th class=\"left js-sortable pointer\" data-column-name=\"viewData.symbol\"><i title=\"Symbol\">Symbol</i><span class=\"headerSortDefault\"></span></th><th class=\"left displayNone js-sortable pointer\" data-column-name=\"exchange_trans\"><i title=\"Exchange\">Exchange</i><span class=\"headerSortDefault\"></span></th><th class=\"left displayNone js-sortable pointer\" data-column-name=\"sector_trans\"><i title=\"Sector\">Sector</i><span class=\"headerSortDefault\"></span></th><th class=\"left displayNone js-sortable pointer\" data-column-name=\"industry_trans\"><i title=\"Industry\">Industry</i><span class=\"headerSortDefault\"></span></th><th class=\"js-sortable pointer\" data-column-name=\"last\"><i title=\"Last\">Last</i><span class=\"headerSortDefault\"></span></th><th class=\"js-sortable pointer\" data-column-name=\"pair_change_percent\"><i title=\"Chg. %\">Chg. %</i><span class=\"headerSortDefault\"></span></th><th class=\"js-sortable pointer\" data-column-name=\"eq_market_cap\"><i title=\"Market Cap\">Market Cap</i><span class=\"headerSortDown\"></span></th><th class=\"js-sortable pointer\" data-column-name=\"turnover_volume\"><i title=\"Vol.\">Vol.</i><span class=\"headerSortDefault\"></span></th><th class=\"displayNone js-sortable pointer\" data-column-name=\"eq_pe_ratio\"><i title=\"P/E Ratio\">P/E Ratio</i><span class=\"headerSortDefault\"></span></th><th class=\"displayNone js-sortable pointer\" data-column-name=\"MACD\"><i title=\"MACD (12,26 / 1D)\">MACD (12,26 / 1D)</i><span class=\"headerSortDefault\"></span></th><th class=\"displayNone js-sortable pointer\" data-column-name=\"eq_revenue\"><i title=\"Revenue\">Revenue</i><span class=\"headerSortDefault\"></span></th><th class=\"displayNone js-sortable pointer\" data-column-name=\"avg_volume\"><i title=\"Average Vol. (3m)\">Average Vol. (3m)</i><span class=\"headerSortDefault\"></span></th><th class=\"displayNone js-sortable pointer\" data-column-name=\"eq_eps\"><i title=\"EPS\">EPS</i><span class=\"headerSortDefault\"></span></th><th class=\"displayNone js-sortable pointer\" data-column-name=\"eq_beta\"><i title=\"Beta\">Beta</i><span class=\"headerSortDefault\"></span></th><th class=\"displayNone js-sortable pointer\" data-column-name=\"eq_dividend\"><i title=\"Dividend\">Dividend</i><span class=\"headerSortDefault\"></span></th><th class=\"displayNone js-sortable pointer\" data-column-name=\"eq_yield\"><i title=\"Yield\">Yield</i><span class=\"headerSortDefault\"></span></th><th class=\"left displayNone js-sortable pointer\" data-column-name=\"tech_sum_900\"><i title=\"15 Minutes\">15 Minutes</i><span class=\"headerSortDefault\"></span></th><th class=\"left displayNone js-sortable pointer\" data-column-name=\"tech_sum_3600\"><i title=\"Hourly\">Hourly</i><span class=\"headerSortDefault\"></span></th><th class=\"left displayNone js-sortable pointer\" data-column-name=\"tech_sum_86400\"><i title=\"Daily\">Daily</i><span class=\"headerSortDefault\"></span></th><th class=\"left displayNone js-sortable pointer\" data-column-name=\"tech_sum_week\"><i title=\"Weekly\">Weekly</i><span class=\"headerSortDefault\"></span></th><th class=\"left displayNone js-sortable pointer\" data-column-name=\"tech_sum_month\"><i title=\"Monthly\">Monthly</i><span class=\"headerSortDefault\"></span></th><th class=\"displayNone js-sortable pointer\" data-column-name=\"daily\"><i title=\"Daily\">Daily</i><span class=\"headerSortDefault\"></span></th><th class=\"displayNone js-sortable pointer\" data-column-name=\"week\"><i title=\"1 Week\">1 Week</i><span class=\"headerSortDefault\"></span></th><th class=\"displayNone js-sortable pointer\" data-column-name=\"month\"><i title=\"1 Month\">1 Month</i><span class=\"headerSortDefault\"></span></th><th class=\"displayNone js-sortable pointer\" data-column-name=\"ytd\"><i title=\"YTD\">YTD</i><span class=\"headerSortDefault\"></span></th><th class=\"displayNone js-sortable pointer\" data-column-name=\"year\"><i title=\"1 Year\">1 Year</i><span class=\"headerSortDefault\"></span></th><th class=\"displayNone js-sortable pointer\" data-column-name=\"3year\"><i title=\"3 Years\">3 Years</i><span class=\"headerSortDefault\"></span></th><th class=\"displayNone js-sortable pointer\" data-column-name=\"eq_one_year_return\"><i title=\"1-Year Change\">1-Year Change</i><span class=\"headerSortDefault\"></span></th><th class=\"displayNone js-sortable pointer\" data-column-name=\"yield_us\"><i title=\"Dividend Yield (%)\">Dividend Yield (%)</i><span class=\"headerSortDefault\"></span></th><th class=\"displayNone js-sortable pointer\" data-column-name=\"peexclxor_us\"><i title=\"P/E Ratio (TTM)\">P/E Ratio (TTM)</i><span class=\"headerSortDefault\"></span></th><th class=\"displayNone js-sortable pointer\" data-column-name=\"ttmpr2rev_us\"><i title=\"Price to Sales (TTM)\">Price to Sales (TTM)</i><span class=\"headerSortDefault\"></span></th><th class=\"displayNone js-sortable pointer\" data-column-name=\"aprfcfps_us\"><i title=\"Price to Cash Flow (MRQ)\">Price to Cash Flow (MRQ)</i><span class=\"headerSortDefault\"></span></th><th class=\"displayNone js-sortable pointer\" data-column-name=\"ttmprfcfps_us\"><i title=\"Price to Free Cash Flow (TTM)\">Price to Free Cash Flow (TTM)</i><span class=\"headerSortDefault\"></span></th><th class=\"displayNone js-sortable pointer\" data-column-name=\"price2bk_us\"><i title=\"Price to Book (MRQ)\">Price to Book (MRQ)</i><span class=\"headerSortDefault\"></span></th><th class=\"displayNone js-sortable pointer\" data-column-name=\"pr2tanbk_us\"><i title=\"Price to Tangible Book (MRQ)\">Price to Tangible Book (MRQ)</i><span class=\"headerSortDefault\"></span></th><th class=\"displayNone js-sortable pointer\" data-column-name=\"epschngyr_us\"><i title=\"EPS(MRQ) vs Qtr. 1 Yr. Ago\">EPS(MRQ) vs Qtr. 1 Yr. Ago</i><span class=\"headerSortDefault\"></span></th><th class=\"displayNone js-sortable pointer\" data-column-name=\"ttmepschg_us\"><i title=\"EPS(TTM) vs TTM 1 Yr. Ago\">EPS(TTM) vs TTM 1 Yr. Ago</i><span class=\"headerSortDefault\"></span></th><th class=\"displayNone js-sortable pointer\" data-column-name=\"epstrendgr_us\"><i title=\"5 Year EPS Growth\">5 Year EPS Growth</i><span class=\"headerSortDefault\"></span></th><th class=\"displayNone js-sortable pointer\" data-column-name=\"revchngyr_us\"><i title=\"Sales (MRQ) vs Qtr. 1 Yr. Ago\">Sales (MRQ) vs Qtr. 1 Yr. Ago</i><span class=\"headerSortDefault\"></span></th><th class=\"displayNone js-sortable pointer\" data-column-name=\"ttmrevchg_us\"><i title=\"Sales (TTM) vs TTM 1 Yr. Ago (TTM)\">Sales (TTM) vs TTM 1 Yr. Ago (TTM)</i><span class=\"headerSortDefault\"></span></th><th class=\"displayNone js-sortable pointer\" data-column-name=\"revtrendgr_us\"><i title=\"5 Year Sales Growth\">5 Year Sales Growth</i><span class=\"headerSortDefault\"></span></th><th class=\"displayNone js-sortable pointer\" data-column-name=\"csptrendgr_us\"><i title=\"5 Year Capital Spending Growth\">5 Year Capital Spending Growth</i><span class=\"headerSortDefault\"></span></th><th class=\"displayNone js-sortable pointer\" data-column-name=\"ttmastturn_us\"><i title=\"Asset Turnover (TTM)\">Asset Turnover (TTM)</i><span class=\"headerSortDefault\"></span></th><th class=\"displayNone js-sortable pointer\" data-column-name=\"ttminvturn_us\"><i title=\"Inventory Turnover (TTM)\">Inventory Turnover (TTM)</i><span class=\"headerSortDefault\"></span></th><th class=\"displayNone js-sortable pointer\" data-column-name=\"ttmrevpere_us\"><i title=\"Revenue/Employee (TTM)\">Revenue/Employee (TTM)</i><span class=\"headerSortDefault\"></span></th><th class=\"displayNone js-sortable pointer\" data-column-name=\"ttmniperem_us\"><i title=\"Net Income/Employee (TTM)\">Net Income/Employee (TTM)</i><span class=\"headerSortDefault\"></span></th><th class=\"displayNone js-sortable pointer\" data-column-name=\"ttmrecturn_us\"><i title=\"Receivable Turnover (TTM)\">Receivable Turnover (TTM)</i><span class=\"headerSortDefault\"></span></th><th class=\"displayNone js-sortable pointer\" data-column-name=\"a52_week_high\"><i title=\"52 wk Range - High\">52 wk Range - High</i><span class=\"headerSortDefault\"></span></th><th class=\"displayNone js-sortable pointer\" data-column-name=\"a52_week_low\"><i title=\"52 wk Range - Low\">52 wk Range - Low</i><span class=\"headerSortDefault\"></span></th><th class=\"displayNone js-sortable pointer\" data-column-name=\"a52_week_high_diff\"><i title=\"% Change from 52 wk High\">% Change from 52 wk High</i><span class=\"headerSortDefault\"></span></th><th class=\"displayNone js-sortable pointer\" data-column-name=\"a52_week_low_diff\"><i title=\"% Change from 52 wk Low\">% Change from 52 wk Low</i><span class=\"headerSortDefault\"></span></th><th class=\"displayNone js-sortable pointer\" data-column-name=\"month_change\"><i title=\"Previous Month % Change\">Previous Month % Change</i><span class=\"headerSortDefault\"></span></th><th class=\"displayNone js-sortable pointer\" data-column-name=\"ttmgrosmgn_us\"><i title=\"Gross margin (TTM)\">Gross margin (TTM)</i><span class=\"headerSortDefault\"></span></th><th class=\"displayNone js-sortable pointer\" data-column-name=\"grosmgn5yr_us\"><i title=\"Gross Margin (5YA)\">Gross Margin (5YA)</i><span class=\"headerSortDefault\"></span></th><th class=\"displayNone js-sortable pointer\" data-column-name=\"ttmopmgn_us\"><i title=\"Operating margin (TTM)\">Operating margin (TTM)</i><span class=\"headerSortDefault\"></span></th><th class=\"displayNone js-sortable pointer\" data-column-name=\"opmgn5yr_us\"><i title=\"Operating margin (5YA)\">Operating margin (5YA)</i><span class=\"headerSortDefault\"></span></th><th class=\"displayNone js-sortable pointer\" data-column-name=\"ttmptmgn_us\"><i title=\"Pretax margin (TTM)\">Pretax margin (TTM)</i><span class=\"headerSortDefault\"></span></th><th class=\"displayNone js-sortable pointer\" data-column-name=\"ptmgn5yr_us\"><i title=\"Pretax margin (5YA)\">Pretax margin (5YA)</i><span class=\"headerSortDefault\"></span></th><th class=\"displayNone js-sortable pointer\" data-column-name=\"ttmnpmgn_us\"><i title=\"Net Profit margin (TTM)\">Net Profit margin (TTM)</i><span class=\"headerSortDefault\"></span></th><th class=\"displayNone js-sortable pointer\" data-column-name=\"margin5yr_us\"><i title=\"Net Profit margin (5YA)\">Net Profit margin (5YA)</i><span class=\"headerSortDefault\"></span></th><th class=\"displayNone js-sortable pointer\" data-column-name=\"qquickrati_us\"><i title=\"Quick Ratio (MRQ)\">Quick Ratio (MRQ)</i><span class=\"headerSortDefault\"></span></th><th class=\"displayNone js-sortable pointer\" data-column-name=\"qcurratio_us\"><i title=\"Current Ratio (MRQ)\">Current Ratio (MRQ)</i><span class=\"headerSortDefault\"></span></th><th class=\"displayNone js-sortable pointer\" data-column-name=\"qltd2eq_us\"><i title=\"LT Debt to Equity (MRQ)\">LT Debt to Equity (MRQ)</i><span class=\"headerSortDefault\"></span></th><th class=\"displayNone js-sortable pointer\" data-column-name=\"qtotd2eq_us\"><i title=\"Total Debt to Equity\">Total Debt to Equity</i><span class=\"headerSortDefault\"></span></th><th class=\"displayNone js-sortable pointer\" data-column-name=\"yld5yavg_us\"><i title=\"Dividend Yield 5 Year Avg. (5YA)\">Dividend Yield 5 Year Avg. (5YA)</i><span class=\"headerSortDefault\"></span></th><th class=\"displayNone js-sortable pointer\" data-column-name=\"divgrpct_us\"><i title=\"Dividend Growth Rate (ANN)\">Dividend Growth Rate (ANN)</i><span class=\"headerSortDefault\"></span></th><th class=\"displayNone js-sortable pointer\" data-column-name=\"ttmpayrat_us\"><i title=\"Payout Ratio (TTM)\">Payout Ratio (TTM)</i><span class=\"headerSortDefault\"></span></th><th class=\"displayNone js-sortable pointer\" data-column-name=\"ADX\"><i title=\"ADX (14 / 1D)\">ADX (14 / 1D)</i><span class=\"headerSortDefault\"></span></th><th class=\"displayNone js-sortable pointer\" data-column-name=\"ATR\"><i title=\"ATR (14 / 1D)\">ATR (14 / 1D)</i><span class=\"headerSortDefault\"></span></th><th class=\"displayNone js-sortable pointer\" data-column-name=\"BullBear\"><i title=\"Bull/Bear Power (13 / 1D)\">Bull/Bear Power (13 / 1D)</i><span class=\"headerSortDefault\"></span></th><th class=\"displayNone js-sortable pointer\" data-column-name=\"CCI\"><i title=\"CCI (14 / 1D)\">CCI (14 / 1D)</i><span class=\"headerSortDefault\"></span></th><th class=\"displayNone js-sortable pointer\" data-column-name=\"HL\"><i title=\"Highs/Lows (14 / 1D)\">Highs/Lows (14 / 1D)</i><span class=\"headerSortDefault\"></span></th><th class=\"displayNone js-sortable pointer\" data-column-name=\"ROC\"><i title=\"ROC (1D)\">ROC (1D)</i><span class=\"headerSortDefault\"></span></th><th class=\"displayNone js-sortable pointer\" data-column-name=\"RSI\"><i title=\"RSI (14 / 1D)\">RSI (14 / 1D)</i><span class=\"headerSortDefault\"></span></th><th class=\"displayNone js-sortable pointer\" data-column-name=\"STOCH\"><i title=\"STOCH (14 / 1D)\">STOCH (14 / 1D)</i><span class=\"headerSortDefault\"></span></th><th class=\"displayNone js-sortable pointer\" data-column-name=\"STOCHRSI\"><i title=\"STOCHRSI (14 / 1D)\">STOCHRSI (14 / 1D)</i><span class=\"headerSortDefault\"></span></th><th class=\"displayNone js-sortable pointer\" data-column-name=\"UO\"><i title=\"Ultimate Oscillator (14 /1D)\">Ultimate Oscillator (14 /1D)</i><span class=\"headerSortDefault\"></span></th><th class=\"displayNone js-sortable pointer\" data-column-name=\"WilliamsR\"><i title=\"Williams %R (1D)\">Williams %R (1D)</i><span class=\"headerSortDefault\"></span></th> <th class=\"icon\">\n",
      "<script>\n",
      "\tvar columnsSettings_stock_screener = new ColumnsSettings(\n",
      "\t\t'ltr',\t\t\t\t\t\t\t\t\t\t\t\t\t\t\t\t\t   // strHtmlDir\n",
      "\t\t'resultsContainer',\t\t\t\t\t\t\t\t\t\t\t\t\t\t\t \t   // containerId\n",
      "\t\t'resultsContainer',\t\t\t\t\t\t\t\t\t\t\t\t\t\t\t   \t   // tab\n",
      "\t\t'stock_screener',\t\t\t\t\t\t\t\t\t\t\t\t\t\t\t\t\t\t   // id\n",
      "\t\t'Currently selected: X (max 8)', // message\n",
      "\t\t'8',\t\t\t\t\t\t\t\t\t\t\t\t\t\t\t   // intMaxCheckboxes\n",
      "\t\t'1'                                                          // intMinOptCheckboxes\n",
      "\t);\n",
      "</script>\n",
      "<div class=\"colSelectIconWrapper\">\n",
      "<span class=\"colSelectIcon\" id=\"colSelectIcon_stock_screener\" onclick=\"columnsSettings_stock_screener.colSelectIconClick(event);\">\n",
      "</span>\n",
      "</div>\n",
      "<form class=\"colSelectForm\" id=\"resultsContainerColsSelectstock_screener\">\n",
      "<div class=\"tooltipPopup displayNone colSelectPopup js-column-select-popup\" id=\"colSelectPopup_stock_screener\">\n",
      "<div class=\"header\">\n",
      "Adjust table </div>\n",
      "<div class=\"content\">\n",
      "<div class=\"smallPopupRows\">\n",
      "<ul>\n",
      "<li>\n",
      "<input checked=\"true\" data-column-name=\"name_trans\" data-required=\"1\" id=\"SS_1\" onclick=\"columnsSettings_stock_screener.onCheckboxClick(this);\" type=\"checkbox\" value=\"name_trans\"/>\n",
      "<label class=\"pointer\" for=\"SS_1\" title=\"Name\">\n",
      "Name </label>\n",
      "</li>\n",
      "<li>\n",
      "<input checked=\"true\" data-column-name=\"viewData.symbol\" data-required=\"1\" id=\"SS_2\" onclick=\"columnsSettings_stock_screener.onCheckboxClick(this);\" type=\"checkbox\" value=\"viewData.symbol\"/>\n",
      "<label class=\"pointer\" for=\"SS_2\" title=\"Symbol\">\n",
      "Symbol </label>\n",
      "</li>\n",
      "<li>\n",
      "<input data-column-name=\"exchange_trans\" id=\"SS_3\" onclick=\"columnsSettings_stock_screener.onCheckboxClick(this);\" type=\"checkbox\" value=\"exchange_trans\"/>\n",
      "<label class=\"pointer\" for=\"SS_3\" title=\"Exchange\">\n",
      "Exchange </label>\n",
      "</li>\n",
      "<li>\n",
      "<input data-column-name=\"sector_trans\" id=\"SS_4\" onclick=\"columnsSettings_stock_screener.onCheckboxClick(this);\" type=\"checkbox\" value=\"sector_trans\"/>\n",
      "<label class=\"pointer\" for=\"SS_4\" title=\"Sector\">\n",
      "Sector </label>\n",
      "</li>\n",
      "<li>\n",
      "<input data-column-name=\"industry_trans\" id=\"SS_5\" onclick=\"columnsSettings_stock_screener.onCheckboxClick(this);\" type=\"checkbox\" value=\"industry_trans\"/>\n",
      "<label class=\"pointer\" for=\"SS_5\" title=\"Industry\">\n",
      "Industry </label>\n",
      "</li>\n",
      "<li>\n",
      "<input checked=\"true\" data-column-name=\"last\" id=\"SS_6\" onclick=\"columnsSettings_stock_screener.onCheckboxClick(this);\" type=\"checkbox\" value=\"last\"/>\n",
      "<label class=\"pointer\" for=\"SS_6\" title=\"Last\">\n",
      "Last </label>\n",
      "</li>\n",
      "<li>\n",
      "<input checked=\"true\" data-column-name=\"pair_change_percent\" id=\"SS_7\" onclick=\"columnsSettings_stock_screener.onCheckboxClick(this);\" type=\"checkbox\" value=\"pair_change_percent\"/>\n",
      "<label class=\"pointer\" for=\"SS_7\" title=\"Chg. %\">\n",
      "Chg. % </label>\n",
      "</li>\n",
      "<li>\n",
      "<input checked=\"true\" data-column-name=\"eq_market_cap\" id=\"SS_8\" onclick=\"columnsSettings_stock_screener.onCheckboxClick(this);\" type=\"checkbox\" value=\"eq_market_cap\"/>\n",
      "<label class=\"pointer\" for=\"SS_8\" title=\"Market Cap\">\n",
      "Market Cap </label>\n",
      "</li>\n",
      "<li>\n",
      "<input checked=\"true\" data-column-name=\"turnover_volume\" id=\"SS_9\" onclick=\"columnsSettings_stock_screener.onCheckboxClick(this);\" type=\"checkbox\" value=\"turnover_volume\"/>\n",
      "<label class=\"pointer\" for=\"SS_9\" title=\"Vol.\">\n",
      "Vol. </label>\n",
      "</li>\n",
      "<li>\n",
      "<input data-column-name=\"eq_pe_ratio\" id=\"SS_10\" onclick=\"columnsSettings_stock_screener.onCheckboxClick(this);\" type=\"checkbox\" value=\"eq_pe_ratio\"/>\n",
      "<label class=\"pointer\" for=\"SS_10\" title=\"P/E Ratio\">\n",
      "P/E Ratio </label>\n",
      "</li>\n",
      "<li>\n",
      "<input data-column-name=\"MACD\" id=\"SS_11\" onclick=\"columnsSettings_stock_screener.onCheckboxClick(this);\" type=\"checkbox\" value=\"MACD\"/>\n",
      "<label class=\"pointer\" for=\"SS_11\" title=\"MACD (12,26 / 1D)\">\n",
      "MACD (12,26 / 1D) </label>\n",
      "</li>\n",
      "<li class=\"displayNone\">\n",
      "<input data-column-name=\"eq_revenue\" id=\"SS_12\" onclick=\"columnsSettings_stock_screener.onCheckboxClick(this);\" type=\"checkbox\" value=\"eq_revenue\"/>\n",
      "<label class=\"pointer\" for=\"SS_12\" title=\"Revenue\">\n",
      "Revenue </label>\n",
      "</li>\n",
      "<li class=\"displayNone\">\n",
      "<input data-column-name=\"avg_volume\" id=\"SS_13\" onclick=\"columnsSettings_stock_screener.onCheckboxClick(this);\" type=\"checkbox\" value=\"avg_volume\"/>\n",
      "<label class=\"pointer\" for=\"SS_13\" title=\"Average Vol. (3m)\">\n",
      "Average Vol. (3m) </label>\n",
      "</li>\n",
      "<li class=\"displayNone\">\n",
      "<input data-column-name=\"eq_eps\" id=\"SS_14\" onclick=\"columnsSettings_stock_screener.onCheckboxClick(this);\" type=\"checkbox\" value=\"eq_eps\"/>\n",
      "<label class=\"pointer\" for=\"SS_14\" title=\"EPS\">\n",
      "EPS </label>\n",
      "</li>\n",
      "<li class=\"displayNone\">\n",
      "<input data-column-name=\"eq_beta\" id=\"SS_15\" onclick=\"columnsSettings_stock_screener.onCheckboxClick(this);\" type=\"checkbox\" value=\"eq_beta\"/>\n",
      "<label class=\"pointer\" for=\"SS_15\" title=\"Beta\">\n",
      "Beta </label>\n",
      "</li>\n",
      "<li class=\"displayNone\">\n",
      "<input data-column-name=\"eq_dividend\" id=\"SS_16\" onclick=\"columnsSettings_stock_screener.onCheckboxClick(this);\" type=\"checkbox\" value=\"eq_dividend\"/>\n",
      "<label class=\"pointer\" for=\"SS_16\" title=\"Dividend\">\n",
      "Dividend </label>\n",
      "</li>\n",
      "<li class=\"displayNone\">\n",
      "<input data-column-name=\"eq_yield\" id=\"SS_17\" onclick=\"columnsSettings_stock_screener.onCheckboxClick(this);\" type=\"checkbox\" value=\"eq_yield\"/>\n",
      "<label class=\"pointer\" for=\"SS_17\" title=\"Yield\">\n",
      "Yield </label>\n",
      "</li>\n",
      "<li class=\"displayNone\">\n",
      "<input data-column-name=\"tech_sum_900\" id=\"SS_18\" onclick=\"columnsSettings_stock_screener.onCheckboxClick(this);\" type=\"checkbox\" value=\"tech_sum_900\"/>\n",
      "<label class=\"pointer\" for=\"SS_18\" title=\"15 Minutes\">\n",
      "15 Minutes </label>\n",
      "</li>\n",
      "<li class=\"displayNone\">\n",
      "<input data-column-name=\"tech_sum_3600\" id=\"SS_19\" onclick=\"columnsSettings_stock_screener.onCheckboxClick(this);\" type=\"checkbox\" value=\"tech_sum_3600\"/>\n",
      "<label class=\"pointer\" for=\"SS_19\" title=\"Hourly\">\n",
      "Hourly </label>\n",
      "</li>\n",
      "<li class=\"displayNone\">\n",
      "<input data-column-name=\"tech_sum_86400\" id=\"SS_20\" onclick=\"columnsSettings_stock_screener.onCheckboxClick(this);\" type=\"checkbox\" value=\"tech_sum_86400\"/>\n",
      "<label class=\"pointer\" for=\"SS_20\" title=\"Daily\">\n",
      "Daily </label>\n",
      "</li>\n",
      "<li class=\"displayNone\">\n",
      "<input data-column-name=\"tech_sum_week\" id=\"SS_21\" onclick=\"columnsSettings_stock_screener.onCheckboxClick(this);\" type=\"checkbox\" value=\"tech_sum_week\"/>\n",
      "<label class=\"pointer\" for=\"SS_21\" title=\"Weekly\">\n",
      "Weekly </label>\n",
      "</li>\n",
      "<li class=\"displayNone\">\n",
      "<input data-column-name=\"tech_sum_month\" id=\"SS_22\" onclick=\"columnsSettings_stock_screener.onCheckboxClick(this);\" type=\"checkbox\" value=\"tech_sum_month\"/>\n",
      "<label class=\"pointer\" for=\"SS_22\" title=\"Monthly\">\n",
      "Monthly </label>\n",
      "</li>\n",
      "<li class=\"displayNone\">\n",
      "<input data-column-name=\"daily\" id=\"SS_23\" onclick=\"columnsSettings_stock_screener.onCheckboxClick(this);\" type=\"checkbox\" value=\"daily\"/>\n",
      "<label class=\"pointer\" for=\"SS_23\" title=\"Daily\">\n",
      "Daily </label>\n",
      "</li>\n",
      "<li class=\"displayNone\">\n",
      "<input data-column-name=\"week\" id=\"SS_24\" onclick=\"columnsSettings_stock_screener.onCheckboxClick(this);\" type=\"checkbox\" value=\"week\"/>\n",
      "<label class=\"pointer\" for=\"SS_24\" title=\"1 Week\">\n",
      "1 Week </label>\n",
      "</li>\n",
      "<li class=\"displayNone\">\n",
      "<input data-column-name=\"month\" id=\"SS_25\" onclick=\"columnsSettings_stock_screener.onCheckboxClick(this);\" type=\"checkbox\" value=\"month\"/>\n",
      "<label class=\"pointer\" for=\"SS_25\" title=\"1 Month\">\n",
      "1 Month </label>\n",
      "</li>\n",
      "<li class=\"displayNone\">\n",
      "<input data-column-name=\"ytd\" id=\"SS_26\" onclick=\"columnsSettings_stock_screener.onCheckboxClick(this);\" type=\"checkbox\" value=\"ytd\"/>\n",
      "<label class=\"pointer\" for=\"SS_26\" title=\"YTD\">\n",
      "YTD </label>\n",
      "</li>\n",
      "<li class=\"displayNone\">\n",
      "<input data-column-name=\"year\" id=\"SS_27\" onclick=\"columnsSettings_stock_screener.onCheckboxClick(this);\" type=\"checkbox\" value=\"year\"/>\n",
      "<label class=\"pointer\" for=\"SS_27\" title=\"1 Year\">\n",
      "1 Year </label>\n",
      "</li>\n",
      "<li class=\"displayNone\">\n",
      "<input data-column-name=\"3year\" id=\"SS_28\" onclick=\"columnsSettings_stock_screener.onCheckboxClick(this);\" type=\"checkbox\" value=\"3year\"/>\n",
      "<label class=\"pointer\" for=\"SS_28\" title=\"3 Years\">\n",
      "3 Years </label>\n",
      "</li>\n",
      "<li class=\"displayNone\">\n",
      "<input data-column-name=\"eq_one_year_return\" id=\"SS_29\" onclick=\"columnsSettings_stock_screener.onCheckboxClick(this);\" type=\"checkbox\" value=\"eq_one_year_return\"/>\n",
      "<label class=\"pointer\" for=\"SS_29\" title=\"1-Year Change\">\n",
      "1-Year Change </label>\n",
      "</li>\n",
      "<li class=\"displayNone\">\n",
      "<input data-column-name=\"yield_us\" id=\"SS_30\" onclick=\"columnsSettings_stock_screener.onCheckboxClick(this);\" type=\"checkbox\" value=\"yield_us\"/>\n",
      "<label class=\"pointer\" for=\"SS_30\" title=\"Dividend Yield (%)\">\n",
      "Dividend Yield (%) </label>\n",
      "</li>\n",
      "<li class=\"displayNone\">\n",
      "<input data-column-name=\"peexclxor_us\" id=\"SS_31\" onclick=\"columnsSettings_stock_screener.onCheckboxClick(this);\" type=\"checkbox\" value=\"peexclxor_us\"/>\n",
      "<label class=\"pointer\" for=\"SS_31\" title=\"P/E Ratio (TTM)\">\n",
      "P/E Ratio (TTM) </label>\n",
      "</li>\n",
      "<li class=\"displayNone\">\n",
      "<input data-column-name=\"ttmpr2rev_us\" id=\"SS_32\" onclick=\"columnsSettings_stock_screener.onCheckboxClick(this);\" type=\"checkbox\" value=\"ttmpr2rev_us\"/>\n",
      "<label class=\"pointer\" for=\"SS_32\" title=\"Price to Sales (TTM)\">\n",
      "Price to Sales (TTM) </label>\n",
      "</li>\n",
      "<li class=\"displayNone\">\n",
      "<input data-column-name=\"aprfcfps_us\" id=\"SS_33\" onclick=\"columnsSettings_stock_screener.onCheckboxClick(this);\" type=\"checkbox\" value=\"aprfcfps_us\"/>\n",
      "<label class=\"pointer\" for=\"SS_33\" title=\"Price to Cash Flow (MRQ)\">\n",
      "Price to Cash Flow (MRQ) </label>\n",
      "</li>\n",
      "<li class=\"displayNone\">\n",
      "<input data-column-name=\"ttmprfcfps_us\" id=\"SS_34\" onclick=\"columnsSettings_stock_screener.onCheckboxClick(this);\" type=\"checkbox\" value=\"ttmprfcfps_us\"/>\n",
      "<label class=\"pointer\" for=\"SS_34\" title=\"Price to Free Cash Flow (TTM)\">\n",
      "Price to Free Cash Flow (TTM) </label>\n",
      "</li>\n",
      "<li class=\"displayNone\">\n",
      "<input data-column-name=\"price2bk_us\" id=\"SS_35\" onclick=\"columnsSettings_stock_screener.onCheckboxClick(this);\" type=\"checkbox\" value=\"price2bk_us\"/>\n",
      "<label class=\"pointer\" for=\"SS_35\" title=\"Price to Book (MRQ)\">\n",
      "Price to Book (MRQ) </label>\n",
      "</li>\n",
      "<li class=\"displayNone\">\n",
      "<input data-column-name=\"pr2tanbk_us\" id=\"SS_36\" onclick=\"columnsSettings_stock_screener.onCheckboxClick(this);\" type=\"checkbox\" value=\"pr2tanbk_us\"/>\n",
      "<label class=\"pointer\" for=\"SS_36\" title=\"Price to Tangible Book (MRQ)\">\n",
      "Price to Tangible Book (MRQ) </label>\n",
      "</li>\n",
      "<li class=\"displayNone\">\n",
      "<input data-column-name=\"epschngyr_us\" id=\"SS_37\" onclick=\"columnsSettings_stock_screener.onCheckboxClick(this);\" type=\"checkbox\" value=\"epschngyr_us\"/>\n",
      "<label class=\"pointer\" for=\"SS_37\" title=\"EPS(MRQ) vs Qtr. 1 Yr. Ago\">\n",
      "EPS(MRQ) vs Qtr. 1 Yr. Ago </label>\n",
      "</li>\n",
      "<li class=\"displayNone\">\n",
      "<input data-column-name=\"ttmepschg_us\" id=\"SS_38\" onclick=\"columnsSettings_stock_screener.onCheckboxClick(this);\" type=\"checkbox\" value=\"ttmepschg_us\"/>\n",
      "<label class=\"pointer\" for=\"SS_38\" title=\"EPS(TTM) vs TTM 1 Yr. Ago\">\n",
      "EPS(TTM) vs TTM 1 Yr. Ago </label>\n",
      "</li>\n",
      "<li class=\"displayNone\">\n",
      "<input data-column-name=\"epstrendgr_us\" id=\"SS_39\" onclick=\"columnsSettings_stock_screener.onCheckboxClick(this);\" type=\"checkbox\" value=\"epstrendgr_us\"/>\n",
      "<label class=\"pointer\" for=\"SS_39\" title=\"5 Year EPS Growth\">\n",
      "5 Year EPS Growth </label>\n",
      "</li>\n",
      "<li class=\"displayNone\">\n",
      "<input data-column-name=\"revchngyr_us\" id=\"SS_40\" onclick=\"columnsSettings_stock_screener.onCheckboxClick(this);\" type=\"checkbox\" value=\"revchngyr_us\"/>\n",
      "<label class=\"pointer\" for=\"SS_40\" title=\"Sales (MRQ) vs Qtr. 1 Yr. Ago\">\n",
      "Sales (MRQ) vs Qtr. 1 Yr. Ago </label>\n",
      "</li>\n",
      "<li class=\"displayNone\">\n",
      "<input data-column-name=\"ttmrevchg_us\" id=\"SS_41\" onclick=\"columnsSettings_stock_screener.onCheckboxClick(this);\" type=\"checkbox\" value=\"ttmrevchg_us\"/>\n",
      "<label class=\"pointer\" for=\"SS_41\" title=\"Sales (TTM) vs TTM 1 Yr. Ago (TTM)\">\n",
      "Sales (TTM) vs TTM 1 Yr. Ago (TTM) </label>\n",
      "</li>\n",
      "<li class=\"displayNone\">\n",
      "<input data-column-name=\"revtrendgr_us\" id=\"SS_42\" onclick=\"columnsSettings_stock_screener.onCheckboxClick(this);\" type=\"checkbox\" value=\"revtrendgr_us\"/>\n",
      "<label class=\"pointer\" for=\"SS_42\" title=\"5 Year Sales Growth\">\n",
      "5 Year Sales Growth </label>\n",
      "</li>\n",
      "<li class=\"displayNone\">\n",
      "<input data-column-name=\"csptrendgr_us\" id=\"SS_43\" onclick=\"columnsSettings_stock_screener.onCheckboxClick(this);\" type=\"checkbox\" value=\"csptrendgr_us\"/>\n",
      "<label class=\"pointer\" for=\"SS_43\" title=\"5 Year Capital Spending Growth\">\n",
      "5 Year Capital Spending Growth </label>\n",
      "</li>\n",
      "<li class=\"displayNone\">\n",
      "<input data-column-name=\"ttmastturn_us\" id=\"SS_44\" onclick=\"columnsSettings_stock_screener.onCheckboxClick(this);\" type=\"checkbox\" value=\"ttmastturn_us\"/>\n",
      "<label class=\"pointer\" for=\"SS_44\" title=\"Asset Turnover (TTM)\">\n",
      "Asset Turnover (TTM) </label>\n",
      "</li>\n",
      "<li class=\"displayNone\">\n",
      "<input data-column-name=\"ttminvturn_us\" id=\"SS_45\" onclick=\"columnsSettings_stock_screener.onCheckboxClick(this);\" type=\"checkbox\" value=\"ttminvturn_us\"/>\n",
      "<label class=\"pointer\" for=\"SS_45\" title=\"Inventory Turnover (TTM)\">\n",
      "Inventory Turnover (TTM) </label>\n",
      "</li>\n",
      "<li class=\"displayNone\">\n",
      "<input data-column-name=\"ttmrevpere_us\" id=\"SS_46\" onclick=\"columnsSettings_stock_screener.onCheckboxClick(this);\" type=\"checkbox\" value=\"ttmrevpere_us\"/>\n",
      "<label class=\"pointer\" for=\"SS_46\" title=\"Revenue/Employee (TTM)\">\n",
      "Revenue/Employee (TTM) </label>\n",
      "</li>\n",
      "<li class=\"displayNone\">\n",
      "<input data-column-name=\"ttmniperem_us\" id=\"SS_47\" onclick=\"columnsSettings_stock_screener.onCheckboxClick(this);\" type=\"checkbox\" value=\"ttmniperem_us\"/>\n",
      "<label class=\"pointer\" for=\"SS_47\" title=\"Net Income/Employee (TTM)\">\n",
      "Net Income/Employee (TTM) </label>\n",
      "</li>\n",
      "<li class=\"displayNone\">\n",
      "<input data-column-name=\"ttmrecturn_us\" id=\"SS_48\" onclick=\"columnsSettings_stock_screener.onCheckboxClick(this);\" type=\"checkbox\" value=\"ttmrecturn_us\"/>\n",
      "<label class=\"pointer\" for=\"SS_48\" title=\"Receivable Turnover (TTM)\">\n",
      "Receivable Turnover (TTM) </label>\n",
      "</li>\n",
      "<li class=\"displayNone\">\n",
      "<input data-column-name=\"a52_week_high\" id=\"SS_49\" onclick=\"columnsSettings_stock_screener.onCheckboxClick(this);\" type=\"checkbox\" value=\"a52_week_high\"/>\n",
      "<label class=\"pointer\" for=\"SS_49\" title=\"52 wk Range - High\">\n",
      "52 wk Range - High </label>\n",
      "</li>\n",
      "<li class=\"displayNone\">\n",
      "<input data-column-name=\"a52_week_low\" id=\"SS_50\" onclick=\"columnsSettings_stock_screener.onCheckboxClick(this);\" type=\"checkbox\" value=\"a52_week_low\"/>\n",
      "<label class=\"pointer\" for=\"SS_50\" title=\"52 wk Range - Low\">\n",
      "52 wk Range - Low </label>\n",
      "</li>\n",
      "<li class=\"displayNone\">\n",
      "<input data-column-name=\"a52_week_high_diff\" id=\"SS_51\" onclick=\"columnsSettings_stock_screener.onCheckboxClick(this);\" type=\"checkbox\" value=\"a52_week_high_diff\"/>\n",
      "<label class=\"pointer\" for=\"SS_51\" title=\"% Change from 52 wk High\">\n",
      "% Change from 52 wk High </label>\n",
      "</li>\n",
      "<li class=\"displayNone\">\n",
      "<input data-column-name=\"a52_week_low_diff\" id=\"SS_52\" onclick=\"columnsSettings_stock_screener.onCheckboxClick(this);\" type=\"checkbox\" value=\"a52_week_low_diff\"/>\n",
      "<label class=\"pointer\" for=\"SS_52\" title=\"% Change from 52 wk Low\">\n",
      "% Change from 52 wk Low </label>\n",
      "</li>\n",
      "<li class=\"displayNone\">\n",
      "<input data-column-name=\"month_change\" id=\"SS_53\" onclick=\"columnsSettings_stock_screener.onCheckboxClick(this);\" type=\"checkbox\" value=\"month_change\"/>\n",
      "<label class=\"pointer\" for=\"SS_53\" title=\"Previous Month % Change\">\n",
      "Previous Month % Change </label>\n",
      "</li>\n",
      "<li class=\"displayNone\">\n",
      "<input data-column-name=\"ttmgrosmgn_us\" id=\"SS_54\" onclick=\"columnsSettings_stock_screener.onCheckboxClick(this);\" type=\"checkbox\" value=\"ttmgrosmgn_us\"/>\n",
      "<label class=\"pointer\" for=\"SS_54\" title=\"Gross margin (TTM)\">\n",
      "Gross margin (TTM) </label>\n",
      "</li>\n",
      "<li class=\"displayNone\">\n",
      "<input data-column-name=\"grosmgn5yr_us\" id=\"SS_55\" onclick=\"columnsSettings_stock_screener.onCheckboxClick(this);\" type=\"checkbox\" value=\"grosmgn5yr_us\"/>\n",
      "<label class=\"pointer\" for=\"SS_55\" title=\"Gross Margin (5YA)\">\n",
      "Gross Margin (5YA) </label>\n",
      "</li>\n",
      "<li class=\"displayNone\">\n",
      "<input data-column-name=\"ttmopmgn_us\" id=\"SS_56\" onclick=\"columnsSettings_stock_screener.onCheckboxClick(this);\" type=\"checkbox\" value=\"ttmopmgn_us\"/>\n",
      "<label class=\"pointer\" for=\"SS_56\" title=\"Operating margin (TTM)\">\n",
      "Operating margin (TTM) </label>\n",
      "</li>\n",
      "<li class=\"displayNone\">\n",
      "<input data-column-name=\"opmgn5yr_us\" id=\"SS_57\" onclick=\"columnsSettings_stock_screener.onCheckboxClick(this);\" type=\"checkbox\" value=\"opmgn5yr_us\"/>\n",
      "<label class=\"pointer\" for=\"SS_57\" title=\"Operating margin (5YA)\">\n",
      "Operating margin (5YA) </label>\n",
      "</li>\n",
      "<li class=\"displayNone\">\n",
      "<input data-column-name=\"ttmptmgn_us\" id=\"SS_58\" onclick=\"columnsSettings_stock_screener.onCheckboxClick(this);\" type=\"checkbox\" value=\"ttmptmgn_us\"/>\n",
      "<label class=\"pointer\" for=\"SS_58\" title=\"Pretax margin (TTM)\">\n",
      "Pretax margin (TTM) </label>\n",
      "</li>\n",
      "<li class=\"displayNone\">\n",
      "<input data-column-name=\"ptmgn5yr_us\" id=\"SS_59\" onclick=\"columnsSettings_stock_screener.onCheckboxClick(this);\" type=\"checkbox\" value=\"ptmgn5yr_us\"/>\n",
      "<label class=\"pointer\" for=\"SS_59\" title=\"Pretax margin (5YA)\">\n",
      "Pretax margin (5YA) </label>\n",
      "</li>\n",
      "<li class=\"displayNone\">\n",
      "<input data-column-name=\"ttmnpmgn_us\" id=\"SS_60\" onclick=\"columnsSettings_stock_screener.onCheckboxClick(this);\" type=\"checkbox\" value=\"ttmnpmgn_us\"/>\n",
      "<label class=\"pointer\" for=\"SS_60\" title=\"Net Profit margin (TTM)\">\n",
      "Net Profit margin (TTM) </label>\n",
      "</li>\n",
      "<li class=\"displayNone\">\n",
      "<input data-column-name=\"margin5yr_us\" id=\"SS_61\" onclick=\"columnsSettings_stock_screener.onCheckboxClick(this);\" type=\"checkbox\" value=\"margin5yr_us\"/>\n",
      "<label class=\"pointer\" for=\"SS_61\" title=\"Net Profit margin (5YA)\">\n",
      "Net Profit margin (5YA) </label>\n",
      "</li>\n",
      "<li class=\"displayNone\">\n",
      "<input data-column-name=\"qquickrati_us\" id=\"SS_62\" onclick=\"columnsSettings_stock_screener.onCheckboxClick(this);\" type=\"checkbox\" value=\"qquickrati_us\"/>\n",
      "<label class=\"pointer\" for=\"SS_62\" title=\"Quick Ratio (MRQ)\">\n",
      "Quick Ratio (MRQ) </label>\n",
      "</li>\n",
      "<li class=\"displayNone\">\n",
      "<input data-column-name=\"qcurratio_us\" id=\"SS_63\" onclick=\"columnsSettings_stock_screener.onCheckboxClick(this);\" type=\"checkbox\" value=\"qcurratio_us\"/>\n",
      "<label class=\"pointer\" for=\"SS_63\" title=\"Current Ratio (MRQ)\">\n",
      "Current Ratio (MRQ) </label>\n",
      "</li>\n",
      "<li class=\"displayNone\">\n",
      "<input data-column-name=\"qltd2eq_us\" id=\"SS_64\" onclick=\"columnsSettings_stock_screener.onCheckboxClick(this);\" type=\"checkbox\" value=\"qltd2eq_us\"/>\n",
      "<label class=\"pointer\" for=\"SS_64\" title=\"LT Debt to Equity (MRQ)\">\n",
      "LT Debt to Equity (MRQ) </label>\n",
      "</li>\n",
      "<li class=\"displayNone\">\n",
      "<input data-column-name=\"qtotd2eq_us\" id=\"SS_65\" onclick=\"columnsSettings_stock_screener.onCheckboxClick(this);\" type=\"checkbox\" value=\"qtotd2eq_us\"/>\n",
      "<label class=\"pointer\" for=\"SS_65\" title=\"Total Debt to Equity\">\n",
      "Total Debt to Equity </label>\n",
      "</li>\n",
      "<li class=\"displayNone\">\n",
      "<input data-column-name=\"yld5yavg_us\" id=\"SS_66\" onclick=\"columnsSettings_stock_screener.onCheckboxClick(this);\" type=\"checkbox\" value=\"yld5yavg_us\"/>\n",
      "<label class=\"pointer\" for=\"SS_66\" title=\"Dividend Yield 5 Year Avg. (5YA)\">\n",
      "Dividend Yield 5 Year Avg. (5YA) </label>\n",
      "</li>\n",
      "<li class=\"displayNone\">\n",
      "<input data-column-name=\"divgrpct_us\" id=\"SS_67\" onclick=\"columnsSettings_stock_screener.onCheckboxClick(this);\" type=\"checkbox\" value=\"divgrpct_us\"/>\n",
      "<label class=\"pointer\" for=\"SS_67\" title=\"Dividend Growth Rate (ANN)\">\n",
      "Dividend Growth Rate (ANN) </label>\n",
      "</li>\n",
      "<li class=\"displayNone\">\n",
      "<input data-column-name=\"ttmpayrat_us\" id=\"SS_68\" onclick=\"columnsSettings_stock_screener.onCheckboxClick(this);\" type=\"checkbox\" value=\"ttmpayrat_us\"/>\n",
      "<label class=\"pointer\" for=\"SS_68\" title=\"Payout Ratio (TTM)\">\n",
      "Payout Ratio (TTM) </label>\n",
      "</li>\n",
      "<li class=\"displayNone\">\n",
      "<input data-column-name=\"ADX\" id=\"SS_69\" onclick=\"columnsSettings_stock_screener.onCheckboxClick(this);\" type=\"checkbox\" value=\"ADX\"/>\n",
      "<label class=\"pointer\" for=\"SS_69\" title=\"ADX (14 / 1D)\">\n",
      "ADX (14 / 1D) </label>\n",
      "</li>\n",
      "<li class=\"displayNone\">\n",
      "<input data-column-name=\"ATR\" id=\"SS_70\" onclick=\"columnsSettings_stock_screener.onCheckboxClick(this);\" type=\"checkbox\" value=\"ATR\"/>\n",
      "<label class=\"pointer\" for=\"SS_70\" title=\"ATR (14 / 1D)\">\n",
      "ATR (14 / 1D) </label>\n",
      "</li>\n",
      "<li class=\"displayNone\">\n",
      "<input data-column-name=\"BullBear\" id=\"SS_71\" onclick=\"columnsSettings_stock_screener.onCheckboxClick(this);\" type=\"checkbox\" value=\"BullBear\"/>\n",
      "<label class=\"pointer\" for=\"SS_71\" title=\"Bull/Bear Power (13 / 1D)\">\n",
      "Bull/Bear Power (13 / 1D) </label>\n",
      "</li>\n",
      "<li class=\"displayNone\">\n",
      "<input data-column-name=\"CCI\" id=\"SS_72\" onclick=\"columnsSettings_stock_screener.onCheckboxClick(this);\" type=\"checkbox\" value=\"CCI\"/>\n",
      "<label class=\"pointer\" for=\"SS_72\" title=\"CCI (14 / 1D)\">\n",
      "CCI (14 / 1D) </label>\n",
      "</li>\n",
      "<li class=\"displayNone\">\n",
      "<input data-column-name=\"HL\" id=\"SS_73\" onclick=\"columnsSettings_stock_screener.onCheckboxClick(this);\" type=\"checkbox\" value=\"HL\"/>\n",
      "<label class=\"pointer\" for=\"SS_73\" title=\"Highs/Lows (14 / 1D)\">\n",
      "Highs/Lows (14 / 1D) </label>\n",
      "</li>\n",
      "<li class=\"displayNone\">\n",
      "<input data-column-name=\"ROC\" id=\"SS_74\" onclick=\"columnsSettings_stock_screener.onCheckboxClick(this);\" type=\"checkbox\" value=\"ROC\"/>\n",
      "<label class=\"pointer\" for=\"SS_74\" title=\"ROC (1D)\">\n",
      "ROC (1D) </label>\n",
      "</li>\n",
      "<li class=\"displayNone\">\n",
      "<input data-column-name=\"RSI\" id=\"SS_75\" onclick=\"columnsSettings_stock_screener.onCheckboxClick(this);\" type=\"checkbox\" value=\"RSI\"/>\n",
      "<label class=\"pointer\" for=\"SS_75\" title=\"RSI (14 / 1D)\">\n",
      "RSI (14 / 1D) </label>\n",
      "</li>\n",
      "<li class=\"displayNone\">\n",
      "<input data-column-name=\"STOCH\" id=\"SS_76\" onclick=\"columnsSettings_stock_screener.onCheckboxClick(this);\" type=\"checkbox\" value=\"STOCH\"/>\n",
      "<label class=\"pointer\" for=\"SS_76\" title=\"STOCH (14 / 1D)\">\n",
      "STOCH (14 / 1D) </label>\n",
      "</li>\n",
      "<li class=\"displayNone\">\n",
      "<input data-column-name=\"STOCHRSI\" id=\"SS_77\" onclick=\"columnsSettings_stock_screener.onCheckboxClick(this);\" type=\"checkbox\" value=\"STOCHRSI\"/>\n",
      "<label class=\"pointer\" for=\"SS_77\" title=\"STOCHRSI (14 / 1D)\">\n",
      "STOCHRSI (14 / 1D) </label>\n",
      "</li>\n",
      "<li class=\"displayNone\">\n",
      "<input data-column-name=\"UO\" id=\"SS_78\" onclick=\"columnsSettings_stock_screener.onCheckboxClick(this);\" type=\"checkbox\" value=\"UO\"/>\n",
      "<label class=\"pointer\" for=\"SS_78\" title=\"Ultimate Oscillator (14 /1D)\">\n",
      "Ultimate Oscillator (14 /1D) </label>\n",
      "</li>\n",
      "<li class=\"displayNone\">\n",
      "<input data-column-name=\"WilliamsR\" id=\"SS_79\" onclick=\"columnsSettings_stock_screener.onCheckboxClick(this);\" type=\"checkbox\" value=\"WilliamsR\"/>\n",
      "<label class=\"pointer\" for=\"SS_79\" title=\"Williams %R (1D)\">\n",
      "Williams %R (1D) </label>\n",
      "</li>\n",
      "</ul>\n",
      "</div>\n",
      "<div>\n",
      "<div style=\"position: relative;vertical-align:middle;float:right;display:block;padding:3px 15px 0;white-space: nowrap;overflow: hidden;text-overflow: ellipsis;width: 130px;text-align:right;\">\n",
      "<a href=\"/pro/screener?entry=screener_column_settings\" style=\"font-family: Arial, Helvetica, sans-serif;font-style: normal;font-weight: bold;font-size: 11px;line-height: 31px;color: #164B93;text-decoration:none;\" target=\"_blank\">\n",
      "<img alt=\"InvestingPro\" height=\"15\" src=\"https://i-invdn-com.investing.com/InvestingProShield.svg\" style=\"vertical-align:middle;margin-right:4px;top:-2px;position:relative;\"/>Advanced Metrics </a>\n",
      "</div>\n",
      "<div class=\"colsSelectMessage\" id=\"resultsContainerColsSelectMessage\">\n",
      "Currently selected: <span>6</span> (max 8 ) </div>\n",
      "</div>\n",
      "</div>\n",
      "<div class=\"footer\">\n",
      "<a class=\"newBtn float_lang_base_2 noIcon Orange2\" href=\"javascript:void(0)\" id=\"selectColumnsButton_stock_screener\" onclick='columnsSettings_stock_screener.onApplyClick(window.stockScreenerColumnsApply, \"\");'>Apply</a> </div>\n",
      "</div>\n",
      "</form>\n",
      "<script>\n",
      "\t$('#colSelectPopup_stock_screener').click(function(e) {\n",
      "\t\te.stopPropagation();\n",
      "\t});\n",
      "</script>\n",
      "</th>\n",
      "</tr>\n",
      "</thead>\n",
      "<tbody><tr>\n",
      "<td class=\"flag\"><span class=\"ceFlags USA\"></span></td>\n",
      "<td class=\"symbol left bold elp\" data-column-name=\"name_trans\"><a href=\"/equities/microsoft-corp\" target=\"_blank\" title=\"Microsoft Corporation\">Microsoft</a></td>\n",
      "<td class=\"left\" data-column-name=\"viewData.symbol\">MSFT</td>\n",
      "<td class=\"left displayNone\" data-column-name=\"exchange_trans\">NASDAQ</td><td class=\"left displayNone\" data-column-name=\"sector_trans\">Technology</td><td class=\"left displayNone\" data-column-name=\"industry_trans\">Software &amp; IT Services</td><td data-column-name=\"last\">416.42</td><td data-column-name=\"pair_change_percent\">-2.07%</td><td data-column-name=\"eq_market_cap\">3.09T</td><td data-column-name=\"turnover_volume\">45.01M</td><td class=\"displayNone\" data-column-name=\"eq_pe_ratio\">37.47</td><td class=\"displayNone\" data-column-name=\"MACD\">3.77</td><td class=\"displayNone\" data-column-name=\"eq_revenue\">227.58B</td><td class=\"displayNone\" data-column-name=\"avg_volume\">22.15M</td><td class=\"displayNone\" data-column-name=\"eq_eps\">11.10</td><td class=\"displayNone\" data-column-name=\"eq_beta\">0.89</td><td class=\"displayNone\" data-column-name=\"eq_dividend\">3.00</td><td class=\"displayNone\" data-column-name=\"eq_yield\">-</td><td class=\"left displayNone\" data-column-name=\"tech_sum_900\">Strong Buy</td><td class=\"left displayNone\" data-column-name=\"tech_sum_3600\">Neutral</td><td class=\"left displayNone\" data-column-name=\"tech_sum_86400\">Strong Buy</td><td class=\"left displayNone\" data-column-name=\"tech_sum_week\">Strong Buy</td><td class=\"left displayNone\" data-column-name=\"tech_sum_month\">Strong Buy</td><td class=\"displayNone\" data-column-name=\"daily\">-2.07</td><td class=\"displayNone\" data-column-name=\"week\">2.51</td><td class=\"displayNone\" data-column-name=\"month\">3.06</td><td class=\"displayNone\" data-column-name=\"ytd\">10.74</td><td class=\"displayNone\" data-column-name=\"year\">49.02</td><td class=\"displayNone\" data-column-name=\"3year\">75.67</td><td class=\"displayNone\" data-column-name=\"eq_one_year_return\">50.77</td><td class=\"displayNone\" data-column-name=\"yield_us\">0.71%</td><td class=\"displayNone\" data-column-name=\"peexclxor_us\">37.29</td><td class=\"displayNone\" data-column-name=\"ttmpr2rev_us\">13.52</td><td class=\"displayNone\" data-column-name=\"aprfcfps_us\">30.35</td><td class=\"displayNone\" data-column-name=\"ttmprfcfps_us\">45.64</td><td class=\"displayNone\" data-column-name=\"price2bk_us\">12.92</td><td class=\"displayNone\" data-column-name=\"pr2tanbk_us\">35.41</td><td class=\"displayNone\" data-column-name=\"epschngyr_us\">33.49</td><td class=\"displayNone\" data-column-name=\"ttmepschg_us\">22.94</td><td class=\"displayNone\" data-column-name=\"epstrendgr_us\">35.19</td><td class=\"displayNone\" data-column-name=\"revchngyr_us\">17.58</td><td class=\"displayNone\" data-column-name=\"ttmrevchg_us\">11.51</td><td class=\"displayNone\" data-column-name=\"revtrendgr_us\">13.94</td><td class=\"displayNone\" data-column-name=\"csptrendgr_us\">19.30</td><td class=\"displayNone\" data-column-name=\"ttmastturn_us\">0.55</td><td class=\"displayNone\" data-column-name=\"ttminvturn_us\">29.90</td><td class=\"displayNone\" data-column-name=\"ttmrevpere_us\">1.03</td><td class=\"displayNone\" data-column-name=\"ttmniperem_us\">373.49</td><td class=\"displayNone\" data-column-name=\"ttmrecturn_us\">6.22</td><td class=\"displayNone\" data-column-name=\"a52_week_high\">427.82</td><td class=\"displayNone\" data-column-name=\"a52_week_low\">269.52</td><td class=\"displayNone\" data-column-name=\"a52_week_high_diff\">-2.66</td><td class=\"displayNone\" data-column-name=\"a52_week_low_diff\">54.50</td><td class=\"displayNone\" data-column-name=\"month_change\">4.04%</td><td class=\"displayNone\" data-column-name=\"ttmgrosmgn_us\">69.81</td><td class=\"displayNone\" data-column-name=\"grosmgn5yr_us\">68.18</td><td class=\"displayNone\" data-column-name=\"ttmopmgn_us\">44.59</td><td class=\"displayNone\" data-column-name=\"opmgn5yr_us\">39.81</td><td class=\"displayNone\" data-column-name=\"ttmptmgn_us\">44.47</td><td class=\"displayNone\" data-column-name=\"ptmgn5yr_us\">40.09</td><td class=\"displayNone\" data-column-name=\"ttmnpmgn_us\">36.27</td><td class=\"displayNone\" data-column-name=\"margin5yr_us\">34.18</td><td class=\"displayNone\" data-column-name=\"qquickrati_us\">1.02</td><td class=\"displayNone\" data-column-name=\"qcurratio_us\">1.22</td><td class=\"displayNone\" data-column-name=\"qltd2eq_us\">18.86</td><td class=\"displayNone\" data-column-name=\"qtotd2eq_us\">46.74</td><td class=\"displayNone\" data-column-name=\"yld5yavg_us\">1.08</td><td class=\"displayNone\" data-column-name=\"divgrpct_us\">9.68</td><td class=\"displayNone\" data-column-name=\"ttmpayrat_us\">25.12</td><td class=\"displayNone\" data-column-name=\"ADX\">15.13</td><td class=\"displayNone\" data-column-name=\"ATR\">7.82</td><td class=\"displayNone\" data-column-name=\"BullBear\">9.75</td><td class=\"displayNone\" data-column-name=\"CCI\">96.51</td><td class=\"displayNone\" data-column-name=\"HL\">2.54</td><td class=\"displayNone\" data-column-name=\"ROC\">2.17</td><td class=\"displayNone\" data-column-name=\"RSI\">56.25</td><td class=\"displayNone\" data-column-name=\"STOCH\">52.33</td><td class=\"displayNone\" data-column-name=\"STOCHRSI\">52.72</td><td class=\"displayNone\" data-column-name=\"UO\">63.27</td><td class=\"displayNone\" data-column-name=\"WilliamsR\">-38.80</td> <td></td>\n",
      "</tr><tr>\n",
      "<td class=\"flag\"><span class=\"ceFlags USA\"></span></td>\n",
      "<td class=\"symbol left bold elp\" data-column-name=\"name_trans\"><a href=\"/equities/apple-computer-inc\" target=\"_blank\" title=\"Apple Inc\">Apple</a></td>\n",
      "<td class=\"left\" data-column-name=\"viewData.symbol\">AAPL</td>\n",
      "<td class=\"left displayNone\" data-column-name=\"exchange_trans\">NASDAQ</td><td class=\"left displayNone\" data-column-name=\"sector_trans\">Technology</td><td class=\"left displayNone\" data-column-name=\"industry_trans\">Computers, Phones &amp; Household Electronics</td><td data-column-name=\"last\">172.62</td><td data-column-name=\"pair_change_percent\">-0.22%</td><td data-column-name=\"eq_market_cap\">2.67T</td><td data-column-name=\"turnover_volume\">121.61M</td><td class=\"displayNone\" data-column-name=\"eq_pe_ratio\">26.59</td><td class=\"displayNone\" data-column-name=\"MACD\">-3.68</td><td class=\"displayNone\" data-column-name=\"eq_revenue\">385.71B</td><td class=\"displayNone\" data-column-name=\"avg_volume\">56.78M</td><td class=\"displayNone\" data-column-name=\"eq_eps\">6.45</td><td class=\"displayNone\" data-column-name=\"eq_beta\">1.29</td><td class=\"displayNone\" data-column-name=\"eq_dividend\">0.96</td><td class=\"displayNone\" data-column-name=\"eq_yield\">-</td><td class=\"left displayNone\" data-column-name=\"tech_sum_900\">Strong Buy</td><td class=\"left displayNone\" data-column-name=\"tech_sum_3600\">Buy</td><td class=\"left displayNone\" data-column-name=\"tech_sum_86400\">Strong Sell</td><td class=\"left displayNone\" data-column-name=\"tech_sum_week\">Strong Sell</td><td class=\"left displayNone\" data-column-name=\"tech_sum_month\">Buy</td><td class=\"displayNone\" data-column-name=\"daily\">-0.22</td><td class=\"displayNone\" data-column-name=\"week\">1.11</td><td class=\"displayNone\" data-column-name=\"month\">-5.32</td><td class=\"displayNone\" data-column-name=\"ytd\">-10.34</td><td class=\"displayNone\" data-column-name=\"year\">11.37</td><td class=\"displayNone\" data-column-name=\"3year\">38.36</td><td class=\"displayNone\" data-column-name=\"eq_one_year_return\">10.76</td><td class=\"displayNone\" data-column-name=\"yield_us\">0.55%</td><td class=\"displayNone\" data-column-name=\"peexclxor_us\">26.12</td><td class=\"displayNone\" data-column-name=\"ttmpr2rev_us\">6.83</td><td class=\"displayNone\" data-column-name=\"aprfcfps_us\">23.67</td><td class=\"displayNone\" data-column-name=\"ttmprfcfps_us\">24.66</td><td class=\"displayNone\" data-column-name=\"price2bk_us\">35.57</td><td class=\"displayNone\" data-column-name=\"pr2tanbk_us\">36.18</td><td class=\"displayNone\" data-column-name=\"epschngyr_us\">15.85</td><td class=\"displayNone\" data-column-name=\"ttmepschg_us\">9.03</td><td class=\"displayNone\" data-column-name=\"epstrendgr_us\">15.45</td><td class=\"displayNone\" data-column-name=\"revchngyr_us\">2.07</td><td class=\"displayNone\" data-column-name=\"ttmrevchg_us\">-0.47</td><td class=\"displayNone\" data-column-name=\"revtrendgr_us\">7.61</td><td class=\"displayNone\" data-column-name=\"csptrendgr_us\">-3.82</td><td class=\"displayNone\" data-column-name=\"ttmastturn_us\">1.10</td><td class=\"displayNone\" data-column-name=\"ttminvturn_us\">31.81</td><td class=\"displayNone\" data-column-name=\"ttmrevpere_us\">2.40</td><td class=\"displayNone\" data-column-name=\"ttmniperem_us\">626.79</td><td class=\"displayNone\" data-column-name=\"ttmrecturn_us\">18.15</td><td class=\"displayNone\" data-column-name=\"a52_week_high\">199.62</td><td class=\"displayNone\" data-column-name=\"a52_week_low\">154.15</td><td class=\"displayNone\" data-column-name=\"a52_week_high_diff\">-13.53</td><td class=\"displayNone\" data-column-name=\"a52_week_low_diff\">11.98</td><td class=\"displayNone\" data-column-name=\"month_change\">-1.98%</td><td class=\"displayNone\" data-column-name=\"ttmgrosmgn_us\">45.03</td><td class=\"displayNone\" data-column-name=\"grosmgn5yr_us\">40.97</td><td class=\"displayNone\" data-column-name=\"ttmopmgn_us\">30.76</td><td class=\"displayNone\" data-column-name=\"opmgn5yr_us\">27.74</td><td class=\"displayNone\" data-column-name=\"ttmptmgn_us\">30.71</td><td class=\"displayNone\" data-column-name=\"ptmgn5yr_us\">27.92</td><td class=\"displayNone\" data-column-name=\"ttmnpmgn_us\">26.16</td><td class=\"displayNone\" data-column-name=\"margin5yr_us\">23.76</td><td class=\"displayNone\" data-column-name=\"qquickrati_us\">0.72</td><td class=\"displayNone\" data-column-name=\"qcurratio_us\">1.07</td><td class=\"displayNone\" data-column-name=\"qltd2eq_us\">128.32</td><td class=\"displayNone\" data-column-name=\"qtotd2eq_us\">145.80</td><td class=\"displayNone\" data-column-name=\"yld5yavg_us\">0.82</td><td class=\"displayNone\" data-column-name=\"divgrpct_us\">4.35</td><td class=\"displayNone\" data-column-name=\"ttmpayrat_us\">14.95</td><td class=\"displayNone\" data-column-name=\"ADX\">43.44</td><td class=\"displayNone\" data-column-name=\"ATR\">3.55</td><td class=\"displayNone\" data-column-name=\"BullBear\">-5.53</td><td class=\"displayNone\" data-column-name=\"CCI\">-54.97</td><td class=\"displayNone\" data-column-name=\"HL\">-0.45</td><td class=\"displayNone\" data-column-name=\"ROC\">-4.74</td><td class=\"displayNone\" data-column-name=\"RSI\">36.87</td><td class=\"displayNone\" data-column-name=\"STOCH\">37.02</td><td class=\"displayNone\" data-column-name=\"STOCHRSI\">74.62</td><td class=\"displayNone\" data-column-name=\"UO\">47.28</td><td class=\"displayNone\" data-column-name=\"WilliamsR\">-73.56</td> <td></td>\n",
      "</tr><tr>\n",
      "<td class=\"flag\"><span class=\"ceFlags USA\"></span></td>\n",
      "<td class=\"symbol left bold elp\" data-column-name=\"name_trans\"><a href=\"/equities/nvidia-corp\" target=\"_blank\" title=\"NVIDIA Corporation\">NVIDIA</a></td>\n",
      "<td class=\"left\" data-column-name=\"viewData.symbol\">NVDA</td>\n",
      "<td class=\"left displayNone\" data-column-name=\"exchange_trans\">NASDAQ</td><td class=\"left displayNone\" data-column-name=\"sector_trans\">Technology</td><td class=\"left displayNone\" data-column-name=\"industry_trans\">Semiconductors &amp; Semiconductor Equipment</td><td data-column-name=\"last\">878.36</td><td data-column-name=\"pair_change_percent\">-0.12%</td><td data-column-name=\"eq_market_cap\">2.16T</td><td data-column-name=\"turnover_volume\">63.91M</td><td class=\"displayNone\" data-column-name=\"eq_pe_ratio\">73.72</td><td class=\"displayNone\" data-column-name=\"MACD\">59.65</td><td class=\"displayNone\" data-column-name=\"eq_revenue\">60.92B</td><td class=\"displayNone\" data-column-name=\"avg_volume\">49.85M</td><td class=\"displayNone\" data-column-name=\"eq_eps\">12.05</td><td class=\"displayNone\" data-column-name=\"eq_beta\">1.72</td><td class=\"displayNone\" data-column-name=\"eq_dividend\">0.16</td><td class=\"displayNone\" data-column-name=\"eq_yield\">-</td><td class=\"left displayNone\" data-column-name=\"tech_sum_900\">Strong Sell</td><td class=\"left displayNone\" data-column-name=\"tech_sum_3600\">Sell</td><td class=\"left displayNone\" data-column-name=\"tech_sum_86400\">Strong Buy</td><td class=\"left displayNone\" data-column-name=\"tech_sum_week\">Strong Buy</td><td class=\"left displayNone\" data-column-name=\"tech_sum_month\">Strong Buy</td><td class=\"displayNone\" data-column-name=\"daily\">-0.12</td><td class=\"displayNone\" data-column-name=\"week\">0.35</td><td class=\"displayNone\" data-column-name=\"month\">20.96</td><td class=\"displayNone\" data-column-name=\"ytd\">77.37</td><td class=\"displayNone\" data-column-name=\"year\">241.44</td><td class=\"displayNone\" data-column-name=\"3year\">558.38</td><td class=\"displayNone\" data-column-name=\"eq_one_year_return\">243.90</td><td class=\"displayNone\" data-column-name=\"yield_us\">0.02%</td><td class=\"displayNone\" data-column-name=\"peexclxor_us\">71.85</td><td class=\"displayNone\" data-column-name=\"ttmpr2rev_us\">35.10</td><td class=\"displayNone\" data-column-name=\"aprfcfps_us\">76.12</td><td class=\"displayNone\" data-column-name=\"ttmprfcfps_us\">79.13</td><td class=\"displayNone\" data-column-name=\"price2bk_us\">49.75</td><td class=\"displayNone\" data-column-name=\"pr2tanbk_us\">58.07</td><td class=\"displayNone\" data-column-name=\"epschngyr_us\">768.11</td><td class=\"displayNone\" data-column-name=\"ttmepschg_us\">586.29</td><td class=\"displayNone\" data-column-name=\"epstrendgr_us\">47.91</td><td class=\"displayNone\" data-column-name=\"revchngyr_us\">265.28</td><td class=\"displayNone\" data-column-name=\"ttmrevchg_us\">125.85</td><td class=\"displayNone\" data-column-name=\"revtrendgr_us\">39.06</td><td class=\"displayNone\" data-column-name=\"csptrendgr_us\">12.24</td><td class=\"displayNone\" data-column-name=\"ttmastturn_us\">1.14</td><td class=\"displayNone\" data-column-name=\"ttminvturn_us\">3.18</td><td class=\"displayNone\" data-column-name=\"ttmrevpere_us\">2.06</td><td class=\"displayNone\" data-column-name=\"ttmniperem_us\">1.01</td><td class=\"displayNone\" data-column-name=\"ttmrecturn_us\">9.66</td><td class=\"displayNone\" data-column-name=\"a52_week_high\">974</td><td class=\"displayNone\" data-column-name=\"a52_week_low\">251.3</td><td class=\"displayNone\" data-column-name=\"a52_week_high_diff\">-9.82</td><td class=\"displayNone\" data-column-name=\"a52_week_low_diff\">249.53</td><td class=\"displayNone\" data-column-name=\"month_change\">28.58%</td><td class=\"displayNone\" data-column-name=\"ttmgrosmgn_us\">72.72</td><td class=\"displayNone\" data-column-name=\"grosmgn5yr_us\">62.73</td><td class=\"displayNone\" data-column-name=\"ttmopmgn_us\">54.12</td><td class=\"displayNone\" data-column-name=\"opmgn5yr_us\">30.66</td><td class=\"displayNone\" data-column-name=\"ttmptmgn_us\">55.51</td><td class=\"displayNone\" data-column-name=\"ptmgn5yr_us\">29.72</td><td class=\"displayNone\" data-column-name=\"ttmnpmgn_us\">48.85</td><td class=\"displayNone\" data-column-name=\"margin5yr_us\">28.97</td><td class=\"displayNone\" data-column-name=\"qquickrati_us\">3.38</td><td class=\"displayNone\" data-column-name=\"qcurratio_us\">4.17</td><td class=\"displayNone\" data-column-name=\"qltd2eq_us\">19.68</td><td class=\"displayNone\" data-column-name=\"qtotd2eq_us\">25.72</td><td class=\"displayNone\" data-column-name=\"yld5yavg_us\">0.14</td><td class=\"displayNone\" data-column-name=\"divgrpct_us\">1.61</td><td class=\"displayNone\" data-column-name=\"ttmpayrat_us\">1.33</td><td class=\"displayNone\" data-column-name=\"ADX\">38.17</td><td class=\"displayNone\" data-column-name=\"ATR\">41.66</td><td class=\"displayNone\" data-column-name=\"BullBear\">38.54</td><td class=\"displayNone\" data-column-name=\"CCI\">44.78</td><td class=\"displayNone\" data-column-name=\"HL\">2.16</td><td class=\"displayNone\" data-column-name=\"ROC\">11.07</td><td class=\"displayNone\" data-column-name=\"RSI\">63.29</td><td class=\"displayNone\" data-column-name=\"STOCH\">48.83</td><td class=\"displayNone\" data-column-name=\"STOCHRSI\">0.00</td><td class=\"displayNone\" data-column-name=\"UO\">52.55</td><td class=\"displayNone\" data-column-name=\"WilliamsR\">-47.12</td> <td></td>\n",
      "</tr><tr>\n",
      "<td class=\"flag\"><span class=\"ceFlags USA\"></span></td>\n",
      "<td class=\"symbol left bold elp\" data-column-name=\"name_trans\"><a href=\"/equities/amazon-com-inc\" target=\"_blank\" title=\"Amazon.com Inc\">Amazon.com</a></td>\n",
      "<td class=\"left\" data-column-name=\"viewData.symbol\">AMZN</td>\n",
      "<td class=\"left displayNone\" data-column-name=\"exchange_trans\">NASDAQ</td><td class=\"left displayNone\" data-column-name=\"sector_trans\">Consumer Cyclicals</td><td class=\"left displayNone\" data-column-name=\"industry_trans\">Diversified Retail</td><td data-column-name=\"last\">174.42</td><td data-column-name=\"pair_change_percent\">-2.42%</td><td data-column-name=\"eq_market_cap\">1.81T</td><td data-column-name=\"turnover_volume\">72.11M</td><td class=\"displayNone\" data-column-name=\"eq_pe_ratio\">61.64</td><td class=\"displayNone\" data-column-name=\"MACD\">2.98</td><td class=\"displayNone\" data-column-name=\"eq_revenue\">574.79B</td><td class=\"displayNone\" data-column-name=\"avg_volume\">44.09M</td><td class=\"displayNone\" data-column-name=\"eq_eps\">2.95</td><td class=\"displayNone\" data-column-name=\"eq_beta\">1.17</td><td class=\"displayNone\" data-column-name=\"eq_dividend\">-</td><td class=\"displayNone\" data-column-name=\"eq_yield\">-</td><td class=\"left displayNone\" data-column-name=\"tech_sum_900\">Strong Sell</td><td class=\"left displayNone\" data-column-name=\"tech_sum_3600\">Strong Sell</td><td class=\"left displayNone\" data-column-name=\"tech_sum_86400\">Neutral</td><td class=\"left displayNone\" data-column-name=\"tech_sum_week\">Strong Buy</td><td class=\"left displayNone\" data-column-name=\"tech_sum_month\">Strong Buy</td><td class=\"displayNone\" data-column-name=\"daily\">-2.42</td><td class=\"displayNone\" data-column-name=\"week\">-0.53</td><td class=\"displayNone\" data-column-name=\"month\">2.90</td><td class=\"displayNone\" data-column-name=\"ytd\">14.80</td><td class=\"displayNone\" data-column-name=\"year\">76.27</td><td class=\"displayNone\" data-column-name=\"3year\">11.24</td><td class=\"displayNone\" data-column-name=\"eq_one_year_return\">74.35</td><td class=\"displayNone\" data-column-name=\"yield_us\">-</td><td class=\"displayNone\" data-column-name=\"peexclxor_us\">59.55</td><td class=\"displayNone\" data-column-name=\"ttmpr2rev_us\">3.15</td><td class=\"displayNone\" data-column-name=\"aprfcfps_us\">21.33</td><td class=\"displayNone\" data-column-name=\"ttmprfcfps_us\">56.24</td><td class=\"displayNone\" data-column-name=\"price2bk_us\">8.97</td><td class=\"displayNone\" data-column-name=\"pr2tanbk_us\">10.57</td><td class=\"displayNone\" data-column-name=\"epschngyr_us\">3.67K</td><td class=\"displayNone\" data-column-name=\"ttmepschg_us\">1.21K</td><td class=\"displayNone\" data-column-name=\"epstrendgr_us\">23.35</td><td class=\"displayNone\" data-column-name=\"revchngyr_us\">13.91</td><td class=\"displayNone\" data-column-name=\"ttmrevchg_us\">11.83</td><td class=\"displayNone\" data-column-name=\"revtrendgr_us\">19.80</td><td class=\"displayNone\" data-column-name=\"csptrendgr_us\">31.47</td><td class=\"displayNone\" data-column-name=\"ttmastturn_us\">1.16</td><td class=\"displayNone\" data-column-name=\"ttminvturn_us\">9.00</td><td class=\"displayNone\" data-column-name=\"ttmrevpere_us\">376.91</td><td class=\"displayNone\" data-column-name=\"ttmniperem_us\">19.95</td><td class=\"displayNone\" data-column-name=\"ttmrecturn_us\">17.14</td><td class=\"displayNone\" data-column-name=\"a52_week_high\">180.14</td><td class=\"displayNone\" data-column-name=\"a52_week_low\">95.7</td><td class=\"displayNone\" data-column-name=\"a52_week_high_diff\">-3.18</td><td class=\"displayNone\" data-column-name=\"a52_week_low_diff\">82.26</td><td class=\"displayNone\" data-column-name=\"month_change\">13.89%</td><td class=\"displayNone\" data-column-name=\"ttmgrosmgn_us\">46.98</td><td class=\"displayNone\" data-column-name=\"grosmgn5yr_us\">42.21</td><td class=\"displayNone\" data-column-name=\"ttmopmgn_us\">6.41</td><td class=\"displayNone\" data-column-name=\"opmgn5yr_us\">4.93</td><td class=\"displayNone\" data-column-name=\"ttmptmgn_us\">6.53</td><td class=\"displayNone\" data-column-name=\"ptmgn5yr_us\">4.72</td><td class=\"displayNone\" data-column-name=\"ttmnpmgn_us\">5.29</td><td class=\"displayNone\" data-column-name=\"margin5yr_us\">4.15</td><td class=\"displayNone\" data-column-name=\"qquickrati_us\">0.80</td><td class=\"displayNone\" data-column-name=\"qcurratio_us\">1.05</td><td class=\"displayNone\" data-column-name=\"qltd2eq_us\">32.16</td><td class=\"displayNone\" data-column-name=\"qtotd2eq_us\">80.04</td><td class=\"displayNone\" data-column-name=\"yld5yavg_us\">-</td><td class=\"displayNone\" data-column-name=\"divgrpct_us\">0.00</td><td class=\"displayNone\" data-column-name=\"ttmpayrat_us\">0.00</td><td class=\"displayNone\" data-column-name=\"ADX\">14.19</td><td class=\"displayNone\" data-column-name=\"ATR\">3.47</td><td class=\"displayNone\" data-column-name=\"BullBear\">1.49</td><td class=\"displayNone\" data-column-name=\"CCI\">-7.44</td><td class=\"displayNone\" data-column-name=\"HL\">0.00</td><td class=\"displayNone\" data-column-name=\"ROC\">-0.17</td><td class=\"displayNone\" data-column-name=\"RSI\">53.78</td><td class=\"displayNone\" data-column-name=\"STOCH\">45.85</td><td class=\"displayNone\" data-column-name=\"STOCHRSI\">10.20</td><td class=\"displayNone\" data-column-name=\"UO\">44.98</td><td class=\"displayNone\" data-column-name=\"WilliamsR\">-65.74</td> <td></td>\n",
      "</tr><tr>\n",
      "<td class=\"flag\"><span class=\"ceFlags USA\"></span></td>\n",
      "<td class=\"symbol left bold elp\" data-column-name=\"name_trans\"><a href=\"/equities/google-inc-c\" target=\"_blank\" title=\"Alphabet Inc Class C\">Alphabet C</a></td>\n",
      "<td class=\"left\" data-column-name=\"viewData.symbol\">GOOG</td>\n",
      "<td class=\"left displayNone\" data-column-name=\"exchange_trans\">NASDAQ</td><td class=\"left displayNone\" data-column-name=\"sector_trans\">Technology</td><td class=\"left displayNone\" data-column-name=\"industry_trans\">Software &amp; IT Services</td><td data-column-name=\"last\">142.17</td><td data-column-name=\"pair_change_percent\">-1.5%</td><td data-column-name=\"eq_market_cap\">1.76T</td><td data-column-name=\"turnover_volume\">35.29M</td><td class=\"displayNone\" data-column-name=\"eq_pe_ratio\">24.16</td><td class=\"displayNone\" data-column-name=\"MACD\">-0.83</td><td class=\"displayNone\" data-column-name=\"eq_revenue\">307.39B</td><td class=\"displayNone\" data-column-name=\"avg_volume\">22.30M</td><td class=\"displayNone\" data-column-name=\"eq_eps\">5.84</td><td class=\"displayNone\" data-column-name=\"eq_beta\">1.06</td><td class=\"displayNone\" data-column-name=\"eq_dividend\">-</td><td class=\"displayNone\" data-column-name=\"eq_yield\">-</td><td class=\"left displayNone\" data-column-name=\"tech_sum_900\">Strong Buy</td><td class=\"left displayNone\" data-column-name=\"tech_sum_3600\">Neutral</td><td class=\"left displayNone\" data-column-name=\"tech_sum_86400\">Strong Buy</td><td class=\"left displayNone\" data-column-name=\"tech_sum_week\">Buy</td><td class=\"left displayNone\" data-column-name=\"tech_sum_month\">Strong Buy</td><td class=\"displayNone\" data-column-name=\"daily\">-1.50</td><td class=\"displayNone\" data-column-name=\"week\">4.31</td><td class=\"displayNone\" data-column-name=\"month\">0.29</td><td class=\"displayNone\" data-column-name=\"ytd\">0.88</td><td class=\"displayNone\" data-column-name=\"year\">38.76</td><td class=\"displayNone\" data-column-name=\"3year\">35.98</td><td class=\"displayNone\" data-column-name=\"eq_one_year_return\">40.66</td><td class=\"displayNone\" data-column-name=\"yield_us\">-</td><td class=\"displayNone\" data-column-name=\"peexclxor_us\">23.86</td><td class=\"displayNone\" data-column-name=\"ttmpr2rev_us\">5.73</td><td class=\"displayNone\" data-column-name=\"aprfcfps_us\">17.31</td><td class=\"displayNone\" data-column-name=\"ttmprfcfps_us\">25.34</td><td class=\"displayNone\" data-column-name=\"price2bk_us\">6.21</td><td class=\"displayNone\" data-column-name=\"pr2tanbk_us\">6.92</td><td class=\"displayNone\" data-column-name=\"epschngyr_us\">56.82</td><td class=\"displayNone\" data-column-name=\"ttmepschg_us\">27.27</td><td class=\"displayNone\" data-column-name=\"epstrendgr_us\">21.46</td><td class=\"displayNone\" data-column-name=\"revchngyr_us\">13.49</td><td class=\"displayNone\" data-column-name=\"ttmrevchg_us\">8.68</td><td class=\"displayNone\" data-column-name=\"revtrendgr_us\">17.57</td><td class=\"displayNone\" data-column-name=\"csptrendgr_us\">5.11</td><td class=\"displayNone\" data-column-name=\"ttmastturn_us\">0.80</td><td class=\"displayNone\" data-column-name=\"ttminvturn_us\">0.00</td><td class=\"displayNone\" data-column-name=\"ttmrevpere_us\">1.68</td><td class=\"displayNone\" data-column-name=\"ttmniperem_us\">404.35</td><td class=\"displayNone\" data-column-name=\"ttmrecturn_us\">7.76</td><td class=\"displayNone\" data-column-name=\"a52_week_high\">155.2</td><td class=\"displayNone\" data-column-name=\"a52_week_low\">100.28</td><td class=\"displayNone\" data-column-name=\"a52_week_high_diff\">-8.40</td><td class=\"displayNone\" data-column-name=\"a52_week_low_diff\">41.77</td><td class=\"displayNone\" data-column-name=\"month_change\">-1.42%</td><td class=\"displayNone\" data-column-name=\"ttmgrosmgn_us\">56.94</td><td class=\"displayNone\" data-column-name=\"grosmgn5yr_us\">55.62</td><td class=\"displayNone\" data-column-name=\"ttmopmgn_us\">28.70</td><td class=\"displayNone\" data-column-name=\"opmgn5yr_us\">25.66</td><td class=\"displayNone\" data-column-name=\"ttmptmgn_us\">27.89</td><td class=\"displayNone\" data-column-name=\"ptmgn5yr_us\">27.58</td><td class=\"displayNone\" data-column-name=\"ttmnpmgn_us\">24.01</td><td class=\"displayNone\" data-column-name=\"margin5yr_us\">23.41</td><td class=\"displayNone\" data-column-name=\"qquickrati_us\">1.94</td><td class=\"displayNone\" data-column-name=\"qcurratio_us\">2.10</td><td class=\"displayNone\" data-column-name=\"qltd2eq_us\">4.19</td><td class=\"displayNone\" data-column-name=\"qtotd2eq_us\">10.54</td><td class=\"displayNone\" data-column-name=\"yld5yavg_us\">0.00</td><td class=\"displayNone\" data-column-name=\"divgrpct_us\">0.00</td><td class=\"displayNone\" data-column-name=\"ttmpayrat_us\">0.00</td><td class=\"displayNone\" data-column-name=\"ADX\">30.03</td><td class=\"displayNone\" data-column-name=\"ATR\">3.11</td><td class=\"displayNone\" data-column-name=\"BullBear\">5.41</td><td class=\"displayNone\" data-column-name=\"CCI\">117.63</td><td class=\"displayNone\" data-column-name=\"HL\">2.78</td><td class=\"displayNone\" data-column-name=\"ROC\">2.46</td><td class=\"displayNone\" data-column-name=\"RSI\">52.75</td><td class=\"displayNone\" data-column-name=\"STOCH\">66.81</td><td class=\"displayNone\" data-column-name=\"STOCHRSI\">81.66</td><td class=\"displayNone\" data-column-name=\"UO\">56.77</td><td class=\"displayNone\" data-column-name=\"WilliamsR\">-19.42</td> <td></td>\n",
      "</tr><tr>\n",
      "<td class=\"flag\"><span class=\"ceFlags USA\"></span></td>\n",
      "<td class=\"symbol left bold elp\" data-column-name=\"name_trans\"><a href=\"/equities/google-inc\" target=\"_blank\" title=\"Alphabet Inc Class A\">Alphabet A</a></td>\n",
      "<td class=\"left\" data-column-name=\"viewData.symbol\">GOOGL</td>\n",
      "<td class=\"left displayNone\" data-column-name=\"exchange_trans\">NASDAQ</td><td class=\"left displayNone\" data-column-name=\"sector_trans\">Technology</td><td class=\"left displayNone\" data-column-name=\"industry_trans\">Software &amp; IT Services</td><td data-column-name=\"last\">141.18</td><td data-column-name=\"pair_change_percent\">-1.34%</td><td data-column-name=\"eq_market_cap\">1.76T</td><td data-column-name=\"turnover_volume\">49.46M</td><td class=\"displayNone\" data-column-name=\"eq_pe_ratio\">24.32</td><td class=\"displayNone\" data-column-name=\"MACD\">-0.75</td><td class=\"displayNone\" data-column-name=\"eq_revenue\">307.39B</td><td class=\"displayNone\" data-column-name=\"avg_volume\">30.12M</td><td class=\"displayNone\" data-column-name=\"eq_eps\">5.84</td><td class=\"displayNone\" data-column-name=\"eq_beta\">1.06</td><td class=\"displayNone\" data-column-name=\"eq_dividend\">-</td><td class=\"displayNone\" data-column-name=\"eq_yield\">-</td><td class=\"left displayNone\" data-column-name=\"tech_sum_900\">Strong Buy</td><td class=\"left displayNone\" data-column-name=\"tech_sum_3600\">Buy</td><td class=\"left displayNone\" data-column-name=\"tech_sum_86400\">Strong Buy</td><td class=\"left displayNone\" data-column-name=\"tech_sum_week\">Neutral</td><td class=\"left displayNone\" data-column-name=\"tech_sum_month\">Strong Buy</td><td class=\"displayNone\" data-column-name=\"daily\">-1.34</td><td class=\"displayNone\" data-column-name=\"week\">4.26</td><td class=\"displayNone\" data-column-name=\"month\">0.47</td><td class=\"displayNone\" data-column-name=\"ytd\">1.07</td><td class=\"displayNone\" data-column-name=\"year\">38.93</td><td class=\"displayNone\" data-column-name=\"3year\">35.61</td><td class=\"displayNone\" data-column-name=\"eq_one_year_return\">40.73</td><td class=\"displayNone\" data-column-name=\"yield_us\">-</td><td class=\"displayNone\" data-column-name=\"peexclxor_us\">23.79</td><td class=\"displayNone\" data-column-name=\"ttmpr2rev_us\">5.71</td><td class=\"displayNone\" data-column-name=\"aprfcfps_us\">17.26</td><td class=\"displayNone\" data-column-name=\"ttmprfcfps_us\">25.26</td><td class=\"displayNone\" data-column-name=\"price2bk_us\">6.20</td><td class=\"displayNone\" data-column-name=\"pr2tanbk_us\">7.00</td><td class=\"displayNone\" data-column-name=\"epschngyr_us\">56.82</td><td class=\"displayNone\" data-column-name=\"ttmepschg_us\">27.27</td><td class=\"displayNone\" data-column-name=\"epstrendgr_us\">21.46</td><td class=\"displayNone\" data-column-name=\"revchngyr_us\">13.49</td><td class=\"displayNone\" data-column-name=\"ttmrevchg_us\">8.68</td><td class=\"displayNone\" data-column-name=\"revtrendgr_us\">17.57</td><td class=\"displayNone\" data-column-name=\"csptrendgr_us\">5.11</td><td class=\"displayNone\" data-column-name=\"ttmastturn_us\">0.80</td><td class=\"displayNone\" data-column-name=\"ttminvturn_us\">0.00</td><td class=\"displayNone\" data-column-name=\"ttmrevpere_us\">1.68</td><td class=\"displayNone\" data-column-name=\"ttmniperem_us\">404.35</td><td class=\"displayNone\" data-column-name=\"ttmrecturn_us\">7.76</td><td class=\"displayNone\" data-column-name=\"a52_week_high\">153.78</td><td class=\"displayNone\" data-column-name=\"a52_week_low\">99.74</td><td class=\"displayNone\" data-column-name=\"a52_week_high_diff\">-8.19</td><td class=\"displayNone\" data-column-name=\"a52_week_low_diff\">41.55</td><td class=\"displayNone\" data-column-name=\"month_change\">-1.17%</td><td class=\"displayNone\" data-column-name=\"ttmgrosmgn_us\">56.94</td><td class=\"displayNone\" data-column-name=\"grosmgn5yr_us\">55.62</td><td class=\"displayNone\" data-column-name=\"ttmopmgn_us\">28.70</td><td class=\"displayNone\" data-column-name=\"opmgn5yr_us\">25.66</td><td class=\"displayNone\" data-column-name=\"ttmptmgn_us\">27.89</td><td class=\"displayNone\" data-column-name=\"ptmgn5yr_us\">27.58</td><td class=\"displayNone\" data-column-name=\"ttmnpmgn_us\">24.01</td><td class=\"displayNone\" data-column-name=\"margin5yr_us\">23.41</td><td class=\"displayNone\" data-column-name=\"qquickrati_us\">1.94</td><td class=\"displayNone\" data-column-name=\"qcurratio_us\">2.10</td><td class=\"displayNone\" data-column-name=\"qltd2eq_us\">4.19</td><td class=\"displayNone\" data-column-name=\"qtotd2eq_us\">10.54</td><td class=\"displayNone\" data-column-name=\"yld5yavg_us\">0.00</td><td class=\"displayNone\" data-column-name=\"divgrpct_us\">0.00</td><td class=\"displayNone\" data-column-name=\"ttmpayrat_us\">0.00</td><td class=\"displayNone\" data-column-name=\"ADX\">29.07</td><td class=\"displayNone\" data-column-name=\"ATR\">3.13</td><td class=\"displayNone\" data-column-name=\"BullBear\">5.29</td><td class=\"displayNone\" data-column-name=\"CCI\">120.31</td><td class=\"displayNone\" data-column-name=\"HL\">2.91</td><td class=\"displayNone\" data-column-name=\"ROC\">2.67</td><td class=\"displayNone\" data-column-name=\"RSI\">53.27</td><td class=\"displayNone\" data-column-name=\"STOCH\">66.73</td><td class=\"displayNone\" data-column-name=\"STOCHRSI\">84.02</td><td class=\"displayNone\" data-column-name=\"UO\">56.41</td><td class=\"displayNone\" data-column-name=\"WilliamsR\">-18.07</td> <td></td>\n",
      "</tr><tr>\n",
      "<td class=\"flag\"><span class=\"ceFlags USA\"></span></td>\n",
      "<td class=\"symbol left bold elp\" data-column-name=\"name_trans\"><a href=\"/equities/facebook-inc\" target=\"_blank\" title=\"Meta Platforms Inc\">Meta Platforms</a></td>\n",
      "<td class=\"left\" data-column-name=\"viewData.symbol\">META</td>\n",
      "<td class=\"left displayNone\" data-column-name=\"exchange_trans\">NASDAQ</td><td class=\"left displayNone\" data-column-name=\"sector_trans\">Technology</td><td class=\"left displayNone\" data-column-name=\"industry_trans\">Software &amp; IT Services</td><td data-column-name=\"last\">484.1</td><td data-column-name=\"pair_change_percent\">-1.57%</td><td data-column-name=\"eq_market_cap\">1.23T</td><td data-column-name=\"turnover_volume\">24.67M</td><td class=\"displayNone\" data-column-name=\"eq_pe_ratio\">31.73</td><td class=\"displayNone\" data-column-name=\"MACD\">15.80</td><td class=\"displayNone\" data-column-name=\"eq_revenue\">134.90B</td><td class=\"displayNone\" data-column-name=\"avg_volume\">17.89M</td><td class=\"displayNone\" data-column-name=\"eq_eps\">15.19</td><td class=\"displayNone\" data-column-name=\"eq_beta\">1.15</td><td class=\"displayNone\" data-column-name=\"eq_dividend\">2.00</td><td class=\"displayNone\" data-column-name=\"eq_yield\">-</td><td class=\"left displayNone\" data-column-name=\"tech_sum_900\">Neutral</td><td class=\"left displayNone\" data-column-name=\"tech_sum_3600\">Strong Sell</td><td class=\"left displayNone\" data-column-name=\"tech_sum_86400\">Neutral</td><td class=\"left displayNone\" data-column-name=\"tech_sum_week\">Strong Buy</td><td class=\"left displayNone\" data-column-name=\"tech_sum_month\">Strong Buy</td><td class=\"displayNone\" data-column-name=\"daily\">-1.57</td><td class=\"displayNone\" data-column-name=\"week\">-4.32</td><td class=\"displayNone\" data-column-name=\"month\">2.28</td><td class=\"displayNone\" data-column-name=\"ytd\">36.77</td><td class=\"displayNone\" data-column-name=\"year\">147.48</td><td class=\"displayNone\" data-column-name=\"3year\">70.45</td><td class=\"displayNone\" data-column-name=\"eq_one_year_return\">136.23</td><td class=\"displayNone\" data-column-name=\"yield_us\">0.41%</td><td class=\"displayNone\" data-column-name=\"peexclxor_us\">31.55</td><td class=\"displayNone\" data-column-name=\"ttmpr2rev_us\">9.14</td><td class=\"displayNone\" data-column-name=\"aprfcfps_us\">17.35</td><td class=\"displayNone\" data-column-name=\"ttmprfcfps_us\">28.13</td><td class=\"displayNone\" data-column-name=\"price2bk_us\">8.05</td><td class=\"displayNone\" data-column-name=\"pr2tanbk_us\">9.62</td><td class=\"displayNone\" data-column-name=\"epschngyr_us\">209.82</td><td class=\"displayNone\" data-column-name=\"ttmepschg_us\">75.92</td><td class=\"displayNone\" data-column-name=\"epstrendgr_us\">14.70</td><td class=\"displayNone\" data-column-name=\"revchngyr_us\">24.70</td><td class=\"displayNone\" data-column-name=\"ttmrevchg_us\">15.69</td><td class=\"displayNone\" data-column-name=\"revtrendgr_us\">19.29</td><td class=\"displayNone\" data-column-name=\"csptrendgr_us\">14.40</td><td class=\"displayNone\" data-column-name=\"ttmastturn_us\">0.65</td><td class=\"displayNone\" data-column-name=\"ttminvturn_us\">0.00</td><td class=\"displayNone\" data-column-name=\"ttmrevpere_us\">2.00</td><td class=\"displayNone\" data-column-name=\"ttmniperem_us\">580.80</td><td class=\"displayNone\" data-column-name=\"ttmrecturn_us\">11.02</td><td class=\"displayNone\" data-column-name=\"a52_week_high\">523.57</td><td class=\"displayNone\" data-column-name=\"a52_week_low\">193.64</td><td class=\"displayNone\" data-column-name=\"a52_week_high_diff\">-7.54</td><td class=\"displayNone\" data-column-name=\"a52_week_low_diff\">150.00</td><td class=\"displayNone\" data-column-name=\"month_change\">25.63%</td><td class=\"displayNone\" data-column-name=\"ttmgrosmgn_us\">80.72</td><td class=\"displayNone\" data-column-name=\"grosmgn5yr_us\">80.84</td><td class=\"displayNone\" data-column-name=\"ttmopmgn_us\">37.21</td><td class=\"displayNone\" data-column-name=\"opmgn5yr_us\">37.10</td><td class=\"displayNone\" data-column-name=\"ttmptmgn_us\">35.16</td><td class=\"displayNone\" data-column-name=\"ptmgn5yr_us\">34.98</td><td class=\"displayNone\" data-column-name=\"ttmnpmgn_us\">28.98</td><td class=\"displayNone\" data-column-name=\"margin5yr_us\">28.73</td><td class=\"displayNone\" data-column-name=\"qquickrati_us\">2.55</td><td class=\"displayNone\" data-column-name=\"qcurratio_us\">2.67</td><td class=\"displayNone\" data-column-name=\"qltd2eq_us\">12.00</td><td class=\"displayNone\" data-column-name=\"qtotd2eq_us\">24.76</td><td class=\"displayNone\" data-column-name=\"yld5yavg_us\">-</td><td class=\"displayNone\" data-column-name=\"divgrpct_us\">0.00</td><td class=\"displayNone\" data-column-name=\"ttmpayrat_us\">0.00</td><td class=\"displayNone\" data-column-name=\"ADX\">23.68</td><td class=\"displayNone\" data-column-name=\"ATR\">14.29</td><td class=\"displayNone\" data-column-name=\"BullBear\">-10.32</td><td class=\"displayNone\" data-column-name=\"CCI\">-87.09</td><td class=\"displayNone\" data-column-name=\"HL\">-4.21</td><td class=\"displayNone\" data-column-name=\"ROC\">0.51</td><td class=\"displayNone\" data-column-name=\"RSI\">53.56</td><td class=\"displayNone\" data-column-name=\"STOCH\">36.75</td><td class=\"displayNone\" data-column-name=\"STOCHRSI\">0.00</td><td class=\"displayNone\" data-column-name=\"UO\">45.99</td><td class=\"displayNone\" data-column-name=\"WilliamsR\">-82.76</td> <td></td>\n",
      "</tr><tr>\n",
      "<td class=\"flag\"><span class=\"ceFlags USA\"></span></td>\n",
      "<td class=\"symbol left bold elp\" data-column-name=\"name_trans\"><a href=\"/equities/berkshire-hathaway-inc\" target=\"_blank\" title=\"Berkshire Hathaway Inc Class A\">Berkshire Hathaway A</a></td>\n",
      "<td class=\"left\" data-column-name=\"viewData.symbol\">BRKa</td>\n",
      "<td class=\"left displayNone\" data-column-name=\"exchange_trans\">NYSE</td><td class=\"left displayNone\" data-column-name=\"sector_trans\">Consumer Non-Cyclicals</td><td class=\"left displayNone\" data-column-name=\"industry_trans\">Consumer Goods Conglomerates</td><td data-column-name=\"last\">619228</td><td data-column-name=\"pair_change_percent\">1.1%</td><td data-column-name=\"eq_market_cap\">883.48B</td><td data-column-name=\"turnover_volume\">13.30K</td><td class=\"displayNone\" data-column-name=\"eq_pe_ratio\">0.01</td><td class=\"displayNone\" data-column-name=\"MACD\">6.46K</td><td class=\"displayNone\" data-column-name=\"eq_revenue\">364.48B</td><td class=\"displayNone\" data-column-name=\"avg_volume\">11.23K</td><td class=\"displayNone\" data-column-name=\"eq_eps\">66.41K</td><td class=\"displayNone\" data-column-name=\"eq_beta\">-</td><td class=\"displayNone\" data-column-name=\"eq_dividend\">-</td><td class=\"displayNone\" data-column-name=\"eq_yield\">-</td><td class=\"left displayNone\" data-column-name=\"tech_sum_900\">Strong Buy</td><td class=\"left displayNone\" data-column-name=\"tech_sum_3600\">Strong Buy</td><td class=\"left displayNone\" data-column-name=\"tech_sum_86400\">Strong Buy</td><td class=\"left displayNone\" data-column-name=\"tech_sum_week\">Strong Buy</td><td class=\"left displayNone\" data-column-name=\"tech_sum_month\">Strong Buy</td><td class=\"displayNone\" data-column-name=\"daily\">1.10</td><td class=\"displayNone\" data-column-name=\"week\">1.55</td><td class=\"displayNone\" data-column-name=\"month\">1.50</td><td class=\"displayNone\" data-column-name=\"ytd\">14.12</td><td class=\"displayNone\" data-column-name=\"year\">39.85</td><td class=\"displayNone\" data-column-name=\"3year\">62.31</td><td class=\"displayNone\" data-column-name=\"eq_one_year_return\">35.99</td><td class=\"displayNone\" data-column-name=\"yield_us\">-</td><td class=\"displayNone\" data-column-name=\"peexclxor_us\">9.22</td><td class=\"displayNone\" data-column-name=\"ttmpr2rev_us\">2.43</td><td class=\"displayNone\" data-column-name=\"aprfcfps_us\">18.03</td><td class=\"displayNone\" data-column-name=\"ttmprfcfps_us\">29.77</td><td class=\"displayNone\" data-column-name=\"price2bk_us\">1.58</td><td class=\"displayNone\" data-column-name=\"pr2tanbk_us\">2.02</td><td class=\"displayNone\" data-column-name=\"epschngyr_us\">110.79</td><td class=\"displayNone\" data-column-name=\"ttmepschg_us\">528.63</td><td class=\"displayNone\" data-column-name=\"epstrendgr_us\">93.53</td><td class=\"displayNone\" data-column-name=\"revchngyr_us\">19.60</td><td class=\"displayNone\" data-column-name=\"ttmrevchg_us\">20.68</td><td class=\"displayNone\" data-column-name=\"revtrendgr_us\">8.02</td><td class=\"displayNone\" data-column-name=\"csptrendgr_us\">5.95</td><td class=\"displayNone\" data-column-name=\"ttmastturn_us\">0.36</td><td class=\"displayNone\" data-column-name=\"ttminvturn_us\">3.57</td><td class=\"displayNone\" data-column-name=\"ttmrevpere_us\">919.25</td><td class=\"displayNone\" data-column-name=\"ttmniperem_us\">245.01</td><td class=\"displayNone\" data-column-name=\"ttmrecturn_us\">2.68</td><td class=\"displayNone\" data-column-name=\"a52_week_high\">647039</td><td class=\"displayNone\" data-column-name=\"a52_week_low\">444894</td><td class=\"displayNone\" data-column-name=\"a52_week_high_diff\">-4.30</td><td class=\"displayNone\" data-column-name=\"a52_week_low_diff\">39.19</td><td class=\"displayNone\" data-column-name=\"month_change\">6.67%</td><td class=\"displayNone\" data-column-name=\"ttmgrosmgn_us\">33.80</td><td class=\"displayNone\" data-column-name=\"grosmgn5yr_us\">24.65</td><td class=\"displayNone\" data-column-name=\"ttmopmgn_us\">33.80</td><td class=\"displayNone\" data-column-name=\"opmgn5yr_us\">24.65</td><td class=\"displayNone\" data-column-name=\"ttmptmgn_us\">32.97</td><td class=\"displayNone\" data-column-name=\"ptmgn5yr_us\">22.50</td><td class=\"displayNone\" data-column-name=\"ttmnpmgn_us\">26.40</td><td class=\"displayNone\" data-column-name=\"margin5yr_us\">18.20</td><td class=\"displayNone\" data-column-name=\"qquickrati_us\">2.91</td><td class=\"displayNone\" data-column-name=\"qcurratio_us\">3.44</td><td class=\"displayNone\" data-column-name=\"qltd2eq_us\">19.43</td><td class=\"displayNone\" data-column-name=\"qtotd2eq_us\">23.80</td><td class=\"displayNone\" data-column-name=\"yld5yavg_us\">-</td><td class=\"displayNone\" data-column-name=\"divgrpct_us\">0.00</td><td class=\"displayNone\" data-column-name=\"ttmpayrat_us\">0.00</td><td class=\"displayNone\" data-column-name=\"ADX\">31.80</td><td class=\"displayNone\" data-column-name=\"ATR\">9.70K</td><td class=\"displayNone\" data-column-name=\"BullBear\">954.86</td><td class=\"displayNone\" data-column-name=\"CCI\">33.46</td><td class=\"displayNone\" data-column-name=\"HL\">2.52K</td><td class=\"displayNone\" data-column-name=\"ROC\">0.55</td><td class=\"displayNone\" data-column-name=\"RSI\">62.81</td><td class=\"displayNone\" data-column-name=\"STOCH\">98.35</td><td class=\"displayNone\" data-column-name=\"STOCHRSI\">61.12</td><td class=\"displayNone\" data-column-name=\"UO\">59.85</td><td class=\"displayNone\" data-column-name=\"WilliamsR\">-1.02</td> <td></td>\n",
      "</tr><tr>\n",
      "<td class=\"flag\"><span class=\"ceFlags USA\"></span></td>\n",
      "<td class=\"symbol left bold elp\" data-column-name=\"name_trans\"><a href=\"/equities/berkshire-hathaway\" target=\"_blank\" title=\"Berkshire Hathaway B\">Berkshire Hathaway B</a></td>\n",
      "<td class=\"left\" data-column-name=\"viewData.symbol\">BRKb</td>\n",
      "<td class=\"left displayNone\" data-column-name=\"exchange_trans\">NYSE</td><td class=\"left displayNone\" data-column-name=\"sector_trans\">Consumer Non-Cyclicals</td><td class=\"left displayNone\" data-column-name=\"industry_trans\">Consumer Goods Conglomerates</td><td data-column-name=\"last\">407.87</td><td data-column-name=\"pair_change_percent\">0.28%</td><td data-column-name=\"eq_market_cap\">883.48B</td><td data-column-name=\"turnover_volume\">4.27M</td><td class=\"displayNone\" data-column-name=\"eq_pe_ratio\">9.22</td><td class=\"displayNone\" data-column-name=\"MACD\">4.31</td><td class=\"displayNone\" data-column-name=\"eq_revenue\">364.48B</td><td class=\"displayNone\" data-column-name=\"avg_volume\">3.42M</td><td class=\"displayNone\" data-column-name=\"eq_eps\">66.41K</td><td class=\"displayNone\" data-column-name=\"eq_beta\">-</td><td class=\"displayNone\" data-column-name=\"eq_dividend\">-</td><td class=\"displayNone\" data-column-name=\"eq_yield\">-</td><td class=\"left displayNone\" data-column-name=\"tech_sum_900\">Strong Buy</td><td class=\"left displayNone\" data-column-name=\"tech_sum_3600\">Strong Buy</td><td class=\"left displayNone\" data-column-name=\"tech_sum_86400\">Strong Buy</td><td class=\"left displayNone\" data-column-name=\"tech_sum_week\">Strong Buy</td><td class=\"left displayNone\" data-column-name=\"tech_sum_month\">Strong Buy</td><td class=\"displayNone\" data-column-name=\"daily\">0.28</td><td class=\"displayNone\" data-column-name=\"week\">1.17</td><td class=\"displayNone\" data-column-name=\"month\">0.46</td><td class=\"displayNone\" data-column-name=\"ytd\">14.36</td><td class=\"displayNone\" data-column-name=\"year\">38.96</td><td class=\"displayNone\" data-column-name=\"3year\">61.85</td><td class=\"displayNone\" data-column-name=\"eq_one_year_return\">35.05</td><td class=\"displayNone\" data-column-name=\"yield_us\">-</td><td class=\"displayNone\" data-column-name=\"peexclxor_us\">9.22</td><td class=\"displayNone\" data-column-name=\"ttmpr2rev_us\">2.43</td><td class=\"displayNone\" data-column-name=\"aprfcfps_us\">18.03</td><td class=\"displayNone\" data-column-name=\"ttmprfcfps_us\">29.77</td><td class=\"displayNone\" data-column-name=\"price2bk_us\">1.58</td><td class=\"displayNone\" data-column-name=\"pr2tanbk_us\">2.01</td><td class=\"displayNone\" data-column-name=\"epschngyr_us\">110.79</td><td class=\"displayNone\" data-column-name=\"ttmepschg_us\">528.63</td><td class=\"displayNone\" data-column-name=\"epstrendgr_us\">93.53</td><td class=\"displayNone\" data-column-name=\"revchngyr_us\">19.60</td><td class=\"displayNone\" data-column-name=\"ttmrevchg_us\">20.68</td><td class=\"displayNone\" data-column-name=\"revtrendgr_us\">8.02</td><td class=\"displayNone\" data-column-name=\"csptrendgr_us\">5.95</td><td class=\"displayNone\" data-column-name=\"ttmastturn_us\">0.36</td><td class=\"displayNone\" data-column-name=\"ttminvturn_us\">3.57</td><td class=\"displayNone\" data-column-name=\"ttmrevpere_us\">919.25</td><td class=\"displayNone\" data-column-name=\"ttmniperem_us\">245.01</td><td class=\"displayNone\" data-column-name=\"ttmrecturn_us\">2.68</td><td class=\"displayNone\" data-column-name=\"a52_week_high\">430</td><td class=\"displayNone\" data-column-name=\"a52_week_low\">293.39</td><td class=\"displayNone\" data-column-name=\"a52_week_high_diff\">-5.15</td><td class=\"displayNone\" data-column-name=\"a52_week_low_diff\">39.02</td><td class=\"displayNone\" data-column-name=\"month_change\">6.69%</td><td class=\"displayNone\" data-column-name=\"ttmgrosmgn_us\">33.80</td><td class=\"displayNone\" data-column-name=\"grosmgn5yr_us\">24.65</td><td class=\"displayNone\" data-column-name=\"ttmopmgn_us\">33.80</td><td class=\"displayNone\" data-column-name=\"opmgn5yr_us\">24.65</td><td class=\"displayNone\" data-column-name=\"ttmptmgn_us\">32.97</td><td class=\"displayNone\" data-column-name=\"ptmgn5yr_us\">22.50</td><td class=\"displayNone\" data-column-name=\"ttmnpmgn_us\">26.40</td><td class=\"displayNone\" data-column-name=\"margin5yr_us\">18.20</td><td class=\"displayNone\" data-column-name=\"qquickrati_us\">2.91</td><td class=\"displayNone\" data-column-name=\"qcurratio_us\">3.44</td><td class=\"displayNone\" data-column-name=\"qltd2eq_us\">19.43</td><td class=\"displayNone\" data-column-name=\"qtotd2eq_us\">23.80</td><td class=\"displayNone\" data-column-name=\"yld5yavg_us\">-</td><td class=\"displayNone\" data-column-name=\"divgrpct_us\">0.00</td><td class=\"displayNone\" data-column-name=\"ttmpayrat_us\">0.00</td><td class=\"displayNone\" data-column-name=\"ADX\">31.03</td><td class=\"displayNone\" data-column-name=\"ATR\">5.32</td><td class=\"displayNone\" data-column-name=\"BullBear\">-0.36</td><td class=\"displayNone\" data-column-name=\"CCI\">0.54</td><td class=\"displayNone\" data-column-name=\"HL\">0.00</td><td class=\"displayNone\" data-column-name=\"ROC\">-0.25</td><td class=\"displayNone\" data-column-name=\"RSI\">60.52</td><td class=\"displayNone\" data-column-name=\"STOCH\">59.11</td><td class=\"displayNone\" data-column-name=\"STOCHRSI\">42.93</td><td class=\"displayNone\" data-column-name=\"UO\">63.08</td><td class=\"displayNone\" data-column-name=\"WilliamsR\">-41.33</td> <td></td>\n",
      "</tr><tr>\n",
      "<td class=\"flag\"><span class=\"ceFlags USA\"></span></td>\n",
      "<td class=\"symbol left bold elp\" data-column-name=\"name_trans\"><a href=\"/equities/eli-lilly-and-co\" target=\"_blank\" title=\"Eli Lilly and Company\">Eli Lilly</a></td>\n",
      "<td class=\"left\" data-column-name=\"viewData.symbol\">LLY</td>\n",
      "<td class=\"left displayNone\" data-column-name=\"exchange_trans\">NYSE</td><td class=\"left displayNone\" data-column-name=\"sector_trans\">Healthcare</td><td class=\"left displayNone\" data-column-name=\"industry_trans\">Pharmaceuticals</td><td data-column-name=\"last\">755.36</td><td data-column-name=\"pair_change_percent\">-0.71%</td><td data-column-name=\"eq_market_cap\">678.88B</td><td data-column-name=\"turnover_volume\">3.33M</td><td class=\"displayNone\" data-column-name=\"eq_pe_ratio\">129.84</td><td class=\"displayNone\" data-column-name=\"MACD\">15.71</td><td class=\"displayNone\" data-column-name=\"eq_revenue\">34.12B</td><td class=\"displayNone\" data-column-name=\"avg_volume\">3.15M</td><td class=\"displayNone\" data-column-name=\"eq_eps\">5.82</td><td class=\"displayNone\" data-column-name=\"eq_beta\">0.34</td><td class=\"displayNone\" data-column-name=\"eq_dividend\">5.20</td><td class=\"displayNone\" data-column-name=\"eq_yield\">-</td><td class=\"left displayNone\" data-column-name=\"tech_sum_900\">Neutral</td><td class=\"left displayNone\" data-column-name=\"tech_sum_3600\">Strong Sell</td><td class=\"left displayNone\" data-column-name=\"tech_sum_86400\">Neutral</td><td class=\"left displayNone\" data-column-name=\"tech_sum_week\">Strong Buy</td><td class=\"left displayNone\" data-column-name=\"tech_sum_month\">Strong Buy</td><td class=\"displayNone\" data-column-name=\"daily\">-0.71</td><td class=\"displayNone\" data-column-name=\"week\">-0.89</td><td class=\"displayNone\" data-column-name=\"month\">-3.41</td><td class=\"displayNone\" data-column-name=\"ytd\">29.58</td><td class=\"displayNone\" data-column-name=\"year\">129.47</td><td class=\"displayNone\" data-column-name=\"3year\">304.52</td><td class=\"displayNone\" data-column-name=\"eq_one_year_return\">129.22</td><td class=\"displayNone\" data-column-name=\"yield_us\">0.68%</td><td class=\"displayNone\" data-column-name=\"peexclxor_us\">129.75</td><td class=\"displayNone\" data-column-name=\"ttmpr2rev_us\">19.93</td><td class=\"displayNone\" data-column-name=\"aprfcfps_us\">160.36</td><td class=\"displayNone\" data-column-name=\"ttmprfcfps_us\">857.98</td><td class=\"displayNone\" data-column-name=\"price2bk_us\">63.12</td><td class=\"displayNone\" data-column-name=\"pr2tanbk_us\">-632.86</td><td class=\"displayNone\" data-column-name=\"epschngyr_us\">13.10</td><td class=\"displayNone\" data-column-name=\"ttmepschg_us\">-15.94</td><td class=\"displayNone\" data-column-name=\"epstrendgr_us\">13.11</td><td class=\"displayNone\" data-column-name=\"revchngyr_us\">28.10</td><td class=\"displayNone\" data-column-name=\"ttmrevchg_us\">19.56</td><td class=\"displayNone\" data-column-name=\"revtrendgr_us\">9.69</td><td class=\"displayNone\" data-column-name=\"csptrendgr_us\">23.28</td><td class=\"displayNone\" data-column-name=\"ttmastturn_us\">0.60</td><td class=\"displayNone\" data-column-name=\"ttminvturn_us\">1.40</td><td class=\"displayNone\" data-column-name=\"ttmrevpere_us\">793.58</td><td class=\"displayNone\" data-column-name=\"ttmniperem_us\">121.87</td><td class=\"displayNone\" data-column-name=\"ttmrecturn_us\">4.34</td><td class=\"displayNone\" data-column-name=\"a52_week_high\">800.78</td><td class=\"displayNone\" data-column-name=\"a52_week_low\">323.26</td><td class=\"displayNone\" data-column-name=\"a52_week_high_diff\">-5.67</td><td class=\"displayNone\" data-column-name=\"a52_week_low_diff\">133.67</td><td class=\"displayNone\" data-column-name=\"month_change\">16.74%</td><td class=\"displayNone\" data-column-name=\"ttmgrosmgn_us\">79.25</td><td class=\"displayNone\" data-column-name=\"grosmgn5yr_us\">77.47</td><td class=\"displayNone\" data-column-name=\"ttmopmgn_us\">31.61</td><td class=\"displayNone\" data-column-name=\"opmgn5yr_us\">28.82</td><td class=\"displayNone\" data-column-name=\"ttmptmgn_us\">19.21</td><td class=\"displayNone\" data-column-name=\"ptmgn5yr_us\">23.36</td><td class=\"displayNone\" data-column-name=\"ttmnpmgn_us\">15.36</td><td class=\"displayNone\" data-column-name=\"margin5yr_us\">24.04</td><td class=\"displayNone\" data-column-name=\"qquickrati_us\">0.44</td><td class=\"displayNone\" data-column-name=\"qcurratio_us\">0.94</td><td class=\"displayNone\" data-column-name=\"qltd2eq_us\">171.04</td><td class=\"displayNone\" data-column-name=\"qtotd2eq_us\">245.71</td><td class=\"displayNone\" data-column-name=\"yld5yavg_us\">1.67</td><td class=\"displayNone\" data-column-name=\"divgrpct_us\">15.04</td><td class=\"displayNone\" data-column-name=\"ttmpayrat_us\">77.65</td><td class=\"displayNone\" data-column-name=\"ADX\">18.07</td><td class=\"displayNone\" data-column-name=\"ATR\">21.44</td><td class=\"displayNone\" data-column-name=\"BullBear\">-15.24</td><td class=\"displayNone\" data-column-name=\"CCI\">-62.63</td><td class=\"displayNone\" data-column-name=\"HL\">0.00</td><td class=\"displayNone\" data-column-name=\"ROC\">-2.23</td><td class=\"displayNone\" data-column-name=\"RSI\">53.56</td><td class=\"displayNone\" data-column-name=\"STOCH\">36.97</td><td class=\"displayNone\" data-column-name=\"STOCHRSI\">23.10</td><td class=\"displayNone\" data-column-name=\"UO\">54.13</td><td class=\"displayNone\" data-column-name=\"WilliamsR\">-62.93</td> <td></td>\n",
      "</tr><tr>\n",
      "<td class=\"flag\"><span class=\"ceFlags USA\"></span></td>\n",
      "<td class=\"symbol left bold elp\" data-column-name=\"name_trans\"><a href=\"/equities/taiwan-semicond.manufacturing-co\" target=\"_blank\" title=\"Taiwan Semiconductor Manufacturing\">Taiwan Semiconductor</a></td>\n",
      "<td class=\"left\" data-column-name=\"viewData.symbol\">TSM</td>\n",
      "<td class=\"left displayNone\" data-column-name=\"exchange_trans\">NYSE</td><td class=\"left displayNone\" data-column-name=\"sector_trans\">Technology</td><td class=\"left displayNone\" data-column-name=\"industry_trans\">Semiconductors &amp; Semiconductor Equipment</td><td data-column-name=\"last\">136.98</td><td data-column-name=\"pair_change_percent\">-1.89%</td><td data-column-name=\"eq_market_cap\">617.41B</td><td data-column-name=\"turnover_volume\">22.73M</td><td class=\"displayNone\" data-column-name=\"eq_pe_ratio\">24.24</td><td class=\"displayNone\" data-column-name=\"MACD\">5.79</td><td class=\"displayNone\" data-column-name=\"eq_revenue\">2.16T</td><td class=\"displayNone\" data-column-name=\"avg_volume\">14.59M</td><td class=\"displayNone\" data-column-name=\"eq_eps\">32.34</td><td class=\"displayNone\" data-column-name=\"eq_beta\">1.23</td><td class=\"displayNone\" data-column-name=\"eq_dividend\">1.75</td><td class=\"displayNone\" data-column-name=\"eq_yield\">-</td><td class=\"left displayNone\" data-column-name=\"tech_sum_900\">Strong Sell</td><td class=\"left displayNone\" data-column-name=\"tech_sum_3600\">Strong Sell</td><td class=\"left displayNone\" data-column-name=\"tech_sum_86400\">Neutral</td><td class=\"left displayNone\" data-column-name=\"tech_sum_week\">Strong Buy</td><td class=\"left displayNone\" data-column-name=\"tech_sum_month\">Strong Buy</td><td class=\"displayNone\" data-column-name=\"daily\">-1.89</td><td class=\"displayNone\" data-column-name=\"week\">-6.42</td><td class=\"displayNone\" data-column-name=\"month\">8.12</td><td class=\"displayNone\" data-column-name=\"ytd\">31.71</td><td class=\"displayNone\" data-column-name=\"year\">53.10</td><td class=\"displayNone\" data-column-name=\"3year\">15.34</td><td class=\"displayNone\" data-column-name=\"eq_one_year_return\">53.39</td><td class=\"displayNone\" data-column-name=\"yield_us\">1.25%</td><td class=\"displayNone\" data-column-name=\"peexclxor_us\">23.29</td><td class=\"displayNone\" data-column-name=\"ttmpr2rev_us\">9.03</td><td class=\"displayNone\" data-column-name=\"aprfcfps_us\">15.72</td><td class=\"displayNone\" data-column-name=\"ttmprfcfps_us\">66.84</td><td class=\"displayNone\" data-column-name=\"price2bk_us\">5.65</td><td class=\"displayNone\" data-column-name=\"pr2tanbk_us\">5.88</td><td class=\"displayNone\" data-column-name=\"epschngyr_us\">-19.33</td><td class=\"displayNone\" data-column-name=\"ttmepschg_us\">-17.51</td><td class=\"displayNone\" data-column-name=\"epstrendgr_us\">18.23</td><td class=\"displayNone\" data-column-name=\"revchngyr_us\">0.00</td><td class=\"displayNone\" data-column-name=\"ttmrevchg_us\">-4.51</td><td class=\"displayNone\" data-column-name=\"revtrendgr_us\">15.95</td><td class=\"displayNone\" data-column-name=\"csptrendgr_us\">24.65</td><td class=\"displayNone\" data-column-name=\"ttmastturn_us\">0.41</td><td class=\"displayNone\" data-column-name=\"ttminvturn_us\">4.18</td><td class=\"displayNone\" data-column-name=\"ttmrevpere_us\">1.05</td><td class=\"displayNone\" data-column-name=\"ttmniperem_us\">398.76</td><td class=\"displayNone\" data-column-name=\"ttmrecturn_us\">11.78</td><td class=\"displayNone\" data-column-name=\"a52_week_high\">158.4</td><td class=\"displayNone\" data-column-name=\"a52_week_low\">81.21</td><td class=\"displayNone\" data-column-name=\"a52_week_high_diff\">-13.52</td><td class=\"displayNone\" data-column-name=\"a52_week_low_diff\">68.67</td><td class=\"displayNone\" data-column-name=\"month_change\">13.91%</td><td class=\"displayNone\" data-column-name=\"ttmgrosmgn_us\">54.36</td><td class=\"displayNone\" data-column-name=\"grosmgn5yr_us\">52.61</td><td class=\"displayNone\" data-column-name=\"ttmopmgn_us\">42.63</td><td class=\"displayNone\" data-column-name=\"opmgn5yr_us\">41.85</td><td class=\"displayNone\" data-column-name=\"ttmptmgn_us\">45.30</td><td class=\"displayNone\" data-column-name=\"ptmgn5yr_us\">43.10</td><td class=\"displayNone\" data-column-name=\"ttmnpmgn_us\">38.79</td><td class=\"displayNone\" data-column-name=\"margin5yr_us\">38.38</td><td class=\"displayNone\" data-column-name=\"qquickrati_us\">2.07</td><td class=\"displayNone\" data-column-name=\"qcurratio_us\">2.40</td><td class=\"displayNone\" data-column-name=\"qltd2eq_us\">26.55</td><td class=\"displayNone\" data-column-name=\"qtotd2eq_us\">28.52</td><td class=\"displayNone\" data-column-name=\"yld5yavg_us\">2.70</td><td class=\"displayNone\" data-column-name=\"divgrpct_us\">24.75</td><td class=\"displayNone\" data-column-name=\"ttmpayrat_us\">34.79</td><td class=\"displayNone\" data-column-name=\"ADX\">12.82</td><td class=\"displayNone\" data-column-name=\"ATR\">6.23</td><td class=\"displayNone\" data-column-name=\"BullBear\">-4.31</td><td class=\"displayNone\" data-column-name=\"CCI\">-15.48</td><td class=\"displayNone\" data-column-name=\"HL\">0.00</td><td class=\"displayNone\" data-column-name=\"ROC\">4.91</td><td class=\"displayNone\" data-column-name=\"RSI\">54.92</td><td class=\"displayNone\" data-column-name=\"STOCH\">39.37</td><td class=\"displayNone\" data-column-name=\"STOCHRSI\">0.00</td><td class=\"displayNone\" data-column-name=\"UO\">39.67</td><td class=\"displayNone\" data-column-name=\"WilliamsR\">-67.21</td> <td></td>\n",
      "</tr><tr>\n",
      "<td class=\"flag\"><span class=\"ceFlags USA\"></span></td>\n",
      "<td class=\"symbol left bold elp\" data-column-name=\"name_trans\"><a href=\"/equities/novo-nordis\" target=\"_blank\" title=\"Novo Nordisk A/S\">Novo Nordisk ADR</a></td>\n",
      "<td class=\"left\" data-column-name=\"viewData.symbol\">NVO</td>\n",
      "<td class=\"left displayNone\" data-column-name=\"exchange_trans\">NYSE</td><td class=\"left displayNone\" data-column-name=\"sector_trans\">Healthcare</td><td class=\"left displayNone\" data-column-name=\"industry_trans\">Pharmaceuticals</td><td data-column-name=\"last\">132.35</td><td data-column-name=\"pair_change_percent\">-1.66%</td><td data-column-name=\"eq_market_cap\">589.04B</td><td data-column-name=\"turnover_volume\">3.63M</td><td class=\"displayNone\" data-column-name=\"eq_pe_ratio\">48.75</td><td class=\"displayNone\" data-column-name=\"MACD\">4.97</td><td class=\"displayNone\" data-column-name=\"eq_revenue\">232.26B</td><td class=\"displayNone\" data-column-name=\"avg_volume\">4.93M</td><td class=\"displayNone\" data-column-name=\"eq_eps\">18.67</td><td class=\"displayNone\" data-column-name=\"eq_beta\">0.18</td><td class=\"displayNone\" data-column-name=\"eq_dividend\">0.98</td><td class=\"displayNone\" data-column-name=\"eq_yield\">-</td><td class=\"left displayNone\" data-column-name=\"tech_sum_900\">Strong Sell</td><td class=\"left displayNone\" data-column-name=\"tech_sum_3600\">Strong Sell</td><td class=\"left displayNone\" data-column-name=\"tech_sum_86400\">Strong Buy</td><td class=\"left displayNone\" data-column-name=\"tech_sum_week\">Strong Buy</td><td class=\"left displayNone\" data-column-name=\"tech_sum_month\">Strong Buy</td><td class=\"displayNone\" data-column-name=\"daily\">-1.66</td><td class=\"displayNone\" data-column-name=\"week\">-0.54</td><td class=\"displayNone\" data-column-name=\"month\">6.73</td><td class=\"displayNone\" data-column-name=\"ytd\">27.94</td><td class=\"displayNone\" data-column-name=\"year\">89.83</td><td class=\"displayNone\" data-column-name=\"3year\">268.77</td><td class=\"displayNone\" data-column-name=\"eq_one_year_return\">90.60</td><td class=\"displayNone\" data-column-name=\"yield_us\">0.73%</td><td class=\"displayNone\" data-column-name=\"peexclxor_us\">48.21</td><td class=\"displayNone\" data-column-name=\"ttmpr2rev_us\">17.37</td><td class=\"displayNone\" data-column-name=\"aprfcfps_us\">37.04</td><td class=\"displayNone\" data-column-name=\"ttmprfcfps_us\">48.54</td><td class=\"displayNone\" data-column-name=\"price2bk_us\">37.86</td><td class=\"displayNone\" data-column-name=\"pr2tanbk_us\">88.25</td><td class=\"displayNone\" data-column-name=\"epschngyr_us\">63.15</td><td class=\"displayNone\" data-column-name=\"ttmepschg_us\">52.32</td><td class=\"displayNone\" data-column-name=\"epstrendgr_us\">18.52</td><td class=\"displayNone\" data-column-name=\"revchngyr_us\">36.95</td><td class=\"displayNone\" data-column-name=\"ttmrevchg_us\">31.26</td><td class=\"displayNone\" data-column-name=\"revtrendgr_us\">15.74</td><td class=\"displayNone\" data-column-name=\"csptrendgr_us\">21.78</td><td class=\"displayNone\" data-column-name=\"ttmastturn_us\">0.84</td><td class=\"displayNone\" data-column-name=\"ttminvturn_us\">1.27</td><td class=\"displayNone\" data-column-name=\"ttmrevpere_us\">3.67</td><td class=\"displayNone\" data-column-name=\"ttmniperem_us\">1.32</td><td class=\"displayNone\" data-column-name=\"ttmrecturn_us\">4.49</td><td class=\"displayNone\" data-column-name=\"a52_week_high\">138.28</td><td class=\"displayNone\" data-column-name=\"a52_week_low\">70.89</td><td class=\"displayNone\" data-column-name=\"a52_week_high_diff\">-4.29</td><td class=\"displayNone\" data-column-name=\"a52_week_low_diff\">86.70</td><td class=\"displayNone\" data-column-name=\"month_change\">4.38%</td><td class=\"displayNone\" data-column-name=\"ttmgrosmgn_us\">84.60</td><td class=\"displayNone\" data-column-name=\"grosmgn5yr_us\">83.81</td><td class=\"displayNone\" data-column-name=\"ttmopmgn_us\">44.77</td><td class=\"displayNone\" data-column-name=\"opmgn5yr_us\">43.03</td><td class=\"displayNone\" data-column-name=\"ttmptmgn_us\">45.07</td><td class=\"displayNone\" data-column-name=\"ptmgn5yr_us\">41.25</td><td class=\"displayNone\" data-column-name=\"ttmnpmgn_us\">36.03</td><td class=\"displayNone\" data-column-name=\"margin5yr_us\">33.10</td><td class=\"displayNone\" data-column-name=\"qquickrati_us\">0.56</td><td class=\"displayNone\" data-column-name=\"qcurratio_us\">0.82</td><td class=\"displayNone\" data-column-name=\"qltd2eq_us\">14.99</td><td class=\"displayNone\" data-column-name=\"qtotd2eq_us\">25.34</td><td class=\"displayNone\" data-column-name=\"yld5yavg_us\">1.75</td><td class=\"displayNone\" data-column-name=\"divgrpct_us\">226.35</td><td class=\"displayNone\" data-column-name=\"ttmpayrat_us\">37.96</td><td class=\"displayNone\" data-column-name=\"ADX\">15.41</td><td class=\"displayNone\" data-column-name=\"ATR\">3.97</td><td class=\"displayNone\" data-column-name=\"BullBear\">5.62</td><td class=\"displayNone\" data-column-name=\"CCI\">63.03</td><td class=\"displayNone\" data-column-name=\"HL\">2.56</td><td class=\"displayNone\" data-column-name=\"ROC\">7.19</td><td class=\"displayNone\" data-column-name=\"RSI\">61.32</td><td class=\"displayNone\" data-column-name=\"STOCH\">71.02</td><td class=\"displayNone\" data-column-name=\"STOCHRSI\">34.24</td><td class=\"displayNone\" data-column-name=\"UO\">60.94</td><td class=\"displayNone\" data-column-name=\"WilliamsR\">-30.51</td> <td></td>\n",
      "</tr><tr>\n",
      "<td class=\"flag\"><span class=\"ceFlags USA\"></span></td>\n",
      "<td class=\"symbol left bold elp\" data-column-name=\"name_trans\"><a href=\"/equities/avago-technologies\" target=\"_blank\" title=\"Broadcom Inc\">Broadcom</a></td>\n",
      "<td class=\"left\" data-column-name=\"viewData.symbol\">AVGO</td>\n",
      "<td class=\"left displayNone\" data-column-name=\"exchange_trans\">NASDAQ</td><td class=\"left displayNone\" data-column-name=\"sector_trans\">Technology</td><td class=\"left displayNone\" data-column-name=\"industry_trans\">Semiconductors &amp; Semiconductor Equipment</td><td data-column-name=\"last\">1235.5</td><td data-column-name=\"pair_change_percent\">-2.12%</td><td data-column-name=\"eq_market_cap\">572.56B</td><td data-column-name=\"turnover_volume\">8.88M</td><td class=\"displayNone\" data-column-name=\"eq_pe_ratio\">47.57</td><td class=\"displayNone\" data-column-name=\"MACD\">12.15</td><td class=\"displayNone\" data-column-name=\"eq_revenue\">38.87B</td><td class=\"displayNone\" data-column-name=\"avg_volume\">2.88M</td><td class=\"displayNone\" data-column-name=\"eq_eps\">27.47</td><td class=\"displayNone\" data-column-name=\"eq_beta\">1.27</td><td class=\"displayNone\" data-column-name=\"eq_dividend\">21.00</td><td class=\"displayNone\" data-column-name=\"eq_yield\">-</td><td class=\"left displayNone\" data-column-name=\"tech_sum_900\">Strong Sell</td><td class=\"left displayNone\" data-column-name=\"tech_sum_3600\">Strong Sell</td><td class=\"left displayNone\" data-column-name=\"tech_sum_86400\">Sell</td><td class=\"left displayNone\" data-column-name=\"tech_sum_week\">Strong Buy</td><td class=\"left displayNone\" data-column-name=\"tech_sum_month\">Strong Buy</td><td class=\"displayNone\" data-column-name=\"daily\">-2.12</td><td class=\"displayNone\" data-column-name=\"week\">-5.59</td><td class=\"displayNone\" data-column-name=\"month\">-0.80</td><td class=\"displayNone\" data-column-name=\"ytd\">10.68</td><td class=\"displayNone\" data-column-name=\"year\">95.81</td><td class=\"displayNone\" data-column-name=\"3year\">155.49</td><td class=\"displayNone\" data-column-name=\"eq_one_year_return\">94.11</td><td class=\"displayNone\" data-column-name=\"yield_us\">1.66%</td><td class=\"displayNone\" data-column-name=\"peexclxor_us\">49.44</td><td class=\"displayNone\" data-column-name=\"ttmpr2rev_us\">14.73</td><td class=\"displayNone\" data-column-name=\"aprfcfps_us\">19.47</td><td class=\"displayNone\" data-column-name=\"ttmprfcfps_us\">31.13</td><td class=\"displayNone\" data-column-name=\"price2bk_us\">8.15</td><td class=\"displayNone\" data-column-name=\"pr2tanbk_us\">-7.69</td><td class=\"displayNone\" data-column-name=\"epschngyr_us\">-67.53</td><td class=\"displayNone\" data-column-name=\"ttmepschg_us\">-10.50</td><td class=\"displayNone\" data-column-name=\"epstrendgr_us\">2.96</td><td class=\"displayNone\" data-column-name=\"revchngyr_us\">34.17</td><td class=\"displayNone\" data-column-name=\"ttmrevchg_us\">12.94</td><td class=\"displayNone\" data-column-name=\"revtrendgr_us\">11.43</td><td class=\"displayNone\" data-column-name=\"csptrendgr_us\">-6.57</td><td class=\"displayNone\" data-column-name=\"ttmastturn_us\">0.31</td><td class=\"displayNone\" data-column-name=\"ttminvturn_us\">5.24</td><td class=\"displayNone\" data-column-name=\"ttmrevpere_us\">1.94</td><td class=\"displayNone\" data-column-name=\"ttmniperem_us\">581.65</td><td class=\"displayNone\" data-column-name=\"ttmrecturn_us\">11.78</td><td class=\"displayNone\" data-column-name=\"a52_week_high\">1438.17</td><td class=\"displayNone\" data-column-name=\"a52_week_low\">601.29</td><td class=\"displayNone\" data-column-name=\"a52_week_high_diff\">-14.09</td><td class=\"displayNone\" data-column-name=\"a52_week_low_diff\">105.47</td><td class=\"displayNone\" data-column-name=\"month_change\">10.21%</td><td class=\"displayNone\" data-column-name=\"ttmgrosmgn_us\">74.25</td><td class=\"displayNone\" data-column-name=\"grosmgn5yr_us\">73.03</td><td class=\"displayNone\" data-column-name=\"ttmopmgn_us\">39.59</td><td class=\"displayNone\" data-column-name=\"opmgn5yr_us\">30.92</td><td class=\"displayNone\" data-column-name=\"ttmptmgn_us\">32.42</td><td class=\"displayNone\" data-column-name=\"ptmgn5yr_us\">24.22</td><td class=\"displayNone\" data-column-name=\"ttmnpmgn_us\">29.93</td><td class=\"displayNone\" data-column-name=\"margin5yr_us\">23.91</td><td class=\"displayNone\" data-column-name=\"qquickrati_us\">0.83</td><td class=\"displayNone\" data-column-name=\"qcurratio_us\">1.33</td><td class=\"displayNone\" data-column-name=\"qltd2eq_us\">104.53</td><td class=\"displayNone\" data-column-name=\"qtotd2eq_us\">107.99</td><td class=\"displayNone\" data-column-name=\"yld5yavg_us\">3.46</td><td class=\"displayNone\" data-column-name=\"divgrpct_us\">12.20</td><td class=\"displayNone\" data-column-name=\"ttmpayrat_us\">70.09</td><td class=\"displayNone\" data-column-name=\"ADX\">25.03</td><td class=\"displayNone\" data-column-name=\"ATR\">51.52</td><td class=\"displayNone\" data-column-name=\"BullBear\">-89.69</td><td class=\"displayNone\" data-column-name=\"CCI\">-111.52</td><td class=\"displayNone\" data-column-name=\"HL\">-61.18</td><td class=\"displayNone\" data-column-name=\"ROC\">-5.57</td><td class=\"displayNone\" data-column-name=\"RSI\">43.61</td><td class=\"displayNone\" data-column-name=\"STOCH\">21.66</td><td class=\"displayNone\" data-column-name=\"STOCHRSI\">0.00</td><td class=\"displayNone\" data-column-name=\"UO\">44.27</td><td class=\"displayNone\" data-column-name=\"WilliamsR\">-97.05</td> <td></td>\n",
      "</tr><tr>\n",
      "<td class=\"flag\"><span class=\"ceFlags USA\"></span></td>\n",
      "<td class=\"symbol left bold elp\" data-column-name=\"name_trans\"><a href=\"/equities/visa-inc\" target=\"_blank\" title=\"Visa Inc Class A\">Visa A</a></td>\n",
      "<td class=\"left\" data-column-name=\"viewData.symbol\">V</td>\n",
      "<td class=\"left displayNone\" data-column-name=\"exchange_trans\">NYSE</td><td class=\"left displayNone\" data-column-name=\"sector_trans\">Technology</td><td class=\"left displayNone\" data-column-name=\"industry_trans\">Software &amp; IT Services</td><td data-column-name=\"last\">283.02</td><td data-column-name=\"pair_change_percent\">-1.18%</td><td data-column-name=\"eq_market_cap\">568.62B</td><td data-column-name=\"turnover_volume\">5.10M</td><td class=\"displayNone\" data-column-name=\"eq_pe_ratio\">32.56</td><td class=\"displayNone\" data-column-name=\"MACD\">2.38</td><td class=\"displayNone\" data-column-name=\"eq_revenue\">33.35B</td><td class=\"displayNone\" data-column-name=\"avg_volume\">5.34M</td><td class=\"displayNone\" data-column-name=\"eq_eps\">8.70</td><td class=\"displayNone\" data-column-name=\"eq_beta\">0.97</td><td class=\"displayNone\" data-column-name=\"eq_dividend\">2.08</td><td class=\"displayNone\" data-column-name=\"eq_yield\">-</td><td class=\"left displayNone\" data-column-name=\"tech_sum_900\">Strong Sell</td><td class=\"left displayNone\" data-column-name=\"tech_sum_3600\">Strong Sell</td><td class=\"left displayNone\" data-column-name=\"tech_sum_86400\">Buy</td><td class=\"left displayNone\" data-column-name=\"tech_sum_week\">Strong Buy</td><td class=\"left displayNone\" data-column-name=\"tech_sum_month\">Strong Buy</td><td class=\"displayNone\" data-column-name=\"daily\">-1.18</td><td class=\"displayNone\" data-column-name=\"week\">1.06</td><td class=\"displayNone\" data-column-name=\"month\">1.60</td><td class=\"displayNone\" data-column-name=\"ytd\">8.71</td><td class=\"displayNone\" data-column-name=\"year\">30.19</td><td class=\"displayNone\" data-column-name=\"3year\">26.90</td><td class=\"displayNone\" data-column-name=\"eq_one_year_return\">30.15</td><td class=\"displayNone\" data-column-name=\"yield_us\">0.73%</td><td class=\"displayNone\" data-column-name=\"peexclxor_us\">32.12</td><td class=\"displayNone\" data-column-name=\"ttmpr2rev_us\">17.05</td><td class=\"displayNone\" data-column-name=\"aprfcfps_us\">23.75</td><td class=\"displayNone\" data-column-name=\"ttmprfcfps_us\">29.74</td><td class=\"displayNone\" data-column-name=\"price2bk_us\">14.92</td><td class=\"displayNone\" data-column-name=\"pr2tanbk_us\">-84.35</td><td class=\"displayNone\" data-column-name=\"epschngyr_us\">20.18</td><td class=\"displayNone\" data-column-name=\"ttmepschg_us\">21.10</td><td class=\"displayNone\" data-column-name=\"epstrendgr_us\">13.30</td><td class=\"displayNone\" data-column-name=\"revchngyr_us\">8.80</td><td class=\"displayNone\" data-column-name=\"ttmrevchg_us\">10.48</td><td class=\"displayNone\" data-column-name=\"revtrendgr_us\">9.64</td><td class=\"displayNone\" data-column-name=\"csptrendgr_us\">8.08</td><td class=\"displayNone\" data-column-name=\"ttmastturn_us\">0.38</td><td class=\"displayNone\" data-column-name=\"ttminvturn_us\">0.00</td><td class=\"displayNone\" data-column-name=\"ttmrevpere_us\">1.16</td><td class=\"displayNone\" data-column-name=\"ttmniperem_us\">624.44</td><td class=\"displayNone\" data-column-name=\"ttmrecturn_us\">7.27</td><td class=\"displayNone\" data-column-name=\"a52_week_high\">289.04</td><td class=\"displayNone\" data-column-name=\"a52_week_low\">216.14</td><td class=\"displayNone\" data-column-name=\"a52_week_high_diff\">-2.08</td><td class=\"displayNone\" data-column-name=\"a52_week_low_diff\">30.94</td><td class=\"displayNone\" data-column-name=\"month_change\">3.43%</td><td class=\"displayNone\" data-column-name=\"ttmgrosmgn_us\">97.78</td><td class=\"displayNone\" data-column-name=\"grosmgn5yr_us\">97.12</td><td class=\"displayNone\" data-column-name=\"ttmopmgn_us\">67.34</td><td class=\"displayNone\" data-column-name=\"opmgn5yr_us\">66.38</td><td class=\"displayNone\" data-column-name=\"ttmptmgn_us\">66.27</td><td class=\"displayNone\" data-column-name=\"ptmgn5yr_us\">64.11</td><td class=\"displayNone\" data-column-name=\"ttmnpmgn_us\">53.92</td><td class=\"displayNone\" data-column-name=\"margin5yr_us\">51.40</td><td class=\"displayNone\" data-column-name=\"qquickrati_us\">1.04</td><td class=\"displayNone\" data-column-name=\"qcurratio_us\">1.45</td><td class=\"displayNone\" data-column-name=\"qltd2eq_us\">54.31</td><td class=\"displayNone\" data-column-name=\"qtotd2eq_us\">54.31</td><td class=\"displayNone\" data-column-name=\"yld5yavg_us\">0.70</td><td class=\"displayNone\" data-column-name=\"divgrpct_us\">20.00</td><td class=\"displayNone\" data-column-name=\"ttmpayrat_us\">21.50</td><td class=\"displayNone\" data-column-name=\"ADX\">25.42</td><td class=\"displayNone\" data-column-name=\"ATR\">3.56</td><td class=\"displayNone\" data-column-name=\"BullBear\">3.76</td><td class=\"displayNone\" data-column-name=\"CCI\">44.97</td><td class=\"displayNone\" data-column-name=\"HL\">0.00</td><td class=\"displayNone\" data-column-name=\"ROC\">-0.42</td><td class=\"displayNone\" data-column-name=\"RSI\">55.94</td><td class=\"displayNone\" data-column-name=\"STOCH\">54.44</td><td class=\"displayNone\" data-column-name=\"STOCHRSI\">33.31</td><td class=\"displayNone\" data-column-name=\"UO\">52.71</td><td class=\"displayNone\" data-column-name=\"WilliamsR\">-47.21</td> <td></td>\n",
      "</tr><tr>\n",
      "<td class=\"flag\"><span class=\"ceFlags USA\"></span></td>\n",
      "<td class=\"symbol left bold elp\" data-column-name=\"name_trans\"><a href=\"/equities/jp-morgan-chase\" target=\"_blank\" title=\"JPMorgan Chase &amp; Co\">JPMorgan</a></td>\n",
      "<td class=\"left\" data-column-name=\"viewData.symbol\">JPM</td>\n",
      "<td class=\"left displayNone\" data-column-name=\"exchange_trans\">NYSE</td><td class=\"left displayNone\" data-column-name=\"sector_trans\">Financials</td><td class=\"left displayNone\" data-column-name=\"industry_trans\">Banking Services</td><td data-column-name=\"last\">190.51</td><td data-column-name=\"pair_change_percent\">1.35%</td><td data-column-name=\"eq_market_cap\">548.13B</td><td data-column-name=\"turnover_volume\">9.31M</td><td class=\"displayNone\" data-column-name=\"eq_pe_ratio\">11.73</td><td class=\"displayNone\" data-column-name=\"MACD\">3.59</td><td class=\"displayNone\" data-column-name=\"eq_revenue\">146.01B</td><td class=\"displayNone\" data-column-name=\"avg_volume\">8.57M</td><td class=\"displayNone\" data-column-name=\"eq_eps\">16.25</td><td class=\"displayNone\" data-column-name=\"eq_beta\">1.12</td><td class=\"displayNone\" data-column-name=\"eq_dividend\">4.20</td><td class=\"displayNone\" data-column-name=\"eq_yield\">-</td><td class=\"left displayNone\" data-column-name=\"tech_sum_900\">Strong Buy</td><td class=\"left displayNone\" data-column-name=\"tech_sum_3600\">Strong Buy</td><td class=\"left displayNone\" data-column-name=\"tech_sum_86400\">Strong Buy</td><td class=\"left displayNone\" data-column-name=\"tech_sum_week\">Strong Buy</td><td class=\"left displayNone\" data-column-name=\"tech_sum_month\">Strong Buy</td><td class=\"displayNone\" data-column-name=\"daily\">1.35</td><td class=\"displayNone\" data-column-name=\"week\">1.22</td><td class=\"displayNone\" data-column-name=\"month\">6.41</td><td class=\"displayNone\" data-column-name=\"ytd\">12.00</td><td class=\"displayNone\" data-column-name=\"year\">51.43</td><td class=\"displayNone\" data-column-name=\"3year\">22.84</td><td class=\"displayNone\" data-column-name=\"eq_one_year_return\">45.71</td><td class=\"displayNone\" data-column-name=\"yield_us\">2.23%</td><td class=\"displayNone\" data-column-name=\"peexclxor_us\">11.48</td><td class=\"displayNone\" data-column-name=\"ttmpr2rev_us\">3.76</td><td class=\"displayNone\" data-column-name=\"aprfcfps_us\">42.27</td><td class=\"displayNone\" data-column-name=\"ttmprfcfps_us\">0.00</td><td class=\"displayNone\" data-column-name=\"price2bk_us\">1.83</td><td class=\"displayNone\" data-column-name=\"pr2tanbk_us\">2.31</td><td class=\"displayNone\" data-column-name=\"epschngyr_us\">-14.89</td><td class=\"displayNone\" data-column-name=\"ttmepschg_us\">34.30</td><td class=\"displayNone\" data-column-name=\"epstrendgr_us\">12.44</td><td class=\"displayNone\" data-column-name=\"revchngyr_us\">11.12</td><td class=\"displayNone\" data-column-name=\"ttmrevchg_us\">19.39</td><td class=\"displayNone\" data-column-name=\"revtrendgr_us\">7.07</td><td class=\"displayNone\" data-column-name=\"csptrendgr_us\">0.00</td><td class=\"displayNone\" data-column-name=\"ttmastturn_us\">-</td><td class=\"displayNone\" data-column-name=\"ttminvturn_us\">-</td><td class=\"displayNone\" data-column-name=\"ttmrevpere_us\">471.11</td><td class=\"displayNone\" data-column-name=\"ttmniperem_us\">159.88</td><td class=\"displayNone\" data-column-name=\"ttmrecturn_us\">-</td><td class=\"displayNone\" data-column-name=\"a52_week_high\">191.73</td><td class=\"displayNone\" data-column-name=\"a52_week_low\">123.11</td><td class=\"displayNone\" data-column-name=\"a52_week_high_diff\">-0.64</td><td class=\"displayNone\" data-column-name=\"a52_week_low_diff\">54.75</td><td class=\"displayNone\" data-column-name=\"month_change\">6.71%</td><td class=\"displayNone\" data-column-name=\"ttmgrosmgn_us\">-</td><td class=\"displayNone\" data-column-name=\"grosmgn5yr_us\">0.00</td><td class=\"displayNone\" data-column-name=\"ttmopmgn_us\">42.28</td><td class=\"displayNone\" data-column-name=\"opmgn5yr_us\">40.36</td><td class=\"displayNone\" data-column-name=\"ttmptmgn_us\">42.20</td><td class=\"displayNone\" data-column-name=\"ptmgn5yr_us\">40.15</td><td class=\"displayNone\" data-column-name=\"ttmnpmgn_us\">33.94</td><td class=\"displayNone\" data-column-name=\"margin5yr_us\">32.57</td><td class=\"displayNone\" data-column-name=\"qquickrati_us\">0.45</td><td class=\"displayNone\" data-column-name=\"qcurratio_us\">-</td><td class=\"displayNone\" data-column-name=\"qltd2eq_us\">121.12</td><td class=\"displayNone\" data-column-name=\"qtotd2eq_us\">243.41</td><td class=\"displayNone\" data-column-name=\"yld5yavg_us\">3.24</td><td class=\"displayNone\" data-column-name=\"divgrpct_us\">5.00</td><td class=\"displayNone\" data-column-name=\"ttmpayrat_us\">27.17</td><td class=\"displayNone\" data-column-name=\"ADX\">47.13</td><td class=\"displayNone\" data-column-name=\"ATR\">2.62</td><td class=\"displayNone\" data-column-name=\"BullBear\">3.69</td><td class=\"displayNone\" data-column-name=\"CCI\">87.54</td><td class=\"displayNone\" data-column-name=\"HL\">1.65</td><td class=\"displayNone\" data-column-name=\"ROC\">3.83</td><td class=\"displayNone\" data-column-name=\"RSI\">68.04</td><td class=\"displayNone\" data-column-name=\"STOCH\">70.06</td><td class=\"displayNone\" data-column-name=\"STOCHRSI\">27.32</td><td class=\"displayNone\" data-column-name=\"UO\">56.07</td><td class=\"displayNone\" data-column-name=\"WilliamsR\">-14.12</td> <td></td>\n",
      "</tr><tr>\n",
      "<td class=\"flag\"><span class=\"ceFlags USA\"></span></td>\n",
      "<td class=\"symbol left bold elp\" data-column-name=\"name_trans\"><a href=\"/equities/jp-morgan-chase-ds-series-gg-pref\" target=\"_blank\" title=\"Jp Morgan Chase Ds Series Gg Pref\">Jp Morgan Gg Pref</a></td>\n",
      "<td class=\"left\" data-column-name=\"viewData.symbol\">JPM_pj</td>\n",
      "<td class=\"left displayNone\" data-column-name=\"exchange_trans\">NYSE</td><td class=\"left displayNone\" data-column-name=\"sector_trans\">Financials</td><td class=\"left displayNone\" data-column-name=\"industry_trans\">Banking Services</td><td data-column-name=\"last\">22.32</td><td data-column-name=\"pair_change_percent\">0.04%</td><td data-column-name=\"eq_market_cap\">548.13B</td><td data-column-name=\"turnover_volume\">36.47K</td><td class=\"displayNone\" data-column-name=\"eq_pe_ratio\">11.30</td><td class=\"displayNone\" data-column-name=\"MACD\">0.04</td><td class=\"displayNone\" data-column-name=\"eq_revenue\">146.01B</td><td class=\"displayNone\" data-column-name=\"avg_volume\">65.70K</td><td class=\"displayNone\" data-column-name=\"eq_eps\">16.25</td><td class=\"displayNone\" data-column-name=\"eq_beta\">1.12</td><td class=\"displayNone\" data-column-name=\"eq_dividend\">1.19</td><td class=\"displayNone\" data-column-name=\"eq_yield\">-</td><td class=\"left displayNone\" data-column-name=\"tech_sum_900\">Buy</td><td class=\"left displayNone\" data-column-name=\"tech_sum_3600\">Strong Sell</td><td class=\"left displayNone\" data-column-name=\"tech_sum_86400\">Sell</td><td class=\"left displayNone\" data-column-name=\"tech_sum_week\">Strong Buy</td><td class=\"left displayNone\" data-column-name=\"tech_sum_month\">Strong Buy</td><td class=\"displayNone\" data-column-name=\"daily\">0.04</td><td class=\"displayNone\" data-column-name=\"week\">-1.44</td><td class=\"displayNone\" data-column-name=\"month\">-0.76</td><td class=\"displayNone\" data-column-name=\"ytd\">4.30</td><td class=\"displayNone\" data-column-name=\"year\">7.10</td><td class=\"displayNone\" data-column-name=\"3year\">-14.91</td><td class=\"displayNone\" data-column-name=\"eq_one_year_return\">5.28</td><td class=\"displayNone\" data-column-name=\"yield_us\">5.32%</td><td class=\"displayNone\" data-column-name=\"peexclxor_us\">-</td><td class=\"displayNone\" data-column-name=\"ttmpr2rev_us\">-</td><td class=\"displayNone\" data-column-name=\"aprfcfps_us\">-</td><td class=\"displayNone\" data-column-name=\"ttmprfcfps_us\">-</td><td class=\"displayNone\" data-column-name=\"price2bk_us\">-</td><td class=\"displayNone\" data-column-name=\"pr2tanbk_us\">-</td><td class=\"displayNone\" data-column-name=\"epschngyr_us\">-14.89</td><td class=\"displayNone\" data-column-name=\"ttmepschg_us\">34.30</td><td class=\"displayNone\" data-column-name=\"epstrendgr_us\">-</td><td class=\"displayNone\" data-column-name=\"revchngyr_us\">11.12</td><td class=\"displayNone\" data-column-name=\"ttmrevchg_us\">19.39</td><td class=\"displayNone\" data-column-name=\"revtrendgr_us\">-</td><td class=\"displayNone\" data-column-name=\"csptrendgr_us\">-</td><td class=\"displayNone\" data-column-name=\"ttmastturn_us\">-</td><td class=\"displayNone\" data-column-name=\"ttminvturn_us\">-</td><td class=\"displayNone\" data-column-name=\"ttmrevpere_us\">-</td><td class=\"displayNone\" data-column-name=\"ttmniperem_us\">-</td><td class=\"displayNone\" data-column-name=\"ttmrecturn_us\">-</td><td class=\"displayNone\" data-column-name=\"a52_week_high\">22.9</td><td class=\"displayNone\" data-column-name=\"a52_week_low\">19.02</td><td class=\"displayNone\" data-column-name=\"a52_week_high_diff\">-2.53</td><td class=\"displayNone\" data-column-name=\"a52_week_low_diff\">17.35</td><td class=\"displayNone\" data-column-name=\"month_change\">1.62%</td><td class=\"displayNone\" data-column-name=\"ttmgrosmgn_us\">-</td><td class=\"displayNone\" data-column-name=\"grosmgn5yr_us\">-</td><td class=\"displayNone\" data-column-name=\"ttmopmgn_us\">-</td><td class=\"displayNone\" data-column-name=\"opmgn5yr_us\">-</td><td class=\"displayNone\" data-column-name=\"ttmptmgn_us\">-</td><td class=\"displayNone\" data-column-name=\"ptmgn5yr_us\">-</td><td class=\"displayNone\" data-column-name=\"ttmnpmgn_us\">-</td><td class=\"displayNone\" data-column-name=\"margin5yr_us\">-</td><td class=\"displayNone\" data-column-name=\"qquickrati_us\">-</td><td class=\"displayNone\" data-column-name=\"qcurratio_us\">-</td><td class=\"displayNone\" data-column-name=\"qltd2eq_us\">-</td><td class=\"displayNone\" data-column-name=\"qtotd2eq_us\">-</td><td class=\"displayNone\" data-column-name=\"yld5yavg_us\">-</td><td class=\"displayNone\" data-column-name=\"divgrpct_us\">-</td><td class=\"displayNone\" data-column-name=\"ttmpayrat_us\">27.17</td><td class=\"displayNone\" data-column-name=\"ADX\">24.35</td><td class=\"displayNone\" data-column-name=\"ATR\">0.20</td><td class=\"displayNone\" data-column-name=\"BullBear\">-0.32</td><td class=\"displayNone\" data-column-name=\"CCI\">-187.64</td><td class=\"displayNone\" data-column-name=\"HL\">-0.09</td><td class=\"displayNone\" data-column-name=\"ROC\">-1.24</td><td class=\"displayNone\" data-column-name=\"RSI\">45.61</td><td class=\"displayNone\" data-column-name=\"STOCH\">47.75</td><td class=\"displayNone\" data-column-name=\"STOCHRSI\">2.91</td><td class=\"displayNone\" data-column-name=\"UO\">35.40</td><td class=\"displayNone\" data-column-name=\"WilliamsR\">-82.00</td> <td></td>\n",
      "</tr><tr>\n",
      "<td class=\"flag\"><span class=\"ceFlags USA\"></span></td>\n",
      "<td class=\"symbol left bold elp\" data-column-name=\"name_trans\"><a href=\"/equities/jpmorgan-chase-pref-ee\" target=\"_blank\" title=\"JPMorgan Chase &amp; Co Pref Series EE\">JPMorgan Chase Pref EE</a></td>\n",
      "<td class=\"left\" data-column-name=\"viewData.symbol\">JPM_pc</td>\n",
      "<td class=\"left displayNone\" data-column-name=\"exchange_trans\">NYSE</td><td class=\"left displayNone\" data-column-name=\"sector_trans\">Financials</td><td class=\"left displayNone\" data-column-name=\"industry_trans\">Banking Services</td><td data-column-name=\"last\">25.08</td><td data-column-name=\"pair_change_percent\">0%</td><td data-column-name=\"eq_market_cap\">548.13B</td><td data-column-name=\"turnover_volume\">75.80K</td><td class=\"displayNone\" data-column-name=\"eq_pe_ratio\">11.73</td><td class=\"displayNone\" data-column-name=\"MACD\">-0.04</td><td class=\"displayNone\" data-column-name=\"eq_revenue\">146.01B</td><td class=\"displayNone\" data-column-name=\"avg_volume\">139.80K</td><td class=\"displayNone\" data-column-name=\"eq_eps\">16.25</td><td class=\"displayNone\" data-column-name=\"eq_beta\">1.12</td><td class=\"displayNone\" data-column-name=\"eq_dividend\">1.50</td><td class=\"displayNone\" data-column-name=\"eq_yield\">-</td><td class=\"left displayNone\" data-column-name=\"tech_sum_900\">Strong Buy</td><td class=\"left displayNone\" data-column-name=\"tech_sum_3600\">Neutral</td><td class=\"left displayNone\" data-column-name=\"tech_sum_86400\">Strong Sell</td><td class=\"left displayNone\" data-column-name=\"tech_sum_week\">Strong Sell</td><td class=\"left displayNone\" data-column-name=\"tech_sum_month\">Sell</td><td class=\"displayNone\" data-column-name=\"daily\">0.00</td><td class=\"displayNone\" data-column-name=\"week\">0.16</td><td class=\"displayNone\" data-column-name=\"month\">-0.20</td><td class=\"displayNone\" data-column-name=\"ytd\">-0.91</td><td class=\"displayNone\" data-column-name=\"year\">1.87</td><td class=\"displayNone\" data-column-name=\"3year\">-9.10</td><td class=\"displayNone\" data-column-name=\"eq_one_year_return\">0.40</td><td class=\"displayNone\" data-column-name=\"yield_us\">5.98%</td><td class=\"displayNone\" data-column-name=\"peexclxor_us\">11.40</td><td class=\"displayNone\" data-column-name=\"ttmpr2rev_us\">3.73</td><td class=\"displayNone\" data-column-name=\"aprfcfps_us\">41.97</td><td class=\"displayNone\" data-column-name=\"ttmprfcfps_us\">0.00</td><td class=\"displayNone\" data-column-name=\"price2bk_us\">1.81</td><td class=\"displayNone\" data-column-name=\"pr2tanbk_us\">2.33</td><td class=\"displayNone\" data-column-name=\"epschngyr_us\">-14.89</td><td class=\"displayNone\" data-column-name=\"ttmepschg_us\">34.30</td><td class=\"displayNone\" data-column-name=\"epstrendgr_us\">12.44</td><td class=\"displayNone\" data-column-name=\"revchngyr_us\">11.12</td><td class=\"displayNone\" data-column-name=\"ttmrevchg_us\">19.39</td><td class=\"displayNone\" data-column-name=\"revtrendgr_us\">7.07</td><td class=\"displayNone\" data-column-name=\"csptrendgr_us\">0.00</td><td class=\"displayNone\" data-column-name=\"ttmastturn_us\">-</td><td class=\"displayNone\" data-column-name=\"ttminvturn_us\">-</td><td class=\"displayNone\" data-column-name=\"ttmrevpere_us\">471.11</td><td class=\"displayNone\" data-column-name=\"ttmniperem_us\">159.88</td><td class=\"displayNone\" data-column-name=\"ttmrecturn_us\">-</td><td class=\"displayNone\" data-column-name=\"a52_week_high\">25.73</td><td class=\"displayNone\" data-column-name=\"a52_week_low\">23.87</td><td class=\"displayNone\" data-column-name=\"a52_week_high_diff\">-2.53</td><td class=\"displayNone\" data-column-name=\"a52_week_low_diff\">5.07</td><td class=\"displayNone\" data-column-name=\"month_change\">0.44%</td><td class=\"displayNone\" data-column-name=\"ttmgrosmgn_us\">-</td><td class=\"displayNone\" data-column-name=\"grosmgn5yr_us\">0.00</td><td class=\"displayNone\" data-column-name=\"ttmopmgn_us\">42.28</td><td class=\"displayNone\" data-column-name=\"opmgn5yr_us\">40.36</td><td class=\"displayNone\" data-column-name=\"ttmptmgn_us\">42.20</td><td class=\"displayNone\" data-column-name=\"ptmgn5yr_us\">40.15</td><td class=\"displayNone\" data-column-name=\"ttmnpmgn_us\">33.94</td><td class=\"displayNone\" data-column-name=\"margin5yr_us\">32.57</td><td class=\"displayNone\" data-column-name=\"qquickrati_us\">0.45</td><td class=\"displayNone\" data-column-name=\"qcurratio_us\">-</td><td class=\"displayNone\" data-column-name=\"qltd2eq_us\">121.12</td><td class=\"displayNone\" data-column-name=\"qtotd2eq_us\">243.41</td><td class=\"displayNone\" data-column-name=\"yld5yavg_us\">3.24</td><td class=\"displayNone\" data-column-name=\"divgrpct_us\">-</td><td class=\"displayNone\" data-column-name=\"ttmpayrat_us\">27.17</td><td class=\"displayNone\" data-column-name=\"ADX\">25.74</td><td class=\"displayNone\" data-column-name=\"ATR\">0.08</td><td class=\"displayNone\" data-column-name=\"BullBear\">-0.05</td><td class=\"displayNone\" data-column-name=\"CCI\">-52.37</td><td class=\"displayNone\" data-column-name=\"HL\">0.00</td><td class=\"displayNone\" data-column-name=\"ROC\">-0.52</td><td class=\"displayNone\" data-column-name=\"RSI\">45.54</td><td class=\"displayNone\" data-column-name=\"STOCH\">40.30</td><td class=\"displayNone\" data-column-name=\"STOCHRSI\">50.50</td><td class=\"displayNone\" data-column-name=\"UO\">48.15</td><td class=\"displayNone\" data-column-name=\"WilliamsR\">-65.22</td> <td></td>\n",
      "</tr><tr>\n",
      "<td class=\"flag\"><span class=\"ceFlags USA\"></span></td>\n",
      "<td class=\"symbol left bold elp\" data-column-name=\"name_trans\"><a href=\"/equities/tesla-motors\" target=\"_blank\" title=\"Tesla Inc\">Tesla</a></td>\n",
      "<td class=\"left\" data-column-name=\"viewData.symbol\">TSLA</td>\n",
      "<td class=\"left displayNone\" data-column-name=\"exchange_trans\">NASDAQ</td><td class=\"left displayNone\" data-column-name=\"sector_trans\">Consumer Cyclicals</td><td class=\"left displayNone\" data-column-name=\"industry_trans\">Automobiles &amp; Auto Parts</td><td data-column-name=\"last\">163.57</td><td data-column-name=\"pair_change_percent\">0.66%</td><td data-column-name=\"eq_market_cap\">520.94B</td><td data-column-name=\"turnover_volume\">96.87M</td><td class=\"displayNone\" data-column-name=\"eq_pe_ratio\">34.43</td><td class=\"displayNone\" data-column-name=\"MACD\">-9.48</td><td class=\"displayNone\" data-column-name=\"eq_revenue\">96.77B</td><td class=\"displayNone\" data-column-name=\"avg_volume\">104.98M</td><td class=\"displayNone\" data-column-name=\"eq_eps\">4.73</td><td class=\"displayNone\" data-column-name=\"eq_beta\">2.43</td><td class=\"displayNone\" data-column-name=\"eq_dividend\">-</td><td class=\"displayNone\" data-column-name=\"eq_yield\">-</td><td class=\"left displayNone\" data-column-name=\"tech_sum_900\">Strong Buy</td><td class=\"left displayNone\" data-column-name=\"tech_sum_3600\">Strong Sell</td><td class=\"left displayNone\" data-column-name=\"tech_sum_86400\">Strong Sell</td><td class=\"left displayNone\" data-column-name=\"tech_sum_week\">Strong Sell</td><td class=\"left displayNone\" data-column-name=\"tech_sum_month\">Strong Sell</td><td class=\"displayNone\" data-column-name=\"daily\">0.66</td><td class=\"displayNone\" data-column-name=\"week\">-6.71</td><td class=\"displayNone\" data-column-name=\"month\">-18.19</td><td class=\"displayNone\" data-column-name=\"ytd\">-34.17</td><td class=\"displayNone\" data-column-name=\"year\">-9.19</td><td class=\"displayNone\" data-column-name=\"3year\">-30.08</td><td class=\"displayNone\" data-column-name=\"eq_one_year_return\">-11.17</td><td class=\"displayNone\" data-column-name=\"yield_us\">-</td><td class=\"displayNone\" data-column-name=\"peexclxor_us\">34.53</td><td class=\"displayNone\" data-column-name=\"ttmpr2rev_us\">5.35</td><td class=\"displayNone\" data-column-name=\"aprfcfps_us\">39.07</td><td class=\"displayNone\" data-column-name=\"ttmprfcfps_us\">118.88</td><td class=\"displayNone\" data-column-name=\"price2bk_us\">8.27</td><td class=\"displayNone\" data-column-name=\"pr2tanbk_us\">8.52</td><td class=\"displayNone\" data-column-name=\"epschngyr_us\">111.65</td><td class=\"displayNone\" data-column-name=\"ttmepschg_us\">17.55</td><td class=\"displayNone\" data-column-name=\"epstrendgr_us\">0.00</td><td class=\"displayNone\" data-column-name=\"revchngyr_us\">3.49</td><td class=\"displayNone\" data-column-name=\"ttmrevchg_us\">18.80</td><td class=\"displayNone\" data-column-name=\"revtrendgr_us\">35.15</td><td class=\"displayNone\" data-column-name=\"csptrendgr_us\">30.86</td><td class=\"displayNone\" data-column-name=\"ttmastturn_us\">1.02</td><td class=\"displayNone\" data-column-name=\"ttminvturn_us\">5.98</td><td class=\"displayNone\" data-column-name=\"ttmrevpere_us\">688.91</td><td class=\"displayNone\" data-column-name=\"ttmniperem_us\">106.60</td><td class=\"displayNone\" data-column-name=\"ttmrecturn_us\">31.48</td><td class=\"displayNone\" data-column-name=\"a52_week_high\">299.29</td><td class=\"displayNone\" data-column-name=\"a52_week_low\">152.37</td><td class=\"displayNone\" data-column-name=\"a52_week_high_diff\">-45.35</td><td class=\"displayNone\" data-column-name=\"a52_week_low_diff\">7.35</td><td class=\"displayNone\" data-column-name=\"month_change\">7.79%</td><td class=\"displayNone\" data-column-name=\"ttmgrosmgn_us\">18.25</td><td class=\"displayNone\" data-column-name=\"grosmgn5yr_us\">21.52</td><td class=\"displayNone\" data-column-name=\"ttmopmgn_us\">9.19</td><td class=\"displayNone\" data-column-name=\"opmgn5yr_us\">8.54</td><td class=\"displayNone\" data-column-name=\"ttmptmgn_us\">10.31</td><td class=\"displayNone\" data-column-name=\"ptmgn5yr_us\">7.30</td><td class=\"displayNone\" data-column-name=\"ttmnpmgn_us\">15.50</td><td class=\"displayNone\" data-column-name=\"margin5yr_us\">6.66</td><td class=\"displayNone\" data-column-name=\"qquickrati_us\">1.14</td><td class=\"displayNone\" data-column-name=\"qcurratio_us\">1.73</td><td class=\"displayNone\" data-column-name=\"qltd2eq_us\">4.28</td><td class=\"displayNone\" data-column-name=\"qtotd2eq_us\">15.28</td><td class=\"displayNone\" data-column-name=\"yld5yavg_us\">-</td><td class=\"displayNone\" data-column-name=\"divgrpct_us\">0.00</td><td class=\"displayNone\" data-column-name=\"ttmpayrat_us\">0.00</td><td class=\"displayNone\" data-column-name=\"ADX\">47.11</td><td class=\"displayNone\" data-column-name=\"ATR\">8.16</td><td class=\"displayNone\" data-column-name=\"BullBear\">-28.84</td><td class=\"displayNone\" data-column-name=\"CCI\">-121.31</td><td class=\"displayNone\" data-column-name=\"HL\">-16.26</td><td class=\"displayNone\" data-column-name=\"ROC\">-17.96</td><td class=\"displayNone\" data-column-name=\"RSI\">29.04</td><td class=\"displayNone\" data-column-name=\"STOCH\">24.61</td><td class=\"displayNone\" data-column-name=\"STOCHRSI\">5.33</td><td class=\"displayNone\" data-column-name=\"UO\">36.77</td><td class=\"displayNone\" data-column-name=\"WilliamsR\">-93.19</td> <td></td>\n",
      "</tr><tr>\n",
      "<td class=\"flag\"><span class=\"ceFlags USA\"></span></td>\n",
      "<td class=\"symbol left bold elp\" data-column-name=\"name_trans\"><a href=\"/equities/wal-mart-stores\" target=\"_blank\" title=\"Walmart Inc\">Walmart</a></td>\n",
      "<td class=\"left\" data-column-name=\"viewData.symbol\">WMT</td>\n",
      "<td class=\"left displayNone\" data-column-name=\"exchange_trans\">NYSE</td><td class=\"left displayNone\" data-column-name=\"sector_trans\">Consumer Non-Cyclicals</td><td class=\"left displayNone\" data-column-name=\"industry_trans\">Food &amp; Drug Retailing</td><td data-column-name=\"last\">60.7</td><td data-column-name=\"pair_change_percent\">-0.52%</td><td data-column-name=\"eq_market_cap\">488.64B</td><td data-column-name=\"turnover_volume\">14.94M</td><td class=\"displayNone\" data-column-name=\"eq_pe_ratio\">31.72</td><td class=\"displayNone\" data-column-name=\"MACD\">1.27</td><td class=\"displayNone\" data-column-name=\"eq_revenue\">648.13B</td><td class=\"displayNone\" data-column-name=\"avg_volume\">20.66M</td><td class=\"displayNone\" data-column-name=\"eq_eps\">1.92</td><td class=\"displayNone\" data-column-name=\"eq_beta\">0.50</td><td class=\"displayNone\" data-column-name=\"eq_dividend\">0.83</td><td class=\"displayNone\" data-column-name=\"eq_yield\">-</td><td class=\"left displayNone\" data-column-name=\"tech_sum_900\">Strong Sell</td><td class=\"left displayNone\" data-column-name=\"tech_sum_3600\">Strong Sell</td><td class=\"left displayNone\" data-column-name=\"tech_sum_86400\">Strong Buy</td><td class=\"left displayNone\" data-column-name=\"tech_sum_week\">Strong Buy</td><td class=\"left displayNone\" data-column-name=\"tech_sum_month\">Strong Buy</td><td class=\"displayNone\" data-column-name=\"daily\">-0.52</td><td class=\"displayNone\" data-column-name=\"week\">0.96</td><td class=\"displayNone\" data-column-name=\"month\">6.89</td><td class=\"displayNone\" data-column-name=\"ytd\">15.51</td><td class=\"displayNone\" data-column-name=\"year\">30.62</td><td class=\"displayNone\" data-column-name=\"3year\">37.67</td><td class=\"displayNone\" data-column-name=\"eq_one_year_return\">31.70</td><td class=\"displayNone\" data-column-name=\"yield_us\">1.36%</td><td class=\"displayNone\" data-column-name=\"peexclxor_us\">31.51</td><td class=\"displayNone\" data-column-name=\"ttmpr2rev_us\">0.75</td><td class=\"displayNone\" data-column-name=\"aprfcfps_us\">13.68</td><td class=\"displayNone\" data-column-name=\"ttmprfcfps_us\">32.33</td><td class=\"displayNone\" data-column-name=\"price2bk_us\">5.83</td><td class=\"displayNone\" data-column-name=\"pr2tanbk_us\">8.81</td><td class=\"displayNone\" data-column-name=\"epschngyr_us\">-12.25</td><td class=\"displayNone\" data-column-name=\"ttmepschg_us\">34.38</td><td class=\"displayNone\" data-column-name=\"epstrendgr_us\">20.40</td><td class=\"displayNone\" data-column-name=\"revchngyr_us\">5.69</td><td class=\"displayNone\" data-column-name=\"ttmrevchg_us\">6.03</td><td class=\"displayNone\" data-column-name=\"revtrendgr_us\">4.73</td><td class=\"displayNone\" data-column-name=\"csptrendgr_us\">14.78</td><td class=\"displayNone\" data-column-name=\"ttmastturn_us\">2.62</td><td class=\"displayNone\" data-column-name=\"ttminvturn_us\">8.79</td><td class=\"displayNone\" data-column-name=\"ttmrevpere_us\">308.63</td><td class=\"displayNone\" data-column-name=\"ttmniperem_us\">7.75</td><td class=\"displayNone\" data-column-name=\"ttmrecturn_us\">79.62</td><td class=\"displayNone\" data-column-name=\"a52_week_high\">61.56</td><td class=\"displayNone\" data-column-name=\"a52_week_low\">46.49</td><td class=\"displayNone\" data-column-name=\"a52_week_high_diff\">-1.40</td><td class=\"displayNone\" data-column-name=\"a52_week_low_diff\">30.57</td><td class=\"displayNone\" data-column-name=\"month_change\">6.41%</td><td class=\"displayNone\" data-column-name=\"ttmgrosmgn_us\">24.38</td><td class=\"displayNone\" data-column-name=\"grosmgn5yr_us\">24.67</td><td class=\"displayNone\" data-column-name=\"ttmopmgn_us\">4.17</td><td class=\"displayNone\" data-column-name=\"opmgn5yr_us\">4.39</td><td class=\"displayNone\" data-column-name=\"ttmptmgn_us\">3.37</td><td class=\"displayNone\" data-column-name=\"ptmgn5yr_us\">3.34</td><td class=\"displayNone\" data-column-name=\"ttmnpmgn_us\">2.39</td><td class=\"displayNone\" data-column-name=\"margin5yr_us\">2.37</td><td class=\"displayNone\" data-column-name=\"qquickrati_us\">0.20</td><td class=\"displayNone\" data-column-name=\"qcurratio_us\">0.83</td><td class=\"displayNone\" data-column-name=\"qltd2eq_us\">43.09</td><td class=\"displayNone\" data-column-name=\"qtotd2eq_us\">73.12</td><td class=\"displayNone\" data-column-name=\"yld5yavg_us\">1.69</td><td class=\"displayNone\" data-column-name=\"divgrpct_us\">11.16</td><td class=\"displayNone\" data-column-name=\"ttmpayrat_us\">39.58</td><td class=\"displayNone\" data-column-name=\"ADX\">31.63</td><td class=\"displayNone\" data-column-name=\"ATR\">0.75</td><td class=\"displayNone\" data-column-name=\"BullBear\">1.32</td><td class=\"displayNone\" data-column-name=\"CCI\">73.67</td><td class=\"displayNone\" data-column-name=\"HL\">0.29</td><td class=\"displayNone\" data-column-name=\"ROC\">1.86</td><td class=\"displayNone\" data-column-name=\"RSI\">66.33</td><td class=\"displayNone\" data-column-name=\"STOCH\">76.15</td><td class=\"displayNone\" data-column-name=\"STOCHRSI\">17.45</td><td class=\"displayNone\" data-column-name=\"UO\">58.78</td><td class=\"displayNone\" data-column-name=\"WilliamsR\">-25.41</td> <td></td>\n",
      "</tr><tr>\n",
      "<td class=\"flag\"><span class=\"ceFlags USA\"></span></td>\n",
      "<td class=\"symbol left bold elp\" data-column-name=\"name_trans\"><a href=\"/equities/lvmh-moet-henn-l-vut\" target=\"_blank\" title=\"LVMH Moet Hennessy Louis Vuitton SA ADR\">Louis Vuitton ADR</a></td>\n",
      "<td class=\"left\" data-column-name=\"viewData.symbol\">LVMUY</td>\n",
      "<td class=\"left displayNone\" data-column-name=\"exchange_trans\">OTC Markets</td><td class=\"left displayNone\" data-column-name=\"sector_trans\">Consumer Cyclicals</td><td class=\"left displayNone\" data-column-name=\"industry_trans\">Textiles &amp; Apparel</td><td data-column-name=\"last\">188.8</td><td data-column-name=\"pair_change_percent\">-0.89%</td><td data-column-name=\"eq_market_cap\">468.98B</td><td data-column-name=\"turnover_volume\">203.25K</td><td class=\"displayNone\" data-column-name=\"eq_pe_ratio\">28.55</td><td class=\"displayNone\" data-column-name=\"MACD\">5.66</td><td class=\"displayNone\" data-column-name=\"eq_revenue\">86.15B</td><td class=\"displayNone\" data-column-name=\"avg_volume\">193.46K</td><td class=\"displayNone\" data-column-name=\"eq_eps\">30.34</td><td class=\"displayNone\" data-column-name=\"eq_beta\">1.00</td><td class=\"displayNone\" data-column-name=\"eq_dividend\">2.20</td><td class=\"displayNone\" data-column-name=\"eq_yield\">-</td><td class=\"left displayNone\" data-column-name=\"tech_sum_900\">Strong Buy</td><td class=\"left displayNone\" data-column-name=\"tech_sum_3600\">Neutral</td><td class=\"left displayNone\" data-column-name=\"tech_sum_86400\">Strong Buy</td><td class=\"left displayNone\" data-column-name=\"tech_sum_week\">Strong Buy</td><td class=\"left displayNone\" data-column-name=\"tech_sum_month\">Strong Buy</td><td class=\"displayNone\" data-column-name=\"daily\">-0.89</td><td class=\"displayNone\" data-column-name=\"week\">2.67</td><td class=\"displayNone\" data-column-name=\"month\">7.66</td><td class=\"displayNone\" data-column-name=\"ytd\">16.22</td><td class=\"displayNone\" data-column-name=\"year\">12.21</td><td class=\"displayNone\" data-column-name=\"3year\">37.82</td><td class=\"displayNone\" data-column-name=\"eq_one_year_return\">9.80</td><td class=\"displayNone\" data-column-name=\"yield_us\">1.16%</td><td class=\"displayNone\" data-column-name=\"peexclxor_us\">28.67</td><td class=\"displayNone\" data-column-name=\"ttmpr2rev_us\">5.05</td><td class=\"displayNone\" data-column-name=\"aprfcfps_us\">23.65</td><td class=\"displayNone\" data-column-name=\"ttmprfcfps_us\">37.53</td><td class=\"displayNone\" data-column-name=\"price2bk_us\">7.13</td><td class=\"displayNone\" data-column-name=\"pr2tanbk_us\">37.96</td><td class=\"displayNone\" data-column-name=\"epschngyr_us\">-11.03</td><td class=\"displayNone\" data-column-name=\"ttmepschg_us\">8.18</td><td class=\"displayNone\" data-column-name=\"epstrendgr_us\">19.15</td><td class=\"displayNone\" data-column-name=\"revchngyr_us\">3.43</td><td class=\"displayNone\" data-column-name=\"ttmrevchg_us\">8.80</td><td class=\"displayNone\" data-column-name=\"revtrendgr_us\">12.97</td><td class=\"displayNone\" data-column-name=\"csptrendgr_us\">21.32</td><td class=\"displayNone\" data-column-name=\"ttmastturn_us\">0.62</td><td class=\"displayNone\" data-column-name=\"ttminvturn_us\">1.24</td><td class=\"displayNone\" data-column-name=\"ttmrevpere_us\">448.04</td><td class=\"displayNone\" data-column-name=\"ttmniperem_us\">82.96</td><td class=\"displayNone\" data-column-name=\"ttmrecturn_us\">18.58</td><td class=\"displayNone\" data-column-name=\"a52_week_high\">200.76</td><td class=\"displayNone\" data-column-name=\"a52_week_low\">138.11</td><td class=\"displayNone\" data-column-name=\"a52_week_high_diff\">-5.96</td><td class=\"displayNone\" data-column-name=\"a52_week_low_diff\">36.70</td><td class=\"displayNone\" data-column-name=\"month_change\">10.1%</td><td class=\"displayNone\" data-column-name=\"ttmgrosmgn_us\">68.80</td><td class=\"displayNone\" data-column-name=\"grosmgn5yr_us\">67.12</td><td class=\"displayNone\" data-column-name=\"ttmopmgn_us\">26.46</td><td class=\"displayNone\" data-column-name=\"opmgn5yr_us\">23.64</td><td class=\"displayNone\" data-column-name=\"ttmptmgn_us\">25.10</td><td class=\"displayNone\" data-column-name=\"ptmgn5yr_us\">22.55</td><td class=\"displayNone\" data-column-name=\"ttmnpmgn_us\">17.61</td><td class=\"displayNone\" data-column-name=\"margin5yr_us\">16.39</td><td class=\"displayNone\" data-column-name=\"qquickrati_us\">0.48</td><td class=\"displayNone\" data-column-name=\"qcurratio_us\">1.32</td><td class=\"displayNone\" data-column-name=\"qltd2eq_us\">18.56</td><td class=\"displayNone\" data-column-name=\"qtotd2eq_us\">63.91</td><td class=\"displayNone\" data-column-name=\"yld5yavg_us\">1.54</td><td class=\"displayNone\" data-column-name=\"divgrpct_us\">55.26</td><td class=\"displayNone\" data-column-name=\"ttmpayrat_us\">41.20</td><td class=\"displayNone\" data-column-name=\"ADX\">36.92</td><td class=\"displayNone\" data-column-name=\"ATR\">2.67</td><td class=\"displayNone\" data-column-name=\"BullBear\">6.79</td><td class=\"displayNone\" data-column-name=\"CCI\">127.17</td><td class=\"displayNone\" data-column-name=\"HL\">3.08</td><td class=\"displayNone\" data-column-name=\"ROC\">3.24</td><td class=\"displayNone\" data-column-name=\"RSI\">67.89</td><td class=\"displayNone\" data-column-name=\"STOCH\">70.64</td><td class=\"displayNone\" data-column-name=\"STOCHRSI\">64.80</td><td class=\"displayNone\" data-column-name=\"UO\">67.03</td><td class=\"displayNone\" data-column-name=\"WilliamsR\">-21.38</td> <td></td>\n",
      "</tr><tr>\n",
      "<td class=\"flag\"><span class=\"ceFlags USA\"></span></td>\n",
      "<td class=\"symbol left bold elp\" data-column-name=\"name_trans\"><a href=\"/equities/united-health-group\" target=\"_blank\" title=\"UnitedHealth Group Incorporated\">UnitedHealth</a></td>\n",
      "<td class=\"left\" data-column-name=\"viewData.symbol\">UNH</td>\n",
      "<td class=\"left displayNone\" data-column-name=\"exchange_trans\">NYSE</td><td class=\"left displayNone\" data-column-name=\"sector_trans\">Healthcare</td><td class=\"left displayNone\" data-column-name=\"industry_trans\">Healthcare Providers &amp; Services</td><td data-column-name=\"last\">490.77</td><td data-column-name=\"pair_change_percent\">0.36%</td><td data-column-name=\"eq_market_cap\">452.50B</td><td data-column-name=\"turnover_volume\">3.48M</td><td class=\"displayNone\" data-column-name=\"eq_pe_ratio\">20.31</td><td class=\"displayNone\" data-column-name=\"MACD\">-7.69</td><td class=\"displayNone\" data-column-name=\"eq_revenue\">371.62B</td><td class=\"displayNone\" data-column-name=\"avg_volume\">3.92M</td><td class=\"displayNone\" data-column-name=\"eq_eps\">24.12</td><td class=\"displayNone\" data-column-name=\"eq_beta\">0.55</td><td class=\"displayNone\" data-column-name=\"eq_dividend\">7.52</td><td class=\"displayNone\" data-column-name=\"eq_yield\">-</td><td class=\"left displayNone\" data-column-name=\"tech_sum_900\">Strong Buy</td><td class=\"left displayNone\" data-column-name=\"tech_sum_3600\">Strong Buy</td><td class=\"left displayNone\" data-column-name=\"tech_sum_86400\">Strong Sell</td><td class=\"left displayNone\" data-column-name=\"tech_sum_week\">Strong Sell</td><td class=\"left displayNone\" data-column-name=\"tech_sum_month\">Neutral</td><td class=\"displayNone\" data-column-name=\"daily\">0.36</td><td class=\"displayNone\" data-column-name=\"week\">2.98</td><td class=\"displayNone\" data-column-name=\"month\">-5.90</td><td class=\"displayNone\" data-column-name=\"ytd\">-6.78</td><td class=\"displayNone\" data-column-name=\"year\">4.53</td><td class=\"displayNone\" data-column-name=\"3year\">39.35</td><td class=\"displayNone\" data-column-name=\"eq_one_year_return\">3.97</td><td class=\"displayNone\" data-column-name=\"yield_us\">1.54%</td><td class=\"displayNone\" data-column-name=\"peexclxor_us\">20.22</td><td class=\"displayNone\" data-column-name=\"ttmpr2rev_us\">1.22</td><td class=\"displayNone\" data-column-name=\"aprfcfps_us\">15.57</td><td class=\"displayNone\" data-column-name=\"ttmprfcfps_us\">17.62</td><td class=\"displayNone\" data-column-name=\"price2bk_us\">5.10</td><td class=\"displayNone\" data-column-name=\"pr2tanbk_us\">-12.87</td><td class=\"displayNone\" data-column-name=\"epschngyr_us\">16.05</td><td class=\"displayNone\" data-column-name=\"ttmepschg_us\">12.32</td><td class=\"displayNone\" data-column-name=\"epstrendgr_us\">14.14</td><td class=\"displayNone\" data-column-name=\"revchngyr_us\">14.06</td><td class=\"displayNone\" data-column-name=\"ttmrevchg_us\">14.64</td><td class=\"displayNone\" data-column-name=\"revtrendgr_us\">10.43</td><td class=\"displayNone\" data-column-name=\"csptrendgr_us\">10.42</td><td class=\"displayNone\" data-column-name=\"ttmastturn_us\">1.43</td><td class=\"displayNone\" data-column-name=\"ttminvturn_us\">89.10</td><td class=\"displayNone\" data-column-name=\"ttmrevpere_us\">844.60</td><td class=\"displayNone\" data-column-name=\"ttmniperem_us\">52.60</td><td class=\"displayNone\" data-column-name=\"ttmrecturn_us\">16.29</td><td class=\"displayNone\" data-column-name=\"a52_week_high\">554.7</td><td class=\"displayNone\" data-column-name=\"a52_week_low\">445.68</td><td class=\"displayNone\" data-column-name=\"a52_week_high_diff\">-11.53</td><td class=\"displayNone\" data-column-name=\"a52_week_low_diff\">10.12</td><td class=\"displayNone\" data-column-name=\"month_change\">-3.54%</td><td class=\"displayNone\" data-column-name=\"ttmgrosmgn_us\">24.48</td><td class=\"displayNone\" data-column-name=\"grosmgn5yr_us\">24.60</td><td class=\"displayNone\" data-column-name=\"ttmopmgn_us\">8.71</td><td class=\"displayNone\" data-column-name=\"opmgn5yr_us\">8.49</td><td class=\"displayNone\" data-column-name=\"ttmptmgn_us\">7.83</td><td class=\"displayNone\" data-column-name=\"ptmgn5yr_us\">7.82</td><td class=\"displayNone\" data-column-name=\"ttmnpmgn_us\">6.02</td><td class=\"displayNone\" data-column-name=\"margin5yr_us\">6.12</td><td class=\"displayNone\" data-column-name=\"qquickrati_us\">0.51</td><td class=\"displayNone\" data-column-name=\"qcurratio_us\">0.75</td><td class=\"displayNone\" data-column-name=\"qltd2eq_us\">65.64</td><td class=\"displayNone\" data-column-name=\"qtotd2eq_us\">75.98</td><td class=\"displayNone\" data-column-name=\"yld5yavg_us\">1.53</td><td class=\"displayNone\" data-column-name=\"divgrpct_us\">13.94</td><td class=\"displayNone\" data-column-name=\"ttmpayrat_us\">30.21</td><td class=\"displayNone\" data-column-name=\"ADX\">26.12</td><td class=\"displayNone\" data-column-name=\"ATR\">11.32</td><td class=\"displayNone\" data-column-name=\"BullBear\">-3.13</td><td class=\"displayNone\" data-column-name=\"CCI\">-1.30</td><td class=\"displayNone\" data-column-name=\"HL\">0.00</td><td class=\"displayNone\" data-column-name=\"ROC\">-6.55</td><td class=\"displayNone\" data-column-name=\"RSI\">43.21</td><td class=\"displayNone\" data-column-name=\"STOCH\">61.30</td><td class=\"displayNone\" data-column-name=\"STOCHRSI\">94.49</td><td class=\"displayNone\" data-column-name=\"UO\">53.61</td><td class=\"displayNone\" data-column-name=\"WilliamsR\">-60.44</td> <td></td>\n",
      "</tr><tr>\n",
      "<td class=\"flag\"><span class=\"ceFlags USA\"></span></td>\n",
      "<td class=\"symbol left bold elp\" data-column-name=\"name_trans\"><a href=\"/equities/mastercard-cl-a\" target=\"_blank\" title=\"Mastercard Inc\">Mastercard</a></td>\n",
      "<td class=\"left\" data-column-name=\"viewData.symbol\">MA</td>\n",
      "<td class=\"left displayNone\" data-column-name=\"exchange_trans\">NYSE</td><td class=\"left displayNone\" data-column-name=\"sector_trans\">Technology</td><td class=\"left displayNone\" data-column-name=\"industry_trans\">Software &amp; IT Services</td><td data-column-name=\"last\">475.88</td><td data-column-name=\"pair_change_percent\">-0.75%</td><td data-column-name=\"eq_market_cap\">443.90B</td><td data-column-name=\"turnover_volume\">2.17M</td><td class=\"displayNone\" data-column-name=\"eq_pe_ratio\">40.09</td><td class=\"displayNone\" data-column-name=\"MACD\">6.03</td><td class=\"displayNone\" data-column-name=\"eq_revenue\">25.10B</td><td class=\"displayNone\" data-column-name=\"avg_volume\">2.35M</td><td class=\"displayNone\" data-column-name=\"eq_eps\">11.86</td><td class=\"displayNone\" data-column-name=\"eq_beta\">1.08</td><td class=\"displayNone\" data-column-name=\"eq_dividend\">2.64</td><td class=\"displayNone\" data-column-name=\"eq_yield\">-</td><td class=\"left displayNone\" data-column-name=\"tech_sum_900\">Strong Buy</td><td class=\"left displayNone\" data-column-name=\"tech_sum_3600\">Neutral</td><td class=\"left displayNone\" data-column-name=\"tech_sum_86400\">Strong Buy</td><td class=\"left displayNone\" data-column-name=\"tech_sum_week\">Strong Buy</td><td class=\"left displayNone\" data-column-name=\"tech_sum_month\">Strong Buy</td><td class=\"displayNone\" data-column-name=\"daily\">-0.75</td><td class=\"displayNone\" data-column-name=\"week\">1.41</td><td class=\"displayNone\" data-column-name=\"month\">1.66</td><td class=\"displayNone\" data-column-name=\"ytd\">11.58</td><td class=\"displayNone\" data-column-name=\"year\">36.10</td><td class=\"displayNone\" data-column-name=\"3year\">25.67</td><td class=\"displayNone\" data-column-name=\"eq_one_year_return\">36.75</td><td class=\"displayNone\" data-column-name=\"yield_us\">0.55%</td><td class=\"displayNone\" data-column-name=\"peexclxor_us\">39.60</td><td class=\"displayNone\" data-column-name=\"ttmpr2rev_us\">17.67</td><td class=\"displayNone\" data-column-name=\"aprfcfps_us\">37.01</td><td class=\"displayNone\" data-column-name=\"ttmprfcfps_us\">38.19</td><td class=\"displayNone\" data-column-name=\"price2bk_us\">63.99</td><td class=\"displayNone\" data-column-name=\"pr2tanbk_us\">-93.08</td><td class=\"displayNone\" data-column-name=\"epschngyr_us\">13.37</td><td class=\"displayNone\" data-column-name=\"ttmepschg_us\">15.61</td><td class=\"displayNone\" data-column-name=\"epstrendgr_us\">16.07</td><td class=\"displayNone\" data-column-name=\"revchngyr_us\">12.57</td><td class=\"displayNone\" data-column-name=\"ttmrevchg_us\">12.87</td><td class=\"displayNone\" data-column-name=\"revtrendgr_us\">10.92</td><td class=\"displayNone\" data-column-name=\"csptrendgr_us\">2.37</td><td class=\"displayNone\" data-column-name=\"ttmastturn_us\">0.62</td><td class=\"displayNone\" data-column-name=\"ttminvturn_us\">0.00</td><td class=\"displayNone\" data-column-name=\"ttmrevpere_us\">751.44</td><td class=\"displayNone\" data-column-name=\"ttmniperem_us\">335.18</td><td class=\"displayNone\" data-column-name=\"ttmrecturn_us\">6.45</td><td class=\"displayNone\" data-column-name=\"a52_week_high\">482</td><td class=\"displayNone\" data-column-name=\"a52_week_low\">346.31</td><td class=\"displayNone\" data-column-name=\"a52_week_high_diff\">-1.27</td><td class=\"displayNone\" data-column-name=\"a52_week_low_diff\">37.41</td><td class=\"displayNone\" data-column-name=\"month_change\">5.68%</td><td class=\"displayNone\" data-column-name=\"ttmgrosmgn_us\">100.00</td><td class=\"displayNone\" data-column-name=\"grosmgn5yr_us\">100.00</td><td class=\"displayNone\" data-column-name=\"ttmopmgn_us\">57.96</td><td class=\"displayNone\" data-column-name=\"opmgn5yr_us\">55.85</td><td class=\"displayNone\" data-column-name=\"ttmptmgn_us\">54.34</td><td class=\"displayNone\" data-column-name=\"ptmgn5yr_us\">53.30</td><td class=\"displayNone\" data-column-name=\"ttmnpmgn_us\">44.61</td><td class=\"displayNone\" data-column-name=\"margin5yr_us\">44.37</td><td class=\"displayNone\" data-column-name=\"qquickrati_us\">0.82</td><td class=\"displayNone\" data-column-name=\"qcurratio_us\">1.17</td><td class=\"displayNone\" data-column-name=\"qltd2eq_us\">207.01</td><td class=\"displayNone\" data-column-name=\"qtotd2eq_us\">237.49</td><td class=\"displayNone\" data-column-name=\"yld5yavg_us\">0.57</td><td class=\"displayNone\" data-column-name=\"divgrpct_us\">15.79</td><td class=\"displayNone\" data-column-name=\"ttmpayrat_us\">19.28</td><td class=\"displayNone\" data-column-name=\"ADX\">23.86</td><td class=\"displayNone\" data-column-name=\"ATR\">5.80</td><td class=\"displayNone\" data-column-name=\"BullBear\">6.89</td><td class=\"displayNone\" data-column-name=\"CCI\">67.52</td><td class=\"displayNone\" data-column-name=\"HL\">0.72</td><td class=\"displayNone\" data-column-name=\"ROC\">0.33</td><td class=\"displayNone\" data-column-name=\"RSI\">60.18</td><td class=\"displayNone\" data-column-name=\"STOCH\">52.47</td><td class=\"displayNone\" data-column-name=\"STOCHRSI\">35.83</td><td class=\"displayNone\" data-column-name=\"UO\">58.23</td><td class=\"displayNone\" data-column-name=\"WilliamsR\">-34.18</td> <td></td>\n",
      "</tr><tr>\n",
      "<td class=\"flag\"><span class=\"ceFlags USA\"></span></td>\n",
      "<td class=\"symbol left bold elp\" data-column-name=\"name_trans\"><a href=\"/equities/exxon-mobil\" target=\"_blank\" title=\"Exxon Mobil Corp\">Exxon Mobil</a></td>\n",
      "<td class=\"left\" data-column-name=\"viewData.symbol\">XOM</td>\n",
      "<td class=\"left displayNone\" data-column-name=\"exchange_trans\">NYSE</td><td class=\"left displayNone\" data-column-name=\"sector_trans\">Energy</td><td class=\"left displayNone\" data-column-name=\"industry_trans\">Oil &amp; Gas</td><td data-column-name=\"last\">111.3</td><td data-column-name=\"pair_change_percent\">-0.15%</td><td data-column-name=\"eq_market_cap\">441.50B</td><td data-column-name=\"turnover_volume\">19.52M</td><td class=\"displayNone\" data-column-name=\"eq_pe_ratio\">12.51</td><td class=\"displayNone\" data-column-name=\"MACD\">2.17</td><td class=\"displayNone\" data-column-name=\"eq_revenue\">338.29B</td><td class=\"displayNone\" data-column-name=\"avg_volume\">18.46M</td><td class=\"displayNone\" data-column-name=\"eq_eps\">8.89</td><td class=\"displayNone\" data-column-name=\"eq_beta\">0.95</td><td class=\"displayNone\" data-column-name=\"eq_dividend\">3.80</td><td class=\"displayNone\" data-column-name=\"eq_yield\">-</td><td class=\"left displayNone\" data-column-name=\"tech_sum_900\">Strong Buy</td><td class=\"left displayNone\" data-column-name=\"tech_sum_3600\">Strong Buy</td><td class=\"left displayNone\" data-column-name=\"tech_sum_86400\">Strong Buy</td><td class=\"left displayNone\" data-column-name=\"tech_sum_week\">Strong Buy</td><td class=\"left displayNone\" data-column-name=\"tech_sum_month\">Strong Buy</td><td class=\"displayNone\" data-column-name=\"daily\">-0.15</td><td class=\"displayNone\" data-column-name=\"week\">2.69</td><td class=\"displayNone\" data-column-name=\"month\">7.30</td><td class=\"displayNone\" data-column-name=\"ytd\">11.32</td><td class=\"displayNone\" data-column-name=\"year\">11.48</td><td class=\"displayNone\" data-column-name=\"3year\">87.47</td><td class=\"displayNone\" data-column-name=\"eq_one_year_return\">10.17</td><td class=\"displayNone\" data-column-name=\"yield_us\">3.41%</td><td class=\"displayNone\" data-column-name=\"peexclxor_us\">12.26</td><td class=\"displayNone\" data-column-name=\"ttmpr2rev_us\">1.31</td><td class=\"displayNone\" data-column-name=\"aprfcfps_us\">7.98</td><td class=\"displayNone\" data-column-name=\"ttmprfcfps_us\">13.20</td><td class=\"displayNone\" data-column-name=\"price2bk_us\">2.16</td><td class=\"displayNone\" data-column-name=\"pr2tanbk_us\">2.16</td><td class=\"displayNone\" data-column-name=\"epschngyr_us\">-38.19</td><td class=\"displayNone\" data-column-name=\"ttmepschg_us\">-32.96</td><td class=\"displayNone\" data-column-name=\"epstrendgr_us\">12.73</td><td class=\"displayNone\" data-column-name=\"revchngyr_us\">-11.80</td><td class=\"displayNone\" data-column-name=\"ttmrevchg_us\">-15.68</td><td class=\"displayNone\" data-column-name=\"revtrendgr_us\">3.81</td><td class=\"displayNone\" data-column-name=\"csptrendgr_us\">2.29</td><td class=\"displayNone\" data-column-name=\"ttmastturn_us\">0.91</td><td class=\"displayNone\" data-column-name=\"ttminvturn_us\">9.17</td><td class=\"displayNone\" data-column-name=\"ttmrevpere_us\">5.46</td><td class=\"displayNone\" data-column-name=\"ttmniperem_us\">602.48</td><td class=\"displayNone\" data-column-name=\"ttmrecturn_us\">9.06</td><td class=\"displayNone\" data-column-name=\"a52_week_high\">120.7</td><td class=\"displayNone\" data-column-name=\"a52_week_low\">95.77</td><td class=\"displayNone\" data-column-name=\"a52_week_high_diff\">-7.79</td><td class=\"displayNone\" data-column-name=\"a52_week_low_diff\">16.22</td><td class=\"displayNone\" data-column-name=\"month_change\">1.66%</td><td class=\"displayNone\" data-column-name=\"ttmgrosmgn_us\">32.83</td><td class=\"displayNone\" data-column-name=\"grosmgn5yr_us\">32.02</td><td class=\"displayNone\" data-column-name=\"ttmopmgn_us\">15.10</td><td class=\"displayNone\" data-column-name=\"opmgn5yr_us\">8.52</td><td class=\"displayNone\" data-column-name=\"ttmptmgn_us\">15.58</td><td class=\"displayNone\" data-column-name=\"ptmgn5yr_us\">7.90</td><td class=\"displayNone\" data-column-name=\"ttmnpmgn_us\">10.63</td><td class=\"displayNone\" data-column-name=\"margin5yr_us\">5.61</td><td class=\"displayNone\" data-column-name=\"qquickrati_us\">0.95</td><td class=\"displayNone\" data-column-name=\"qcurratio_us\">1.48</td><td class=\"displayNone\" data-column-name=\"qltd2eq_us\">17.41</td><td class=\"displayNone\" data-column-name=\"qtotd2eq_us\">23.30</td><td class=\"displayNone\" data-column-name=\"yld5yavg_us\">6.11</td><td class=\"displayNone\" data-column-name=\"divgrpct_us\">4.40</td><td class=\"displayNone\" data-column-name=\"ttmpayrat_us\">41.49</td><td class=\"displayNone\" data-column-name=\"ADX\">50.70</td><td class=\"displayNone\" data-column-name=\"ATR\">1.61</td><td class=\"displayNone\" data-column-name=\"BullBear\">7.31</td><td class=\"displayNone\" data-column-name=\"CCI\">160.34</td><td class=\"displayNone\" data-column-name=\"HL\">3.37</td><td class=\"displayNone\" data-column-name=\"ROC\">6.74</td><td class=\"displayNone\" data-column-name=\"RSI\">71.28</td><td class=\"displayNone\" data-column-name=\"STOCH\">68.28</td><td class=\"displayNone\" data-column-name=\"STOCHRSI\">94.14</td><td class=\"displayNone\" data-column-name=\"UO\">63.01</td><td class=\"displayNone\" data-column-name=\"WilliamsR\">-12.07</td> <td></td>\n",
      "</tr><tr>\n",
      "<td class=\"flag\"><span class=\"ceFlags USA\"></span></td>\n",
      "<td class=\"symbol left bold elp\" data-column-name=\"name_trans\"><a href=\"/equities/johnson-johnson\" target=\"_blank\" title=\"Johnson &amp; Johnson\">J&amp;J</a></td>\n",
      "<td class=\"left\" data-column-name=\"viewData.symbol\">JNJ</td>\n",
      "<td class=\"left displayNone\" data-column-name=\"exchange_trans\">NYSE</td><td class=\"left displayNone\" data-column-name=\"sector_trans\">Healthcare</td><td class=\"left displayNone\" data-column-name=\"industry_trans\">Pharmaceuticals</td><td data-column-name=\"last\">158.18</td><td data-column-name=\"pair_change_percent\">-0.65%</td><td data-column-name=\"eq_market_cap\">381.18B</td><td data-column-name=\"turnover_volume\">12.16M</td><td class=\"displayNone\" data-column-name=\"eq_pe_ratio\">11.39</td><td class=\"displayNone\" data-column-name=\"MACD\">-0.01</td><td class=\"displayNone\" data-column-name=\"eq_revenue\">85.16B</td><td class=\"displayNone\" data-column-name=\"avg_volume\">6.66M</td><td class=\"displayNone\" data-column-name=\"eq_eps\">13.88</td><td class=\"displayNone\" data-column-name=\"eq_beta\">0.53</td><td class=\"displayNone\" data-column-name=\"eq_dividend\">4.76</td><td class=\"displayNone\" data-column-name=\"eq_yield\">-</td><td class=\"left displayNone\" data-column-name=\"tech_sum_900\">Sell</td><td class=\"left displayNone\" data-column-name=\"tech_sum_3600\">Strong Sell</td><td class=\"left displayNone\" data-column-name=\"tech_sum_86400\">Strong Sell</td><td class=\"left displayNone\" data-column-name=\"tech_sum_week\">Sell</td><td class=\"left displayNone\" data-column-name=\"tech_sum_month\">Sell</td><td class=\"displayNone\" data-column-name=\"daily\">-0.65</td><td class=\"displayNone\" data-column-name=\"week\">-0.84</td><td class=\"displayNone\" data-column-name=\"month\">1.04</td><td class=\"displayNone\" data-column-name=\"ytd\">0.92</td><td class=\"displayNone\" data-column-name=\"year\">3.81</td><td class=\"displayNone\" data-column-name=\"3year\">-1.61</td><td class=\"displayNone\" data-column-name=\"eq_one_year_return\">2.69</td><td class=\"displayNone\" data-column-name=\"yield_us\">2.99%</td><td class=\"displayNone\" data-column-name=\"peexclxor_us\">28.60</td><td class=\"displayNone\" data-column-name=\"ttmpr2rev_us\">4.48</td><td class=\"displayNone\" data-column-name=\"aprfcfps_us\">16.72</td><td class=\"displayNone\" data-column-name=\"ttmprfcfps_us\">21.44</td><td class=\"displayNone\" data-column-name=\"price2bk_us\">5.54</td><td class=\"displayNone\" data-column-name=\"pr2tanbk_us\">-194.58</td><td class=\"displayNone\" data-column-name=\"epschngyr_us\">0.00</td><td class=\"displayNone\" data-column-name=\"ttmepschg_us\">103.03</td><td class=\"displayNone\" data-column-name=\"epstrendgr_us\">19.45</td><td class=\"displayNone\" data-column-name=\"revchngyr_us\">0.00</td><td class=\"displayNone\" data-column-name=\"ttmrevchg_us\">6.46</td><td class=\"displayNone\" data-column-name=\"revtrendgr_us\">0.86</td><td class=\"displayNone\" data-column-name=\"csptrendgr_us\">6.44</td><td class=\"displayNone\" data-column-name=\"ttmastturn_us\">0.48</td><td class=\"displayNone\" data-column-name=\"ttminvturn_us\">2.45</td><td class=\"displayNone\" data-column-name=\"ttmrevpere_us\">645.63</td><td class=\"displayNone\" data-column-name=\"ttmniperem_us\">266.51</td><td class=\"displayNone\" data-column-name=\"ttmrecturn_us\">5.77</td><td class=\"displayNone\" data-column-name=\"a52_week_high\">175.97</td><td class=\"displayNone\" data-column-name=\"a52_week_low\">144.95</td><td class=\"displayNone\" data-column-name=\"a52_week_high_diff\">-10.11</td><td class=\"displayNone\" data-column-name=\"a52_week_low_diff\">9.13</td><td class=\"displayNone\" data-column-name=\"month_change\">1.56%</td><td class=\"displayNone\" data-column-name=\"ttmgrosmgn_us\">69.18</td><td class=\"displayNone\" data-column-name=\"grosmgn5yr_us\">67.33</td><td class=\"displayNone\" data-column-name=\"ttmopmgn_us\">27.79</td><td class=\"displayNone\" data-column-name=\"opmgn5yr_us\">26.29</td><td class=\"displayNone\" data-column-name=\"ttmptmgn_us\">17.69</td><td class=\"displayNone\" data-column-name=\"ptmgn5yr_us\">21.02</td><td class=\"displayNone\" data-column-name=\"ttmnpmgn_us\">41.28</td><td class=\"displayNone\" data-column-name=\"margin5yr_us\">21.30</td><td class=\"displayNone\" data-column-name=\"qquickrati_us\">0.82</td><td class=\"displayNone\" data-column-name=\"qcurratio_us\">1.16</td><td class=\"displayNone\" data-column-name=\"qltd2eq_us\">37.63</td><td class=\"displayNone\" data-column-name=\"qtotd2eq_us\">44.25</td><td class=\"displayNone\" data-column-name=\"yld5yavg_us\">2.91</td><td class=\"displayNone\" data-column-name=\"divgrpct_us\">5.31</td><td class=\"displayNone\" data-column-name=\"ttmpayrat_us\">33.48</td><td class=\"displayNone\" data-column-name=\"ADX\">27.53</td><td class=\"displayNone\" data-column-name=\"ATR\">2.10</td><td class=\"displayNone\" data-column-name=\"BullBear\">-3.49</td><td class=\"displayNone\" data-column-name=\"CCI\">-177.15</td><td class=\"displayNone\" data-column-name=\"HL\">-1.22</td><td class=\"displayNone\" data-column-name=\"ROC\">-1.65</td><td class=\"displayNone\" data-column-name=\"RSI\">44.61</td><td class=\"displayNone\" data-column-name=\"STOCH\">53.16</td><td class=\"displayNone\" data-column-name=\"STOCHRSI\">0.00</td><td class=\"displayNone\" data-column-name=\"UO\">52.25</td><td class=\"displayNone\" data-column-name=\"WilliamsR\">-83.53</td> <td></td>\n",
      "</tr><tr>\n",
      "<td class=\"flag\"><span class=\"ceFlags USA\"></span></td>\n",
      "<td class=\"symbol left bold elp\" data-column-name=\"name_trans\"><a href=\"/equities/procter-gamble\" target=\"_blank\" title=\"Procter &amp; Gamble Company\">Procter&amp;Gamble</a></td>\n",
      "<td class=\"left\" data-column-name=\"viewData.symbol\">PG</td>\n",
      "<td class=\"left displayNone\" data-column-name=\"exchange_trans\">NYSE</td><td class=\"left displayNone\" data-column-name=\"sector_trans\">Consumer Non-Cyclicals</td><td class=\"left displayNone\" data-column-name=\"industry_trans\">Personal &amp; Household Products &amp; Services</td><td data-column-name=\"last\">161.41</td><td data-column-name=\"pair_change_percent\">-0.06%</td><td data-column-name=\"eq_market_cap\">379.73B</td><td data-column-name=\"turnover_volume\">6.33M</td><td class=\"displayNone\" data-column-name=\"eq_pe_ratio\">26.19</td><td class=\"displayNone\" data-column-name=\"MACD\">1.57</td><td class=\"displayNone\" data-column-name=\"eq_revenue\">83.93B</td><td class=\"displayNone\" data-column-name=\"avg_volume\">6.57M</td><td class=\"displayNone\" data-column-name=\"eq_eps\">6.14</td><td class=\"displayNone\" data-column-name=\"eq_beta\">0.43</td><td class=\"displayNone\" data-column-name=\"eq_dividend\">3.76</td><td class=\"displayNone\" data-column-name=\"eq_yield\">-</td><td class=\"left displayNone\" data-column-name=\"tech_sum_900\">Strong Buy</td><td class=\"left displayNone\" data-column-name=\"tech_sum_3600\">Neutral</td><td class=\"left displayNone\" data-column-name=\"tech_sum_86400\">Strong Buy</td><td class=\"left displayNone\" data-column-name=\"tech_sum_week\">Strong Buy</td><td class=\"left displayNone\" data-column-name=\"tech_sum_month\">Strong Buy</td><td class=\"displayNone\" data-column-name=\"daily\">-0.06</td><td class=\"displayNone\" data-column-name=\"week\">0.66</td><td class=\"displayNone\" data-column-name=\"month\">2.48</td><td class=\"displayNone\" data-column-name=\"ytd\">10.15</td><td class=\"displayNone\" data-column-name=\"year\">12.93</td><td class=\"displayNone\" data-column-name=\"3year\">25.69</td><td class=\"displayNone\" data-column-name=\"eq_one_year_return\">12.96</td><td class=\"displayNone\" data-column-name=\"yield_us\">2.33%</td><td class=\"displayNone\" data-column-name=\"peexclxor_us\">26.21</td><td class=\"displayNone\" data-column-name=\"ttmpr2rev_us\">4.53</td><td class=\"displayNone\" data-column-name=\"aprfcfps_us\">23.50</td><td class=\"displayNone\" data-column-name=\"ttmprfcfps_us\">23.73</td><td class=\"displayNone\" data-column-name=\"price2bk_us\">7.96</td><td class=\"displayNone\" data-column-name=\"pr2tanbk_us\">-24.51</td><td class=\"displayNone\" data-column-name=\"epschngyr_us\">-11.74</td><td class=\"displayNone\" data-column-name=\"ttmepschg_us\">4.73</td><td class=\"displayNone\" data-column-name=\"epstrendgr_us\">10.10</td><td class=\"displayNone\" data-column-name=\"revchngyr_us\">3.22</td><td class=\"displayNone\" data-column-name=\"ttmrevchg_us\">4.55</td><td class=\"displayNone\" data-column-name=\"revtrendgr_us\">4.18</td><td class=\"displayNone\" data-column-name=\"csptrendgr_us\">-3.80</td><td class=\"displayNone\" data-column-name=\"ttmastturn_us\">0.70</td><td class=\"displayNone\" data-column-name=\"ttminvturn_us\">5.65</td><td class=\"displayNone\" data-column-name=\"ttmrevpere_us\">784.42</td><td class=\"displayNone\" data-column-name=\"ttmniperem_us\">138.92</td><td class=\"displayNone\" data-column-name=\"ttmrecturn_us\">13.67</td><td class=\"displayNone\" data-column-name=\"a52_week_high\">162.73</td><td class=\"displayNone\" data-column-name=\"a52_week_low\">141.45</td><td class=\"displayNone\" data-column-name=\"a52_week_high_diff\">-0.81</td><td class=\"displayNone\" data-column-name=\"a52_week_low_diff\">14.11</td><td class=\"displayNone\" data-column-name=\"month_change\">1.15%</td><td class=\"displayNone\" data-column-name=\"ttmgrosmgn_us\">50.55</td><td class=\"displayNone\" data-column-name=\"grosmgn5yr_us\">49.58</td><td class=\"displayNone\" data-column-name=\"ttmopmgn_us\">24.90</td><td class=\"displayNone\" data-column-name=\"opmgn5yr_us\">23.46</td><td class=\"displayNone\" data-column-name=\"ttmptmgn_us\">22.42</td><td class=\"displayNone\" data-column-name=\"ptmgn5yr_us\">19.91</td><td class=\"displayNone\" data-column-name=\"ttmnpmgn_us\">17.60</td><td class=\"displayNone\" data-column-name=\"margin5yr_us\">15.95</td><td class=\"displayNone\" data-column-name=\"qquickrati_us\">0.40</td><td class=\"displayNone\" data-column-name=\"qcurratio_us\">0.64</td><td class=\"displayNone\" data-column-name=\"qltd2eq_us\">48.39</td><td class=\"displayNone\" data-column-name=\"qtotd2eq_us\">70.64</td><td class=\"displayNone\" data-column-name=\"yld5yavg_us\">2.67</td><td class=\"displayNone\" data-column-name=\"divgrpct_us\">3.00</td><td class=\"displayNone\" data-column-name=\"ttmpayrat_us\">61.55</td><td class=\"displayNone\" data-column-name=\"ADX\">25.55</td><td class=\"displayNone\" data-column-name=\"ATR\">1.61</td><td class=\"displayNone\" data-column-name=\"BullBear\">0.46</td><td class=\"displayNone\" data-column-name=\"CCI\">51.86</td><td class=\"displayNone\" data-column-name=\"HL\">0.42</td><td class=\"displayNone\" data-column-name=\"ROC\">0.70</td><td class=\"displayNone\" data-column-name=\"RSI\">61.78</td><td class=\"displayNone\" data-column-name=\"STOCH\">75.14</td><td class=\"displayNone\" data-column-name=\"STOCHRSI\">43.13</td><td class=\"displayNone\" data-column-name=\"UO\">62.20</td><td class=\"displayNone\" data-column-name=\"WilliamsR\">-27.15</td> <td></td>\n",
      "</tr><tr>\n",
      "<td class=\"flag\"><span class=\"ceFlags USA\"></span></td>\n",
      "<td class=\"symbol left bold elp\" data-column-name=\"name_trans\"><a href=\"/equities/home-depot\" target=\"_blank\" title=\"Home Depot Inc\">Home Depot</a></td>\n",
      "<td class=\"left\" data-column-name=\"viewData.symbol\">HD</td>\n",
      "<td class=\"left displayNone\" data-column-name=\"exchange_trans\">NYSE</td><td class=\"left displayNone\" data-column-name=\"sector_trans\">Consumer Cyclicals</td><td class=\"left displayNone\" data-column-name=\"industry_trans\">Specialty Retailers</td><td data-column-name=\"last\">373.4</td><td data-column-name=\"pair_change_percent\">-0.5%</td><td data-column-name=\"eq_market_cap\">369.88B</td><td data-column-name=\"turnover_volume\">7.25M</td><td class=\"displayNone\" data-column-name=\"eq_pe_ratio\">24.84</td><td class=\"displayNone\" data-column-name=\"MACD\">3.47</td><td class=\"displayNone\" data-column-name=\"eq_revenue\">152.67B</td><td class=\"displayNone\" data-column-name=\"avg_volume\">3.13M</td><td class=\"displayNone\" data-column-name=\"eq_eps\">15.16</td><td class=\"displayNone\" data-column-name=\"eq_beta\">0.99</td><td class=\"displayNone\" data-column-name=\"eq_dividend\">9.00</td><td class=\"displayNone\" data-column-name=\"eq_yield\">-</td><td class=\"left displayNone\" data-column-name=\"tech_sum_900\">Strong Sell</td><td class=\"left displayNone\" data-column-name=\"tech_sum_3600\">Strong Sell</td><td class=\"left displayNone\" data-column-name=\"tech_sum_86400\">Neutral</td><td class=\"left displayNone\" data-column-name=\"tech_sum_week\">Strong Buy</td><td class=\"left displayNone\" data-column-name=\"tech_sum_month\">Strong Buy</td><td class=\"displayNone\" data-column-name=\"daily\">-0.50</td><td class=\"displayNone\" data-column-name=\"week\">0.01</td><td class=\"displayNone\" data-column-name=\"month\">3.05</td><td class=\"displayNone\" data-column-name=\"ytd\">7.75</td><td class=\"displayNone\" data-column-name=\"year\">29.48</td><td class=\"displayNone\" data-column-name=\"3year\">33.34</td><td class=\"displayNone\" data-column-name=\"eq_one_year_return\">30.23</td><td class=\"displayNone\" data-column-name=\"yield_us\">2.4%</td><td class=\"displayNone\" data-column-name=\"peexclxor_us\">-</td><td class=\"displayNone\" data-column-name=\"ttmpr2rev_us\">-</td><td class=\"displayNone\" data-column-name=\"aprfcfps_us\">-</td><td class=\"displayNone\" data-column-name=\"ttmprfcfps_us\">-</td><td class=\"displayNone\" data-column-name=\"price2bk_us\">-</td><td class=\"displayNone\" data-column-name=\"pr2tanbk_us\">-</td><td class=\"displayNone\" data-column-name=\"epschngyr_us\">-</td><td class=\"displayNone\" data-column-name=\"ttmepschg_us\">-</td><td class=\"displayNone\" data-column-name=\"epstrendgr_us\">-</td><td class=\"displayNone\" data-column-name=\"revchngyr_us\">-</td><td class=\"displayNone\" data-column-name=\"ttmrevchg_us\">-</td><td class=\"displayNone\" data-column-name=\"revtrendgr_us\">-</td><td class=\"displayNone\" data-column-name=\"csptrendgr_us\">-</td><td class=\"displayNone\" data-column-name=\"ttmastturn_us\">-</td><td class=\"displayNone\" data-column-name=\"ttminvturn_us\">-</td><td class=\"displayNone\" data-column-name=\"ttmrevpere_us\">-</td><td class=\"displayNone\" data-column-name=\"ttmniperem_us\">-</td><td class=\"displayNone\" data-column-name=\"ttmrecturn_us\">-</td><td class=\"displayNone\" data-column-name=\"a52_week_high\">385.1</td><td class=\"displayNone\" data-column-name=\"a52_week_low\">274.26</td><td class=\"displayNone\" data-column-name=\"a52_week_high_diff\">-3.04</td><td class=\"displayNone\" data-column-name=\"a52_week_low_diff\">36.15</td><td class=\"displayNone\" data-column-name=\"month_change\">7.83%</td><td class=\"displayNone\" data-column-name=\"ttmgrosmgn_us\">-</td><td class=\"displayNone\" data-column-name=\"grosmgn5yr_us\">-</td><td class=\"displayNone\" data-column-name=\"ttmopmgn_us\">-</td><td class=\"displayNone\" data-column-name=\"opmgn5yr_us\">-</td><td class=\"displayNone\" data-column-name=\"ttmptmgn_us\">-</td><td class=\"displayNone\" data-column-name=\"ptmgn5yr_us\">-</td><td class=\"displayNone\" data-column-name=\"ttmnpmgn_us\">-</td><td class=\"displayNone\" data-column-name=\"margin5yr_us\">-</td><td class=\"displayNone\" data-column-name=\"qquickrati_us\">-</td><td class=\"displayNone\" data-column-name=\"qcurratio_us\">-</td><td class=\"displayNone\" data-column-name=\"qltd2eq_us\">-</td><td class=\"displayNone\" data-column-name=\"qtotd2eq_us\">-</td><td class=\"displayNone\" data-column-name=\"yld5yavg_us\">-</td><td class=\"displayNone\" data-column-name=\"divgrpct_us\">-</td><td class=\"displayNone\" data-column-name=\"ttmpayrat_us\">-</td><td class=\"displayNone\" data-column-name=\"ADX\">28.17</td><td class=\"displayNone\" data-column-name=\"ATR\">5.13</td><td class=\"displayNone\" data-column-name=\"BullBear\">2.17</td><td class=\"displayNone\" data-column-name=\"CCI\">-54.24</td><td class=\"displayNone\" data-column-name=\"HL\">-1.42</td><td class=\"displayNone\" data-column-name=\"ROC\">0.46</td><td class=\"displayNone\" data-column-name=\"RSI\">53.82</td><td class=\"displayNone\" data-column-name=\"STOCH\">35.69</td><td class=\"displayNone\" data-column-name=\"STOCHRSI\">0.00</td><td class=\"displayNone\" data-column-name=\"UO\">44.80</td><td class=\"displayNone\" data-column-name=\"WilliamsR\">-72.70</td> <td></td>\n",
      "</tr><tr>\n",
      "<td class=\"flag\"><span class=\"ceFlags USA\"></span></td>\n",
      "<td class=\"symbol left bold elp\" data-column-name=\"name_trans\"><a href=\"/equities/asml-holdings\" target=\"_blank\" title=\"ASML Holding NV ADR\">ASML  ADR</a></td>\n",
      "<td class=\"left\" data-column-name=\"viewData.symbol\">ASML</td>\n",
      "<td class=\"left displayNone\" data-column-name=\"exchange_trans\">NASDAQ</td><td class=\"left displayNone\" data-column-name=\"sector_trans\">Technology</td><td class=\"left displayNone\" data-column-name=\"industry_trans\">Semiconductors &amp; Semiconductor Equipment</td><td data-column-name=\"last\">940.21</td><td data-column-name=\"pair_change_percent\">-2.04%</td><td data-column-name=\"eq_market_cap\">367.13B</td><td data-column-name=\"turnover_volume\">1.63M</td><td class=\"displayNone\" data-column-name=\"eq_pe_ratio\">43.61</td><td class=\"displayNone\" data-column-name=\"MACD\">27.09</td><td class=\"displayNone\" data-column-name=\"eq_revenue\">27.56B</td><td class=\"displayNone\" data-column-name=\"avg_volume\">1.19M</td><td class=\"displayNone\" data-column-name=\"eq_eps\">19.91</td><td class=\"displayNone\" data-column-name=\"eq_beta\">1.12</td><td class=\"displayNone\" data-column-name=\"eq_dividend\">5.59</td><td class=\"displayNone\" data-column-name=\"eq_yield\">-</td><td class=\"left displayNone\" data-column-name=\"tech_sum_900\">Sell</td><td class=\"left displayNone\" data-column-name=\"tech_sum_3600\">Strong Sell</td><td class=\"left displayNone\" data-column-name=\"tech_sum_86400\">Sell</td><td class=\"left displayNone\" data-column-name=\"tech_sum_week\">Strong Buy</td><td class=\"left displayNone\" data-column-name=\"tech_sum_month\">Strong Buy</td><td class=\"displayNone\" data-column-name=\"daily\">-2.04</td><td class=\"displayNone\" data-column-name=\"week\">-5.44</td><td class=\"displayNone\" data-column-name=\"month\">1.21</td><td class=\"displayNone\" data-column-name=\"ytd\">24.22</td><td class=\"displayNone\" data-column-name=\"year\">48.37</td><td class=\"displayNone\" data-column-name=\"3year\">68.02</td><td class=\"displayNone\" data-column-name=\"eq_one_year_return\">49.11</td><td class=\"displayNone\" data-column-name=\"yield_us\">0.58%</td><td class=\"displayNone\" data-column-name=\"peexclxor_us\">43.01</td><td class=\"displayNone\" data-column-name=\"ttmpr2rev_us\">12.24</td><td class=\"displayNone\" data-column-name=\"aprfcfps_us\">61.94</td><td class=\"displayNone\" data-column-name=\"ttmprfcfps_us\">102.56</td><td class=\"displayNone\" data-column-name=\"price2bk_us\">25.07</td><td class=\"displayNone\" data-column-name=\"pr2tanbk_us\">42.20</td><td class=\"displayNone\" data-column-name=\"epschngyr_us\">13.18</td><td class=\"displayNone\" data-column-name=\"ttmepschg_us\">40.76</td><td class=\"displayNone\" data-column-name=\"epstrendgr_us\">26.69</td><td class=\"displayNone\" data-column-name=\"revchngyr_us\">12.55</td><td class=\"displayNone\" data-column-name=\"ttmrevchg_us\">30.16</td><td class=\"displayNone\" data-column-name=\"revtrendgr_us\">20.29</td><td class=\"displayNone\" data-column-name=\"csptrendgr_us\">30.30</td><td class=\"displayNone\" data-column-name=\"ttmastturn_us\">0.72</td><td class=\"displayNone\" data-column-name=\"ttminvturn_us\">1.67</td><td class=\"displayNone\" data-column-name=\"ttmrevpere_us\">683.68</td><td class=\"displayNone\" data-column-name=\"ttmniperem_us\">194.47</td><td class=\"displayNone\" data-column-name=\"ttmrecturn_us\">5.04</td><td class=\"displayNone\" data-column-name=\"a52_week_high\">1056.34</td><td class=\"displayNone\" data-column-name=\"a52_week_low\">563.99</td><td class=\"displayNone\" data-column-name=\"a52_week_high_diff\">-10.99</td><td class=\"displayNone\" data-column-name=\"a52_week_low_diff\">66.71</td><td class=\"displayNone\" data-column-name=\"month_change\">9.41%</td><td class=\"displayNone\" data-column-name=\"ttmgrosmgn_us\">51.29</td><td class=\"displayNone\" data-column-name=\"grosmgn5yr_us\">49.03</td><td class=\"displayNone\" data-column-name=\"ttmopmgn_us\">32.81</td><td class=\"displayNone\" data-column-name=\"opmgn5yr_us\">29.62</td><td class=\"displayNone\" data-column-name=\"ttmptmgn_us\">33.65</td><td class=\"displayNone\" data-column-name=\"ptmgn5yr_us\">30.29</td><td class=\"displayNone\" data-column-name=\"ttmnpmgn_us\">28.44</td><td class=\"displayNone\" data-column-name=\"margin5yr_us\">26.35</td><td class=\"displayNone\" data-column-name=\"qquickrati_us\">0.80</td><td class=\"displayNone\" data-column-name=\"qcurratio_us\">1.50</td><td class=\"displayNone\" data-column-name=\"qltd2eq_us\">34.89</td><td class=\"displayNone\" data-column-name=\"qtotd2eq_us\">37.09</td><td class=\"displayNone\" data-column-name=\"yld5yavg_us\">1.03</td><td class=\"displayNone\" data-column-name=\"divgrpct_us\">-1.48</td><td class=\"displayNone\" data-column-name=\"ttmpayrat_us\">29.96</td><td class=\"displayNone\" data-column-name=\"ADX\">23.45</td><td class=\"displayNone\" data-column-name=\"ATR\">30.88</td><td class=\"displayNone\" data-column-name=\"BullBear\">-48.19</td><td class=\"displayNone\" data-column-name=\"CCI\">-99.66</td><td class=\"displayNone\" data-column-name=\"HL\">-20.22</td><td class=\"displayNone\" data-column-name=\"ROC\">-0.75</td><td class=\"displayNone\" data-column-name=\"RSI\">49.65</td><td class=\"displayNone\" data-column-name=\"STOCH\">28.93</td><td class=\"displayNone\" data-column-name=\"STOCHRSI\">0.00</td><td class=\"displayNone\" data-column-name=\"UO\">47.90</td><td class=\"displayNone\" data-column-name=\"WilliamsR\">-93.60</td> <td></td>\n",
      "</tr><tr>\n",
      "<td class=\"flag\"><span class=\"ceFlags USA\"></span></td>\n",
      "<td class=\"symbol left bold elp\" data-column-name=\"name_trans\"><a href=\"/equities/asml-holding?cid=15470\" target=\"_blank\" title=\"ASML Holding NV\">ASML Holding</a></td>\n",
      "<td class=\"left\" data-column-name=\"viewData.symbol\">ASMLF</td>\n",
      "<td class=\"left displayNone\" data-column-name=\"exchange_trans\">OTC Markets</td><td class=\"left displayNone\" data-column-name=\"sector_trans\">Technology</td><td class=\"left displayNone\" data-column-name=\"industry_trans\">Semiconductors &amp; Semiconductor Equipment</td><td data-column-name=\"last\">936.2</td><td data-column-name=\"pair_change_percent\">-1.66%</td><td data-column-name=\"eq_market_cap\">367.13B</td><td data-column-name=\"turnover_volume\">276.00</td><td class=\"displayNone\" data-column-name=\"eq_pe_ratio\">43.61</td><td class=\"displayNone\" data-column-name=\"MACD\">26.70</td><td class=\"displayNone\" data-column-name=\"eq_revenue\">27.56B</td><td class=\"displayNone\" data-column-name=\"avg_volume\">1.03K</td><td class=\"displayNone\" data-column-name=\"eq_eps\">19.91</td><td class=\"displayNone\" data-column-name=\"eq_beta\">1.12</td><td class=\"displayNone\" data-column-name=\"eq_dividend\">0.90</td><td class=\"displayNone\" data-column-name=\"eq_yield\">-</td><td class=\"left displayNone\" data-column-name=\"tech_sum_900\">Sell</td><td class=\"left displayNone\" data-column-name=\"tech_sum_3600\">Strong Sell</td><td class=\"left displayNone\" data-column-name=\"tech_sum_86400\">Sell</td><td class=\"left displayNone\" data-column-name=\"tech_sum_week\">Strong Buy</td><td class=\"left displayNone\" data-column-name=\"tech_sum_month\">Strong Buy</td><td class=\"displayNone\" data-column-name=\"daily\">-1.66</td><td class=\"displayNone\" data-column-name=\"week\">-5.91</td><td class=\"displayNone\" data-column-name=\"month\">0.74</td><td class=\"displayNone\" data-column-name=\"ytd\">24.35</td><td class=\"displayNone\" data-column-name=\"year\">46.83</td><td class=\"displayNone\" data-column-name=\"3year\">63.84</td><td class=\"displayNone\" data-column-name=\"eq_one_year_return\">48.09</td><td class=\"displayNone\" data-column-name=\"yield_us\">0.9%</td><td class=\"displayNone\" data-column-name=\"peexclxor_us\">43.72</td><td class=\"displayNone\" data-column-name=\"ttmpr2rev_us\">7.17</td><td class=\"displayNone\" data-column-name=\"aprfcfps_us\">42.08</td><td class=\"displayNone\" data-column-name=\"ttmprfcfps_us\">42.08</td><td class=\"displayNone\" data-column-name=\"price2bk_us\">6.00</td><td class=\"displayNone\" data-column-name=\"pr2tanbk_us\">13.57</td><td class=\"displayNone\" data-column-name=\"epschngyr_us\">35.07</td><td class=\"displayNone\" data-column-name=\"ttmepschg_us\">3.42</td><td class=\"displayNone\" data-column-name=\"epstrendgr_us\">16.54</td><td class=\"displayNone\" data-column-name=\"revchngyr_us\">18.66</td><td class=\"displayNone\" data-column-name=\"ttmrevchg_us\">8.00</td><td class=\"displayNone\" data-column-name=\"revtrendgr_us\">15.85</td><td class=\"displayNone\" data-column-name=\"csptrendgr_us\">9.26</td><td class=\"displayNone\" data-column-name=\"ttmastturn_us\">0.53</td><td class=\"displayNone\" data-column-name=\"ttminvturn_us\">1.95</td><td class=\"displayNone\" data-column-name=\"ttmrevpere_us\">546.00</td><td class=\"displayNone\" data-column-name=\"ttmniperem_us\">125.69</td><td class=\"displayNone\" data-column-name=\"ttmrecturn_us\">6.07</td><td class=\"displayNone\" data-column-name=\"a52_week_high\">1055</td><td class=\"displayNone\" data-column-name=\"a52_week_low\">560</td><td class=\"displayNone\" data-column-name=\"a52_week_high_diff\">-11.26</td><td class=\"displayNone\" data-column-name=\"a52_week_low_diff\">67.18</td><td class=\"displayNone\" data-column-name=\"month_change\">7.98%</td><td class=\"displayNone\" data-column-name=\"ttmgrosmgn_us\">43.11</td><td class=\"displayNone\" data-column-name=\"grosmgn5yr_us\">43.10</td><td class=\"displayNone\" data-column-name=\"ttmopmgn_us\">26.35</td><td class=\"displayNone\" data-column-name=\"opmgn5yr_us\">27.69</td><td class=\"displayNone\" data-column-name=\"ttmptmgn_us\">26.09</td><td class=\"displayNone\" data-column-name=\"ptmgn5yr_us\">27.61</td><td class=\"displayNone\" data-column-name=\"ttmnpmgn_us\">23.02</td><td class=\"displayNone\" data-column-name=\"margin5yr_us\">24.12</td><td class=\"displayNone\" data-column-name=\"qquickrati_us\">1.84</td><td class=\"displayNone\" data-column-name=\"qcurratio_us\">2.75</td><td class=\"displayNone\" data-column-name=\"qltd2eq_us\">23.38</td><td class=\"displayNone\" data-column-name=\"qtotd2eq_us\">23.38</td><td class=\"displayNone\" data-column-name=\"yld5yavg_us\">1.03</td><td class=\"displayNone\" data-column-name=\"divgrpct_us\">-</td><td class=\"displayNone\" data-column-name=\"ttmpayrat_us\">29.76</td><td class=\"displayNone\" data-column-name=\"ADX\">22.46</td><td class=\"displayNone\" data-column-name=\"ATR\">43.02</td><td class=\"displayNone\" data-column-name=\"BullBear\">-36.93</td><td class=\"displayNone\" data-column-name=\"CCI\">-105.42</td><td class=\"displayNone\" data-column-name=\"HL\">-23.69</td><td class=\"displayNone\" data-column-name=\"ROC\">-0.89</td><td class=\"displayNone\" data-column-name=\"RSI\">49.09</td><td class=\"displayNone\" data-column-name=\"STOCH\">25.64</td><td class=\"displayNone\" data-column-name=\"STOCHRSI\">0.00</td><td class=\"displayNone\" data-column-name=\"UO\">31.12</td><td class=\"displayNone\" data-column-name=\"WilliamsR\">-98.18</td> <td></td>\n",
      "</tr><tr>\n",
      "<td class=\"flag\"><span class=\"ceFlags USA\"></span></td>\n",
      "<td class=\"symbol left bold elp\" data-column-name=\"name_trans\"><a href=\"/equities/samsung-electronics-co-ltd?cid=104387\" target=\"_blank\" title=\"Samsung Electronics Co Ltd\">Samsung Electronics Co</a></td>\n",
      "<td class=\"left\" data-column-name=\"viewData.symbol\">SSNLF</td>\n",
      "<td class=\"left displayNone\" data-column-name=\"exchange_trans\">OTC Markets</td><td class=\"left displayNone\" data-column-name=\"sector_trans\">Technology</td><td class=\"left displayNone\" data-column-name=\"industry_trans\">Computers, Phones &amp; Household Electronics</td><td data-column-name=\"last\">40.6</td><td data-column-name=\"pair_change_percent\">0%</td><td data-column-name=\"eq_market_cap\">362.64B</td><td data-column-name=\"turnover_volume\">0.00</td><td class=\"displayNone\" data-column-name=\"eq_pe_ratio\">-</td><td class=\"displayNone\" data-column-name=\"MACD\">-</td><td class=\"displayNone\" data-column-name=\"eq_revenue\">258.94T</td><td class=\"displayNone\" data-column-name=\"avg_volume\">1.00</td><td class=\"displayNone\" data-column-name=\"eq_eps\">2.13K</td><td class=\"displayNone\" data-column-name=\"eq_beta\">-</td><td class=\"displayNone\" data-column-name=\"eq_dividend\">-</td><td class=\"displayNone\" data-column-name=\"eq_yield\">-</td><td class=\"left displayNone\" data-column-name=\"tech_sum_900\">-</td><td class=\"left displayNone\" data-column-name=\"tech_sum_3600\">-</td><td class=\"left displayNone\" data-column-name=\"tech_sum_86400\">-</td><td class=\"left displayNone\" data-column-name=\"tech_sum_week\">-</td><td class=\"left displayNone\" data-column-name=\"tech_sum_month\">-</td><td class=\"displayNone\" data-column-name=\"daily\">0.00</td><td class=\"displayNone\" data-column-name=\"week\">0.00</td><td class=\"displayNone\" data-column-name=\"month\">0.00</td><td class=\"displayNone\" data-column-name=\"ytd\">0.00</td><td class=\"displayNone\" data-column-name=\"year\">0.00</td><td class=\"displayNone\" data-column-name=\"3year\">-8.14</td><td class=\"displayNone\" data-column-name=\"eq_one_year_return\">0.00</td><td class=\"displayNone\" data-column-name=\"yield_us\">-</td><td class=\"displayNone\" data-column-name=\"peexclxor_us\">33.35</td><td class=\"displayNone\" data-column-name=\"ttmpr2rev_us\">1.30</td><td class=\"displayNone\" data-column-name=\"aprfcfps_us\">11.61</td><td class=\"displayNone\" data-column-name=\"ttmprfcfps_us\">14.19</td><td class=\"displayNone\" data-column-name=\"price2bk_us\">1.27</td><td class=\"displayNone\" data-column-name=\"pr2tanbk_us\">1.33</td><td class=\"displayNone\" data-column-name=\"epschngyr_us\">-55.99</td><td class=\"displayNone\" data-column-name=\"ttmepschg_us\">-17.04</td><td class=\"displayNone\" data-column-name=\"epstrendgr_us\">10.31</td><td class=\"displayNone\" data-column-name=\"revchngyr_us\">-13.50</td><td class=\"displayNone\" data-column-name=\"ttmrevchg_us\">-5.61</td><td class=\"displayNone\" data-column-name=\"revtrendgr_us\">1.29</td><td class=\"displayNone\" data-column-name=\"csptrendgr_us\">4.88</td><td class=\"displayNone\" data-column-name=\"ttmastturn_us\">0.72</td><td class=\"displayNone\" data-column-name=\"ttminvturn_us\">4.60</td><td class=\"displayNone\" data-column-name=\"ttmrevpere_us\">-</td><td class=\"displayNone\" data-column-name=\"ttmniperem_us\">-</td><td class=\"displayNone\" data-column-name=\"ttmrecturn_us\">6.54</td><td class=\"displayNone\" data-column-name=\"a52_week_high\">40.6</td><td class=\"displayNone\" data-column-name=\"a52_week_low\">40.6</td><td class=\"displayNone\" data-column-name=\"a52_week_high_diff\">0.00</td><td class=\"displayNone\" data-column-name=\"a52_week_low_diff\">0.00</td><td class=\"displayNone\" data-column-name=\"month_change\">-</td><td class=\"displayNone\" data-column-name=\"ttmgrosmgn_us\">43.45</td><td class=\"displayNone\" data-column-name=\"grosmgn5yr_us\">41.97</td><td class=\"displayNone\" data-column-name=\"ttmopmgn_us\">21.00</td><td class=\"displayNone\" data-column-name=\"opmgn5yr_us\">17.40</td><td class=\"displayNone\" data-column-name=\"ttmptmgn_us\">22.03</td><td class=\"displayNone\" data-column-name=\"ptmgn5yr_us\">18.49</td><td class=\"displayNone\" data-column-name=\"ttmnpmgn_us\">16.00</td><td class=\"displayNone\" data-column-name=\"margin5yr_us\">13.89</td><td class=\"displayNone\" data-column-name=\"qquickrati_us\">2.17</td><td class=\"displayNone\" data-column-name=\"qcurratio_us\">2.63</td><td class=\"displayNone\" data-column-name=\"qltd2eq_us\">1.15</td><td class=\"displayNone\" data-column-name=\"qtotd2eq_us\">5.38</td><td class=\"displayNone\" data-column-name=\"yld5yavg_us\">2.50</td><td class=\"displayNone\" data-column-name=\"divgrpct_us\">-</td><td class=\"displayNone\" data-column-name=\"ttmpayrat_us\">25.73</td><td class=\"displayNone\" data-column-name=\"ADX\">-</td><td class=\"displayNone\" data-column-name=\"ATR\">-</td><td class=\"displayNone\" data-column-name=\"BullBear\">-</td><td class=\"displayNone\" data-column-name=\"CCI\">-</td><td class=\"displayNone\" data-column-name=\"HL\">-</td><td class=\"displayNone\" data-column-name=\"ROC\">-</td><td class=\"displayNone\" data-column-name=\"RSI\">-</td><td class=\"displayNone\" data-column-name=\"STOCH\">-</td><td class=\"displayNone\" data-column-name=\"STOCHRSI\">-</td><td class=\"displayNone\" data-column-name=\"UO\">-</td><td class=\"displayNone\" data-column-name=\"WilliamsR\">-</td> <td></td>\n",
      "</tr><tr>\n",
      "<td class=\"flag\"><span class=\"ceFlags USA\"></span></td>\n",
      "<td class=\"symbol left bold elp\" data-column-name=\"name_trans\"><a href=\"/equities/oracle-corp\" target=\"_blank\" title=\"Oracle Corporation\">Oracle</a></td>\n",
      "<td class=\"left\" data-column-name=\"viewData.symbol\">ORCL</td>\n",
      "<td class=\"left displayNone\" data-column-name=\"exchange_trans\">NYSE</td><td class=\"left displayNone\" data-column-name=\"sector_trans\">Technology</td><td class=\"left displayNone\" data-column-name=\"industry_trans\">Software &amp; IT Services</td><td data-column-name=\"last\">125.62</td><td data-column-name=\"pair_change_percent\">0.07%</td><td data-column-name=\"eq_market_cap\">345.05B</td><td data-column-name=\"turnover_volume\">10.72M</td><td class=\"displayNone\" data-column-name=\"eq_pe_ratio\">32.29</td><td class=\"displayNone\" data-column-name=\"MACD\">3.40</td><td class=\"displayNone\" data-column-name=\"eq_revenue\">52.51B</td><td class=\"displayNone\" data-column-name=\"avg_volume\">8.71M</td><td class=\"displayNone\" data-column-name=\"eq_eps\">3.89</td><td class=\"displayNone\" data-column-name=\"eq_beta\">0.99</td><td class=\"displayNone\" data-column-name=\"eq_dividend\">1.60</td><td class=\"displayNone\" data-column-name=\"eq_yield\">-</td><td class=\"left displayNone\" data-column-name=\"tech_sum_900\">Strong Buy</td><td class=\"left displayNone\" data-column-name=\"tech_sum_3600\">Strong Buy</td><td class=\"left displayNone\" data-column-name=\"tech_sum_86400\">Strong Buy</td><td class=\"left displayNone\" data-column-name=\"tech_sum_week\">Strong Buy</td><td class=\"left displayNone\" data-column-name=\"tech_sum_month\">Strong Buy</td><td class=\"displayNone\" data-column-name=\"daily\">0.07</td><td class=\"displayNone\" data-column-name=\"week\">11.74</td><td class=\"displayNone\" data-column-name=\"month\">12.86</td><td class=\"displayNone\" data-column-name=\"ytd\">19.15</td><td class=\"displayNone\" data-column-name=\"year\">47.34</td><td class=\"displayNone\" data-column-name=\"3year\">89.70</td><td class=\"displayNone\" data-column-name=\"eq_one_year_return\">48.10</td><td class=\"displayNone\" data-column-name=\"yield_us\">1.27%</td><td class=\"displayNone\" data-column-name=\"peexclxor_us\">32.44</td><td class=\"displayNone\" data-column-name=\"ttmpr2rev_us\">6.58</td><td class=\"displayNone\" data-column-name=\"aprfcfps_us\">18.45</td><td class=\"displayNone\" data-column-name=\"ttmprfcfps_us\">28.17</td><td class=\"displayNone\" data-column-name=\"price2bk_us\">61.40</td><td class=\"displayNone\" data-column-name=\"pr2tanbk_us\">-5.38</td><td class=\"displayNone\" data-column-name=\"epschngyr_us\">24.33</td><td class=\"displayNone\" data-column-name=\"ttmepschg_us\">24.91</td><td class=\"displayNone\" data-column-name=\"epstrendgr_us\">29.37</td><td class=\"displayNone\" data-column-name=\"revchngyr_us\">7.11</td><td class=\"displayNone\" data-column-name=\"ttmrevchg_us\">9.49</td><td class=\"displayNone\" data-column-name=\"revtrendgr_us\">4.87</td><td class=\"displayNone\" data-column-name=\"csptrendgr_us\">38.02</td><td class=\"displayNone\" data-column-name=\"ttmastturn_us\">0.39</td><td class=\"displayNone\" data-column-name=\"ttminvturn_us\">0.00</td><td class=\"displayNone\" data-column-name=\"ttmrevpere_us\">320.18</td><td class=\"displayNone\" data-column-name=\"ttmniperem_us\">64.89</td><td class=\"displayNone\" data-column-name=\"ttmrecturn_us\">7.53</td><td class=\"displayNone\" data-column-name=\"a52_week_high\">129.37</td><td class=\"displayNone\" data-column-name=\"a52_week_low\">85.25</td><td class=\"displayNone\" data-column-name=\"a52_week_high_diff\">-2.90</td><td class=\"displayNone\" data-column-name=\"a52_week_low_diff\">47.35</td><td class=\"displayNone\" data-column-name=\"month_change\">-0.02%</td><td class=\"displayNone\" data-column-name=\"ttmgrosmgn_us\">71.53</td><td class=\"displayNone\" data-column-name=\"grosmgn5yr_us\">77.79</td><td class=\"displayNone\" data-column-name=\"ttmopmgn_us\">29.15</td><td class=\"displayNone\" data-column-name=\"opmgn5yr_us\">34.58</td><td class=\"displayNone\" data-column-name=\"ttmptmgn_us\">21.08</td><td class=\"displayNone\" data-column-name=\"ptmgn5yr_us\">25.36</td><td class=\"displayNone\" data-column-name=\"ttmnpmgn_us\">20.27</td><td class=\"displayNone\" data-column-name=\"margin5yr_us\">23.65</td><td class=\"displayNone\" data-column-name=\"qquickrati_us\">0.69</td><td class=\"displayNone\" data-column-name=\"qcurratio_us\">0.85</td><td class=\"displayNone\" data-column-name=\"qltd2eq_us\">1.47K</td><td class=\"displayNone\" data-column-name=\"qtotd2eq_us\">1.56K</td><td class=\"displayNone\" data-column-name=\"yld5yavg_us\">1.68</td><td class=\"displayNone\" data-column-name=\"divgrpct_us\">25.00</td><td class=\"displayNone\" data-column-name=\"ttmpayrat_us\">41.07</td><td class=\"displayNone\" data-column-name=\"ADX\">24.47</td><td class=\"displayNone\" data-column-name=\"ATR\">3.36</td><td class=\"displayNone\" data-column-name=\"BullBear\">12.28</td><td class=\"displayNone\" data-column-name=\"CCI\">125.71</td><td class=\"displayNone\" data-column-name=\"HL\">7.98</td><td class=\"displayNone\" data-column-name=\"ROC\">13.18</td><td class=\"displayNone\" data-column-name=\"RSI\">69.27</td><td class=\"displayNone\" data-column-name=\"STOCH\">60.54</td><td class=\"displayNone\" data-column-name=\"STOCHRSI\">82.91</td><td class=\"displayNone\" data-column-name=\"UO\">65.09</td><td class=\"displayNone\" data-column-name=\"WilliamsR\">-19.30</td> <td></td>\n",
      "</tr><tr>\n",
      "<td class=\"flag\"><span class=\"ceFlags USA\"></span></td>\n",
      "<td class=\"symbol left bold elp\" data-column-name=\"name_trans\"><a href=\"/equities/tencent-holdings-hk?cid=53031\" target=\"_blank\" title=\"Tencent Holdings Ltd\">Tencent Holdings</a></td>\n",
      "<td class=\"left\" data-column-name=\"viewData.symbol\">TCTZF</td>\n",
      "<td class=\"left displayNone\" data-column-name=\"exchange_trans\">OTC Markets</td><td class=\"left displayNone\" data-column-name=\"sector_trans\">Technology</td><td class=\"left displayNone\" data-column-name=\"industry_trans\">Software &amp; IT Services</td><td data-column-name=\"last\">36.165</td><td data-column-name=\"pair_change_percent\">1.08%</td><td data-column-name=\"eq_market_cap\">337.38B</td><td data-column-name=\"turnover_volume\">24.52K</td><td class=\"displayNone\" data-column-name=\"eq_pe_ratio\">12.40</td><td class=\"displayNone\" data-column-name=\"MACD\">-0.01</td><td class=\"displayNone\" data-column-name=\"eq_revenue\">598.77B</td><td class=\"displayNone\" data-column-name=\"avg_volume\">20.65K</td><td class=\"displayNone\" data-column-name=\"eq_eps\">20.52</td><td class=\"displayNone\" data-column-name=\"eq_beta\">0.65</td><td class=\"displayNone\" data-column-name=\"eq_dividend\">-</td><td class=\"displayNone\" data-column-name=\"eq_yield\">-</td><td class=\"left displayNone\" data-column-name=\"tech_sum_900\">Sell</td><td class=\"left displayNone\" data-column-name=\"tech_sum_3600\">Strong Sell</td><td class=\"left displayNone\" data-column-name=\"tech_sum_86400\">Neutral</td><td class=\"left displayNone\" data-column-name=\"tech_sum_week\">Sell</td><td class=\"left displayNone\" data-column-name=\"tech_sum_month\">Strong Sell</td><td class=\"displayNone\" data-column-name=\"daily\">1.08</td><td class=\"displayNone\" data-column-name=\"week\">5.25</td><td class=\"displayNone\" data-column-name=\"month\">-2.45</td><td class=\"displayNone\" data-column-name=\"ytd\">-4.02</td><td class=\"displayNone\" data-column-name=\"year\">-16.27</td><td class=\"displayNone\" data-column-name=\"3year\">-55.67</td><td class=\"displayNone\" data-column-name=\"eq_one_year_return\">-15.70</td><td class=\"displayNone\" data-column-name=\"yield_us\">-</td><td class=\"displayNone\" data-column-name=\"peexclxor_us\">12.67</td><td class=\"displayNone\" data-column-name=\"ttmpr2rev_us\">10.24</td><td class=\"displayNone\" data-column-name=\"aprfcfps_us\">43.59</td><td class=\"displayNone\" data-column-name=\"ttmprfcfps_us\">38.15</td><td class=\"displayNone\" data-column-name=\"price2bk_us\">9.56</td><td class=\"displayNone\" data-column-name=\"pr2tanbk_us\">11.33</td><td class=\"displayNone\" data-column-name=\"epschngyr_us\">29.29</td><td class=\"displayNone\" data-column-name=\"ttmepschg_us\">38.72</td><td class=\"displayNone\" data-column-name=\"epstrendgr_us\">40.56</td><td class=\"displayNone\" data-column-name=\"revchngyr_us\">23.59</td><td class=\"displayNone\" data-column-name=\"ttmrevchg_us\">36.69</td><td class=\"displayNone\" data-column-name=\"revtrendgr_us\">40.20</td><td class=\"displayNone\" data-column-name=\"csptrendgr_us\">45.91</td><td class=\"displayNone\" data-column-name=\"ttmastturn_us\">0.49</td><td class=\"displayNone\" data-column-name=\"ttminvturn_us\">405.54</td><td class=\"displayNone\" data-column-name=\"ttmrevpere_us\">7.68</td><td class=\"displayNone\" data-column-name=\"ttmniperem_us\">2.29</td><td class=\"displayNone\" data-column-name=\"ttmrecturn_us\">14.25</td><td class=\"displayNone\" data-column-name=\"a52_week_high\">50.64</td><td class=\"displayNone\" data-column-name=\"a52_week_low\">32.45</td><td class=\"displayNone\" data-column-name=\"a52_week_high_diff\">-28.58</td><td class=\"displayNone\" data-column-name=\"a52_week_low_diff\">11.45</td><td class=\"displayNone\" data-column-name=\"month_change\">0.62%</td><td class=\"displayNone\" data-column-name=\"ttmgrosmgn_us\">47.07</td><td class=\"displayNone\" data-column-name=\"grosmgn5yr_us\">54.34</td><td class=\"displayNone\" data-column-name=\"ttmopmgn_us\">36.06</td><td class=\"displayNone\" data-column-name=\"opmgn5yr_us\">37.47</td><td class=\"displayNone\" data-column-name=\"ttmptmgn_us\">35.11</td><td class=\"displayNone\" data-column-name=\"ptmgn5yr_us\">35.50</td><td class=\"displayNone\" data-column-name=\"ttmnpmgn_us\">29.77</td><td class=\"displayNone\" data-column-name=\"margin5yr_us\">28.88</td><td class=\"displayNone\" data-column-name=\"qquickrati_us\">1.04</td><td class=\"displayNone\" data-column-name=\"qcurratio_us\">1.04</td><td class=\"displayNone\" data-column-name=\"qltd2eq_us\">42.62</td><td class=\"displayNone\" data-column-name=\"qtotd2eq_us\">55.25</td><td class=\"displayNone\" data-column-name=\"yld5yavg_us\">0.41</td><td class=\"displayNone\" data-column-name=\"divgrpct_us\">-</td><td class=\"displayNone\" data-column-name=\"ttmpayrat_us\">-</td><td class=\"displayNone\" data-column-name=\"ADX\">35.90</td><td class=\"displayNone\" data-column-name=\"ATR\">1.36</td><td class=\"displayNone\" data-column-name=\"BullBear\">1.52</td><td class=\"displayNone\" data-column-name=\"CCI\">71.14</td><td class=\"displayNone\" data-column-name=\"HL\">0.00</td><td class=\"displayNone\" data-column-name=\"ROC\">-0.46</td><td class=\"displayNone\" data-column-name=\"RSI\">51.24</td><td class=\"displayNone\" data-column-name=\"STOCH\">57.30</td><td class=\"displayNone\" data-column-name=\"STOCHRSI\">63.76</td><td class=\"displayNone\" data-column-name=\"UO\">43.66</td><td class=\"displayNone\" data-column-name=\"WilliamsR\">-39.97</td> <td></td>\n",
      "</tr><tr>\n",
      "<td class=\"flag\"><span class=\"ceFlags USA\"></span></td>\n",
      "<td class=\"symbol left bold elp\" data-column-name=\"name_trans\"><a href=\"/equities/tencent-holdings-pk\" target=\"_blank\" title=\"Tencent Holdings Ltd ADR\">Tencent ADR</a></td>\n",
      "<td class=\"left\" data-column-name=\"viewData.symbol\">TCEHY</td>\n",
      "<td class=\"left displayNone\" data-column-name=\"exchange_trans\">OTC Markets</td><td class=\"left displayNone\" data-column-name=\"sector_trans\">Technology</td><td class=\"left displayNone\" data-column-name=\"industry_trans\">Software &amp; IT Services</td><td data-column-name=\"last\">36.14</td><td data-column-name=\"pair_change_percent\">-1.15%</td><td data-column-name=\"eq_market_cap\">337.38B</td><td data-column-name=\"turnover_volume\">1.04M</td><td class=\"displayNone\" data-column-name=\"eq_pe_ratio\">12.40</td><td class=\"displayNone\" data-column-name=\"MACD\">0.01</td><td class=\"displayNone\" data-column-name=\"eq_revenue\">598.77B</td><td class=\"displayNone\" data-column-name=\"avg_volume\">3.48M</td><td class=\"displayNone\" data-column-name=\"eq_eps\">20.52</td><td class=\"displayNone\" data-column-name=\"eq_beta\">0.65</td><td class=\"displayNone\" data-column-name=\"eq_dividend\">1.91</td><td class=\"displayNone\" data-column-name=\"eq_yield\">-</td><td class=\"left displayNone\" data-column-name=\"tech_sum_900\">Strong Sell</td><td class=\"left displayNone\" data-column-name=\"tech_sum_3600\">Strong Sell</td><td class=\"left displayNone\" data-column-name=\"tech_sum_86400\">Neutral</td><td class=\"left displayNone\" data-column-name=\"tech_sum_week\">Strong Sell</td><td class=\"left displayNone\" data-column-name=\"tech_sum_month\">Strong Sell</td><td class=\"displayNone\" data-column-name=\"daily\">-1.15</td><td class=\"displayNone\" data-column-name=\"week\">4.81</td><td class=\"displayNone\" data-column-name=\"month\">-2.09</td><td class=\"displayNone\" data-column-name=\"ytd\">-4.37</td><td class=\"displayNone\" data-column-name=\"year\">-15.76</td><td class=\"displayNone\" data-column-name=\"3year\">-55.44</td><td class=\"displayNone\" data-column-name=\"eq_one_year_return\">-16.52</td><td class=\"displayNone\" data-column-name=\"yield_us\">5.22%</td><td class=\"displayNone\" data-column-name=\"peexclxor_us\">-</td><td class=\"displayNone\" data-column-name=\"ttmpr2rev_us\">-</td><td class=\"displayNone\" data-column-name=\"aprfcfps_us\">-</td><td class=\"displayNone\" data-column-name=\"ttmprfcfps_us\">-</td><td class=\"displayNone\" data-column-name=\"price2bk_us\">-</td><td class=\"displayNone\" data-column-name=\"pr2tanbk_us\">-</td><td class=\"displayNone\" data-column-name=\"epschngyr_us\">-</td><td class=\"displayNone\" data-column-name=\"ttmepschg_us\">-</td><td class=\"displayNone\" data-column-name=\"epstrendgr_us\">-</td><td class=\"displayNone\" data-column-name=\"revchngyr_us\">-</td><td class=\"displayNone\" data-column-name=\"ttmrevchg_us\">-</td><td class=\"displayNone\" data-column-name=\"revtrendgr_us\">-</td><td class=\"displayNone\" data-column-name=\"csptrendgr_us\">-</td><td class=\"displayNone\" data-column-name=\"ttmastturn_us\">-</td><td class=\"displayNone\" data-column-name=\"ttminvturn_us\">-</td><td class=\"displayNone\" data-column-name=\"ttmrevpere_us\">-</td><td class=\"displayNone\" data-column-name=\"ttmniperem_us\">-</td><td class=\"displayNone\" data-column-name=\"ttmrecturn_us\">-</td><td class=\"displayNone\" data-column-name=\"a52_week_high\">50.18</td><td class=\"displayNone\" data-column-name=\"a52_week_low\">33.5</td><td class=\"displayNone\" data-column-name=\"a52_week_high_diff\">-27.98</td><td class=\"displayNone\" data-column-name=\"a52_week_low_diff\">7.88</td><td class=\"displayNone\" data-column-name=\"month_change\">0.17%</td><td class=\"displayNone\" data-column-name=\"ttmgrosmgn_us\">-</td><td class=\"displayNone\" data-column-name=\"grosmgn5yr_us\">-</td><td class=\"displayNone\" data-column-name=\"ttmopmgn_us\">-</td><td class=\"displayNone\" data-column-name=\"opmgn5yr_us\">-</td><td class=\"displayNone\" data-column-name=\"ttmptmgn_us\">-</td><td class=\"displayNone\" data-column-name=\"ptmgn5yr_us\">-</td><td class=\"displayNone\" data-column-name=\"ttmnpmgn_us\">-</td><td class=\"displayNone\" data-column-name=\"margin5yr_us\">-</td><td class=\"displayNone\" data-column-name=\"qquickrati_us\">-</td><td class=\"displayNone\" data-column-name=\"qcurratio_us\">-</td><td class=\"displayNone\" data-column-name=\"qltd2eq_us\">-</td><td class=\"displayNone\" data-column-name=\"qtotd2eq_us\">-</td><td class=\"displayNone\" data-column-name=\"yld5yavg_us\">-</td><td class=\"displayNone\" data-column-name=\"divgrpct_us\">-</td><td class=\"displayNone\" data-column-name=\"ttmpayrat_us\">-</td><td class=\"displayNone\" data-column-name=\"ADX\">48.15</td><td class=\"displayNone\" data-column-name=\"ATR\">0.73</td><td class=\"displayNone\" data-column-name=\"BullBear\">0.51</td><td class=\"displayNone\" data-column-name=\"CCI\">50.19</td><td class=\"displayNone\" data-column-name=\"HL\">0.41</td><td class=\"displayNone\" data-column-name=\"ROC\">-1.18</td><td class=\"displayNone\" data-column-name=\"RSI\">50.91</td><td class=\"displayNone\" data-column-name=\"STOCH\">60.93</td><td class=\"displayNone\" data-column-name=\"STOCHRSI\">71.42</td><td class=\"displayNone\" data-column-name=\"UO\">52.34</td><td class=\"displayNone\" data-column-name=\"WilliamsR\">-38.73</td> <td></td>\n",
      "</tr><tr>\n",
      "<td class=\"flag\"><span class=\"ceFlags USA\"></span></td>\n",
      "<td class=\"symbol left bold elp\" data-column-name=\"name_trans\"><a href=\"/equities/costco-whsl-corp-new\" target=\"_blank\" title=\"Costco Wholesale Corp\">Costco</a></td>\n",
      "<td class=\"left\" data-column-name=\"viewData.symbol\">COST</td>\n",
      "<td class=\"left displayNone\" data-column-name=\"exchange_trans\">NASDAQ</td><td class=\"left displayNone\" data-column-name=\"sector_trans\">Consumer Cyclicals</td><td class=\"left displayNone\" data-column-name=\"industry_trans\">Diversified Retail</td><td data-column-name=\"last\">725.63</td><td data-column-name=\"pair_change_percent\">-0.86%</td><td data-column-name=\"eq_market_cap\">321.82B</td><td data-column-name=\"turnover_volume\">3.39M</td><td class=\"displayNone\" data-column-name=\"eq_pe_ratio\">47.90</td><td class=\"displayNone\" data-column-name=\"MACD\">5.85</td><td class=\"displayNone\" data-column-name=\"eq_revenue\">248.83B</td><td class=\"displayNone\" data-column-name=\"avg_volume\">2.26M</td><td class=\"displayNone\" data-column-name=\"eq_eps\">15.31</td><td class=\"displayNone\" data-column-name=\"eq_beta\">0.77</td><td class=\"displayNone\" data-column-name=\"eq_dividend\">4.08</td><td class=\"displayNone\" data-column-name=\"eq_yield\">-</td><td class=\"left displayNone\" data-column-name=\"tech_sum_900\">Strong Sell</td><td class=\"left displayNone\" data-column-name=\"tech_sum_3600\">Strong Sell</td><td class=\"left displayNone\" data-column-name=\"tech_sum_86400\">Sell</td><td class=\"left displayNone\" data-column-name=\"tech_sum_week\">Strong Buy</td><td class=\"left displayNone\" data-column-name=\"tech_sum_month\">Strong Buy</td><td class=\"displayNone\" data-column-name=\"daily\">-0.86</td><td class=\"displayNone\" data-column-name=\"week\">0.01</td><td class=\"displayNone\" data-column-name=\"month\">0.23</td><td class=\"displayNone\" data-column-name=\"ytd\">9.93</td><td class=\"displayNone\" data-column-name=\"year\">48.98</td><td class=\"displayNone\" data-column-name=\"3year\">120.43</td><td class=\"displayNone\" data-column-name=\"eq_one_year_return\">48.92</td><td class=\"displayNone\" data-column-name=\"yield_us\">0.56%</td><td class=\"displayNone\" data-column-name=\"peexclxor_us\">47.78</td><td class=\"displayNone\" data-column-name=\"ttmpr2rev_us\">1.30</td><td class=\"displayNone\" data-column-name=\"aprfcfps_us\">24.71</td><td class=\"displayNone\" data-column-name=\"ttmprfcfps_us\">52.35</td><td class=\"displayNone\" data-column-name=\"price2bk_us\">15.64</td><td class=\"displayNone\" data-column-name=\"pr2tanbk_us\">15.70</td><td class=\"displayNone\" data-column-name=\"epschngyr_us\">18.89</td><td class=\"displayNone\" data-column-name=\"ttmepschg_us\">12.27</td><td class=\"displayNone\" data-column-name=\"epstrendgr_us\">14.68</td><td class=\"displayNone\" data-column-name=\"revchngyr_us\">5.75</td><td class=\"displayNone\" data-column-name=\"ttmrevchg_us\">6.16</td><td class=\"displayNone\" data-column-name=\"revtrendgr_us\">11.34</td><td class=\"displayNone\" data-column-name=\"csptrendgr_us\">7.80</td><td class=\"displayNone\" data-column-name=\"ttmastturn_us\">3.74</td><td class=\"displayNone\" data-column-name=\"ttminvturn_us\">11.75</td><td class=\"displayNone\" data-column-name=\"ttmrevpere_us\">777.38</td><td class=\"displayNone\" data-column-name=\"ttmniperem_us\">20.62</td><td class=\"displayNone\" data-column-name=\"ttmrecturn_us\">87.87</td><td class=\"displayNone\" data-column-name=\"a52_week_high\">787.08</td><td class=\"displayNone\" data-column-name=\"a52_week_low\">476.75</td><td class=\"displayNone\" data-column-name=\"a52_week_high_diff\">-7.81</td><td class=\"displayNone\" data-column-name=\"a52_week_low_diff\">52.20</td><td class=\"displayNone\" data-column-name=\"month_change\">7.05%</td><td class=\"displayNone\" data-column-name=\"ttmgrosmgn_us\">12.55</td><td class=\"displayNone\" data-column-name=\"grosmgn5yr_us\">12.71</td><td class=\"displayNone\" data-column-name=\"ttmopmgn_us\">3.58</td><td class=\"displayNone\" data-column-name=\"opmgn5yr_us\">3.40</td><td class=\"displayNone\" data-column-name=\"ttmptmgn_us\">3.65</td><td class=\"displayNone\" data-column-name=\"ptmgn5yr_us\">3.36</td><td class=\"displayNone\" data-column-name=\"ttmnpmgn_us\">2.73</td><td class=\"displayNone\" data-column-name=\"margin5yr_us\">2.54</td><td class=\"displayNone\" data-column-name=\"qquickrati_us\">0.38</td><td class=\"displayNone\" data-column-name=\"qcurratio_us\">0.93</td><td class=\"displayNone\" data-column-name=\"qltd2eq_us\">28.25</td><td class=\"displayNone\" data-column-name=\"qtotd2eq_us\">45.44</td><td class=\"displayNone\" data-column-name=\"yld5yavg_us\">0.81</td><td class=\"displayNone\" data-column-name=\"divgrpct_us\">13.33</td><td class=\"displayNone\" data-column-name=\"ttmpayrat_us\">32.50</td><td class=\"displayNone\" data-column-name=\"ADX\">37.88</td><td class=\"displayNone\" data-column-name=\"ATR\">16.01</td><td class=\"displayNone\" data-column-name=\"BullBear\">-21.60</td><td class=\"displayNone\" data-column-name=\"CCI\">-95.22</td><td class=\"displayNone\" data-column-name=\"HL\">-13.60</td><td class=\"displayNone\" data-column-name=\"ROC\">-2.64</td><td class=\"displayNone\" data-column-name=\"RSI\">47.72</td><td class=\"displayNone\" data-column-name=\"STOCH\">22.41</td><td class=\"displayNone\" data-column-name=\"STOCHRSI\">10.46</td><td class=\"displayNone\" data-column-name=\"UO\">39.90</td><td class=\"displayNone\" data-column-name=\"WilliamsR\">-80.73</td> <td></td>\n",
      "</tr><tr>\n",
      "<td class=\"flag\"><span class=\"ceFlags USA\"></span></td>\n",
      "<td class=\"symbol left bold elp\" data-column-name=\"name_trans\"><a href=\"/equities/toyota-motor-corporation?cid=53018\" target=\"_blank\" title=\"Toyota Motor Corp\">Toyota Motor</a></td>\n",
      "<td class=\"left\" data-column-name=\"viewData.symbol\">TOYOF</td>\n",
      "<td class=\"left displayNone\" data-column-name=\"exchange_trans\">OTC Markets</td><td class=\"left displayNone\" data-column-name=\"sector_trans\">Consumer Cyclicals</td><td class=\"left displayNone\" data-column-name=\"industry_trans\">Automobiles &amp; Auto Parts</td><td data-column-name=\"last\">23.485</td><td data-column-name=\"pair_change_percent\">1.49%</td><td data-column-name=\"eq_market_cap\">315.36B</td><td data-column-name=\"turnover_volume\">9.15K</td><td class=\"displayNone\" data-column-name=\"eq_pe_ratio\">10.41</td><td class=\"displayNone\" data-column-name=\"MACD\">0.52</td><td class=\"displayNone\" data-column-name=\"eq_revenue\">43.71T</td><td class=\"displayNone\" data-column-name=\"avg_volume\">83.62K</td><td class=\"displayNone\" data-column-name=\"eq_eps\">332.35</td><td class=\"displayNone\" data-column-name=\"eq_beta\">0.48</td><td class=\"displayNone\" data-column-name=\"eq_dividend\">-</td><td class=\"displayNone\" data-column-name=\"eq_yield\">-</td><td class=\"left displayNone\" data-column-name=\"tech_sum_900\">Strong Sell</td><td class=\"left displayNone\" data-column-name=\"tech_sum_3600\">Strong Sell</td><td class=\"left displayNone\" data-column-name=\"tech_sum_86400\">Neutral</td><td class=\"left displayNone\" data-column-name=\"tech_sum_week\">Strong Buy</td><td class=\"left displayNone\" data-column-name=\"tech_sum_month\">Strong Buy</td><td class=\"displayNone\" data-column-name=\"daily\">1.49</td><td class=\"displayNone\" data-column-name=\"week\">-3.55</td><td class=\"displayNone\" data-column-name=\"month\">3.14</td><td class=\"displayNone\" data-column-name=\"ytd\">28.07</td><td class=\"displayNone\" data-column-name=\"year\">75.65</td><td class=\"displayNone\" data-column-name=\"3year\">53.65</td><td class=\"displayNone\" data-column-name=\"eq_one_year_return\">74.09</td><td class=\"displayNone\" data-column-name=\"yield_us\">-</td><td class=\"displayNone\" data-column-name=\"peexclxor_us\">10.30</td><td class=\"displayNone\" data-column-name=\"ttmpr2rev_us\">0.74</td><td class=\"displayNone\" data-column-name=\"aprfcfps_us\">8.77</td><td class=\"displayNone\" data-column-name=\"ttmprfcfps_us\">-206.32</td><td class=\"displayNone\" data-column-name=\"price2bk_us\">1.02</td><td class=\"displayNone\" data-column-name=\"pr2tanbk_us\">1.14</td><td class=\"displayNone\" data-column-name=\"epschngyr_us\">-80.36</td><td class=\"displayNone\" data-column-name=\"ttmepschg_us\">-19.44</td><td class=\"displayNone\" data-column-name=\"epstrendgr_us\">22.35</td><td class=\"displayNone\" data-column-name=\"revchngyr_us\">2.57</td><td class=\"displayNone\" data-column-name=\"ttmrevchg_us\">2.80</td><td class=\"displayNone\" data-column-name=\"revtrendgr_us\">5.89</td><td class=\"displayNone\" data-column-name=\"csptrendgr_us\">12.76</td><td class=\"displayNone\" data-column-name=\"ttmastturn_us\">0.59</td><td class=\"displayNone\" data-column-name=\"ttminvturn_us\">9.58</td><td class=\"displayNone\" data-column-name=\"ttmrevpere_us\">81.43</td><td class=\"displayNone\" data-column-name=\"ttmniperem_us\">4.44</td><td class=\"displayNone\" data-column-name=\"ttmrecturn_us\">3.49</td><td class=\"displayNone\" data-column-name=\"a52_week_high\">25.617</td><td class=\"displayNone\" data-column-name=\"a52_week_low\">13.01</td><td class=\"displayNone\" data-column-name=\"a52_week_high_diff\">-8.32</td><td class=\"displayNone\" data-column-name=\"a52_week_low_diff\">80.51</td><td class=\"displayNone\" data-column-name=\"month_change\">22.47%</td><td class=\"displayNone\" data-column-name=\"ttmgrosmgn_us\">18.80</td><td class=\"displayNone\" data-column-name=\"grosmgn5yr_us\">19.11</td><td class=\"displayNone\" data-column-name=\"ttmopmgn_us\">7.36</td><td class=\"displayNone\" data-column-name=\"opmgn5yr_us\">8.89</td><td class=\"displayNone\" data-column-name=\"ttmptmgn_us\">7.80</td><td class=\"displayNone\" data-column-name=\"ptmgn5yr_us\">9.49</td><td class=\"displayNone\" data-column-name=\"ttmnpmgn_us\">5.45</td><td class=\"displayNone\" data-column-name=\"margin5yr_us\">6.84</td><td class=\"displayNone\" data-column-name=\"qquickrati_us\">0.86</td><td class=\"displayNone\" data-column-name=\"qcurratio_us\">1.00</td><td class=\"displayNone\" data-column-name=\"qltd2eq_us\">53.28</td><td class=\"displayNone\" data-column-name=\"qtotd2eq_us\">103.29</td><td class=\"displayNone\" data-column-name=\"yld5yavg_us\">3.98</td><td class=\"displayNone\" data-column-name=\"divgrpct_us\">-</td><td class=\"displayNone\" data-column-name=\"ttmpayrat_us\">33.66</td><td class=\"displayNone\" data-column-name=\"ADX\">51.96</td><td class=\"displayNone\" data-column-name=\"ATR\">0.79</td><td class=\"displayNone\" data-column-name=\"BullBear\">-0.15</td><td class=\"displayNone\" data-column-name=\"CCI\">-78.56</td><td class=\"displayNone\" data-column-name=\"HL\">-0.39</td><td class=\"displayNone\" data-column-name=\"ROC\">-1.12</td><td class=\"displayNone\" data-column-name=\"RSI\">52.79</td><td class=\"displayNone\" data-column-name=\"STOCH\">19.22</td><td class=\"displayNone\" data-column-name=\"STOCHRSI\">12.53</td><td class=\"displayNone\" data-column-name=\"UO\">29.97</td><td class=\"displayNone\" data-column-name=\"WilliamsR\">-85.38</td> <td></td>\n",
      "</tr><tr>\n",
      "<td class=\"flag\"><span class=\"ceFlags USA\"></span></td>\n",
      "<td class=\"symbol left bold elp\" data-column-name=\"name_trans\"><a href=\"/equities/toyota\" target=\"_blank\" title=\"Toyota Motor Corporation ADR\">Toyota Motor ADR</a></td>\n",
      "<td class=\"left\" data-column-name=\"viewData.symbol\">TM</td>\n",
      "<td class=\"left displayNone\" data-column-name=\"exchange_trans\">NYSE</td><td class=\"left displayNone\" data-column-name=\"sector_trans\">Consumer Cyclicals</td><td class=\"left displayNone\" data-column-name=\"industry_trans\">Automobiles &amp; Auto Parts</td><td data-column-name=\"last\">234.69</td><td data-column-name=\"pair_change_percent\">1.61%</td><td data-column-name=\"eq_market_cap\">315.36B</td><td data-column-name=\"turnover_volume\">159.44K</td><td class=\"displayNone\" data-column-name=\"eq_pe_ratio\">10.41</td><td class=\"displayNone\" data-column-name=\"MACD\">5.40</td><td class=\"displayNone\" data-column-name=\"eq_revenue\">43.71T</td><td class=\"displayNone\" data-column-name=\"avg_volume\">310.34K</td><td class=\"displayNone\" data-column-name=\"eq_eps\">332.35</td><td class=\"displayNone\" data-column-name=\"eq_beta\">0.48</td><td class=\"displayNone\" data-column-name=\"eq_dividend\">4.00</td><td class=\"displayNone\" data-column-name=\"eq_yield\">-</td><td class=\"left displayNone\" data-column-name=\"tech_sum_900\">Strong Buy</td><td class=\"left displayNone\" data-column-name=\"tech_sum_3600\">Buy</td><td class=\"left displayNone\" data-column-name=\"tech_sum_86400\">Neutral</td><td class=\"left displayNone\" data-column-name=\"tech_sum_week\">Strong Buy</td><td class=\"left displayNone\" data-column-name=\"tech_sum_month\">Strong Buy</td><td class=\"displayNone\" data-column-name=\"daily\">1.61</td><td class=\"displayNone\" data-column-name=\"week\">-3.35</td><td class=\"displayNone\" data-column-name=\"month\">3.22</td><td class=\"displayNone\" data-column-name=\"ytd\">27.98</td><td class=\"displayNone\" data-column-name=\"year\">75.82</td><td class=\"displayNone\" data-column-name=\"3year\">52.75</td><td class=\"displayNone\" data-column-name=\"eq_one_year_return\">72.69</td><td class=\"displayNone\" data-column-name=\"yield_us\">1.73%</td><td class=\"displayNone\" data-column-name=\"peexclxor_us\">10.45</td><td class=\"displayNone\" data-column-name=\"ttmpr2rev_us\">1.08</td><td class=\"displayNone\" data-column-name=\"aprfcfps_us\">8.77</td><td class=\"displayNone\" data-column-name=\"ttmprfcfps_us\">-203.78</td><td class=\"displayNone\" data-column-name=\"price2bk_us\">1.44</td><td class=\"displayNone\" data-column-name=\"pr2tanbk_us\">1.53</td><td class=\"displayNone\" data-column-name=\"epschngyr_us\">88.44</td><td class=\"displayNone\" data-column-name=\"ttmepschg_us\">87.35</td><td class=\"displayNone\" data-column-name=\"epstrendgr_us\">1.28</td><td class=\"displayNone\" data-column-name=\"revchngyr_us\">23.44</td><td class=\"displayNone\" data-column-name=\"ttmrevchg_us\">22.87</td><td class=\"displayNone\" data-column-name=\"revtrendgr_us\">4.81</td><td class=\"displayNone\" data-column-name=\"csptrendgr_us\">-1.38</td><td class=\"displayNone\" data-column-name=\"ttmastturn_us\">0.56</td><td class=\"displayNone\" data-column-name=\"ttminvturn_us\">8.31</td><td class=\"displayNone\" data-column-name=\"ttmrevpere_us\">116.49</td><td class=\"displayNone\" data-column-name=\"ttmniperem_us\">12.15</td><td class=\"displayNone\" data-column-name=\"ttmrecturn_us\">3.19</td><td class=\"displayNone\" data-column-name=\"a52_week_high\">253.43</td><td class=\"displayNone\" data-column-name=\"a52_week_low\">133.02</td><td class=\"displayNone\" data-column-name=\"a52_week_high_diff\">-7.39</td><td class=\"displayNone\" data-column-name=\"a52_week_low_diff\">76.43</td><td class=\"displayNone\" data-column-name=\"month_change\">20.46%</td><td class=\"displayNone\" data-column-name=\"ttmgrosmgn_us\">19.86</td><td class=\"displayNone\" data-column-name=\"grosmgn5yr_us\">18.11</td><td class=\"displayNone\" data-column-name=\"ttmopmgn_us\">11.13</td><td class=\"displayNone\" data-column-name=\"opmgn5yr_us\">8.47</td><td class=\"displayNone\" data-column-name=\"ttmptmgn_us\">14.08</td><td class=\"displayNone\" data-column-name=\"ptmgn5yr_us\">10.68</td><td class=\"displayNone\" data-column-name=\"ttmnpmgn_us\">10.29</td><td class=\"displayNone\" data-column-name=\"margin5yr_us\">7.89</td><td class=\"displayNone\" data-column-name=\"qquickrati_us\">0.98</td><td class=\"displayNone\" data-column-name=\"qcurratio_us\">1.18</td><td class=\"displayNone\" data-column-name=\"qltd2eq_us\">59.14</td><td class=\"displayNone\" data-column-name=\"qtotd2eq_us\">104.29</td><td class=\"displayNone\" data-column-name=\"yld5yavg_us\">3.98</td><td class=\"displayNone\" data-column-name=\"divgrpct_us\">13.44</td><td class=\"displayNone\" data-column-name=\"ttmpayrat_us\">19.56</td><td class=\"displayNone\" data-column-name=\"ADX\">48.75</td><td class=\"displayNone\" data-column-name=\"ATR\">4.60</td><td class=\"displayNone\" data-column-name=\"BullBear\">-5.98</td><td class=\"displayNone\" data-column-name=\"CCI\">-80.07</td><td class=\"displayNone\" data-column-name=\"HL\">-4.85</td><td class=\"displayNone\" data-column-name=\"ROC\">-1.46</td><td class=\"displayNone\" data-column-name=\"RSI\">53.22</td><td class=\"displayNone\" data-column-name=\"STOCH\">23.50</td><td class=\"displayNone\" data-column-name=\"STOCHRSI\">11.62</td><td class=\"displayNone\" data-column-name=\"UO\">39.62</td><td class=\"displayNone\" data-column-name=\"WilliamsR\">-81.40</td> <td></td>\n",
      "</tr><tr>\n",
      "<td class=\"flag\"><span class=\"ceFlags USA\"></span></td>\n",
      "<td class=\"symbol left bold elp\" data-column-name=\"name_trans\"><a href=\"/equities/abbvie-inc\" target=\"_blank\" title=\"AbbVie Inc\">AbbVie</a></td>\n",
      "<td class=\"left\" data-column-name=\"viewData.symbol\">ABBV</td>\n",
      "<td class=\"left displayNone\" data-column-name=\"exchange_trans\">NYSE</td><td class=\"left displayNone\" data-column-name=\"sector_trans\">Healthcare</td><td class=\"left displayNone\" data-column-name=\"industry_trans\">Pharmaceuticals</td><td data-column-name=\"last\">178.15</td><td data-column-name=\"pair_change_percent\">-1.68%</td><td data-column-name=\"eq_market_cap\">314.22B</td><td data-column-name=\"turnover_volume\">6.18M</td><td class=\"displayNone\" data-column-name=\"eq_pe_ratio\">65.48</td><td class=\"displayNone\" data-column-name=\"MACD\">2.49</td><td class=\"displayNone\" data-column-name=\"eq_revenue\">54.32B</td><td class=\"displayNone\" data-column-name=\"avg_volume\">5.11M</td><td class=\"displayNone\" data-column-name=\"eq_eps\">2.73</td><td class=\"displayNone\" data-column-name=\"eq_beta\">0.54</td><td class=\"displayNone\" data-column-name=\"eq_dividend\">6.20</td><td class=\"displayNone\" data-column-name=\"eq_yield\">-</td><td class=\"left displayNone\" data-column-name=\"tech_sum_900\">Strong Sell</td><td class=\"left displayNone\" data-column-name=\"tech_sum_3600\">Strong Sell</td><td class=\"left displayNone\" data-column-name=\"tech_sum_86400\">Neutral</td><td class=\"left displayNone\" data-column-name=\"tech_sum_week\">Strong Buy</td><td class=\"left displayNone\" data-column-name=\"tech_sum_month\">Strong Buy</td><td class=\"displayNone\" data-column-name=\"daily\">-1.68</td><td class=\"displayNone\" data-column-name=\"week\">-0.39</td><td class=\"displayNone\" data-column-name=\"month\">0.37</td><td class=\"displayNone\" data-column-name=\"ytd\">14.96</td><td class=\"displayNone\" data-column-name=\"year\">15.52</td><td class=\"displayNone\" data-column-name=\"3year\">69.60</td><td class=\"displayNone\" data-column-name=\"eq_one_year_return\">14.71</td><td class=\"displayNone\" data-column-name=\"yield_us\">3.42%</td><td class=\"displayNone\" data-column-name=\"peexclxor_us\">65.85</td><td class=\"displayNone\" data-column-name=\"ttmpr2rev_us\">5.84</td><td class=\"displayNone\" data-column-name=\"aprfcfps_us\">13.90</td><td class=\"displayNone\" data-column-name=\"ttmprfcfps_us\">14.39</td><td class=\"displayNone\" data-column-name=\"price2bk_us\">30.64</td><td class=\"displayNone\" data-column-name=\"pr2tanbk_us\">-4.09</td><td class=\"displayNone\" data-column-name=\"epschngyr_us\">-66.95</td><td class=\"displayNone\" data-column-name=\"ttmepschg_us\">-59.02</td><td class=\"displayNone\" data-column-name=\"epstrendgr_us\">-5.78</td><td class=\"displayNone\" data-column-name=\"revchngyr_us\">-5.42</td><td class=\"displayNone\" data-column-name=\"ttmrevchg_us\">-6.44</td><td class=\"displayNone\" data-column-name=\"revtrendgr_us\">10.65</td><td class=\"displayNone\" data-column-name=\"csptrendgr_us\">4.02</td><td class=\"displayNone\" data-column-name=\"ttmastturn_us\">0.40</td><td class=\"displayNone\" data-column-name=\"ttminvturn_us\">4.36</td><td class=\"displayNone\" data-column-name=\"ttmrevpere_us\">1.09</td><td class=\"displayNone\" data-column-name=\"ttmniperem_us\">97.46</td><td class=\"displayNone\" data-column-name=\"ttmrecturn_us\">5.07</td><td class=\"displayNone\" data-column-name=\"a52_week_high\">182.89</td><td class=\"displayNone\" data-column-name=\"a52_week_low\">130.96</td><td class=\"displayNone\" data-column-name=\"a52_week_high_diff\">-2.59</td><td class=\"displayNone\" data-column-name=\"a52_week_low_diff\">36.03</td><td class=\"displayNone\" data-column-name=\"month_change\">7.09%</td><td class=\"displayNone\" data-column-name=\"ttmgrosmgn_us\">69.21</td><td class=\"displayNone\" data-column-name=\"grosmgn5yr_us\">72.06</td><td class=\"displayNone\" data-column-name=\"ttmopmgn_us\">32.51</td><td class=\"displayNone\" data-column-name=\"opmgn5yr_us\">37.14</td><td class=\"displayNone\" data-column-name=\"ttmptmgn_us\">11.51</td><td class=\"displayNone\" data-column-name=\"ptmgn5yr_us\">17.47</td><td class=\"displayNone\" data-column-name=\"ttmnpmgn_us\">8.95</td><td class=\"displayNone\" data-column-name=\"margin5yr_us\">16.46</td><td class=\"displayNone\" data-column-name=\"qquickrati_us\">0.63</td><td class=\"displayNone\" data-column-name=\"qcurratio_us\">0.87</td><td class=\"displayNone\" data-column-name=\"qltd2eq_us\">506.37</td><td class=\"displayNone\" data-column-name=\"qtotd2eq_us\">584.74</td><td class=\"displayNone\" data-column-name=\"yld5yavg_us\">5.26</td><td class=\"displayNone\" data-column-name=\"divgrpct_us\">4.73</td><td class=\"displayNone\" data-column-name=\"ttmpayrat_us\">216.72</td><td class=\"displayNone\" data-column-name=\"ADX\">35.17</td><td class=\"displayNone\" data-column-name=\"ATR\">3.18</td><td class=\"displayNone\" data-column-name=\"BullBear\">0.02</td><td class=\"displayNone\" data-column-name=\"CCI\">-28.13</td><td class=\"displayNone\" data-column-name=\"HL\">0.00</td><td class=\"displayNone\" data-column-name=\"ROC\">-0.34</td><td class=\"displayNone\" data-column-name=\"RSI\">54.56</td><td class=\"displayNone\" data-column-name=\"STOCH\">53.18</td><td class=\"displayNone\" data-column-name=\"STOCHRSI\">0.00</td><td class=\"displayNone\" data-column-name=\"UO\">39.01</td><td class=\"displayNone\" data-column-name=\"WilliamsR\">-62.53</td> <td></td>\n",
      "</tr><tr>\n",
      "<td class=\"flag\"><span class=\"ceFlags USA\"></span></td>\n",
      "<td class=\"symbol left bold elp\" data-column-name=\"name_trans\"><a href=\"/equities/adv-micro-device\" target=\"_blank\" title=\"Advanced Micro Devices Inc\">AMD</a></td>\n",
      "<td class=\"left\" data-column-name=\"viewData.symbol\">AMD</td>\n",
      "<td class=\"left displayNone\" data-column-name=\"exchange_trans\">NASDAQ</td><td class=\"left displayNone\" data-column-name=\"sector_trans\">Technology</td><td class=\"left displayNone\" data-column-name=\"industry_trans\">Semiconductors &amp; Semiconductor Equipment</td><td data-column-name=\"last\">191.06</td><td data-column-name=\"pair_change_percent\">2.14%</td><td data-column-name=\"eq_market_cap\">308.71B</td><td data-column-name=\"turnover_volume\">95.17M</td><td class=\"displayNone\" data-column-name=\"eq_pe_ratio\">364.46</td><td class=\"displayNone\" data-column-name=\"MACD\">6.83</td><td class=\"displayNone\" data-column-name=\"eq_revenue\">22.68B</td><td class=\"displayNone\" data-column-name=\"avg_volume\">74.85M</td><td class=\"displayNone\" data-column-name=\"eq_eps\">0.53</td><td class=\"displayNone\" data-column-name=\"eq_beta\">1.63</td><td class=\"displayNone\" data-column-name=\"eq_dividend\">-</td><td class=\"displayNone\" data-column-name=\"eq_yield\">-</td><td class=\"left displayNone\" data-column-name=\"tech_sum_900\">Sell</td><td class=\"left displayNone\" data-column-name=\"tech_sum_3600\">Neutral</td><td class=\"left displayNone\" data-column-name=\"tech_sum_86400\">Neutral</td><td class=\"left displayNone\" data-column-name=\"tech_sum_week\">Strong Buy</td><td class=\"left displayNone\" data-column-name=\"tech_sum_month\">Strong Buy</td><td class=\"displayNone\" data-column-name=\"daily\">2.14</td><td class=\"displayNone\" data-column-name=\"week\">-7.87</td><td class=\"displayNone\" data-column-name=\"month\">9.89</td><td class=\"displayNone\" data-column-name=\"ytd\">29.61</td><td class=\"displayNone\" data-column-name=\"year\">95.28</td><td class=\"displayNone\" data-column-name=\"3year\">131.22</td><td class=\"displayNone\" data-column-name=\"eq_one_year_return\">97.78</td><td class=\"displayNone\" data-column-name=\"yield_us\">-</td><td class=\"displayNone\" data-column-name=\"peexclxor_us\">361.49</td><td class=\"displayNone\" data-column-name=\"ttmpr2rev_us\">13.61</td><td class=\"displayNone\" data-column-name=\"aprfcfps_us\">185.19</td><td class=\"displayNone\" data-column-name=\"ttmprfcfps_us\">275.39</td><td class=\"displayNone\" data-column-name=\"price2bk_us\">5.52</td><td class=\"displayNone\" data-column-name=\"pr2tanbk_us\">30.55</td><td class=\"displayNone\" data-column-name=\"epschngyr_us\">3.07K</td><td class=\"displayNone\" data-column-name=\"ttmepschg_us\">-37.43</td><td class=\"displayNone\" data-column-name=\"epstrendgr_us\">9.05</td><td class=\"displayNone\" data-column-name=\"revchngyr_us\">10.16</td><td class=\"displayNone\" data-column-name=\"ttmrevchg_us\">-3.90</td><td class=\"displayNone\" data-column-name=\"revtrendgr_us\">28.49</td><td class=\"displayNone\" data-column-name=\"csptrendgr_us\">27.35</td><td class=\"displayNone\" data-column-name=\"ttmastturn_us\">0.33</td><td class=\"displayNone\" data-column-name=\"ttminvturn_us\">2.78</td><td class=\"displayNone\" data-column-name=\"ttmrevpere_us\">872.31</td><td class=\"displayNone\" data-column-name=\"ttmniperem_us\">32.85</td><td class=\"displayNone\" data-column-name=\"ttmrecturn_us\">4.73</td><td class=\"displayNone\" data-column-name=\"a52_week_high\">227.3</td><td class=\"displayNone\" data-column-name=\"a52_week_low\">81.02</td><td class=\"displayNone\" data-column-name=\"a52_week_high_diff\">-15.94</td><td class=\"displayNone\" data-column-name=\"a52_week_low_diff\">135.82</td><td class=\"displayNone\" data-column-name=\"month_change\">14.81%</td><td class=\"displayNone\" data-column-name=\"ttmgrosmgn_us\">50.27</td><td class=\"displayNone\" data-column-name=\"grosmgn5yr_us\">46.53</td><td class=\"displayNone\" data-column-name=\"ttmopmgn_us\">1.77</td><td class=\"displayNone\" data-column-name=\"opmgn5yr_us\">10.47</td><td class=\"displayNone\" data-column-name=\"ttmptmgn_us\">2.24</td><td class=\"displayNone\" data-column-name=\"ptmgn5yr_us\">9.32</td><td class=\"displayNone\" data-column-name=\"ttmnpmgn_us\">3.77</td><td class=\"displayNone\" data-column-name=\"margin5yr_us\">10.90</td><td class=\"displayNone\" data-column-name=\"qquickrati_us\">1.67</td><td class=\"displayNone\" data-column-name=\"qcurratio_us\">2.51</td><td class=\"displayNone\" data-column-name=\"qltd2eq_us\">3.07</td><td class=\"displayNone\" data-column-name=\"qtotd2eq_us\">5.56</td><td class=\"displayNone\" data-column-name=\"yld5yavg_us\">-</td><td class=\"displayNone\" data-column-name=\"divgrpct_us\">0.00</td><td class=\"displayNone\" data-column-name=\"ttmpayrat_us\">0.00</td><td class=\"displayNone\" data-column-name=\"ADX\">22.67</td><td class=\"displayNone\" data-column-name=\"ATR\">9.97</td><td class=\"displayNone\" data-column-name=\"BullBear\">-10.48</td><td class=\"displayNone\" data-column-name=\"CCI\">-42.63</td><td class=\"displayNone\" data-column-name=\"HL\">-1.58</td><td class=\"displayNone\" data-column-name=\"ROC\">8.59</td><td class=\"displayNone\" data-column-name=\"RSI\">52.69</td><td class=\"displayNone\" data-column-name=\"STOCH\">34.40</td><td class=\"displayNone\" data-column-name=\"STOCHRSI\">11.55</td><td class=\"displayNone\" data-column-name=\"UO\">42.12</td><td class=\"displayNone\" data-column-name=\"WilliamsR\">-66.01</td> <td></td>\n",
      "</tr><tr>\n",
      "<td class=\"flag\"><span class=\"ceFlags USA\"></span></td>\n",
      "<td class=\"symbol left bold elp\" data-column-name=\"name_trans\"><a href=\"/equities/merck---co\" target=\"_blank\" title=\"Merck &amp; Company Inc\">Merck&amp;Co</a></td>\n",
      "<td class=\"left\" data-column-name=\"viewData.symbol\">MRK</td>\n",
      "<td class=\"left displayNone\" data-column-name=\"exchange_trans\">NYSE</td><td class=\"left displayNone\" data-column-name=\"sector_trans\">Healthcare</td><td class=\"left displayNone\" data-column-name=\"industry_trans\">Pharmaceuticals</td><td data-column-name=\"last\">121.53</td><td data-column-name=\"pair_change_percent\">0.85%</td><td data-column-name=\"eq_market_cap\">307.77B</td><td data-column-name=\"turnover_volume\">12.72M</td><td class=\"displayNone\" data-column-name=\"eq_pe_ratio\">841.81</td><td class=\"displayNone\" data-column-name=\"MACD\">-0.57</td><td class=\"displayNone\" data-column-name=\"eq_revenue\">60.12B</td><td class=\"displayNone\" data-column-name=\"avg_volume\">7.67M</td><td class=\"displayNone\" data-column-name=\"eq_eps\">0.14</td><td class=\"displayNone\" data-column-name=\"eq_beta\">0.38</td><td class=\"displayNone\" data-column-name=\"eq_dividend\">3.08</td><td class=\"displayNone\" data-column-name=\"eq_yield\">-</td><td class=\"left displayNone\" data-column-name=\"tech_sum_900\">Strong Buy</td><td class=\"left displayNone\" data-column-name=\"tech_sum_3600\">Neutral</td><td class=\"left displayNone\" data-column-name=\"tech_sum_86400\">Strong Sell</td><td class=\"left displayNone\" data-column-name=\"tech_sum_week\">Strong Buy</td><td class=\"left displayNone\" data-column-name=\"tech_sum_month\">Strong Buy</td><td class=\"displayNone\" data-column-name=\"daily\">0.85</td><td class=\"displayNone\" data-column-name=\"week\">-1.60</td><td class=\"displayNone\" data-column-name=\"month\">-4.90</td><td class=\"displayNone\" data-column-name=\"ytd\">11.47</td><td class=\"displayNone\" data-column-name=\"year\">16.74</td><td class=\"displayNone\" data-column-name=\"3year\">64.88</td><td class=\"displayNone\" data-column-name=\"eq_one_year_return\">13.22</td><td class=\"displayNone\" data-column-name=\"yield_us\">2.56%</td><td class=\"displayNone\" data-column-name=\"peexclxor_us\">841.25</td><td class=\"displayNone\" data-column-name=\"ttmpr2rev_us\">5.11</td><td class=\"displayNone\" data-column-name=\"aprfcfps_us\">23.61</td><td class=\"displayNone\" data-column-name=\"ttmprfcfps_us\">33.58</td><td class=\"displayNone\" data-column-name=\"price2bk_us\">8.17</td><td class=\"displayNone\" data-column-name=\"pr2tanbk_us\">-187.71</td><td class=\"displayNone\" data-column-name=\"epschngyr_us\">-140.68</td><td class=\"displayNone\" data-column-name=\"ttmepschg_us\">-97.49</td><td class=\"displayNone\" data-column-name=\"epstrendgr_us\">-42.73</td><td class=\"displayNone\" data-column-name=\"revchngyr_us\">5.78</td><td class=\"displayNone\" data-column-name=\"ttmrevchg_us\">1.40</td><td class=\"displayNone\" data-column-name=\"revtrendgr_us\">7.29</td><td class=\"displayNone\" data-column-name=\"csptrendgr_us\">8.12</td><td class=\"displayNone\" data-column-name=\"ttmastturn_us\">0.56</td><td class=\"displayNone\" data-column-name=\"ttminvturn_us\">2.59</td><td class=\"displayNone\" data-column-name=\"ttmrevpere_us\">858.79</td><td class=\"displayNone\" data-column-name=\"ttmniperem_us\">5.39</td><td class=\"displayNone\" data-column-name=\"ttmrecturn_us\">5.01</td><td class=\"displayNone\" data-column-name=\"a52_week_high\">130.24</td><td class=\"displayNone\" data-column-name=\"a52_week_low\">99.14</td><td class=\"displayNone\" data-column-name=\"a52_week_high_diff\">-6.69</td><td class=\"displayNone\" data-column-name=\"a52_week_low_diff\">22.58</td><td class=\"displayNone\" data-column-name=\"month_change\">5.27%</td><td class=\"displayNone\" data-column-name=\"ttmgrosmgn_us\">73.53</td><td class=\"displayNone\" data-column-name=\"grosmgn5yr_us\">71.75</td><td class=\"displayNone\" data-column-name=\"ttmopmgn_us\">7.59</td><td class=\"displayNone\" data-column-name=\"opmgn5yr_us\">27.00</td><td class=\"displayNone\" data-column-name=\"ttmptmgn_us\">3.14</td><td class=\"displayNone\" data-column-name=\"ptmgn5yr_us\">21.09</td><td class=\"displayNone\" data-column-name=\"ttmnpmgn_us\">0.61</td><td class=\"displayNone\" data-column-name=\"margin5yr_us\">19.45</td><td class=\"displayNone\" data-column-name=\"qquickrati_us\">0.73</td><td class=\"displayNone\" data-column-name=\"qcurratio_us\">1.25</td><td class=\"displayNone\" data-column-name=\"qltd2eq_us\">89.63</td><td class=\"displayNone\" data-column-name=\"qtotd2eq_us\">96.51</td><td class=\"displayNone\" data-column-name=\"yld5yavg_us\">3.32</td><td class=\"displayNone\" data-column-name=\"divgrpct_us\">5.48</td><td class=\"displayNone\" data-column-name=\"ttmpayrat_us\">2.04K</td><td class=\"displayNone\" data-column-name=\"ADX\">41.10</td><td class=\"displayNone\" data-column-name=\"ATR\">2.19</td><td class=\"displayNone\" data-column-name=\"BullBear\">-5.66</td><td class=\"displayNone\" data-column-name=\"CCI\">-110.36</td><td class=\"displayNone\" data-column-name=\"HL\">-1.69</td><td class=\"displayNone\" data-column-name=\"ROC\">-5.67</td><td class=\"displayNone\" data-column-name=\"RSI\">39.31</td><td class=\"displayNone\" data-column-name=\"STOCH\">33.52</td><td class=\"displayNone\" data-column-name=\"STOCHRSI\">14.54</td><td class=\"displayNone\" data-column-name=\"UO\">53.44</td><td class=\"displayNone\" data-column-name=\"WilliamsR\">-77.77</td> <td></td>\n",
      "</tr><tr>\n",
      "<td class=\"flag\"><span class=\"ceFlags USA\"></span></td>\n",
      "<td class=\"symbol left bold elp\" data-column-name=\"name_trans\"><a href=\"/equities/chevron\" target=\"_blank\" title=\"Chevron Corp\">Chevron</a></td>\n",
      "<td class=\"left\" data-column-name=\"viewData.symbol\">CVX</td>\n",
      "<td class=\"left displayNone\" data-column-name=\"exchange_trans\">NYSE</td><td class=\"left displayNone\" data-column-name=\"sector_trans\">Energy</td><td class=\"left displayNone\" data-column-name=\"industry_trans\">Oil &amp; Gas</td><td data-column-name=\"last\">155.59</td><td data-column-name=\"pair_change_percent\">-0.07%</td><td data-column-name=\"eq_market_cap\">288.90B</td><td data-column-name=\"turnover_volume\">8.55M</td><td class=\"displayNone\" data-column-name=\"eq_pe_ratio\">13.59</td><td class=\"displayNone\" data-column-name=\"MACD\">1.01</td><td class=\"displayNone\" data-column-name=\"eq_revenue\">194.80B</td><td class=\"displayNone\" data-column-name=\"avg_volume\">8.61M</td><td class=\"displayNone\" data-column-name=\"eq_eps\">11.41</td><td class=\"displayNone\" data-column-name=\"eq_beta\">-</td><td class=\"displayNone\" data-column-name=\"eq_dividend\">6.52</td><td class=\"displayNone\" data-column-name=\"eq_yield\">-</td><td class=\"left displayNone\" data-column-name=\"tech_sum_900\">Strong Buy</td><td class=\"left displayNone\" data-column-name=\"tech_sum_3600\">Strong Buy</td><td class=\"left displayNone\" data-column-name=\"tech_sum_86400\">Strong Buy</td><td class=\"left displayNone\" data-column-name=\"tech_sum_week\">Strong Buy</td><td class=\"left displayNone\" data-column-name=\"tech_sum_month\">Neutral</td><td class=\"displayNone\" data-column-name=\"daily\">-0.07</td><td class=\"displayNone\" data-column-name=\"week\">3.81</td><td class=\"displayNone\" data-column-name=\"month\">0.62</td><td class=\"displayNone\" data-column-name=\"ytd\">4.31</td><td class=\"displayNone\" data-column-name=\"year\">2.13</td><td class=\"displayNone\" data-column-name=\"3year\">44.02</td><td class=\"displayNone\" data-column-name=\"eq_one_year_return\">0.84</td><td class=\"displayNone\" data-column-name=\"yield_us\">4.19%</td><td class=\"displayNone\" data-column-name=\"peexclxor_us\">13.52</td><td class=\"displayNone\" data-column-name=\"ttmpr2rev_us\">1.48</td><td class=\"displayNone\" data-column-name=\"aprfcfps_us\">8.12</td><td class=\"displayNone\" data-column-name=\"ttmprfcfps_us\">14.61</td><td class=\"displayNone\" data-column-name=\"price2bk_us\">1.80</td><td class=\"displayNone\" data-column-name=\"pr2tanbk_us\">1.85</td><td class=\"displayNone\" data-column-name=\"epschngyr_us\">-63.50</td><td class=\"displayNone\" data-column-name=\"ttmepschg_us\">-37.88</td><td class=\"displayNone\" data-column-name=\"epstrendgr_us\">7.87</td><td class=\"displayNone\" data-column-name=\"revchngyr_us\">-15.44</td><td class=\"displayNone\" data-column-name=\"ttmrevchg_us\">-17.43</td><td class=\"displayNone\" data-column-name=\"revtrendgr_us\">5.22</td><td class=\"displayNone\" data-column-name=\"csptrendgr_us\">2.79</td><td class=\"displayNone\" data-column-name=\"ttmastturn_us\">0.75</td><td class=\"displayNone\" data-column-name=\"ttminvturn_us\">14.03</td><td class=\"displayNone\" data-column-name=\"ttmrevpere_us\">4.27</td><td class=\"displayNone\" data-column-name=\"ttmniperem_us\">469.54</td><td class=\"displayNone\" data-column-name=\"ttmrecturn_us\">9.21</td><td class=\"displayNone\" data-column-name=\"a52_week_high\">172.88</td><td class=\"displayNone\" data-column-name=\"a52_week_low\">139.62</td><td class=\"displayNone\" data-column-name=\"a52_week_high_diff\">-10.00</td><td class=\"displayNone\" data-column-name=\"a52_week_low_diff\">11.44</td><td class=\"displayNone\" data-column-name=\"month_change\">3.11%</td><td class=\"displayNone\" data-column-name=\"ttmgrosmgn_us\">39.29</td><td class=\"displayNone\" data-column-name=\"grosmgn5yr_us\">42.52</td><td class=\"displayNone\" data-column-name=\"ttmopmgn_us\">13.84</td><td class=\"displayNone\" data-column-name=\"opmgn5yr_us\">8.97</td><td class=\"displayNone\" data-column-name=\"ttmptmgn_us\">15.19</td><td class=\"displayNone\" data-column-name=\"ptmgn5yr_us\">9.31</td><td class=\"displayNone\" data-column-name=\"ttmnpmgn_us\">10.97</td><td class=\"displayNone\" data-column-name=\"margin5yr_us\">6.48</td><td class=\"displayNone\" data-column-name=\"qquickrati_us\">0.87</td><td class=\"displayNone\" data-column-name=\"qcurratio_us\">1.27</td><td class=\"displayNone\" data-column-name=\"qltd2eq_us\">12.26</td><td class=\"displayNone\" data-column-name=\"qtotd2eq_us\">16.20</td><td class=\"displayNone\" data-column-name=\"yld5yavg_us\">5.15</td><td class=\"displayNone\" data-column-name=\"divgrpct_us\">14.79</td><td class=\"displayNone\" data-column-name=\"ttmpayrat_us\">53.05</td><td class=\"displayNone\" data-column-name=\"ADX\">29.21</td><td class=\"displayNone\" data-column-name=\"ATR\">2.81</td><td class=\"displayNone\" data-column-name=\"BullBear\">6.05</td><td class=\"displayNone\" data-column-name=\"CCI\">156.12</td><td class=\"displayNone\" data-column-name=\"HL\">2.47</td><td class=\"displayNone\" data-column-name=\"ROC\">0.75</td><td class=\"displayNone\" data-column-name=\"RSI\">62.06</td><td class=\"displayNone\" data-column-name=\"STOCH\">58.54</td><td class=\"displayNone\" data-column-name=\"STOCHRSI\">98.40</td><td class=\"displayNone\" data-column-name=\"UO\">62.02</td><td class=\"displayNone\" data-column-name=\"WilliamsR\">-15.17</td> <td></td>\n",
      "</tr><tr>\n",
      "<td class=\"flag\"><span class=\"ceFlags USA\"></span></td>\n",
      "<td class=\"symbol left bold elp\" data-column-name=\"name_trans\"><a href=\"/equities/salesforce-com\" target=\"_blank\" title=\"Salesforce Inc\">Salesforce Inc</a></td>\n",
      "<td class=\"left\" data-column-name=\"viewData.symbol\">CRM</td>\n",
      "<td class=\"left displayNone\" data-column-name=\"exchange_trans\">NYSE</td><td class=\"left displayNone\" data-column-name=\"sector_trans\">Technology</td><td class=\"left displayNone\" data-column-name=\"industry_trans\">Software &amp; IT Services</td><td data-column-name=\"last\">294.16</td><td data-column-name=\"pair_change_percent\">-3.02%</td><td data-column-name=\"eq_market_cap\">285.50B</td><td data-column-name=\"turnover_volume\">10.90M</td><td class=\"displayNone\" data-column-name=\"eq_pe_ratio\">69.60</td><td class=\"displayNone\" data-column-name=\"MACD\">4.45</td><td class=\"displayNone\" data-column-name=\"eq_revenue\">34.86B</td><td class=\"displayNone\" data-column-name=\"avg_volume\">5.53M</td><td class=\"displayNone\" data-column-name=\"eq_eps\">4.25</td><td class=\"displayNone\" data-column-name=\"eq_beta\">1.28</td><td class=\"displayNone\" data-column-name=\"eq_dividend\">1.60</td><td class=\"displayNone\" data-column-name=\"eq_yield\">-</td><td class=\"left displayNone\" data-column-name=\"tech_sum_900\">Strong Sell</td><td class=\"left displayNone\" data-column-name=\"tech_sum_3600\">Strong Sell</td><td class=\"left displayNone\" data-column-name=\"tech_sum_86400\">Sell</td><td class=\"left displayNone\" data-column-name=\"tech_sum_week\">Strong Buy</td><td class=\"left displayNone\" data-column-name=\"tech_sum_month\">Strong Buy</td><td class=\"displayNone\" data-column-name=\"daily\">-3.02</td><td class=\"displayNone\" data-column-name=\"week\">-3.64</td><td class=\"displayNone\" data-column-name=\"month\">1.53</td><td class=\"displayNone\" data-column-name=\"ytd\">11.79</td><td class=\"displayNone\" data-column-name=\"year\">59.13</td><td class=\"displayNone\" data-column-name=\"3year\">38.03</td><td class=\"displayNone\" data-column-name=\"eq_one_year_return\">57.05</td><td class=\"displayNone\" data-column-name=\"yield_us\">0.53%</td><td class=\"displayNone\" data-column-name=\"peexclxor_us\">69.29</td><td class=\"displayNone\" data-column-name=\"ttmpr2rev_us\">8.22</td><td class=\"displayNone\" data-column-name=\"aprfcfps_us\">28.00</td><td class=\"displayNone\" data-column-name=\"ttmprfcfps_us\">30.17</td><td class=\"displayNone\" data-column-name=\"price2bk_us\">4.80</td><td class=\"displayNone\" data-column-name=\"pr2tanbk_us\">51.43</td><td class=\"displayNone\" data-column-name=\"epschngyr_us\">1.60K</td><td class=\"displayNone\" data-column-name=\"ttmepschg_us\">1.93K</td><td class=\"displayNone\" data-column-name=\"epstrendgr_us\">23.50</td><td class=\"displayNone\" data-column-name=\"revchngyr_us\">10.77</td><td class=\"displayNone\" data-column-name=\"ttmrevchg_us\">11.18</td><td class=\"displayNone\" data-column-name=\"revtrendgr_us\">21.28</td><td class=\"displayNone\" data-column-name=\"csptrendgr_us\">4.35</td><td class=\"displayNone\" data-column-name=\"ttmastturn_us\">0.35</td><td class=\"displayNone\" data-column-name=\"ttminvturn_us\">0.00</td><td class=\"displayNone\" data-column-name=\"ttmrevpere_us\">479.58</td><td class=\"displayNone\" data-column-name=\"ttmniperem_us\">56.91</td><td class=\"displayNone\" data-column-name=\"ttmrecturn_us\">4.57</td><td class=\"displayNone\" data-column-name=\"a52_week_high\">318.71</td><td class=\"displayNone\" data-column-name=\"a52_week_low\">182.65</td><td class=\"displayNone\" data-column-name=\"a52_week_high_diff\">-7.70</td><td class=\"displayNone\" data-column-name=\"a52_week_low_diff\">61.05</td><td class=\"displayNone\" data-column-name=\"month_change\">9.87%</td><td class=\"displayNone\" data-column-name=\"ttmgrosmgn_us\">75.50</td><td class=\"displayNone\" data-column-name=\"grosmgn5yr_us\">74.22</td><td class=\"displayNone\" data-column-name=\"ttmopmgn_us\">17.21</td><td class=\"displayNone\" data-column-name=\"opmgn5yr_us\">4.98</td><td class=\"displayNone\" data-column-name=\"ttmptmgn_us\">14.20</td><td class=\"displayNone\" data-column-name=\"ptmgn5yr_us\">6.85</td><td class=\"displayNone\" data-column-name=\"ttmnpmgn_us\">11.87</td><td class=\"displayNone\" data-column-name=\"margin5yr_us\">7.14</td><td class=\"displayNone\" data-column-name=\"qquickrati_us\">0.96</td><td class=\"displayNone\" data-column-name=\"qcurratio_us\">1.09</td><td class=\"displayNone\" data-column-name=\"qltd2eq_us\">14.13</td><td class=\"displayNone\" data-column-name=\"qtotd2eq_us\">22.74</td><td class=\"displayNone\" data-column-name=\"yld5yavg_us\">-</td><td class=\"displayNone\" data-column-name=\"divgrpct_us\">0.00</td><td class=\"displayNone\" data-column-name=\"ttmpayrat_us\">0.00</td><td class=\"displayNone\" data-column-name=\"ADX\">27.22</td><td class=\"displayNone\" data-column-name=\"ATR\">8.06</td><td class=\"displayNone\" data-column-name=\"BullBear\">-9.72</td><td class=\"displayNone\" data-column-name=\"CCI\">-178.03</td><td class=\"displayNone\" data-column-name=\"HL\">-6.88</td><td class=\"displayNone\" data-column-name=\"ROC\">-2.09</td><td class=\"displayNone\" data-column-name=\"RSI\">47.19</td><td class=\"displayNone\" data-column-name=\"STOCH\">38.71</td><td class=\"displayNone\" data-column-name=\"STOCHRSI\">0.00</td><td class=\"displayNone\" data-column-name=\"UO\">40.74</td><td class=\"displayNone\" data-column-name=\"WilliamsR\">-98.60</td> <td></td>\n",
      "</tr><tr>\n",
      "<td class=\"flag\"><span class=\"ceFlags USA\"></span></td>\n",
      "<td class=\"symbol left bold elp\" data-column-name=\"name_trans\"><a href=\"/equities/nestle-ag?cid=53030\" target=\"_blank\" title=\"Nestle SA\">Nestle</a></td>\n",
      "<td class=\"left\" data-column-name=\"viewData.symbol\">NSRGF</td>\n",
      "<td class=\"left displayNone\" data-column-name=\"exchange_trans\">OTC Markets</td><td class=\"left displayNone\" data-column-name=\"sector_trans\">Consumer Non-Cyclicals</td><td class=\"left displayNone\" data-column-name=\"industry_trans\">Food &amp; Tobacco</td><td data-column-name=\"last\">107.848</td><td data-column-name=\"pair_change_percent\">0.22%</td><td data-column-name=\"eq_market_cap\">282.53B</td><td data-column-name=\"turnover_volume\">2.09K</td><td class=\"displayNone\" data-column-name=\"eq_pe_ratio\">22.50</td><td class=\"displayNone\" data-column-name=\"MACD\">-0.91</td><td class=\"displayNone\" data-column-name=\"eq_revenue\">93.35B</td><td class=\"displayNone\" data-column-name=\"avg_volume\">36.93K</td><td class=\"displayNone\" data-column-name=\"eq_eps\">4.24</td><td class=\"displayNone\" data-column-name=\"eq_beta\">0.29</td><td class=\"displayNone\" data-column-name=\"eq_dividend\">3.00</td><td class=\"displayNone\" data-column-name=\"eq_yield\">-</td><td class=\"left displayNone\" data-column-name=\"tech_sum_900\">Strong Buy</td><td class=\"left displayNone\" data-column-name=\"tech_sum_3600\">Neutral</td><td class=\"left displayNone\" data-column-name=\"tech_sum_86400\">Buy</td><td class=\"left displayNone\" data-column-name=\"tech_sum_week\">Strong Sell</td><td class=\"left displayNone\" data-column-name=\"tech_sum_month\">Strong Sell</td><td class=\"displayNone\" data-column-name=\"daily\">0.22</td><td class=\"displayNone\" data-column-name=\"week\">0.82</td><td class=\"displayNone\" data-column-name=\"month\">-1.33</td><td class=\"displayNone\" data-column-name=\"ytd\">-6.99</td><td class=\"displayNone\" data-column-name=\"year\">-8.41</td><td class=\"displayNone\" data-column-name=\"3year\">-2.00</td><td class=\"displayNone\" data-column-name=\"eq_one_year_return\">-8.68</td><td class=\"displayNone\" data-column-name=\"yield_us\">3.15%</td><td class=\"displayNone\" data-column-name=\"peexclxor_us\">22.28</td><td class=\"displayNone\" data-column-name=\"ttmpr2rev_us\">3.19</td><td class=\"displayNone\" data-column-name=\"aprfcfps_us\">76.57</td><td class=\"displayNone\" data-column-name=\"ttmprfcfps_us\">76.57</td><td class=\"displayNone\" data-column-name=\"price2bk_us\">4.93</td><td class=\"displayNone\" data-column-name=\"pr2tanbk_us\">41.45</td><td class=\"displayNone\" data-column-name=\"epschngyr_us\">203.09</td><td class=\"displayNone\" data-column-name=\"ttmepschg_us\">63.30</td><td class=\"displayNone\" data-column-name=\"epstrendgr_us\">1.41</td><td class=\"displayNone\" data-column-name=\"revchngyr_us\">1.83</td><td class=\"displayNone\" data-column-name=\"ttmrevchg_us\">2.06</td><td class=\"displayNone\" data-column-name=\"revtrendgr_us\">-0.16</td><td class=\"displayNone\" data-column-name=\"csptrendgr_us\">-3.46</td><td class=\"displayNone\" data-column-name=\"ttmastturn_us\">0.68</td><td class=\"displayNone\" data-column-name=\"ttminvturn_us\">5.03</td><td class=\"displayNone\" data-column-name=\"ttmrevpere_us\">296.88</td><td class=\"displayNone\" data-column-name=\"ttmniperem_us\">31.01</td><td class=\"displayNone\" data-column-name=\"ttmrecturn_us\">7.88</td><td class=\"displayNone\" data-column-name=\"a52_week_high\">132</td><td class=\"displayNone\" data-column-name=\"a52_week_low\">102.45</td><td class=\"displayNone\" data-column-name=\"a52_week_high_diff\">-18.30</td><td class=\"displayNone\" data-column-name=\"a52_week_low_diff\">5.27</td><td class=\"displayNone\" data-column-name=\"month_change\">-8.86%</td><td class=\"displayNone\" data-column-name=\"ttmgrosmgn_us\">49.62</td><td class=\"displayNone\" data-column-name=\"grosmgn5yr_us\">49.41</td><td class=\"displayNone\" data-column-name=\"ttmopmgn_us\">15.04</td><td class=\"displayNone\" data-column-name=\"opmgn5yr_us\">13.39</td><td class=\"displayNone\" data-column-name=\"ttmptmgn_us\">14.21</td><td class=\"displayNone\" data-column-name=\"ptmgn5yr_us\">12.65</td><td class=\"displayNone\" data-column-name=\"ttmnpmgn_us\">10.45</td><td class=\"displayNone\" data-column-name=\"margin5yr_us\">8.64</td><td class=\"displayNone\" data-column-name=\"qquickrati_us\">0.74</td><td class=\"displayNone\" data-column-name=\"qcurratio_us\">0.95</td><td class=\"displayNone\" data-column-name=\"qltd2eq_us\">44.80</td><td class=\"displayNone\" data-column-name=\"qtotd2eq_us\">70.42</td><td class=\"displayNone\" data-column-name=\"yld5yavg_us\">2.69</td><td class=\"displayNone\" data-column-name=\"divgrpct_us\">-100.00</td><td class=\"displayNone\" data-column-name=\"ttmpayrat_us\">72.14</td><td class=\"displayNone\" data-column-name=\"ADX\">33.34</td><td class=\"displayNone\" data-column-name=\"ATR\">1.61</td><td class=\"displayNone\" data-column-name=\"BullBear\">0.88</td><td class=\"displayNone\" data-column-name=\"CCI\">85.48</td><td class=\"displayNone\" data-column-name=\"HL\">1.20</td><td class=\"displayNone\" data-column-name=\"ROC\">0.59</td><td class=\"displayNone\" data-column-name=\"RSI\">48.79</td><td class=\"displayNone\" data-column-name=\"STOCH\">76.96</td><td class=\"displayNone\" data-column-name=\"STOCHRSI\">90.08</td><td class=\"displayNone\" data-column-name=\"UO\">56.86</td><td class=\"displayNone\" data-column-name=\"WilliamsR\">-18.04</td> <td></td>\n",
      "</tr><tr>\n",
      "<td class=\"flag\"><span class=\"ceFlags USA\"></span></td>\n",
      "<td class=\"symbol left bold elp\" data-column-name=\"name_trans\"><a href=\"/equities/nestle-sa-pk\" target=\"_blank\" title=\"Nestle SA ADR\">Nestle ADR</a></td>\n",
      "<td class=\"left\" data-column-name=\"viewData.symbol\">NSRGY</td>\n",
      "<td class=\"left displayNone\" data-column-name=\"exchange_trans\">OTC Markets</td><td class=\"left displayNone\" data-column-name=\"sector_trans\">Consumer Non-Cyclicals</td><td class=\"left displayNone\" data-column-name=\"industry_trans\">Food &amp; Tobacco</td><td data-column-name=\"last\">107.9</td><td data-column-name=\"pair_change_percent\">0.3%</td><td data-column-name=\"eq_market_cap\">282.53B</td><td data-column-name=\"turnover_volume\">252.74K</td><td class=\"displayNone\" data-column-name=\"eq_pe_ratio\">22.50</td><td class=\"displayNone\" data-column-name=\"MACD\">-0.88</td><td class=\"displayNone\" data-column-name=\"eq_revenue\">93.35B</td><td class=\"displayNone\" data-column-name=\"avg_volume\">682.28K</td><td class=\"displayNone\" data-column-name=\"eq_eps\">4.24</td><td class=\"displayNone\" data-column-name=\"eq_beta\">0.29</td><td class=\"displayNone\" data-column-name=\"eq_dividend\">2.87</td><td class=\"displayNone\" data-column-name=\"eq_yield\">-</td><td class=\"left displayNone\" data-column-name=\"tech_sum_900\">Buy</td><td class=\"left displayNone\" data-column-name=\"tech_sum_3600\">Neutral</td><td class=\"left displayNone\" data-column-name=\"tech_sum_86400\">Buy</td><td class=\"left displayNone\" data-column-name=\"tech_sum_week\">Strong Sell</td><td class=\"left displayNone\" data-column-name=\"tech_sum_month\">Strong Sell</td><td class=\"displayNone\" data-column-name=\"daily\">0.30</td><td class=\"displayNone\" data-column-name=\"week\">0.74</td><td class=\"displayNone\" data-column-name=\"month\">-2.11</td><td class=\"displayNone\" data-column-name=\"ytd\">-6.69</td><td class=\"displayNone\" data-column-name=\"year\">-8.33</td><td class=\"displayNone\" data-column-name=\"3year\">-1.82</td><td class=\"displayNone\" data-column-name=\"eq_one_year_return\">-8.71</td><td class=\"displayNone\" data-column-name=\"yield_us\">2.67%</td><td class=\"displayNone\" data-column-name=\"peexclxor_us\">-</td><td class=\"displayNone\" data-column-name=\"ttmpr2rev_us\">-</td><td class=\"displayNone\" data-column-name=\"aprfcfps_us\">-</td><td class=\"displayNone\" data-column-name=\"ttmprfcfps_us\">-</td><td class=\"displayNone\" data-column-name=\"price2bk_us\">-</td><td class=\"displayNone\" data-column-name=\"pr2tanbk_us\">-</td><td class=\"displayNone\" data-column-name=\"epschngyr_us\">-</td><td class=\"displayNone\" data-column-name=\"ttmepschg_us\">-</td><td class=\"displayNone\" data-column-name=\"epstrendgr_us\">-</td><td class=\"displayNone\" data-column-name=\"revchngyr_us\">-</td><td class=\"displayNone\" data-column-name=\"ttmrevchg_us\">-</td><td class=\"displayNone\" data-column-name=\"revtrendgr_us\">-</td><td class=\"displayNone\" data-column-name=\"csptrendgr_us\">-</td><td class=\"displayNone\" data-column-name=\"ttmastturn_us\">-</td><td class=\"displayNone\" data-column-name=\"ttminvturn_us\">-</td><td class=\"displayNone\" data-column-name=\"ttmrevpere_us\">-</td><td class=\"displayNone\" data-column-name=\"ttmniperem_us\">-</td><td class=\"displayNone\" data-column-name=\"ttmrecturn_us\">-</td><td class=\"displayNone\" data-column-name=\"a52_week_high\">131.64</td><td class=\"displayNone\" data-column-name=\"a52_week_low\">103.1</td><td class=\"displayNone\" data-column-name=\"a52_week_high_diff\">-18.03</td><td class=\"displayNone\" data-column-name=\"a52_week_low_diff\">4.66</td><td class=\"displayNone\" data-column-name=\"month_change\">-8.72%</td><td class=\"displayNone\" data-column-name=\"ttmgrosmgn_us\">-</td><td class=\"displayNone\" data-column-name=\"grosmgn5yr_us\">-</td><td class=\"displayNone\" data-column-name=\"ttmopmgn_us\">-</td><td class=\"displayNone\" data-column-name=\"opmgn5yr_us\">-</td><td class=\"displayNone\" data-column-name=\"ttmptmgn_us\">-</td><td class=\"displayNone\" data-column-name=\"ptmgn5yr_us\">-</td><td class=\"displayNone\" data-column-name=\"ttmnpmgn_us\">-</td><td class=\"displayNone\" data-column-name=\"margin5yr_us\">-</td><td class=\"displayNone\" data-column-name=\"qquickrati_us\">-</td><td class=\"displayNone\" data-column-name=\"qcurratio_us\">-</td><td class=\"displayNone\" data-column-name=\"qltd2eq_us\">-</td><td class=\"displayNone\" data-column-name=\"qtotd2eq_us\">-</td><td class=\"displayNone\" data-column-name=\"yld5yavg_us\">-</td><td class=\"displayNone\" data-column-name=\"divgrpct_us\">-</td><td class=\"displayNone\" data-column-name=\"ttmpayrat_us\">-</td><td class=\"displayNone\" data-column-name=\"ADX\">40.18</td><td class=\"displayNone\" data-column-name=\"ATR\">1.18</td><td class=\"displayNone\" data-column-name=\"BullBear\">1.26</td><td class=\"displayNone\" data-column-name=\"CCI\">87.00</td><td class=\"displayNone\" data-column-name=\"HL\">1.31</td><td class=\"displayNone\" data-column-name=\"ROC\">0.97</td><td class=\"displayNone\" data-column-name=\"RSI\">48.63</td><td class=\"displayNone\" data-column-name=\"STOCH\">78.13</td><td class=\"displayNone\" data-column-name=\"STOCHRSI\">84.17</td><td class=\"displayNone\" data-column-name=\"UO\">57.52</td><td class=\"displayNone\" data-column-name=\"WilliamsR\">-18.52</td> <td></td>\n",
      "</tr><tr>\n",
      "<td class=\"flag\"><span class=\"ceFlags USA\"></span></td>\n",
      "<td class=\"symbol left bold elp\" data-column-name=\"name_trans\"><a href=\"/equities/bank-of-america\" target=\"_blank\" title=\"Bank of America Corp\">Bank of America</a></td>\n",
      "<td class=\"left\" data-column-name=\"viewData.symbol\">BAC</td>\n",
      "<td class=\"left displayNone\" data-column-name=\"exchange_trans\">NYSE</td><td class=\"left displayNone\" data-column-name=\"sector_trans\">Financials</td><td class=\"left displayNone\" data-column-name=\"industry_trans\">Banking Services</td><td data-column-name=\"last\">35.47</td><td data-column-name=\"pair_change_percent\">-0.62%</td><td data-column-name=\"eq_market_cap\">279.41B</td><td data-column-name=\"turnover_volume\">39.79M</td><td class=\"displayNone\" data-column-name=\"eq_pe_ratio\">11.53</td><td class=\"displayNone\" data-column-name=\"MACD\">0.60</td><td class=\"displayNone\" data-column-name=\"eq_revenue\">94.19B</td><td class=\"displayNone\" data-column-name=\"avg_volume\">39.47M</td><td class=\"displayNone\" data-column-name=\"eq_eps\">3.10</td><td class=\"displayNone\" data-column-name=\"eq_beta\">1.40</td><td class=\"displayNone\" data-column-name=\"eq_dividend\">0.96</td><td class=\"displayNone\" data-column-name=\"eq_yield\">-</td><td class=\"left displayNone\" data-column-name=\"tech_sum_900\">Strong Sell</td><td class=\"left displayNone\" data-column-name=\"tech_sum_3600\">Strong Sell</td><td class=\"left displayNone\" data-column-name=\"tech_sum_86400\">Strong Buy</td><td class=\"left displayNone\" data-column-name=\"tech_sum_week\">Strong Buy</td><td class=\"left displayNone\" data-column-name=\"tech_sum_month\">Strong Buy</td><td class=\"displayNone\" data-column-name=\"daily\">-0.62</td><td class=\"displayNone\" data-column-name=\"week\">-0.37</td><td class=\"displayNone\" data-column-name=\"month\">4.05</td><td class=\"displayNone\" data-column-name=\"ytd\">5.35</td><td class=\"displayNone\" data-column-name=\"year\">27.50</td><td class=\"displayNone\" data-column-name=\"3year\">-6.53</td><td class=\"displayNone\" data-column-name=\"eq_one_year_return\">22.44</td><td class=\"displayNone\" data-column-name=\"yield_us\">2.69%</td><td class=\"displayNone\" data-column-name=\"peexclxor_us\">11.26</td><td class=\"displayNone\" data-column-name=\"ttmpr2rev_us\">2.97</td><td class=\"displayNone\" data-column-name=\"aprfcfps_us\">6.22</td><td class=\"displayNone\" data-column-name=\"ttmprfcfps_us\">0.00</td><td class=\"displayNone\" data-column-name=\"price2bk_us\">1.06</td><td class=\"displayNone\" data-column-name=\"pr2tanbk_us\">1.44</td><td class=\"displayNone\" data-column-name=\"epschngyr_us\">-58.39</td><td class=\"displayNone\" data-column-name=\"ttmepschg_us\">-3.40</td><td class=\"displayNone\" data-column-name=\"epstrendgr_us\">3.21</td><td class=\"displayNone\" data-column-name=\"revchngyr_us\">-11.03</td><td class=\"displayNone\" data-column-name=\"ttmrevchg_us\">1.93</td><td class=\"displayNone\" data-column-name=\"revtrendgr_us\">1.43</td><td class=\"displayNone\" data-column-name=\"csptrendgr_us\">0.00</td><td class=\"displayNone\" data-column-name=\"ttmastturn_us\">-</td><td class=\"displayNone\" data-column-name=\"ttminvturn_us\">-</td><td class=\"displayNone\" data-column-name=\"ttmrevpere_us\">442.19</td><td class=\"displayNone\" data-column-name=\"ttmniperem_us\">124.48</td><td class=\"displayNone\" data-column-name=\"ttmrecturn_us\">-</td><td class=\"displayNone\" data-column-name=\"a52_week_high\">36.44</td><td class=\"displayNone\" data-column-name=\"a52_week_low\">24.96</td><td class=\"displayNone\" data-column-name=\"a52_week_high_diff\">-2.66</td><td class=\"displayNone\" data-column-name=\"a52_week_low_diff\">42.11</td><td class=\"displayNone\" data-column-name=\"month_change\">1.5%</td><td class=\"displayNone\" data-column-name=\"ttmgrosmgn_us\">-</td><td class=\"displayNone\" data-column-name=\"grosmgn5yr_us\">0.00</td><td class=\"displayNone\" data-column-name=\"ttmopmgn_us\">30.09</td><td class=\"displayNone\" data-column-name=\"opmgn5yr_us\">34.07</td><td class=\"displayNone\" data-column-name=\"ttmptmgn_us\">30.09</td><td class=\"displayNone\" data-column-name=\"ptmgn5yr_us\">33.95</td><td class=\"displayNone\" data-column-name=\"ttmnpmgn_us\">28.15</td><td class=\"displayNone\" data-column-name=\"margin5yr_us\">30.35</td><td class=\"displayNone\" data-column-name=\"qquickrati_us\">0.31</td><td class=\"displayNone\" data-column-name=\"qcurratio_us\">-</td><td class=\"displayNone\" data-column-name=\"qltd2eq_us\">104.64</td><td class=\"displayNone\" data-column-name=\"qtotd2eq_us\">258.87</td><td class=\"displayNone\" data-column-name=\"yld5yavg_us\">2.71</td><td class=\"displayNone\" data-column-name=\"divgrpct_us\">9.09</td><td class=\"displayNone\" data-column-name=\"ttmpayrat_us\">34.27</td><td class=\"displayNone\" data-column-name=\"ADX\">37.23</td><td class=\"displayNone\" data-column-name=\"ATR\">0.67</td><td class=\"displayNone\" data-column-name=\"BullBear\">0.67</td><td class=\"displayNone\" data-column-name=\"CCI\">49.13</td><td class=\"displayNone\" data-column-name=\"HL\">0.00</td><td class=\"displayNone\" data-column-name=\"ROC\">5.47</td><td class=\"displayNone\" data-column-name=\"RSI\">60.77</td><td class=\"displayNone\" data-column-name=\"STOCH\">68.87</td><td class=\"displayNone\" data-column-name=\"STOCHRSI\">14.79</td><td class=\"displayNone\" data-column-name=\"UO\">48.01</td><td class=\"displayNone\" data-column-name=\"WilliamsR\">-36.38</td> <td></td>\n",
      "</tr><tr>\n",
      "<td class=\"flag\"><span class=\"ceFlags USA\"></span></td>\n",
      "<td class=\"symbol left bold elp\" data-column-name=\"name_trans\"><a href=\"/equities/bank-of-america-corp-pe-adr\" target=\"_blank\" title=\"Bank of America Corp Pe ADR\">Bank of America Corp Pe ADR</a></td>\n",
      "<td class=\"left\" data-column-name=\"viewData.symbol\">BAC_pe</td>\n",
      "<td class=\"left displayNone\" data-column-name=\"exchange_trans\">NYSE</td><td class=\"left displayNone\" data-column-name=\"sector_trans\">Financials</td><td class=\"left displayNone\" data-column-name=\"industry_trans\">Banking Services</td><td data-column-name=\"last\">23.25</td><td data-column-name=\"pair_change_percent\">-0.64%</td><td data-column-name=\"eq_market_cap\">279.41B</td><td data-column-name=\"turnover_volume\">10.68K</td><td class=\"displayNone\" data-column-name=\"eq_pe_ratio\">11.53</td><td class=\"displayNone\" data-column-name=\"MACD\">0.12</td><td class=\"displayNone\" data-column-name=\"eq_revenue\">94.19B</td><td class=\"displayNone\" data-column-name=\"avg_volume\">24.47K</td><td class=\"displayNone\" data-column-name=\"eq_eps\">3.10</td><td class=\"displayNone\" data-column-name=\"eq_beta\">1.40</td><td class=\"displayNone\" data-column-name=\"eq_dividend\">1.53</td><td class=\"displayNone\" data-column-name=\"eq_yield\">-</td><td class=\"left displayNone\" data-column-name=\"tech_sum_900\">Strong Sell</td><td class=\"left displayNone\" data-column-name=\"tech_sum_3600\">Strong Sell</td><td class=\"left displayNone\" data-column-name=\"tech_sum_86400\">Buy</td><td class=\"left displayNone\" data-column-name=\"tech_sum_week\">Strong Buy</td><td class=\"left displayNone\" data-column-name=\"tech_sum_month\">Strong Buy</td><td class=\"displayNone\" data-column-name=\"daily\">-0.64</td><td class=\"displayNone\" data-column-name=\"week\">-0.43</td><td class=\"displayNone\" data-column-name=\"month\">1.62</td><td class=\"displayNone\" data-column-name=\"ytd\">1.53</td><td class=\"displayNone\" data-column-name=\"year\">14.25</td><td class=\"displayNone\" data-column-name=\"3year\">-7.99</td><td class=\"displayNone\" data-column-name=\"eq_one_year_return\">10.98</td><td class=\"displayNone\" data-column-name=\"yield_us\">6.54%</td><td class=\"displayNone\" data-column-name=\"peexclxor_us\">11.36</td><td class=\"displayNone\" data-column-name=\"ttmpr2rev_us\">3.00</td><td class=\"displayNone\" data-column-name=\"aprfcfps_us\">6.28</td><td class=\"displayNone\" data-column-name=\"ttmprfcfps_us\">0.00</td><td class=\"displayNone\" data-column-name=\"price2bk_us\">1.07</td><td class=\"displayNone\" data-column-name=\"pr2tanbk_us\">1.47</td><td class=\"displayNone\" data-column-name=\"epschngyr_us\">-58.39</td><td class=\"displayNone\" data-column-name=\"ttmepschg_us\">-3.40</td><td class=\"displayNone\" data-column-name=\"epstrendgr_us\">3.21</td><td class=\"displayNone\" data-column-name=\"revchngyr_us\">-11.03</td><td class=\"displayNone\" data-column-name=\"ttmrevchg_us\">1.93</td><td class=\"displayNone\" data-column-name=\"revtrendgr_us\">1.43</td><td class=\"displayNone\" data-column-name=\"csptrendgr_us\">0.00</td><td class=\"displayNone\" data-column-name=\"ttmastturn_us\">-</td><td class=\"displayNone\" data-column-name=\"ttminvturn_us\">-</td><td class=\"displayNone\" data-column-name=\"ttmrevpere_us\">442.19</td><td class=\"displayNone\" data-column-name=\"ttmniperem_us\">124.48</td><td class=\"displayNone\" data-column-name=\"ttmrecturn_us\">-</td><td class=\"displayNone\" data-column-name=\"a52_week_high\">23.59</td><td class=\"displayNone\" data-column-name=\"a52_week_low\">19.52</td><td class=\"displayNone\" data-column-name=\"a52_week_high_diff\">-1.44</td><td class=\"displayNone\" data-column-name=\"a52_week_low_diff\">19.11</td><td class=\"displayNone\" data-column-name=\"month_change\">3.26%</td><td class=\"displayNone\" data-column-name=\"ttmgrosmgn_us\">-</td><td class=\"displayNone\" data-column-name=\"grosmgn5yr_us\">0.00</td><td class=\"displayNone\" data-column-name=\"ttmopmgn_us\">30.09</td><td class=\"displayNone\" data-column-name=\"opmgn5yr_us\">34.07</td><td class=\"displayNone\" data-column-name=\"ttmptmgn_us\">30.09</td><td class=\"displayNone\" data-column-name=\"ptmgn5yr_us\">33.95</td><td class=\"displayNone\" data-column-name=\"ttmnpmgn_us\">28.15</td><td class=\"displayNone\" data-column-name=\"margin5yr_us\">30.35</td><td class=\"displayNone\" data-column-name=\"qquickrati_us\">0.31</td><td class=\"displayNone\" data-column-name=\"qcurratio_us\">-</td><td class=\"displayNone\" data-column-name=\"qltd2eq_us\">104.64</td><td class=\"displayNone\" data-column-name=\"qtotd2eq_us\">258.87</td><td class=\"displayNone\" data-column-name=\"yld5yavg_us\">2.71</td><td class=\"displayNone\" data-column-name=\"divgrpct_us\">49.78</td><td class=\"displayNone\" data-column-name=\"ttmpayrat_us\">34.27</td><td class=\"displayNone\" data-column-name=\"ADX\">47.08</td><td class=\"displayNone\" data-column-name=\"ATR\">0.22</td><td class=\"displayNone\" data-column-name=\"BullBear\">0.09</td><td class=\"displayNone\" data-column-name=\"CCI\">24.55</td><td class=\"displayNone\" data-column-name=\"HL\">0.00</td><td class=\"displayNone\" data-column-name=\"ROC\">0.43</td><td class=\"displayNone\" data-column-name=\"RSI\">54.70</td><td class=\"displayNone\" data-column-name=\"STOCH\">66.52</td><td class=\"displayNone\" data-column-name=\"STOCHRSI\">24.24</td><td class=\"displayNone\" data-column-name=\"UO\">45.83</td><td class=\"displayNone\" data-column-name=\"WilliamsR\">-50.75</td> <td></td>\n",
      "</tr><tr>\n",
      "<td class=\"flag\"><span class=\"ceFlags USA\"></span></td>\n",
      "<td class=\"symbol left bold elp\" data-column-name=\"name_trans\"><a href=\"/equities/bank-of-america-corp-pl-pref\" target=\"_blank\" title=\"Bank of America Corp Pl Pref\">Bank of America Corp Pl Pref</a></td>\n",
      "<td class=\"left\" data-column-name=\"viewData.symbol\">BAC_pl</td>\n",
      "<td class=\"left displayNone\" data-column-name=\"exchange_trans\">NYSE</td><td class=\"left displayNone\" data-column-name=\"sector_trans\">Financials</td><td class=\"left displayNone\" data-column-name=\"industry_trans\">Banking Services</td><td data-column-name=\"last\">1195</td><td data-column-name=\"pair_change_percent\">-0.42%</td><td data-column-name=\"eq_market_cap\">279.41B</td><td data-column-name=\"turnover_volume\">4.87K</td><td class=\"displayNone\" data-column-name=\"eq_pe_ratio\">11.53</td><td class=\"displayNone\" data-column-name=\"MACD\">3.46</td><td class=\"displayNone\" data-column-name=\"eq_revenue\">94.19B</td><td class=\"displayNone\" data-column-name=\"avg_volume\">7.28K</td><td class=\"displayNone\" data-column-name=\"eq_eps\">3.10</td><td class=\"displayNone\" data-column-name=\"eq_beta\">1.40</td><td class=\"displayNone\" data-column-name=\"eq_dividend\">72.50</td><td class=\"displayNone\" data-column-name=\"eq_yield\">-</td><td class=\"left displayNone\" data-column-name=\"tech_sum_900\">Sell</td><td class=\"left displayNone\" data-column-name=\"tech_sum_3600\">Sell</td><td class=\"left displayNone\" data-column-name=\"tech_sum_86400\">Neutral</td><td class=\"left displayNone\" data-column-name=\"tech_sum_week\">Strong Buy</td><td class=\"left displayNone\" data-column-name=\"tech_sum_month\">Neutral</td><td class=\"displayNone\" data-column-name=\"daily\">-0.42</td><td class=\"displayNone\" data-column-name=\"week\">-0.96</td><td class=\"displayNone\" data-column-name=\"month\">0.59</td><td class=\"displayNone\" data-column-name=\"ytd\">-0.85</td><td class=\"displayNone\" data-column-name=\"year\">3.91</td><td class=\"displayNone\" data-column-name=\"3year\">-16.32</td><td class=\"displayNone\" data-column-name=\"eq_one_year_return\">2.93</td><td class=\"displayNone\" data-column-name=\"yield_us\">6.04%</td><td class=\"displayNone\" data-column-name=\"peexclxor_us\">-</td><td class=\"displayNone\" data-column-name=\"ttmpr2rev_us\">-</td><td class=\"displayNone\" data-column-name=\"aprfcfps_us\">-</td><td class=\"displayNone\" data-column-name=\"ttmprfcfps_us\">-</td><td class=\"displayNone\" data-column-name=\"price2bk_us\">-</td><td class=\"displayNone\" data-column-name=\"pr2tanbk_us\">-</td><td class=\"displayNone\" data-column-name=\"epschngyr_us\">-58.39</td><td class=\"displayNone\" data-column-name=\"ttmepschg_us\">-3.40</td><td class=\"displayNone\" data-column-name=\"epstrendgr_us\">-</td><td class=\"displayNone\" data-column-name=\"revchngyr_us\">-11.03</td><td class=\"displayNone\" data-column-name=\"ttmrevchg_us\">1.93</td><td class=\"displayNone\" data-column-name=\"revtrendgr_us\">-</td><td class=\"displayNone\" data-column-name=\"csptrendgr_us\">-</td><td class=\"displayNone\" data-column-name=\"ttmastturn_us\">-</td><td class=\"displayNone\" data-column-name=\"ttminvturn_us\">-</td><td class=\"displayNone\" data-column-name=\"ttmrevpere_us\">-</td><td class=\"displayNone\" data-column-name=\"ttmniperem_us\">-</td><td class=\"displayNone\" data-column-name=\"ttmrecturn_us\">-</td><td class=\"displayNone\" data-column-name=\"a52_week_high\">1240</td><td class=\"displayNone\" data-column-name=\"a52_week_low\">1041.2</td><td class=\"displayNone\" data-column-name=\"a52_week_high_diff\">-3.63</td><td class=\"displayNone\" data-column-name=\"a52_week_low_diff\">14.77</td><td class=\"displayNone\" data-column-name=\"month_change\">-2.78%</td><td class=\"displayNone\" data-column-name=\"ttmgrosmgn_us\">-</td><td class=\"displayNone\" data-column-name=\"grosmgn5yr_us\">-</td><td class=\"displayNone\" data-column-name=\"ttmopmgn_us\">-</td><td class=\"displayNone\" data-column-name=\"opmgn5yr_us\">-</td><td class=\"displayNone\" data-column-name=\"ttmptmgn_us\">-</td><td class=\"displayNone\" data-column-name=\"ptmgn5yr_us\">-</td><td class=\"displayNone\" data-column-name=\"ttmnpmgn_us\">-</td><td class=\"displayNone\" data-column-name=\"margin5yr_us\">-</td><td class=\"displayNone\" data-column-name=\"qquickrati_us\">-</td><td class=\"displayNone\" data-column-name=\"qcurratio_us\">-</td><td class=\"displayNone\" data-column-name=\"qltd2eq_us\">-</td><td class=\"displayNone\" data-column-name=\"qtotd2eq_us\">-</td><td class=\"displayNone\" data-column-name=\"yld5yavg_us\">-</td><td class=\"displayNone\" data-column-name=\"divgrpct_us\">-</td><td class=\"displayNone\" data-column-name=\"ttmpayrat_us\">34.27</td><td class=\"displayNone\" data-column-name=\"ADX\">23.42</td><td class=\"displayNone\" data-column-name=\"ATR\">9.51</td><td class=\"displayNone\" data-column-name=\"BullBear\">-0.18</td><td class=\"displayNone\" data-column-name=\"CCI\">18.62</td><td class=\"displayNone\" data-column-name=\"HL\">0.00</td><td class=\"displayNone\" data-column-name=\"ROC\">0.69</td><td class=\"displayNone\" data-column-name=\"RSI\">51.18</td><td class=\"displayNone\" data-column-name=\"STOCH\">70.73</td><td class=\"displayNone\" data-column-name=\"STOCHRSI\">35.88</td><td class=\"displayNone\" data-column-name=\"UO\">44.27</td><td class=\"displayNone\" data-column-name=\"WilliamsR\">-52.57</td> <td></td>\n",
      "</tr><tr>\n",
      "<td class=\"flag\"><span class=\"ceFlags USA\"></span></td>\n",
      "<td class=\"symbol left bold elp\" data-column-name=\"name_trans\"><a href=\"/equities/bank-of-america-corp-pg-adr\" target=\"_blank\" title=\"Bank of America Corp Pg ADR\">Bank of America Corp Pg ADR</a></td>\n",
      "<td class=\"left\" data-column-name=\"viewData.symbol\">BML_pg</td>\n",
      "<td class=\"left displayNone\" data-column-name=\"exchange_trans\">NYSE</td><td class=\"left displayNone\" data-column-name=\"sector_trans\">Financials</td><td class=\"left displayNone\" data-column-name=\"industry_trans\">Banking Services</td><td data-column-name=\"last\">22.04</td><td data-column-name=\"pair_change_percent\">0.41%</td><td data-column-name=\"eq_market_cap\">279.41B</td><td data-column-name=\"turnover_volume\">10.32K</td><td class=\"displayNone\" data-column-name=\"eq_pe_ratio\">11.53</td><td class=\"displayNone\" data-column-name=\"MACD\">0.17</td><td class=\"displayNone\" data-column-name=\"eq_revenue\">94.19B</td><td class=\"displayNone\" data-column-name=\"avg_volume\">9.23K</td><td class=\"displayNone\" data-column-name=\"eq_eps\">3.10</td><td class=\"displayNone\" data-column-name=\"eq_beta\">1.40</td><td class=\"displayNone\" data-column-name=\"eq_dividend\">1.60</td><td class=\"displayNone\" data-column-name=\"eq_yield\">-</td><td class=\"left displayNone\" data-column-name=\"tech_sum_900\">Strong Buy</td><td class=\"left displayNone\" data-column-name=\"tech_sum_3600\">Strong Buy</td><td class=\"left displayNone\" data-column-name=\"tech_sum_86400\">Strong Buy</td><td class=\"left displayNone\" data-column-name=\"tech_sum_week\">Strong Buy</td><td class=\"left displayNone\" data-column-name=\"tech_sum_month\">Strong Buy</td><td class=\"displayNone\" data-column-name=\"daily\">0.41</td><td class=\"displayNone\" data-column-name=\"week\">1.03</td><td class=\"displayNone\" data-column-name=\"month\">3.77</td><td class=\"displayNone\" data-column-name=\"ytd\">6.68</td><td class=\"displayNone\" data-column-name=\"year\">10.87</td><td class=\"displayNone\" data-column-name=\"3year\">0.18</td><td class=\"displayNone\" data-column-name=\"eq_one_year_return\">10.13</td><td class=\"displayNone\" data-column-name=\"yield_us\">7.29%</td><td class=\"displayNone\" data-column-name=\"peexclxor_us\">11.34</td><td class=\"displayNone\" data-column-name=\"ttmpr2rev_us\">2.99</td><td class=\"displayNone\" data-column-name=\"aprfcfps_us\">6.27</td><td class=\"displayNone\" data-column-name=\"ttmprfcfps_us\">0.00</td><td class=\"displayNone\" data-column-name=\"price2bk_us\">1.07</td><td class=\"displayNone\" data-column-name=\"pr2tanbk_us\">1.46</td><td class=\"displayNone\" data-column-name=\"epschngyr_us\">-58.39</td><td class=\"displayNone\" data-column-name=\"ttmepschg_us\">-3.40</td><td class=\"displayNone\" data-column-name=\"epstrendgr_us\">3.21</td><td class=\"displayNone\" data-column-name=\"revchngyr_us\">-11.03</td><td class=\"displayNone\" data-column-name=\"ttmrevchg_us\">1.93</td><td class=\"displayNone\" data-column-name=\"revtrendgr_us\">1.43</td><td class=\"displayNone\" data-column-name=\"csptrendgr_us\">0.00</td><td class=\"displayNone\" data-column-name=\"ttmastturn_us\">-</td><td class=\"displayNone\" data-column-name=\"ttminvturn_us\">-</td><td class=\"displayNone\" data-column-name=\"ttmrevpere_us\">442.19</td><td class=\"displayNone\" data-column-name=\"ttmniperem_us\">124.48</td><td class=\"displayNone\" data-column-name=\"ttmrecturn_us\">-</td><td class=\"displayNone\" data-column-name=\"a52_week_high\">22.09</td><td class=\"displayNone\" data-column-name=\"a52_week_low\">19.3</td><td class=\"displayNone\" data-column-name=\"a52_week_high_diff\">-0.23</td><td class=\"displayNone\" data-column-name=\"a52_week_low_diff\">14.20</td><td class=\"displayNone\" data-column-name=\"month_change\">-0.23%</td><td class=\"displayNone\" data-column-name=\"ttmgrosmgn_us\">-</td><td class=\"displayNone\" data-column-name=\"grosmgn5yr_us\">0.00</td><td class=\"displayNone\" data-column-name=\"ttmopmgn_us\">30.09</td><td class=\"displayNone\" data-column-name=\"opmgn5yr_us\">34.07</td><td class=\"displayNone\" data-column-name=\"ttmptmgn_us\">30.09</td><td class=\"displayNone\" data-column-name=\"ptmgn5yr_us\">33.95</td><td class=\"displayNone\" data-column-name=\"ttmnpmgn_us\">28.15</td><td class=\"displayNone\" data-column-name=\"margin5yr_us\">30.35</td><td class=\"displayNone\" data-column-name=\"qquickrati_us\">0.31</td><td class=\"displayNone\" data-column-name=\"qcurratio_us\">-</td><td class=\"displayNone\" data-column-name=\"qltd2eq_us\">104.64</td><td class=\"displayNone\" data-column-name=\"qtotd2eq_us\">258.87</td><td class=\"displayNone\" data-column-name=\"yld5yavg_us\">2.71</td><td class=\"displayNone\" data-column-name=\"divgrpct_us\">68.66</td><td class=\"displayNone\" data-column-name=\"ttmpayrat_us\">34.27</td><td class=\"displayNone\" data-column-name=\"ADX\">29.73</td><td class=\"displayNone\" data-column-name=\"ATR\">0.22</td><td class=\"displayNone\" data-column-name=\"BullBear\">0.29</td><td class=\"displayNone\" data-column-name=\"CCI\">103.37</td><td class=\"displayNone\" data-column-name=\"HL\">0.30</td><td class=\"displayNone\" data-column-name=\"ROC\">3.14</td><td class=\"displayNone\" data-column-name=\"RSI\">65.79</td><td class=\"displayNone\" data-column-name=\"STOCH\">79.60</td><td class=\"displayNone\" data-column-name=\"STOCHRSI\">84.09</td><td class=\"displayNone\" data-column-name=\"UO\">74.56</td><td class=\"displayNone\" data-column-name=\"WilliamsR\">-6.45</td> <td></td>\n",
      "</tr><tr>\n",
      "<td class=\"flag\"><span class=\"ceFlags USA\"></span></td>\n",
      "<td class=\"symbol left bold elp\" data-column-name=\"name_trans\"><a href=\"/equities/bank-of-america-corp-ph-adr\" target=\"_blank\" title=\"Bank of America Corp Ph ADR\">Bank of America Corp Ph ADR</a></td>\n",
      "<td class=\"left\" data-column-name=\"viewData.symbol\">BML_ph</td>\n",
      "<td class=\"left displayNone\" data-column-name=\"exchange_trans\">NYSE</td><td class=\"left displayNone\" data-column-name=\"sector_trans\">Financials</td><td class=\"left displayNone\" data-column-name=\"industry_trans\">Banking Services</td><td data-column-name=\"last\">21.7</td><td data-column-name=\"pair_change_percent\">0%</td><td data-column-name=\"eq_market_cap\">279.41B</td><td data-column-name=\"turnover_volume\">24.05K</td><td class=\"displayNone\" data-column-name=\"eq_pe_ratio\">11.53</td><td class=\"displayNone\" data-column-name=\"MACD\">0.21</td><td class=\"displayNone\" data-column-name=\"eq_revenue\">94.19B</td><td class=\"displayNone\" data-column-name=\"avg_volume\">43.85K</td><td class=\"displayNone\" data-column-name=\"eq_eps\">3.10</td><td class=\"displayNone\" data-column-name=\"eq_beta\">1.40</td><td class=\"displayNone\" data-column-name=\"eq_dividend\">1.61</td><td class=\"displayNone\" data-column-name=\"eq_yield\">-</td><td class=\"left displayNone\" data-column-name=\"tech_sum_900\">Strong Buy</td><td class=\"left displayNone\" data-column-name=\"tech_sum_3600\">Strong Buy</td><td class=\"left displayNone\" data-column-name=\"tech_sum_86400\">Strong Buy</td><td class=\"left displayNone\" data-column-name=\"tech_sum_week\">Strong Buy</td><td class=\"left displayNone\" data-column-name=\"tech_sum_month\">Strong Buy</td><td class=\"displayNone\" data-column-name=\"daily\">0.00</td><td class=\"displayNone\" data-column-name=\"week\">1.07</td><td class=\"displayNone\" data-column-name=\"month\">3.83</td><td class=\"displayNone\" data-column-name=\"ytd\">6.74</td><td class=\"displayNone\" data-column-name=\"year\">10.21</td><td class=\"displayNone\" data-column-name=\"3year\">-0.78</td><td class=\"displayNone\" data-column-name=\"eq_one_year_return\">10.21</td><td class=\"displayNone\" data-column-name=\"yield_us\">7.42%</td><td class=\"displayNone\" data-column-name=\"peexclxor_us\">11.26</td><td class=\"displayNone\" data-column-name=\"ttmpr2rev_us\">2.97</td><td class=\"displayNone\" data-column-name=\"aprfcfps_us\">6.22</td><td class=\"displayNone\" data-column-name=\"ttmprfcfps_us\">0.00</td><td class=\"displayNone\" data-column-name=\"price2bk_us\">1.06</td><td class=\"displayNone\" data-column-name=\"pr2tanbk_us\">1.45</td><td class=\"displayNone\" data-column-name=\"epschngyr_us\">-58.39</td><td class=\"displayNone\" data-column-name=\"ttmepschg_us\">-3.40</td><td class=\"displayNone\" data-column-name=\"epstrendgr_us\">3.21</td><td class=\"displayNone\" data-column-name=\"revchngyr_us\">-11.03</td><td class=\"displayNone\" data-column-name=\"ttmrevchg_us\">1.93</td><td class=\"displayNone\" data-column-name=\"revtrendgr_us\">1.43</td><td class=\"displayNone\" data-column-name=\"csptrendgr_us\">0.00</td><td class=\"displayNone\" data-column-name=\"ttmastturn_us\">-</td><td class=\"displayNone\" data-column-name=\"ttminvturn_us\">-</td><td class=\"displayNone\" data-column-name=\"ttmrevpere_us\">442.19</td><td class=\"displayNone\" data-column-name=\"ttmniperem_us\">124.48</td><td class=\"displayNone\" data-column-name=\"ttmrecturn_us\">-</td><td class=\"displayNone\" data-column-name=\"a52_week_high\">21.77</td><td class=\"displayNone\" data-column-name=\"a52_week_low\">18.95</td><td class=\"displayNone\" data-column-name=\"a52_week_high_diff\">-0.32</td><td class=\"displayNone\" data-column-name=\"a52_week_low_diff\">14.51</td><td class=\"displayNone\" data-column-name=\"month_change\">0.91%</td><td class=\"displayNone\" data-column-name=\"ttmgrosmgn_us\">-</td><td class=\"displayNone\" data-column-name=\"grosmgn5yr_us\">0.00</td><td class=\"displayNone\" data-column-name=\"ttmopmgn_us\">30.09</td><td class=\"displayNone\" data-column-name=\"opmgn5yr_us\">34.07</td><td class=\"displayNone\" data-column-name=\"ttmptmgn_us\">30.09</td><td class=\"displayNone\" data-column-name=\"ptmgn5yr_us\">33.95</td><td class=\"displayNone\" data-column-name=\"ttmnpmgn_us\">28.15</td><td class=\"displayNone\" data-column-name=\"margin5yr_us\">30.35</td><td class=\"displayNone\" data-column-name=\"qquickrati_us\">0.31</td><td class=\"displayNone\" data-column-name=\"qcurratio_us\">-</td><td class=\"displayNone\" data-column-name=\"qltd2eq_us\">104.64</td><td class=\"displayNone\" data-column-name=\"qtotd2eq_us\">258.87</td><td class=\"displayNone\" data-column-name=\"yld5yavg_us\">2.71</td><td class=\"displayNone\" data-column-name=\"divgrpct_us\">70.53</td><td class=\"displayNone\" data-column-name=\"ttmpayrat_us\">34.27</td><td class=\"displayNone\" data-column-name=\"ADX\">65.53</td><td class=\"displayNone\" data-column-name=\"ATR\">0.21</td><td class=\"displayNone\" data-column-name=\"BullBear\">0.39</td><td class=\"displayNone\" data-column-name=\"CCI\">112.62</td><td class=\"displayNone\" data-column-name=\"HL\">0.24</td><td class=\"displayNone\" data-column-name=\"ROC\">3.29</td><td class=\"displayNone\" data-column-name=\"RSI\">71.38</td><td class=\"displayNone\" data-column-name=\"STOCH\">79.25</td><td class=\"displayNone\" data-column-name=\"STOCHRSI\">76.59</td><td class=\"displayNone\" data-column-name=\"UO\">64.99</td><td class=\"displayNone\" data-column-name=\"WilliamsR\">-10.71</td> <td></td>\n",
      "</tr><tr>\n",
      "<td class=\"flag\"><span class=\"ceFlags USA\"></span></td>\n",
      "<td class=\"symbol left bold elp\" data-column-name=\"name_trans\"><a href=\"/equities/bank-of-america-corp-pj-adr\" target=\"_blank\" title=\"Bank of America Corp Pj ADR\">Bank of America Corp Pj ADR</a></td>\n",
      "<td class=\"left\" data-column-name=\"viewData.symbol\">BML_pj</td>\n",
      "<td class=\"left displayNone\" data-column-name=\"exchange_trans\">NYSE</td><td class=\"left displayNone\" data-column-name=\"sector_trans\">Financials</td><td class=\"left displayNone\" data-column-name=\"industry_trans\">Banking Services</td><td data-column-name=\"last\">22.45</td><td data-column-name=\"pair_change_percent\">-0.22%</td><td data-column-name=\"eq_market_cap\">279.41B</td><td data-column-name=\"turnover_volume\">14.14K</td><td class=\"displayNone\" data-column-name=\"eq_pe_ratio\">11.53</td><td class=\"displayNone\" data-column-name=\"MACD\">0.07</td><td class=\"displayNone\" data-column-name=\"eq_revenue\">94.19B</td><td class=\"displayNone\" data-column-name=\"avg_volume\">31.97K</td><td class=\"displayNone\" data-column-name=\"eq_eps\">3.10</td><td class=\"displayNone\" data-column-name=\"eq_beta\">1.40</td><td class=\"displayNone\" data-column-name=\"eq_dividend\">1.64</td><td class=\"displayNone\" data-column-name=\"eq_yield\">-</td><td class=\"left displayNone\" data-column-name=\"tech_sum_900\">Neutral</td><td class=\"left displayNone\" data-column-name=\"tech_sum_3600\">Neutral</td><td class=\"left displayNone\" data-column-name=\"tech_sum_86400\">Strong Buy</td><td class=\"left displayNone\" data-column-name=\"tech_sum_week\">Strong Buy</td><td class=\"left displayNone\" data-column-name=\"tech_sum_month\">Strong Buy</td><td class=\"displayNone\" data-column-name=\"daily\">-0.22</td><td class=\"displayNone\" data-column-name=\"week\">-0.04</td><td class=\"displayNone\" data-column-name=\"month\">1.68</td><td class=\"displayNone\" data-column-name=\"ytd\">1.81</td><td class=\"displayNone\" data-column-name=\"year\">9.19</td><td class=\"displayNone\" data-column-name=\"3year\">-10.82</td><td class=\"displayNone\" data-column-name=\"eq_one_year_return\">7.67</td><td class=\"displayNone\" data-column-name=\"yield_us\">7.27%</td><td class=\"displayNone\" data-column-name=\"peexclxor_us\">-</td><td class=\"displayNone\" data-column-name=\"ttmpr2rev_us\">-</td><td class=\"displayNone\" data-column-name=\"aprfcfps_us\">-</td><td class=\"displayNone\" data-column-name=\"ttmprfcfps_us\">-</td><td class=\"displayNone\" data-column-name=\"price2bk_us\">-</td><td class=\"displayNone\" data-column-name=\"pr2tanbk_us\">-</td><td class=\"displayNone\" data-column-name=\"epschngyr_us\">-58.39</td><td class=\"displayNone\" data-column-name=\"ttmepschg_us\">-3.40</td><td class=\"displayNone\" data-column-name=\"epstrendgr_us\">-</td><td class=\"displayNone\" data-column-name=\"revchngyr_us\">-11.03</td><td class=\"displayNone\" data-column-name=\"ttmrevchg_us\">1.93</td><td class=\"displayNone\" data-column-name=\"revtrendgr_us\">-</td><td class=\"displayNone\" data-column-name=\"csptrendgr_us\">-</td><td class=\"displayNone\" data-column-name=\"ttmastturn_us\">-</td><td class=\"displayNone\" data-column-name=\"ttminvturn_us\">-</td><td class=\"displayNone\" data-column-name=\"ttmrevpere_us\">-</td><td class=\"displayNone\" data-column-name=\"ttmniperem_us\">-</td><td class=\"displayNone\" data-column-name=\"ttmrecturn_us\">-</td><td class=\"displayNone\" data-column-name=\"a52_week_high\">22.84</td><td class=\"displayNone\" data-column-name=\"a52_week_low\">19.5</td><td class=\"displayNone\" data-column-name=\"a52_week_high_diff\">-1.71</td><td class=\"displayNone\" data-column-name=\"a52_week_low_diff\">15.13</td><td class=\"displayNone\" data-column-name=\"month_change\">1.9%</td><td class=\"displayNone\" data-column-name=\"ttmgrosmgn_us\">-</td><td class=\"displayNone\" data-column-name=\"grosmgn5yr_us\">-</td><td class=\"displayNone\" data-column-name=\"ttmopmgn_us\">-</td><td class=\"displayNone\" data-column-name=\"opmgn5yr_us\">-</td><td class=\"displayNone\" data-column-name=\"ttmptmgn_us\">-</td><td class=\"displayNone\" data-column-name=\"ptmgn5yr_us\">-</td><td class=\"displayNone\" data-column-name=\"ttmnpmgn_us\">-</td><td class=\"displayNone\" data-column-name=\"margin5yr_us\">-</td><td class=\"displayNone\" data-column-name=\"qquickrati_us\">-</td><td class=\"displayNone\" data-column-name=\"qcurratio_us\">-</td><td class=\"displayNone\" data-column-name=\"qltd2eq_us\">-</td><td class=\"displayNone\" data-column-name=\"qtotd2eq_us\">-</td><td class=\"displayNone\" data-column-name=\"yld5yavg_us\">-</td><td class=\"displayNone\" data-column-name=\"divgrpct_us\">-</td><td class=\"displayNone\" data-column-name=\"ttmpayrat_us\">34.27</td><td class=\"displayNone\" data-column-name=\"ADX\">32.38</td><td class=\"displayNone\" data-column-name=\"ATR\">0.20</td><td class=\"displayNone\" data-column-name=\"BullBear\">0.14</td><td class=\"displayNone\" data-column-name=\"CCI\">86.37</td><td class=\"displayNone\" data-column-name=\"HL\">0.00</td><td class=\"displayNone\" data-column-name=\"ROC\">1.13</td><td class=\"displayNone\" data-column-name=\"RSI\">56.85</td><td class=\"displayNone\" data-column-name=\"STOCH\">70.69</td><td class=\"displayNone\" data-column-name=\"STOCHRSI\">52.13</td><td class=\"displayNone\" data-column-name=\"UO\">50.26</td><td class=\"displayNone\" data-column-name=\"WilliamsR\">-26.58</td> <td></td>\n",
      "</tr><tr>\n",
      "<td class=\"flag\"><span class=\"ceFlags USA\"></span></td>\n",
      "<td class=\"symbol left bold elp\" data-column-name=\"name_trans\"><a href=\"/equities/bank-of-america-corp-pl-adr\" target=\"_blank\" title=\"Bank of America Corp Pl ADR\">Bank of America Corp Pl ADR</a></td>\n",
      "<td class=\"left\" data-column-name=\"viewData.symbol\">BML_pl</td>\n",
      "<td class=\"left displayNone\" data-column-name=\"exchange_trans\">NYSE</td><td class=\"left displayNone\" data-column-name=\"sector_trans\">Financials</td><td class=\"left displayNone\" data-column-name=\"industry_trans\">Banking Services</td><td data-column-name=\"last\">22.19</td><td data-column-name=\"pair_change_percent\">0.23%</td><td data-column-name=\"eq_market_cap\">279.41B</td><td data-column-name=\"turnover_volume\">5.19K</td><td class=\"displayNone\" data-column-name=\"eq_pe_ratio\">11.53</td><td class=\"displayNone\" data-column-name=\"MACD\">0.05</td><td class=\"displayNone\" data-column-name=\"eq_revenue\">94.19B</td><td class=\"displayNone\" data-column-name=\"avg_volume\">18.02K</td><td class=\"displayNone\" data-column-name=\"eq_eps\">3.10</td><td class=\"displayNone\" data-column-name=\"eq_beta\">1.40</td><td class=\"displayNone\" data-column-name=\"eq_dividend\">1.57</td><td class=\"displayNone\" data-column-name=\"eq_yield\">-</td><td class=\"left displayNone\" data-column-name=\"tech_sum_900\">Strong Buy</td><td class=\"left displayNone\" data-column-name=\"tech_sum_3600\">Strong Buy</td><td class=\"left displayNone\" data-column-name=\"tech_sum_86400\">Strong Buy</td><td class=\"left displayNone\" data-column-name=\"tech_sum_week\">Strong Buy</td><td class=\"left displayNone\" data-column-name=\"tech_sum_month\">Strong Buy</td><td class=\"displayNone\" data-column-name=\"daily\">0.23</td><td class=\"displayNone\" data-column-name=\"week\">-0.04</td><td class=\"displayNone\" data-column-name=\"month\">1.74</td><td class=\"displayNone\" data-column-name=\"ytd\">2.97</td><td class=\"displayNone\" data-column-name=\"year\">12.33</td><td class=\"displayNone\" data-column-name=\"3year\">-10.92</td><td class=\"displayNone\" data-column-name=\"eq_one_year_return\">10.88</td><td class=\"displayNone\" data-column-name=\"yield_us\">7.07%</td><td class=\"displayNone\" data-column-name=\"peexclxor_us\">11.26</td><td class=\"displayNone\" data-column-name=\"ttmpr2rev_us\">2.97</td><td class=\"displayNone\" data-column-name=\"aprfcfps_us\">6.22</td><td class=\"displayNone\" data-column-name=\"ttmprfcfps_us\">0.00</td><td class=\"displayNone\" data-column-name=\"price2bk_us\">1.06</td><td class=\"displayNone\" data-column-name=\"pr2tanbk_us\">1.45</td><td class=\"displayNone\" data-column-name=\"epschngyr_us\">-58.39</td><td class=\"displayNone\" data-column-name=\"ttmepschg_us\">-3.40</td><td class=\"displayNone\" data-column-name=\"epstrendgr_us\">3.21</td><td class=\"displayNone\" data-column-name=\"revchngyr_us\">-11.03</td><td class=\"displayNone\" data-column-name=\"ttmrevchg_us\">1.93</td><td class=\"displayNone\" data-column-name=\"revtrendgr_us\">1.43</td><td class=\"displayNone\" data-column-name=\"csptrendgr_us\">0.00</td><td class=\"displayNone\" data-column-name=\"ttmastturn_us\">-</td><td class=\"displayNone\" data-column-name=\"ttminvturn_us\">-</td><td class=\"displayNone\" data-column-name=\"ttmrevpere_us\">442.19</td><td class=\"displayNone\" data-column-name=\"ttmniperem_us\">124.48</td><td class=\"displayNone\" data-column-name=\"ttmrecturn_us\">-</td><td class=\"displayNone\" data-column-name=\"a52_week_high\">22.45</td><td class=\"displayNone\" data-column-name=\"a52_week_low\">19.22</td><td class=\"displayNone\" data-column-name=\"a52_week_high_diff\">-1.16</td><td class=\"displayNone\" data-column-name=\"a52_week_low_diff\">15.45</td><td class=\"displayNone\" data-column-name=\"month_change\">1.56%</td><td class=\"displayNone\" data-column-name=\"ttmgrosmgn_us\">-</td><td class=\"displayNone\" data-column-name=\"grosmgn5yr_us\">0.00</td><td class=\"displayNone\" data-column-name=\"ttmopmgn_us\">30.09</td><td class=\"displayNone\" data-column-name=\"opmgn5yr_us\">34.07</td><td class=\"displayNone\" data-column-name=\"ttmptmgn_us\">30.09</td><td class=\"displayNone\" data-column-name=\"ptmgn5yr_us\">33.95</td><td class=\"displayNone\" data-column-name=\"ttmnpmgn_us\">28.15</td><td class=\"displayNone\" data-column-name=\"margin5yr_us\">30.35</td><td class=\"displayNone\" data-column-name=\"qquickrati_us\">0.31</td><td class=\"displayNone\" data-column-name=\"qcurratio_us\">-</td><td class=\"displayNone\" data-column-name=\"qltd2eq_us\">104.64</td><td class=\"displayNone\" data-column-name=\"qtotd2eq_us\">258.87</td><td class=\"displayNone\" data-column-name=\"yld5yavg_us\">2.71</td><td class=\"displayNone\" data-column-name=\"divgrpct_us\">53.22</td><td class=\"displayNone\" data-column-name=\"ttmpayrat_us\">34.27</td><td class=\"displayNone\" data-column-name=\"ADX\">29.37</td><td class=\"displayNone\" data-column-name=\"ATR\">0.17</td><td class=\"displayNone\" data-column-name=\"BullBear\">0.03</td><td class=\"displayNone\" data-column-name=\"CCI\">66.00</td><td class=\"displayNone\" data-column-name=\"HL\">0.05</td><td class=\"displayNone\" data-column-name=\"ROC\">0.45</td><td class=\"displayNone\" data-column-name=\"RSI\">56.27</td><td class=\"displayNone\" data-column-name=\"STOCH\">76.10</td><td class=\"displayNone\" data-column-name=\"STOCHRSI\">76.29</td><td class=\"displayNone\" data-column-name=\"UO\">61.89</td><td class=\"displayNone\" data-column-name=\"WilliamsR\">-24.44</td> <td></td>\n",
      "</tr><tr>\n",
      "<td class=\"flag\"><span class=\"ceFlags USA\"></span></td>\n",
      "<td class=\"symbol left bold elp\" data-column-name=\"name_trans\"><a href=\"/equities/merrill-lynch-preferred-cap-i-pref\" target=\"_blank\" title=\"Bank of America Income Notes Due 15 December 2066\">Bank of America 15 December 2066</a></td>\n",
      "<td class=\"left\" data-column-name=\"viewData.symbol\">MER_pk</td>\n",
      "<td class=\"left displayNone\" data-column-name=\"exchange_trans\">NYSE</td><td class=\"left displayNone\" data-column-name=\"sector_trans\">Financials</td><td class=\"left displayNone\" data-column-name=\"industry_trans\">Banking Services</td><td data-column-name=\"last\">25.35</td><td data-column-name=\"pair_change_percent\">-0.02%</td><td data-column-name=\"eq_market_cap\">279.41B</td><td data-column-name=\"turnover_volume\">44.80K</td><td class=\"displayNone\" data-column-name=\"eq_pe_ratio\">8.18</td><td class=\"displayNone\" data-column-name=\"MACD\">-0.03</td><td class=\"displayNone\" data-column-name=\"eq_revenue\">94.19B</td><td class=\"displayNone\" data-column-name=\"avg_volume\">37.32K</td><td class=\"displayNone\" data-column-name=\"eq_eps\">3.10</td><td class=\"displayNone\" data-column-name=\"eq_beta\">1.40</td><td class=\"displayNone\" data-column-name=\"eq_dividend\">1.61</td><td class=\"displayNone\" data-column-name=\"eq_yield\">-</td><td class=\"left displayNone\" data-column-name=\"tech_sum_900\">Strong Sell</td><td class=\"left displayNone\" data-column-name=\"tech_sum_3600\">Strong Sell</td><td class=\"left displayNone\" data-column-name=\"tech_sum_86400\">Strong Sell</td><td class=\"left displayNone\" data-column-name=\"tech_sum_week\">Sell</td><td class=\"left displayNone\" data-column-name=\"tech_sum_month\">Neutral</td><td class=\"displayNone\" data-column-name=\"daily\">-0.02</td><td class=\"displayNone\" data-column-name=\"week\">-1.29</td><td class=\"displayNone\" data-column-name=\"month\">-1.18</td><td class=\"displayNone\" data-column-name=\"ytd\">0.20</td><td class=\"displayNone\" data-column-name=\"year\">1.28</td><td class=\"displayNone\" data-column-name=\"3year\">-5.90</td><td class=\"displayNone\" data-column-name=\"eq_one_year_return\">1.36</td><td class=\"displayNone\" data-column-name=\"yield_us\">-</td><td class=\"displayNone\" data-column-name=\"peexclxor_us\">11.35</td><td class=\"displayNone\" data-column-name=\"ttmpr2rev_us\">3.00</td><td class=\"displayNone\" data-column-name=\"aprfcfps_us\">6.27</td><td class=\"displayNone\" data-column-name=\"ttmprfcfps_us\">0.00</td><td class=\"displayNone\" data-column-name=\"price2bk_us\">1.07</td><td class=\"displayNone\" data-column-name=\"pr2tanbk_us\">-</td><td class=\"displayNone\" data-column-name=\"epschngyr_us\">-58.39</td><td class=\"displayNone\" data-column-name=\"ttmepschg_us\">-3.40</td><td class=\"displayNone\" data-column-name=\"epstrendgr_us\">3.21</td><td class=\"displayNone\" data-column-name=\"revchngyr_us\">-11.03</td><td class=\"displayNone\" data-column-name=\"ttmrevchg_us\">1.93</td><td class=\"displayNone\" data-column-name=\"revtrendgr_us\">1.43</td><td class=\"displayNone\" data-column-name=\"csptrendgr_us\">0.00</td><td class=\"displayNone\" data-column-name=\"ttmastturn_us\">-</td><td class=\"displayNone\" data-column-name=\"ttminvturn_us\">-</td><td class=\"displayNone\" data-column-name=\"ttmrevpere_us\">442.19</td><td class=\"displayNone\" data-column-name=\"ttmniperem_us\">124.48</td><td class=\"displayNone\" data-column-name=\"ttmrecturn_us\">-</td><td class=\"displayNone\" data-column-name=\"a52_week_high\">25.89</td><td class=\"displayNone\" data-column-name=\"a52_week_low\">24.51</td><td class=\"displayNone\" data-column-name=\"a52_week_high_diff\">-2.09</td><td class=\"displayNone\" data-column-name=\"a52_week_low_diff\">3.43</td><td class=\"displayNone\" data-column-name=\"month_change\">-0.93%</td><td class=\"displayNone\" data-column-name=\"ttmgrosmgn_us\">-</td><td class=\"displayNone\" data-column-name=\"grosmgn5yr_us\">0.00</td><td class=\"displayNone\" data-column-name=\"ttmopmgn_us\">30.09</td><td class=\"displayNone\" data-column-name=\"opmgn5yr_us\">34.07</td><td class=\"displayNone\" data-column-name=\"ttmptmgn_us\">30.09</td><td class=\"displayNone\" data-column-name=\"ptmgn5yr_us\">33.95</td><td class=\"displayNone\" data-column-name=\"ttmnpmgn_us\">28.15</td><td class=\"displayNone\" data-column-name=\"margin5yr_us\">30.35</td><td class=\"displayNone\" data-column-name=\"qquickrati_us\">0.31</td><td class=\"displayNone\" data-column-name=\"qcurratio_us\">-</td><td class=\"displayNone\" data-column-name=\"qltd2eq_us\">104.64</td><td class=\"displayNone\" data-column-name=\"qtotd2eq_us\">258.87</td><td class=\"displayNone\" data-column-name=\"yld5yavg_us\">2.71</td><td class=\"displayNone\" data-column-name=\"divgrpct_us\">-</td><td class=\"displayNone\" data-column-name=\"ttmpayrat_us\">34.27</td><td class=\"displayNone\" data-column-name=\"ADX\">31.95</td><td class=\"displayNone\" data-column-name=\"ATR\">0.14</td><td class=\"displayNone\" data-column-name=\"BullBear\">-0.32</td><td class=\"displayNone\" data-column-name=\"CCI\">-169.56</td><td class=\"displayNone\" data-column-name=\"HL\">-0.14</td><td class=\"displayNone\" data-column-name=\"ROC\">-1.13</td><td class=\"displayNone\" data-column-name=\"RSI\">39.26</td><td class=\"displayNone\" data-column-name=\"STOCH\">51.75</td><td class=\"displayNone\" data-column-name=\"STOCHRSI\">1.68</td><td class=\"displayNone\" data-column-name=\"UO\">43.40</td><td class=\"displayNone\" data-column-name=\"WilliamsR\">-88.63</td> <td></td>\n",
      "</tr></tbody>\n",
      "</table>\n"
     ]
    }
   ],
   "source": [
    "html_table = html.select('table.genTbl.openTbl.resultsStockScreenerTbl.elpTbl')\n",
    "print(html_table[0])"
   ]
  },
  {
   "cell_type": "code",
   "execution_count": 7,
   "metadata": {},
   "outputs": [
    {
     "data": {
      "text/html": [
       "<div>\n",
       "<style scoped>\n",
       "    .dataframe tbody tr th:only-of-type {\n",
       "        vertical-align: middle;\n",
       "    }\n",
       "\n",
       "    .dataframe tbody tr th {\n",
       "        vertical-align: top;\n",
       "    }\n",
       "\n",
       "    .dataframe thead th {\n",
       "        text-align: right;\n",
       "    }\n",
       "</style>\n",
       "<table border=\"1\" class=\"dataframe\">\n",
       "  <thead>\n",
       "    <tr style=\"text-align: right;\">\n",
       "      <th></th>\n",
       "      <th>Unnamed: 0</th>\n",
       "      <th>Name</th>\n",
       "      <th>Symbol</th>\n",
       "      <th>Exchange</th>\n",
       "      <th>Sector</th>\n",
       "      <th>Industry</th>\n",
       "      <th>Last</th>\n",
       "      <th>Chg. %</th>\n",
       "      <th>Market Cap</th>\n",
       "      <th>Vol.</th>\n",
       "      <th>...</th>\n",
       "      <th>Bull/Bear Power (13 / 1D)</th>\n",
       "      <th>CCI (14 / 1D)</th>\n",
       "      <th>Highs/Lows (14 / 1D)</th>\n",
       "      <th>ROC (1D)</th>\n",
       "      <th>RSI (14 / 1D)</th>\n",
       "      <th>STOCH (14 / 1D)</th>\n",
       "      <th>STOCHRSI (14 / 1D)</th>\n",
       "      <th>Ultimate Oscillator (14 /1D)</th>\n",
       "      <th>Williams %R (1D)</th>\n",
       "      <th>var columnsSettings_stock_screener = new ColumnsSettings(  'ltr', // strHtmlDir  'resultsContainer', // containerId  'resultsContainer', // tab  'stock_screener', // id  'Currently selected: X (max 8)', // message  '8', // intMaxCheckboxes  '1' // intMinOptCheckboxes \\t);  Adjust table  Name  Symbol  Exchange  Sector  Industry  Last  Chg. %  Market Cap  Vol.  P/E Ratio  MACD (12,26 / 1D)  Revenue  Average Vol. (3m)  EPS  Beta  Dividend  Yield  15 Minutes  Hourly  Daily  Weekly  Monthly  Daily  1 Week  1 Month  YTD  1 Year  3 Years  1-Year Change  Dividend Yield (%)  P/E Ratio (TTM)  Price to Sales (TTM)  Price to Cash Flow (MRQ)  Price to Free Cash Flow (TTM)  Price to Book (MRQ)  Price to Tangible Book (MRQ)  EPS(MRQ) vs Qtr. 1 Yr. Ago  EPS(TTM) vs TTM 1 Yr. Ago  5 Year EPS Growth  Sales (MRQ) vs Qtr. 1 Yr. Ago  Sales (TTM) vs TTM 1 Yr. Ago (TTM)  5 Year Sales Growth  5 Year Capital Spending Growth  Asset Turnover (TTM)  Inventory Turnover (TTM)  Revenue/Employee (TTM)  Net Income/Employee (TTM)  Receivable Turnover (TTM)  52 wk Range - High  52 wk Range - Low  % Change from 52 wk High  % Change from 52 wk Low  Previous Month % Change  Gross margin (TTM)  Gross Margin (5YA)  Operating margin (TTM)  Operating margin (5YA)  Pretax margin (TTM)  Pretax margin (5YA)  Net Profit margin (TTM)  Net Profit margin (5YA)  Quick Ratio (MRQ)  Current Ratio (MRQ)  LT Debt to Equity (MRQ)  Total Debt to Equity  Dividend Yield 5 Year Avg. (5YA)  Dividend Growth Rate (ANN)  Payout Ratio (TTM)  ADX (14 / 1D)  ATR (14 / 1D)  Bull/Bear Power (13 / 1D)  CCI (14 / 1D)  Highs/Lows (14 / 1D)  ROC (1D)  RSI (14 / 1D)  STOCH (14 / 1D)  STOCHRSI (14 / 1D)  Ultimate Oscillator (14 /1D)  Williams %R (1D)  Advanced Metrics  Currently selected:  6  (max 8 )  Apply  $('#colSelectPopup_stock_screener').click(function(e) {  e.stopPropagation(); \\t});</th>\n",
       "    </tr>\n",
       "  </thead>\n",
       "  <tbody>\n",
       "    <tr>\n",
       "      <th>0</th>\n",
       "      <td>NaN</td>\n",
       "      <td>Microsoft</td>\n",
       "      <td>MSFT</td>\n",
       "      <td>NASDAQ</td>\n",
       "      <td>Technology</td>\n",
       "      <td>Software &amp; IT Services</td>\n",
       "      <td>416.42</td>\n",
       "      <td>-2.07%</td>\n",
       "      <td>3.09T</td>\n",
       "      <td>45.01M</td>\n",
       "      <td>...</td>\n",
       "      <td>9.75</td>\n",
       "      <td>96.51</td>\n",
       "      <td>2.54</td>\n",
       "      <td>2.17</td>\n",
       "      <td>56.25</td>\n",
       "      <td>52.33</td>\n",
       "      <td>52.72</td>\n",
       "      <td>63.27</td>\n",
       "      <td>-38.80</td>\n",
       "      <td>NaN</td>\n",
       "    </tr>\n",
       "    <tr>\n",
       "      <th>1</th>\n",
       "      <td>NaN</td>\n",
       "      <td>Apple</td>\n",
       "      <td>AAPL</td>\n",
       "      <td>NASDAQ</td>\n",
       "      <td>Technology</td>\n",
       "      <td>Computers, Phones &amp; Household Electronics</td>\n",
       "      <td>172.62</td>\n",
       "      <td>-0.22%</td>\n",
       "      <td>2.67T</td>\n",
       "      <td>121.61M</td>\n",
       "      <td>...</td>\n",
       "      <td>-5.53</td>\n",
       "      <td>-54.97</td>\n",
       "      <td>-0.45</td>\n",
       "      <td>-4.74</td>\n",
       "      <td>36.87</td>\n",
       "      <td>37.02</td>\n",
       "      <td>74.62</td>\n",
       "      <td>47.28</td>\n",
       "      <td>-73.56</td>\n",
       "      <td>NaN</td>\n",
       "    </tr>\n",
       "    <tr>\n",
       "      <th>2</th>\n",
       "      <td>NaN</td>\n",
       "      <td>NVIDIA</td>\n",
       "      <td>NVDA</td>\n",
       "      <td>NASDAQ</td>\n",
       "      <td>Technology</td>\n",
       "      <td>Semiconductors &amp; Semiconductor Equipment</td>\n",
       "      <td>878.36</td>\n",
       "      <td>-0.12%</td>\n",
       "      <td>2.16T</td>\n",
       "      <td>63.91M</td>\n",
       "      <td>...</td>\n",
       "      <td>38.54</td>\n",
       "      <td>44.78</td>\n",
       "      <td>2.16</td>\n",
       "      <td>11.07</td>\n",
       "      <td>63.29</td>\n",
       "      <td>48.83</td>\n",
       "      <td>0.00</td>\n",
       "      <td>52.55</td>\n",
       "      <td>-47.12</td>\n",
       "      <td>NaN</td>\n",
       "    </tr>\n",
       "    <tr>\n",
       "      <th>3</th>\n",
       "      <td>NaN</td>\n",
       "      <td>Amazon.com</td>\n",
       "      <td>AMZN</td>\n",
       "      <td>NASDAQ</td>\n",
       "      <td>Consumer Cyclicals</td>\n",
       "      <td>Diversified Retail</td>\n",
       "      <td>174.42</td>\n",
       "      <td>-2.42%</td>\n",
       "      <td>1.81T</td>\n",
       "      <td>72.11M</td>\n",
       "      <td>...</td>\n",
       "      <td>1.49</td>\n",
       "      <td>-7.44</td>\n",
       "      <td>0.00</td>\n",
       "      <td>-0.17</td>\n",
       "      <td>53.78</td>\n",
       "      <td>45.85</td>\n",
       "      <td>10.20</td>\n",
       "      <td>44.98</td>\n",
       "      <td>-65.74</td>\n",
       "      <td>NaN</td>\n",
       "    </tr>\n",
       "    <tr>\n",
       "      <th>4</th>\n",
       "      <td>NaN</td>\n",
       "      <td>Alphabet C</td>\n",
       "      <td>GOOG</td>\n",
       "      <td>NASDAQ</td>\n",
       "      <td>Technology</td>\n",
       "      <td>Software &amp; IT Services</td>\n",
       "      <td>142.17</td>\n",
       "      <td>-1.5%</td>\n",
       "      <td>1.76T</td>\n",
       "      <td>35.29M</td>\n",
       "      <td>...</td>\n",
       "      <td>5.41</td>\n",
       "      <td>117.63</td>\n",
       "      <td>2.78</td>\n",
       "      <td>2.46</td>\n",
       "      <td>52.75</td>\n",
       "      <td>66.81</td>\n",
       "      <td>81.66</td>\n",
       "      <td>56.77</td>\n",
       "      <td>-19.42</td>\n",
       "      <td>NaN</td>\n",
       "    </tr>\n",
       "  </tbody>\n",
       "</table>\n",
       "<p>5 rows × 81 columns</p>\n",
       "</div>"
      ],
      "text/plain": [
       "   Unnamed: 0        Name Symbol Exchange              Sector  \\\n",
       "0         NaN   Microsoft   MSFT   NASDAQ          Technology   \n",
       "1         NaN       Apple   AAPL   NASDAQ          Technology   \n",
       "2         NaN      NVIDIA   NVDA   NASDAQ          Technology   \n",
       "3         NaN  Amazon.com   AMZN   NASDAQ  Consumer Cyclicals   \n",
       "4         NaN  Alphabet C   GOOG   NASDAQ          Technology   \n",
       "\n",
       "                                    Industry    Last  Chg. % Market Cap  \\\n",
       "0                     Software & IT Services  416.42  -2.07%      3.09T   \n",
       "1  Computers, Phones & Household Electronics  172.62  -0.22%      2.67T   \n",
       "2   Semiconductors & Semiconductor Equipment  878.36  -0.12%      2.16T   \n",
       "3                         Diversified Retail  174.42  -2.42%      1.81T   \n",
       "4                     Software & IT Services  142.17   -1.5%      1.76T   \n",
       "\n",
       "      Vol.  ... Bull/Bear Power (13 / 1D) CCI (14 / 1D) Highs/Lows (14 / 1D)  \\\n",
       "0   45.01M  ...                      9.75         96.51                 2.54   \n",
       "1  121.61M  ...                     -5.53        -54.97                -0.45   \n",
       "2   63.91M  ...                     38.54         44.78                 2.16   \n",
       "3   72.11M  ...                      1.49         -7.44                 0.00   \n",
       "4   35.29M  ...                      5.41        117.63                 2.78   \n",
       "\n",
       "  ROC (1D) RSI (14 / 1D) STOCH (14 / 1D) STOCHRSI (14 / 1D)  \\\n",
       "0     2.17         56.25           52.33              52.72   \n",
       "1    -4.74         36.87           37.02              74.62   \n",
       "2    11.07         63.29           48.83               0.00   \n",
       "3    -0.17         53.78           45.85              10.20   \n",
       "4     2.46         52.75           66.81              81.66   \n",
       "\n",
       "  Ultimate Oscillator (14 /1D) Williams %R (1D)  \\\n",
       "0                        63.27           -38.80   \n",
       "1                        47.28           -73.56   \n",
       "2                        52.55           -47.12   \n",
       "3                        44.98           -65.74   \n",
       "4                        56.77           -19.42   \n",
       "\n",
       "  var columnsSettings_stock_screener = new ColumnsSettings(  'ltr', // strHtmlDir  'resultsContainer', // containerId  'resultsContainer', // tab  'stock_screener', // id  'Currently selected: X (max 8)', // message  '8', // intMaxCheckboxes  '1' // intMinOptCheckboxes \\t);  Adjust table  Name  Symbol  Exchange  Sector  Industry  Last  Chg. %  Market Cap  Vol.  P/E Ratio  MACD (12,26 / 1D)  Revenue  Average Vol. (3m)  EPS  Beta  Dividend  Yield  15 Minutes  Hourly  Daily  Weekly  Monthly  Daily  1 Week  1 Month  YTD  1 Year  3 Years  1-Year Change  Dividend Yield (%)  P/E Ratio (TTM)  Price to Sales (TTM)  Price to Cash Flow (MRQ)  Price to Free Cash Flow (TTM)  Price to Book (MRQ)  Price to Tangible Book (MRQ)  EPS(MRQ) vs Qtr. 1 Yr. Ago  EPS(TTM) vs TTM 1 Yr. Ago  5 Year EPS Growth  Sales (MRQ) vs Qtr. 1 Yr. Ago  Sales (TTM) vs TTM 1 Yr. Ago (TTM)  5 Year Sales Growth  5 Year Capital Spending Growth  Asset Turnover (TTM)  Inventory Turnover (TTM)  Revenue/Employee (TTM)  Net Income/Employee (TTM)  Receivable Turnover (TTM)  52 wk Range - High  52 wk Range - Low  % Change from 52 wk High  % Change from 52 wk Low  Previous Month % Change  Gross margin (TTM)  Gross Margin (5YA)  Operating margin (TTM)  Operating margin (5YA)  Pretax margin (TTM)  Pretax margin (5YA)  Net Profit margin (TTM)  Net Profit margin (5YA)  Quick Ratio (MRQ)  Current Ratio (MRQ)  LT Debt to Equity (MRQ)  Total Debt to Equity  Dividend Yield 5 Year Avg. (5YA)  Dividend Growth Rate (ANN)  Payout Ratio (TTM)  ADX (14 / 1D)  ATR (14 / 1D)  Bull/Bear Power (13 / 1D)  CCI (14 / 1D)  Highs/Lows (14 / 1D)  ROC (1D)  RSI (14 / 1D)  STOCH (14 / 1D)  STOCHRSI (14 / 1D)  Ultimate Oscillator (14 /1D)  Williams %R (1D)  Advanced Metrics  Currently selected:  6  (max 8 )  Apply  $('#colSelectPopup_stock_screener').click(function(e) {  e.stopPropagation(); \\t});  \n",
       "0                                                NaN                                                                                                                                                                                                                                                                                                                                                                                                                                                                                                                                                                                                                                                                                                                                                                                                                                                                                                                                                                                                                                                                                                                                                                                                                                                                                                                                                                                                                                                                                                                                                                                                                                                                                                                                                                                                                                                                          \n",
       "1                                                NaN                                                                                                                                                                                                                                                                                                                                                                                                                                                                                                                                                                                                                                                                                                                                                                                                                                                                                                                                                                                                                                                                                                                                                                                                                                                                                                                                                                                                                                                                                                                                                                                                                                                                                                                                                                                                                                                                          \n",
       "2                                                NaN                                                                                                                                                                                                                                                                                                                                                                                                                                                                                                                                                                                                                                                                                                                                                                                                                                                                                                                                                                                                                                                                                                                                                                                                                                                                                                                                                                                                                                                                                                                                                                                                                                                                                                                                                                                                                                                                          \n",
       "3                                                NaN                                                                                                                                                                                                                                                                                                                                                                                                                                                                                                                                                                                                                                                                                                                                                                                                                                                                                                                                                                                                                                                                                                                                                                                                                                                                                                                                                                                                                                                                                                                                                                                                                                                                                                                                                                                                                                                                          \n",
       "4                                                NaN                                                                                                                                                                                                                                                                                                                                                                                                                                                                                                                                                                                                                                                                                                                                                                                                                                                                                                                                                                                                                                                                                                                                                                                                                                                                                                                                                                                                                                                                                                                                                                                                                                                                                                                                                                                                                                                                          \n",
       "\n",
       "[5 rows x 81 columns]"
      ]
     },
     "execution_count": 7,
     "metadata": {},
     "output_type": "execute_result"
    }
   ],
   "source": [
    "# convert into dataframe\n",
    "# using prettify() method, BeautifulSoup's parsing parser tree\n",
    "df_table = pd.read_html(html_table[0].prettify())\n",
    "df_table_result = df_table[0]\n",
    "df_table_result.head()"
   ]
  },
  {
   "cell_type": "code",
   "execution_count": 8,
   "metadata": {},
   "outputs": [
    {
     "data": {
      "text/html": [
       "<div>\n",
       "<style scoped>\n",
       "    .dataframe tbody tr th:only-of-type {\n",
       "        vertical-align: middle;\n",
       "    }\n",
       "\n",
       "    .dataframe tbody tr th {\n",
       "        vertical-align: top;\n",
       "    }\n",
       "\n",
       "    .dataframe thead th {\n",
       "        text-align: right;\n",
       "    }\n",
       "</style>\n",
       "<table border=\"1\" class=\"dataframe\">\n",
       "  <thead>\n",
       "    <tr style=\"text-align: right;\">\n",
       "      <th></th>\n",
       "      <th>Name</th>\n",
       "      <th>Symbol</th>\n",
       "      <th>Exchange</th>\n",
       "      <th>Sector</th>\n",
       "      <th>Market Cap</th>\n",
       "    </tr>\n",
       "  </thead>\n",
       "  <tbody>\n",
       "    <tr>\n",
       "      <th>0</th>\n",
       "      <td>Microsoft</td>\n",
       "      <td>MSFT</td>\n",
       "      <td>NASDAQ</td>\n",
       "      <td>Technology</td>\n",
       "      <td>3.09T</td>\n",
       "    </tr>\n",
       "    <tr>\n",
       "      <th>1</th>\n",
       "      <td>Apple</td>\n",
       "      <td>AAPL</td>\n",
       "      <td>NASDAQ</td>\n",
       "      <td>Technology</td>\n",
       "      <td>2.67T</td>\n",
       "    </tr>\n",
       "    <tr>\n",
       "      <th>2</th>\n",
       "      <td>NVIDIA</td>\n",
       "      <td>NVDA</td>\n",
       "      <td>NASDAQ</td>\n",
       "      <td>Technology</td>\n",
       "      <td>2.16T</td>\n",
       "    </tr>\n",
       "    <tr>\n",
       "      <th>3</th>\n",
       "      <td>Amazon.com</td>\n",
       "      <td>AMZN</td>\n",
       "      <td>NASDAQ</td>\n",
       "      <td>Consumer Cyclicals</td>\n",
       "      <td>1.81T</td>\n",
       "    </tr>\n",
       "    <tr>\n",
       "      <th>4</th>\n",
       "      <td>Alphabet C</td>\n",
       "      <td>GOOG</td>\n",
       "      <td>NASDAQ</td>\n",
       "      <td>Technology</td>\n",
       "      <td>1.76T</td>\n",
       "    </tr>\n",
       "  </tbody>\n",
       "</table>\n",
       "</div>"
      ],
      "text/plain": [
       "         Name Symbol Exchange              Sector Market Cap\n",
       "0   Microsoft   MSFT   NASDAQ          Technology      3.09T\n",
       "1       Apple   AAPL   NASDAQ          Technology      2.67T\n",
       "2      NVIDIA   NVDA   NASDAQ          Technology      2.16T\n",
       "3  Amazon.com   AMZN   NASDAQ  Consumer Cyclicals      1.81T\n",
       "4  Alphabet C   GOOG   NASDAQ          Technology      1.76T"
      ]
     },
     "execution_count": 8,
     "metadata": {},
     "output_type": "execute_result"
    }
   ],
   "source": [
    "df_table_select = df_table[0][['Name', 'Symbol', 'Exchange', 'Sector', 'Market Cap']]\n",
    "df_table_select.head()"
   ]
  },
  {
   "cell_type": "code",
   "execution_count": 9,
   "metadata": {},
   "outputs": [
    {
     "name": "stdout",
     "output_type": "stream",
     "text": [
      "222\n"
     ]
    }
   ],
   "source": [
    "# count number of pages\n",
    "end_num = driver.find_element(By.CLASS_NAME, value='js-total-results').text\n",
    "print(math.ceil(int(end_num) / 50))"
   ]
  },
  {
   "cell_type": "code",
   "execution_count": 10,
   "metadata": {},
   "outputs": [],
   "source": [
    "driver.quit()"
   ]
  },
  {
   "cell_type": "markdown",
   "metadata": {},
   "source": [
    "## class for `ticker_global` database"
   ]
  },
  {
   "cell_type": "code",
   "execution_count": 1,
   "metadata": {},
   "outputs": [],
   "source": [
    "from selenium import webdriver\n",
    "from selenium.webdriver.chrome.service import Service\n",
    "from webdriver_manager.chrome import ChromeDriverManager\n",
    "from selenium.webdriver.common.by import By\n",
    "from selenium.webdriver.support import expected_conditions as EC \n",
    "from selenium.webdriver.support.ui import WebDriverWait\n",
    "from bs4 import BeautifulSoup\n",
    "from datetime import datetime\n",
    "import math\n",
    "import pandas as pd \n",
    "import numpy as np\n",
    "from tqdm import tqdm\n",
    "import time\n",
    "import pymysql\n",
    "import keyring\n",
    "import platform\n",
    "\n",
    "\n",
    "class UpdateTickerGlobalDB():\n",
    "    \n",
    "    def __init__(self):\n",
    "        # # install Chrome driver\n",
    "        # self.driver = webdriver.Chrome(service=Service(ChromeDriverManager().install()))\n",
    "\n",
    "        # US country code = '5'\n",
    "        self.country_code = '5'\n",
    "\n",
    "\n",
    "        # # first page URL\n",
    "        # self.url = f'''https://investing.com/stock-screener/?sp=country::\n",
    "        # {self.country_code}|sector::a|industry::a|equityType::ORD%3Ceq_market_cap;1'''\n",
    "        \n",
    "        # # open page with url\n",
    "        # self.driver.get(url)\n",
    "        \n",
    "    def get_ticker_global_data(self):\n",
    "        \n",
    "        # install Chrome driver\n",
    "        driver = webdriver.Chrome(service=Service(ChromeDriverManager().install()))\n",
    "\n",
    "        # first page URL\n",
    "        url = f'''https://investing.com/stock-screener/?sp=country::\n",
    "        {self.country_code}|sector::a|industry::a|equityType::ORD%3Ceq_market_cap;1'''\n",
    "        \n",
    "        # open page with url\n",
    "        driver.get(url)\n",
    "        \n",
    "        # 'Screener Results'shows after table which contains ticker informations is loaded.\n",
    "        # Wait until table is loaded using WebDriverWait()\n",
    "        WebDriverWait(driver, 10).until(EC.visibility_of_element_located(\n",
    "            (By.XPATH, '//*[@id=\"resultsTable\"]/tbody')\n",
    "        ))\n",
    "        \n",
    "        # Crawl number of tickers and count number of pages\n",
    "        end_num = driver.find_element(By.CLASS_NAME, value='js-total-results').text\n",
    "        end_num = math.ceil(int(end_num) / 50)\n",
    "        \n",
    "        all_data_df = []\n",
    "        \n",
    "        for i in tqdm(range(1, end_num + 1)):\n",
    "            url = f'''https://investing.com/stock-screener/?sp=country::\n",
    "                {self.country_code}|sector::a|industry::a|equityType::ORD%3Ceq_market_cap;{i}'''\n",
    "            driver.get(url)\n",
    "            \n",
    "            try:\n",
    "                WebDriverWait(driver, 10).until(EC.visibility_of_element_located(\n",
    "                    (By.XPATH, '//*[@id=\"resultsTable\"]/tbody')\n",
    "                ))\n",
    "                \n",
    "            except:\n",
    "                time.sleep(1)\n",
    "                driver.refresh()\n",
    "                WebDriverWait(driver, 10).until(EC.visibility_of_element_located(\n",
    "                    (By.XPATH, '//*[@id=\"resultsTable\"]/tbody')\n",
    "                ))\n",
    "                \n",
    "            html = BeautifulSoup(driver.page_source, 'lxml')\n",
    "            html_table = html.select(\n",
    "                'table.genTbl.openTbl.resultsStockScreenerTbl.elpTbl'\n",
    "            )\n",
    "            df_table = pd.read_html(html_table[0].prettify())\n",
    "            df_table_select = df_table[0][['Name', 'Symbol', 'Exchange', 'Sector', 'Market Cap']]\n",
    "    \n",
    "            all_data_df.append(df_table_select)\n",
    "            \n",
    "            time.sleep(1)\n",
    "            \n",
    "        # concatenate all dataframes after ending loop\n",
    "        all_data_df_bind = pd.concat(all_data_df, axis=0)\n",
    "        \n",
    "        data_country = html.find(class_='js-search-input inputDropDown')['value']\n",
    "        all_data_df_bind['country'] = data_country\n",
    "        all_data_df_bind['date'] = datetime.today().strftime('%Y-%m-%d')\n",
    "        \n",
    "        # delete row whose name is null\n",
    "        all_data_df_bind = all_data_df_bind[~all_data_df_bind['Name'].isnull()]\n",
    "        \n",
    "        \n",
    "        # select exchange market which can be traded in\n",
    "        all_data_df_bind = all_data_df_bind[all_data_df_bind['Exchange'].isin(\n",
    "            ['NASDAQ', 'NYSE', 'NYSE Amex']\n",
    "        )]\n",
    "        \n",
    "        # drop duplicate\n",
    "        all_data_df_bind = all_data_df_bind.drop_duplicates(['Symbol'])\n",
    "        all_data_df_bind.reset_index(inplace=True, drop=True)\n",
    "        all_data_df_bind = all_data_df_bind.replace({np.nan: None})\n",
    "        \n",
    "        driver.quit()\n",
    "        \n",
    "        return all_data_df_bind\n",
    "    \n",
    "    def update_db_ticker_global(self):\n",
    "        \n",
    "        all_data_df_bind = self.get_ticker_global_data()\n",
    "\n",
    "        # database info\n",
    "        user = 'root'\n",
    "        pw = keyring.get_password('macmini_db', user)\n",
    "        host = '192.168.219.106' if platform.system() == 'Windows' else '127.0.0.1'\n",
    "        \n",
    "        con = pymysql.connect(\n",
    "            user=user,\n",
    "            passwd=pw,\n",
    "            host=host,\n",
    "            db='stock',\n",
    "            charset='utf8'\n",
    "        )\n",
    "        \n",
    "        mycursor = con.cursor()\n",
    "        \n",
    "        query = \"\"\"\n",
    "                INSERT INTO ticker_global (name, symbol, exchange, sector, market_cap, country, date)\n",
    "                VALUES (%s, %s, %s, %s, %s, %s, %s)\n",
    "                ON DUPLICATE KEY UPDATE\n",
    "                name=VALUES(name), exchange=VALUES(exchange), sector=VALUES(exchange), market_cap=VALUES(market_cap);\n",
    "                \"\"\"\n",
    "        \n",
    "        args = all_data_df_bind.values.tolist()\n",
    "        \n",
    "        mycursor.executemany(query, args)\n",
    "        con.commit()\n",
    "        \n",
    "        con.close()\n",
    "                \n"
   ]
  },
  {
   "cell_type": "code",
   "execution_count": 2,
   "metadata": {},
   "outputs": [
    {
     "name": "stderr",
     "output_type": "stream",
     "text": [
      "100%|██████████| 165/165 [09:51<00:00,  3.59s/it]\n"
     ]
    }
   ],
   "source": [
    "a = UpdateTickerGlobalDB()\n",
    "a.update_db_ticker_global()"
   ]
  },
  {
   "cell_type": "markdown",
   "metadata": {},
   "source": [
    "## Class for updating`price_global` database"
   ]
  },
  {
   "cell_type": "code",
   "execution_count": 4,
   "metadata": {},
   "outputs": [],
   "source": [
    "import yfinance as yf\n",
    "import pymysql\n",
    "from sqlalchemy import create_engine\n",
    "import pandas as pd\n",
    "import time\n",
    "from tqdm import tqdm\n",
    "import keyring\n",
    "\n",
    "class UpdatePriceGlobalDB():\n",
    "    def __init__(self):\n",
    "        self.user = 'root'\n",
    "        self.pw = keyring.get_password('macmini_db', self.user)\n",
    "        self.host = '192.168.219.106' if platform.system() == 'Windows' else '127.0.0.1'\n",
    "        self.port = 3306\n",
    "        self.db = 'stock'\n",
    "        \n",
    "    def get_ticker_list(self):\n",
    "        \n",
    "        # connect DB\n",
    "        engine = create_engine(f'mysql+pymysql://{self.user}:{self.pw}@{self.host}:{self.port}/{self.db}')\n",
    "\n",
    "        con = pymysql.connect(\n",
    "            user=self.user,\n",
    "            passwd=self.pw,\n",
    "            host = self.host,\n",
    "            db=self.db,\n",
    "            charset='utf8'\n",
    "        )\n",
    "        \n",
    "        mycurosr = con.cursor()\n",
    "        \n",
    "        # select ticker list\n",
    "        ticker_list = pd.read_sql(\n",
    "            \"\"\" \n",
    "            SELECT * FROM ticker_global\n",
    "            WHERE date = (SELECT MAX(date) FROM ticker_global)\n",
    "            AND country = 'United States';\n",
    "            \"\"\"\n",
    "        , con=engine)\n",
    "        \n",
    "        engine.dispose()\n",
    "        con.close()\n",
    "        \n",
    "        return ticker_list\n",
    "        \n",
    "    def update_db_price_global(self):\n",
    "        \n",
    "        ticker_list = self.get_ticker_list()\n",
    "        error_list = []\n",
    "        \n",
    "        # connect db\n",
    "        engine = create_engine(f'mysql+pymysql://{self.user}:{self.pw}@{self.host}:{self.port}/{self.db}')\n",
    "\n",
    "        con = pymysql.connect(\n",
    "            user=self.user,\n",
    "            passwd=self.pw,\n",
    "            host = self.host,\n",
    "            db=self.db,\n",
    "            charset='utf8'\n",
    "        )\n",
    "        \n",
    "        mycurosr = con.cursor()\n",
    "        \n",
    "        query = \"\"\" \n",
    "                INSERT INTO price_global (date, high, low, open, close, volume, adj_close, ticker)\n",
    "                VALUES (%s, %s, %s, %s, %s, %s, %s, %s)\n",
    "                ON DUPLICATE KEY UPDATE\n",
    "                high=VALUE(high), low=VALUES(low), open=VALUES(open), close=VALUES(close), volume=VALUES(volume), adj_close=VALUES(adj_close);\n",
    "                \"\"\"\n",
    "        \n",
    "        # download all prices of all tickers\n",
    "        for i in tqdm(range(0, len(ticker_list))):\n",
    "            \n",
    "            # select a ticker\n",
    "            ticker = ticker_list['symbol'][i]\n",
    "            \n",
    "            # if error happens, it will be ignored\n",
    "            try:\n",
    "                # download price\n",
    "                price = yf.download(ticker, progress=False)\n",
    "                \n",
    "                # clean data\n",
    "                price = price.reset_index()\n",
    "                price['ticker'] = ticker\n",
    "                \n",
    "                # insert into DB\n",
    "                args = price.values.tolist()\n",
    "                mycurosr.executemany(query, args)\n",
    "                con.commit()\n",
    "            \n",
    "            except:\n",
    "                print(ticker)\n",
    "                error_list.append(ticker)\n",
    "                \n",
    "            time.sleep(1)\n",
    "            \n",
    "        # close the db connection\n",
    "        engine.dispose()\n",
    "        con.close()\n",
    "        \n",
    "        \n"
   ]
  },
  {
   "cell_type": "code",
   "execution_count": 5,
   "metadata": {},
   "outputs": [
    {
     "name": "stderr",
     "output_type": "stream",
     "text": [
      "  3%|▎         | 137/5197 [05:21<2:49:57,  2.02s/it]\n",
      "1 Failed download:\n",
      "['AGMA']: Exception('%ticker%: No timezone found, symbol may be delisted')\n",
      "  8%|▊         | 410/5197 [15:32<3:03:16,  2.30s/it]\n",
      "1 Failed download:\n",
      "['ASTB']: Exception('%ticker%: No timezone found, symbol may be delisted')\n",
      " 12%|█▏        | 604/5197 [23:14<2:32:30,  1.99s/it]\n",
      "1 Failed download:\n",
      "['BFA']: Exception('%ticker%: No timezone found, symbol may be delisted')\n",
      " 12%|█▏        | 607/5197 [23:20<2:23:50,  1.88s/it]\n",
      "1 Failed download:\n",
      "['BFB']: Exception('%ticker%: No timezone found, symbol may be delisted')\n",
      " 12%|█▏        | 646/5197 [24:46<3:02:25,  2.40s/it]\n",
      "1 Failed download:\n",
      "['BIOB']: Exception('%ticker%: No timezone found, symbol may be delisted')\n",
      " 12%|█▏        | 649/5197 [24:52<2:39:56,  2.11s/it]\n",
      "1 Failed download:\n",
      "['BIOS']: Exception('%ticker%: No timezone found, symbol may be delisted')\n",
      " 14%|█▎        | 711/5197 [27:15<2:21:29,  1.89s/it]\n",
      "1 Failed download:\n",
      "['BNREA']: Exception('%ticker%: No timezone found, symbol may be delisted')\n",
      " 14%|█▍        | 751/5197 [28:41<3:12:39,  2.60s/it]\n",
      "1 Failed download:\n",
      "['BRKA']: Exception('%ticker%: No timezone found, symbol may be delisted')\n",
      " 14%|█▍        | 752/5197 [28:42<2:47:01,  2.25s/it]\n",
      "1 Failed download:\n",
      "['BRKB']: Exception('%ticker%: No timezone found, symbol may be delisted')\n",
      " 23%|██▎       | 1174/5197 [45:12<1:50:51,  1.65s/it]\n",
      "1 Failed download:\n",
      "['CRDA']: Exception('%ticker%: No price data found, symbol may be delisted (1d 1925-04-10 -> 2024-03-16)')\n",
      " 25%|██▍       | 1286/5197 [49:45<2:45:10,  2.53s/it]\n",
      "1 Failed download:\n",
      "['CWENA']: Exception('%ticker%: No timezone found, symbol may be delisted')\n",
      " 30%|██▉       | 1555/5197 [1:00:06<1:48:56,  1.79s/it]\n",
      "1 Failed download:\n",
      "['ELEP']: Exception('%ticker%: No timezone found, symbol may be delisted')\n",
      " 38%|███▊      | 1966/5197 [1:16:37<2:19:47,  2.60s/it]\n",
      "1 Failed download:\n",
      "['GEFB']: Exception('%ticker%: No timezone found, symbol may be delisted')\n",
      " 39%|███▉      | 2024/5197 [1:19:06<2:21:50,  2.68s/it]\n",
      "1 Failed download:\n",
      "['GLTA']: Exception('%ticker%: No timezone found, symbol may be delisted')\n",
      " 41%|████      | 2121/5197 [1:22:50<2:11:26,  2.56s/it]\n",
      "1 Failed download:\n",
      "['GTNA']: Exception('%ticker%: No timezone found, symbol may be delisted')\n",
      " 42%|████▏     | 2176/5197 [1:25:12<3:10:58,  3.79s/it]\n",
      "1 Failed download:\n",
      "['HEIA']: Exception('%ticker%: No timezone found, symbol may be delisted')\n",
      " 44%|████▍     | 2299/5197 [1:30:32<2:17:49,  2.85s/it]\n",
      "1 Failed download:\n",
      "['HVTA']: Exception('%ticker%: No timezone found, symbol may be delisted')\n",
      " 47%|████▋     | 2430/5197 [1:35:46<1:58:29,  2.57s/it]\n",
      "1 Failed download:\n",
      "['INTJ']: Exception('%ticker%: No timezone found, symbol may be delisted')\n",
      " 52%|█████▏    | 2679/5197 [1:46:11<1:28:49,  2.12s/it]\n",
      "1 Failed download:\n",
      "['LAC_W']: Exception('%ticker%: No timezone found, symbol may be delisted')\n",
      " 52%|█████▏    | 2724/5197 [1:48:02<2:00:47,  2.93s/it]\n",
      "1 Failed download:\n",
      "['LENB']: Exception('%ticker%: No timezone found, symbol may be delisted')\n",
      " 53%|█████▎    | 2730/5197 [1:48:13<1:22:11,  2.00s/it]\n",
      "1 Failed download:\n",
      "['LFAC']: Exception('%ticker%: No timezone found, symbol may be delisted')\n",
      " 53%|█████▎    | 2741/5197 [1:48:37<1:20:24,  1.96s/it]\n",
      "1 Failed download:\n",
      "['LGFA']: Exception('%ticker%: No timezone found, symbol may be delisted')\n",
      " 53%|█████▎    | 2742/5197 [1:48:38<1:12:47,  1.78s/it]\n",
      "1 Failed download:\n",
      "['LGFB']: Exception('%ticker%: No timezone found, symbol may be delisted')\n",
      " 55%|█████▌    | 2883/5197 [1:54:35<1:34:38,  2.45s/it]\n",
      "1 Failed download:\n",
      "['MAMO']: Exception('%ticker%: No timezone found, symbol may be delisted')\n",
      " 58%|█████▊    | 3011/5197 [2:00:14<1:46:39,  2.93s/it]\n",
      "1 Failed download:\n",
      "['MKCV']: Exception('%ticker%: No timezone found, symbol may be delisted')\n",
      " 59%|█████▉    | 3062/5197 [2:02:22<1:34:53,  2.67s/it]\n",
      "1 Failed download:\n",
      "['MOGA']: Exception('%ticker%: No timezone found, symbol may be delisted')\n",
      " 59%|█████▉    | 3063/5197 [2:02:25<1:28:34,  2.49s/it]\n",
      "1 Failed download:\n",
      "['MOGB']: Exception('%ticker%: No timezone found, symbol may be delisted')\n",
      " 60%|██████    | 3140/5197 [2:06:09<2:31:33,  4.42s/it]\n",
      "1 Failed download:\n",
      "['MTRS']: Exception('%ticker%: No price data found, symbol may be delisted (1d 1925-04-10 -> 2024-03-17)')\n",
      " 64%|██████▍   | 3320/5197 [2:13:57<1:26:19,  2.76s/it]\n",
      "1 Failed download:\n",
      "['NTHI']: Exception('%ticker%: No timezone found, symbol may be delisted')\n",
      " 70%|███████   | 3647/5197 [2:28:34<1:03:39,  2.46s/it]\n",
      "1 Failed download:\n",
      "['PHGE_U']: Exception('%ticker%: No timezone found, symbol may be delisted')\n",
      " 75%|███████▌  | 3903/5197 [2:39:48<54:51,  2.54s/it]  \n",
      "1 Failed download:\n",
      "['RDDT']: Exception('%ticker%: No timezone found, symbol may be delisted')\n",
      " 76%|███████▌  | 3942/5197 [2:41:22<55:52,  2.67s/it]  \n",
      "1 Failed download:\n",
      "['RF_PC']: Exception('%ticker%: No timezone found, symbol may be delisted')\n",
      " 76%|███████▋  | 3973/5197 [2:42:50<59:10,  2.90s/it]  \n",
      "1 Failed download:\n",
      "['RLND']: Exception('%ticker%: No timezone found, symbol may be delisted')\n",
      " 86%|████████▋ | 4493/5197 [3:06:19<37:19,  3.18s/it]  \n",
      "1 Failed download:\n",
      "['TAPA']: Exception('%ticker%: No price data found, symbol may be delisted (1d 1925-04-10 -> 2024-03-17)')\n",
      " 89%|████████▉ | 4624/5197 [3:12:03<28:58,  3.03s/it]\n",
      "1 Failed download:\n",
      "['TNL']: Exception('%ticker%: No price data found, symbol may be delisted (1d 1925-04-10 -> 2024-03-17)')\n",
      " 89%|████████▉ | 4625/5197 [3:12:16<56:34,  5.93s/it]Failed to get ticker 'TNON' reason: HTTPSConnectionPool(host='query2.finance.yahoo.com', port=443): Max retries exceeded with url: /v8/finance/chart/TNON?range=1d&interval=1d&crumb=bZRKxYMxddi (Caused by NewConnectionError('<urllib3.connection.HTTPSConnection object at 0x000002C314D8FFD0>: Failed to establish a new connection: [Errno 11001] getaddrinfo failed'))\n",
      "\n",
      "1 Failed download:\n",
      "['TNON']: Exception('%ticker%: No timezone found, symbol may be delisted')\n"
     ]
    },
    {
     "name": "stdout",
     "output_type": "stream",
     "text": [
      "TNON\n"
     ]
    },
    {
     "name": "stderr",
     "output_type": "stream",
     "text": [
      " 89%|████████▉ | 4626/5197 [3:12:35<1:34:56,  9.98s/it]Failed to get ticker 'TNP' reason: HTTPSConnectionPool(host='query2.finance.yahoo.com', port=443): Max retries exceeded with url: /v8/finance/chart/TNP?range=1d&interval=1d&crumb=bZRKxYMxddi (Caused by NewConnectionError('<urllib3.connection.HTTPSConnection object at 0x000002C315250C10>: Failed to establish a new connection: [Errno 11001] getaddrinfo failed'))\n",
      "\n",
      "1 Failed download:\n",
      "['TNP']: Exception('%ticker%: No timezone found, symbol may be delisted')\n"
     ]
    },
    {
     "name": "stdout",
     "output_type": "stream",
     "text": [
      "TNP\n"
     ]
    },
    {
     "name": "stderr",
     "output_type": "stream",
     "text": [
      " 89%|████████▉ | 4627/5197 [3:12:36<1:09:15,  7.29s/it]Failed to get ticker 'TNXP' reason: HTTPSConnectionPool(host='query2.finance.yahoo.com', port=443): Max retries exceeded with url: /v8/finance/chart/TNXP?range=1d&interval=1d&crumb=bZRKxYMxddi (Caused by NewConnectionError('<urllib3.connection.HTTPSConnection object at 0x000002C315250040>: Failed to establish a new connection: [Errno 11001] getaddrinfo failed'))\n",
      "\n",
      "1 Failed download:\n",
      "['TNXP']: Exception('%ticker%: No timezone found, symbol may be delisted')\n"
     ]
    },
    {
     "name": "stdout",
     "output_type": "stream",
     "text": [
      "TNXP\n"
     ]
    },
    {
     "name": "stderr",
     "output_type": "stream",
     "text": [
      " 89%|████████▉ | 4628/5197 [3:12:37<51:19,  5.41s/it]  Failed to get ticker 'TNYA' reason: HTTPSConnectionPool(host='query2.finance.yahoo.com', port=443): Max retries exceeded with url: /v8/finance/chart/TNYA?range=1d&interval=1d&crumb=bZRKxYMxddi (Caused by NewConnectionError('<urllib3.connection.HTTPSConnection object at 0x000002C315250E50>: Failed to establish a new connection: [Errno 11001] getaddrinfo failed'))\n",
      "\n",
      "1 Failed download:\n",
      "['TNYA']: Exception('%ticker%: No timezone found, symbol may be delisted')\n"
     ]
    },
    {
     "name": "stdout",
     "output_type": "stream",
     "text": [
      "TNYA\n"
     ]
    },
    {
     "name": "stderr",
     "output_type": "stream",
     "text": [
      " 89%|████████▉ | 4629/5197 [3:12:38<38:50,  4.10s/it]Failed to get ticker 'TOI' reason: HTTPSConnectionPool(host='query2.finance.yahoo.com', port=443): Max retries exceeded with url: /v8/finance/chart/TOI?range=1d&interval=1d&crumb=bZRKxYMxddi (Caused by NewConnectionError('<urllib3.connection.HTTPSConnection object at 0x000002C315250790>: Failed to establish a new connection: [Errno 11001] getaddrinfo failed'))\n",
      "\n",
      "1 Failed download:\n",
      "['TOI']: Exception('%ticker%: No timezone found, symbol may be delisted')\n"
     ]
    },
    {
     "name": "stdout",
     "output_type": "stream",
     "text": [
      "TOI\n"
     ]
    },
    {
     "name": "stderr",
     "output_type": "stream",
     "text": [
      " 89%|████████▉ | 4630/5197 [3:12:40<30:06,  3.19s/it]Failed to get ticker 'TOL' reason: HTTPSConnectionPool(host='query2.finance.yahoo.com', port=443): Max retries exceeded with url: /v8/finance/chart/TOL?range=1d&interval=1d&crumb=bZRKxYMxddi (Caused by NewConnectionError('<urllib3.connection.HTTPSConnection object at 0x000002C315250AF0>: Failed to establish a new connection: [Errno 11001] getaddrinfo failed'))\n",
      "\n",
      "1 Failed download:\n",
      "['TOL']: Exception('%ticker%: No timezone found, symbol may be delisted')\n"
     ]
    },
    {
     "name": "stdout",
     "output_type": "stream",
     "text": [
      "TOL\n"
     ]
    },
    {
     "name": "stderr",
     "output_type": "stream",
     "text": [
      " 89%|████████▉ | 4631/5197 [3:12:52<55:20,  5.87s/it]Failed to get ticker 'TOMZ' reason: HTTPSConnectionPool(host='query2.finance.yahoo.com', port=443): Max retries exceeded with url: /v8/finance/chart/TOMZ?range=1d&interval=1d&crumb=bZRKxYMxddi (Caused by NewConnectionError('<urllib3.connection.HTTPSConnection object at 0x000002C315250A60>: Failed to establish a new connection: [Errno 11001] getaddrinfo failed'))\n",
      "\n",
      "1 Failed download:\n",
      "['TOMZ']: Exception('%ticker%: No timezone found, symbol may be delisted')\n"
     ]
    },
    {
     "name": "stdout",
     "output_type": "stream",
     "text": [
      "TOMZ\n"
     ]
    },
    {
     "name": "stderr",
     "output_type": "stream",
     "text": [
      " 89%|████████▉ | 4632/5197 [3:13:04<1:12:50,  7.74s/it]Failed to get ticker 'TOON' reason: HTTPSConnectionPool(host='query2.finance.yahoo.com', port=443): Max retries exceeded with url: /v8/finance/chart/TOON?range=1d&interval=1d&crumb=bZRKxYMxddi (Caused by NewConnectionError('<urllib3.connection.HTTPSConnection object at 0x000002C315250370>: Failed to establish a new connection: [Errno 11001] getaddrinfo failed'))\n",
      "\n",
      "1 Failed download:\n",
      "['TOON']: Exception('%ticker%: No timezone found, symbol may be delisted')\n"
     ]
    },
    {
     "name": "stdout",
     "output_type": "stream",
     "text": [
      "TOON\n"
     ]
    },
    {
     "name": "stderr",
     "output_type": "stream",
     "text": [
      " 89%|████████▉ | 4633/5197 [3:13:05<53:47,  5.72s/it]  Failed to get ticker 'TOP' reason: HTTPSConnectionPool(host='query2.finance.yahoo.com', port=443): Max retries exceeded with url: /v8/finance/chart/TOP?range=1d&interval=1d&crumb=bZRKxYMxddi (Caused by NewConnectionError('<urllib3.connection.HTTPSConnection object at 0x000002C3166FA2B0>: Failed to establish a new connection: [Errno 11001] getaddrinfo failed'))\n",
      "\n",
      "1 Failed download:\n",
      "['TOP']: Exception('%ticker%: No timezone found, symbol may be delisted')\n"
     ]
    },
    {
     "name": "stdout",
     "output_type": "stream",
     "text": [
      "TOP\n"
     ]
    },
    {
     "name": "stderr",
     "output_type": "stream",
     "text": [
      " 89%|████████▉ | 4634/5197 [3:13:06<40:33,  4.32s/it]Failed to get ticker 'TOPS' reason: HTTPSConnectionPool(host='query2.finance.yahoo.com', port=443): Max retries exceeded with url: /v8/finance/chart/TOPS?range=1d&interval=1d&crumb=bZRKxYMxddi (Caused by NewConnectionError('<urllib3.connection.HTTPSConnection object at 0x000002C3166FA130>: Failed to establish a new connection: [Errno 11001] getaddrinfo failed'))\n",
      "\n",
      "1 Failed download:\n",
      "['TOPS']: Exception('%ticker%: No timezone found, symbol may be delisted')\n"
     ]
    },
    {
     "name": "stdout",
     "output_type": "stream",
     "text": [
      "TOPS\n"
     ]
    },
    {
     "name": "stderr",
     "output_type": "stream",
     "text": [
      " 89%|████████▉ | 4635/5197 [3:13:07<31:16,  3.34s/it]Failed to get ticker 'TORO' reason: HTTPSConnectionPool(host='query2.finance.yahoo.com', port=443): Max retries exceeded with url: /v8/finance/chart/TORO?range=1d&interval=1d&crumb=bZRKxYMxddi (Caused by NewConnectionError('<urllib3.connection.HTTPSConnection object at 0x000002C3166FA610>: Failed to establish a new connection: [Errno 11001] getaddrinfo failed'))\n",
      "\n",
      "1 Failed download:\n",
      "['TORO']: Exception('%ticker%: No timezone found, symbol may be delisted')\n"
     ]
    },
    {
     "name": "stdout",
     "output_type": "stream",
     "text": [
      "TORO\n"
     ]
    },
    {
     "name": "stderr",
     "output_type": "stream",
     "text": [
      " 89%|████████▉ | 4636/5197 [3:13:08<24:45,  2.65s/it]Failed to get ticker 'TOST' reason: HTTPSConnectionPool(host='query2.finance.yahoo.com', port=443): Max retries exceeded with url: /v8/finance/chart/TOST?range=1d&interval=1d&crumb=bZRKxYMxddi (Caused by NewConnectionError('<urllib3.connection.HTTPSConnection object at 0x000002C3166FA850>: Failed to establish a new connection: [Errno 11001] getaddrinfo failed'))\n",
      "\n",
      "1 Failed download:\n",
      "['TOST']: Exception('%ticker%: No timezone found, symbol may be delisted')\n"
     ]
    },
    {
     "name": "stdout",
     "output_type": "stream",
     "text": [
      "TOST\n"
     ]
    },
    {
     "name": "stderr",
     "output_type": "stream",
     "text": [
      " 89%|████████▉ | 4637/5197 [3:13:09<20:10,  2.16s/it]Failed to get ticker 'TOVX' reason: HTTPSConnectionPool(host='query2.finance.yahoo.com', port=443): Max retries exceeded with url: /v8/finance/chart/TOVX?range=1d&interval=1d&crumb=bZRKxYMxddi (Caused by NewConnectionError('<urllib3.connection.HTTPSConnection object at 0x000002C3166FAA90>: Failed to establish a new connection: [Errno 11001] getaddrinfo failed'))\n",
      "\n",
      "1 Failed download:\n",
      "['TOVX']: Exception('%ticker%: No timezone found, symbol may be delisted')\n"
     ]
    },
    {
     "name": "stdout",
     "output_type": "stream",
     "text": [
      "TOVX\n"
     ]
    },
    {
     "name": "stderr",
     "output_type": "stream",
     "text": [
      " 89%|████████▉ | 4638/5197 [3:13:10<16:56,  1.82s/it]Failed to get ticker 'TOWN' reason: HTTPSConnectionPool(host='query2.finance.yahoo.com', port=443): Max retries exceeded with url: /v8/finance/chart/TOWN?range=1d&interval=1d&crumb=bZRKxYMxddi (Caused by NewConnectionError('<urllib3.connection.HTTPSConnection object at 0x000002C3166FACD0>: Failed to establish a new connection: [Errno 11001] getaddrinfo failed'))\n",
      "\n",
      "1 Failed download:\n",
      "['TOWN']: Exception('%ticker%: No timezone found, symbol may be delisted')\n"
     ]
    },
    {
     "name": "stdout",
     "output_type": "stream",
     "text": [
      "TOWN\n"
     ]
    },
    {
     "name": "stderr",
     "output_type": "stream",
     "text": [
      " 89%|████████▉ | 4639/5197 [3:13:11<14:43,  1.58s/it]Failed to get ticker 'TPB' reason: HTTPSConnectionPool(host='query2.finance.yahoo.com', port=443): Max retries exceeded with url: /v8/finance/chart/TPB?range=1d&interval=1d&crumb=bZRKxYMxddi (Caused by NewConnectionError('<urllib3.connection.HTTPSConnection object at 0x000002C3166FAF10>: Failed to establish a new connection: [Errno 11001] getaddrinfo failed'))\n",
      "\n",
      "1 Failed download:\n",
      "['TPB']: Exception('%ticker%: No timezone found, symbol may be delisted')\n"
     ]
    },
    {
     "name": "stdout",
     "output_type": "stream",
     "text": [
      "TPB\n"
     ]
    },
    {
     "name": "stderr",
     "output_type": "stream",
     "text": [
      " 89%|████████▉ | 4640/5197 [3:13:12<13:08,  1.41s/it]Failed to get ticker 'TPC' reason: HTTPSConnectionPool(host='query2.finance.yahoo.com', port=443): Max retries exceeded with url: /v8/finance/chart/TPC?range=1d&interval=1d&crumb=bZRKxYMxddi (Caused by NewConnectionError('<urllib3.connection.HTTPSConnection object at 0x000002C3166D0190>: Failed to establish a new connection: [Errno 11001] getaddrinfo failed'))\n",
      "\n",
      "1 Failed download:\n",
      "['TPC']: Exception('%ticker%: No timezone found, symbol may be delisted')\n"
     ]
    },
    {
     "name": "stdout",
     "output_type": "stream",
     "text": [
      "TPC\n"
     ]
    },
    {
     "name": "stderr",
     "output_type": "stream",
     "text": [
      " 89%|████████▉ | 4641/5197 [3:13:13<12:02,  1.30s/it]Failed to get ticker 'TPCS' reason: HTTPSConnectionPool(host='query2.finance.yahoo.com', port=443): Max retries exceeded with url: /v8/finance/chart/TPCS?range=1d&interval=1d&crumb=bZRKxYMxddi (Caused by NewConnectionError('<urllib3.connection.HTTPSConnection object at 0x000002C3166D0280>: Failed to establish a new connection: [Errno 11001] getaddrinfo failed'))\n",
      "\n",
      "1 Failed download:\n",
      "['TPCS']: Exception('%ticker%: No timezone found, symbol may be delisted')\n"
     ]
    },
    {
     "name": "stdout",
     "output_type": "stream",
     "text": [
      "TPCS\n"
     ]
    },
    {
     "name": "stderr",
     "output_type": "stream",
     "text": [
      " 89%|████████▉ | 4642/5197 [3:13:14<11:17,  1.22s/it]Failed to get ticker 'TPET' reason: HTTPSConnectionPool(host='query2.finance.yahoo.com', port=443): Max retries exceeded with url: /v8/finance/chart/TPET?range=1d&interval=1d&crumb=bZRKxYMxddi (Caused by NewConnectionError('<urllib3.connection.HTTPSConnection object at 0x000002C3166D0610>: Failed to establish a new connection: [Errno 11001] getaddrinfo failed'))\n",
      "\n",
      "1 Failed download:\n",
      "['TPET']: Exception('%ticker%: No timezone found, symbol may be delisted')\n"
     ]
    },
    {
     "name": "stdout",
     "output_type": "stream",
     "text": [
      "TPET\n"
     ]
    },
    {
     "name": "stderr",
     "output_type": "stream",
     "text": [
      " 89%|████████▉ | 4643/5197 [3:13:15<10:47,  1.17s/it]Failed to get ticker 'TPG' reason: HTTPSConnectionPool(host='query2.finance.yahoo.com', port=443): Max retries exceeded with url: /v8/finance/chart/TPG?range=1d&interval=1d&crumb=bZRKxYMxddi (Caused by NewConnectionError('<urllib3.connection.HTTPSConnection object at 0x000002C3166D0850>: Failed to establish a new connection: [Errno 11001] getaddrinfo failed'))\n",
      "\n",
      "1 Failed download:\n",
      "['TPG']: Exception('%ticker%: No timezone found, symbol may be delisted')\n"
     ]
    },
    {
     "name": "stdout",
     "output_type": "stream",
     "text": [
      "TPG\n"
     ]
    },
    {
     "name": "stderr",
     "output_type": "stream",
     "text": [
      " 89%|████████▉ | 4644/5197 [3:13:16<10:26,  1.13s/it]Failed to get ticker 'TPH' reason: HTTPSConnectionPool(host='query2.finance.yahoo.com', port=443): Max retries exceeded with url: /v8/finance/chart/TPH?range=1d&interval=1d&crumb=bZRKxYMxddi (Caused by NewConnectionError('<urllib3.connection.HTTPSConnection object at 0x000002C3166D0640>: Failed to establish a new connection: [Errno 11001] getaddrinfo failed'))\n",
      "\n",
      "1 Failed download:\n",
      "['TPH']: Exception('%ticker%: No timezone found, symbol may be delisted')\n"
     ]
    },
    {
     "name": "stdout",
     "output_type": "stream",
     "text": [
      "TPH\n"
     ]
    },
    {
     "name": "stderr",
     "output_type": "stream",
     "text": [
      " 89%|████████▉ | 4645/5197 [3:13:17<10:11,  1.11s/it]Failed to get ticker 'TPHS' reason: HTTPSConnectionPool(host='query2.finance.yahoo.com', port=443): Max retries exceeded with url: /v8/finance/chart/TPHS?range=1d&interval=1d&crumb=bZRKxYMxddi (Caused by NewConnectionError('<urllib3.connection.HTTPSConnection object at 0x000002C3166D0850>: Failed to establish a new connection: [Errno 11001] getaddrinfo failed'))\n",
      "\n",
      "1 Failed download:\n",
      "['TPHS']: Exception('%ticker%: No timezone found, symbol may be delisted')\n"
     ]
    },
    {
     "name": "stdout",
     "output_type": "stream",
     "text": [
      "TPHS\n"
     ]
    },
    {
     "name": "stderr",
     "output_type": "stream",
     "text": [
      " 89%|████████▉ | 4646/5197 [3:13:18<09:59,  1.09s/it]Failed to get ticker 'TPIC' reason: HTTPSConnectionPool(host='query2.finance.yahoo.com', port=443): Max retries exceeded with url: /v8/finance/chart/TPIC?range=1d&interval=1d&crumb=bZRKxYMxddi (Caused by NewConnectionError('<urllib3.connection.HTTPSConnection object at 0x000002C3166D0B20>: Failed to establish a new connection: [Errno 11001] getaddrinfo failed'))\n",
      "\n",
      "1 Failed download:\n",
      "['TPIC']: Exception('%ticker%: No timezone found, symbol may be delisted')\n"
     ]
    },
    {
     "name": "stdout",
     "output_type": "stream",
     "text": [
      "TPIC\n"
     ]
    },
    {
     "name": "stderr",
     "output_type": "stream",
     "text": [
      " 89%|████████▉ | 4647/5197 [3:13:19<09:49,  1.07s/it]Failed to get ticker 'TPL' reason: HTTPSConnectionPool(host='query2.finance.yahoo.com', port=443): Max retries exceeded with url: /v8/finance/chart/TPL?range=1d&interval=1d&crumb=bZRKxYMxddi (Caused by NewConnectionError('<urllib3.connection.HTTPSConnection object at 0x000002C3166D0D90>: Failed to establish a new connection: [Errno 11001] getaddrinfo failed'))\n",
      "\n",
      "1 Failed download:\n",
      "['TPL']: Exception('%ticker%: No timezone found, symbol may be delisted')\n"
     ]
    },
    {
     "name": "stdout",
     "output_type": "stream",
     "text": [
      "TPL\n"
     ]
    },
    {
     "name": "stderr",
     "output_type": "stream",
     "text": [
      " 89%|████████▉ | 4648/5197 [3:13:20<09:42,  1.06s/it]Failed to get ticker 'TPR' reason: HTTPSConnectionPool(host='query2.finance.yahoo.com', port=443): Max retries exceeded with url: /v8/finance/chart/TPR?range=1d&interval=1d&crumb=bZRKxYMxddi (Caused by NewConnectionError('<urllib3.connection.HTTPSConnection object at 0x000002C3166D0FD0>: Failed to establish a new connection: [Errno 11001] getaddrinfo failed'))\n",
      "\n",
      "1 Failed download:\n",
      "['TPR']: Exception('%ticker%: No timezone found, symbol may be delisted')\n"
     ]
    },
    {
     "name": "stdout",
     "output_type": "stream",
     "text": [
      "TPR\n"
     ]
    },
    {
     "name": "stderr",
     "output_type": "stream",
     "text": [
      " 89%|████████▉ | 4649/5197 [3:13:21<09:39,  1.06s/it]Failed to get ticker 'TPST' reason: HTTPSConnectionPool(host='query2.finance.yahoo.com', port=443): Max retries exceeded with url: /v8/finance/chart/TPST?range=1d&interval=1d&crumb=bZRKxYMxddi (Caused by NewConnectionError('<urllib3.connection.HTTPSConnection object at 0x000002C3166F1130>: Failed to establish a new connection: [Errno 11001] getaddrinfo failed'))\n",
      "\n",
      "1 Failed download:\n",
      "['TPST']: Exception('%ticker%: No timezone found, symbol may be delisted')\n"
     ]
    },
    {
     "name": "stdout",
     "output_type": "stream",
     "text": [
      "TPST\n"
     ]
    },
    {
     "name": "stderr",
     "output_type": "stream",
     "text": [
      " 89%|████████▉ | 4650/5197 [3:13:22<09:37,  1.06s/it]Failed to get ticker 'TPVG' reason: HTTPSConnectionPool(host='query2.finance.yahoo.com', port=443): Max retries exceeded with url: /v8/finance/chart/TPVG?range=1d&interval=1d&crumb=bZRKxYMxddi (Caused by NewConnectionError('<urllib3.connection.HTTPSConnection object at 0x000002C3166F1490>: Failed to establish a new connection: [Errno 11001] getaddrinfo failed'))\n",
      "\n",
      "1 Failed download:\n",
      "['TPVG']: Exception('%ticker%: No timezone found, symbol may be delisted')\n"
     ]
    },
    {
     "name": "stdout",
     "output_type": "stream",
     "text": [
      "TPVG\n"
     ]
    },
    {
     "name": "stderr",
     "output_type": "stream",
     "text": [
      " 89%|████████▉ | 4651/5197 [3:13:23<09:35,  1.05s/it]Failed to get ticker 'TPX' reason: HTTPSConnectionPool(host='query2.finance.yahoo.com', port=443): Max retries exceeded with url: /v8/finance/chart/TPX?range=1d&interval=1d&crumb=bZRKxYMxddi (Caused by NewConnectionError('<urllib3.connection.HTTPSConnection object at 0x000002C3166F16D0>: Failed to establish a new connection: [Errno 11001] getaddrinfo failed'))\n",
      "\n",
      "1 Failed download:\n",
      "['TPX']: Exception('%ticker%: No timezone found, symbol may be delisted')\n"
     ]
    },
    {
     "name": "stdout",
     "output_type": "stream",
     "text": [
      "TPX\n"
     ]
    },
    {
     "name": "stderr",
     "output_type": "stream",
     "text": [
      " 90%|████████▉ | 4652/5197 [3:13:25<09:31,  1.05s/it]Failed to get ticker 'TR' reason: HTTPSConnectionPool(host='query2.finance.yahoo.com', port=443): Max retries exceeded with url: /v8/finance/chart/TR?range=1d&interval=1d&crumb=bZRKxYMxddi (Caused by NewConnectionError('<urllib3.connection.HTTPSConnection object at 0x000002C3166F1910>: Failed to establish a new connection: [Errno 11001] getaddrinfo failed'))\n",
      "\n",
      "1 Failed download:\n",
      "['TR']: Exception('%ticker%: No timezone found, symbol may be delisted')\n"
     ]
    },
    {
     "name": "stdout",
     "output_type": "stream",
     "text": [
      "TR\n"
     ]
    },
    {
     "name": "stderr",
     "output_type": "stream",
     "text": [
      " 90%|████████▉ | 4653/5197 [3:13:26<09:30,  1.05s/it]Failed to get ticker 'TRAK' reason: HTTPSConnectionPool(host='query2.finance.yahoo.com', port=443): Max retries exceeded with url: /v8/finance/chart/TRAK?range=1d&interval=1d&crumb=bZRKxYMxddi (Caused by NewConnectionError('<urllib3.connection.HTTPSConnection object at 0x000002C3166F18E0>: Failed to establish a new connection: [Errno 11001] getaddrinfo failed'))\n",
      "\n",
      "1 Failed download:\n",
      "['TRAK']: Exception('%ticker%: No timezone found, symbol may be delisted')\n"
     ]
    },
    {
     "name": "stdout",
     "output_type": "stream",
     "text": [
      "TRAK\n"
     ]
    },
    {
     "name": "stderr",
     "output_type": "stream",
     "text": [
      " 90%|████████▉ | 4654/5197 [3:13:27<09:24,  1.04s/it]Failed to get ticker 'TRC' reason: HTTPSConnectionPool(host='query2.finance.yahoo.com', port=443): Max retries exceeded with url: /v8/finance/chart/TRC?range=1d&interval=1d&crumb=bZRKxYMxddi (Caused by NewConnectionError('<urllib3.connection.HTTPSConnection object at 0x000002C3166F1940>: Failed to establish a new connection: [Errno 11001] getaddrinfo failed'))\n",
      "\n",
      "1 Failed download:\n",
      "['TRC']: Exception('%ticker%: No timezone found, symbol may be delisted')\n"
     ]
    },
    {
     "name": "stdout",
     "output_type": "stream",
     "text": [
      "TRC\n"
     ]
    },
    {
     "name": "stderr",
     "output_type": "stream",
     "text": [
      " 90%|████████▉ | 4655/5197 [3:13:28<09:24,  1.04s/it]Failed to get ticker 'TRDA' reason: HTTPSConnectionPool(host='query2.finance.yahoo.com', port=443): Max retries exceeded with url: /v8/finance/chart/TRDA?range=1d&interval=1d&crumb=bZRKxYMxddi (Caused by NewConnectionError('<urllib3.connection.HTTPSConnection object at 0x000002C3166F1C70>: Failed to establish a new connection: [Errno 11001] getaddrinfo failed'))\n",
      "\n",
      "1 Failed download:\n",
      "['TRDA']: Exception('%ticker%: No timezone found, symbol may be delisted')\n"
     ]
    },
    {
     "name": "stdout",
     "output_type": "stream",
     "text": [
      "TRDA\n"
     ]
    },
    {
     "name": "stderr",
     "output_type": "stream",
     "text": [
      " 90%|████████▉ | 4656/5197 [3:13:29<09:24,  1.04s/it]Failed to get ticker 'TREE' reason: HTTPSConnectionPool(host='query2.finance.yahoo.com', port=443): Max retries exceeded with url: /v8/finance/chart/TREE?range=1d&interval=1d&crumb=bZRKxYMxddi (Caused by NewConnectionError('<urllib3.connection.HTTPSConnection object at 0x000002C3166F1E80>: Failed to establish a new connection: [Errno 11001] getaddrinfo failed'))\n",
      "\n",
      "1 Failed download:\n",
      "['TREE']: Exception('%ticker%: No timezone found, symbol may be delisted')\n"
     ]
    },
    {
     "name": "stdout",
     "output_type": "stream",
     "text": [
      "TREE\n"
     ]
    },
    {
     "name": "stderr",
     "output_type": "stream",
     "text": [
      " 90%|████████▉ | 4657/5197 [3:13:30<09:22,  1.04s/it]"
     ]
    },
    {
     "name": "stdout",
     "output_type": "stream",
     "text": [
      "TREX\n"
     ]
    },
    {
     "name": "stderr",
     "output_type": "stream",
     "text": [
      " 90%|████████▉ | 4658/5197 [3:13:33<16:05,  1.79s/it]"
     ]
    },
    {
     "name": "stdout",
     "output_type": "stream",
     "text": [
      "TRGP\n"
     ]
    },
    {
     "name": "stderr",
     "output_type": "stream",
     "text": [
      " 90%|████████▉ | 4659/5197 [3:13:35<16:36,  1.85s/it]"
     ]
    },
    {
     "name": "stdout",
     "output_type": "stream",
     "text": [
      "TRI\n"
     ]
    },
    {
     "name": "stderr",
     "output_type": "stream",
     "text": [
      " 90%|████████▉ | 4660/5197 [3:13:38<19:53,  2.22s/it]"
     ]
    },
    {
     "name": "stdout",
     "output_type": "stream",
     "text": [
      "TRIN\n"
     ]
    },
    {
     "name": "stderr",
     "output_type": "stream",
     "text": [
      " 90%|████████▉ | 4661/5197 [3:13:40<18:15,  2.04s/it]"
     ]
    },
    {
     "name": "stdout",
     "output_type": "stream",
     "text": [
      "TRIP\n"
     ]
    },
    {
     "name": "stderr",
     "output_type": "stream",
     "text": [
      " 90%|████████▉ | 4662/5197 [3:13:42<19:18,  2.16s/it]"
     ]
    },
    {
     "name": "stdout",
     "output_type": "stream",
     "text": [
      "TRIS\n"
     ]
    },
    {
     "name": "stderr",
     "output_type": "stream",
     "text": [
      " 90%|████████▉ | 4663/5197 [3:13:44<18:25,  2.07s/it]"
     ]
    },
    {
     "name": "stdout",
     "output_type": "stream",
     "text": [
      "TRMB\n"
     ]
    },
    {
     "name": "stderr",
     "output_type": "stream",
     "text": [
      " 90%|████████▉ | 4664/5197 [3:13:49<25:43,  2.90s/it]"
     ]
    },
    {
     "name": "stdout",
     "output_type": "stream",
     "text": [
      "TRMD\n"
     ]
    },
    {
     "name": "stderr",
     "output_type": "stream",
     "text": [
      " 90%|████████▉ | 4665/5197 [3:13:53<29:08,  3.29s/it]"
     ]
    },
    {
     "name": "stdout",
     "output_type": "stream",
     "text": [
      "TRMK\n"
     ]
    },
    {
     "name": "stderr",
     "output_type": "stream",
     "text": [
      " 90%|████████▉ | 4666/5197 [3:13:59<35:04,  3.96s/it]"
     ]
    },
    {
     "name": "stdout",
     "output_type": "stream",
     "text": [
      "TRML\n"
     ]
    },
    {
     "name": "stderr",
     "output_type": "stream",
     "text": [
      " 90%|████████▉ | 4667/5197 [3:14:00<28:31,  3.23s/it]"
     ]
    },
    {
     "name": "stdout",
     "output_type": "stream",
     "text": [
      "TRN\n"
     ]
    },
    {
     "name": "stderr",
     "output_type": "stream",
     "text": [
      " 90%|████████▉ | 4668/5197 [3:14:06<33:49,  3.84s/it]"
     ]
    },
    {
     "name": "stdout",
     "output_type": "stream",
     "text": [
      "TRNR\n"
     ]
    },
    {
     "name": "stderr",
     "output_type": "stream",
     "text": [
      " 90%|████████▉ | 4669/5197 [3:14:07<27:16,  3.10s/it]"
     ]
    },
    {
     "name": "stdout",
     "output_type": "stream",
     "text": [
      "TRNS\n"
     ]
    },
    {
     "name": "stderr",
     "output_type": "stream",
     "text": [
      " 90%|████████▉ | 4670/5197 [3:14:09<25:34,  2.91s/it]"
     ]
    },
    {
     "name": "stdout",
     "output_type": "stream",
     "text": [
      "TRON\n"
     ]
    },
    {
     "name": "stderr",
     "output_type": "stream",
     "text": [
      " 90%|████████▉ | 4671/5197 [3:14:11<21:44,  2.48s/it]"
     ]
    },
    {
     "name": "stdout",
     "output_type": "stream",
     "text": [
      "TROO\n"
     ]
    },
    {
     "name": "stderr",
     "output_type": "stream",
     "text": [
      " 90%|████████▉ | 4672/5197 [3:14:13<21:38,  2.47s/it]"
     ]
    },
    {
     "name": "stdout",
     "output_type": "stream",
     "text": [
      "TROW\n"
     ]
    },
    {
     "name": "stderr",
     "output_type": "stream",
     "text": [
      " 90%|████████▉ | 4673/5197 [3:14:17<25:43,  2.95s/it]"
     ]
    },
    {
     "name": "stdout",
     "output_type": "stream",
     "text": [
      "TROX\n"
     ]
    },
    {
     "name": "stderr",
     "output_type": "stream",
     "text": [
      " 90%|████████▉ | 4674/5197 [3:14:20<23:50,  2.73s/it]"
     ]
    },
    {
     "name": "stdout",
     "output_type": "stream",
     "text": [
      "TRP\n"
     ]
    },
    {
     "name": "stderr",
     "output_type": "stream",
     "text": [
      " 90%|████████▉ | 4675/5197 [3:14:23<25:33,  2.94s/it]"
     ]
    },
    {
     "name": "stdout",
     "output_type": "stream",
     "text": [
      "TRS\n"
     ]
    },
    {
     "name": "stderr",
     "output_type": "stream",
     "text": [
      " 90%|████████▉ | 4676/5197 [3:14:26<26:22,  3.04s/it]"
     ]
    },
    {
     "name": "stdout",
     "output_type": "stream",
     "text": [
      "TRST\n"
     ]
    },
    {
     "name": "stderr",
     "output_type": "stream",
     "text": [
      " 90%|████████▉ | 4677/5197 [3:14:30<26:54,  3.11s/it]"
     ]
    },
    {
     "name": "stdout",
     "output_type": "stream",
     "text": [
      "TRT\n"
     ]
    },
    {
     "name": "stderr",
     "output_type": "stream",
     "text": [
      " 90%|█████████ | 4678/5197 [3:14:33<27:03,  3.13s/it]"
     ]
    },
    {
     "name": "stdout",
     "output_type": "stream",
     "text": [
      "TRTL\n"
     ]
    },
    {
     "name": "stderr",
     "output_type": "stream",
     "text": [
      " 90%|█████████ | 4679/5197 [3:14:34<22:42,  2.63s/it]"
     ]
    },
    {
     "name": "stdout",
     "output_type": "stream",
     "text": [
      "TRTX\n"
     ]
    },
    {
     "name": "stderr",
     "output_type": "stream",
     "text": [
      " 90%|█████████ | 4680/5197 [3:14:36<20:52,  2.42s/it]"
     ]
    },
    {
     "name": "stdout",
     "output_type": "stream",
     "text": [
      "TRU\n"
     ]
    },
    {
     "name": "stderr",
     "output_type": "stream",
     "text": [
      " 90%|█████████ | 4681/5197 [3:14:40<23:08,  2.69s/it]"
     ]
    },
    {
     "name": "stdout",
     "output_type": "stream",
     "text": [
      "TRUE\n"
     ]
    },
    {
     "name": "stderr",
     "output_type": "stream",
     "text": [
      " 90%|█████████ | 4682/5197 [3:14:42<22:03,  2.57s/it]"
     ]
    },
    {
     "name": "stdout",
     "output_type": "stream",
     "text": [
      "TRUG\n"
     ]
    },
    {
     "name": "stderr",
     "output_type": "stream",
     "text": [
      " 90%|█████████ | 4683/5197 [3:14:43<18:56,  2.21s/it]"
     ]
    },
    {
     "name": "stdout",
     "output_type": "stream",
     "text": [
      "TRUP\n"
     ]
    },
    {
     "name": "stderr",
     "output_type": "stream",
     "text": [
      " 90%|█████████ | 4684/5197 [3:14:46<20:31,  2.40s/it]"
     ]
    },
    {
     "name": "stdout",
     "output_type": "stream",
     "text": [
      "TRV\n"
     ]
    },
    {
     "name": "stderr",
     "output_type": "stream",
     "text": [
      " 90%|█████████ | 4685/5197 [3:14:51<28:01,  3.28s/it]"
     ]
    },
    {
     "name": "stdout",
     "output_type": "stream",
     "text": [
      "TRVI\n"
     ]
    },
    {
     "name": "stderr",
     "output_type": "stream",
     "text": [
      " 90%|█████████ | 4686/5197 [3:14:53<24:35,  2.89s/it]"
     ]
    },
    {
     "name": "stdout",
     "output_type": "stream",
     "text": [
      "TRVN\n"
     ]
    },
    {
     "name": "stderr",
     "output_type": "stream",
     "text": [
      " 90%|█████████ | 4687/5197 [3:14:55<21:41,  2.55s/it]"
     ]
    },
    {
     "name": "stdout",
     "output_type": "stream",
     "text": [
      "TRX\n"
     ]
    },
    {
     "name": "stderr",
     "output_type": "stream",
     "text": [
      " 90%|█████████ | 4688/5197 [3:14:58<22:01,  2.60s/it]"
     ]
    },
    {
     "name": "stdout",
     "output_type": "stream",
     "text": [
      "TSAT\n"
     ]
    },
    {
     "name": "stderr",
     "output_type": "stream",
     "text": [
      " 90%|█████████ | 4689/5197 [3:15:00<21:28,  2.54s/it]"
     ]
    },
    {
     "name": "stdout",
     "output_type": "stream",
     "text": [
      "TSBK\n"
     ]
    },
    {
     "name": "stderr",
     "output_type": "stream",
     "text": [
      " 90%|█████████ | 4690/5197 [3:15:03<22:41,  2.69s/it]"
     ]
    },
    {
     "name": "stdout",
     "output_type": "stream",
     "text": [
      "TSBX\n"
     ]
    },
    {
     "name": "stderr",
     "output_type": "stream",
     "text": [
      " 90%|█████████ | 4691/5197 [3:15:05<19:12,  2.28s/it]"
     ]
    },
    {
     "name": "stdout",
     "output_type": "stream",
     "text": [
      "TSCO\n"
     ]
    },
    {
     "name": "stderr",
     "output_type": "stream",
     "text": [
      " 90%|█████████ | 4692/5197 [3:15:09<23:35,  2.80s/it]"
     ]
    },
    {
     "name": "stdout",
     "output_type": "stream",
     "text": [
      "TSE\n"
     ]
    },
    {
     "name": "stderr",
     "output_type": "stream",
     "text": [
      " 90%|█████████ | 4693/5197 [3:15:11<22:34,  2.69s/it]"
     ]
    },
    {
     "name": "stdout",
     "output_type": "stream",
     "text": [
      "TSEM\n"
     ]
    },
    {
     "name": "stderr",
     "output_type": "stream",
     "text": [
      " 90%|█████████ | 4694/5197 [3:15:14<24:27,  2.92s/it]"
     ]
    },
    {
     "name": "stdout",
     "output_type": "stream",
     "text": [
      "TSHA\n"
     ]
    },
    {
     "name": "stderr",
     "output_type": "stream",
     "text": [
      " 90%|█████████ | 4695/5197 [3:15:17<22:48,  2.73s/it]"
     ]
    },
    {
     "name": "stdout",
     "output_type": "stream",
     "text": [
      "TSLA\n"
     ]
    },
    {
     "name": "stderr",
     "output_type": "stream",
     "text": [
      " 90%|█████████ | 4696/5197 [3:15:20<25:13,  3.02s/it]"
     ]
    },
    {
     "name": "stdout",
     "output_type": "stream",
     "text": [
      "TSLX\n"
     ]
    },
    {
     "name": "stderr",
     "output_type": "stream",
     "text": [
      " 90%|█████████ | 4697/5197 [3:15:23<24:15,  2.91s/it]"
     ]
    },
    {
     "name": "stdout",
     "output_type": "stream",
     "text": [
      "TSN\n"
     ]
    },
    {
     "name": "stderr",
     "output_type": "stream",
     "text": [
      " 90%|█████████ | 4698/5197 [3:15:28<28:18,  3.40s/it]"
     ]
    },
    {
     "name": "stdout",
     "output_type": "stream",
     "text": [
      "TSQ\n"
     ]
    },
    {
     "name": "stderr",
     "output_type": "stream",
     "text": [
      " 90%|█████████ | 4699/5197 [3:15:31<27:12,  3.28s/it]"
     ]
    },
    {
     "name": "stdout",
     "output_type": "stream",
     "text": [
      "TSRI\n"
     ]
    },
    {
     "name": "stderr",
     "output_type": "stream",
     "text": [
      " 90%|█████████ | 4700/5197 [3:15:35<28:54,  3.49s/it]"
     ]
    },
    {
     "name": "stdout",
     "output_type": "stream",
     "text": [
      "TSVT\n"
     ]
    },
    {
     "name": "stderr",
     "output_type": "stream",
     "text": [
      " 90%|█████████ | 4701/5197 [3:15:36<24:24,  2.95s/it]"
     ]
    },
    {
     "name": "stdout",
     "output_type": "stream",
     "text": [
      "TT\n"
     ]
    },
    {
     "name": "stderr",
     "output_type": "stream",
     "text": [
      " 90%|█████████ | 4702/5197 [3:15:43<32:20,  3.92s/it]"
     ]
    },
    {
     "name": "stdout",
     "output_type": "stream",
     "text": [
      "TTC\n"
     ]
    },
    {
     "name": "stderr",
     "output_type": "stream",
     "text": [
      " 90%|█████████ | 4703/5197 [3:15:47<33:37,  4.08s/it]"
     ]
    },
    {
     "name": "stdout",
     "output_type": "stream",
     "text": [
      "TTD\n"
     ]
    },
    {
     "name": "stderr",
     "output_type": "stream",
     "text": [
      " 91%|█████████ | 4704/5197 [3:15:49<28:36,  3.48s/it]"
     ]
    },
    {
     "name": "stdout",
     "output_type": "stream",
     "text": [
      "TTEC\n"
     ]
    },
    {
     "name": "stderr",
     "output_type": "stream",
     "text": [
      " 91%|█████████ | 4705/5197 [3:15:54<32:09,  3.92s/it]"
     ]
    },
    {
     "name": "stdout",
     "output_type": "stream",
     "text": [
      "TTEK\n"
     ]
    },
    {
     "name": "stderr",
     "output_type": "stream",
     "text": [
      " 91%|█████████ | 4706/5197 [3:16:00<36:12,  4.42s/it]"
     ]
    },
    {
     "name": "stdout",
     "output_type": "stream",
     "text": [
      "TTGT\n"
     ]
    },
    {
     "name": "stderr",
     "output_type": "stream",
     "text": [
      " 91%|█████████ | 4707/5197 [3:16:02<30:22,  3.72s/it]"
     ]
    },
    {
     "name": "stdout",
     "output_type": "stream",
     "text": [
      "TTI\n"
     ]
    },
    {
     "name": "stderr",
     "output_type": "stream",
     "text": [
      " 91%|█████████ | 4708/5197 [3:16:05<28:53,  3.55s/it]"
     ]
    },
    {
     "name": "stdout",
     "output_type": "stream",
     "text": [
      "TTMI\n"
     ]
    },
    {
     "name": "stderr",
     "output_type": "stream",
     "text": [
      " 91%|█████████ | 4709/5197 [3:16:08<26:56,  3.31s/it]"
     ]
    },
    {
     "name": "stdout",
     "output_type": "stream",
     "text": [
      "TTNP\n"
     ]
    },
    {
     "name": "stderr",
     "output_type": "stream",
     "text": [
      " 91%|█████████ | 4710/5197 [3:16:10<24:56,  3.07s/it]"
     ]
    },
    {
     "name": "stdout",
     "output_type": "stream",
     "text": [
      "TTOO\n"
     ]
    },
    {
     "name": "stderr",
     "output_type": "stream",
     "text": [
      " 91%|█████████ | 4711/5197 [3:16:12<21:18,  2.63s/it]"
     ]
    },
    {
     "name": "stdout",
     "output_type": "stream",
     "text": [
      "TTSH\n"
     ]
    },
    {
     "name": "stderr",
     "output_type": "stream",
     "text": [
      " 91%|█████████ | 4712/5197 [3:16:14<19:22,  2.40s/it]"
     ]
    },
    {
     "name": "stdout",
     "output_type": "stream",
     "text": [
      "TTWO\n"
     ]
    },
    {
     "name": "stderr",
     "output_type": "stream",
     "text": [
      " 91%|█████████ | 4713/5197 [3:16:18<24:09,  3.00s/it]"
     ]
    },
    {
     "name": "stdout",
     "output_type": "stream",
     "text": [
      "TU\n"
     ]
    },
    {
     "name": "stderr",
     "output_type": "stream",
     "text": [
      " 91%|█████████ | 4714/5197 [3:16:23<28:25,  3.53s/it]"
     ]
    },
    {
     "name": "stdout",
     "output_type": "stream",
     "text": [
      "TUP\n"
     ]
    },
    {
     "name": "stderr",
     "output_type": "stream",
     "text": [
      " 91%|█████████ | 4715/5197 [3:16:26<26:55,  3.35s/it]"
     ]
    },
    {
     "name": "stdout",
     "output_type": "stream",
     "text": [
      "TURN\n"
     ]
    },
    {
     "name": "stderr",
     "output_type": "stream",
     "text": [
      " 91%|█████████ | 4716/5197 [3:16:29<25:57,  3.24s/it]"
     ]
    },
    {
     "name": "stdout",
     "output_type": "stream",
     "text": [
      "TUSK\n"
     ]
    },
    {
     "name": "stderr",
     "output_type": "stream",
     "text": [
      " 91%|█████████ | 4717/5197 [3:16:31<22:39,  2.83s/it]"
     ]
    },
    {
     "name": "stdout",
     "output_type": "stream",
     "text": [
      "TVGN\n"
     ]
    },
    {
     "name": "stderr",
     "output_type": "stream",
     "text": [
      " 91%|█████████ | 4718/5197 [3:16:32<19:11,  2.40s/it]"
     ]
    },
    {
     "name": "stdout",
     "output_type": "stream",
     "text": [
      "TVTX\n"
     ]
    },
    {
     "name": "stderr",
     "output_type": "stream",
     "text": [
      " 91%|█████████ | 4719/5197 [3:16:34<18:00,  2.26s/it]"
     ]
    },
    {
     "name": "stdout",
     "output_type": "stream",
     "text": [
      "TW\n"
     ]
    },
    {
     "name": "stderr",
     "output_type": "stream",
     "text": [
      " 91%|█████████ | 4720/5197 [3:16:36<17:48,  2.24s/it]"
     ]
    },
    {
     "name": "stdout",
     "output_type": "stream",
     "text": [
      "TWI\n"
     ]
    },
    {
     "name": "stderr",
     "output_type": "stream",
     "text": [
      " 91%|█████████ | 4721/5197 [3:16:40<22:42,  2.86s/it]"
     ]
    },
    {
     "name": "stdout",
     "output_type": "stream",
     "text": [
      "TWIN\n"
     ]
    },
    {
     "name": "stderr",
     "output_type": "stream",
     "text": [
      " 91%|█████████ | 4722/5197 [3:16:43<23:11,  2.93s/it]"
     ]
    },
    {
     "name": "stdout",
     "output_type": "stream",
     "text": [
      "TWKS\n"
     ]
    },
    {
     "name": "stderr",
     "output_type": "stream",
     "text": [
      " 91%|█████████ | 4723/5197 [3:16:45<19:44,  2.50s/it]"
     ]
    },
    {
     "name": "stdout",
     "output_type": "stream",
     "text": [
      "TWLO\n"
     ]
    },
    {
     "name": "stderr",
     "output_type": "stream",
     "text": [
      " 91%|█████████ | 4724/5197 [3:16:46<17:28,  2.22s/it]"
     ]
    },
    {
     "name": "stdout",
     "output_type": "stream",
     "text": [
      "TWLV\n"
     ]
    },
    {
     "name": "stderr",
     "output_type": "stream",
     "text": [
      " 91%|█████████ | 4725/5197 [3:16:48<15:28,  1.97s/it]"
     ]
    },
    {
     "name": "stdout",
     "output_type": "stream",
     "text": [
      "TWO\n"
     ]
    },
    {
     "name": "stderr",
     "output_type": "stream",
     "text": [
      " 91%|█████████ | 4726/5197 [3:16:50<16:00,  2.04s/it]"
     ]
    },
    {
     "name": "stdout",
     "output_type": "stream",
     "text": [
      "TWOA\n"
     ]
    },
    {
     "name": "stderr",
     "output_type": "stream",
     "text": [
      " 91%|█████████ | 4727/5197 [3:16:51<14:30,  1.85s/it]"
     ]
    },
    {
     "name": "stdout",
     "output_type": "stream",
     "text": [
      "TWOU\n"
     ]
    },
    {
     "name": "stderr",
     "output_type": "stream",
     "text": [
      " 91%|█████████ | 4728/5197 [3:16:54<17:04,  2.18s/it]"
     ]
    },
    {
     "name": "stdout",
     "output_type": "stream",
     "text": [
      "TWST\n"
     ]
    },
    {
     "name": "stderr",
     "output_type": "stream",
     "text": [
      " 91%|█████████ | 4729/5197 [3:16:56<16:11,  2.08s/it]"
     ]
    },
    {
     "name": "stdout",
     "output_type": "stream",
     "text": [
      "TXG\n"
     ]
    },
    {
     "name": "stderr",
     "output_type": "stream",
     "text": [
      " 91%|█████████ | 4730/5197 [3:16:58<15:03,  1.94s/it]"
     ]
    },
    {
     "name": "stdout",
     "output_type": "stream",
     "text": [
      "TXMD\n"
     ]
    },
    {
     "name": "stderr",
     "output_type": "stream",
     "text": [
      " 91%|█████████ | 4731/5197 [3:17:00<15:03,  1.94s/it]"
     ]
    },
    {
     "name": "stdout",
     "output_type": "stream",
     "text": [
      "TXN\n"
     ]
    },
    {
     "name": "stderr",
     "output_type": "stream",
     "text": [
      " 91%|█████████ | 4732/5197 [3:17:05<21:38,  2.79s/it]"
     ]
    },
    {
     "name": "stdout",
     "output_type": "stream",
     "text": [
      "TXRH\n"
     ]
    },
    {
     "name": "stderr",
     "output_type": "stream",
     "text": [
      " 91%|█████████ | 4733/5197 [3:17:07<21:30,  2.78s/it]"
     ]
    },
    {
     "name": "stdout",
     "output_type": "stream",
     "text": [
      "TXT\n"
     ]
    },
    {
     "name": "stderr",
     "output_type": "stream",
     "text": [
      " 91%|█████████ | 4734/5197 [3:17:12<25:58,  3.37s/it]"
     ]
    },
    {
     "name": "stdout",
     "output_type": "stream",
     "text": [
      "TYGO\n"
     ]
    },
    {
     "name": "stderr",
     "output_type": "stream",
     "text": [
      " 91%|█████████ | 4735/5197 [3:17:14<21:29,  2.79s/it]"
     ]
    },
    {
     "name": "stdout",
     "output_type": "stream",
     "text": [
      "TYL\n"
     ]
    },
    {
     "name": "stderr",
     "output_type": "stream",
     "text": [
      " 91%|█████████ | 4736/5197 [3:17:17<23:01,  3.00s/it]"
     ]
    },
    {
     "name": "stdout",
     "output_type": "stream",
     "text": [
      "TYRA\n"
     ]
    },
    {
     "name": "stderr",
     "output_type": "stream",
     "text": [
      " 91%|█████████ | 4737/5197 [3:17:18<19:27,  2.54s/it]"
     ]
    },
    {
     "name": "stdout",
     "output_type": "stream",
     "text": [
      "TZOO\n"
     ]
    },
    {
     "name": "stderr",
     "output_type": "stream",
     "text": [
      " 91%|█████████ | 4738/5197 [3:17:21<19:54,  2.60s/it]"
     ]
    },
    {
     "name": "stdout",
     "output_type": "stream",
     "text": [
      "U\n"
     ]
    },
    {
     "name": "stderr",
     "output_type": "stream",
     "text": [
      " 91%|█████████ | 4739/5197 [3:17:23<17:27,  2.29s/it]"
     ]
    },
    {
     "name": "stdout",
     "output_type": "stream",
     "text": [
      "UA\n"
     ]
    },
    {
     "name": "stderr",
     "output_type": "stream",
     "text": [
      " 91%|█████████ | 4740/5197 [3:17:25<16:46,  2.20s/it]"
     ]
    },
    {
     "name": "stdout",
     "output_type": "stream",
     "text": [
      "UAA\n"
     ]
    },
    {
     "name": "stderr",
     "output_type": "stream",
     "text": [
      " 91%|█████████ | 4741/5197 [3:17:27<16:24,  2.16s/it]"
     ]
    },
    {
     "name": "stdout",
     "output_type": "stream",
     "text": [
      "UAL\n"
     ]
    },
    {
     "name": "stderr",
     "output_type": "stream",
     "text": [
      " 91%|█████████ | 4742/5197 [3:17:29<15:44,  2.08s/it]"
     ]
    },
    {
     "name": "stdout",
     "output_type": "stream",
     "text": [
      "UAMY\n"
     ]
    },
    {
     "name": "stderr",
     "output_type": "stream",
     "text": [
      " 91%|█████████▏| 4743/5197 [3:17:31<15:36,  2.06s/it]"
     ]
    },
    {
     "name": "stdout",
     "output_type": "stream",
     "text": [
      "UAVS\n"
     ]
    },
    {
     "name": "stderr",
     "output_type": "stream",
     "text": [
      " 91%|█████████▏| 4744/5197 [3:17:33<15:35,  2.06s/it]"
     ]
    },
    {
     "name": "stdout",
     "output_type": "stream",
     "text": [
      "UBCP\n"
     ]
    },
    {
     "name": "stderr",
     "output_type": "stream",
     "text": [
      " 91%|█████████▏| 4745/5197 [3:17:36<17:24,  2.31s/it]"
     ]
    },
    {
     "name": "stdout",
     "output_type": "stream",
     "text": [
      "UBER\n"
     ]
    },
    {
     "name": "stderr",
     "output_type": "stream",
     "text": [
      " 91%|█████████▏| 4746/5197 [3:17:37<16:00,  2.13s/it]"
     ]
    },
    {
     "name": "stdout",
     "output_type": "stream",
     "text": [
      "UBFO\n"
     ]
    },
    {
     "name": "stderr",
     "output_type": "stream",
     "text": [
      " 91%|█████████▏| 4747/5197 [3:17:40<17:16,  2.30s/it]"
     ]
    },
    {
     "name": "stdout",
     "output_type": "stream",
     "text": [
      "UBS\n"
     ]
    },
    {
     "name": "stderr",
     "output_type": "stream",
     "text": [
      " 91%|█████████▏| 4748/5197 [3:17:43<18:08,  2.42s/it]"
     ]
    },
    {
     "name": "stdout",
     "output_type": "stream",
     "text": [
      "UBSI\n"
     ]
    },
    {
     "name": "stderr",
     "output_type": "stream",
     "text": [
      " 91%|█████████▏| 4749/5197 [3:17:46<20:32,  2.75s/it]"
     ]
    },
    {
     "name": "stdout",
     "output_type": "stream",
     "text": [
      "UBX\n"
     ]
    },
    {
     "name": "stderr",
     "output_type": "stream",
     "text": [
      " 91%|█████████▏| 4750/5197 [3:17:48<17:49,  2.39s/it]"
     ]
    },
    {
     "name": "stdout",
     "output_type": "stream",
     "text": [
      "UCAR\n"
     ]
    },
    {
     "name": "stderr",
     "output_type": "stream",
     "text": [
      " 91%|█████████▏| 4751/5197 [3:17:49<15:44,  2.12s/it]"
     ]
    },
    {
     "name": "stdout",
     "output_type": "stream",
     "text": [
      "UCBI\n"
     ]
    },
    {
     "name": "stderr",
     "output_type": "stream",
     "text": [
      " 91%|█████████▏| 4752/5197 [3:17:53<19:19,  2.61s/it]"
     ]
    },
    {
     "name": "stdout",
     "output_type": "stream",
     "text": [
      "UCL\n"
     ]
    },
    {
     "name": "stderr",
     "output_type": "stream",
     "text": [
      " 91%|█████████▏| 4753/5197 [3:17:55<16:53,  2.28s/it]"
     ]
    },
    {
     "name": "stdout",
     "output_type": "stream",
     "text": [
      "UCTT\n"
     ]
    },
    {
     "name": "stderr",
     "output_type": "stream",
     "text": [
      " 91%|█████████▏| 4754/5197 [3:17:57<17:31,  2.37s/it]"
     ]
    },
    {
     "name": "stdout",
     "output_type": "stream",
     "text": [
      "UDMY\n"
     ]
    },
    {
     "name": "stderr",
     "output_type": "stream",
     "text": [
      " 91%|█████████▏| 4755/5197 [3:17:59<15:22,  2.09s/it]"
     ]
    },
    {
     "name": "stdout",
     "output_type": "stream",
     "text": [
      "UDR\n"
     ]
    },
    {
     "name": "stderr",
     "output_type": "stream",
     "text": [
      " 92%|█████████▏| 4756/5197 [3:18:02<17:31,  2.38s/it]"
     ]
    },
    {
     "name": "stdout",
     "output_type": "stream",
     "text": [
      "UE\n"
     ]
    },
    {
     "name": "stderr",
     "output_type": "stream",
     "text": [
      " 92%|█████████▏| 4757/5197 [3:18:04<16:18,  2.22s/it]"
     ]
    },
    {
     "name": "stdout",
     "output_type": "stream",
     "text": [
      "UEC\n"
     ]
    },
    {
     "name": "stderr",
     "output_type": "stream",
     "text": [
      " 92%|█████████▏| 4758/5197 [3:18:06<15:37,  2.14s/it]"
     ]
    },
    {
     "name": "stdout",
     "output_type": "stream",
     "text": [
      "UEIC\n"
     ]
    },
    {
     "name": "stderr",
     "output_type": "stream",
     "text": [
      " 92%|█████████▏| 4759/5197 [3:18:09<18:07,  2.48s/it]"
     ]
    },
    {
     "name": "stdout",
     "output_type": "stream",
     "text": [
      "UFCS\n"
     ]
    },
    {
     "name": "stderr",
     "output_type": "stream",
     "text": [
      " 92%|█████████▏| 4760/5197 [3:18:12<19:15,  2.64s/it]"
     ]
    },
    {
     "name": "stdout",
     "output_type": "stream",
     "text": [
      "UFI\n"
     ]
    },
    {
     "name": "stderr",
     "output_type": "stream",
     "text": [
      " 92%|█████████▏| 4761/5197 [3:18:15<20:49,  2.87s/it]"
     ]
    },
    {
     "name": "stdout",
     "output_type": "stream",
     "text": [
      "UFPI\n"
     ]
    },
    {
     "name": "stderr",
     "output_type": "stream",
     "text": [
      " 92%|█████████▏| 4762/5197 [3:18:18<19:47,  2.73s/it]"
     ]
    },
    {
     "name": "stdout",
     "output_type": "stream",
     "text": [
      "UFPT\n"
     ]
    },
    {
     "name": "stderr",
     "output_type": "stream",
     "text": [
      " 92%|█████████▏| 4763/5197 [3:18:20<18:59,  2.63s/it]"
     ]
    },
    {
     "name": "stdout",
     "output_type": "stream",
     "text": [
      "UGI\n"
     ]
    },
    {
     "name": "stderr",
     "output_type": "stream",
     "text": [
      " 92%|█████████▏| 4764/5197 [3:18:24<21:08,  2.93s/it]"
     ]
    },
    {
     "name": "stdout",
     "output_type": "stream",
     "text": [
      "UGRO\n"
     ]
    },
    {
     "name": "stderr",
     "output_type": "stream",
     "text": [
      " 92%|█████████▏| 4765/5197 [3:18:25<18:20,  2.55s/it]"
     ]
    },
    {
     "name": "stdout",
     "output_type": "stream",
     "text": [
      "UHAL\n"
     ]
    },
    {
     "name": "stderr",
     "output_type": "stream",
     "text": [
      " 92%|█████████▏| 4766/5197 [3:18:29<20:39,  2.88s/it]\n",
      "1 Failed download:\n",
      "['UHALB']: Exception('%ticker%: No timezone found, symbol may be delisted')\n"
     ]
    },
    {
     "name": "stdout",
     "output_type": "stream",
     "text": [
      "UHALb\n"
     ]
    },
    {
     "name": "stderr",
     "output_type": "stream",
     "text": [
      " 92%|█████████▏| 4767/5197 [3:18:31<18:36,  2.60s/it]"
     ]
    },
    {
     "name": "stdout",
     "output_type": "stream",
     "text": [
      "UHG\n"
     ]
    },
    {
     "name": "stderr",
     "output_type": "stream",
     "text": [
      " 92%|█████████▏| 4768/5197 [3:18:32<16:00,  2.24s/it]"
     ]
    },
    {
     "name": "stdout",
     "output_type": "stream",
     "text": [
      "UHS\n"
     ]
    },
    {
     "name": "stderr",
     "output_type": "stream",
     "text": [
      " 92%|█████████▏| 4769/5197 [3:18:36<19:06,  2.68s/it]"
     ]
    },
    {
     "name": "stdout",
     "output_type": "stream",
     "text": [
      "UI\n"
     ]
    },
    {
     "name": "stderr",
     "output_type": "stream",
     "text": [
      " 92%|█████████▏| 4770/5197 [3:18:38<18:02,  2.53s/it]"
     ]
    },
    {
     "name": "stdout",
     "output_type": "stream",
     "text": [
      "UIS\n"
     ]
    },
    {
     "name": "stderr",
     "output_type": "stream",
     "text": [
      " 92%|█████████▏| 4771/5197 [3:18:41<18:59,  2.67s/it]"
     ]
    },
    {
     "name": "stdout",
     "output_type": "stream",
     "text": [
      "UK\n"
     ]
    },
    {
     "name": "stderr",
     "output_type": "stream",
     "text": [
      " 92%|█████████▏| 4772/5197 [3:18:43<16:28,  2.33s/it]"
     ]
    },
    {
     "name": "stdout",
     "output_type": "stream",
     "text": [
      "ULBI\n"
     ]
    },
    {
     "name": "stderr",
     "output_type": "stream",
     "text": [
      " 92%|█████████▏| 4773/5197 [3:18:45<16:20,  2.31s/it]"
     ]
    },
    {
     "name": "stdout",
     "output_type": "stream",
     "text": [
      "ULCC\n"
     ]
    },
    {
     "name": "stderr",
     "output_type": "stream",
     "text": [
      " 92%|█████████▏| 4774/5197 [3:18:47<14:47,  2.10s/it]"
     ]
    },
    {
     "name": "stdout",
     "output_type": "stream",
     "text": [
      "ULH\n"
     ]
    },
    {
     "name": "stderr",
     "output_type": "stream",
     "text": [
      " 92%|█████████▏| 4775/5197 [3:18:49<15:41,  2.23s/it]"
     ]
    },
    {
     "name": "stdout",
     "output_type": "stream",
     "text": [
      "ULTA\n"
     ]
    },
    {
     "name": "stderr",
     "output_type": "stream",
     "text": [
      " 92%|█████████▏| 4776/5197 [3:18:51<15:42,  2.24s/it]"
     ]
    },
    {
     "name": "stdout",
     "output_type": "stream",
     "text": [
      "ULY\n"
     ]
    },
    {
     "name": "stderr",
     "output_type": "stream",
     "text": [
      " 92%|█████████▏| 4777/5197 [3:18:53<13:44,  1.96s/it]"
     ]
    },
    {
     "name": "stdout",
     "output_type": "stream",
     "text": [
      "UMAC\n"
     ]
    },
    {
     "name": "stderr",
     "output_type": "stream",
     "text": [
      " 92%|█████████▏| 4778/5197 [3:18:54<12:18,  1.76s/it]"
     ]
    },
    {
     "name": "stdout",
     "output_type": "stream",
     "text": [
      "UMBF\n"
     ]
    },
    {
     "name": "stderr",
     "output_type": "stream",
     "text": [
      " 92%|█████████▏| 4779/5197 [3:18:58<17:23,  2.50s/it]"
     ]
    },
    {
     "name": "stdout",
     "output_type": "stream",
     "text": [
      "UMH\n"
     ]
    },
    {
     "name": "stderr",
     "output_type": "stream",
     "text": [
      " 92%|█████████▏| 4780/5197 [3:19:02<20:46,  2.99s/it]"
     ]
    },
    {
     "name": "stdout",
     "output_type": "stream",
     "text": [
      "UNB\n"
     ]
    },
    {
     "name": "stderr",
     "output_type": "stream",
     "text": [
      " 92%|█████████▏| 4781/5197 [3:19:04<18:43,  2.70s/it]"
     ]
    },
    {
     "name": "stdout",
     "output_type": "stream",
     "text": [
      "UNCY\n"
     ]
    },
    {
     "name": "stderr",
     "output_type": "stream",
     "text": [
      " 92%|█████████▏| 4782/5197 [3:19:06<16:06,  2.33s/it]"
     ]
    },
    {
     "name": "stdout",
     "output_type": "stream",
     "text": [
      "UNF\n"
     ]
    },
    {
     "name": "stderr",
     "output_type": "stream",
     "text": [
      " 92%|█████████▏| 4783/5197 [3:19:09<17:48,  2.58s/it]"
     ]
    },
    {
     "name": "stdout",
     "output_type": "stream",
     "text": [
      "UNFI\n"
     ]
    },
    {
     "name": "stderr",
     "output_type": "stream",
     "text": [
      " 92%|█████████▏| 4784/5197 [3:19:12<19:12,  2.79s/it]"
     ]
    },
    {
     "name": "stdout",
     "output_type": "stream",
     "text": [
      "UNH\n"
     ]
    },
    {
     "name": "stderr",
     "output_type": "stream",
     "text": [
      " 92%|█████████▏| 4785/5197 [3:19:15<19:29,  2.84s/it]"
     ]
    },
    {
     "name": "stdout",
     "output_type": "stream",
     "text": [
      "UNIT\n"
     ]
    },
    {
     "name": "stderr",
     "output_type": "stream",
     "text": [
      " 92%|█████████▏| 4786/5197 [3:19:17<17:04,  2.49s/it]"
     ]
    },
    {
     "name": "stdout",
     "output_type": "stream",
     "text": [
      "UNM\n"
     ]
    },
    {
     "name": "stderr",
     "output_type": "stream",
     "text": [
      " 92%|█████████▏| 4787/5197 [3:19:21<19:57,  2.92s/it]"
     ]
    },
    {
     "name": "stdout",
     "output_type": "stream",
     "text": [
      "UNP\n"
     ]
    },
    {
     "name": "stderr",
     "output_type": "stream",
     "text": [
      " 92%|█████████▏| 4788/5197 [3:19:24<21:21,  3.13s/it]"
     ]
    },
    {
     "name": "stdout",
     "output_type": "stream",
     "text": [
      "UNTY\n"
     ]
    },
    {
     "name": "stderr",
     "output_type": "stream",
     "text": [
      " 92%|█████████▏| 4789/5197 [3:19:27<20:17,  2.98s/it]"
     ]
    },
    {
     "name": "stdout",
     "output_type": "stream",
     "text": [
      "UONE\n"
     ]
    },
    {
     "name": "stderr",
     "output_type": "stream",
     "text": [
      " 92%|█████████▏| 4790/5197 [3:19:30<20:09,  2.97s/it]"
     ]
    },
    {
     "name": "stdout",
     "output_type": "stream",
     "text": [
      "UONEK\n"
     ]
    },
    {
     "name": "stderr",
     "output_type": "stream",
     "text": [
      " 92%|█████████▏| 4791/5197 [3:19:33<19:49,  2.93s/it]"
     ]
    },
    {
     "name": "stdout",
     "output_type": "stream",
     "text": [
      "UP\n"
     ]
    },
    {
     "name": "stderr",
     "output_type": "stream",
     "text": [
      " 92%|█████████▏| 4792/5197 [3:19:35<17:15,  2.56s/it]"
     ]
    },
    {
     "name": "stdout",
     "output_type": "stream",
     "text": [
      "UPBD\n"
     ]
    },
    {
     "name": "stderr",
     "output_type": "stream",
     "text": [
      " 92%|█████████▏| 4793/5197 [3:19:37<17:51,  2.65s/it]"
     ]
    },
    {
     "name": "stdout",
     "output_type": "stream",
     "text": [
      "UPC\n"
     ]
    },
    {
     "name": "stderr",
     "output_type": "stream",
     "text": [
      " 92%|█████████▏| 4794/5197 [3:19:39<15:29,  2.31s/it]"
     ]
    },
    {
     "name": "stdout",
     "output_type": "stream",
     "text": [
      "UPLD\n"
     ]
    },
    {
     "name": "stderr",
     "output_type": "stream",
     "text": [
      " 92%|█████████▏| 4795/5197 [3:19:41<14:20,  2.14s/it]"
     ]
    },
    {
     "name": "stdout",
     "output_type": "stream",
     "text": [
      "UPS\n"
     ]
    },
    {
     "name": "stderr",
     "output_type": "stream",
     "text": [
      " 92%|█████████▏| 4796/5197 [3:19:44<17:12,  2.57s/it]"
     ]
    },
    {
     "name": "stdout",
     "output_type": "stream",
     "text": [
      "UPST\n"
     ]
    },
    {
     "name": "stderr",
     "output_type": "stream",
     "text": [
      " 92%|█████████▏| 4797/5197 [3:19:46<14:57,  2.24s/it]"
     ]
    },
    {
     "name": "stdout",
     "output_type": "stream",
     "text": [
      "UPWK\n"
     ]
    },
    {
     "name": "stderr",
     "output_type": "stream",
     "text": [
      " 92%|█████████▏| 4798/5197 [3:19:47<13:33,  2.04s/it]"
     ]
    },
    {
     "name": "stdout",
     "output_type": "stream",
     "text": [
      "UPXI\n"
     ]
    },
    {
     "name": "stderr",
     "output_type": "stream",
     "text": [
      " 92%|█████████▏| 4799/5197 [3:19:49<12:34,  1.89s/it]"
     ]
    },
    {
     "name": "stdout",
     "output_type": "stream",
     "text": [
      "URBN\n"
     ]
    },
    {
     "name": "stderr",
     "output_type": "stream",
     "text": [
      " 92%|█████████▏| 4800/5197 [3:19:51<13:56,  2.11s/it]"
     ]
    },
    {
     "name": "stdout",
     "output_type": "stream",
     "text": [
      "URG\n"
     ]
    },
    {
     "name": "stderr",
     "output_type": "stream",
     "text": [
      " 92%|█████████▏| 4801/5197 [3:19:53<13:42,  2.08s/it]"
     ]
    },
    {
     "name": "stdout",
     "output_type": "stream",
     "text": [
      "URGN\n"
     ]
    },
    {
     "name": "stderr",
     "output_type": "stream",
     "text": [
      " 92%|█████████▏| 4802/5197 [3:19:55<13:13,  2.01s/it]"
     ]
    },
    {
     "name": "stdout",
     "output_type": "stream",
     "text": [
      "URI\n"
     ]
    },
    {
     "name": "stderr",
     "output_type": "stream",
     "text": [
      " 92%|█████████▏| 4803/5197 [3:19:59<15:31,  2.36s/it]"
     ]
    },
    {
     "name": "stdout",
     "output_type": "stream",
     "text": [
      "UROY\n"
     ]
    },
    {
     "name": "stderr",
     "output_type": "stream",
     "text": [
      " 92%|█████████▏| 4804/5197 [3:20:00<13:36,  2.08s/it]"
     ]
    },
    {
     "name": "stdout",
     "output_type": "stream",
     "text": [
      "USAP\n"
     ]
    },
    {
     "name": "stderr",
     "output_type": "stream",
     "text": [
      " 92%|█████████▏| 4805/5197 [3:20:03<15:05,  2.31s/it]"
     ]
    },
    {
     "name": "stdout",
     "output_type": "stream",
     "text": [
      "USAS\n"
     ]
    },
    {
     "name": "stderr",
     "output_type": "stream",
     "text": [
      " 92%|█████████▏| 4806/5197 [3:20:06<15:57,  2.45s/it]"
     ]
    },
    {
     "name": "stdout",
     "output_type": "stream",
     "text": [
      "USAU\n"
     ]
    },
    {
     "name": "stderr",
     "output_type": "stream",
     "text": [
      " 92%|█████████▏| 4807/5197 [3:20:09<18:35,  2.86s/it]"
     ]
    },
    {
     "name": "stdout",
     "output_type": "stream",
     "text": [
      "USB\n"
     ]
    },
    {
     "name": "stderr",
     "output_type": "stream",
     "text": [
      " 93%|█████████▎| 4808/5197 [3:20:13<19:48,  3.06s/it]"
     ]
    },
    {
     "name": "stdout",
     "output_type": "stream",
     "text": [
      "USCB\n"
     ]
    },
    {
     "name": "stderr",
     "output_type": "stream",
     "text": [
      " 93%|█████████▎| 4809/5197 [3:20:15<17:23,  2.69s/it]"
     ]
    },
    {
     "name": "stdout",
     "output_type": "stream",
     "text": [
      "USCT\n"
     ]
    },
    {
     "name": "stderr",
     "output_type": "stream",
     "text": [
      " 93%|█████████▎| 4810/5197 [3:20:16<14:46,  2.29s/it]"
     ]
    },
    {
     "name": "stdout",
     "output_type": "stream",
     "text": [
      "USEA\n"
     ]
    },
    {
     "name": "stderr",
     "output_type": "stream",
     "text": [
      " 93%|█████████▎| 4811/5197 [3:20:17<12:59,  2.02s/it]"
     ]
    },
    {
     "name": "stdout",
     "output_type": "stream",
     "text": [
      "USEG\n"
     ]
    },
    {
     "name": "stderr",
     "output_type": "stream",
     "text": [
      " 93%|█████████▎| 4812/5197 [3:20:22<17:04,  2.66s/it]"
     ]
    },
    {
     "name": "stdout",
     "output_type": "stream",
     "text": [
      "USFD\n"
     ]
    },
    {
     "name": "stderr",
     "output_type": "stream",
     "text": [
      " 93%|█████████▎| 4813/5197 [3:20:24<16:52,  2.64s/it]"
     ]
    },
    {
     "name": "stdout",
     "output_type": "stream",
     "text": [
      "USIO\n"
     ]
    },
    {
     "name": "stderr",
     "output_type": "stream",
     "text": [
      " 93%|█████████▎| 4814/5197 [3:20:27<16:47,  2.63s/it]"
     ]
    },
    {
     "name": "stdout",
     "output_type": "stream",
     "text": [
      "USLM\n"
     ]
    },
    {
     "name": "stderr",
     "output_type": "stream",
     "text": [
      " 93%|█████████▎| 4815/5197 [3:20:29<16:36,  2.61s/it]"
     ]
    },
    {
     "name": "stdout",
     "output_type": "stream",
     "text": [
      "USM\n"
     ]
    },
    {
     "name": "stderr",
     "output_type": "stream",
     "text": [
      " 93%|█████████▎| 4816/5197 [3:20:32<16:35,  2.61s/it]"
     ]
    },
    {
     "name": "stdout",
     "output_type": "stream",
     "text": [
      "USNA\n"
     ]
    },
    {
     "name": "stderr",
     "output_type": "stream",
     "text": [
      " 93%|█████████▎| 4817/5197 [3:20:35<17:11,  2.71s/it]"
     ]
    },
    {
     "name": "stdout",
     "output_type": "stream",
     "text": [
      "USPH\n"
     ]
    },
    {
     "name": "stderr",
     "output_type": "stream",
     "text": [
      " 93%|█████████▎| 4818/5197 [3:20:38<18:21,  2.91s/it]"
     ]
    },
    {
     "name": "stdout",
     "output_type": "stream",
     "text": [
      "UTHR\n"
     ]
    },
    {
     "name": "stderr",
     "output_type": "stream",
     "text": [
      " 93%|█████████▎| 4819/5197 [3:20:41<17:30,  2.78s/it]"
     ]
    },
    {
     "name": "stdout",
     "output_type": "stream",
     "text": [
      "UTI\n"
     ]
    },
    {
     "name": "stderr",
     "output_type": "stream",
     "text": [
      " 93%|█████████▎| 4820/5197 [3:20:43<16:40,  2.65s/it]"
     ]
    },
    {
     "name": "stdout",
     "output_type": "stream",
     "text": [
      "UTL\n"
     ]
    },
    {
     "name": "stderr",
     "output_type": "stream",
     "text": [
      " 93%|█████████▎| 4821/5197 [3:20:47<18:33,  2.96s/it]"
     ]
    },
    {
     "name": "stdout",
     "output_type": "stream",
     "text": [
      "UTMD\n"
     ]
    },
    {
     "name": "stderr",
     "output_type": "stream",
     "text": [
      " 93%|█████████▎| 4822/5197 [3:20:51<20:05,  3.21s/it]"
     ]
    },
    {
     "name": "stdout",
     "output_type": "stream",
     "text": [
      "UTSI\n"
     ]
    },
    {
     "name": "stderr",
     "output_type": "stream",
     "text": [
      " 93%|█████████▎| 4823/5197 [3:20:53<19:08,  3.07s/it]"
     ]
    },
    {
     "name": "stdout",
     "output_type": "stream",
     "text": [
      "UTZ\n"
     ]
    },
    {
     "name": "stderr",
     "output_type": "stream",
     "text": [
      " 93%|█████████▎| 4824/5197 [3:20:55<16:23,  2.64s/it]"
     ]
    },
    {
     "name": "stdout",
     "output_type": "stream",
     "text": [
      "UUU\n"
     ]
    },
    {
     "name": "stderr",
     "output_type": "stream",
     "text": [
      " 93%|█████████▎| 4825/5197 [3:20:58<16:54,  2.73s/it]"
     ]
    },
    {
     "name": "stdout",
     "output_type": "stream",
     "text": [
      "UUUU\n"
     ]
    },
    {
     "name": "stderr",
     "output_type": "stream",
     "text": [
      " 93%|█████████▎| 4826/5197 [3:21:00<15:12,  2.46s/it]"
     ]
    },
    {
     "name": "stdout",
     "output_type": "stream",
     "text": [
      "UVE\n"
     ]
    },
    {
     "name": "stderr",
     "output_type": "stream",
     "text": [
      " 93%|█████████▎| 4827/5197 [3:21:03<16:31,  2.68s/it]"
     ]
    },
    {
     "name": "stdout",
     "output_type": "stream",
     "text": [
      "UVSP\n"
     ]
    },
    {
     "name": "stderr",
     "output_type": "stream",
     "text": [
      " 93%|█████████▎| 4828/5197 [3:21:06<16:38,  2.71s/it]"
     ]
    },
    {
     "name": "stdout",
     "output_type": "stream",
     "text": [
      "UVV\n"
     ]
    },
    {
     "name": "stderr",
     "output_type": "stream",
     "text": [
      " 93%|█████████▎| 4829/5197 [3:21:10<20:18,  3.31s/it]"
     ]
    },
    {
     "name": "stdout",
     "output_type": "stream",
     "text": [
      "UWMC\n"
     ]
    },
    {
     "name": "stderr",
     "output_type": "stream",
     "text": [
      " 93%|█████████▎| 4830/5197 [3:21:12<17:09,  2.81s/it]"
     ]
    },
    {
     "name": "stdout",
     "output_type": "stream",
     "text": [
      "UXIN\n"
     ]
    },
    {
     "name": "stderr",
     "output_type": "stream",
     "text": [
      " 93%|█████████▎| 4831/5197 [3:21:14<14:57,  2.45s/it]"
     ]
    },
    {
     "name": "stdout",
     "output_type": "stream",
     "text": [
      "V\n"
     ]
    },
    {
     "name": "stderr",
     "output_type": "stream",
     "text": [
      " 93%|█████████▎| 4832/5197 [3:21:17<16:15,  2.67s/it]"
     ]
    },
    {
     "name": "stdout",
     "output_type": "stream",
     "text": [
      "VABK\n"
     ]
    },
    {
     "name": "stderr",
     "output_type": "stream",
     "text": [
      " 93%|█████████▎| 4833/5197 [3:21:21<18:03,  2.98s/it]"
     ]
    },
    {
     "name": "stdout",
     "output_type": "stream",
     "text": [
      "VAC\n"
     ]
    },
    {
     "name": "stderr",
     "output_type": "stream",
     "text": [
      " 93%|█████████▎| 4834/5197 [3:21:24<18:00,  2.98s/it]"
     ]
    },
    {
     "name": "stdout",
     "output_type": "stream",
     "text": [
      "VAL\n"
     ]
    },
    {
     "name": "stderr",
     "output_type": "stream",
     "text": [
      " 93%|█████████▎| 4835/5197 [3:21:25<15:22,  2.55s/it]"
     ]
    },
    {
     "name": "stdout",
     "output_type": "stream",
     "text": [
      "VALU\n"
     ]
    },
    {
     "name": "stderr",
     "output_type": "stream",
     "text": [
      " 93%|█████████▎| 4836/5197 [3:21:28<16:28,  2.74s/it]"
     ]
    },
    {
     "name": "stdout",
     "output_type": "stream",
     "text": [
      "VANI\n"
     ]
    },
    {
     "name": "stderr",
     "output_type": "stream",
     "text": [
      " 93%|█████████▎| 4837/5197 [3:21:30<14:27,  2.41s/it]"
     ]
    },
    {
     "name": "stdout",
     "output_type": "stream",
     "text": [
      "VAPO\n"
     ]
    },
    {
     "name": "stderr",
     "output_type": "stream",
     "text": [
      " 93%|█████████▎| 4838/5197 [3:21:31<12:47,  2.14s/it]"
     ]
    },
    {
     "name": "stdout",
     "output_type": "stream",
     "text": [
      "VATE\n"
     ]
    },
    {
     "name": "stderr",
     "output_type": "stream",
     "text": [
      " 93%|█████████▎| 4839/5197 [3:21:33<11:59,  2.01s/it]"
     ]
    },
    {
     "name": "stdout",
     "output_type": "stream",
     "text": [
      "VAXX\n"
     ]
    },
    {
     "name": "stderr",
     "output_type": "stream",
     "text": [
      " 93%|█████████▎| 4840/5197 [3:21:35<10:54,  1.83s/it]"
     ]
    },
    {
     "name": "stdout",
     "output_type": "stream",
     "text": [
      "VBFC\n"
     ]
    },
    {
     "name": "stderr",
     "output_type": "stream",
     "text": [
      " 93%|█████████▎| 4841/5197 [3:21:37<11:04,  1.87s/it]"
     ]
    },
    {
     "name": "stdout",
     "output_type": "stream",
     "text": [
      "VBIV\n"
     ]
    },
    {
     "name": "stderr",
     "output_type": "stream",
     "text": [
      " 93%|█████████▎| 4842/5197 [3:21:38<10:48,  1.83s/it]"
     ]
    },
    {
     "name": "stdout",
     "output_type": "stream",
     "text": [
      "VBNK\n"
     ]
    },
    {
     "name": "stderr",
     "output_type": "stream",
     "text": [
      " 93%|█████████▎| 4843/5197 [3:21:40<10:02,  1.70s/it]"
     ]
    },
    {
     "name": "stdout",
     "output_type": "stream",
     "text": [
      "VBTX\n"
     ]
    },
    {
     "name": "stderr",
     "output_type": "stream",
     "text": [
      " 93%|█████████▎| 4844/5197 [3:21:42<10:34,  1.80s/it]"
     ]
    },
    {
     "name": "stdout",
     "output_type": "stream",
     "text": [
      "VC\n"
     ]
    },
    {
     "name": "stderr",
     "output_type": "stream",
     "text": [
      " 93%|█████████▎| 4845/5197 [3:21:44<10:40,  1.82s/it]"
     ]
    },
    {
     "name": "stdout",
     "output_type": "stream",
     "text": [
      "VCEL\n"
     ]
    },
    {
     "name": "stderr",
     "output_type": "stream",
     "text": [
      " 93%|█████████▎| 4846/5197 [3:21:46<11:54,  2.03s/it]"
     ]
    },
    {
     "name": "stdout",
     "output_type": "stream",
     "text": [
      "VCIG\n"
     ]
    },
    {
     "name": "stderr",
     "output_type": "stream",
     "text": [
      " 93%|█████████▎| 4847/5197 [3:21:48<10:49,  1.86s/it]"
     ]
    },
    {
     "name": "stdout",
     "output_type": "stream",
     "text": [
      "VCNX\n"
     ]
    },
    {
     "name": "stderr",
     "output_type": "stream",
     "text": [
      " 93%|█████████▎| 4848/5197 [3:21:49<10:25,  1.79s/it]"
     ]
    },
    {
     "name": "stdout",
     "output_type": "stream",
     "text": [
      "VCSA\n"
     ]
    },
    {
     "name": "stderr",
     "output_type": "stream",
     "text": [
      " 93%|█████████▎| 4849/5197 [3:21:51<09:58,  1.72s/it]"
     ]
    },
    {
     "name": "stdout",
     "output_type": "stream",
     "text": [
      "VCTR\n"
     ]
    },
    {
     "name": "stderr",
     "output_type": "stream",
     "text": [
      " 93%|█████████▎| 4850/5197 [3:21:53<10:32,  1.82s/it]"
     ]
    },
    {
     "name": "stdout",
     "output_type": "stream",
     "text": [
      "VCXB\n"
     ]
    },
    {
     "name": "stderr",
     "output_type": "stream",
     "text": [
      " 93%|█████████▎| 4851/5197 [3:21:54<09:47,  1.70s/it]"
     ]
    },
    {
     "name": "stdout",
     "output_type": "stream",
     "text": [
      "VCYT\n"
     ]
    },
    {
     "name": "stderr",
     "output_type": "stream",
     "text": [
      " 93%|█████████▎| 4852/5197 [3:21:56<10:20,  1.80s/it]"
     ]
    },
    {
     "name": "stdout",
     "output_type": "stream",
     "text": [
      "VECO\n"
     ]
    },
    {
     "name": "stderr",
     "output_type": "stream",
     "text": [
      " 93%|█████████▎| 4853/5197 [3:21:59<11:43,  2.05s/it]"
     ]
    },
    {
     "name": "stdout",
     "output_type": "stream",
     "text": [
      "VEEE\n"
     ]
    },
    {
     "name": "stderr",
     "output_type": "stream",
     "text": [
      " 93%|█████████▎| 4854/5197 [3:22:00<10:41,  1.87s/it]"
     ]
    },
    {
     "name": "stdout",
     "output_type": "stream",
     "text": [
      "VEEV\n"
     ]
    },
    {
     "name": "stderr",
     "output_type": "stream",
     "text": [
      " 93%|█████████▎| 4855/5197 [3:22:03<11:32,  2.03s/it]"
     ]
    },
    {
     "name": "stdout",
     "output_type": "stream",
     "text": [
      "VEL\n"
     ]
    },
    {
     "name": "stderr",
     "output_type": "stream",
     "text": [
      " 93%|█████████▎| 4856/5197 [3:22:04<10:52,  1.91s/it]"
     ]
    },
    {
     "name": "stdout",
     "output_type": "stream",
     "text": [
      "VERA\n"
     ]
    },
    {
     "name": "stderr",
     "output_type": "stream",
     "text": [
      " 93%|█████████▎| 4857/5197 [3:22:06<10:01,  1.77s/it]"
     ]
    },
    {
     "name": "stdout",
     "output_type": "stream",
     "text": [
      "VERB\n"
     ]
    },
    {
     "name": "stderr",
     "output_type": "stream",
     "text": [
      " 93%|█████████▎| 4858/5197 [3:22:08<09:55,  1.76s/it]"
     ]
    },
    {
     "name": "stdout",
     "output_type": "stream",
     "text": [
      "VERI\n"
     ]
    },
    {
     "name": "stderr",
     "output_type": "stream",
     "text": [
      " 93%|█████████▎| 4859/5197 [3:22:09<10:00,  1.78s/it]"
     ]
    },
    {
     "name": "stdout",
     "output_type": "stream",
     "text": [
      "VERO\n"
     ]
    },
    {
     "name": "stderr",
     "output_type": "stream",
     "text": [
      " 94%|█████████▎| 4860/5197 [3:22:11<10:16,  1.83s/it]"
     ]
    },
    {
     "name": "stdout",
     "output_type": "stream",
     "text": [
      "VERU\n"
     ]
    },
    {
     "name": "stderr",
     "output_type": "stream",
     "text": [
      " 94%|█████████▎| 4861/5197 [3:22:14<11:59,  2.14s/it]"
     ]
    },
    {
     "name": "stdout",
     "output_type": "stream",
     "text": [
      "VERV\n"
     ]
    },
    {
     "name": "stderr",
     "output_type": "stream",
     "text": [
      " 94%|█████████▎| 4862/5197 [3:22:16<11:24,  2.04s/it]"
     ]
    },
    {
     "name": "stdout",
     "output_type": "stream",
     "text": [
      "VERX\n"
     ]
    },
    {
     "name": "stderr",
     "output_type": "stream",
     "text": [
      " 94%|█████████▎| 4863/5197 [3:22:18<10:31,  1.89s/it]"
     ]
    },
    {
     "name": "stdout",
     "output_type": "stream",
     "text": [
      "VERY\n"
     ]
    },
    {
     "name": "stderr",
     "output_type": "stream",
     "text": [
      " 94%|█████████▎| 4864/5197 [3:22:19<10:23,  1.87s/it]"
     ]
    },
    {
     "name": "stdout",
     "output_type": "stream",
     "text": [
      "VET\n"
     ]
    },
    {
     "name": "stderr",
     "output_type": "stream",
     "text": [
      " 94%|█████████▎| 4865/5197 [3:22:22<11:00,  1.99s/it]"
     ]
    },
    {
     "name": "stdout",
     "output_type": "stream",
     "text": [
      "VEV\n"
     ]
    },
    {
     "name": "stderr",
     "output_type": "stream",
     "text": [
      " 94%|█████████▎| 4866/5197 [3:22:24<11:07,  2.02s/it]"
     ]
    },
    {
     "name": "stdout",
     "output_type": "stream",
     "text": [
      "VFC\n"
     ]
    },
    {
     "name": "stderr",
     "output_type": "stream",
     "text": [
      " 94%|█████████▎| 4867/5197 [3:22:29<17:19,  3.15s/it]"
     ]
    },
    {
     "name": "stdout",
     "output_type": "stream",
     "text": [
      "VFF\n"
     ]
    },
    {
     "name": "stderr",
     "output_type": "stream",
     "text": [
      " 94%|█████████▎| 4868/5197 [3:22:31<14:58,  2.73s/it]"
     ]
    },
    {
     "name": "stdout",
     "output_type": "stream",
     "text": [
      "VFS\n"
     ]
    },
    {
     "name": "stderr",
     "output_type": "stream",
     "text": [
      " 94%|█████████▎| 4869/5197 [3:22:33<13:09,  2.41s/it]"
     ]
    },
    {
     "name": "stdout",
     "output_type": "stream",
     "text": [
      "VGAS\n"
     ]
    },
    {
     "name": "stderr",
     "output_type": "stream",
     "text": [
      " 94%|█████████▎| 4870/5197 [3:22:34<11:35,  2.13s/it]"
     ]
    },
    {
     "name": "stdout",
     "output_type": "stream",
     "text": [
      "VGR\n"
     ]
    },
    {
     "name": "stderr",
     "output_type": "stream",
     "text": [
      " 94%|█████████▎| 4871/5197 [3:22:41<18:21,  3.38s/it]"
     ]
    },
    {
     "name": "stdout",
     "output_type": "stream",
     "text": [
      "VGZ\n"
     ]
    },
    {
     "name": "stderr",
     "output_type": "stream",
     "text": [
      " 94%|█████████▎| 4872/5197 [3:22:44<17:37,  3.25s/it]"
     ]
    },
    {
     "name": "stdout",
     "output_type": "stream",
     "text": [
      "VHC\n"
     ]
    },
    {
     "name": "stderr",
     "output_type": "stream",
     "text": [
      " 94%|█████████▍| 4873/5197 [3:22:47<17:03,  3.16s/it]"
     ]
    },
    {
     "name": "stdout",
     "output_type": "stream",
     "text": [
      "VHI\n"
     ]
    },
    {
     "name": "stderr",
     "output_type": "stream",
     "text": [
      " 94%|█████████▍| 4874/5197 [3:22:51<18:56,  3.52s/it]"
     ]
    },
    {
     "name": "stdout",
     "output_type": "stream",
     "text": [
      "VIA\n"
     ]
    },
    {
     "name": "stderr",
     "output_type": "stream",
     "text": [
      " 94%|█████████▍| 4875/5197 [3:22:53<16:35,  3.09s/it]"
     ]
    },
    {
     "name": "stdout",
     "output_type": "stream",
     "text": [
      "VIAO\n"
     ]
    },
    {
     "name": "stderr",
     "output_type": "stream",
     "text": [
      " 94%|█████████▍| 4876/5197 [3:22:55<14:15,  2.67s/it]"
     ]
    },
    {
     "name": "stdout",
     "output_type": "stream",
     "text": [
      "VIAV\n"
     ]
    },
    {
     "name": "stderr",
     "output_type": "stream",
     "text": [
      " 94%|█████████▍| 4877/5197 [3:22:58<15:42,  2.94s/it]"
     ]
    },
    {
     "name": "stdout",
     "output_type": "stream",
     "text": [
      "VICI\n"
     ]
    },
    {
     "name": "stderr",
     "output_type": "stream",
     "text": [
      " 94%|█████████▍| 4878/5197 [3:23:00<14:04,  2.65s/it]"
     ]
    },
    {
     "name": "stdout",
     "output_type": "stream",
     "text": [
      "VICR\n"
     ]
    },
    {
     "name": "stderr",
     "output_type": "stream",
     "text": [
      " 94%|█████████▍| 4879/5197 [3:23:04<16:32,  3.12s/it]"
     ]
    },
    {
     "name": "stdout",
     "output_type": "stream",
     "text": [
      "VIEW\n"
     ]
    },
    {
     "name": "stderr",
     "output_type": "stream",
     "text": [
      " 94%|█████████▍| 4880/5197 [3:23:06<13:56,  2.64s/it]"
     ]
    },
    {
     "name": "stdout",
     "output_type": "stream",
     "text": [
      "VIGL\n"
     ]
    },
    {
     "name": "stderr",
     "output_type": "stream",
     "text": [
      " 94%|█████████▍| 4881/5197 [3:23:07<12:06,  2.30s/it]"
     ]
    },
    {
     "name": "stdout",
     "output_type": "stream",
     "text": [
      "VINC\n"
     ]
    },
    {
     "name": "stderr",
     "output_type": "stream",
     "text": [
      " 94%|█████████▍| 4882/5197 [3:23:09<10:55,  2.08s/it]"
     ]
    },
    {
     "name": "stdout",
     "output_type": "stream",
     "text": [
      "VINE\n"
     ]
    },
    {
     "name": "stderr",
     "output_type": "stream",
     "text": [
      " 94%|█████████▍| 4883/5197 [3:23:11<10:28,  2.00s/it]"
     ]
    },
    {
     "name": "stdout",
     "output_type": "stream",
     "text": [
      "VINO\n"
     ]
    },
    {
     "name": "stderr",
     "output_type": "stream",
     "text": [
      " 94%|█████████▍| 4884/5197 [3:23:13<10:01,  1.92s/it]"
     ]
    },
    {
     "name": "stdout",
     "output_type": "stream",
     "text": [
      "VINP\n"
     ]
    },
    {
     "name": "stderr",
     "output_type": "stream",
     "text": [
      " 94%|█████████▍| 4885/5197 [3:23:15<10:28,  2.01s/it]"
     ]
    },
    {
     "name": "stdout",
     "output_type": "stream",
     "text": [
      "VIR\n"
     ]
    },
    {
     "name": "stderr",
     "output_type": "stream",
     "text": [
      " 94%|█████████▍| 4886/5197 [3:23:17<10:06,  1.95s/it]"
     ]
    },
    {
     "name": "stdout",
     "output_type": "stream",
     "text": [
      "VIRC\n"
     ]
    },
    {
     "name": "stderr",
     "output_type": "stream",
     "text": [
      " 94%|█████████▍| 4887/5197 [3:23:21<14:08,  2.74s/it]"
     ]
    },
    {
     "name": "stdout",
     "output_type": "stream",
     "text": [
      "VIRI\n"
     ]
    },
    {
     "name": "stderr",
     "output_type": "stream",
     "text": [
      " 94%|█████████▍| 4888/5197 [3:23:23<12:15,  2.38s/it]"
     ]
    },
    {
     "name": "stdout",
     "output_type": "stream",
     "text": [
      "VIRT\n"
     ]
    },
    {
     "name": "stderr",
     "output_type": "stream",
     "text": [
      " 94%|█████████▍| 4889/5197 [3:23:25<12:26,  2.42s/it]"
     ]
    },
    {
     "name": "stdout",
     "output_type": "stream",
     "text": [
      "VIRX\n"
     ]
    },
    {
     "name": "stderr",
     "output_type": "stream",
     "text": [
      " 94%|█████████▍| 4890/5197 [3:23:28<12:22,  2.42s/it]"
     ]
    },
    {
     "name": "stdout",
     "output_type": "stream",
     "text": [
      "VISL\n"
     ]
    },
    {
     "name": "stderr",
     "output_type": "stream",
     "text": [
      " 94%|█████████▍| 4891/5197 [3:23:29<11:17,  2.22s/it]"
     ]
    },
    {
     "name": "stdout",
     "output_type": "stream",
     "text": [
      "VIST\n"
     ]
    },
    {
     "name": "stderr",
     "output_type": "stream",
     "text": [
      " 94%|█████████▍| 4892/5197 [3:23:31<10:22,  2.04s/it]"
     ]
    },
    {
     "name": "stdout",
     "output_type": "stream",
     "text": [
      "VITL\n"
     ]
    },
    {
     "name": "stderr",
     "output_type": "stream",
     "text": [
      " 94%|█████████▍| 4893/5197 [3:23:33<09:39,  1.90s/it]"
     ]
    },
    {
     "name": "stdout",
     "output_type": "stream",
     "text": [
      "VIVK\n"
     ]
    },
    {
     "name": "stderr",
     "output_type": "stream",
     "text": [
      " 94%|█████████▍| 4894/5197 [3:23:35<09:45,  1.93s/it]"
     ]
    },
    {
     "name": "stdout",
     "output_type": "stream",
     "text": [
      "VKTX\n"
     ]
    },
    {
     "name": "stderr",
     "output_type": "stream",
     "text": [
      " 94%|█████████▍| 4895/5197 [3:23:37<10:01,  1.99s/it]"
     ]
    },
    {
     "name": "stdout",
     "output_type": "stream",
     "text": [
      "VLCN\n"
     ]
    },
    {
     "name": "stderr",
     "output_type": "stream",
     "text": [
      " 94%|█████████▍| 4896/5197 [3:23:38<09:07,  1.82s/it]"
     ]
    },
    {
     "name": "stdout",
     "output_type": "stream",
     "text": [
      "VLD\n"
     ]
    },
    {
     "name": "stderr",
     "output_type": "stream",
     "text": [
      " 94%|█████████▍| 4897/5197 [3:23:40<08:41,  1.74s/it]"
     ]
    },
    {
     "name": "stdout",
     "output_type": "stream",
     "text": [
      "VLGEA\n"
     ]
    },
    {
     "name": "stderr",
     "output_type": "stream",
     "text": [
      " 94%|█████████▍| 4898/5197 [3:23:44<12:57,  2.60s/it]"
     ]
    },
    {
     "name": "stdout",
     "output_type": "stream",
     "text": [
      "VLN\n"
     ]
    },
    {
     "name": "stderr",
     "output_type": "stream",
     "text": [
      " 94%|█████████▍| 4899/5197 [3:23:46<11:17,  2.27s/it]"
     ]
    },
    {
     "name": "stdout",
     "output_type": "stream",
     "text": [
      "VLO\n"
     ]
    },
    {
     "name": "stderr",
     "output_type": "stream",
     "text": [
      " 94%|█████████▍| 4900/5197 [3:23:50<14:13,  2.87s/it]"
     ]
    },
    {
     "name": "stdout",
     "output_type": "stream",
     "text": [
      "VLTO\n"
     ]
    },
    {
     "name": "stderr",
     "output_type": "stream",
     "text": [
      " 94%|█████████▍| 4901/5197 [3:23:52<12:10,  2.47s/it]"
     ]
    },
    {
     "name": "stdout",
     "output_type": "stream",
     "text": [
      "VLY\n"
     ]
    },
    {
     "name": "stderr",
     "output_type": "stream",
     "text": [
      " 94%|█████████▍| 4902/5197 [3:23:58<18:14,  3.71s/it]"
     ]
    },
    {
     "name": "stdout",
     "output_type": "stream",
     "text": [
      "VMAR\n"
     ]
    },
    {
     "name": "stderr",
     "output_type": "stream",
     "text": [
      " 94%|█████████▍| 4903/5197 [3:24:00<15:51,  3.24s/it]"
     ]
    },
    {
     "name": "stdout",
     "output_type": "stream",
     "text": [
      "VMC\n"
     ]
    },
    {
     "name": "stderr",
     "output_type": "stream",
     "text": [
      " 94%|█████████▍| 4904/5197 [3:24:08<21:49,  4.47s/it]"
     ]
    },
    {
     "name": "stdout",
     "output_type": "stream",
     "text": [
      "VMCA\n"
     ]
    },
    {
     "name": "stderr",
     "output_type": "stream",
     "text": [
      " 94%|█████████▍| 4905/5197 [3:24:09<17:46,  3.65s/it]"
     ]
    },
    {
     "name": "stdout",
     "output_type": "stream",
     "text": [
      "VMD\n"
     ]
    },
    {
     "name": "stderr",
     "output_type": "stream",
     "text": [
      " 94%|█████████▍| 4906/5197 [3:24:11<15:06,  3.12s/it]"
     ]
    },
    {
     "name": "stdout",
     "output_type": "stream",
     "text": [
      "VMEO\n"
     ]
    },
    {
     "name": "stderr",
     "output_type": "stream",
     "text": [
      " 94%|█████████▍| 4907/5197 [3:24:13<12:41,  2.63s/it]"
     ]
    },
    {
     "name": "stdout",
     "output_type": "stream",
     "text": [
      "VMI\n"
     ]
    },
    {
     "name": "stderr",
     "output_type": "stream",
     "text": [
      " 94%|█████████▍| 4908/5197 [3:24:18<16:13,  3.37s/it]"
     ]
    },
    {
     "name": "stdout",
     "output_type": "stream",
     "text": [
      "VNCE\n"
     ]
    },
    {
     "name": "stderr",
     "output_type": "stream",
     "text": [
      " 94%|█████████▍| 4909/5197 [3:24:20<14:20,  2.99s/it]"
     ]
    },
    {
     "name": "stdout",
     "output_type": "stream",
     "text": [
      "VNDA\n"
     ]
    },
    {
     "name": "stderr",
     "output_type": "stream",
     "text": [
      " 94%|█████████▍| 4910/5197 [3:24:23<14:37,  3.06s/it]"
     ]
    },
    {
     "name": "stdout",
     "output_type": "stream",
     "text": [
      "VNO\n"
     ]
    },
    {
     "name": "stderr",
     "output_type": "stream",
     "text": [
      " 94%|█████████▍| 4911/5197 [3:24:29<18:24,  3.86s/it]"
     ]
    },
    {
     "name": "stdout",
     "output_type": "stream",
     "text": [
      "VNRX\n"
     ]
    },
    {
     "name": "stderr",
     "output_type": "stream",
     "text": [
      " 95%|█████████▍| 4912/5197 [3:24:32<16:46,  3.53s/it]"
     ]
    },
    {
     "name": "stdout",
     "output_type": "stream",
     "text": [
      "VNT\n"
     ]
    },
    {
     "name": "stderr",
     "output_type": "stream",
     "text": [
      " 95%|█████████▍| 4913/5197 [3:24:35<15:43,  3.32s/it]"
     ]
    },
    {
     "name": "stdout",
     "output_type": "stream",
     "text": [
      "VOR\n"
     ]
    },
    {
     "name": "stderr",
     "output_type": "stream",
     "text": [
      " 95%|█████████▍| 4914/5197 [3:24:36<13:11,  2.80s/it]"
     ]
    },
    {
     "name": "stdout",
     "output_type": "stream",
     "text": [
      "VOXR\n"
     ]
    },
    {
     "name": "stderr",
     "output_type": "stream",
     "text": [
      " 95%|█████████▍| 4915/5197 [3:24:38<11:19,  2.41s/it]"
     ]
    },
    {
     "name": "stdout",
     "output_type": "stream",
     "text": [
      "VOXX\n"
     ]
    },
    {
     "name": "stderr",
     "output_type": "stream",
     "text": [
      " 95%|█████████▍| 4916/5197 [3:24:41<13:04,  2.79s/it]"
     ]
    },
    {
     "name": "stdout",
     "output_type": "stream",
     "text": [
      "VOYA\n"
     ]
    },
    {
     "name": "stderr",
     "output_type": "stream",
     "text": [
      " 95%|█████████▍| 4917/5197 [3:24:44<12:36,  2.70s/it]"
     ]
    },
    {
     "name": "stdout",
     "output_type": "stream",
     "text": [
      "VPG\n"
     ]
    },
    {
     "name": "stderr",
     "output_type": "stream",
     "text": [
      " 95%|█████████▍| 4918/5197 [3:24:47<12:31,  2.69s/it]"
     ]
    },
    {
     "name": "stdout",
     "output_type": "stream",
     "text": [
      "VRA\n"
     ]
    },
    {
     "name": "stderr",
     "output_type": "stream",
     "text": [
      " 95%|█████████▍| 4919/5197 [3:24:49<12:22,  2.67s/it]"
     ]
    },
    {
     "name": "stdout",
     "output_type": "stream",
     "text": [
      "VRAR\n"
     ]
    },
    {
     "name": "stderr",
     "output_type": "stream",
     "text": [
      " 95%|█████████▍| 4920/5197 [3:24:51<11:23,  2.47s/it]"
     ]
    },
    {
     "name": "stdout",
     "output_type": "stream",
     "text": [
      "VRAX\n"
     ]
    },
    {
     "name": "stderr",
     "output_type": "stream",
     "text": [
      " 95%|█████████▍| 4921/5197 [3:24:53<10:19,  2.25s/it]"
     ]
    },
    {
     "name": "stdout",
     "output_type": "stream",
     "text": [
      "VRCA\n"
     ]
    },
    {
     "name": "stderr",
     "output_type": "stream",
     "text": [
      " 95%|█████████▍| 4922/5197 [3:24:55<10:22,  2.27s/it]"
     ]
    },
    {
     "name": "stdout",
     "output_type": "stream",
     "text": [
      "VRDN\n"
     ]
    },
    {
     "name": "stderr",
     "output_type": "stream",
     "text": [
      " 95%|█████████▍| 4923/5197 [3:24:57<10:25,  2.28s/it]"
     ]
    },
    {
     "name": "stdout",
     "output_type": "stream",
     "text": [
      "VRE\n"
     ]
    },
    {
     "name": "stderr",
     "output_type": "stream",
     "text": [
      " 95%|█████████▍| 4924/5197 [3:25:02<13:03,  2.87s/it]"
     ]
    },
    {
     "name": "stdout",
     "output_type": "stream",
     "text": [
      "VREX\n"
     ]
    },
    {
     "name": "stderr",
     "output_type": "stream",
     "text": [
      " 95%|█████████▍| 4925/5197 [3:25:04<11:56,  2.63s/it]"
     ]
    },
    {
     "name": "stdout",
     "output_type": "stream",
     "text": [
      "VRM\n"
     ]
    },
    {
     "name": "stderr",
     "output_type": "stream",
     "text": [
      " 95%|█████████▍| 4926/5197 [3:25:06<10:47,  2.39s/it]"
     ]
    },
    {
     "name": "stdout",
     "output_type": "stream",
     "text": [
      "VRME\n"
     ]
    },
    {
     "name": "stderr",
     "output_type": "stream",
     "text": [
      " 95%|█████████▍| 4927/5197 [3:25:09<11:42,  2.60s/it]"
     ]
    },
    {
     "name": "stdout",
     "output_type": "stream",
     "text": [
      "VRNS\n"
     ]
    },
    {
     "name": "stderr",
     "output_type": "stream",
     "text": [
      " 95%|█████████▍| 4928/5197 [3:25:12<12:35,  2.81s/it]"
     ]
    },
    {
     "name": "stdout",
     "output_type": "stream",
     "text": [
      "VRNT\n"
     ]
    },
    {
     "name": "stderr",
     "output_type": "stream",
     "text": [
      " 95%|█████████▍| 4929/5197 [3:25:16<14:17,  3.20s/it]"
     ]
    },
    {
     "name": "stdout",
     "output_type": "stream",
     "text": [
      "VRPX\n"
     ]
    },
    {
     "name": "stderr",
     "output_type": "stream",
     "text": [
      " 95%|█████████▍| 4930/5197 [3:25:18<12:03,  2.71s/it]"
     ]
    },
    {
     "name": "stdout",
     "output_type": "stream",
     "text": [
      "VRRM\n"
     ]
    },
    {
     "name": "stderr",
     "output_type": "stream",
     "text": [
      " 95%|█████████▍| 4931/5197 [3:25:19<10:36,  2.39s/it]"
     ]
    },
    {
     "name": "stdout",
     "output_type": "stream",
     "text": [
      "VRSK\n"
     ]
    },
    {
     "name": "stderr",
     "output_type": "stream",
     "text": [
      " 95%|█████████▍| 4932/5197 [3:25:22<10:56,  2.48s/it]"
     ]
    },
    {
     "name": "stdout",
     "output_type": "stream",
     "text": [
      "VRSN\n"
     ]
    },
    {
     "name": "stderr",
     "output_type": "stream",
     "text": [
      " 95%|█████████▍| 4933/5197 [3:25:27<14:01,  3.19s/it]"
     ]
    },
    {
     "name": "stdout",
     "output_type": "stream",
     "text": [
      "VRT\n"
     ]
    },
    {
     "name": "stderr",
     "output_type": "stream",
     "text": [
      " 95%|█████████▍| 4934/5197 [3:25:29<12:34,  2.87s/it]"
     ]
    },
    {
     "name": "stdout",
     "output_type": "stream",
     "text": [
      "VRTS\n"
     ]
    },
    {
     "name": "stderr",
     "output_type": "stream",
     "text": [
      " 95%|█████████▍| 4935/5197 [3:25:33<14:35,  3.34s/it]"
     ]
    },
    {
     "name": "stdout",
     "output_type": "stream",
     "text": [
      "VRTX\n"
     ]
    },
    {
     "name": "stderr",
     "output_type": "stream",
     "text": [
      " 95%|█████████▍| 4936/5197 [3:25:37<15:08,  3.48s/it]"
     ]
    },
    {
     "name": "stdout",
     "output_type": "stream",
     "text": [
      "VS\n"
     ]
    },
    {
     "name": "stderr",
     "output_type": "stream",
     "text": [
      " 95%|█████████▍| 4937/5197 [3:25:40<14:04,  3.25s/it]"
     ]
    },
    {
     "name": "stdout",
     "output_type": "stream",
     "text": [
      "VSAC\n"
     ]
    },
    {
     "name": "stderr",
     "output_type": "stream",
     "text": [
      " 95%|█████████▌| 4938/5197 [3:25:41<11:37,  2.69s/it]"
     ]
    },
    {
     "name": "stdout",
     "output_type": "stream",
     "text": [
      "VSAT\n"
     ]
    },
    {
     "name": "stderr",
     "output_type": "stream",
     "text": [
      " 95%|█████████▌| 4939/5197 [3:25:44<11:34,  2.69s/it]"
     ]
    },
    {
     "name": "stdout",
     "output_type": "stream",
     "text": [
      "VSCO\n"
     ]
    },
    {
     "name": "stderr",
     "output_type": "stream",
     "text": [
      " 95%|█████████▌| 4940/5197 [3:25:46<10:03,  2.35s/it]"
     ]
    },
    {
     "name": "stdout",
     "output_type": "stream",
     "text": [
      "VSEC\n"
     ]
    },
    {
     "name": "stderr",
     "output_type": "stream",
     "text": [
      " 95%|█████████▌| 4941/5197 [3:25:50<12:15,  2.87s/it]"
     ]
    },
    {
     "name": "stdout",
     "output_type": "stream",
     "text": [
      "VSH\n"
     ]
    },
    {
     "name": "stderr",
     "output_type": "stream",
     "text": [
      " 95%|█████████▌| 4942/5197 [3:25:57<17:31,  4.12s/it]"
     ]
    },
    {
     "name": "stdout",
     "output_type": "stream",
     "text": [
      "VSME\n"
     ]
    },
    {
     "name": "stderr",
     "output_type": "stream",
     "text": [
      " 95%|█████████▌| 4943/5197 [3:25:58<14:05,  3.33s/it]"
     ]
    },
    {
     "name": "stdout",
     "output_type": "stream",
     "text": [
      "VST\n"
     ]
    },
    {
     "name": "stderr",
     "output_type": "stream",
     "text": [
      " 95%|█████████▌| 4944/5197 [3:26:01<12:59,  3.08s/it]"
     ]
    },
    {
     "name": "stdout",
     "output_type": "stream",
     "text": [
      "VSTA\n"
     ]
    },
    {
     "name": "stderr",
     "output_type": "stream",
     "text": [
      " 95%|█████████▌| 4945/5197 [3:26:02<11:04,  2.64s/it]"
     ]
    },
    {
     "name": "stdout",
     "output_type": "stream",
     "text": [
      "VSTE\n"
     ]
    },
    {
     "name": "stderr",
     "output_type": "stream",
     "text": [
      " 95%|█████████▌| 4946/5197 [3:26:04<09:31,  2.28s/it]"
     ]
    },
    {
     "name": "stdout",
     "output_type": "stream",
     "text": [
      "VSTM\n"
     ]
    },
    {
     "name": "stderr",
     "output_type": "stream",
     "text": [
      " 95%|█████████▌| 4947/5197 [3:26:06<09:42,  2.33s/it]"
     ]
    },
    {
     "name": "stdout",
     "output_type": "stream",
     "text": [
      "VSTO\n"
     ]
    },
    {
     "name": "stderr",
     "output_type": "stream",
     "text": [
      " 95%|█████████▌| 4948/5197 [3:26:09<09:45,  2.35s/it]"
     ]
    },
    {
     "name": "stdout",
     "output_type": "stream",
     "text": [
      "VSTS\n"
     ]
    },
    {
     "name": "stderr",
     "output_type": "stream",
     "text": [
      " 95%|█████████▌| 4949/5197 [3:26:10<08:30,  2.06s/it]"
     ]
    },
    {
     "name": "stdout",
     "output_type": "stream",
     "text": [
      "VTAK\n"
     ]
    },
    {
     "name": "stderr",
     "output_type": "stream",
     "text": [
      " 95%|█████████▌| 4950/5197 [3:26:12<08:31,  2.07s/it]"
     ]
    },
    {
     "name": "stdout",
     "output_type": "stream",
     "text": [
      "VTEX\n"
     ]
    },
    {
     "name": "stderr",
     "output_type": "stream",
     "text": [
      " 95%|█████████▌| 4951/5197 [3:26:14<07:54,  1.93s/it]"
     ]
    },
    {
     "name": "stdout",
     "output_type": "stream",
     "text": [
      "VTGN\n"
     ]
    },
    {
     "name": "stderr",
     "output_type": "stream",
     "text": [
      " 95%|█████████▌| 4952/5197 [3:26:16<08:52,  2.18s/it]"
     ]
    },
    {
     "name": "stdout",
     "output_type": "stream",
     "text": [
      "VTLE\n"
     ]
    },
    {
     "name": "stderr",
     "output_type": "stream",
     "text": [
      " 95%|█████████▌| 4953/5197 [3:26:20<10:01,  2.47s/it]"
     ]
    },
    {
     "name": "stdout",
     "output_type": "stream",
     "text": [
      "VTNR\n"
     ]
    },
    {
     "name": "stderr",
     "output_type": "stream",
     "text": [
      " 95%|█████████▌| 4954/5197 [3:26:24<12:19,  3.04s/it]"
     ]
    },
    {
     "name": "stdout",
     "output_type": "stream",
     "text": [
      "VTOL\n"
     ]
    },
    {
     "name": "stderr",
     "output_type": "stream",
     "text": [
      " 95%|█████████▌| 4955/5197 [3:26:27<11:52,  2.94s/it]"
     ]
    },
    {
     "name": "stdout",
     "output_type": "stream",
     "text": [
      "VTR\n"
     ]
    },
    {
     "name": "stderr",
     "output_type": "stream",
     "text": [
      " 95%|█████████▌| 4956/5197 [3:26:33<15:50,  3.94s/it]"
     ]
    },
    {
     "name": "stdout",
     "output_type": "stream",
     "text": [
      "VTRS\n"
     ]
    },
    {
     "name": "stderr",
     "output_type": "stream",
     "text": [
      " 95%|█████████▌| 4957/5197 [3:26:38<17:31,  4.38s/it]"
     ]
    },
    {
     "name": "stdout",
     "output_type": "stream",
     "text": [
      "VTRU\n"
     ]
    },
    {
     "name": "stderr",
     "output_type": "stream",
     "text": [
      " 95%|█████████▌| 4958/5197 [3:26:40<14:03,  3.53s/it]"
     ]
    },
    {
     "name": "stdout",
     "output_type": "stream",
     "text": [
      "VTS\n"
     ]
    },
    {
     "name": "stderr",
     "output_type": "stream",
     "text": [
      " 95%|█████████▌| 4959/5197 [3:26:42<12:00,  3.03s/it]"
     ]
    },
    {
     "name": "stdout",
     "output_type": "stream",
     "text": [
      "VTSI\n"
     ]
    },
    {
     "name": "stderr",
     "output_type": "stream",
     "text": [
      " 95%|█████████▌| 4960/5197 [3:26:44<10:51,  2.75s/it]"
     ]
    },
    {
     "name": "stdout",
     "output_type": "stream",
     "text": [
      "VTVT\n"
     ]
    },
    {
     "name": "stderr",
     "output_type": "stream",
     "text": [
      " 95%|█████████▌| 4961/5197 [3:26:47<11:14,  2.86s/it]"
     ]
    },
    {
     "name": "stdout",
     "output_type": "stream",
     "text": [
      "VTYX\n"
     ]
    },
    {
     "name": "stderr",
     "output_type": "stream",
     "text": [
      " 95%|█████████▌| 4962/5197 [3:26:49<10:15,  2.62s/it]"
     ]
    },
    {
     "name": "stdout",
     "output_type": "stream",
     "text": [
      "VUZI\n"
     ]
    },
    {
     "name": "stderr",
     "output_type": "stream",
     "text": [
      " 95%|█████████▌| 4963/5197 [3:26:51<09:32,  2.45s/it]"
     ]
    },
    {
     "name": "stdout",
     "output_type": "stream",
     "text": [
      "VVI\n"
     ]
    },
    {
     "name": "stderr",
     "output_type": "stream",
     "text": [
      " 96%|█████████▌| 4964/5197 [3:26:56<11:52,  3.06s/it]"
     ]
    },
    {
     "name": "stdout",
     "output_type": "stream",
     "text": [
      "VVOS\n"
     ]
    },
    {
     "name": "stderr",
     "output_type": "stream",
     "text": [
      " 96%|█████████▌| 4965/5197 [3:26:58<10:42,  2.77s/it]"
     ]
    },
    {
     "name": "stdout",
     "output_type": "stream",
     "text": [
      "VVPR\n"
     ]
    },
    {
     "name": "stderr",
     "output_type": "stream",
     "text": [
      " 96%|█████████▌| 4966/5197 [3:27:00<10:21,  2.69s/it]"
     ]
    },
    {
     "name": "stdout",
     "output_type": "stream",
     "text": [
      "VVV\n"
     ]
    },
    {
     "name": "stderr",
     "output_type": "stream",
     "text": [
      " 96%|█████████▌| 4967/5197 [3:27:02<09:53,  2.58s/it]"
     ]
    },
    {
     "name": "stdout",
     "output_type": "stream",
     "text": [
      "VVX\n"
     ]
    },
    {
     "name": "stderr",
     "output_type": "stream",
     "text": [
      " 96%|█████████▌| 4968/5197 [3:27:05<09:35,  2.51s/it]"
     ]
    },
    {
     "name": "stdout",
     "output_type": "stream",
     "text": [
      "VWE\n"
     ]
    },
    {
     "name": "stderr",
     "output_type": "stream",
     "text": [
      " 96%|█████████▌| 4969/5197 [3:27:07<08:45,  2.30s/it]"
     ]
    },
    {
     "name": "stdout",
     "output_type": "stream",
     "text": [
      "VXRT\n"
     ]
    },
    {
     "name": "stderr",
     "output_type": "stream",
     "text": [
      " 96%|█████████▌| 4970/5197 [3:27:12<12:23,  3.28s/it]"
     ]
    },
    {
     "name": "stdout",
     "output_type": "stream",
     "text": [
      "VYGR\n"
     ]
    },
    {
     "name": "stderr",
     "output_type": "stream",
     "text": [
      " 96%|█████████▌| 4971/5197 [3:27:16<12:29,  3.32s/it]"
     ]
    },
    {
     "name": "stdout",
     "output_type": "stream",
     "text": [
      "VYNE\n"
     ]
    },
    {
     "name": "stderr",
     "output_type": "stream",
     "text": [
      " 96%|█████████▌| 4972/5197 [3:27:18<10:52,  2.90s/it]"
     ]
    },
    {
     "name": "stdout",
     "output_type": "stream",
     "text": [
      "VYX\n"
     ]
    },
    {
     "name": "stderr",
     "output_type": "stream",
     "text": [
      " 96%|█████████▌| 4973/5197 [3:27:23<13:20,  3.57s/it]"
     ]
    },
    {
     "name": "stdout",
     "output_type": "stream",
     "text": [
      "VZ\n"
     ]
    },
    {
     "name": "stderr",
     "output_type": "stream",
     "text": [
      " 96%|█████████▌| 4974/5197 [3:27:30<17:39,  4.75s/it]"
     ]
    },
    {
     "name": "stdout",
     "output_type": "stream",
     "text": [
      "VZIO\n"
     ]
    },
    {
     "name": "stderr",
     "output_type": "stream",
     "text": [
      " 96%|█████████▌| 4975/5197 [3:27:32<14:35,  3.94s/it]"
     ]
    },
    {
     "name": "stdout",
     "output_type": "stream",
     "text": [
      "VZLA\n"
     ]
    },
    {
     "name": "stderr",
     "output_type": "stream",
     "text": [
      " 96%|█████████▌| 4976/5197 [3:27:34<11:46,  3.20s/it]"
     ]
    },
    {
     "name": "stdout",
     "output_type": "stream",
     "text": [
      "W\n"
     ]
    },
    {
     "name": "stderr",
     "output_type": "stream",
     "text": [
      " 96%|█████████▌| 4977/5197 [3:27:36<10:22,  2.83s/it]"
     ]
    },
    {
     "name": "stdout",
     "output_type": "stream",
     "text": [
      "WAB\n"
     ]
    },
    {
     "name": "stderr",
     "output_type": "stream",
     "text": [
      " 96%|█████████▌| 4978/5197 [3:27:41<12:54,  3.54s/it]"
     ]
    },
    {
     "name": "stdout",
     "output_type": "stream",
     "text": [
      "WABC\n"
     ]
    },
    {
     "name": "stderr",
     "output_type": "stream",
     "text": [
      " 96%|█████████▌| 4979/5197 [3:27:48<16:17,  4.49s/it]"
     ]
    },
    {
     "name": "stdout",
     "output_type": "stream",
     "text": [
      "WAFD\n"
     ]
    },
    {
     "name": "stderr",
     "output_type": "stream",
     "text": [
      " 96%|█████████▌| 4980/5197 [3:27:55<19:36,  5.42s/it]"
     ]
    },
    {
     "name": "stdout",
     "output_type": "stream",
     "text": [
      "WAFU\n"
     ]
    },
    {
     "name": "stderr",
     "output_type": "stream",
     "text": [
      " 96%|█████████▌| 4981/5197 [3:27:57<15:22,  4.27s/it]"
     ]
    },
    {
     "name": "stdout",
     "output_type": "stream",
     "text": [
      "WAL\n"
     ]
    },
    {
     "name": "stderr",
     "output_type": "stream",
     "text": [
      " 96%|█████████▌| 4982/5197 [3:28:00<14:23,  4.02s/it]"
     ]
    },
    {
     "name": "stdout",
     "output_type": "stream",
     "text": [
      "WALD\n"
     ]
    },
    {
     "name": "stderr",
     "output_type": "stream",
     "text": [
      " 96%|█████████▌| 4983/5197 [3:28:02<11:39,  3.27s/it]"
     ]
    },
    {
     "name": "stdout",
     "output_type": "stream",
     "text": [
      "WASH\n"
     ]
    },
    {
     "name": "stderr",
     "output_type": "stream",
     "text": [
      " 96%|█████████▌| 4984/5197 [3:28:06<12:58,  3.65s/it]"
     ]
    },
    {
     "name": "stdout",
     "output_type": "stream",
     "text": [
      "WAT\n"
     ]
    },
    {
     "name": "stderr",
     "output_type": "stream",
     "text": [
      " 96%|█████████▌| 4985/5197 [3:28:13<16:01,  4.54s/it]"
     ]
    },
    {
     "name": "stdout",
     "output_type": "stream",
     "text": [
      "WATT\n"
     ]
    },
    {
     "name": "stderr",
     "output_type": "stream",
     "text": [
      " 96%|█████████▌| 4986/5197 [3:28:15<13:07,  3.73s/it]"
     ]
    },
    {
     "name": "stdout",
     "output_type": "stream",
     "text": [
      "WAVD\n"
     ]
    },
    {
     "name": "stderr",
     "output_type": "stream",
     "text": [
      " 96%|█████████▌| 4987/5197 [3:28:17<11:54,  3.40s/it]"
     ]
    },
    {
     "name": "stdout",
     "output_type": "stream",
     "text": [
      "WAVS\n"
     ]
    },
    {
     "name": "stderr",
     "output_type": "stream",
     "text": [
      " 96%|█████████▌| 4988/5197 [3:28:19<09:47,  2.81s/it]"
     ]
    },
    {
     "name": "stdout",
     "output_type": "stream",
     "text": [
      "WBA\n"
     ]
    },
    {
     "name": "stderr",
     "output_type": "stream",
     "text": [
      " 96%|█████████▌| 4989/5197 [3:28:22<10:27,  3.02s/it]"
     ]
    },
    {
     "name": "stdout",
     "output_type": "stream",
     "text": [
      "WBD\n"
     ]
    },
    {
     "name": "stderr",
     "output_type": "stream",
     "text": [
      " 96%|█████████▌| 4990/5197 [3:28:26<10:55,  3.16s/it]"
     ]
    },
    {
     "name": "stdout",
     "output_type": "stream",
     "text": [
      "WBS\n"
     ]
    },
    {
     "name": "stderr",
     "output_type": "stream",
     "text": [
      " 96%|█████████▌| 4991/5197 [3:28:30<12:00,  3.50s/it]"
     ]
    },
    {
     "name": "stdout",
     "output_type": "stream",
     "text": [
      "WBUY\n"
     ]
    },
    {
     "name": "stderr",
     "output_type": "stream",
     "text": [
      " 96%|█████████▌| 4992/5197 [3:28:32<10:09,  2.97s/it]"
     ]
    },
    {
     "name": "stdout",
     "output_type": "stream",
     "text": [
      "WBX\n"
     ]
    },
    {
     "name": "stderr",
     "output_type": "stream",
     "text": [
      " 96%|█████████▌| 4993/5197 [3:28:33<08:32,  2.51s/it]"
     ]
    },
    {
     "name": "stdout",
     "output_type": "stream",
     "text": [
      "WCC\n"
     ]
    },
    {
     "name": "stderr",
     "output_type": "stream",
     "text": [
      " 96%|█████████▌| 4994/5197 [3:28:37<09:59,  2.95s/it]"
     ]
    },
    {
     "name": "stdout",
     "output_type": "stream",
     "text": [
      "WCN\n"
     ]
    },
    {
     "name": "stderr",
     "output_type": "stream",
     "text": [
      " 96%|█████████▌| 4995/5197 [3:28:42<12:14,  3.64s/it]"
     ]
    },
    {
     "name": "stdout",
     "output_type": "stream",
     "text": [
      "WD\n"
     ]
    },
    {
     "name": "stderr",
     "output_type": "stream",
     "text": [
      " 96%|█████████▌| 4996/5197 [3:28:46<11:50,  3.54s/it]"
     ]
    },
    {
     "name": "stdout",
     "output_type": "stream",
     "text": [
      "WDAY\n"
     ]
    },
    {
     "name": "stderr",
     "output_type": "stream",
     "text": [
      " 96%|█████████▌| 4997/5197 [3:28:48<10:37,  3.19s/it]"
     ]
    },
    {
     "name": "stdout",
     "output_type": "stream",
     "text": [
      "WDC\n"
     ]
    },
    {
     "name": "stderr",
     "output_type": "stream",
     "text": [
      " 96%|█████████▌| 4998/5197 [3:28:54<13:01,  3.93s/it]"
     ]
    },
    {
     "name": "stdout",
     "output_type": "stream",
     "text": [
      "WDFC\n"
     ]
    },
    {
     "name": "stderr",
     "output_type": "stream",
     "text": [
      " 96%|█████████▌| 4999/5197 [3:29:00<15:17,  4.63s/it]"
     ]
    },
    {
     "name": "stdout",
     "output_type": "stream",
     "text": [
      "WEAV\n"
     ]
    },
    {
     "name": "stderr",
     "output_type": "stream",
     "text": [
      " 96%|█████████▌| 5000/5197 [3:29:04<14:52,  4.53s/it]"
     ]
    },
    {
     "name": "stdout",
     "output_type": "stream",
     "text": [
      "WEC\n"
     ]
    },
    {
     "name": "stderr",
     "output_type": "stream",
     "text": [
      " 96%|█████████▌| 5001/5197 [3:29:10<15:45,  4.82s/it]"
     ]
    },
    {
     "name": "stdout",
     "output_type": "stream",
     "text": [
      "WEL\n"
     ]
    },
    {
     "name": "stderr",
     "output_type": "stream",
     "text": [
      " 96%|█████████▌| 5002/5197 [3:29:12<12:42,  3.91s/it]"
     ]
    },
    {
     "name": "stdout",
     "output_type": "stream",
     "text": [
      "WELL\n"
     ]
    },
    {
     "name": "stderr",
     "output_type": "stream",
     "text": [
      " 96%|█████████▋| 5003/5197 [3:29:18<15:18,  4.73s/it]"
     ]
    },
    {
     "name": "stdout",
     "output_type": "stream",
     "text": [
      "WEN\n"
     ]
    },
    {
     "name": "stderr",
     "output_type": "stream",
     "text": [
      " 96%|█████████▋| 5004/5197 [3:29:25<16:59,  5.28s/it]"
     ]
    },
    {
     "name": "stdout",
     "output_type": "stream",
     "text": [
      "WERN\n"
     ]
    },
    {
     "name": "stderr",
     "output_type": "stream",
     "text": [
      " 96%|█████████▋| 5005/5197 [3:29:30<16:41,  5.22s/it]"
     ]
    },
    {
     "name": "stdout",
     "output_type": "stream",
     "text": [
      "WETG\n"
     ]
    },
    {
     "name": "stderr",
     "output_type": "stream",
     "text": [
      " 96%|█████████▋| 5006/5197 [3:29:31<13:02,  4.10s/it]"
     ]
    },
    {
     "name": "stdout",
     "output_type": "stream",
     "text": [
      "WETH\n"
     ]
    },
    {
     "name": "stderr",
     "output_type": "stream",
     "text": [
      " 96%|█████████▋| 5007/5197 [3:29:33<10:21,  3.27s/it]"
     ]
    },
    {
     "name": "stdout",
     "output_type": "stream",
     "text": [
      "WEX\n"
     ]
    },
    {
     "name": "stderr",
     "output_type": "stream",
     "text": [
      " 96%|█████████▋| 5008/5197 [3:29:36<10:02,  3.19s/it]"
     ]
    },
    {
     "name": "stdout",
     "output_type": "stream",
     "text": [
      "WEYS\n"
     ]
    },
    {
     "name": "stderr",
     "output_type": "stream",
     "text": [
      " 96%|█████████▋| 5009/5197 [3:29:40<10:41,  3.41s/it]"
     ]
    },
    {
     "name": "stdout",
     "output_type": "stream",
     "text": [
      "WFC\n"
     ]
    },
    {
     "name": "stderr",
     "output_type": "stream",
     "text": [
      " 96%|█████████▋| 5010/5197 [3:29:44<11:55,  3.83s/it]"
     ]
    },
    {
     "name": "stdout",
     "output_type": "stream",
     "text": [
      "WFCF\n"
     ]
    },
    {
     "name": "stderr",
     "output_type": "stream",
     "text": [
      " 96%|█████████▋| 5011/5197 [3:29:47<10:16,  3.32s/it]"
     ]
    },
    {
     "name": "stdout",
     "output_type": "stream",
     "text": [
      "WFG\n"
     ]
    },
    {
     "name": "stderr",
     "output_type": "stream",
     "text": [
      " 96%|█████████▋| 5012/5197 [3:29:49<09:36,  3.12s/it]"
     ]
    },
    {
     "name": "stdout",
     "output_type": "stream",
     "text": [
      "WFRD\n"
     ]
    },
    {
     "name": "stderr",
     "output_type": "stream",
     "text": [
      " 96%|█████████▋| 5013/5197 [3:29:51<08:31,  2.78s/it]"
     ]
    },
    {
     "name": "stdout",
     "output_type": "stream",
     "text": [
      "WGO\n"
     ]
    },
    {
     "name": "stderr",
     "output_type": "stream",
     "text": [
      " 96%|█████████▋| 5014/5197 [3:29:57<10:57,  3.59s/it]"
     ]
    },
    {
     "name": "stdout",
     "output_type": "stream",
     "text": [
      "WGS\n"
     ]
    },
    {
     "name": "stderr",
     "output_type": "stream",
     "text": [
      " 96%|█████████▋| 5015/5197 [3:29:59<09:37,  3.17s/it]"
     ]
    },
    {
     "name": "stdout",
     "output_type": "stream",
     "text": [
      "WH\n"
     ]
    },
    {
     "name": "stderr",
     "output_type": "stream",
     "text": [
      " 97%|█████████▋| 5016/5197 [3:30:01<08:49,  2.93s/it]"
     ]
    },
    {
     "name": "stdout",
     "output_type": "stream",
     "text": [
      "WHD\n"
     ]
    },
    {
     "name": "stderr",
     "output_type": "stream",
     "text": [
      " 97%|█████████▋| 5017/5197 [3:30:03<08:10,  2.72s/it]"
     ]
    },
    {
     "name": "stdout",
     "output_type": "stream",
     "text": [
      "WHF\n"
     ]
    },
    {
     "name": "stderr",
     "output_type": "stream",
     "text": [
      " 97%|█████████▋| 5018/5197 [3:30:07<08:51,  2.97s/it]"
     ]
    },
    {
     "name": "stdout",
     "output_type": "stream",
     "text": [
      "WHG\n"
     ]
    },
    {
     "name": "stderr",
     "output_type": "stream",
     "text": [
      " 97%|█████████▋| 5019/5197 [3:30:10<08:58,  3.03s/it]"
     ]
    },
    {
     "name": "stdout",
     "output_type": "stream",
     "text": [
      "WHLM\n"
     ]
    },
    {
     "name": "stderr",
     "output_type": "stream",
     "text": [
      " 97%|█████████▋| 5020/5197 [3:30:13<08:48,  2.99s/it]"
     ]
    },
    {
     "name": "stdout",
     "output_type": "stream",
     "text": [
      "WHLR\n"
     ]
    },
    {
     "name": "stderr",
     "output_type": "stream",
     "text": [
      " 97%|█████████▋| 5021/5197 [3:30:16<08:22,  2.85s/it]"
     ]
    },
    {
     "name": "stdout",
     "output_type": "stream",
     "text": [
      "WHR\n"
     ]
    },
    {
     "name": "stderr",
     "output_type": "stream",
     "text": [
      " 97%|█████████▋| 5022/5197 [3:30:22<11:08,  3.82s/it]"
     ]
    },
    {
     "name": "stdout",
     "output_type": "stream",
     "text": [
      "WILC\n"
     ]
    },
    {
     "name": "stderr",
     "output_type": "stream",
     "text": [
      " 97%|█████████▋| 5023/5197 [3:30:25<10:23,  3.59s/it]"
     ]
    },
    {
     "name": "stdout",
     "output_type": "stream",
     "text": [
      "WIMI\n"
     ]
    },
    {
     "name": "stderr",
     "output_type": "stream",
     "text": [
      " 97%|█████████▋| 5024/5197 [3:30:27<08:58,  3.11s/it]"
     ]
    },
    {
     "name": "stdout",
     "output_type": "stream",
     "text": [
      "WINA\n"
     ]
    },
    {
     "name": "stderr",
     "output_type": "stream",
     "text": [
      " 97%|█████████▋| 5025/5197 [3:30:32<10:28,  3.66s/it]"
     ]
    },
    {
     "name": "stdout",
     "output_type": "stream",
     "text": [
      "WING\n"
     ]
    },
    {
     "name": "stderr",
     "output_type": "stream",
     "text": [
      " 97%|█████████▋| 5026/5197 [3:30:34<09:09,  3.22s/it]"
     ]
    },
    {
     "name": "stdout",
     "output_type": "stream",
     "text": [
      "WINT\n"
     ]
    },
    {
     "name": "stderr",
     "output_type": "stream",
     "text": [
      " 97%|█████████▋| 5027/5197 [3:30:37<08:42,  3.07s/it]"
     ]
    },
    {
     "name": "stdout",
     "output_type": "stream",
     "text": [
      "WINV\n"
     ]
    },
    {
     "name": "stderr",
     "output_type": "stream",
     "text": [
      " 97%|█████████▋| 5028/5197 [3:30:38<07:14,  2.57s/it]"
     ]
    },
    {
     "name": "stdout",
     "output_type": "stream",
     "text": [
      "WIRE\n"
     ]
    },
    {
     "name": "stderr",
     "output_type": "stream",
     "text": [
      " 97%|█████████▋| 5029/5197 [3:30:43<09:10,  3.28s/it]"
     ]
    },
    {
     "name": "stdout",
     "output_type": "stream",
     "text": [
      "WISA\n"
     ]
    },
    {
     "name": "stderr",
     "output_type": "stream",
     "text": [
      " 97%|█████████▋| 5030/5197 [3:30:45<08:04,  2.90s/it]"
     ]
    },
    {
     "name": "stdout",
     "output_type": "stream",
     "text": [
      "WISH\n"
     ]
    },
    {
     "name": "stderr",
     "output_type": "stream",
     "text": [
      " 97%|█████████▋| 5031/5197 [3:30:47<06:55,  2.50s/it]"
     ]
    },
    {
     "name": "stdout",
     "output_type": "stream",
     "text": [
      "WIX\n"
     ]
    },
    {
     "name": "stderr",
     "output_type": "stream",
     "text": [
      " 97%|█████████▋| 5032/5197 [3:30:48<06:22,  2.32s/it]"
     ]
    },
    {
     "name": "stdout",
     "output_type": "stream",
     "text": [
      "WK\n"
     ]
    },
    {
     "name": "stderr",
     "output_type": "stream",
     "text": [
      " 97%|█████████▋| 5033/5197 [3:30:51<06:13,  2.28s/it]"
     ]
    },
    {
     "name": "stdout",
     "output_type": "stream",
     "text": [
      "WKC\n"
     ]
    },
    {
     "name": "stderr",
     "output_type": "stream",
     "text": [
      " 97%|█████████▋| 5034/5197 [3:30:57<09:29,  3.49s/it]"
     ]
    },
    {
     "name": "stdout",
     "output_type": "stream",
     "text": [
      "WKHS\n"
     ]
    },
    {
     "name": "stderr",
     "output_type": "stream",
     "text": [
      " 97%|█████████▋| 5035/5197 [3:30:59<08:37,  3.19s/it]"
     ]
    },
    {
     "name": "stdout",
     "output_type": "stream",
     "text": [
      "WKME\n"
     ]
    },
    {
     "name": "stderr",
     "output_type": "stream",
     "text": [
      " 97%|█████████▋| 5036/5197 [3:31:01<07:14,  2.70s/it]"
     ]
    },
    {
     "name": "stdout",
     "output_type": "stream",
     "text": [
      "WKSP\n"
     ]
    },
    {
     "name": "stderr",
     "output_type": "stream",
     "text": [
      " 97%|█████████▋| 5037/5197 [3:31:03<06:57,  2.61s/it]"
     ]
    },
    {
     "name": "stdout",
     "output_type": "stream",
     "text": [
      "WLDN\n"
     ]
    },
    {
     "name": "stderr",
     "output_type": "stream",
     "text": [
      " 97%|█████████▋| 5038/5197 [3:31:06<06:40,  2.52s/it]"
     ]
    },
    {
     "name": "stdout",
     "output_type": "stream",
     "text": [
      "WLDS\n"
     ]
    },
    {
     "name": "stderr",
     "output_type": "stream",
     "text": [
      " 97%|█████████▋| 5039/5197 [3:31:07<05:45,  2.19s/it]"
     ]
    },
    {
     "name": "stdout",
     "output_type": "stream",
     "text": [
      "WLFC\n"
     ]
    },
    {
     "name": "stderr",
     "output_type": "stream",
     "text": [
      " 97%|█████████▋| 5040/5197 [3:31:12<07:38,  2.92s/it]"
     ]
    },
    {
     "name": "stdout",
     "output_type": "stream",
     "text": [
      "WLGS\n"
     ]
    },
    {
     "name": "stderr",
     "output_type": "stream",
     "text": [
      " 97%|█████████▋| 5041/5197 [3:31:13<06:23,  2.46s/it]"
     ]
    },
    {
     "name": "stdout",
     "output_type": "stream",
     "text": [
      "WLK\n"
     ]
    },
    {
     "name": "stderr",
     "output_type": "stream",
     "text": [
      " 97%|█████████▋| 5042/5197 [3:31:18<08:03,  3.12s/it]"
     ]
    },
    {
     "name": "stdout",
     "output_type": "stream",
     "text": [
      "WLY\n"
     ]
    },
    {
     "name": "stderr",
     "output_type": "stream",
     "text": [
      " 97%|█████████▋| 5043/5197 [3:31:21<08:19,  3.24s/it]"
     ]
    },
    {
     "name": "stdout",
     "output_type": "stream",
     "text": [
      "WLYB\n"
     ]
    },
    {
     "name": "stderr",
     "output_type": "stream",
     "text": [
      " 97%|█████████▋| 5044/5197 [3:31:25<08:46,  3.44s/it]"
     ]
    },
    {
     "name": "stdout",
     "output_type": "stream",
     "text": [
      "WM\n"
     ]
    },
    {
     "name": "stderr",
     "output_type": "stream",
     "text": [
      " 97%|█████████▋| 5045/5197 [3:31:31<10:08,  4.01s/it]"
     ]
    },
    {
     "name": "stdout",
     "output_type": "stream",
     "text": [
      "WMB\n"
     ]
    },
    {
     "name": "stderr",
     "output_type": "stream",
     "text": [
      " 97%|█████████▋| 5046/5197 [3:31:37<12:13,  4.85s/it]"
     ]
    },
    {
     "name": "stdout",
     "output_type": "stream",
     "text": [
      "WMG\n"
     ]
    },
    {
     "name": "stderr",
     "output_type": "stream",
     "text": [
      " 97%|█████████▋| 5047/5197 [3:31:41<11:00,  4.40s/it]"
     ]
    },
    {
     "name": "stdout",
     "output_type": "stream",
     "text": [
      "WMK\n"
     ]
    },
    {
     "name": "stderr",
     "output_type": "stream",
     "text": [
      " 97%|█████████▋| 5048/5197 [3:31:49<13:44,  5.53s/it]"
     ]
    },
    {
     "name": "stdout",
     "output_type": "stream",
     "text": [
      "WMPN\n"
     ]
    },
    {
     "name": "stderr",
     "output_type": "stream",
     "text": [
      " 97%|█████████▋| 5049/5197 [3:31:51<11:25,  4.64s/it]"
     ]
    },
    {
     "name": "stdout",
     "output_type": "stream",
     "text": [
      "WMS\n"
     ]
    },
    {
     "name": "stderr",
     "output_type": "stream",
     "text": [
      " 97%|█████████▋| 5050/5197 [3:31:54<10:07,  4.13s/it]"
     ]
    },
    {
     "name": "stdout",
     "output_type": "stream",
     "text": [
      "WMT\n"
     ]
    },
    {
     "name": "stderr",
     "output_type": "stream",
     "text": [
      " 97%|█████████▋| 5051/5197 [3:32:02<12:17,  5.05s/it]"
     ]
    },
    {
     "name": "stdout",
     "output_type": "stream",
     "text": [
      "WNC\n"
     ]
    },
    {
     "name": "stderr",
     "output_type": "stream",
     "text": [
      " 97%|█████████▋| 5052/5197 [3:32:08<13:02,  5.39s/it]"
     ]
    },
    {
     "name": "stdout",
     "output_type": "stream",
     "text": [
      "WNEB\n"
     ]
    },
    {
     "name": "stderr",
     "output_type": "stream",
     "text": [
      " 97%|█████████▋| 5053/5197 [3:32:12<12:07,  5.05s/it]"
     ]
    },
    {
     "name": "stdout",
     "output_type": "stream",
     "text": [
      "WNNR\n"
     ]
    },
    {
     "name": "stderr",
     "output_type": "stream",
     "text": [
      " 97%|█████████▋| 5054/5197 [3:32:14<09:43,  4.08s/it]"
     ]
    },
    {
     "name": "stdout",
     "output_type": "stream",
     "text": [
      "WNW\n"
     ]
    },
    {
     "name": "stderr",
     "output_type": "stream",
     "text": [
      " 97%|█████████▋| 5055/5197 [3:32:15<07:53,  3.33s/it]"
     ]
    },
    {
     "name": "stdout",
     "output_type": "stream",
     "text": [
      "WOLF\n"
     ]
    },
    {
     "name": "stderr",
     "output_type": "stream",
     "text": [
      " 97%|█████████▋| 5056/5197 [3:32:20<08:45,  3.72s/it]"
     ]
    },
    {
     "name": "stdout",
     "output_type": "stream",
     "text": [
      "WOOF\n"
     ]
    },
    {
     "name": "stderr",
     "output_type": "stream",
     "text": [
      " 97%|█████████▋| 5057/5197 [3:32:22<07:26,  3.19s/it]"
     ]
    },
    {
     "name": "stdout",
     "output_type": "stream",
     "text": [
      "WOR\n"
     ]
    },
    {
     "name": "stderr",
     "output_type": "stream",
     "text": [
      " 97%|█████████▋| 5058/5197 [3:32:31<11:19,  4.89s/it]"
     ]
    },
    {
     "name": "stdout",
     "output_type": "stream",
     "text": [
      "WORX\n"
     ]
    },
    {
     "name": "stderr",
     "output_type": "stream",
     "text": [
      " 97%|█████████▋| 5059/5197 [3:32:33<09:11,  4.00s/it]"
     ]
    },
    {
     "name": "stdout",
     "output_type": "stream",
     "text": [
      "WOW\n"
     ]
    },
    {
     "name": "stderr",
     "output_type": "stream",
     "text": [
      " 97%|█████████▋| 5060/5197 [3:32:35<07:46,  3.41s/it]"
     ]
    },
    {
     "name": "stdout",
     "output_type": "stream",
     "text": [
      "WPC\n"
     ]
    },
    {
     "name": "stderr",
     "output_type": "stream",
     "text": [
      " 97%|█████████▋| 5061/5197 [3:32:40<08:47,  3.88s/it]"
     ]
    },
    {
     "name": "stdout",
     "output_type": "stream",
     "text": [
      "WPM\n"
     ]
    },
    {
     "name": "stderr",
     "output_type": "stream",
     "text": [
      " 97%|█████████▋| 5062/5197 [3:32:44<09:10,  4.08s/it]"
     ]
    },
    {
     "name": "stdout",
     "output_type": "stream",
     "text": [
      "WPRT\n"
     ]
    },
    {
     "name": "stderr",
     "output_type": "stream",
     "text": [
      " 97%|█████████▋| 5063/5197 [3:32:47<08:11,  3.67s/it]"
     ]
    },
    {
     "name": "stdout",
     "output_type": "stream",
     "text": [
      "WRAP\n"
     ]
    },
    {
     "name": "stderr",
     "output_type": "stream",
     "text": [
      " 97%|█████████▋| 5064/5197 [3:32:49<06:53,  3.11s/it]"
     ]
    },
    {
     "name": "stdout",
     "output_type": "stream",
     "text": [
      "WRB\n"
     ]
    },
    {
     "name": "stderr",
     "output_type": "stream",
     "text": [
      " 97%|█████████▋| 5065/5197 [3:32:56<09:40,  4.40s/it]"
     ]
    },
    {
     "name": "stdout",
     "output_type": "stream",
     "text": [
      "WRBY\n"
     ]
    },
    {
     "name": "stderr",
     "output_type": "stream",
     "text": [
      " 97%|█████████▋| 5066/5197 [3:32:58<07:38,  3.50s/it]"
     ]
    },
    {
     "name": "stdout",
     "output_type": "stream",
     "text": [
      "WRK\n"
     ]
    },
    {
     "name": "stderr",
     "output_type": "stream",
     "text": [
      " 97%|█████████▋| 5067/5197 [3:33:00<06:47,  3.13s/it]"
     ]
    },
    {
     "name": "stdout",
     "output_type": "stream",
     "text": [
      "WRLD\n"
     ]
    },
    {
     "name": "stderr",
     "output_type": "stream",
     "text": [
      " 98%|█████████▊| 5068/5197 [3:33:05<08:03,  3.75s/it]"
     ]
    },
    {
     "name": "stdout",
     "output_type": "stream",
     "text": [
      "WRN\n"
     ]
    },
    {
     "name": "stderr",
     "output_type": "stream",
     "text": [
      " 98%|█████████▊| 5069/5197 [3:33:07<06:52,  3.22s/it]"
     ]
    },
    {
     "name": "stdout",
     "output_type": "stream",
     "text": [
      "WS\n"
     ]
    },
    {
     "name": "stderr",
     "output_type": "stream",
     "text": [
      " 98%|█████████▊| 5070/5197 [3:33:08<05:37,  2.66s/it]"
     ]
    },
    {
     "name": "stdout",
     "output_type": "stream",
     "text": [
      "WSBC\n"
     ]
    },
    {
     "name": "stderr",
     "output_type": "stream",
     "text": [
      " 98%|█████████▊| 5071/5197 [3:33:12<05:55,  2.82s/it]"
     ]
    },
    {
     "name": "stdout",
     "output_type": "stream",
     "text": [
      "WSBF\n"
     ]
    },
    {
     "name": "stderr",
     "output_type": "stream",
     "text": [
      " 98%|█████████▊| 5072/5197 [3:33:14<05:51,  2.81s/it]"
     ]
    },
    {
     "name": "stdout",
     "output_type": "stream",
     "text": [
      "WSC\n"
     ]
    },
    {
     "name": "stderr",
     "output_type": "stream",
     "text": [
      " 98%|█████████▊| 5073/5197 [3:33:17<05:40,  2.74s/it]"
     ]
    },
    {
     "name": "stdout",
     "output_type": "stream",
     "text": [
      "WSFS\n"
     ]
    },
    {
     "name": "stderr",
     "output_type": "stream",
     "text": [
      " 98%|█████████▊| 5074/5197 [3:33:21<06:24,  3.12s/it]"
     ]
    },
    {
     "name": "stdout",
     "output_type": "stream",
     "text": [
      "WSM\n"
     ]
    },
    {
     "name": "stderr",
     "output_type": "stream",
     "text": [
      " 98%|█████████▊| 5075/5197 [3:33:26<07:16,  3.57s/it]"
     ]
    },
    {
     "name": "stdout",
     "output_type": "stream",
     "text": [
      "WSO\n"
     ]
    },
    {
     "name": "stderr",
     "output_type": "stream",
     "text": [
      " 98%|█████████▊| 5076/5197 [3:33:31<08:28,  4.20s/it]\n",
      "1 Failed download:\n",
      "['WSOB']: Exception('%ticker%: No timezone found, symbol may be delisted')\n"
     ]
    },
    {
     "name": "stdout",
     "output_type": "stream",
     "text": [
      "WSOb\n"
     ]
    },
    {
     "name": "stderr",
     "output_type": "stream",
     "text": [
      " 98%|█████████▊| 5077/5197 [3:33:34<07:27,  3.73s/it]"
     ]
    },
    {
     "name": "stdout",
     "output_type": "stream",
     "text": [
      "WST\n"
     ]
    },
    {
     "name": "stderr",
     "output_type": "stream",
     "text": [
      " 98%|█████████▊| 5078/5197 [3:33:40<09:00,  4.54s/it]"
     ]
    },
    {
     "name": "stdout",
     "output_type": "stream",
     "text": [
      "WT\n"
     ]
    },
    {
     "name": "stderr",
     "output_type": "stream",
     "text": [
      " 98%|█████████▊| 5079/5197 [3:33:44<08:37,  4.38s/it]"
     ]
    },
    {
     "name": "stdout",
     "output_type": "stream",
     "text": [
      "WTBA\n"
     ]
    },
    {
     "name": "stderr",
     "output_type": "stream",
     "text": [
      " 98%|█████████▊| 5080/5197 [3:33:48<08:16,  4.24s/it]"
     ]
    },
    {
     "name": "stdout",
     "output_type": "stream",
     "text": [
      "WTFC\n"
     ]
    },
    {
     "name": "stderr",
     "output_type": "stream",
     "text": [
      " 98%|█████████▊| 5081/5197 [3:33:53<08:34,  4.44s/it]"
     ]
    },
    {
     "name": "stdout",
     "output_type": "stream",
     "text": [
      "WTI\n"
     ]
    },
    {
     "name": "stderr",
     "output_type": "stream",
     "text": [
      " 98%|█████████▊| 5082/5197 [3:33:58<08:38,  4.51s/it]"
     ]
    },
    {
     "name": "stdout",
     "output_type": "stream",
     "text": [
      "WTM\n"
     ]
    },
    {
     "name": "stderr",
     "output_type": "stream",
     "text": [
      " 98%|█████████▊| 5083/5197 [3:34:05<10:01,  5.28s/it]"
     ]
    },
    {
     "name": "stdout",
     "output_type": "stream",
     "text": [
      "WTMA\n"
     ]
    },
    {
     "name": "stderr",
     "output_type": "stream",
     "text": [
      " 98%|█████████▊| 5084/5197 [3:34:07<08:00,  4.26s/it]"
     ]
    },
    {
     "name": "stdout",
     "output_type": "stream",
     "text": [
      "WTO\n"
     ]
    },
    {
     "name": "stderr",
     "output_type": "stream",
     "text": [
      " 98%|█████████▊| 5085/5197 [3:34:08<06:28,  3.47s/it]"
     ]
    },
    {
     "name": "stdout",
     "output_type": "stream",
     "text": [
      "WTRG\n"
     ]
    },
    {
     "name": "stderr",
     "output_type": "stream",
     "text": [
      " 98%|█████████▊| 5086/5197 [3:34:13<07:03,  3.81s/it]"
     ]
    },
    {
     "name": "stdout",
     "output_type": "stream",
     "text": [
      "WTS\n"
     ]
    },
    {
     "name": "stderr",
     "output_type": "stream",
     "text": [
      " 98%|█████████▊| 5087/5197 [3:34:18<07:32,  4.12s/it]"
     ]
    },
    {
     "name": "stdout",
     "output_type": "stream",
     "text": [
      "WTTR\n"
     ]
    },
    {
     "name": "stderr",
     "output_type": "stream",
     "text": [
      " 98%|█████████▊| 5088/5197 [3:34:20<06:09,  3.39s/it]"
     ]
    },
    {
     "name": "stdout",
     "output_type": "stream",
     "text": [
      "WTW\n"
     ]
    },
    {
     "name": "stderr",
     "output_type": "stream",
     "text": [
      " 98%|█████████▊| 5089/5197 [3:34:23<05:57,  3.31s/it]"
     ]
    },
    {
     "name": "stdout",
     "output_type": "stream",
     "text": [
      "WU\n"
     ]
    },
    {
     "name": "stderr",
     "output_type": "stream",
     "text": [
      " 98%|█████████▊| 5090/5197 [3:34:27<06:18,  3.54s/it]"
     ]
    },
    {
     "name": "stdout",
     "output_type": "stream",
     "text": [
      "WULF\n"
     ]
    },
    {
     "name": "stderr",
     "output_type": "stream",
     "text": [
      " 98%|█████████▊| 5091/5197 [3:34:31<06:38,  3.76s/it]"
     ]
    },
    {
     "name": "stdout",
     "output_type": "stream",
     "text": [
      "WVE\n"
     ]
    },
    {
     "name": "stderr",
     "output_type": "stream",
     "text": [
      " 98%|█████████▊| 5092/5197 [3:34:33<05:51,  3.35s/it]"
     ]
    },
    {
     "name": "stdout",
     "output_type": "stream",
     "text": [
      "WVVI\n"
     ]
    },
    {
     "name": "stderr",
     "output_type": "stream",
     "text": [
      " 98%|█████████▊| 5093/5197 [3:34:37<05:54,  3.41s/it]"
     ]
    },
    {
     "name": "stdout",
     "output_type": "stream",
     "text": [
      "WW\n"
     ]
    },
    {
     "name": "stderr",
     "output_type": "stream",
     "text": [
      " 98%|█████████▊| 5094/5197 [3:34:40<05:52,  3.42s/it]"
     ]
    },
    {
     "name": "stdout",
     "output_type": "stream",
     "text": [
      "WWD\n"
     ]
    },
    {
     "name": "stderr",
     "output_type": "stream",
     "text": [
      " 98%|█████████▊| 5095/5197 [3:34:46<06:55,  4.08s/it]"
     ]
    },
    {
     "name": "stdout",
     "output_type": "stream",
     "text": [
      "WWR\n"
     ]
    },
    {
     "name": "stderr",
     "output_type": "stream",
     "text": [
      " 98%|█████████▊| 5096/5197 [3:34:49<06:05,  3.62s/it]"
     ]
    },
    {
     "name": "stdout",
     "output_type": "stream",
     "text": [
      "WWW\n"
     ]
    },
    {
     "name": "stderr",
     "output_type": "stream",
     "text": [
      " 98%|█████████▊| 5097/5197 [3:34:55<07:23,  4.44s/it]"
     ]
    },
    {
     "name": "stdout",
     "output_type": "stream",
     "text": [
      "WY\n"
     ]
    },
    {
     "name": "stderr",
     "output_type": "stream",
     "text": [
      " 98%|█████████▊| 5098/5197 [3:35:00<07:49,  4.74s/it]"
     ]
    },
    {
     "name": "stdout",
     "output_type": "stream",
     "text": [
      "WYNN\n"
     ]
    },
    {
     "name": "stderr",
     "output_type": "stream",
     "text": [
      " 98%|█████████▊| 5099/5197 [3:35:05<07:26,  4.56s/it]"
     ]
    },
    {
     "name": "stdout",
     "output_type": "stream",
     "text": [
      "WYY\n"
     ]
    },
    {
     "name": "stderr",
     "output_type": "stream",
     "text": [
      " 98%|█████████▊| 5100/5197 [3:35:08<06:43,  4.16s/it]"
     ]
    },
    {
     "name": "stdout",
     "output_type": "stream",
     "text": [
      "X\n"
     ]
    },
    {
     "name": "stderr",
     "output_type": "stream",
     "text": [
      " 98%|█████████▊| 5101/5197 [3:35:15<07:56,  4.97s/it]"
     ]
    },
    {
     "name": "stdout",
     "output_type": "stream",
     "text": [
      "XAIR\n"
     ]
    },
    {
     "name": "stderr",
     "output_type": "stream",
     "text": [
      " 98%|█████████▊| 5102/5197 [3:35:16<06:19,  3.99s/it]"
     ]
    },
    {
     "name": "stdout",
     "output_type": "stream",
     "text": [
      "XBIO\n"
     ]
    },
    {
     "name": "stderr",
     "output_type": "stream",
     "text": [
      " 98%|█████████▊| 5103/5197 [3:35:19<05:47,  3.69s/it]"
     ]
    },
    {
     "name": "stdout",
     "output_type": "stream",
     "text": [
      "XBIT\n"
     ]
    },
    {
     "name": "stderr",
     "output_type": "stream",
     "text": [
      " 98%|█████████▊| 5104/5197 [3:35:22<05:07,  3.30s/it]"
     ]
    },
    {
     "name": "stdout",
     "output_type": "stream",
     "text": [
      "XBP\n"
     ]
    },
    {
     "name": "stderr",
     "output_type": "stream",
     "text": [
      " 98%|█████████▊| 5105/5197 [3:35:23<04:12,  2.74s/it]"
     ]
    },
    {
     "name": "stdout",
     "output_type": "stream",
     "text": [
      "XCUR\n"
     ]
    },
    {
     "name": "stderr",
     "output_type": "stream",
     "text": [
      " 98%|█████████▊| 5106/5197 [3:35:25<03:51,  2.54s/it]"
     ]
    },
    {
     "name": "stdout",
     "output_type": "stream",
     "text": [
      "XEL\n"
     ]
    },
    {
     "name": "stderr",
     "output_type": "stream",
     "text": [
      " 98%|█████████▊| 5107/5197 [3:35:31<05:03,  3.38s/it]"
     ]
    },
    {
     "name": "stdout",
     "output_type": "stream",
     "text": [
      "XELA\n"
     ]
    },
    {
     "name": "stderr",
     "output_type": "stream",
     "text": [
      " 98%|█████████▊| 5108/5197 [3:35:33<04:27,  3.00s/it]"
     ]
    },
    {
     "name": "stdout",
     "output_type": "stream",
     "text": [
      "XELB\n"
     ]
    },
    {
     "name": "stderr",
     "output_type": "stream",
     "text": [
      " 98%|█████████▊| 5109/5197 [3:35:35<03:57,  2.70s/it]"
     ]
    },
    {
     "name": "stdout",
     "output_type": "stream",
     "text": [
      "XENE\n"
     ]
    },
    {
     "name": "stderr",
     "output_type": "stream",
     "text": [
      " 98%|█████████▊| 5110/5197 [3:35:38<04:03,  2.80s/it]"
     ]
    },
    {
     "name": "stdout",
     "output_type": "stream",
     "text": [
      "XERS\n"
     ]
    },
    {
     "name": "stderr",
     "output_type": "stream",
     "text": [
      " 98%|█████████▊| 5111/5197 [3:35:40<03:40,  2.56s/it]"
     ]
    },
    {
     "name": "stdout",
     "output_type": "stream",
     "text": [
      "XFIN\n"
     ]
    },
    {
     "name": "stderr",
     "output_type": "stream",
     "text": [
      " 98%|█████████▊| 5112/5197 [3:35:41<03:07,  2.21s/it]"
     ]
    },
    {
     "name": "stdout",
     "output_type": "stream",
     "text": [
      "XFOR\n"
     ]
    },
    {
     "name": "stderr",
     "output_type": "stream",
     "text": [
      " 98%|█████████▊| 5113/5197 [3:35:43<02:53,  2.06s/it]"
     ]
    },
    {
     "name": "stdout",
     "output_type": "stream",
     "text": [
      "XGN\n"
     ]
    },
    {
     "name": "stderr",
     "output_type": "stream",
     "text": [
      " 98%|█████████▊| 5114/5197 [3:35:44<02:39,  1.93s/it]"
     ]
    },
    {
     "name": "stdout",
     "output_type": "stream",
     "text": [
      "XLO\n"
     ]
    },
    {
     "name": "stderr",
     "output_type": "stream",
     "text": [
      " 98%|█████████▊| 5115/5197 [3:35:46<02:27,  1.79s/it]"
     ]
    },
    {
     "name": "stdout",
     "output_type": "stream",
     "text": [
      "XMTR\n"
     ]
    },
    {
     "name": "stderr",
     "output_type": "stream",
     "text": [
      " 98%|█████████▊| 5116/5197 [3:35:48<02:24,  1.79s/it]"
     ]
    },
    {
     "name": "stdout",
     "output_type": "stream",
     "text": [
      "XNCR\n"
     ]
    },
    {
     "name": "stderr",
     "output_type": "stream",
     "text": [
      " 98%|█████████▊| 5117/5197 [3:35:50<02:27,  1.85s/it]"
     ]
    },
    {
     "name": "stdout",
     "output_type": "stream",
     "text": [
      "XOM\n"
     ]
    },
    {
     "name": "stderr",
     "output_type": "stream",
     "text": [
      " 98%|█████████▊| 5118/5197 [3:35:56<04:02,  3.07s/it]"
     ]
    },
    {
     "name": "stdout",
     "output_type": "stream",
     "text": [
      "XOMA\n"
     ]
    },
    {
     "name": "stderr",
     "output_type": "stream",
     "text": [
      " 98%|█████████▊| 5119/5197 [3:36:01<04:51,  3.74s/it]"
     ]
    },
    {
     "name": "stdout",
     "output_type": "stream",
     "text": [
      "XOS\n"
     ]
    },
    {
     "name": "stderr",
     "output_type": "stream",
     "text": [
      " 99%|█████████▊| 5120/5197 [3:36:03<03:59,  3.12s/it]"
     ]
    },
    {
     "name": "stdout",
     "output_type": "stream",
     "text": [
      "XP\n"
     ]
    },
    {
     "name": "stderr",
     "output_type": "stream",
     "text": [
      " 99%|█████████▊| 5121/5197 [3:36:04<03:30,  2.77s/it]"
     ]
    },
    {
     "name": "stdout",
     "output_type": "stream",
     "text": [
      "XPDB\n"
     ]
    },
    {
     "name": "stderr",
     "output_type": "stream",
     "text": [
      " 99%|█████████▊| 5122/5197 [3:36:06<03:05,  2.48s/it]"
     ]
    },
    {
     "name": "stdout",
     "output_type": "stream",
     "text": [
      "XPEL\n"
     ]
    },
    {
     "name": "stderr",
     "output_type": "stream",
     "text": [
      " 99%|█████████▊| 5123/5197 [3:36:08<02:46,  2.26s/it]"
     ]
    },
    {
     "name": "stdout",
     "output_type": "stream",
     "text": [
      "XPER\n"
     ]
    },
    {
     "name": "stderr",
     "output_type": "stream",
     "text": [
      " 99%|█████████▊| 5124/5197 [3:36:09<02:26,  2.01s/it]"
     ]
    },
    {
     "name": "stdout",
     "output_type": "stream",
     "text": [
      "XPEV\n"
     ]
    },
    {
     "name": "stderr",
     "output_type": "stream",
     "text": [
      " 99%|█████████▊| 5125/5197 [3:36:11<02:14,  1.87s/it]"
     ]
    },
    {
     "name": "stdout",
     "output_type": "stream",
     "text": [
      "XPL\n"
     ]
    },
    {
     "name": "stderr",
     "output_type": "stream",
     "text": [
      " 99%|█████████▊| 5126/5197 [3:36:13<02:23,  2.02s/it]"
     ]
    },
    {
     "name": "stdout",
     "output_type": "stream",
     "text": [
      "XPO\n"
     ]
    },
    {
     "name": "stderr",
     "output_type": "stream",
     "text": [
      " 99%|█████████▊| 5127/5197 [3:36:18<03:06,  2.67s/it]"
     ]
    },
    {
     "name": "stdout",
     "output_type": "stream",
     "text": [
      "XPOF\n"
     ]
    },
    {
     "name": "stderr",
     "output_type": "stream",
     "text": [
      " 99%|█████████▊| 5128/5197 [3:36:19<02:42,  2.35s/it]"
     ]
    },
    {
     "name": "stdout",
     "output_type": "stream",
     "text": [
      "XPON\n"
     ]
    },
    {
     "name": "stderr",
     "output_type": "stream",
     "text": [
      " 99%|█████████▊| 5129/5197 [3:36:21<02:21,  2.08s/it]"
     ]
    },
    {
     "name": "stdout",
     "output_type": "stream",
     "text": [
      "XPRO\n"
     ]
    },
    {
     "name": "stderr",
     "output_type": "stream",
     "text": [
      " 99%|█████████▊| 5130/5197 [3:36:23<02:32,  2.28s/it]"
     ]
    },
    {
     "name": "stdout",
     "output_type": "stream",
     "text": [
      "XRAY\n"
     ]
    },
    {
     "name": "stderr",
     "output_type": "stream",
     "text": [
      " 99%|█████████▊| 5131/5197 [3:36:30<03:53,  3.53s/it]"
     ]
    },
    {
     "name": "stdout",
     "output_type": "stream",
     "text": [
      "XRX\n"
     ]
    },
    {
     "name": "stderr",
     "output_type": "stream",
     "text": [
      " 99%|█████████▊| 5132/5197 [3:36:42<06:31,  6.03s/it]"
     ]
    },
    {
     "name": "stdout",
     "output_type": "stream",
     "text": [
      "XTIA\n"
     ]
    },
    {
     "name": "stderr",
     "output_type": "stream",
     "text": [
      " 99%|█████████▉| 5133/5197 [3:36:43<04:55,  4.62s/it]"
     ]
    },
    {
     "name": "stdout",
     "output_type": "stream",
     "text": [
      "XTKG\n"
     ]
    },
    {
     "name": "stderr",
     "output_type": "stream",
     "text": [
      " 99%|█████████▉| 5134/5197 [3:36:45<03:56,  3.76s/it]"
     ]
    },
    {
     "name": "stdout",
     "output_type": "stream",
     "text": [
      "XTNT\n"
     ]
    },
    {
     "name": "stderr",
     "output_type": "stream",
     "text": [
      " 99%|█████████▉| 5135/5197 [3:36:47<03:34,  3.45s/it]"
     ]
    },
    {
     "name": "stdout",
     "output_type": "stream",
     "text": [
      "XXII\n"
     ]
    },
    {
     "name": "stderr",
     "output_type": "stream",
     "text": [
      " 99%|█████████▉| 5136/5197 [3:36:50<03:22,  3.32s/it]"
     ]
    },
    {
     "name": "stdout",
     "output_type": "stream",
     "text": [
      "XYL\n"
     ]
    },
    {
     "name": "stderr",
     "output_type": "stream",
     "text": [
      " 99%|█████████▉| 5137/5197 [3:36:53<03:11,  3.19s/it]"
     ]
    },
    {
     "name": "stdout",
     "output_type": "stream",
     "text": [
      "YALA\n"
     ]
    },
    {
     "name": "stderr",
     "output_type": "stream",
     "text": [
      " 99%|█████████▉| 5138/5197 [3:36:55<02:41,  2.73s/it]"
     ]
    },
    {
     "name": "stdout",
     "output_type": "stream",
     "text": [
      "YCBD\n"
     ]
    },
    {
     "name": "stderr",
     "output_type": "stream",
     "text": [
      " 99%|█████████▉| 5139/5197 [3:36:57<02:21,  2.45s/it]"
     ]
    },
    {
     "name": "stdout",
     "output_type": "stream",
     "text": [
      "YELP\n"
     ]
    },
    {
     "name": "stderr",
     "output_type": "stream",
     "text": [
      " 99%|█████████▉| 5140/5197 [3:36:59<02:21,  2.49s/it]"
     ]
    },
    {
     "name": "stdout",
     "output_type": "stream",
     "text": [
      "YETI\n"
     ]
    },
    {
     "name": "stderr",
     "output_type": "stream",
     "text": [
      " 99%|█████████▉| 5141/5197 [3:37:03<02:36,  2.79s/it]"
     ]
    },
    {
     "name": "stdout",
     "output_type": "stream",
     "text": [
      "YEXT\n"
     ]
    },
    {
     "name": "stderr",
     "output_type": "stream",
     "text": [
      " 99%|█████████▉| 5142/5197 [3:37:05<02:22,  2.59s/it]"
     ]
    },
    {
     "name": "stdout",
     "output_type": "stream",
     "text": [
      "YGF\n"
     ]
    },
    {
     "name": "stderr",
     "output_type": "stream",
     "text": [
      " 99%|█████████▉| 5143/5197 [3:37:07<02:03,  2.28s/it]"
     ]
    },
    {
     "name": "stdout",
     "output_type": "stream",
     "text": [
      "YGMZ\n"
     ]
    },
    {
     "name": "stderr",
     "output_type": "stream",
     "text": [
      " 99%|█████████▉| 5144/5197 [3:37:09<01:57,  2.22s/it]"
     ]
    },
    {
     "name": "stdout",
     "output_type": "stream",
     "text": [
      "YHGJ\n"
     ]
    },
    {
     "name": "stderr",
     "output_type": "stream",
     "text": [
      " 99%|█████████▉| 5145/5197 [3:37:11<01:59,  2.30s/it]"
     ]
    },
    {
     "name": "stdout",
     "output_type": "stream",
     "text": [
      "YIBO\n"
     ]
    },
    {
     "name": "stderr",
     "output_type": "stream",
     "text": [
      " 99%|█████████▉| 5146/5197 [3:37:12<01:41,  1.99s/it]"
     ]
    },
    {
     "name": "stdout",
     "output_type": "stream",
     "text": [
      "YMAB\n"
     ]
    },
    {
     "name": "stderr",
     "output_type": "stream",
     "text": [
      " 99%|█████████▉| 5147/5197 [3:37:14<01:35,  1.91s/it]"
     ]
    },
    {
     "name": "stdout",
     "output_type": "stream",
     "text": [
      "YNDX\n"
     ]
    },
    {
     "name": "stderr",
     "output_type": "stream",
     "text": [
      " 99%|█████████▉| 5148/5197 [3:37:17<01:42,  2.08s/it]"
     ]
    },
    {
     "name": "stdout",
     "output_type": "stream",
     "text": [
      "YORW\n"
     ]
    },
    {
     "name": "stderr",
     "output_type": "stream",
     "text": [
      " 99%|█████████▉| 5149/5197 [3:37:20<02:05,  2.61s/it]"
     ]
    },
    {
     "name": "stdout",
     "output_type": "stream",
     "text": [
      "YOSH\n"
     ]
    },
    {
     "name": "stderr",
     "output_type": "stream",
     "text": [
      " 99%|█████████▉| 5150/5197 [3:37:22<01:46,  2.26s/it]"
     ]
    },
    {
     "name": "stdout",
     "output_type": "stream",
     "text": [
      "YOTA\n"
     ]
    },
    {
     "name": "stderr",
     "output_type": "stream",
     "text": [
      " 99%|█████████▉| 5151/5197 [3:37:23<01:31,  1.99s/it]"
     ]
    },
    {
     "name": "stdout",
     "output_type": "stream",
     "text": [
      "YOU\n"
     ]
    },
    {
     "name": "stderr",
     "output_type": "stream",
     "text": [
      " 99%|█████████▉| 5152/5197 [3:37:25<01:23,  1.86s/it]"
     ]
    },
    {
     "name": "stdout",
     "output_type": "stream",
     "text": [
      "YQ\n"
     ]
    },
    {
     "name": "stderr",
     "output_type": "stream",
     "text": [
      " 99%|█████████▉| 5153/5197 [3:37:27<01:24,  1.92s/it]"
     ]
    },
    {
     "name": "stdout",
     "output_type": "stream",
     "text": [
      "YS\n"
     ]
    },
    {
     "name": "stderr",
     "output_type": "stream",
     "text": [
      " 99%|█████████▉| 5154/5197 [3:37:28<01:17,  1.80s/it]"
     ]
    },
    {
     "name": "stdout",
     "output_type": "stream",
     "text": [
      "YSG\n"
     ]
    },
    {
     "name": "stderr",
     "output_type": "stream",
     "text": [
      " 99%|█████████▉| 5155/5197 [3:37:30<01:12,  1.73s/it]"
     ]
    },
    {
     "name": "stdout",
     "output_type": "stream",
     "text": [
      "YTEN\n"
     ]
    },
    {
     "name": "stderr",
     "output_type": "stream",
     "text": [
      " 99%|█████████▉| 5156/5197 [3:37:33<01:31,  2.23s/it]"
     ]
    },
    {
     "name": "stdout",
     "output_type": "stream",
     "text": [
      "YTRA\n"
     ]
    },
    {
     "name": "stderr",
     "output_type": "stream",
     "text": [
      " 99%|█████████▉| 5157/5197 [3:37:35<01:23,  2.09s/it]"
     ]
    },
    {
     "name": "stdout",
     "output_type": "stream",
     "text": [
      "YUM\n"
     ]
    },
    {
     "name": "stderr",
     "output_type": "stream",
     "text": [
      " 99%|█████████▉| 5158/5197 [3:37:41<02:07,  3.27s/it]"
     ]
    },
    {
     "name": "stdout",
     "output_type": "stream",
     "text": [
      "YUMC\n"
     ]
    },
    {
     "name": "stderr",
     "output_type": "stream",
     "text": [
      " 99%|█████████▉| 5159/5197 [3:37:43<01:49,  2.87s/it]"
     ]
    },
    {
     "name": "stdout",
     "output_type": "stream",
     "text": [
      "Z\n"
     ]
    },
    {
     "name": "stderr",
     "output_type": "stream",
     "text": [
      " 99%|█████████▉| 5160/5197 [3:37:46<01:41,  2.74s/it]"
     ]
    },
    {
     "name": "stdout",
     "output_type": "stream",
     "text": [
      "ZAPP\n"
     ]
    },
    {
     "name": "stderr",
     "output_type": "stream",
     "text": [
      " 99%|█████████▉| 5161/5197 [3:37:47<01:24,  2.35s/it]"
     ]
    },
    {
     "name": "stdout",
     "output_type": "stream",
     "text": [
      "ZBH\n"
     ]
    },
    {
     "name": "stderr",
     "output_type": "stream",
     "text": [
      " 99%|█████████▉| 5162/5197 [3:37:51<01:43,  2.97s/it]"
     ]
    },
    {
     "name": "stdout",
     "output_type": "stream",
     "text": [
      "ZBRA\n"
     ]
    },
    {
     "name": "stderr",
     "output_type": "stream",
     "text": [
      " 99%|█████████▉| 5163/5197 [3:37:56<02:00,  3.55s/it]"
     ]
    },
    {
     "name": "stdout",
     "output_type": "stream",
     "text": [
      "ZCAR\n"
     ]
    },
    {
     "name": "stderr",
     "output_type": "stream",
     "text": [
      " 99%|█████████▉| 5164/5197 [3:37:58<01:39,  3.00s/it]"
     ]
    },
    {
     "name": "stdout",
     "output_type": "stream",
     "text": [
      "ZCMD\n"
     ]
    },
    {
     "name": "stderr",
     "output_type": "stream",
     "text": [
      " 99%|█████████▉| 5165/5197 [3:38:00<01:26,  2.72s/it]"
     ]
    },
    {
     "name": "stdout",
     "output_type": "stream",
     "text": [
      "ZD\n"
     ]
    },
    {
     "name": "stderr",
     "output_type": "stream",
     "text": [
      " 99%|█████████▉| 5166/5197 [3:38:05<01:49,  3.53s/it]"
     ]
    },
    {
     "name": "stdout",
     "output_type": "stream",
     "text": [
      "ZDGE\n"
     ]
    },
    {
     "name": "stderr",
     "output_type": "stream",
     "text": [
      " 99%|█████████▉| 5167/5197 [3:38:08<01:35,  3.20s/it]"
     ]
    },
    {
     "name": "stdout",
     "output_type": "stream",
     "text": [
      "ZENV\n"
     ]
    },
    {
     "name": "stderr",
     "output_type": "stream",
     "text": [
      " 99%|█████████▉| 5168/5197 [3:38:10<01:19,  2.73s/it]"
     ]
    },
    {
     "name": "stdout",
     "output_type": "stream",
     "text": [
      "ZEPP\n"
     ]
    },
    {
     "name": "stderr",
     "output_type": "stream",
     "text": [
      " 99%|█████████▉| 5169/5197 [3:38:12<01:10,  2.52s/it]"
     ]
    },
    {
     "name": "stdout",
     "output_type": "stream",
     "text": [
      "ZETA\n"
     ]
    },
    {
     "name": "stderr",
     "output_type": "stream",
     "text": [
      " 99%|█████████▉| 5170/5197 [3:38:13<01:01,  2.27s/it]"
     ]
    },
    {
     "name": "stdout",
     "output_type": "stream",
     "text": [
      "ZEUS\n"
     ]
    },
    {
     "name": "stderr",
     "output_type": "stream",
     "text": [
      " 99%|█████████▉| 5171/5197 [3:38:21<01:42,  3.93s/it]"
     ]
    },
    {
     "name": "stdout",
     "output_type": "stream",
     "text": [
      "ZFOX\n"
     ]
    },
    {
     "name": "stderr",
     "output_type": "stream",
     "text": [
      "100%|█████████▉| 5172/5197 [3:38:23<01:23,  3.34s/it]"
     ]
    },
    {
     "name": "stdout",
     "output_type": "stream",
     "text": [
      "ZG\n"
     ]
    },
    {
     "name": "stderr",
     "output_type": "stream",
     "text": [
      "100%|█████████▉| 5173/5197 [3:38:27<01:21,  3.38s/it]"
     ]
    },
    {
     "name": "stdout",
     "output_type": "stream",
     "text": [
      "ZGN\n"
     ]
    },
    {
     "name": "stderr",
     "output_type": "stream",
     "text": [
      "100%|█████████▉| 5174/5197 [3:38:28<01:05,  2.84s/it]"
     ]
    },
    {
     "name": "stdout",
     "output_type": "stream",
     "text": [
      "ZI\n"
     ]
    },
    {
     "name": "stderr",
     "output_type": "stream",
     "text": [
      "100%|█████████▉| 5175/5197 [3:38:30<00:55,  2.54s/it]"
     ]
    },
    {
     "name": "stdout",
     "output_type": "stream",
     "text": [
      "ZIM\n"
     ]
    },
    {
     "name": "stderr",
     "output_type": "stream",
     "text": [
      "100%|█████████▉| 5176/5197 [3:38:32<00:47,  2.27s/it]"
     ]
    },
    {
     "name": "stdout",
     "output_type": "stream",
     "text": [
      "ZIMV\n"
     ]
    },
    {
     "name": "stderr",
     "output_type": "stream",
     "text": [
      "100%|█████████▉| 5177/5197 [3:38:33<00:41,  2.07s/it]"
     ]
    },
    {
     "name": "stdout",
     "output_type": "stream",
     "text": [
      "ZION\n"
     ]
    },
    {
     "name": "stderr",
     "output_type": "stream",
     "text": [
      "100%|█████████▉| 5178/5197 [3:38:37<00:51,  2.72s/it]"
     ]
    },
    {
     "name": "stdout",
     "output_type": "stream",
     "text": [
      "ZIP\n"
     ]
    },
    {
     "name": "stderr",
     "output_type": "stream",
     "text": [
      "100%|█████████▉| 5179/5197 [3:38:39<00:42,  2.36s/it]"
     ]
    },
    {
     "name": "stdout",
     "output_type": "stream",
     "text": [
      "ZJYL\n"
     ]
    },
    {
     "name": "stderr",
     "output_type": "stream",
     "text": [
      "100%|█████████▉| 5180/5197 [3:38:40<00:35,  2.06s/it]"
     ]
    },
    {
     "name": "stdout",
     "output_type": "stream",
     "text": [
      "ZKIN\n"
     ]
    },
    {
     "name": "stderr",
     "output_type": "stream",
     "text": [
      "100%|█████████▉| 5181/5197 [3:38:42<00:30,  1.92s/it]"
     ]
    },
    {
     "name": "stdout",
     "output_type": "stream",
     "text": [
      "ZLS\n"
     ]
    },
    {
     "name": "stderr",
     "output_type": "stream",
     "text": [
      "100%|█████████▉| 5182/5197 [3:38:43<00:27,  1.82s/it]"
     ]
    },
    {
     "name": "stdout",
     "output_type": "stream",
     "text": [
      "ZM\n"
     ]
    },
    {
     "name": "stderr",
     "output_type": "stream",
     "text": [
      "100%|█████████▉| 5183/5197 [3:38:45<00:26,  1.88s/it]"
     ]
    },
    {
     "name": "stdout",
     "output_type": "stream",
     "text": [
      "ZNTL\n"
     ]
    },
    {
     "name": "stderr",
     "output_type": "stream",
     "text": [
      "100%|█████████▉| 5184/5197 [3:38:49<00:29,  2.24s/it]"
     ]
    },
    {
     "name": "stdout",
     "output_type": "stream",
     "text": [
      "ZOM\n"
     ]
    },
    {
     "name": "stderr",
     "output_type": "stream",
     "text": [
      "100%|█████████▉| 5185/5197 [3:38:50<00:25,  2.09s/it]"
     ]
    },
    {
     "name": "stdout",
     "output_type": "stream",
     "text": [
      "ZS\n"
     ]
    },
    {
     "name": "stderr",
     "output_type": "stream",
     "text": [
      "100%|█████████▉| 5186/5197 [3:38:53<00:24,  2.27s/it]"
     ]
    },
    {
     "name": "stdout",
     "output_type": "stream",
     "text": [
      "ZTEK\n"
     ]
    },
    {
     "name": "stderr",
     "output_type": "stream",
     "text": [
      "100%|█████████▉| 5187/5197 [3:38:55<00:22,  2.25s/it]"
     ]
    },
    {
     "name": "stdout",
     "output_type": "stream",
     "text": [
      "ZTS\n"
     ]
    },
    {
     "name": "stderr",
     "output_type": "stream",
     "text": [
      "100%|█████████▉| 5188/5197 [3:38:59<00:23,  2.63s/it]"
     ]
    },
    {
     "name": "stdout",
     "output_type": "stream",
     "text": [
      "ZUMZ\n"
     ]
    },
    {
     "name": "stderr",
     "output_type": "stream",
     "text": [
      "100%|█████████▉| 5189/5197 [3:39:03<00:24,  3.04s/it]"
     ]
    },
    {
     "name": "stdout",
     "output_type": "stream",
     "text": [
      "ZUO\n"
     ]
    },
    {
     "name": "stderr",
     "output_type": "stream",
     "text": [
      "100%|█████████▉| 5190/5197 [3:39:05<00:19,  2.79s/it]"
     ]
    },
    {
     "name": "stdout",
     "output_type": "stream",
     "text": [
      "ZURA\n"
     ]
    },
    {
     "name": "stderr",
     "output_type": "stream",
     "text": [
      "100%|█████████▉| 5191/5197 [3:39:06<00:14,  2.34s/it]"
     ]
    },
    {
     "name": "stdout",
     "output_type": "stream",
     "text": [
      "ZVIA\n"
     ]
    },
    {
     "name": "stderr",
     "output_type": "stream",
     "text": [
      "100%|█████████▉| 5192/5197 [3:39:08<00:10,  2.14s/it]"
     ]
    },
    {
     "name": "stdout",
     "output_type": "stream",
     "text": [
      "ZVRA\n"
     ]
    },
    {
     "name": "stderr",
     "output_type": "stream",
     "text": [
      "100%|█████████▉| 5193/5197 [3:39:10<00:08,  2.11s/it]"
     ]
    },
    {
     "name": "stdout",
     "output_type": "stream",
     "text": [
      "ZVSA\n"
     ]
    },
    {
     "name": "stderr",
     "output_type": "stream",
     "text": [
      "100%|█████████▉| 5194/5197 [3:39:12<00:05,  1.98s/it]"
     ]
    },
    {
     "name": "stdout",
     "output_type": "stream",
     "text": [
      "ZWS\n"
     ]
    },
    {
     "name": "stderr",
     "output_type": "stream",
     "text": [
      "100%|█████████▉| 5195/5197 [3:39:15<00:04,  2.33s/it]"
     ]
    },
    {
     "name": "stdout",
     "output_type": "stream",
     "text": [
      "ZYME\n"
     ]
    },
    {
     "name": "stderr",
     "output_type": "stream",
     "text": [
      "100%|█████████▉| 5196/5197 [3:39:17<00:02,  2.24s/it]"
     ]
    },
    {
     "name": "stdout",
     "output_type": "stream",
     "text": [
      "ZYXI\n"
     ]
    },
    {
     "name": "stderr",
     "output_type": "stream",
     "text": [
      "100%|██████████| 5197/5197 [3:39:21<00:00,  2.53s/it]\n"
     ]
    }
   ],
   "source": [
    "a = UpdatePriceGlobalDB()\n",
    "a.update_db_price_global()"
   ]
  },
  {
   "cell_type": "markdown",
   "metadata": {},
   "source": [
    "## Class for updating `fs_global` database"
   ]
  },
  {
   "cell_type": "markdown",
   "metadata": {},
   "source": [
    "### Data exploration"
   ]
  },
  {
   "cell_type": "code",
   "execution_count": 1,
   "metadata": {},
   "outputs": [],
   "source": [
    "from sqlalchemy import create_engine\n",
    "import pymysql\n",
    "import pandas as pd\n",
    "from yahooquery import Ticker\n",
    "import time\n",
    "from tqdm import tqdm\n",
    "import numpy as np\n",
    "import keyring\n",
    "import platform\n",
    "\n",
    "class UpdateFsGlobalDB():\n",
    "    \n",
    "    def __init__(self):\n",
    "        self.user = 'root'\n",
    "        self.pw = keyring.get_password('macmini_db', self.user)\n",
    "        self.host = '192.168.219.106' if platform.system() == 'Windows' else '127.0.0.1'\n",
    "        self.port = 3306\n",
    "        self.db = 'stock'\n",
    "        \n",
    "    def get_ticker_list(self):\n",
    "        \n",
    "        # connect DB\n",
    "        engine = create_engine(f'mysql+pymysql://{self.user}:{self.pw}@{self.host}:{self.port}/{self.db}')\n",
    "\n",
    "        con = pymysql.connect(\n",
    "            user=self.user,\n",
    "            passwd=self.pw,\n",
    "            host = self.host,\n",
    "            db=self.db,\n",
    "            charset='utf8'\n",
    "        )\n",
    "        \n",
    "        mycursor = con.cursor()\n",
    "        \n",
    "        # select ticker list\n",
    "        ticker_list = pd.read_sql(\n",
    "            \"\"\" \n",
    "            SELECT * FROM ticker_global\n",
    "            WHERE date = (SELECT MAX(date) FROM ticker_global)\n",
    "            AND country = 'United States';\n",
    "            \"\"\"\n",
    "        , con=engine)\n",
    "        \n",
    "        engine.dispose()\n",
    "        con.close()\n",
    "        \n",
    "        return ticker_list\n",
    "    \n",
    "    def update_db_fs_global(self):\n",
    "        \n",
    "        # connect DB\n",
    "        engine = create_engine(f'mysql+pymysql://{self.user}:{self.pw}@{self.host}:{self.port}/{self.db}')\n",
    "\n",
    "        con = pymysql.connect(\n",
    "            user=self.user,\n",
    "            passwd=self.pw,\n",
    "            host = self.host,\n",
    "            db=self.db,\n",
    "            charset='utf8'\n",
    "        )\n",
    "        \n",
    "        mycursor = con.cursor()\n",
    "        \n",
    "        ticker_list = self.get_ticker_list()\n",
    "        error_list = []\n",
    "        \n",
    "        query = \"\"\" \n",
    "                    INSERT INTO fs_global (ticker, date, account, value, freq)\n",
    "                    VALUES (%s, %s, %s, %s, %s)\n",
    "                    ON DUPLICATE KEY UPDATE\n",
    "                    value = VALUES(value);\n",
    "                \"\"\"\n",
    "        \n",
    "        # connect db\n",
    "        engine = create_engine(f'mysql+pymysql://{self.user}:{self.pw}@{self.host}:{self.port}/{self.db}')\n",
    "        \n",
    "        # download all fs\n",
    "        for i in tqdm(range(0, len(ticker_list))):\n",
    "            # select ticker\n",
    "            ticker = ticker_list['symbol'][i]\n",
    "            \n",
    "            try:\n",
    "                # download data\n",
    "                data = Ticker(ticker)\n",
    "                \n",
    "                # yearly fs\n",
    "                data_y = data.all_financial_data(frequency='a')\n",
    "                data_y.reset_index(inplace=True)\n",
    "                data_y = data_y.loc[:, ~data_y.columns.isin(['periodType', 'currencyCode'])]\n",
    "                data_y = data_y.melt(id_vars=['symbol', 'asOfDate'])\n",
    "                data_y = data_y.replace([np.nan], None)\n",
    "                data_y['freq'] = 'y'\n",
    "                data_y.columns = ['ticker', 'date', 'account', 'value', 'freq']\n",
    "                \n",
    "                # quarterly fs\n",
    "                data_q = data.all_financial_data(frequency='q')\n",
    "                data_q.reset_index(inplace=True)\n",
    "                data_q = data_q.iloc[:, ~data_q.columns.isin(['periodType', 'currencyCode'])]\n",
    "                data_q = data_q.melt(id_vars=['symbol', 'asOfDate'])\n",
    "                data_q = data_q.replace([np.nan], None)\n",
    "                data_q['freq'] = 'q'\n",
    "                data_q.columns = ['ticer', 'date', 'account', 'value', 'freq']\n",
    "                \n",
    "                # concat\n",
    "                data_fs = pd.concat([data_y, data_q], axis=0)\n",
    "                \n",
    "                # insert into db\n",
    "                args = data_fs.values.tolist()\n",
    "                mycursor.executemany(query, args)\n",
    "                con.commit()\n",
    "                \n",
    "            except:\n",
    "                print(ticker)\n",
    "                error_list.append(ticker)\n",
    "                \n",
    "            time.sleep(1)\n",
    "            \n",
    "        # close db connection\n",
    "        engine.dispose()\n",
    "        con.close()"
   ]
  },
  {
   "cell_type": "code",
   "execution_count": 2,
   "metadata": {},
   "outputs": [
    {
     "name": "stderr",
     "output_type": "stream",
     "text": [
      "  0%|          | 0/5197 [00:00<?, ?it/s]"
     ]
    },
    {
     "name": "stdout",
     "output_type": "stream",
     "text": [
      "A\n"
     ]
    },
    {
     "name": "stderr",
     "output_type": "stream",
     "text": [
      "  0%|          | 1/5197 [00:21<30:50:25, 21.37s/it]"
     ]
    },
    {
     "name": "stdout",
     "output_type": "stream",
     "text": [
      "AA\n"
     ]
    },
    {
     "name": "stderr",
     "output_type": "stream",
     "text": [
      "  0%|          | 2/5197 [00:43<31:48:21, 22.04s/it]"
     ]
    },
    {
     "name": "stdout",
     "output_type": "stream",
     "text": [
      "AACI\n"
     ]
    },
    {
     "name": "stderr",
     "output_type": "stream",
     "text": [
      "  0%|          | 3/5197 [01:12<36:17:57, 25.16s/it]"
     ]
    },
    {
     "name": "stdout",
     "output_type": "stream",
     "text": [
      "AACT\n"
     ]
    },
    {
     "name": "stderr",
     "output_type": "stream",
     "text": [
      "  0%|          | 4/5197 [01:47<42:01:33, 29.13s/it]"
     ]
    },
    {
     "name": "stdout",
     "output_type": "stream",
     "text": [
      "AADI\n"
     ]
    },
    {
     "name": "stderr",
     "output_type": "stream",
     "text": [
      "  0%|          | 5/5197 [02:04<35:11:56, 24.41s/it]"
     ]
    },
    {
     "name": "stdout",
     "output_type": "stream",
     "text": [
      "AAGR\n"
     ]
    },
    {
     "name": "stderr",
     "output_type": "stream",
     "text": [
      "  0%|          | 6/5197 [02:30<36:08:07, 25.06s/it]"
     ]
    },
    {
     "name": "stdout",
     "output_type": "stream",
     "text": [
      "AAL\n"
     ]
    },
    {
     "name": "stderr",
     "output_type": "stream",
     "text": [
      "  0%|          | 7/5197 [02:56<36:30:52, 25.33s/it]"
     ]
    },
    {
     "name": "stdout",
     "output_type": "stream",
     "text": [
      "AAMC\n"
     ]
    },
    {
     "name": "stderr",
     "output_type": "stream",
     "text": [
      "  0%|          | 8/5197 [03:21<36:38:39, 25.42s/it]"
     ]
    },
    {
     "name": "stdout",
     "output_type": "stream",
     "text": [
      "AAME\n"
     ]
    },
    {
     "name": "stderr",
     "output_type": "stream",
     "text": [
      "  0%|          | 9/5197 [03:46<36:26:22, 25.29s/it]"
     ]
    },
    {
     "name": "stdout",
     "output_type": "stream",
     "text": [
      "AAN\n"
     ]
    },
    {
     "name": "stderr",
     "output_type": "stream",
     "text": [
      "  0%|          | 10/5197 [04:09<35:08:32, 24.39s/it]"
     ]
    },
    {
     "name": "stdout",
     "output_type": "stream",
     "text": [
      "AAOI\n"
     ]
    },
    {
     "name": "stderr",
     "output_type": "stream",
     "text": [
      "  0%|          | 11/5197 [04:30<33:42:35, 23.40s/it]"
     ]
    },
    {
     "name": "stdout",
     "output_type": "stream",
     "text": [
      "AAON\n"
     ]
    },
    {
     "name": "stderr",
     "output_type": "stream",
     "text": [
      "  0%|          | 12/5197 [05:00<36:37:48, 25.43s/it]"
     ]
    },
    {
     "name": "stdout",
     "output_type": "stream",
     "text": [
      "AAPL\n"
     ]
    },
    {
     "name": "stderr",
     "output_type": "stream",
     "text": [
      "  0%|          | 13/5197 [05:22<35:09:23, 24.41s/it]"
     ]
    },
    {
     "name": "stdout",
     "output_type": "stream",
     "text": [
      "AAU\n"
     ]
    },
    {
     "name": "stderr",
     "output_type": "stream",
     "text": [
      "  0%|          | 14/5197 [05:43<33:45:14, 23.44s/it]"
     ]
    },
    {
     "name": "stdout",
     "output_type": "stream",
     "text": [
      "ABAT\n"
     ]
    },
    {
     "name": "stderr",
     "output_type": "stream",
     "text": [
      "  0%|          | 15/5197 [06:02<31:32:53, 21.92s/it]"
     ]
    },
    {
     "name": "stdout",
     "output_type": "stream",
     "text": [
      "ABBV\n"
     ]
    },
    {
     "name": "stderr",
     "output_type": "stream",
     "text": [
      "  0%|          | 16/5197 [06:25<32:17:35, 22.44s/it]"
     ]
    },
    {
     "name": "stdout",
     "output_type": "stream",
     "text": [
      "ABCB\n"
     ]
    },
    {
     "name": "stderr",
     "output_type": "stream",
     "text": [
      "  0%|          | 17/5197 [06:49<32:49:52, 22.82s/it]"
     ]
    },
    {
     "name": "stdout",
     "output_type": "stream",
     "text": [
      "ABCL\n"
     ]
    },
    {
     "name": "stderr",
     "output_type": "stream",
     "text": [
      "  0%|          | 18/5197 [07:14<33:54:41, 23.57s/it]"
     ]
    },
    {
     "name": "stdout",
     "output_type": "stream",
     "text": [
      "ABEO\n"
     ]
    },
    {
     "name": "stderr",
     "output_type": "stream",
     "text": [
      "  0%|          | 19/5197 [07:44<36:21:15, 25.28s/it]"
     ]
    },
    {
     "name": "stdout",
     "output_type": "stream",
     "text": [
      "ABG\n"
     ]
    },
    {
     "name": "stderr",
     "output_type": "stream",
     "text": [
      "  0%|          | 20/5197 [08:08<36:02:17, 25.06s/it]"
     ]
    },
    {
     "name": "stdout",
     "output_type": "stream",
     "text": [
      "ABIO\n"
     ]
    },
    {
     "name": "stderr",
     "output_type": "stream",
     "text": [
      "  0%|          | 21/5197 [08:27<33:34:38, 23.35s/it]"
     ]
    },
    {
     "name": "stdout",
     "output_type": "stream",
     "text": [
      "ABL\n"
     ]
    },
    {
     "name": "stderr",
     "output_type": "stream",
     "text": [
      "  0%|          | 22/5197 [08:45<31:11:49, 21.70s/it]"
     ]
    },
    {
     "name": "stdout",
     "output_type": "stream",
     "text": [
      "ABLV\n"
     ]
    },
    {
     "name": "stderr",
     "output_type": "stream",
     "text": [
      "  0%|          | 23/5197 [09:13<33:37:43, 23.40s/it]"
     ]
    },
    {
     "name": "stdout",
     "output_type": "stream",
     "text": [
      "ABM\n"
     ]
    },
    {
     "name": "stderr",
     "output_type": "stream",
     "text": [
      "  0%|          | 24/5197 [09:33<32:25:51, 22.57s/it]"
     ]
    },
    {
     "name": "stdout",
     "output_type": "stream",
     "text": [
      "ABNB\n"
     ]
    },
    {
     "name": "stderr",
     "output_type": "stream",
     "text": [
      "  0%|          | 25/5197 [09:57<32:59:05, 22.96s/it]"
     ]
    },
    {
     "name": "stdout",
     "output_type": "stream",
     "text": [
      "ABOS\n"
     ]
    },
    {
     "name": "stderr",
     "output_type": "stream",
     "text": [
      "  1%|          | 26/5197 [10:30<37:20:40, 26.00s/it]"
     ]
    },
    {
     "name": "stdout",
     "output_type": "stream",
     "text": [
      "ABR\n"
     ]
    },
    {
     "name": "stderr",
     "output_type": "stream",
     "text": [
      "  1%|          | 27/5197 [10:54<36:32:50, 25.45s/it]"
     ]
    },
    {
     "name": "stdout",
     "output_type": "stream",
     "text": [
      "ABSI\n"
     ]
    },
    {
     "name": "stderr",
     "output_type": "stream",
     "text": [
      "  1%|          | 28/5197 [11:17<35:15:44, 24.56s/it]"
     ]
    },
    {
     "name": "stdout",
     "output_type": "stream",
     "text": [
      "ABT\n"
     ]
    },
    {
     "name": "stderr",
     "output_type": "stream",
     "text": [
      "  1%|          | 29/5197 [11:38<33:53:24, 23.61s/it]"
     ]
    },
    {
     "name": "stdout",
     "output_type": "stream",
     "text": [
      "ABTS\n"
     ]
    },
    {
     "name": "stderr",
     "output_type": "stream",
     "text": [
      "  1%|          | 30/5197 [12:06<35:36:40, 24.81s/it]"
     ]
    },
    {
     "name": "stdout",
     "output_type": "stream",
     "text": [
      "ABUS\n"
     ]
    },
    {
     "name": "stderr",
     "output_type": "stream",
     "text": [
      "  1%|          | 31/5197 [12:31<35:37:19, 24.82s/it]"
     ]
    },
    {
     "name": "stdout",
     "output_type": "stream",
     "text": [
      "ABVC\n"
     ]
    },
    {
     "name": "stderr",
     "output_type": "stream",
     "text": [
      "  1%|          | 32/5197 [12:54<34:53:06, 24.31s/it]"
     ]
    },
    {
     "name": "stdout",
     "output_type": "stream",
     "text": [
      "AC\n"
     ]
    },
    {
     "name": "stderr",
     "output_type": "stream",
     "text": [
      "  1%|          | 33/5197 [13:19<35:16:01, 24.59s/it]"
     ]
    },
    {
     "name": "stdout",
     "output_type": "stream",
     "text": [
      "ACA\n"
     ]
    },
    {
     "name": "stderr",
     "output_type": "stream",
     "text": [
      "  1%|          | 34/5197 [13:42<34:44:10, 24.22s/it]"
     ]
    },
    {
     "name": "stdout",
     "output_type": "stream",
     "text": [
      "ACAB\n"
     ]
    },
    {
     "name": "stderr",
     "output_type": "stream",
     "text": [
      "  1%|          | 35/5197 [14:05<33:51:54, 23.62s/it]"
     ]
    },
    {
     "name": "stdout",
     "output_type": "stream",
     "text": [
      "ACAC\n"
     ]
    },
    {
     "name": "stderr",
     "output_type": "stream",
     "text": [
      "  1%|          | 36/5197 [14:30<34:26:52, 24.03s/it]"
     ]
    },
    {
     "name": "stdout",
     "output_type": "stream",
     "text": [
      "ACAD\n"
     ]
    },
    {
     "name": "stderr",
     "output_type": "stream",
     "text": [
      "  1%|          | 37/5197 [14:46<31:17:45, 21.83s/it]"
     ]
    },
    {
     "name": "stdout",
     "output_type": "stream",
     "text": [
      "ACB\n"
     ]
    },
    {
     "name": "stderr",
     "output_type": "stream",
     "text": [
      "  1%|          | 38/5197 [15:11<32:22:06, 22.59s/it]"
     ]
    },
    {
     "name": "stdout",
     "output_type": "stream",
     "text": [
      "ACBA\n"
     ]
    },
    {
     "name": "stderr",
     "output_type": "stream",
     "text": [
      "  1%|          | 39/5197 [15:48<38:43:43, 27.03s/it]"
     ]
    },
    {
     "name": "stdout",
     "output_type": "stream",
     "text": [
      "ACCD\n"
     ]
    },
    {
     "name": "stderr",
     "output_type": "stream",
     "text": [
      "  1%|          | 40/5197 [16:15<38:28:07, 26.85s/it]"
     ]
    },
    {
     "name": "stdout",
     "output_type": "stream",
     "text": [
      "ACCO\n"
     ]
    },
    {
     "name": "stderr",
     "output_type": "stream",
     "text": [
      "  1%|          | 41/5197 [16:44<39:34:53, 27.64s/it]"
     ]
    },
    {
     "name": "stdout",
     "output_type": "stream",
     "text": [
      "ACDC\n"
     ]
    },
    {
     "name": "stderr",
     "output_type": "stream",
     "text": [
      "  1%|          | 42/5197 [17:16<41:18:22, 28.85s/it]"
     ]
    },
    {
     "name": "stdout",
     "output_type": "stream",
     "text": [
      "ACEL\n"
     ]
    },
    {
     "name": "stderr",
     "output_type": "stream",
     "text": [
      "  1%|          | 43/5197 [17:50<43:40:43, 30.51s/it]"
     ]
    },
    {
     "name": "stdout",
     "output_type": "stream",
     "text": [
      "ACET\n"
     ]
    },
    {
     "name": "stderr",
     "output_type": "stream",
     "text": [
      "  1%|          | 44/5197 [18:16<41:32:43, 29.02s/it]"
     ]
    },
    {
     "name": "stdout",
     "output_type": "stream",
     "text": [
      "ACGL\n"
     ]
    },
    {
     "name": "stderr",
     "output_type": "stream",
     "text": [
      "  1%|          | 45/5197 [18:47<42:42:31, 29.84s/it]"
     ]
    },
    {
     "name": "stdout",
     "output_type": "stream",
     "text": [
      "ACHC\n"
     ]
    },
    {
     "name": "stderr",
     "output_type": "stream",
     "text": [
      "  1%|          | 46/5197 [19:11<39:50:38, 27.85s/it]"
     ]
    },
    {
     "name": "stdout",
     "output_type": "stream",
     "text": [
      "ACHR\n"
     ]
    },
    {
     "name": "stderr",
     "output_type": "stream",
     "text": [
      "  1%|          | 47/5197 [19:38<39:32:57, 27.65s/it]"
     ]
    },
    {
     "name": "stdout",
     "output_type": "stream",
     "text": [
      "ACHV\n"
     ]
    },
    {
     "name": "stderr",
     "output_type": "stream",
     "text": [
      "  1%|          | 48/5197 [20:00<37:20:13, 26.10s/it]"
     ]
    },
    {
     "name": "stdout",
     "output_type": "stream",
     "text": [
      "ACI\n"
     ]
    },
    {
     "name": "stderr",
     "output_type": "stream",
     "text": [
      "  1%|          | 49/5197 [20:27<37:26:53, 26.19s/it]"
     ]
    },
    {
     "name": "stdout",
     "output_type": "stream",
     "text": [
      "ACIC\n"
     ]
    },
    {
     "name": "stderr",
     "output_type": "stream",
     "text": [
      "  1%|          | 50/5197 [20:51<36:31:16, 25.54s/it]"
     ]
    },
    {
     "name": "stdout",
     "output_type": "stream",
     "text": [
      "ACIU\n"
     ]
    },
    {
     "name": "stderr",
     "output_type": "stream",
     "text": [
      "  1%|          | 51/5197 [21:14<35:30:53, 24.85s/it]"
     ]
    },
    {
     "name": "stdout",
     "output_type": "stream",
     "text": [
      "ACIW\n"
     ]
    },
    {
     "name": "stderr",
     "output_type": "stream",
     "text": [
      "  1%|          | 52/5197 [21:33<33:12:01, 23.23s/it]"
     ]
    },
    {
     "name": "stdout",
     "output_type": "stream",
     "text": [
      "ACLS\n"
     ]
    },
    {
     "name": "stderr",
     "output_type": "stream",
     "text": [
      "  1%|          | 53/5197 [21:59<34:18:10, 24.01s/it]"
     ]
    },
    {
     "name": "stdout",
     "output_type": "stream",
     "text": [
      "ACLX\n"
     ]
    },
    {
     "name": "stderr",
     "output_type": "stream",
     "text": [
      "  1%|          | 54/5197 [22:27<36:04:09, 25.25s/it]"
     ]
    },
    {
     "name": "stdout",
     "output_type": "stream",
     "text": [
      "ACM\n"
     ]
    },
    {
     "name": "stderr",
     "output_type": "stream",
     "text": [
      "  1%|          | 55/5197 [22:45<32:37:38, 22.84s/it]"
     ]
    },
    {
     "name": "stdout",
     "output_type": "stream",
     "text": [
      "ACMR\n"
     ]
    },
    {
     "name": "stderr",
     "output_type": "stream",
     "text": [
      "  1%|          | 56/5197 [23:06<32:07:45, 22.50s/it]"
     ]
    },
    {
     "name": "stdout",
     "output_type": "stream",
     "text": [
      "ACN\n"
     ]
    },
    {
     "name": "stderr",
     "output_type": "stream",
     "text": [
      "  1%|          | 57/5197 [23:26<30:56:20, 21.67s/it]"
     ]
    },
    {
     "name": "stdout",
     "output_type": "stream",
     "text": [
      "ACNB\n"
     ]
    },
    {
     "name": "stderr",
     "output_type": "stream",
     "text": [
      "  1%|          | 58/5197 [23:52<32:57:17, 23.09s/it]"
     ]
    },
    {
     "name": "stdout",
     "output_type": "stream",
     "text": [
      "ACNT\n"
     ]
    },
    {
     "name": "stderr",
     "output_type": "stream",
     "text": [
      "  1%|          | 59/5197 [24:16<33:13:58, 23.29s/it]"
     ]
    },
    {
     "name": "stdout",
     "output_type": "stream",
     "text": [
      "ACON\n"
     ]
    },
    {
     "name": "stderr",
     "output_type": "stream",
     "text": [
      "  1%|          | 60/5197 [24:37<32:23:48, 22.70s/it]"
     ]
    },
    {
     "name": "stdout",
     "output_type": "stream",
     "text": [
      "ACOR\n"
     ]
    },
    {
     "name": "stderr",
     "output_type": "stream",
     "text": [
      "  1%|          | 61/5197 [25:05<34:18:50, 24.05s/it]"
     ]
    },
    {
     "name": "stdout",
     "output_type": "stream",
     "text": [
      "ACR\n"
     ]
    },
    {
     "name": "stderr",
     "output_type": "stream",
     "text": [
      "  1%|          | 62/5197 [25:28<33:53:48, 23.76s/it]"
     ]
    },
    {
     "name": "stdout",
     "output_type": "stream",
     "text": [
      "ACRE\n"
     ]
    },
    {
     "name": "stderr",
     "output_type": "stream",
     "text": [
      "  1%|          | 63/5197 [25:58<36:30:56, 25.61s/it]"
     ]
    },
    {
     "name": "stdout",
     "output_type": "stream",
     "text": [
      "ACRS\n"
     ]
    },
    {
     "name": "stderr",
     "output_type": "stream",
     "text": [
      "  1%|          | 64/5197 [26:14<32:39:26, 22.90s/it]"
     ]
    },
    {
     "name": "stdout",
     "output_type": "stream",
     "text": [
      "ACRV\n"
     ]
    },
    {
     "name": "stderr",
     "output_type": "stream",
     "text": [
      "  1%|▏         | 65/5197 [26:44<35:27:46, 24.88s/it]"
     ]
    },
    {
     "name": "stdout",
     "output_type": "stream",
     "text": [
      "ACST\n"
     ]
    },
    {
     "name": "stderr",
     "output_type": "stream",
     "text": [
      "  1%|▏         | 66/5197 [27:02<32:48:43, 23.02s/it]"
     ]
    },
    {
     "name": "stdout",
     "output_type": "stream",
     "text": [
      "ACT\n"
     ]
    },
    {
     "name": "stderr",
     "output_type": "stream",
     "text": [
      "  1%|▏         | 67/5197 [27:16<28:51:45, 20.25s/it]"
     ]
    },
    {
     "name": "stdout",
     "output_type": "stream",
     "text": [
      "ACTG\n"
     ]
    },
    {
     "name": "stderr",
     "output_type": "stream",
     "text": [
      "  1%|▏         | 68/5197 [27:51<35:15:00, 24.74s/it]"
     ]
    },
    {
     "name": "stdout",
     "output_type": "stream",
     "text": [
      "ACU\n"
     ]
    },
    {
     "name": "stderr",
     "output_type": "stream",
     "text": [
      "  1%|▏         | 69/5197 [28:15<34:46:43, 24.42s/it]"
     ]
    },
    {
     "name": "stdout",
     "output_type": "stream",
     "text": [
      "ACVA\n"
     ]
    },
    {
     "name": "stderr",
     "output_type": "stream",
     "text": [
      "  1%|▏         | 70/5197 [28:39<34:44:42, 24.40s/it]"
     ]
    },
    {
     "name": "stdout",
     "output_type": "stream",
     "text": [
      "ACXP\n"
     ]
    },
    {
     "name": "stderr",
     "output_type": "stream",
     "text": [
      "  1%|▏         | 71/5197 [29:06<35:45:46, 25.12s/it]"
     ]
    },
    {
     "name": "stdout",
     "output_type": "stream",
     "text": [
      "ADBE\n"
     ]
    },
    {
     "name": "stderr",
     "output_type": "stream",
     "text": [
      "  1%|▏         | 72/5197 [29:29<34:43:46, 24.40s/it]"
     ]
    },
    {
     "name": "stdout",
     "output_type": "stream",
     "text": [
      "ADC\n"
     ]
    },
    {
     "name": "stderr",
     "output_type": "stream",
     "text": [
      "  1%|▏         | 73/5197 [29:50<33:12:19, 23.33s/it]"
     ]
    },
    {
     "name": "stdout",
     "output_type": "stream",
     "text": [
      "ADCT\n"
     ]
    },
    {
     "name": "stderr",
     "output_type": "stream",
     "text": [
      "  1%|▏         | 74/5197 [30:13<33:09:13, 23.30s/it]"
     ]
    },
    {
     "name": "stdout",
     "output_type": "stream",
     "text": [
      "ADD\n"
     ]
    },
    {
     "name": "stderr",
     "output_type": "stream",
     "text": [
      "  1%|▏         | 75/5197 [30:36<32:49:58, 23.08s/it]"
     ]
    },
    {
     "name": "stdout",
     "output_type": "stream",
     "text": [
      "ADEA\n"
     ]
    },
    {
     "name": "stderr",
     "output_type": "stream",
     "text": [
      "  1%|▏         | 76/5197 [31:01<33:37:43, 23.64s/it]"
     ]
    },
    {
     "name": "stdout",
     "output_type": "stream",
     "text": [
      "ADI\n"
     ]
    },
    {
     "name": "stderr",
     "output_type": "stream",
     "text": [
      "  1%|▏         | 77/5197 [31:21<32:26:03, 22.81s/it]"
     ]
    },
    {
     "name": "stdout",
     "output_type": "stream",
     "text": [
      "ADIL\n"
     ]
    },
    {
     "name": "stderr",
     "output_type": "stream",
     "text": [
      "  2%|▏         | 78/5197 [31:44<32:27:11, 22.82s/it]"
     ]
    },
    {
     "name": "stdout",
     "output_type": "stream",
     "text": [
      "ADM\n"
     ]
    },
    {
     "name": "stderr",
     "output_type": "stream",
     "text": [
      "  2%|▏         | 79/5197 [32:14<35:22:20, 24.88s/it]"
     ]
    },
    {
     "name": "stdout",
     "output_type": "stream",
     "text": [
      "ADMA\n"
     ]
    },
    {
     "name": "stderr",
     "output_type": "stream",
     "text": [
      "  2%|▏         | 80/5197 [32:45<37:48:11, 26.60s/it]"
     ]
    },
    {
     "name": "stdout",
     "output_type": "stream",
     "text": [
      "ADN\n"
     ]
    },
    {
     "name": "stderr",
     "output_type": "stream",
     "text": [
      "  2%|▏         | 81/5197 [33:13<38:27:27, 27.06s/it]"
     ]
    },
    {
     "name": "stdout",
     "output_type": "stream",
     "text": [
      "ADNT\n"
     ]
    },
    {
     "name": "stderr",
     "output_type": "stream",
     "text": [
      "  2%|▏         | 82/5197 [33:37<37:21:06, 26.29s/it]"
     ]
    },
    {
     "name": "stdout",
     "output_type": "stream",
     "text": [
      "ADOC\n"
     ]
    },
    {
     "name": "stderr",
     "output_type": "stream",
     "text": [
      "  2%|▏         | 83/5197 [34:04<37:42:11, 26.54s/it]"
     ]
    },
    {
     "name": "stdout",
     "output_type": "stream",
     "text": [
      "ADP\n"
     ]
    },
    {
     "name": "stderr",
     "output_type": "stream",
     "text": [
      "  2%|▏         | 84/5197 [34:23<34:12:53, 24.09s/it]"
     ]
    },
    {
     "name": "stdout",
     "output_type": "stream",
     "text": [
      "ADPT\n"
     ]
    },
    {
     "name": "stderr",
     "output_type": "stream",
     "text": [
      "  2%|▏         | 85/5197 [34:39<30:54:36, 21.77s/it]"
     ]
    },
    {
     "name": "stdout",
     "output_type": "stream",
     "text": [
      "ADRT\n"
     ]
    },
    {
     "name": "stderr",
     "output_type": "stream",
     "text": [
      "  2%|▏         | 86/5197 [35:05<32:31:06, 22.90s/it]"
     ]
    },
    {
     "name": "stdout",
     "output_type": "stream",
     "text": [
      "ADSE\n"
     ]
    },
    {
     "name": "stderr",
     "output_type": "stream",
     "text": [
      "  2%|▏         | 87/5197 [35:29<33:19:50, 23.48s/it]"
     ]
    },
    {
     "name": "stdout",
     "output_type": "stream",
     "text": [
      "ADSK\n"
     ]
    },
    {
     "name": "stderr",
     "output_type": "stream",
     "text": [
      "  2%|▏         | 88/5197 [35:56<34:50:11, 24.55s/it]"
     ]
    },
    {
     "name": "stdout",
     "output_type": "stream",
     "text": [
      "ADT\n"
     ]
    },
    {
     "name": "stderr",
     "output_type": "stream",
     "text": [
      "  2%|▏         | 89/5197 [36:31<39:07:24, 27.57s/it]"
     ]
    },
    {
     "name": "stdout",
     "output_type": "stream",
     "text": [
      "ADTH\n"
     ]
    },
    {
     "name": "stderr",
     "output_type": "stream",
     "text": [
      "  2%|▏         | 90/5197 [36:57<38:36:54, 27.22s/it]"
     ]
    },
    {
     "name": "stdout",
     "output_type": "stream",
     "text": [
      "ADTN\n"
     ]
    },
    {
     "name": "stderr",
     "output_type": "stream",
     "text": [
      "  2%|▏         | 91/5197 [37:28<39:50:53, 28.10s/it]"
     ]
    },
    {
     "name": "stdout",
     "output_type": "stream",
     "text": [
      "ADUS\n"
     ]
    },
    {
     "name": "stderr",
     "output_type": "stream",
     "text": [
      "  2%|▏         | 92/5197 [37:49<36:52:57, 26.01s/it]"
     ]
    },
    {
     "name": "stdout",
     "output_type": "stream",
     "text": [
      "ADV\n"
     ]
    },
    {
     "name": "stderr",
     "output_type": "stream",
     "text": [
      "  2%|▏         | 93/5197 [38:13<36:11:56, 25.53s/it]"
     ]
    },
    {
     "name": "stdout",
     "output_type": "stream",
     "text": [
      "ADVM\n"
     ]
    },
    {
     "name": "stderr",
     "output_type": "stream",
     "text": [
      "  2%|▏         | 94/5197 [38:38<35:57:11, 25.36s/it]"
     ]
    },
    {
     "name": "stdout",
     "output_type": "stream",
     "text": [
      "AE\n"
     ]
    },
    {
     "name": "stderr",
     "output_type": "stream",
     "text": [
      "  2%|▏         | 95/5197 [39:10<38:37:48, 27.26s/it]"
     ]
    },
    {
     "name": "stdout",
     "output_type": "stream",
     "text": [
      "AEAE\n"
     ]
    },
    {
     "name": "stderr",
     "output_type": "stream",
     "text": [
      "  2%|▏         | 96/5197 [39:30<35:46:05, 25.24s/it]"
     ]
    },
    {
     "name": "stdout",
     "output_type": "stream",
     "text": [
      "AEE\n"
     ]
    },
    {
     "name": "stderr",
     "output_type": "stream",
     "text": [
      "  2%|▏         | 97/5197 [39:55<35:22:59, 24.98s/it]"
     ]
    },
    {
     "name": "stdout",
     "output_type": "stream",
     "text": [
      "AEHL\n"
     ]
    },
    {
     "name": "stderr",
     "output_type": "stream",
     "text": [
      "  2%|▏         | 98/5197 [40:11<31:40:19, 22.36s/it]"
     ]
    },
    {
     "name": "stdout",
     "output_type": "stream",
     "text": [
      "AEHR\n"
     ]
    },
    {
     "name": "stderr",
     "output_type": "stream",
     "text": [
      "  2%|▏         | 99/5197 [40:36<32:58:17, 23.28s/it]"
     ]
    },
    {
     "name": "stdout",
     "output_type": "stream",
     "text": [
      "AEI\n"
     ]
    },
    {
     "name": "stderr",
     "output_type": "stream",
     "text": [
      "  2%|▏         | 100/5197 [41:04<34:41:43, 24.51s/it]"
     ]
    },
    {
     "name": "stdout",
     "output_type": "stream",
     "text": [
      "AEIS\n"
     ]
    },
    {
     "name": "stderr",
     "output_type": "stream",
     "text": [
      "  2%|▏         | 101/5197 [41:23<32:25:13, 22.90s/it]"
     ]
    },
    {
     "name": "stdout",
     "output_type": "stream",
     "text": [
      "AEL\n"
     ]
    },
    {
     "name": "stderr",
     "output_type": "stream",
     "text": [
      "  2%|▏         | 102/5197 [41:57<36:59:35, 26.14s/it]"
     ]
    },
    {
     "name": "stdout",
     "output_type": "stream",
     "text": [
      "AEM\n"
     ]
    },
    {
     "name": "stderr",
     "output_type": "stream",
     "text": [
      "  2%|▏         | 103/5197 [42:29<39:36:51, 28.00s/it]"
     ]
    },
    {
     "name": "stdout",
     "output_type": "stream",
     "text": [
      "AEMD\n"
     ]
    },
    {
     "name": "stderr",
     "output_type": "stream",
     "text": [
      "  2%|▏         | 104/5197 [42:52<37:25:20, 26.45s/it]"
     ]
    },
    {
     "name": "stdout",
     "output_type": "stream",
     "text": [
      "AENT\n"
     ]
    },
    {
     "name": "stderr",
     "output_type": "stream",
     "text": [
      "  2%|▏         | 105/5197 [43:10<34:03:23, 24.08s/it]"
     ]
    },
    {
     "name": "stdout",
     "output_type": "stream",
     "text": [
      "AEO\n"
     ]
    },
    {
     "name": "stderr",
     "output_type": "stream",
     "text": [
      "  2%|▏         | 106/5197 [43:30<32:05:04, 22.69s/it]"
     ]
    },
    {
     "name": "stdout",
     "output_type": "stream",
     "text": [
      "AEON\n"
     ]
    },
    {
     "name": "stderr",
     "output_type": "stream",
     "text": [
      "  2%|▏         | 107/5197 [43:52<31:46:05, 22.47s/it]"
     ]
    },
    {
     "name": "stdout",
     "output_type": "stream",
     "text": [
      "AEP\n"
     ]
    },
    {
     "name": "stderr",
     "output_type": "stream",
     "text": [
      "  2%|▏         | 108/5197 [44:17<33:07:46, 23.44s/it]"
     ]
    },
    {
     "name": "stdout",
     "output_type": "stream",
     "text": [
      "AER\n"
     ]
    },
    {
     "name": "stderr",
     "output_type": "stream",
     "text": [
      "  2%|▏         | 109/5197 [44:43<33:59:39, 24.05s/it]"
     ]
    },
    {
     "name": "stdout",
     "output_type": "stream",
     "text": [
      "AERT\n"
     ]
    },
    {
     "name": "stderr",
     "output_type": "stream",
     "text": [
      "  2%|▏         | 110/5197 [45:04<32:41:47, 23.14s/it]"
     ]
    },
    {
     "name": "stdout",
     "output_type": "stream",
     "text": [
      "AES\n"
     ]
    },
    {
     "name": "stderr",
     "output_type": "stream",
     "text": [
      "  2%|▏         | 111/5197 [45:21<30:10:20, 21.36s/it]"
     ]
    },
    {
     "name": "stdout",
     "output_type": "stream",
     "text": [
      "AESI\n"
     ]
    },
    {
     "name": "stderr",
     "output_type": "stream",
     "text": [
      "  2%|▏         | 112/5197 [45:44<30:54:05, 21.88s/it]"
     ]
    },
    {
     "name": "stdout",
     "output_type": "stream",
     "text": [
      "AEVA\n"
     ]
    },
    {
     "name": "stderr",
     "output_type": "stream",
     "text": [
      "  2%|▏         | 113/5197 [46:07<31:09:35, 22.06s/it]"
     ]
    },
    {
     "name": "stdout",
     "output_type": "stream",
     "text": [
      "AEYE\n"
     ]
    },
    {
     "name": "stderr",
     "output_type": "stream",
     "text": [
      "  2%|▏         | 114/5197 [46:27<30:21:56, 21.51s/it]"
     ]
    },
    {
     "name": "stdout",
     "output_type": "stream",
     "text": [
      "AEZS\n"
     ]
    },
    {
     "name": "stderr",
     "output_type": "stream",
     "text": [
      "  2%|▏         | 115/5197 [46:45<28:49:45, 20.42s/it]"
     ]
    },
    {
     "name": "stdout",
     "output_type": "stream",
     "text": [
      "AFAR\n"
     ]
    },
    {
     "name": "stderr",
     "output_type": "stream",
     "text": [
      "  2%|▏         | 116/5197 [47:07<29:33:53, 20.95s/it]"
     ]
    },
    {
     "name": "stdout",
     "output_type": "stream",
     "text": [
      "AFBI\n"
     ]
    },
    {
     "name": "stderr",
     "output_type": "stream",
     "text": [
      "  2%|▏         | 117/5197 [47:25<28:11:38, 19.98s/it]"
     ]
    },
    {
     "name": "stdout",
     "output_type": "stream",
     "text": [
      "AFCG\n"
     ]
    },
    {
     "name": "stderr",
     "output_type": "stream",
     "text": [
      "  2%|▏         | 118/5197 [47:38<25:28:34, 18.06s/it]"
     ]
    },
    {
     "name": "stdout",
     "output_type": "stream",
     "text": [
      "AFG\n"
     ]
    },
    {
     "name": "stderr",
     "output_type": "stream",
     "text": [
      "  2%|▏         | 119/5197 [48:00<26:57:23, 19.11s/it]"
     ]
    },
    {
     "name": "stdout",
     "output_type": "stream",
     "text": [
      "AFIB\n"
     ]
    },
    {
     "name": "stderr",
     "output_type": "stream",
     "text": [
      "  2%|▏         | 120/5197 [48:20<27:29:59, 19.50s/it]"
     ]
    },
    {
     "name": "stdout",
     "output_type": "stream",
     "text": [
      "AFJK\n"
     ]
    },
    {
     "name": "stderr",
     "output_type": "stream",
     "text": [
      "  2%|▏         | 121/5197 [48:39<27:02:44, 19.18s/it]"
     ]
    },
    {
     "name": "stdout",
     "output_type": "stream",
     "text": [
      "AFL\n"
     ]
    },
    {
     "name": "stderr",
     "output_type": "stream",
     "text": [
      "  2%|▏         | 122/5197 [48:57<26:46:09, 18.99s/it]"
     ]
    },
    {
     "name": "stdout",
     "output_type": "stream",
     "text": [
      "AFMD\n"
     ]
    },
    {
     "name": "stderr",
     "output_type": "stream",
     "text": [
      "  2%|▏         | 123/5197 [49:16<26:36:32, 18.88s/it]"
     ]
    },
    {
     "name": "stdout",
     "output_type": "stream",
     "text": [
      "AFRI\n"
     ]
    },
    {
     "name": "stderr",
     "output_type": "stream",
     "text": [
      "  2%|▏         | 124/5197 [49:37<27:22:14, 19.42s/it]"
     ]
    },
    {
     "name": "stdout",
     "output_type": "stream",
     "text": [
      "AFRM\n"
     ]
    },
    {
     "name": "stderr",
     "output_type": "stream",
     "text": [
      "  2%|▏         | 125/5197 [49:58<28:02:43, 19.91s/it]"
     ]
    },
    {
     "name": "stdout",
     "output_type": "stream",
     "text": [
      "AFYA\n"
     ]
    },
    {
     "name": "stderr",
     "output_type": "stream",
     "text": [
      "  2%|▏         | 126/5197 [50:20<29:16:47, 20.79s/it]"
     ]
    },
    {
     "name": "stdout",
     "output_type": "stream",
     "text": [
      "AG\n"
     ]
    },
    {
     "name": "stderr",
     "output_type": "stream",
     "text": [
      "  2%|▏         | 127/5197 [50:46<31:15:23, 22.19s/it]"
     ]
    },
    {
     "name": "stdout",
     "output_type": "stream",
     "text": [
      "AGAE\n"
     ]
    },
    {
     "name": "stderr",
     "output_type": "stream",
     "text": [
      "  2%|▏         | 128/5197 [51:12<32:50:27, 23.32s/it]"
     ]
    },
    {
     "name": "stdout",
     "output_type": "stream",
     "text": [
      "AGBA\n"
     ]
    },
    {
     "name": "stderr",
     "output_type": "stream",
     "text": [
      "  2%|▏         | 129/5197 [51:42<35:31:24, 25.23s/it]"
     ]
    },
    {
     "name": "stdout",
     "output_type": "stream",
     "text": [
      "AGCO\n"
     ]
    },
    {
     "name": "stderr",
     "output_type": "stream",
     "text": [
      "  3%|▎         | 130/5197 [52:06<35:03:26, 24.91s/it]"
     ]
    },
    {
     "name": "stdout",
     "output_type": "stream",
     "text": [
      "AGE\n"
     ]
    },
    {
     "name": "stderr",
     "output_type": "stream",
     "text": [
      "  3%|▎         | 131/5197 [52:26<32:56:09, 23.40s/it]"
     ]
    },
    {
     "name": "stdout",
     "output_type": "stream",
     "text": [
      "AGEN\n"
     ]
    },
    {
     "name": "stderr",
     "output_type": "stream",
     "text": [
      "  3%|▎         | 132/5197 [52:50<33:14:11, 23.62s/it]"
     ]
    },
    {
     "name": "stdout",
     "output_type": "stream",
     "text": [
      "AGFY\n"
     ]
    },
    {
     "name": "stderr",
     "output_type": "stream",
     "text": [
      "  3%|▎         | 133/5197 [53:11<32:13:08, 22.90s/it]"
     ]
    },
    {
     "name": "stdout",
     "output_type": "stream",
     "text": [
      "AGI\n"
     ]
    },
    {
     "name": "stderr",
     "output_type": "stream",
     "text": [
      "  3%|▎         | 134/5197 [53:39<34:33:24, 24.57s/it]"
     ]
    },
    {
     "name": "stdout",
     "output_type": "stream",
     "text": [
      "AGIO\n"
     ]
    },
    {
     "name": "stderr",
     "output_type": "stream",
     "text": [
      "  3%|▎         | 135/5197 [54:09<36:47:36, 26.17s/it]"
     ]
    },
    {
     "name": "stdout",
     "output_type": "stream",
     "text": [
      "AGL\n"
     ]
    },
    {
     "name": "stderr",
     "output_type": "stream",
     "text": [
      "  3%|▎         | 136/5197 [54:30<34:38:20, 24.64s/it]"
     ]
    },
    {
     "name": "stdout",
     "output_type": "stream",
     "text": [
      "AGM\n"
     ]
    },
    {
     "name": "stderr",
     "output_type": "stream",
     "text": [
      "  3%|▎         | 137/5197 [54:51<32:56:11, 23.43s/it]"
     ]
    },
    {
     "name": "stdout",
     "output_type": "stream",
     "text": [
      "AGMa\n"
     ]
    },
    {
     "name": "stderr",
     "output_type": "stream",
     "text": [
      "  3%|▎         | 138/5197 [55:09<30:28:14, 21.68s/it]"
     ]
    },
    {
     "name": "stdout",
     "output_type": "stream",
     "text": [
      "AGMH\n"
     ]
    },
    {
     "name": "stderr",
     "output_type": "stream",
     "text": [
      "  3%|▎         | 139/5197 [55:37<33:24:08, 23.77s/it]"
     ]
    },
    {
     "name": "stdout",
     "output_type": "stream",
     "text": [
      "AGNC\n"
     ]
    },
    {
     "name": "stderr",
     "output_type": "stream",
     "text": [
      "  3%|▎         | 140/5197 [56:11<37:28:06, 26.67s/it]"
     ]
    },
    {
     "name": "stdout",
     "output_type": "stream",
     "text": [
      "AGO\n"
     ]
    },
    {
     "name": "stderr",
     "output_type": "stream",
     "text": [
      "  3%|▎         | 141/5197 [56:47<41:29:49, 29.55s/it]"
     ]
    },
    {
     "name": "stdout",
     "output_type": "stream",
     "text": [
      "AGR\n"
     ]
    },
    {
     "name": "stderr",
     "output_type": "stream",
     "text": [
      "  3%|▎         | 142/5197 [57:20<42:45:43, 30.45s/it]"
     ]
    },
    {
     "name": "stdout",
     "output_type": "stream",
     "text": [
      "AGRI\n"
     ]
    },
    {
     "name": "stderr",
     "output_type": "stream",
     "text": [
      "  3%|▎         | 143/5197 [57:49<42:14:53, 30.09s/it]"
     ]
    },
    {
     "name": "stdout",
     "output_type": "stream",
     "text": [
      "AGRO\n"
     ]
    },
    {
     "name": "stderr",
     "output_type": "stream",
     "text": [
      "  3%|▎         | 144/5197 [58:10<38:30:39, 27.44s/it]"
     ]
    },
    {
     "name": "stdout",
     "output_type": "stream",
     "text": [
      "AGRX\n"
     ]
    },
    {
     "name": "stderr",
     "output_type": "stream",
     "text": [
      "  3%|▎         | 145/5197 [58:31<35:34:23, 25.35s/it]"
     ]
    },
    {
     "name": "stdout",
     "output_type": "stream",
     "text": [
      "AGS\n"
     ]
    },
    {
     "name": "stderr",
     "output_type": "stream",
     "text": [
      "  3%|▎         | 146/5197 [59:05<39:35:20, 28.22s/it]"
     ]
    },
    {
     "name": "stdout",
     "output_type": "stream",
     "text": [
      "AGTI\n"
     ]
    },
    {
     "name": "stderr",
     "output_type": "stream",
     "text": [
      "  3%|▎         | 147/5197 [59:29<37:50:06, 26.97s/it]"
     ]
    },
    {
     "name": "stdout",
     "output_type": "stream",
     "text": [
      "AGX\n"
     ]
    },
    {
     "name": "stderr",
     "output_type": "stream",
     "text": [
      "  3%|▎         | 148/5197 [59:51<35:34:56, 25.37s/it]"
     ]
    },
    {
     "name": "stdout",
     "output_type": "stream",
     "text": [
      "AGYS\n"
     ]
    },
    {
     "name": "stderr",
     "output_type": "stream",
     "text": [
      "  3%|▎         | 149/5197 [1:00:10<32:52:42, 23.45s/it]"
     ]
    },
    {
     "name": "stdout",
     "output_type": "stream",
     "text": [
      "AHCO\n"
     ]
    },
    {
     "name": "stderr",
     "output_type": "stream",
     "text": [
      "  3%|▎         | 150/5197 [1:00:32<32:17:06, 23.03s/it]"
     ]
    },
    {
     "name": "stdout",
     "output_type": "stream",
     "text": [
      "AHG\n"
     ]
    },
    {
     "name": "stderr",
     "output_type": "stream",
     "text": [
      "  3%|▎         | 151/5197 [1:01:03<35:23:54, 25.25s/it]"
     ]
    },
    {
     "name": "stdout",
     "output_type": "stream",
     "text": [
      "AHH\n"
     ]
    },
    {
     "name": "stderr",
     "output_type": "stream",
     "text": [
      "  3%|▎         | 152/5197 [1:01:36<38:56:28, 27.79s/it]"
     ]
    },
    {
     "name": "stdout",
     "output_type": "stream",
     "text": [
      "AHR\n"
     ]
    },
    {
     "name": "stderr",
     "output_type": "stream",
     "text": [
      "  3%|▎         | 153/5197 [1:02:08<40:28:21, 28.89s/it]"
     ]
    },
    {
     "name": "stdout",
     "output_type": "stream",
     "text": [
      "AI\n"
     ]
    },
    {
     "name": "stderr",
     "output_type": "stream",
     "text": [
      "  3%|▎         | 154/5197 [1:02:45<43:50:04, 31.29s/it]"
     ]
    },
    {
     "name": "stdout",
     "output_type": "stream",
     "text": [
      "AIB\n"
     ]
    },
    {
     "name": "stderr",
     "output_type": "stream",
     "text": [
      "  3%|▎         | 155/5197 [1:03:07<40:05:47, 28.63s/it]"
     ]
    },
    {
     "name": "stdout",
     "output_type": "stream",
     "text": [
      "AIG\n"
     ]
    },
    {
     "name": "stderr",
     "output_type": "stream",
     "text": [
      "  3%|▎         | 156/5197 [1:03:40<41:46:00, 29.83s/it]"
     ]
    },
    {
     "name": "stdout",
     "output_type": "stream",
     "text": [
      "AIHS\n"
     ]
    },
    {
     "name": "stderr",
     "output_type": "stream",
     "text": [
      "  3%|▎         | 157/5197 [1:04:07<40:50:11, 29.17s/it]"
     ]
    },
    {
     "name": "stdout",
     "output_type": "stream",
     "text": [
      "AIM\n"
     ]
    },
    {
     "name": "stderr",
     "output_type": "stream",
     "text": [
      "  3%|▎         | 158/5197 [1:04:31<38:43:20, 27.66s/it]"
     ]
    },
    {
     "name": "stdout",
     "output_type": "stream",
     "text": [
      "AIMD\n"
     ]
    },
    {
     "name": "stderr",
     "output_type": "stream",
     "text": [
      "  3%|▎         | 159/5197 [1:04:59<38:41:16, 27.65s/it]"
     ]
    },
    {
     "name": "stdout",
     "output_type": "stream",
     "text": [
      "AIN\n"
     ]
    },
    {
     "name": "stderr",
     "output_type": "stream",
     "text": [
      "  3%|▎         | 160/5197 [1:05:30<39:59:03, 28.58s/it]"
     ]
    },
    {
     "name": "stdout",
     "output_type": "stream",
     "text": [
      "AINC\n"
     ]
    },
    {
     "name": "stderr",
     "output_type": "stream",
     "text": [
      "  3%|▎         | 161/5197 [1:06:01<40:58:16, 29.29s/it]"
     ]
    },
    {
     "name": "stdout",
     "output_type": "stream",
     "text": [
      "AIP\n"
     ]
    },
    {
     "name": "stderr",
     "output_type": "stream",
     "text": [
      "  3%|▎         | 162/5197 [1:06:28<40:04:39, 28.66s/it]"
     ]
    },
    {
     "name": "stdout",
     "output_type": "stream",
     "text": [
      "AIR\n"
     ]
    },
    {
     "name": "stderr",
     "output_type": "stream",
     "text": [
      "  3%|▎         | 163/5197 [1:06:59<40:53:12, 29.24s/it]"
     ]
    },
    {
     "name": "stdout",
     "output_type": "stream",
     "text": [
      "AIRC\n"
     ]
    },
    {
     "name": "stderr",
     "output_type": "stream",
     "text": [
      "  3%|▎         | 164/5197 [1:07:21<37:55:28, 27.13s/it]"
     ]
    },
    {
     "name": "stdout",
     "output_type": "stream",
     "text": [
      "AIRE\n"
     ]
    },
    {
     "name": "stderr",
     "output_type": "stream",
     "text": [
      "  3%|▎         | 165/5197 [1:08:01<43:22:12, 31.03s/it]"
     ]
    },
    {
     "name": "stdout",
     "output_type": "stream",
     "text": [
      "AIRG\n"
     ]
    },
    {
     "name": "stderr",
     "output_type": "stream",
     "text": [
      "  3%|▎         | 166/5197 [1:08:27<41:23:01, 29.61s/it]"
     ]
    },
    {
     "name": "stdout",
     "output_type": "stream",
     "text": [
      "AIRI\n"
     ]
    },
    {
     "name": "stderr",
     "output_type": "stream",
     "text": [
      "  3%|▎         | 167/5197 [1:09:06<45:03:55, 32.25s/it]"
     ]
    },
    {
     "name": "stdout",
     "output_type": "stream",
     "text": [
      "AIRS\n"
     ]
    },
    {
     "name": "stderr",
     "output_type": "stream",
     "text": [
      "  3%|▎         | 168/5197 [1:09:31<42:23:27, 30.35s/it]"
     ]
    },
    {
     "name": "stdout",
     "output_type": "stream",
     "text": [
      "AIRT\n"
     ]
    },
    {
     "name": "stderr",
     "output_type": "stream",
     "text": [
      "  3%|▎         | 169/5197 [1:09:49<37:07:25, 26.58s/it]"
     ]
    },
    {
     "name": "stdout",
     "output_type": "stream",
     "text": [
      "AISP\n"
     ]
    },
    {
     "name": "stderr",
     "output_type": "stream",
     "text": [
      "  3%|▎         | 170/5197 [1:10:18<38:10:58, 27.34s/it]"
     ]
    },
    {
     "name": "stdout",
     "output_type": "stream",
     "text": [
      "AIT\n"
     ]
    },
    {
     "name": "stderr",
     "output_type": "stream",
     "text": [
      "  3%|▎         | 171/5197 [1:10:54<41:30:24, 29.73s/it]"
     ]
    },
    {
     "name": "stdout",
     "output_type": "stream",
     "text": [
      "AITR\n"
     ]
    },
    {
     "name": "stderr",
     "output_type": "stream",
     "text": [
      "  3%|▎         | 172/5197 [1:11:21<40:34:23, 29.07s/it]"
     ]
    },
    {
     "name": "stdout",
     "output_type": "stream",
     "text": [
      "AIV\n"
     ]
    },
    {
     "name": "stderr",
     "output_type": "stream",
     "text": [
      "  3%|▎         | 173/5197 [1:11:47<39:12:45, 28.10s/it]"
     ]
    },
    {
     "name": "stdout",
     "output_type": "stream",
     "text": [
      "AIZ\n"
     ]
    },
    {
     "name": "stderr",
     "output_type": "stream",
     "text": [
      "  3%|▎         | 174/5197 [1:12:07<35:58:21, 25.78s/it]"
     ]
    },
    {
     "name": "stdout",
     "output_type": "stream",
     "text": [
      "AJG\n"
     ]
    },
    {
     "name": "stderr",
     "output_type": "stream",
     "text": [
      "  3%|▎         | 175/5197 [1:12:34<36:18:41, 26.03s/it]"
     ]
    },
    {
     "name": "stdout",
     "output_type": "stream",
     "text": [
      "AJX\n"
     ]
    },
    {
     "name": "stderr",
     "output_type": "stream",
     "text": [
      "  3%|▎         | 176/5197 [1:12:50<32:17:10, 23.15s/it]"
     ]
    },
    {
     "name": "stdout",
     "output_type": "stream",
     "text": [
      "AKA\n"
     ]
    },
    {
     "name": "stderr",
     "output_type": "stream",
     "text": [
      "  3%|▎         | 177/5197 [1:13:16<33:07:56, 23.76s/it]"
     ]
    },
    {
     "name": "stdout",
     "output_type": "stream",
     "text": [
      "AKAM\n"
     ]
    },
    {
     "name": "stderr",
     "output_type": "stream",
     "text": [
      "  3%|▎         | 178/5197 [1:13:40<33:32:58, 24.06s/it]"
     ]
    },
    {
     "name": "stdout",
     "output_type": "stream",
     "text": [
      "AKAN\n"
     ]
    },
    {
     "name": "stderr",
     "output_type": "stream",
     "text": [
      "  3%|▎         | 179/5197 [1:14:10<35:50:52, 25.72s/it]"
     ]
    },
    {
     "name": "stdout",
     "output_type": "stream",
     "text": [
      "AKBA\n"
     ]
    },
    {
     "name": "stderr",
     "output_type": "stream",
     "text": [
      "  3%|▎         | 180/5197 [1:14:38<36:38:48, 26.30s/it]"
     ]
    },
    {
     "name": "stdout",
     "output_type": "stream",
     "text": [
      "AKLI\n"
     ]
    },
    {
     "name": "stderr",
     "output_type": "stream",
     "text": [
      "  3%|▎         | 181/5197 [1:15:03<36:11:01, 25.97s/it]"
     ]
    },
    {
     "name": "stdout",
     "output_type": "stream",
     "text": [
      "AKRO\n"
     ]
    },
    {
     "name": "stderr",
     "output_type": "stream",
     "text": [
      "  4%|▎         | 182/5197 [1:15:23<33:49:29, 24.28s/it]"
     ]
    },
    {
     "name": "stdout",
     "output_type": "stream",
     "text": [
      "AKTS\n"
     ]
    },
    {
     "name": "stderr",
     "output_type": "stream",
     "text": [
      "  4%|▎         | 183/5197 [1:15:56<37:24:53, 26.86s/it]"
     ]
    },
    {
     "name": "stdout",
     "output_type": "stream",
     "text": [
      "AKYA\n"
     ]
    },
    {
     "name": "stderr",
     "output_type": "stream",
     "text": [
      "  4%|▎         | 184/5197 [1:16:23<37:22:45, 26.84s/it]"
     ]
    },
    {
     "name": "stdout",
     "output_type": "stream",
     "text": [
      "AL\n"
     ]
    },
    {
     "name": "stderr",
     "output_type": "stream",
     "text": [
      "  4%|▎         | 185/5197 [1:16:46<35:54:20, 25.79s/it]"
     ]
    },
    {
     "name": "stdout",
     "output_type": "stream",
     "text": [
      "ALB\n"
     ]
    },
    {
     "name": "stderr",
     "output_type": "stream",
     "text": [
      "  4%|▎         | 186/5197 [1:17:14<36:42:34, 26.37s/it]"
     ]
    },
    {
     "name": "stdout",
     "output_type": "stream",
     "text": [
      "ALBT\n"
     ]
    },
    {
     "name": "stderr",
     "output_type": "stream",
     "text": [
      "  4%|▎         | 187/5197 [1:17:41<37:08:03, 26.68s/it]"
     ]
    },
    {
     "name": "stdout",
     "output_type": "stream",
     "text": [
      "ALC\n"
     ]
    },
    {
     "name": "stderr",
     "output_type": "stream",
     "text": [
      "  4%|▎         | 188/5197 [1:18:09<37:25:33, 26.90s/it]"
     ]
    },
    {
     "name": "stdout",
     "output_type": "stream",
     "text": [
      "ALCC\n"
     ]
    },
    {
     "name": "stderr",
     "output_type": "stream",
     "text": [
      "  4%|▎         | 189/5197 [1:18:42<40:05:56, 28.83s/it]"
     ]
    },
    {
     "name": "stdout",
     "output_type": "stream",
     "text": [
      "ALCE\n"
     ]
    },
    {
     "name": "stderr",
     "output_type": "stream",
     "text": [
      "  4%|▎         | 190/5197 [1:19:13<40:46:27, 29.32s/it]"
     ]
    },
    {
     "name": "stdout",
     "output_type": "stream",
     "text": [
      "ALCO\n"
     ]
    },
    {
     "name": "stderr",
     "output_type": "stream",
     "text": [
      "  4%|▎         | 191/5197 [1:19:43<41:26:23, 29.80s/it]"
     ]
    },
    {
     "name": "stdout",
     "output_type": "stream",
     "text": [
      "ALCY\n"
     ]
    },
    {
     "name": "stderr",
     "output_type": "stream",
     "text": [
      "  4%|▎         | 192/5197 [1:20:08<39:15:34, 28.24s/it]"
     ]
    },
    {
     "name": "stdout",
     "output_type": "stream",
     "text": [
      "ALDX\n"
     ]
    },
    {
     "name": "stderr",
     "output_type": "stream",
     "text": [
      "  4%|▎         | 193/5197 [1:20:32<37:15:29, 26.80s/it]"
     ]
    },
    {
     "name": "stdout",
     "output_type": "stream",
     "text": [
      "ALE\n"
     ]
    },
    {
     "name": "stderr",
     "output_type": "stream",
     "text": [
      "  4%|▎         | 194/5197 [1:20:50<33:39:16, 24.22s/it]"
     ]
    },
    {
     "name": "stdout",
     "output_type": "stream",
     "text": [
      "ALEC\n"
     ]
    },
    {
     "name": "stderr",
     "output_type": "stream",
     "text": [
      "  4%|▍         | 195/5197 [1:21:16<34:30:39, 24.84s/it]"
     ]
    },
    {
     "name": "stdout",
     "output_type": "stream",
     "text": [
      "ALEX\n"
     ]
    },
    {
     "name": "stderr",
     "output_type": "stream",
     "text": [
      "  4%|▍         | 196/5197 [1:21:34<31:36:39, 22.76s/it]"
     ]
    },
    {
     "name": "stdout",
     "output_type": "stream",
     "text": [
      "ALG\n"
     ]
    },
    {
     "name": "stderr",
     "output_type": "stream",
     "text": [
      "  4%|▍         | 197/5197 [1:22:04<34:47:15, 25.05s/it]"
     ]
    },
    {
     "name": "stdout",
     "output_type": "stream",
     "text": [
      "ALGM\n"
     ]
    },
    {
     "name": "stderr",
     "output_type": "stream",
     "text": [
      "  4%|▍         | 198/5197 [1:22:19<30:36:46, 22.05s/it]"
     ]
    },
    {
     "name": "stdout",
     "output_type": "stream",
     "text": [
      "ALGN\n"
     ]
    },
    {
     "name": "stderr",
     "output_type": "stream",
     "text": [
      "  4%|▍         | 199/5197 [1:22:55<36:25:20, 26.23s/it]"
     ]
    },
    {
     "name": "stdout",
     "output_type": "stream",
     "text": [
      "ALGS\n"
     ]
    },
    {
     "name": "stderr",
     "output_type": "stream",
     "text": [
      "  4%|▍         | 200/5197 [1:23:26<38:27:10, 27.70s/it]"
     ]
    },
    {
     "name": "stdout",
     "output_type": "stream",
     "text": [
      "ALGT\n"
     ]
    },
    {
     "name": "stderr",
     "output_type": "stream",
     "text": [
      "  4%|▍         | 201/5197 [1:23:59<40:17:55, 29.04s/it]"
     ]
    },
    {
     "name": "stdout",
     "output_type": "stream",
     "text": [
      "ALHC\n"
     ]
    },
    {
     "name": "stderr",
     "output_type": "stream",
     "text": [
      "  4%|▍         | 202/5197 [1:24:29<40:45:52, 29.38s/it]"
     ]
    },
    {
     "name": "stdout",
     "output_type": "stream",
     "text": [
      "ALIM\n"
     ]
    },
    {
     "name": "stderr",
     "output_type": "stream",
     "text": [
      "  4%|▍         | 203/5197 [1:24:54<38:56:46, 28.08s/it]"
     ]
    },
    {
     "name": "stdout",
     "output_type": "stream",
     "text": [
      "ALIT\n"
     ]
    },
    {
     "name": "stderr",
     "output_type": "stream",
     "text": [
      "  4%|▍         | 204/5197 [1:25:16<36:18:04, 26.17s/it]"
     ]
    },
    {
     "name": "stdout",
     "output_type": "stream",
     "text": [
      "ALK\n"
     ]
    },
    {
     "name": "stderr",
     "output_type": "stream",
     "text": [
      "  4%|▍         | 205/5197 [1:25:43<36:46:25, 26.52s/it]"
     ]
    },
    {
     "name": "stdout",
     "output_type": "stream",
     "text": [
      "ALKS\n"
     ]
    },
    {
     "name": "stderr",
     "output_type": "stream",
     "text": [
      "  4%|▍         | 206/5197 [1:26:04<34:30:57, 24.90s/it]"
     ]
    },
    {
     "name": "stdout",
     "output_type": "stream",
     "text": [
      "ALKT\n"
     ]
    },
    {
     "name": "stderr",
     "output_type": "stream",
     "text": [
      "  4%|▍         | 207/5197 [1:26:25<32:47:37, 23.66s/it]"
     ]
    },
    {
     "name": "stdout",
     "output_type": "stream",
     "text": [
      "ALL\n"
     ]
    },
    {
     "name": "stderr",
     "output_type": "stream",
     "text": [
      "  4%|▍         | 208/5197 [1:26:51<33:44:33, 24.35s/it]"
     ]
    },
    {
     "name": "stdout",
     "output_type": "stream",
     "text": [
      "ALLE\n"
     ]
    },
    {
     "name": "stderr",
     "output_type": "stream",
     "text": [
      "  4%|▍         | 209/5197 [1:27:10<31:46:01, 22.93s/it]"
     ]
    },
    {
     "name": "stdout",
     "output_type": "stream",
     "text": [
      "ALLG\n"
     ]
    },
    {
     "name": "stderr",
     "output_type": "stream",
     "text": [
      "  4%|▍         | 210/5197 [1:27:36<33:04:12, 23.87s/it]"
     ]
    },
    {
     "name": "stdout",
     "output_type": "stream",
     "text": [
      "ALLK\n"
     ]
    },
    {
     "name": "stderr",
     "output_type": "stream",
     "text": [
      "  4%|▍         | 211/5197 [1:28:02<33:44:24, 24.36s/it]"
     ]
    },
    {
     "name": "stdout",
     "output_type": "stream",
     "text": [
      "ALLO\n"
     ]
    },
    {
     "name": "stderr",
     "output_type": "stream",
     "text": [
      "  4%|▍         | 212/5197 [1:28:26<33:27:43, 24.17s/it]"
     ]
    },
    {
     "name": "stdout",
     "output_type": "stream",
     "text": [
      "ALLR\n"
     ]
    },
    {
     "name": "stderr",
     "output_type": "stream",
     "text": [
      "  4%|▍         | 213/5197 [1:28:48<32:52:49, 23.75s/it]"
     ]
    },
    {
     "name": "stdout",
     "output_type": "stream",
     "text": [
      "ALLT\n"
     ]
    },
    {
     "name": "stderr",
     "output_type": "stream",
     "text": [
      "  4%|▍         | 214/5197 [1:29:19<35:48:01, 25.86s/it]"
     ]
    },
    {
     "name": "stdout",
     "output_type": "stream",
     "text": [
      "ALLY\n"
     ]
    },
    {
     "name": "stderr",
     "output_type": "stream",
     "text": [
      "  4%|▍         | 215/5197 [1:29:47<36:30:47, 26.38s/it]"
     ]
    },
    {
     "name": "stdout",
     "output_type": "stream",
     "text": [
      "ALNT\n"
     ]
    },
    {
     "name": "stderr",
     "output_type": "stream",
     "text": [
      "  4%|▍         | 216/5197 [1:30:12<35:57:47, 25.99s/it]"
     ]
    },
    {
     "name": "stdout",
     "output_type": "stream",
     "text": [
      "ALNY\n"
     ]
    },
    {
     "name": "stderr",
     "output_type": "stream",
     "text": [
      "  4%|▍         | 217/5197 [1:30:42<37:32:41, 27.14s/it]"
     ]
    },
    {
     "name": "stdout",
     "output_type": "stream",
     "text": [
      "ALOT\n"
     ]
    },
    {
     "name": "stderr",
     "output_type": "stream",
     "text": [
      "  4%|▍         | 218/5197 [1:31:12<38:45:03, 28.02s/it]"
     ]
    },
    {
     "name": "stdout",
     "output_type": "stream",
     "text": [
      "ALPN\n"
     ]
    },
    {
     "name": "stderr",
     "output_type": "stream",
     "text": [
      "  4%|▍         | 219/5197 [1:31:41<39:02:33, 28.23s/it]"
     ]
    },
    {
     "name": "stdout",
     "output_type": "stream",
     "text": [
      "ALPP\n"
     ]
    },
    {
     "name": "stderr",
     "output_type": "stream",
     "text": [
      "  4%|▍         | 220/5197 [1:32:12<40:23:11, 29.21s/it]"
     ]
    },
    {
     "name": "stdout",
     "output_type": "stream",
     "text": [
      "ALRM\n"
     ]
    },
    {
     "name": "stderr",
     "output_type": "stream",
     "text": [
      "  4%|▍         | 221/5197 [1:32:39<39:27:51, 28.55s/it]"
     ]
    },
    {
     "name": "stdout",
     "output_type": "stream",
     "text": [
      "ALRN\n"
     ]
    },
    {
     "name": "stderr",
     "output_type": "stream",
     "text": [
      "  4%|▍         | 222/5197 [1:33:03<37:33:23, 27.18s/it]"
     ]
    },
    {
     "name": "stdout",
     "output_type": "stream",
     "text": [
      "ALRS\n"
     ]
    },
    {
     "name": "stderr",
     "output_type": "stream",
     "text": [
      "  4%|▍         | 223/5197 [1:33:37<40:16:05, 29.14s/it]"
     ]
    },
    {
     "name": "stdout",
     "output_type": "stream",
     "text": [
      "ALSA\n"
     ]
    },
    {
     "name": "stderr",
     "output_type": "stream",
     "text": [
      "  4%|▍         | 224/5197 [1:34:03<39:10:12, 28.36s/it]"
     ]
    },
    {
     "name": "stdout",
     "output_type": "stream",
     "text": [
      "ALSN\n"
     ]
    },
    {
     "name": "stderr",
     "output_type": "stream",
     "text": [
      "  4%|▍         | 225/5197 [1:34:29<38:01:31, 27.53s/it]"
     ]
    },
    {
     "name": "stdout",
     "output_type": "stream",
     "text": [
      "ALT\n"
     ]
    },
    {
     "name": "stderr",
     "output_type": "stream",
     "text": [
      "  4%|▍         | 226/5197 [1:35:07<42:15:09, 30.60s/it]"
     ]
    },
    {
     "name": "stdout",
     "output_type": "stream",
     "text": [
      "ALTG\n"
     ]
    },
    {
     "name": "stderr",
     "output_type": "stream",
     "text": [
      "  4%|▍         | 227/5197 [1:35:30<39:24:36, 28.55s/it]"
     ]
    },
    {
     "name": "stdout",
     "output_type": "stream",
     "text": [
      "ALTI\n"
     ]
    },
    {
     "name": "stderr",
     "output_type": "stream",
     "text": [
      "  4%|▍         | 228/5197 [1:36:08<43:04:22, 31.21s/it]"
     ]
    },
    {
     "name": "stdout",
     "output_type": "stream",
     "text": [
      "ALTM\n"
     ]
    },
    {
     "name": "stderr",
     "output_type": "stream",
     "text": [
      "  4%|▍         | 229/5197 [1:36:37<42:13:52, 30.60s/it]"
     ]
    },
    {
     "name": "stdout",
     "output_type": "stream",
     "text": [
      "ALTO\n"
     ]
    },
    {
     "name": "stderr",
     "output_type": "stream",
     "text": [
      "  4%|▍         | 230/5197 [1:37:06<41:24:32, 30.01s/it]"
     ]
    },
    {
     "name": "stdout",
     "output_type": "stream",
     "text": [
      "ALTR\n"
     ]
    },
    {
     "name": "stderr",
     "output_type": "stream",
     "text": [
      "  4%|▍         | 231/5197 [1:37:37<41:54:50, 30.38s/it]"
     ]
    },
    {
     "name": "stdout",
     "output_type": "stream",
     "text": [
      "ALTU\n"
     ]
    },
    {
     "name": "stderr",
     "output_type": "stream",
     "text": [
      "  4%|▍         | 232/5197 [1:38:02<39:46:32, 28.84s/it]"
     ]
    },
    {
     "name": "stdout",
     "output_type": "stream",
     "text": [
      "ALTUU\n"
     ]
    },
    {
     "name": "stderr",
     "output_type": "stream",
     "text": [
      "  4%|▍         | 233/5197 [1:38:27<38:11:56, 27.70s/it]"
     ]
    },
    {
     "name": "stdout",
     "output_type": "stream",
     "text": [
      "ALUR\n"
     ]
    },
    {
     "name": "stderr",
     "output_type": "stream",
     "text": [
      "  5%|▍         | 234/5197 [1:38:49<35:47:38, 25.96s/it]"
     ]
    },
    {
     "name": "stdout",
     "output_type": "stream",
     "text": [
      "ALV\n"
     ]
    },
    {
     "name": "stderr",
     "output_type": "stream",
     "text": [
      "  5%|▍         | 235/5197 [1:39:22<38:43:53, 28.10s/it]"
     ]
    },
    {
     "name": "stdout",
     "output_type": "stream",
     "text": [
      "ALVO\n"
     ]
    },
    {
     "name": "stderr",
     "output_type": "stream",
     "text": [
      "  5%|▍         | 236/5197 [1:39:48<37:39:21, 27.33s/it]"
     ]
    },
    {
     "name": "stdout",
     "output_type": "stream",
     "text": [
      "ALVR\n"
     ]
    },
    {
     "name": "stderr",
     "output_type": "stream",
     "text": [
      "  5%|▍         | 237/5197 [1:40:10<35:39:21, 25.88s/it]"
     ]
    },
    {
     "name": "stdout",
     "output_type": "stream",
     "text": [
      "ALX\n"
     ]
    },
    {
     "name": "stderr",
     "output_type": "stream",
     "text": [
      "  5%|▍         | 238/5197 [1:40:39<36:48:02, 26.72s/it]"
     ]
    },
    {
     "name": "stdout",
     "output_type": "stream",
     "text": [
      "ALXO\n"
     ]
    },
    {
     "name": "stderr",
     "output_type": "stream",
     "text": [
      "  5%|▍         | 239/5197 [1:41:02<35:17:32, 25.63s/it]"
     ]
    },
    {
     "name": "stdout",
     "output_type": "stream",
     "text": [
      "ALZN\n"
     ]
    },
    {
     "name": "stderr",
     "output_type": "stream",
     "text": [
      "  5%|▍         | 240/5197 [1:41:27<35:12:01, 25.56s/it]"
     ]
    },
    {
     "name": "stdout",
     "output_type": "stream",
     "text": [
      "AM\n"
     ]
    },
    {
     "name": "stderr",
     "output_type": "stream",
     "text": [
      "  5%|▍         | 241/5197 [1:41:47<32:35:36, 23.68s/it]"
     ]
    },
    {
     "name": "stdout",
     "output_type": "stream",
     "text": [
      "AMAL\n"
     ]
    },
    {
     "name": "stderr",
     "output_type": "stream",
     "text": [
      "  5%|▍         | 242/5197 [1:42:11<32:48:17, 23.83s/it]"
     ]
    },
    {
     "name": "stdout",
     "output_type": "stream",
     "text": [
      "AMAT\n"
     ]
    },
    {
     "name": "stderr",
     "output_type": "stream",
     "text": [
      "  5%|▍         | 243/5197 [1:42:36<33:11:37, 24.12s/it]"
     ]
    },
    {
     "name": "stdout",
     "output_type": "stream",
     "text": [
      "AMBA\n"
     ]
    },
    {
     "name": "stderr",
     "output_type": "stream",
     "text": [
      "  5%|▍         | 244/5197 [1:43:03<34:27:37, 25.05s/it]"
     ]
    },
    {
     "name": "stdout",
     "output_type": "stream",
     "text": [
      "AMBC\n"
     ]
    },
    {
     "name": "stderr",
     "output_type": "stream",
     "text": [
      "  5%|▍         | 245/5197 [1:43:32<36:09:16, 26.28s/it]"
     ]
    },
    {
     "name": "stdout",
     "output_type": "stream",
     "text": [
      "AMBI\n"
     ]
    },
    {
     "name": "stderr",
     "output_type": "stream",
     "text": [
      "  5%|▍         | 246/5197 [1:44:05<38:50:14, 28.24s/it]"
     ]
    },
    {
     "name": "stdout",
     "output_type": "stream",
     "text": [
      "AMBP\n"
     ]
    },
    {
     "name": "stderr",
     "output_type": "stream",
     "text": [
      "  5%|▍         | 247/5197 [1:44:26<35:48:59, 26.05s/it]"
     ]
    },
    {
     "name": "stdout",
     "output_type": "stream",
     "text": [
      "AMC\n"
     ]
    },
    {
     "name": "stderr",
     "output_type": "stream",
     "text": [
      "  5%|▍         | 248/5197 [1:44:49<34:29:00, 25.08s/it]"
     ]
    },
    {
     "name": "stdout",
     "output_type": "stream",
     "text": [
      "AMCR\n"
     ]
    },
    {
     "name": "stderr",
     "output_type": "stream",
     "text": [
      "  5%|▍         | 249/5197 [1:45:14<34:27:09, 25.07s/it]"
     ]
    },
    {
     "name": "stdout",
     "output_type": "stream",
     "text": [
      "AMCX\n"
     ]
    },
    {
     "name": "stderr",
     "output_type": "stream",
     "text": [
      "  5%|▍         | 250/5197 [1:45:38<34:14:16, 24.92s/it]"
     ]
    },
    {
     "name": "stdout",
     "output_type": "stream",
     "text": [
      "AMD\n"
     ]
    },
    {
     "name": "stderr",
     "output_type": "stream",
     "text": [
      "  5%|▍         | 251/5197 [1:46:04<34:26:49, 25.07s/it]"
     ]
    },
    {
     "name": "stdout",
     "output_type": "stream",
     "text": [
      "AME\n"
     ]
    },
    {
     "name": "stderr",
     "output_type": "stream",
     "text": [
      "  5%|▍         | 252/5197 [1:46:35<36:55:55, 26.89s/it]"
     ]
    },
    {
     "name": "stdout",
     "output_type": "stream",
     "text": [
      "AMED\n"
     ]
    },
    {
     "name": "stderr",
     "output_type": "stream",
     "text": [
      "  5%|▍         | 253/5197 [1:47:05<38:30:57, 28.05s/it]"
     ]
    },
    {
     "name": "stdout",
     "output_type": "stream",
     "text": [
      "AMG\n"
     ]
    },
    {
     "name": "stderr",
     "output_type": "stream",
     "text": [
      "  5%|▍         | 254/5197 [1:47:38<40:23:52, 29.42s/it]"
     ]
    },
    {
     "name": "stdout",
     "output_type": "stream",
     "text": [
      "AMGN\n"
     ]
    },
    {
     "name": "stderr",
     "output_type": "stream",
     "text": [
      "  5%|▍         | 255/5197 [1:48:02<37:56:32, 27.64s/it]"
     ]
    },
    {
     "name": "stdout",
     "output_type": "stream",
     "text": [
      "AMIX\n"
     ]
    },
    {
     "name": "stderr",
     "output_type": "stream",
     "text": [
      "  5%|▍         | 256/5197 [1:48:31<38:31:07, 28.06s/it]"
     ]
    },
    {
     "name": "stdout",
     "output_type": "stream",
     "text": [
      "AMK\n"
     ]
    },
    {
     "name": "stderr",
     "output_type": "stream",
     "text": [
      "  5%|▍         | 257/5197 [1:48:59<38:31:56, 28.08s/it]"
     ]
    },
    {
     "name": "stdout",
     "output_type": "stream",
     "text": [
      "AMKR\n"
     ]
    },
    {
     "name": "stderr",
     "output_type": "stream",
     "text": [
      "  5%|▍         | 258/5197 [1:49:21<36:10:19, 26.37s/it]"
     ]
    },
    {
     "name": "stdout",
     "output_type": "stream",
     "text": [
      "AMLI\n"
     ]
    },
    {
     "name": "stderr",
     "output_type": "stream",
     "text": [
      "  5%|▍         | 259/5197 [1:49:41<33:37:49, 24.52s/it]"
     ]
    },
    {
     "name": "stdout",
     "output_type": "stream",
     "text": [
      "AMLX\n"
     ]
    },
    {
     "name": "stderr",
     "output_type": "stream",
     "text": [
      "  5%|▌         | 260/5197 [1:50:02<32:05:40, 23.40s/it]"
     ]
    },
    {
     "name": "stdout",
     "output_type": "stream",
     "text": [
      "AMN\n"
     ]
    },
    {
     "name": "stderr",
     "output_type": "stream",
     "text": [
      "  5%|▌         | 261/5197 [1:50:28<33:02:49, 24.10s/it]"
     ]
    },
    {
     "name": "stdout",
     "output_type": "stream",
     "text": [
      "AMNB\n"
     ]
    },
    {
     "name": "stderr",
     "output_type": "stream",
     "text": [
      "  5%|▌         | 262/5197 [1:50:49<31:54:33, 23.28s/it]"
     ]
    },
    {
     "name": "stdout",
     "output_type": "stream",
     "text": [
      "AMP\n"
     ]
    },
    {
     "name": "stderr",
     "output_type": "stream",
     "text": [
      "  5%|▌         | 263/5197 [1:51:05<28:44:20, 20.97s/it]"
     ]
    },
    {
     "name": "stdout",
     "output_type": "stream",
     "text": [
      "AMPE\n"
     ]
    },
    {
     "name": "stderr",
     "output_type": "stream",
     "text": [
      "  5%|▌         | 264/5197 [1:51:24<27:54:52, 20.37s/it]"
     ]
    },
    {
     "name": "stdout",
     "output_type": "stream",
     "text": [
      "AMPG\n"
     ]
    },
    {
     "name": "stderr",
     "output_type": "stream",
     "text": [
      "  5%|▌         | 265/5197 [1:51:45<28:20:57, 20.69s/it]"
     ]
    },
    {
     "name": "stdout",
     "output_type": "stream",
     "text": [
      "AMPH\n"
     ]
    },
    {
     "name": "stderr",
     "output_type": "stream",
     "text": [
      "  5%|▌         | 266/5197 [1:52:14<31:28:55, 22.98s/it]"
     ]
    },
    {
     "name": "stdout",
     "output_type": "stream",
     "text": [
      "AMPL\n"
     ]
    },
    {
     "name": "stderr",
     "output_type": "stream",
     "text": [
      "  5%|▌         | 267/5197 [1:52:36<31:25:12, 22.94s/it]"
     ]
    },
    {
     "name": "stdout",
     "output_type": "stream",
     "text": [
      "AMPS\n"
     ]
    },
    {
     "name": "stderr",
     "output_type": "stream",
     "text": [
      "  5%|▌         | 268/5197 [1:52:59<31:22:30, 22.92s/it]"
     ]
    },
    {
     "name": "stdout",
     "output_type": "stream",
     "text": [
      "AMPX\n"
     ]
    },
    {
     "name": "stderr",
     "output_type": "stream",
     "text": [
      "  5%|▌         | 269/5197 [1:53:14<28:12:10, 20.60s/it]"
     ]
    },
    {
     "name": "stdout",
     "output_type": "stream",
     "text": [
      "AMPY\n"
     ]
    },
    {
     "name": "stderr",
     "output_type": "stream",
     "text": [
      "  5%|▌         | 270/5197 [1:53:38<29:23:19, 21.47s/it]"
     ]
    },
    {
     "name": "stdout",
     "output_type": "stream",
     "text": [
      "AMR\n"
     ]
    },
    {
     "name": "stderr",
     "output_type": "stream",
     "text": [
      "  5%|▌         | 271/5197 [1:54:03<30:42:30, 22.44s/it]"
     ]
    },
    {
     "name": "stdout",
     "output_type": "stream",
     "text": [
      "AMRC\n"
     ]
    },
    {
     "name": "stderr",
     "output_type": "stream",
     "text": [
      "  5%|▌         | 272/5197 [1:54:23<30:01:26, 21.95s/it]"
     ]
    },
    {
     "name": "stdout",
     "output_type": "stream",
     "text": [
      "AMRK\n"
     ]
    },
    {
     "name": "stderr",
     "output_type": "stream",
     "text": [
      "  5%|▌         | 273/5197 [1:54:43<29:08:51, 21.31s/it]"
     ]
    },
    {
     "name": "stdout",
     "output_type": "stream",
     "text": [
      "AMRX\n"
     ]
    },
    {
     "name": "stderr",
     "output_type": "stream",
     "text": [
      "  5%|▌         | 274/5197 [1:55:01<27:44:29, 20.29s/it]"
     ]
    },
    {
     "name": "stdout",
     "output_type": "stream",
     "text": [
      "AMS\n"
     ]
    },
    {
     "name": "stderr",
     "output_type": "stream",
     "text": [
      "  5%|▌         | 275/5197 [1:55:25<29:08:01, 21.31s/it]"
     ]
    },
    {
     "name": "stdout",
     "output_type": "stream",
     "text": [
      "AMSC\n"
     ]
    },
    {
     "name": "stderr",
     "output_type": "stream",
     "text": [
      "  5%|▌         | 276/5197 [1:55:47<29:40:20, 21.71s/it]"
     ]
    },
    {
     "name": "stdout",
     "output_type": "stream",
     "text": [
      "AMSF\n"
     ]
    },
    {
     "name": "stderr",
     "output_type": "stream",
     "text": [
      "  5%|▌         | 277/5197 [1:56:16<32:19:32, 23.65s/it]"
     ]
    },
    {
     "name": "stdout",
     "output_type": "stream",
     "text": [
      "AMST\n"
     ]
    },
    {
     "name": "stderr",
     "output_type": "stream",
     "text": [
      "  5%|▌         | 278/5197 [1:56:41<33:12:03, 24.30s/it]"
     ]
    },
    {
     "name": "stdout",
     "output_type": "stream",
     "text": [
      "AMSWA\n"
     ]
    },
    {
     "name": "stderr",
     "output_type": "stream",
     "text": [
      "  5%|▌         | 279/5197 [1:57:12<35:57:14, 26.32s/it]"
     ]
    },
    {
     "name": "stdout",
     "output_type": "stream",
     "text": [
      "AMT\n"
     ]
    },
    {
     "name": "stderr",
     "output_type": "stream",
     "text": [
      "  5%|▌         | 280/5197 [1:57:37<35:15:37, 25.82s/it]"
     ]
    },
    {
     "name": "stdout",
     "output_type": "stream",
     "text": [
      "AMTB\n"
     ]
    },
    {
     "name": "stderr",
     "output_type": "stream",
     "text": [
      "  5%|▌         | 281/5197 [1:58:01<34:17:49, 25.12s/it]"
     ]
    },
    {
     "name": "stdout",
     "output_type": "stream",
     "text": [
      "AMTD\n"
     ]
    },
    {
     "name": "stderr",
     "output_type": "stream",
     "text": [
      "  5%|▌         | 282/5197 [1:58:27<34:59:36, 25.63s/it]"
     ]
    },
    {
     "name": "stdout",
     "output_type": "stream",
     "text": [
      "AMTX\n"
     ]
    },
    {
     "name": "stderr",
     "output_type": "stream",
     "text": [
      "  5%|▌         | 283/5197 [1:58:46<31:56:16, 23.40s/it]"
     ]
    },
    {
     "name": "stdout",
     "output_type": "stream",
     "text": [
      "AMWD\n"
     ]
    },
    {
     "name": "stderr",
     "output_type": "stream",
     "text": [
      "  5%|▌         | 284/5197 [1:59:08<31:18:54, 22.95s/it]"
     ]
    },
    {
     "name": "stdout",
     "output_type": "stream",
     "text": [
      "AMWL\n"
     ]
    },
    {
     "name": "stderr",
     "output_type": "stream",
     "text": [
      "  5%|▌         | 285/5197 [1:59:33<32:09:50, 23.57s/it]"
     ]
    },
    {
     "name": "stdout",
     "output_type": "stream",
     "text": [
      "AMZN\n"
     ]
    },
    {
     "name": "stderr",
     "output_type": "stream",
     "text": [
      "  6%|▌         | 286/5197 [1:59:59<33:19:38, 24.43s/it]"
     ]
    },
    {
     "name": "stdout",
     "output_type": "stream",
     "text": [
      "AN\n"
     ]
    },
    {
     "name": "stderr",
     "output_type": "stream",
     "text": [
      "  6%|▌         | 287/5197 [2:00:26<34:30:50, 25.31s/it]"
     ]
    },
    {
     "name": "stdout",
     "output_type": "stream",
     "text": [
      "ANAB\n"
     ]
    },
    {
     "name": "stderr",
     "output_type": "stream",
     "text": [
      "  6%|▌         | 288/5197 [2:00:55<35:42:05, 26.18s/it]"
     ]
    },
    {
     "name": "stdout",
     "output_type": "stream",
     "text": [
      "ANDE\n"
     ]
    },
    {
     "name": "stderr",
     "output_type": "stream",
     "text": [
      "  6%|▌         | 289/5197 [2:01:18<34:40:01, 25.43s/it]"
     ]
    },
    {
     "name": "stdout",
     "output_type": "stream",
     "text": [
      "ANEB\n"
     ]
    },
    {
     "name": "stderr",
     "output_type": "stream",
     "text": [
      "  6%|▌         | 290/5197 [2:01:50<37:17:33, 27.36s/it]"
     ]
    },
    {
     "name": "stdout",
     "output_type": "stream",
     "text": [
      "ANET\n"
     ]
    },
    {
     "name": "stderr",
     "output_type": "stream",
     "text": [
      "  6%|▌         | 291/5197 [2:02:14<36:01:30, 26.44s/it]"
     ]
    },
    {
     "name": "stdout",
     "output_type": "stream",
     "text": [
      "ANF\n"
     ]
    },
    {
     "name": "stderr",
     "output_type": "stream",
     "text": [
      "  6%|▌         | 292/5197 [2:02:43<37:03:07, 27.19s/it]"
     ]
    },
    {
     "name": "stdout",
     "output_type": "stream",
     "text": [
      "ANGH\n"
     ]
    },
    {
     "name": "stderr",
     "output_type": "stream",
     "text": [
      "  6%|▌         | 293/5197 [2:03:12<37:41:16, 27.67s/it]"
     ]
    },
    {
     "name": "stdout",
     "output_type": "stream",
     "text": [
      "ANGI\n"
     ]
    },
    {
     "name": "stderr",
     "output_type": "stream",
     "text": [
      "  6%|▌         | 294/5197 [2:03:47<40:41:47, 29.88s/it]"
     ]
    },
    {
     "name": "stdout",
     "output_type": "stream",
     "text": [
      "ANGO\n"
     ]
    },
    {
     "name": "stderr",
     "output_type": "stream",
     "text": [
      "  6%|▌         | 295/5197 [2:04:20<41:54:54, 30.78s/it]"
     ]
    },
    {
     "name": "stdout",
     "output_type": "stream",
     "text": [
      "ANIK\n"
     ]
    },
    {
     "name": "stderr",
     "output_type": "stream",
     "text": [
      "  6%|▌         | 296/5197 [2:04:35<35:28:55, 26.06s/it]"
     ]
    },
    {
     "name": "stdout",
     "output_type": "stream",
     "text": [
      "ANIP\n"
     ]
    },
    {
     "name": "stderr",
     "output_type": "stream",
     "text": [
      "  6%|▌         | 297/5197 [2:04:54<32:35:04, 23.94s/it]"
     ]
    },
    {
     "name": "stdout",
     "output_type": "stream",
     "text": [
      "ANIX\n"
     ]
    },
    {
     "name": "stderr",
     "output_type": "stream",
     "text": [
      "  6%|▌         | 298/5197 [2:05:27<36:19:04, 26.69s/it]"
     ]
    },
    {
     "name": "stdout",
     "output_type": "stream",
     "text": [
      "ANNX\n"
     ]
    },
    {
     "name": "stderr",
     "output_type": "stream",
     "text": [
      "  6%|▌         | 299/5197 [2:05:53<36:04:56, 26.52s/it]"
     ]
    },
    {
     "name": "stdout",
     "output_type": "stream",
     "text": [
      "ANRO\n"
     ]
    },
    {
     "name": "stderr",
     "output_type": "stream",
     "text": [
      "  6%|▌         | 300/5197 [2:06:17<34:55:42, 25.68s/it]"
     ]
    },
    {
     "name": "stdout",
     "output_type": "stream",
     "text": [
      "ANSC\n"
     ]
    },
    {
     "name": "stderr",
     "output_type": "stream",
     "text": [
      "  6%|▌         | 301/5197 [2:06:35<31:42:10, 23.31s/it]"
     ]
    },
    {
     "name": "stdout",
     "output_type": "stream",
     "text": [
      "ANSS\n"
     ]
    },
    {
     "name": "stderr",
     "output_type": "stream",
     "text": [
      "  6%|▌         | 302/5197 [2:07:03<33:33:45, 24.68s/it]"
     ]
    },
    {
     "name": "stdout",
     "output_type": "stream",
     "text": [
      "ANTX\n"
     ]
    },
    {
     "name": "stderr",
     "output_type": "stream",
     "text": [
      "  6%|▌         | 303/5197 [2:07:27<33:11:36, 24.42s/it]"
     ]
    },
    {
     "name": "stdout",
     "output_type": "stream",
     "text": [
      "ANVS\n"
     ]
    },
    {
     "name": "stderr",
     "output_type": "stream",
     "text": [
      "  6%|▌         | 304/5197 [2:07:44<30:29:29, 22.43s/it]"
     ]
    },
    {
     "name": "stdout",
     "output_type": "stream",
     "text": [
      "ANY\n"
     ]
    },
    {
     "name": "stderr",
     "output_type": "stream",
     "text": [
      "  6%|▌         | 305/5197 [2:08:04<29:13:59, 21.51s/it]"
     ]
    },
    {
     "name": "stdout",
     "output_type": "stream",
     "text": [
      "AOGO\n"
     ]
    },
    {
     "name": "stderr",
     "output_type": "stream",
     "text": [
      "  6%|▌         | 306/5197 [2:08:36<33:30:20, 24.66s/it]"
     ]
    },
    {
     "name": "stdout",
     "output_type": "stream",
     "text": [
      "AOMR\n"
     ]
    },
    {
     "name": "stderr",
     "output_type": "stream",
     "text": [
      "  6%|▌         | 307/5197 [2:08:59<32:47:42, 24.14s/it]"
     ]
    },
    {
     "name": "stdout",
     "output_type": "stream",
     "text": [
      "AON\n"
     ]
    },
    {
     "name": "stderr",
     "output_type": "stream",
     "text": [
      "  6%|▌         | 308/5197 [2:09:12<28:22:15, 20.89s/it]"
     ]
    },
    {
     "name": "stdout",
     "output_type": "stream",
     "text": [
      "AONC\n"
     ]
    },
    {
     "name": "stderr",
     "output_type": "stream",
     "text": [
      "  6%|▌         | 309/5197 [2:09:43<32:19:45, 23.81s/it]"
     ]
    },
    {
     "name": "stdout",
     "output_type": "stream",
     "text": [
      "AORT\n"
     ]
    },
    {
     "name": "stderr",
     "output_type": "stream",
     "text": [
      "  6%|▌         | 310/5197 [2:10:13<34:58:21, 25.76s/it]"
     ]
    },
    {
     "name": "stdout",
     "output_type": "stream",
     "text": [
      "AOS\n"
     ]
    },
    {
     "name": "stderr",
     "output_type": "stream",
     "text": [
      "  6%|▌         | 311/5197 [2:10:33<32:40:39, 24.08s/it]"
     ]
    },
    {
     "name": "stdout",
     "output_type": "stream",
     "text": [
      "AOSL\n"
     ]
    },
    {
     "name": "stderr",
     "output_type": "stream",
     "text": [
      "  6%|▌         | 312/5197 [2:11:03<35:09:50, 25.91s/it]"
     ]
    },
    {
     "name": "stdout",
     "output_type": "stream",
     "text": [
      "AOUT\n"
     ]
    },
    {
     "name": "stderr",
     "output_type": "stream",
     "text": [
      "  6%|▌         | 313/5197 [2:11:28<34:40:02, 25.55s/it]"
     ]
    },
    {
     "name": "stdout",
     "output_type": "stream",
     "text": [
      "AP\n"
     ]
    },
    {
     "name": "stderr",
     "output_type": "stream",
     "text": [
      "  6%|▌         | 314/5197 [2:11:53<34:38:14, 25.54s/it]"
     ]
    },
    {
     "name": "stdout",
     "output_type": "stream",
     "text": [
      "APA\n"
     ]
    },
    {
     "name": "stderr",
     "output_type": "stream",
     "text": [
      "  6%|▌         | 315/5197 [2:12:12<31:58:05, 23.57s/it]"
     ]
    },
    {
     "name": "stdout",
     "output_type": "stream",
     "text": [
      "APAC\n"
     ]
    },
    {
     "name": "stderr",
     "output_type": "stream",
     "text": [
      "  6%|▌         | 316/5197 [2:12:32<30:13:12, 22.29s/it]"
     ]
    },
    {
     "name": "stdout",
     "output_type": "stream",
     "text": [
      "APAM\n"
     ]
    },
    {
     "name": "stderr",
     "output_type": "stream",
     "text": [
      "  6%|▌         | 317/5197 [2:12:51<28:51:41, 21.29s/it]"
     ]
    },
    {
     "name": "stdout",
     "output_type": "stream",
     "text": [
      "APCA\n"
     ]
    },
    {
     "name": "stderr",
     "output_type": "stream",
     "text": [
      "  6%|▌         | 318/5197 [2:13:15<30:16:15, 22.34s/it]"
     ]
    },
    {
     "name": "stdout",
     "output_type": "stream",
     "text": [
      "APCX\n"
     ]
    },
    {
     "name": "stderr",
     "output_type": "stream",
     "text": [
      "  6%|▌         | 319/5197 [2:13:30<27:18:06, 20.15s/it]"
     ]
    },
    {
     "name": "stdout",
     "output_type": "stream",
     "text": [
      "APD\n"
     ]
    },
    {
     "name": "stderr",
     "output_type": "stream",
     "text": [
      "  6%|▌         | 320/5197 [2:13:54<28:35:35, 21.11s/it]"
     ]
    },
    {
     "name": "stdout",
     "output_type": "stream",
     "text": [
      "APDN\n"
     ]
    },
    {
     "name": "stderr",
     "output_type": "stream",
     "text": [
      "  6%|▌         | 321/5197 [2:14:15<28:36:49, 21.13s/it]"
     ]
    },
    {
     "name": "stdout",
     "output_type": "stream",
     "text": [
      "APEI\n"
     ]
    },
    {
     "name": "stderr",
     "output_type": "stream",
     "text": [
      "  6%|▌         | 322/5197 [2:14:49<33:54:05, 25.04s/it]"
     ]
    },
    {
     "name": "stdout",
     "output_type": "stream",
     "text": [
      "APG\n"
     ]
    },
    {
     "name": "stderr",
     "output_type": "stream",
     "text": [
      "  6%|▌         | 323/5197 [2:15:08<31:14:21, 23.07s/it]"
     ]
    },
    {
     "name": "stdout",
     "output_type": "stream",
     "text": [
      "APGE\n"
     ]
    },
    {
     "name": "stderr",
     "output_type": "stream",
     "text": [
      "  6%|▌         | 324/5197 [2:15:24<28:35:09, 21.12s/it]"
     ]
    },
    {
     "name": "stdout",
     "output_type": "stream",
     "text": [
      "APH\n"
     ]
    },
    {
     "name": "stderr",
     "output_type": "stream",
     "text": [
      "  6%|▋         | 325/5197 [2:15:48<29:43:15, 21.96s/it]"
     ]
    },
    {
     "name": "stdout",
     "output_type": "stream",
     "text": [
      "API\n"
     ]
    },
    {
     "name": "stderr",
     "output_type": "stream",
     "text": [
      "  6%|▋         | 326/5197 [2:16:09<29:17:12, 21.64s/it]"
     ]
    },
    {
     "name": "stdout",
     "output_type": "stream",
     "text": [
      "APLD\n"
     ]
    },
    {
     "name": "stderr",
     "output_type": "stream",
     "text": [
      "  6%|▋         | 327/5197 [2:16:29<28:26:49, 21.03s/it]"
     ]
    },
    {
     "name": "stdout",
     "output_type": "stream",
     "text": [
      "APLM\n"
     ]
    },
    {
     "name": "stderr",
     "output_type": "stream",
     "text": [
      "  6%|▋         | 328/5197 [2:16:51<29:06:49, 21.53s/it]"
     ]
    },
    {
     "name": "stdout",
     "output_type": "stream",
     "text": [
      "APLS\n"
     ]
    },
    {
     "name": "stderr",
     "output_type": "stream",
     "text": [
      "  6%|▋         | 329/5197 [2:17:15<30:10:45, 22.32s/it]"
     ]
    },
    {
     "name": "stdout",
     "output_type": "stream",
     "text": [
      "APLT\n"
     ]
    },
    {
     "name": "stderr",
     "output_type": "stream",
     "text": [
      "  6%|▋         | 330/5197 [2:17:35<29:08:30, 21.56s/it]"
     ]
    },
    {
     "name": "stdout",
     "output_type": "stream",
     "text": [
      "APM\n"
     ]
    },
    {
     "name": "stderr",
     "output_type": "stream",
     "text": [
      "  6%|▋         | 331/5197 [2:17:51<26:46:02, 19.80s/it]"
     ]
    },
    {
     "name": "stdout",
     "output_type": "stream",
     "text": [
      "APO\n"
     ]
    },
    {
     "name": "stderr",
     "output_type": "stream",
     "text": [
      "  6%|▋         | 332/5197 [2:18:11<26:53:26, 19.90s/it]"
     ]
    },
    {
     "name": "stdout",
     "output_type": "stream",
     "text": [
      "APOG\n"
     ]
    },
    {
     "name": "stderr",
     "output_type": "stream",
     "text": [
      "  6%|▋         | 333/5197 [2:18:34<28:09:03, 20.84s/it]"
     ]
    },
    {
     "name": "stdout",
     "output_type": "stream",
     "text": [
      "APP\n"
     ]
    },
    {
     "name": "stderr",
     "output_type": "stream",
     "text": [
      "  6%|▋         | 334/5197 [2:18:54<27:38:28, 20.46s/it]"
     ]
    },
    {
     "name": "stdout",
     "output_type": "stream",
     "text": [
      "APPF\n"
     ]
    },
    {
     "name": "stderr",
     "output_type": "stream",
     "text": [
      "  6%|▋         | 335/5197 [2:19:10<25:50:37, 19.14s/it]"
     ]
    },
    {
     "name": "stdout",
     "output_type": "stream",
     "text": [
      "APPN\n"
     ]
    },
    {
     "name": "stderr",
     "output_type": "stream",
     "text": [
      "  6%|▋         | 336/5197 [2:19:25<24:11:07, 17.91s/it]"
     ]
    },
    {
     "name": "stdout",
     "output_type": "stream",
     "text": [
      "APPS\n"
     ]
    },
    {
     "name": "stderr",
     "output_type": "stream",
     "text": [
      "  6%|▋         | 337/5197 [2:19:53<28:26:23, 21.07s/it]"
     ]
    },
    {
     "name": "stdout",
     "output_type": "stream",
     "text": [
      "APRE\n"
     ]
    },
    {
     "name": "stderr",
     "output_type": "stream",
     "text": [
      "  7%|▋         | 338/5197 [2:20:15<28:48:31, 21.34s/it]"
     ]
    },
    {
     "name": "stdout",
     "output_type": "stream",
     "text": [
      "APT\n"
     ]
    },
    {
     "name": "stderr",
     "output_type": "stream",
     "text": [
      "  7%|▋         | 339/5197 [2:20:37<29:10:18, 21.62s/it]"
     ]
    },
    {
     "name": "stdout",
     "output_type": "stream",
     "text": [
      "APTO\n"
     ]
    },
    {
     "name": "stderr",
     "output_type": "stream",
     "text": [
      "  7%|▋         | 340/5197 [2:20:57<28:26:08, 21.08s/it]"
     ]
    },
    {
     "name": "stdout",
     "output_type": "stream",
     "text": [
      "APTV\n"
     ]
    },
    {
     "name": "stderr",
     "output_type": "stream",
     "text": [
      "  7%|▋         | 341/5197 [2:21:19<28:49:27, 21.37s/it]"
     ]
    },
    {
     "name": "stdout",
     "output_type": "stream",
     "text": [
      "APVO\n"
     ]
    },
    {
     "name": "stderr",
     "output_type": "stream",
     "text": [
      "  7%|▋         | 342/5197 [2:21:37<27:15:23, 20.21s/it]"
     ]
    },
    {
     "name": "stdout",
     "output_type": "stream",
     "text": [
      "APWC\n"
     ]
    },
    {
     "name": "stderr",
     "output_type": "stream",
     "text": [
      "  7%|▋         | 343/5197 [2:22:03<29:29:10, 21.87s/it]"
     ]
    },
    {
     "name": "stdout",
     "output_type": "stream",
     "text": [
      "APXI\n"
     ]
    },
    {
     "name": "stderr",
     "output_type": "stream",
     "text": [
      "  7%|▋         | 344/5197 [2:22:27<30:32:05, 22.65s/it]"
     ]
    },
    {
     "name": "stdout",
     "output_type": "stream",
     "text": [
      "APYX\n"
     ]
    },
    {
     "name": "stderr",
     "output_type": "stream",
     "text": [
      "  7%|▋         | 345/5197 [2:22:57<33:40:22, 24.98s/it]"
     ]
    },
    {
     "name": "stdout",
     "output_type": "stream",
     "text": [
      "AQB\n"
     ]
    },
    {
     "name": "stderr",
     "output_type": "stream",
     "text": [
      "  7%|▋         | 346/5197 [2:23:28<35:50:48, 26.60s/it]"
     ]
    },
    {
     "name": "stdout",
     "output_type": "stream",
     "text": [
      "AQMS\n"
     ]
    },
    {
     "name": "stderr",
     "output_type": "stream",
     "text": [
      "  7%|▋         | 347/5197 [2:23:49<33:28:02, 24.84s/it]"
     ]
    },
    {
     "name": "stdout",
     "output_type": "stream",
     "text": [
      "AQN\n"
     ]
    },
    {
     "name": "stderr",
     "output_type": "stream",
     "text": [
      "  7%|▋         | 348/5197 [2:24:12<32:59:26, 24.49s/it]"
     ]
    },
    {
     "name": "stdout",
     "output_type": "stream",
     "text": [
      "AQST\n"
     ]
    },
    {
     "name": "stderr",
     "output_type": "stream",
     "text": [
      "  7%|▋         | 349/5197 [2:24:38<33:39:56, 25.00s/it]"
     ]
    },
    {
     "name": "stdout",
     "output_type": "stream",
     "text": [
      "AQU\n"
     ]
    },
    {
     "name": "stderr",
     "output_type": "stream",
     "text": [
      "  7%|▋         | 350/5197 [2:24:56<30:41:16, 22.79s/it]"
     ]
    },
    {
     "name": "stdout",
     "output_type": "stream",
     "text": [
      "AR\n"
     ]
    },
    {
     "name": "stderr",
     "output_type": "stream",
     "text": [
      "  7%|▋         | 351/5197 [2:25:21<31:29:55, 23.40s/it]"
     ]
    },
    {
     "name": "stdout",
     "output_type": "stream",
     "text": [
      "ARAY\n"
     ]
    },
    {
     "name": "stderr",
     "output_type": "stream",
     "text": [
      "  7%|▋         | 352/5197 [2:25:41<30:05:43, 22.36s/it]"
     ]
    },
    {
     "name": "stdout",
     "output_type": "stream",
     "text": [
      "ARBB\n"
     ]
    },
    {
     "name": "stderr",
     "output_type": "stream",
     "text": [
      "  7%|▋         | 353/5197 [2:26:01<29:02:36, 21.58s/it]"
     ]
    },
    {
     "name": "stdout",
     "output_type": "stream",
     "text": [
      "ARBE\n"
     ]
    },
    {
     "name": "stderr",
     "output_type": "stream",
     "text": [
      "  7%|▋         | 354/5197 [2:26:21<28:38:12, 21.29s/it]"
     ]
    },
    {
     "name": "stdout",
     "output_type": "stream",
     "text": [
      "ARC\n"
     ]
    },
    {
     "name": "stderr",
     "output_type": "stream",
     "text": [
      "  7%|▋         | 355/5197 [2:26:47<30:25:26, 22.62s/it]"
     ]
    },
    {
     "name": "stdout",
     "output_type": "stream",
     "text": [
      "ARCB\n"
     ]
    },
    {
     "name": "stderr",
     "output_type": "stream",
     "text": [
      "  7%|▋         | 356/5197 [2:27:15<32:37:15, 24.26s/it]"
     ]
    },
    {
     "name": "stdout",
     "output_type": "stream",
     "text": [
      "ARCC\n"
     ]
    },
    {
     "name": "stderr",
     "output_type": "stream",
     "text": [
      "  7%|▋         | 357/5197 [2:27:34<30:24:09, 22.61s/it]"
     ]
    },
    {
     "name": "stdout",
     "output_type": "stream",
     "text": [
      "ARCH\n"
     ]
    },
    {
     "name": "stderr",
     "output_type": "stream",
     "text": [
      "  7%|▋         | 358/5197 [2:27:58<30:56:10, 23.02s/it]"
     ]
    },
    {
     "name": "stdout",
     "output_type": "stream",
     "text": [
      "ARCO\n"
     ]
    },
    {
     "name": "stderr",
     "output_type": "stream",
     "text": [
      "  7%|▋         | 359/5197 [2:28:21<30:55:45, 23.01s/it]"
     ]
    },
    {
     "name": "stdout",
     "output_type": "stream",
     "text": [
      "ARCT\n"
     ]
    },
    {
     "name": "stderr",
     "output_type": "stream",
     "text": [
      "  7%|▋         | 360/5197 [2:28:43<30:32:38, 22.73s/it]"
     ]
    },
    {
     "name": "stdout",
     "output_type": "stream",
     "text": [
      "ARDX\n"
     ]
    },
    {
     "name": "stderr",
     "output_type": "stream",
     "text": [
      "  7%|▋         | 361/5197 [2:29:10<32:07:17, 23.91s/it]"
     ]
    },
    {
     "name": "stdout",
     "output_type": "stream",
     "text": [
      "ARE\n"
     ]
    },
    {
     "name": "stderr",
     "output_type": "stream",
     "text": [
      "  7%|▋         | 362/5197 [2:29:27<29:38:09, 22.07s/it]"
     ]
    },
    {
     "name": "stdout",
     "output_type": "stream",
     "text": [
      "AREB\n"
     ]
    },
    {
     "name": "stderr",
     "output_type": "stream",
     "text": [
      "  7%|▋         | 363/5197 [2:29:47<28:49:16, 21.46s/it]"
     ]
    },
    {
     "name": "stdout",
     "output_type": "stream",
     "text": [
      "AREC\n"
     ]
    },
    {
     "name": "stderr",
     "output_type": "stream",
     "text": [
      "  7%|▋         | 364/5197 [2:30:06<27:35:32, 20.55s/it]"
     ]
    },
    {
     "name": "stdout",
     "output_type": "stream",
     "text": [
      "AREN\n"
     ]
    },
    {
     "name": "stderr",
     "output_type": "stream",
     "text": [
      "  7%|▋         | 365/5197 [2:30:32<29:58:54, 22.34s/it]"
     ]
    },
    {
     "name": "stdout",
     "output_type": "stream",
     "text": [
      "ARES\n"
     ]
    },
    {
     "name": "stderr",
     "output_type": "stream",
     "text": [
      "  7%|▋         | 366/5197 [2:30:55<30:03:16, 22.40s/it]"
     ]
    },
    {
     "name": "stdout",
     "output_type": "stream",
     "text": [
      "ARHS\n"
     ]
    },
    {
     "name": "stderr",
     "output_type": "stream",
     "text": [
      "  7%|▋         | 367/5197 [2:31:14<28:37:31, 21.34s/it]"
     ]
    },
    {
     "name": "stdout",
     "output_type": "stream",
     "text": [
      "ARIS\n"
     ]
    },
    {
     "name": "stderr",
     "output_type": "stream",
     "text": [
      "  7%|▋         | 368/5197 [2:31:19<22:02:16, 16.43s/it]"
     ]
    },
    {
     "name": "stdout",
     "output_type": "stream",
     "text": [
      "ARKO\n"
     ]
    },
    {
     "name": "stderr",
     "output_type": "stream",
     "text": [
      "  7%|▋         | 369/5197 [2:31:43<25:21:28, 18.91s/it]"
     ]
    },
    {
     "name": "stdout",
     "output_type": "stream",
     "text": [
      "ARKR\n"
     ]
    },
    {
     "name": "stderr",
     "output_type": "stream",
     "text": [
      "  7%|▋         | 370/5197 [2:32:07<27:11:03, 20.27s/it]"
     ]
    },
    {
     "name": "stdout",
     "output_type": "stream",
     "text": [
      "ARL\n"
     ]
    },
    {
     "name": "stderr",
     "output_type": "stream",
     "text": [
      "  7%|▋         | 371/5197 [2:32:26<26:47:09, 19.98s/it]"
     ]
    },
    {
     "name": "stdout",
     "output_type": "stream",
     "text": [
      "ARLO\n"
     ]
    },
    {
     "name": "stderr",
     "output_type": "stream",
     "text": [
      "  7%|▋         | 372/5197 [2:32:52<28:58:31, 21.62s/it]"
     ]
    },
    {
     "name": "stdout",
     "output_type": "stream",
     "text": [
      "ARMK\n"
     ]
    },
    {
     "name": "stderr",
     "output_type": "stream",
     "text": [
      "  7%|▋         | 373/5197 [2:33:06<26:17:19, 19.62s/it]"
     ]
    },
    {
     "name": "stdout",
     "output_type": "stream",
     "text": [
      "ARMN\n"
     ]
    },
    {
     "name": "stderr",
     "output_type": "stream",
     "text": [
      "  7%|▋         | 374/5197 [2:33:26<26:15:36, 19.60s/it]"
     ]
    },
    {
     "name": "stdout",
     "output_type": "stream",
     "text": [
      "ARMP\n"
     ]
    },
    {
     "name": "stderr",
     "output_type": "stream",
     "text": [
      "  7%|▋         | 375/5197 [2:33:50<27:53:39, 20.83s/it]"
     ]
    },
    {
     "name": "stdout",
     "output_type": "stream",
     "text": [
      "AROC\n"
     ]
    },
    {
     "name": "stderr",
     "output_type": "stream",
     "text": [
      "  7%|▋         | 376/5197 [2:34:14<29:18:28, 21.89s/it]"
     ]
    },
    {
     "name": "stdout",
     "output_type": "stream",
     "text": [
      "AROW\n"
     ]
    },
    {
     "name": "stderr",
     "output_type": "stream",
     "text": [
      "  7%|▋         | 377/5197 [2:34:30<26:47:02, 20.00s/it]"
     ]
    },
    {
     "name": "stdout",
     "output_type": "stream",
     "text": [
      "ARQ\n"
     ]
    },
    {
     "name": "stderr",
     "output_type": "stream",
     "text": [
      "  7%|▋         | 378/5197 [2:34:52<27:45:36, 20.74s/it]"
     ]
    },
    {
     "name": "stdout",
     "output_type": "stream",
     "text": [
      "ARQQ\n"
     ]
    },
    {
     "name": "stderr",
     "output_type": "stream",
     "text": [
      "  7%|▋         | 379/5197 [2:35:09<26:04:31, 19.48s/it]"
     ]
    },
    {
     "name": "stdout",
     "output_type": "stream",
     "text": [
      "ARQT\n"
     ]
    },
    {
     "name": "stderr",
     "output_type": "stream",
     "text": [
      "  7%|▋         | 380/5197 [2:35:37<29:32:54, 22.08s/it]"
     ]
    },
    {
     "name": "stdout",
     "output_type": "stream",
     "text": [
      "ARR\n"
     ]
    },
    {
     "name": "stderr",
     "output_type": "stream",
     "text": [
      "  7%|▋         | 381/5197 [2:35:51<26:27:53, 19.78s/it]"
     ]
    },
    {
     "name": "stdout",
     "output_type": "stream",
     "text": [
      "ARRW\n"
     ]
    },
    {
     "name": "stderr",
     "output_type": "stream",
     "text": [
      "  7%|▋         | 382/5197 [2:36:15<28:12:49, 21.09s/it]"
     ]
    },
    {
     "name": "stdout",
     "output_type": "stream",
     "text": [
      "ARRY\n"
     ]
    },
    {
     "name": "stderr",
     "output_type": "stream",
     "text": [
      "  7%|▋         | 383/5197 [2:36:36<28:07:47, 21.04s/it]"
     ]
    },
    {
     "name": "stdout",
     "output_type": "stream",
     "text": [
      "ARTL\n"
     ]
    },
    {
     "name": "stderr",
     "output_type": "stream",
     "text": [
      "  7%|▋         | 384/5197 [2:36:55<27:20:35, 20.45s/it]"
     ]
    },
    {
     "name": "stdout",
     "output_type": "stream",
     "text": [
      "ARTNA\n"
     ]
    },
    {
     "name": "stderr",
     "output_type": "stream",
     "text": [
      "  7%|▋         | 385/5197 [2:37:15<27:04:33, 20.26s/it]"
     ]
    },
    {
     "name": "stdout",
     "output_type": "stream",
     "text": [
      "ARTW\n"
     ]
    },
    {
     "name": "stderr",
     "output_type": "stream",
     "text": [
      "  7%|▋         | 386/5197 [2:37:35<26:53:49, 20.13s/it]"
     ]
    },
    {
     "name": "stdout",
     "output_type": "stream",
     "text": [
      "ARVN\n"
     ]
    },
    {
     "name": "stderr",
     "output_type": "stream",
     "text": [
      "  7%|▋         | 387/5197 [2:37:56<27:02:50, 20.24s/it]"
     ]
    },
    {
     "name": "stdout",
     "output_type": "stream",
     "text": [
      "ARW\n"
     ]
    },
    {
     "name": "stderr",
     "output_type": "stream",
     "text": [
      "  7%|▋         | 388/5197 [2:38:11<25:07:33, 18.81s/it]"
     ]
    },
    {
     "name": "stdout",
     "output_type": "stream",
     "text": [
      "ARWR\n"
     ]
    },
    {
     "name": "stderr",
     "output_type": "stream",
     "text": [
      "  7%|▋         | 389/5197 [2:38:35<27:17:53, 20.44s/it]"
     ]
    },
    {
     "name": "stdout",
     "output_type": "stream",
     "text": [
      "ARYD\n"
     ]
    },
    {
     "name": "stderr",
     "output_type": "stream",
     "text": [
      "  8%|▊         | 390/5197 [2:38:56<27:23:58, 20.52s/it]"
     ]
    },
    {
     "name": "stdout",
     "output_type": "stream",
     "text": [
      "AS\n"
     ]
    },
    {
     "name": "stderr",
     "output_type": "stream",
     "text": [
      "  8%|▊         | 391/5197 [2:39:18<28:05:17, 21.04s/it]"
     ]
    },
    {
     "name": "stdout",
     "output_type": "stream",
     "text": [
      "ASAN\n"
     ]
    },
    {
     "name": "stderr",
     "output_type": "stream",
     "text": [
      "  8%|▊         | 392/5197 [2:39:40<28:11:30, 21.12s/it]"
     ]
    },
    {
     "name": "stdout",
     "output_type": "stream",
     "text": [
      "ASB\n"
     ]
    },
    {
     "name": "stderr",
     "output_type": "stream",
     "text": [
      "  8%|▊         | 393/5197 [2:40:02<28:53:38, 21.65s/it]"
     ]
    },
    {
     "name": "stdout",
     "output_type": "stream",
     "text": [
      "ASC\n"
     ]
    },
    {
     "name": "stderr",
     "output_type": "stream",
     "text": [
      "  8%|▊         | 394/5197 [2:40:20<27:08:11, 20.34s/it]"
     ]
    },
    {
     "name": "stdout",
     "output_type": "stream",
     "text": [
      "ASCA\n"
     ]
    },
    {
     "name": "stderr",
     "output_type": "stream",
     "text": [
      "  8%|▊         | 395/5197 [2:40:38<26:22:41, 19.78s/it]"
     ]
    },
    {
     "name": "stdout",
     "output_type": "stream",
     "text": [
      "ASCB\n"
     ]
    },
    {
     "name": "stderr",
     "output_type": "stream",
     "text": [
      "  8%|▊         | 396/5197 [2:41:02<27:59:18, 20.99s/it]"
     ]
    },
    {
     "name": "stdout",
     "output_type": "stream",
     "text": [
      "ASGN\n"
     ]
    },
    {
     "name": "stderr",
     "output_type": "stream",
     "text": [
      "  8%|▊         | 397/5197 [2:41:20<26:57:37, 20.22s/it]"
     ]
    },
    {
     "name": "stdout",
     "output_type": "stream",
     "text": [
      "ASH\n"
     ]
    },
    {
     "name": "stderr",
     "output_type": "stream",
     "text": [
      "  8%|▊         | 398/5197 [2:41:42<27:22:37, 20.54s/it]"
     ]
    },
    {
     "name": "stdout",
     "output_type": "stream",
     "text": [
      "ASIX\n"
     ]
    },
    {
     "name": "stderr",
     "output_type": "stream",
     "text": [
      "  8%|▊         | 399/5197 [2:41:59<25:53:11, 19.42s/it]"
     ]
    },
    {
     "name": "stdout",
     "output_type": "stream",
     "text": [
      "ASLE\n"
     ]
    },
    {
     "name": "stderr",
     "output_type": "stream",
     "text": [
      "  8%|▊         | 400/5197 [2:42:22<27:29:06, 20.63s/it]"
     ]
    },
    {
     "name": "stdout",
     "output_type": "stream",
     "text": [
      "ASM\n"
     ]
    },
    {
     "name": "stderr",
     "output_type": "stream",
     "text": [
      "  8%|▊         | 401/5197 [2:42:42<27:23:12, 20.56s/it]"
     ]
    },
    {
     "name": "stdout",
     "output_type": "stream",
     "text": [
      "ASMB\n"
     ]
    },
    {
     "name": "stderr",
     "output_type": "stream",
     "text": [
      "  8%|▊         | 402/5197 [2:43:10<30:11:46, 22.67s/it]"
     ]
    },
    {
     "name": "stdout",
     "output_type": "stream",
     "text": [
      "ASNS\n"
     ]
    },
    {
     "name": "stderr",
     "output_type": "stream",
     "text": [
      "  8%|▊         | 403/5197 [2:43:37<31:46:10, 23.86s/it]"
     ]
    },
    {
     "name": "stdout",
     "output_type": "stream",
     "text": [
      "ASO\n"
     ]
    },
    {
     "name": "stderr",
     "output_type": "stream",
     "text": [
      "  8%|▊         | 404/5197 [2:44:07<34:18:10, 25.76s/it]"
     ]
    },
    {
     "name": "stdout",
     "output_type": "stream",
     "text": [
      "ASPI\n"
     ]
    },
    {
     "name": "stderr",
     "output_type": "stream",
     "text": [
      "  8%|▊         | 405/5197 [2:44:30<33:07:46, 24.89s/it]"
     ]
    },
    {
     "name": "stdout",
     "output_type": "stream",
     "text": [
      "ASPN\n"
     ]
    },
    {
     "name": "stderr",
     "output_type": "stream",
     "text": [
      "  8%|▊         | 406/5197 [2:44:53<32:19:53, 24.29s/it]"
     ]
    },
    {
     "name": "stdout",
     "output_type": "stream",
     "text": [
      "ASPS\n"
     ]
    },
    {
     "name": "stderr",
     "output_type": "stream",
     "text": [
      "  8%|▊         | 407/5197 [2:45:16<31:55:09, 23.99s/it]"
     ]
    },
    {
     "name": "stdout",
     "output_type": "stream",
     "text": [
      "ASRT\n"
     ]
    },
    {
     "name": "stderr",
     "output_type": "stream",
     "text": [
      "  8%|▊         | 408/5197 [2:45:38<31:08:22, 23.41s/it]"
     ]
    },
    {
     "name": "stdout",
     "output_type": "stream",
     "text": [
      "ASRV\n"
     ]
    },
    {
     "name": "stderr",
     "output_type": "stream",
     "text": [
      "  8%|▊         | 409/5197 [2:45:55<28:33:53, 21.48s/it]"
     ]
    },
    {
     "name": "stdout",
     "output_type": "stream",
     "text": [
      "ASST\n"
     ]
    },
    {
     "name": "stderr",
     "output_type": "stream",
     "text": [
      "  8%|▊         | 410/5197 [2:46:10<25:54:39, 19.49s/it]"
     ]
    },
    {
     "name": "stdout",
     "output_type": "stream",
     "text": [
      "ASTB\n"
     ]
    },
    {
     "name": "stderr",
     "output_type": "stream",
     "text": [
      "  8%|▊         | 411/5197 [2:46:22<23:02:51, 17.34s/it]"
     ]
    },
    {
     "name": "stdout",
     "output_type": "stream",
     "text": [
      "ASTC\n"
     ]
    },
    {
     "name": "stderr",
     "output_type": "stream",
     "text": [
      "  8%|▊         | 412/5197 [2:46:57<29:58:38, 22.55s/it]"
     ]
    },
    {
     "name": "stdout",
     "output_type": "stream",
     "text": [
      "ASTE\n"
     ]
    },
    {
     "name": "stderr",
     "output_type": "stream",
     "text": [
      "  8%|▊         | 413/5197 [2:47:13<27:22:37, 20.60s/it]"
     ]
    },
    {
     "name": "stdout",
     "output_type": "stream",
     "text": [
      "ASTH\n"
     ]
    },
    {
     "name": "stderr",
     "output_type": "stream",
     "text": [
      "  8%|▊         | 414/5197 [2:47:35<27:56:16, 21.03s/it]"
     ]
    },
    {
     "name": "stdout",
     "output_type": "stream",
     "text": [
      "ASTI\n"
     ]
    },
    {
     "name": "stderr",
     "output_type": "stream",
     "text": [
      "  8%|▊         | 415/5197 [2:48:04<31:09:07, 23.45s/it]"
     ]
    },
    {
     "name": "stdout",
     "output_type": "stream",
     "text": [
      "ASTL\n"
     ]
    },
    {
     "name": "stderr",
     "output_type": "stream",
     "text": [
      "  8%|▊         | 416/5197 [2:48:17<27:07:17, 20.42s/it]"
     ]
    },
    {
     "name": "stdout",
     "output_type": "stream",
     "text": [
      "ASTR\n"
     ]
    },
    {
     "name": "stderr",
     "output_type": "stream",
     "text": [
      "  8%|▊         | 417/5197 [2:48:34<25:49:11, 19.45s/it]"
     ]
    },
    {
     "name": "stdout",
     "output_type": "stream",
     "text": [
      "ASTS\n"
     ]
    },
    {
     "name": "stderr",
     "output_type": "stream",
     "text": [
      "  8%|▊         | 418/5197 [2:48:52<25:09:54, 18.96s/it]"
     ]
    },
    {
     "name": "stdout",
     "output_type": "stream",
     "text": [
      "ASUR\n"
     ]
    },
    {
     "name": "stderr",
     "output_type": "stream",
     "text": [
      "  8%|▊         | 419/5197 [2:49:10<24:31:09, 18.47s/it]"
     ]
    },
    {
     "name": "stdout",
     "output_type": "stream",
     "text": [
      "ASXC\n"
     ]
    },
    {
     "name": "stderr",
     "output_type": "stream",
     "text": [
      "  8%|▊         | 420/5197 [2:49:30<25:06:49, 18.93s/it]"
     ]
    },
    {
     "name": "stdout",
     "output_type": "stream",
     "text": [
      "ASYS\n"
     ]
    },
    {
     "name": "stderr",
     "output_type": "stream",
     "text": [
      "  8%|▊         | 421/5197 [2:49:49<25:08:58, 18.96s/it]"
     ]
    },
    {
     "name": "stdout",
     "output_type": "stream",
     "text": [
      "ATAI\n"
     ]
    },
    {
     "name": "stderr",
     "output_type": "stream",
     "text": [
      "  8%|▊         | 422/5197 [2:50:07<24:56:12, 18.80s/it]"
     ]
    },
    {
     "name": "stdout",
     "output_type": "stream",
     "text": [
      "ATCH\n"
     ]
    },
    {
     "name": "stderr",
     "output_type": "stream",
     "text": [
      "  8%|▊         | 423/5197 [2:50:29<26:13:53, 19.78s/it]"
     ]
    },
    {
     "name": "stdout",
     "output_type": "stream",
     "text": [
      "ATEC\n"
     ]
    },
    {
     "name": "stderr",
     "output_type": "stream",
     "text": [
      "  8%|▊         | 424/5197 [2:50:55<28:50:55, 21.76s/it]"
     ]
    },
    {
     "name": "stdout",
     "output_type": "stream",
     "text": [
      "ATEK\n"
     ]
    },
    {
     "name": "stderr",
     "output_type": "stream",
     "text": [
      "  8%|▊         | 425/5197 [2:51:15<27:49:35, 20.99s/it]"
     ]
    },
    {
     "name": "stdout",
     "output_type": "stream",
     "text": [
      "ATEN\n"
     ]
    },
    {
     "name": "stderr",
     "output_type": "stream",
     "text": [
      "  8%|▊         | 426/5197 [2:51:33<26:51:41, 20.27s/it]"
     ]
    },
    {
     "name": "stdout",
     "output_type": "stream",
     "text": [
      "ATER\n"
     ]
    },
    {
     "name": "stderr",
     "output_type": "stream",
     "text": [
      "  8%|▊         | 427/5197 [2:51:46<23:50:58, 18.00s/it]"
     ]
    },
    {
     "name": "stdout",
     "output_type": "stream",
     "text": [
      "ATEX\n"
     ]
    },
    {
     "name": "stderr",
     "output_type": "stream",
     "text": [
      "  8%|▊         | 428/5197 [2:52:16<28:34:16, 21.57s/it]"
     ]
    },
    {
     "name": "stdout",
     "output_type": "stream",
     "text": [
      "ATGE\n"
     ]
    },
    {
     "name": "stderr",
     "output_type": "stream",
     "text": [
      "  8%|▊         | 429/5197 [2:52:34<27:02:58, 20.42s/it]"
     ]
    },
    {
     "name": "stdout",
     "output_type": "stream",
     "text": [
      "ATGL\n"
     ]
    },
    {
     "name": "stderr",
     "output_type": "stream",
     "text": [
      "  8%|▊         | 430/5197 [2:52:54<26:50:59, 20.28s/it]"
     ]
    },
    {
     "name": "stdout",
     "output_type": "stream",
     "text": [
      "ATHA\n"
     ]
    },
    {
     "name": "stderr",
     "output_type": "stream",
     "text": [
      "  8%|▊         | 431/5197 [2:53:09<24:54:31, 18.81s/it]"
     ]
    },
    {
     "name": "stdout",
     "output_type": "stream",
     "text": [
      "ATI\n"
     ]
    },
    {
     "name": "stderr",
     "output_type": "stream",
     "text": [
      "  8%|▊         | 432/5197 [2:53:28<25:02:57, 18.93s/it]"
     ]
    },
    {
     "name": "stdout",
     "output_type": "stream",
     "text": [
      "ATIF\n"
     ]
    },
    {
     "name": "stderr",
     "output_type": "stream",
     "text": [
      "  8%|▊         | 433/5197 [2:53:45<24:21:00, 18.40s/it]"
     ]
    },
    {
     "name": "stdout",
     "output_type": "stream",
     "text": [
      "ATIP\n"
     ]
    },
    {
     "name": "stderr",
     "output_type": "stream",
     "text": [
      "  8%|▊         | 434/5197 [2:54:04<24:33:51, 18.57s/it]"
     ]
    },
    {
     "name": "stdout",
     "output_type": "stream",
     "text": [
      "ATKR\n"
     ]
    },
    {
     "name": "stderr",
     "output_type": "stream",
     "text": [
      "  8%|▊         | 435/5197 [2:54:24<25:12:04, 19.05s/it]"
     ]
    },
    {
     "name": "stdout",
     "output_type": "stream",
     "text": [
      "ATLC\n"
     ]
    },
    {
     "name": "stderr",
     "output_type": "stream",
     "text": [
      "  8%|▊         | 436/5197 [2:54:46<26:07:12, 19.75s/it]"
     ]
    },
    {
     "name": "stdout",
     "output_type": "stream",
     "text": [
      "ATLO\n"
     ]
    },
    {
     "name": "stderr",
     "output_type": "stream",
     "text": [
      "  8%|▊         | 437/5197 [2:55:08<26:58:49, 20.41s/it]"
     ]
    },
    {
     "name": "stdout",
     "output_type": "stream",
     "text": [
      "ATLX\n"
     ]
    },
    {
     "name": "stderr",
     "output_type": "stream",
     "text": [
      "  8%|▊         | 438/5197 [2:55:28<27:02:56, 20.46s/it]"
     ]
    },
    {
     "name": "stdout",
     "output_type": "stream",
     "text": [
      "ATMC\n"
     ]
    },
    {
     "name": "stderr",
     "output_type": "stream",
     "text": [
      "  8%|▊         | 439/5197 [2:55:47<26:17:28, 19.89s/it]"
     ]
    },
    {
     "name": "stdout",
     "output_type": "stream",
     "text": [
      "ATMU\n"
     ]
    },
    {
     "name": "stderr",
     "output_type": "stream",
     "text": [
      "  8%|▊         | 440/5197 [2:56:07<26:21:49, 19.95s/it]"
     ]
    },
    {
     "name": "stdout",
     "output_type": "stream",
     "text": [
      "ATMV\n"
     ]
    },
    {
     "name": "stderr",
     "output_type": "stream",
     "text": [
      "  8%|▊         | 441/5197 [2:56:27<26:25:01, 20.00s/it]"
     ]
    },
    {
     "name": "stdout",
     "output_type": "stream",
     "text": [
      "ATNF\n"
     ]
    },
    {
     "name": "stderr",
     "output_type": "stream",
     "text": [
      "  9%|▊         | 442/5197 [2:56:47<26:31:10, 20.08s/it]"
     ]
    },
    {
     "name": "stdout",
     "output_type": "stream",
     "text": [
      "ATNI\n"
     ]
    },
    {
     "name": "stderr",
     "output_type": "stream",
     "text": [
      "  9%|▊         | 443/5197 [2:57:08<26:35:15, 20.13s/it]"
     ]
    },
    {
     "name": "stdout",
     "output_type": "stream",
     "text": [
      "ATNM\n"
     ]
    },
    {
     "name": "stderr",
     "output_type": "stream",
     "text": [
      "  9%|▊         | 444/5197 [2:57:27<26:15:01, 19.88s/it]"
     ]
    },
    {
     "name": "stdout",
     "output_type": "stream",
     "text": [
      "ATO\n"
     ]
    },
    {
     "name": "stderr",
     "output_type": "stream",
     "text": [
      "  9%|▊         | 445/5197 [2:57:46<26:02:51, 19.73s/it]"
     ]
    },
    {
     "name": "stdout",
     "output_type": "stream",
     "text": [
      "ATOM\n"
     ]
    },
    {
     "name": "stderr",
     "output_type": "stream",
     "text": [
      "  9%|▊         | 446/5197 [2:58:03<24:50:36, 18.82s/it]"
     ]
    },
    {
     "name": "stdout",
     "output_type": "stream",
     "text": [
      "ATOS\n"
     ]
    },
    {
     "name": "stderr",
     "output_type": "stream",
     "text": [
      "  9%|▊         | 447/5197 [2:58:18<23:29:15, 17.80s/it]"
     ]
    },
    {
     "name": "stdout",
     "output_type": "stream",
     "text": [
      "ATPC\n"
     ]
    },
    {
     "name": "stderr",
     "output_type": "stream",
     "text": [
      "  9%|▊         | 448/5197 [2:58:39<24:28:14, 18.55s/it]"
     ]
    },
    {
     "name": "stdout",
     "output_type": "stream",
     "text": [
      "ATR\n"
     ]
    },
    {
     "name": "stderr",
     "output_type": "stream",
     "text": [
      "  9%|▊         | 449/5197 [2:59:06<27:43:20, 21.02s/it]"
     ]
    },
    {
     "name": "stdout",
     "output_type": "stream",
     "text": [
      "ATRA\n"
     ]
    },
    {
     "name": "stderr",
     "output_type": "stream",
     "text": [
      "  9%|▊         | 450/5197 [2:59:27<28:03:00, 21.27s/it]"
     ]
    },
    {
     "name": "stdout",
     "output_type": "stream",
     "text": [
      "ATRC\n"
     ]
    },
    {
     "name": "stderr",
     "output_type": "stream",
     "text": [
      "  9%|▊         | 451/5197 [2:59:45<26:31:24, 20.12s/it]"
     ]
    },
    {
     "name": "stdout",
     "output_type": "stream",
     "text": [
      "ATRI\n"
     ]
    },
    {
     "name": "stderr",
     "output_type": "stream",
     "text": [
      "  9%|▊         | 452/5197 [3:00:09<28:06:17, 21.32s/it]"
     ]
    },
    {
     "name": "stdout",
     "output_type": "stream",
     "text": [
      "ATRO\n"
     ]
    },
    {
     "name": "stderr",
     "output_type": "stream",
     "text": [
      "  9%|▊         | 453/5197 [3:00:32<28:51:33, 21.90s/it]"
     ]
    },
    {
     "name": "stdout",
     "output_type": "stream",
     "text": [
      "ATS\n"
     ]
    },
    {
     "name": "stderr",
     "output_type": "stream",
     "text": [
      "  9%|▊         | 454/5197 [3:00:58<30:24:23, 23.08s/it]"
     ]
    },
    {
     "name": "stdout",
     "output_type": "stream",
     "text": [
      "ATSG\n"
     ]
    },
    {
     "name": "stderr",
     "output_type": "stream",
     "text": [
      "  9%|▉         | 455/5197 [3:01:18<29:11:37, 22.16s/it]"
     ]
    },
    {
     "name": "stdout",
     "output_type": "stream",
     "text": [
      "ATUS\n"
     ]
    },
    {
     "name": "stderr",
     "output_type": "stream",
     "text": [
      "  9%|▉         | 456/5197 [3:01:28<24:22:25, 18.51s/it]"
     ]
    },
    {
     "name": "stdout",
     "output_type": "stream",
     "text": [
      "ATXG\n"
     ]
    },
    {
     "name": "stderr",
     "output_type": "stream",
     "text": [
      "  9%|▉         | 457/5197 [3:01:45<23:45:51, 18.05s/it]"
     ]
    },
    {
     "name": "stdout",
     "output_type": "stream",
     "text": [
      "ATXI\n"
     ]
    },
    {
     "name": "stderr",
     "output_type": "stream",
     "text": [
      "  9%|▉         | 458/5197 [3:02:01<22:48:01, 17.32s/it]"
     ]
    },
    {
     "name": "stdout",
     "output_type": "stream",
     "text": [
      "ATXS\n"
     ]
    },
    {
     "name": "stderr",
     "output_type": "stream",
     "text": [
      "  9%|▉         | 459/5197 [3:02:20<23:31:25, 17.87s/it]"
     ]
    },
    {
     "name": "stdout",
     "output_type": "stream",
     "text": [
      "AUB\n"
     ]
    },
    {
     "name": "stderr",
     "output_type": "stream",
     "text": [
      "  9%|▉         | 460/5197 [3:02:35<22:18:08, 16.95s/it]"
     ]
    },
    {
     "name": "stdout",
     "output_type": "stream",
     "text": [
      "AUBN\n"
     ]
    },
    {
     "name": "stderr",
     "output_type": "stream",
     "text": [
      "  9%|▉         | 461/5197 [3:02:55<23:49:21, 18.11s/it]"
     ]
    },
    {
     "name": "stdout",
     "output_type": "stream",
     "text": [
      "AUDC\n"
     ]
    },
    {
     "name": "stderr",
     "output_type": "stream",
     "text": [
      "  9%|▉         | 462/5197 [3:03:09<22:04:33, 16.78s/it]"
     ]
    },
    {
     "name": "stdout",
     "output_type": "stream",
     "text": [
      "AUGX\n"
     ]
    },
    {
     "name": "stderr",
     "output_type": "stream",
     "text": [
      "  9%|▉         | 463/5197 [3:03:32<24:36:30, 18.71s/it]"
     ]
    },
    {
     "name": "stdout",
     "output_type": "stream",
     "text": [
      "AUID\n"
     ]
    },
    {
     "name": "stderr",
     "output_type": "stream",
     "text": [
      "  9%|▉         | 464/5197 [3:04:04<29:46:00, 22.64s/it]"
     ]
    },
    {
     "name": "stdout",
     "output_type": "stream",
     "text": [
      "AULT\n"
     ]
    },
    {
     "name": "stderr",
     "output_type": "stream",
     "text": [
      "  9%|▉         | 465/5197 [3:04:20<27:08:47, 20.65s/it]"
     ]
    },
    {
     "name": "stdout",
     "output_type": "stream",
     "text": [
      "AUMN\n"
     ]
    },
    {
     "name": "stderr",
     "output_type": "stream",
     "text": [
      "  9%|▉         | 466/5197 [3:04:43<27:59:53, 21.30s/it]"
     ]
    },
    {
     "name": "stdout",
     "output_type": "stream",
     "text": [
      "AUPH\n"
     ]
    },
    {
     "name": "stderr",
     "output_type": "stream",
     "text": [
      "  9%|▉         | 467/5197 [3:05:12<30:55:12, 23.53s/it]"
     ]
    },
    {
     "name": "stdout",
     "output_type": "stream",
     "text": [
      "AUR\n"
     ]
    },
    {
     "name": "stderr",
     "output_type": "stream",
     "text": [
      "  9%|▉         | 468/5197 [3:05:37<31:47:18, 24.20s/it]"
     ]
    },
    {
     "name": "stdout",
     "output_type": "stream",
     "text": [
      "AURA\n"
     ]
    },
    {
     "name": "stderr",
     "output_type": "stream",
     "text": [
      "  9%|▉         | 469/5197 [3:06:02<31:59:52, 24.36s/it]"
     ]
    },
    {
     "name": "stdout",
     "output_type": "stream",
     "text": [
      "AUST\n"
     ]
    },
    {
     "name": "stderr",
     "output_type": "stream",
     "text": [
      "  9%|▉         | 470/5197 [3:06:22<30:23:10, 23.14s/it]"
     ]
    },
    {
     "name": "stdout",
     "output_type": "stream",
     "text": [
      "AUTL\n"
     ]
    },
    {
     "name": "stderr",
     "output_type": "stream",
     "text": [
      "  9%|▉         | 471/5197 [3:06:44<29:38:09, 22.58s/it]"
     ]
    },
    {
     "name": "stdout",
     "output_type": "stream",
     "text": [
      "AUUD\n"
     ]
    },
    {
     "name": "stderr",
     "output_type": "stream",
     "text": [
      "  9%|▉         | 472/5197 [3:07:10<30:54:22, 23.55s/it]"
     ]
    },
    {
     "name": "stdout",
     "output_type": "stream",
     "text": [
      "AUVI\n"
     ]
    },
    {
     "name": "stderr",
     "output_type": "stream",
     "text": [
      "  9%|▉         | 473/5197 [3:07:38<32:45:22, 24.96s/it]"
     ]
    },
    {
     "name": "stdout",
     "output_type": "stream",
     "text": [
      "AVA\n"
     ]
    },
    {
     "name": "stderr",
     "output_type": "stream",
     "text": [
      "  9%|▉         | 474/5197 [3:08:03<32:46:11, 24.98s/it]"
     ]
    },
    {
     "name": "stdout",
     "output_type": "stream",
     "text": [
      "AVAH\n"
     ]
    },
    {
     "name": "stderr",
     "output_type": "stream",
     "text": [
      "  9%|▉         | 475/5197 [3:08:22<30:21:35, 23.15s/it]"
     ]
    },
    {
     "name": "stdout",
     "output_type": "stream",
     "text": [
      "AVAV\n"
     ]
    },
    {
     "name": "stderr",
     "output_type": "stream",
     "text": [
      "  9%|▉         | 476/5197 [3:08:44<29:52:22, 22.78s/it]"
     ]
    },
    {
     "name": "stdout",
     "output_type": "stream",
     "text": [
      "AVB\n"
     ]
    },
    {
     "name": "stderr",
     "output_type": "stream",
     "text": [
      "  9%|▉         | 477/5197 [3:09:04<28:55:25, 22.06s/it]"
     ]
    },
    {
     "name": "stdout",
     "output_type": "stream",
     "text": [
      "AVBP\n"
     ]
    },
    {
     "name": "stderr",
     "output_type": "stream",
     "text": [
      "  9%|▉         | 478/5197 [3:09:30<30:25:36, 23.21s/it]"
     ]
    },
    {
     "name": "stdout",
     "output_type": "stream",
     "text": [
      "AVD\n"
     ]
    },
    {
     "name": "stderr",
     "output_type": "stream",
     "text": [
      "  9%|▉         | 479/5197 [3:09:47<27:56:41, 21.32s/it]"
     ]
    },
    {
     "name": "stdout",
     "output_type": "stream",
     "text": [
      "AVDX\n"
     ]
    },
    {
     "name": "stderr",
     "output_type": "stream",
     "text": [
      "  9%|▉         | 480/5197 [3:10:11<29:12:01, 22.29s/it]"
     ]
    },
    {
     "name": "stdout",
     "output_type": "stream",
     "text": [
      "AVGO\n"
     ]
    },
    {
     "name": "stderr",
     "output_type": "stream",
     "text": [
      "  9%|▉         | 481/5197 [3:10:29<27:26:07, 20.94s/it]"
     ]
    },
    {
     "name": "stdout",
     "output_type": "stream",
     "text": [
      "AVGR\n"
     ]
    },
    {
     "name": "stderr",
     "output_type": "stream",
     "text": [
      "  9%|▉         | 482/5197 [3:10:46<25:54:00, 19.78s/it]"
     ]
    },
    {
     "name": "stdout",
     "output_type": "stream",
     "text": [
      "AVHI\n"
     ]
    },
    {
     "name": "stderr",
     "output_type": "stream",
     "text": [
      "  9%|▉         | 483/5197 [3:11:08<26:46:33, 20.45s/it]"
     ]
    },
    {
     "name": "stdout",
     "output_type": "stream",
     "text": [
      "AVIR\n"
     ]
    },
    {
     "name": "stderr",
     "output_type": "stream",
     "text": [
      "  9%|▉         | 484/5197 [3:11:28<26:25:40, 20.19s/it]"
     ]
    },
    {
     "name": "stdout",
     "output_type": "stream",
     "text": [
      "AVNS\n"
     ]
    },
    {
     "name": "stderr",
     "output_type": "stream",
     "text": [
      "  9%|▉         | 485/5197 [3:11:47<25:54:40, 19.80s/it]"
     ]
    },
    {
     "name": "stdout",
     "output_type": "stream",
     "text": [
      "AVNT\n"
     ]
    },
    {
     "name": "stderr",
     "output_type": "stream",
     "text": [
      "  9%|▉         | 486/5197 [3:12:10<27:22:13, 20.92s/it]"
     ]
    },
    {
     "name": "stdout",
     "output_type": "stream",
     "text": [
      "AVNW\n"
     ]
    },
    {
     "name": "stderr",
     "output_type": "stream",
     "text": [
      "  9%|▉         | 487/5197 [3:12:30<26:56:17, 20.59s/it]"
     ]
    },
    {
     "name": "stdout",
     "output_type": "stream",
     "text": [
      "AVO\n"
     ]
    },
    {
     "name": "stderr",
     "output_type": "stream",
     "text": [
      "  9%|▉         | 488/5197 [3:12:57<29:25:21, 22.49s/it]"
     ]
    },
    {
     "name": "stdout",
     "output_type": "stream",
     "text": [
      "AVPT\n"
     ]
    },
    {
     "name": "stderr",
     "output_type": "stream",
     "text": [
      "  9%|▉         | 489/5197 [3:13:16<27:58:20, 21.39s/it]"
     ]
    },
    {
     "name": "stdout",
     "output_type": "stream",
     "text": [
      "AVRO\n"
     ]
    },
    {
     "name": "stderr",
     "output_type": "stream",
     "text": [
      "  9%|▉         | 490/5197 [3:13:32<25:51:43, 19.78s/it]"
     ]
    },
    {
     "name": "stdout",
     "output_type": "stream",
     "text": [
      "AVT\n"
     ]
    },
    {
     "name": "stderr",
     "output_type": "stream",
     "text": [
      "  9%|▉         | 491/5197 [3:13:58<28:23:57, 21.72s/it]"
     ]
    },
    {
     "name": "stdout",
     "output_type": "stream",
     "text": [
      "AVTE\n"
     ]
    },
    {
     "name": "stderr",
     "output_type": "stream",
     "text": [
      "  9%|▉         | 492/5197 [3:14:11<24:56:00, 19.08s/it]"
     ]
    },
    {
     "name": "stdout",
     "output_type": "stream",
     "text": [
      "AVTR\n"
     ]
    },
    {
     "name": "stderr",
     "output_type": "stream",
     "text": [
      "  9%|▉         | 493/5197 [3:14:28<24:07:05, 18.46s/it]"
     ]
    },
    {
     "name": "stdout",
     "output_type": "stream",
     "text": [
      "AVTX\n"
     ]
    },
    {
     "name": "stderr",
     "output_type": "stream",
     "text": [
      " 10%|▉         | 494/5197 [3:14:44<23:06:22, 17.69s/it]"
     ]
    },
    {
     "name": "stdout",
     "output_type": "stream",
     "text": [
      "AVXL\n"
     ]
    },
    {
     "name": "stderr",
     "output_type": "stream",
     "text": [
      " 10%|▉         | 495/5197 [3:15:06<24:56:23, 19.09s/it]"
     ]
    },
    {
     "name": "stdout",
     "output_type": "stream",
     "text": [
      "AVY\n"
     ]
    },
    {
     "name": "stderr",
     "output_type": "stream",
     "text": [
      " 10%|▉         | 496/5197 [3:15:27<25:31:53, 19.55s/it]"
     ]
    },
    {
     "name": "stdout",
     "output_type": "stream",
     "text": [
      "AWH\n"
     ]
    },
    {
     "name": "stderr",
     "output_type": "stream",
     "text": [
      " 10%|▉         | 497/5197 [3:15:56<29:06:49, 22.30s/it]"
     ]
    },
    {
     "name": "stdout",
     "output_type": "stream",
     "text": [
      "AWI\n"
     ]
    },
    {
     "name": "stderr",
     "output_type": "stream",
     "text": [
      " 10%|▉         | 498/5197 [3:16:14<27:29:21, 21.06s/it]"
     ]
    },
    {
     "name": "stdout",
     "output_type": "stream",
     "text": [
      "AWIN\n"
     ]
    },
    {
     "name": "stderr",
     "output_type": "stream",
     "text": [
      " 10%|▉         | 499/5197 [3:16:26<24:10:25, 18.52s/it]"
     ]
    },
    {
     "name": "stdout",
     "output_type": "stream",
     "text": [
      "AWK\n"
     ]
    },
    {
     "name": "stderr",
     "output_type": "stream",
     "text": [
      " 10%|▉         | 500/5197 [3:16:41<22:33:50, 17.29s/it]"
     ]
    },
    {
     "name": "stdout",
     "output_type": "stream",
     "text": [
      "AWR\n"
     ]
    },
    {
     "name": "stderr",
     "output_type": "stream",
     "text": [
      " 10%|▉         | 501/5197 [3:16:55<21:21:17, 16.37s/it]"
     ]
    },
    {
     "name": "stdout",
     "output_type": "stream",
     "text": [
      "AWRE\n"
     ]
    },
    {
     "name": "stderr",
     "output_type": "stream",
     "text": [
      " 10%|▉         | 502/5197 [3:17:22<25:29:13, 19.54s/it]"
     ]
    },
    {
     "name": "stdout",
     "output_type": "stream",
     "text": [
      "AWX\n"
     ]
    },
    {
     "name": "stderr",
     "output_type": "stream",
     "text": [
      " 10%|▉         | 503/5197 [3:17:55<30:49:38, 23.64s/it]"
     ]
    },
    {
     "name": "stdout",
     "output_type": "stream",
     "text": [
      "AX\n"
     ]
    },
    {
     "name": "stderr",
     "output_type": "stream",
     "text": [
      " 10%|▉         | 504/5197 [3:18:21<31:50:17, 24.42s/it]"
     ]
    },
    {
     "name": "stdout",
     "output_type": "stream",
     "text": [
      "AXDX\n"
     ]
    },
    {
     "name": "stderr",
     "output_type": "stream",
     "text": [
      " 10%|▉         | 505/5197 [3:18:42<30:12:11, 23.17s/it]"
     ]
    },
    {
     "name": "stdout",
     "output_type": "stream",
     "text": [
      "AXGN\n"
     ]
    },
    {
     "name": "stderr",
     "output_type": "stream",
     "text": [
      " 10%|▉         | 506/5197 [3:18:59<27:55:39, 21.43s/it]"
     ]
    },
    {
     "name": "stdout",
     "output_type": "stream",
     "text": [
      "AXIL\n"
     ]
    },
    {
     "name": "stderr",
     "output_type": "stream",
     "text": [
      " 10%|▉         | 507/5197 [3:19:19<27:16:40, 20.94s/it]"
     ]
    },
    {
     "name": "stdout",
     "output_type": "stream",
     "text": [
      "AXL\n"
     ]
    },
    {
     "name": "stderr",
     "output_type": "stream",
     "text": [
      " 10%|▉         | 508/5197 [3:19:40<27:24:23, 21.04s/it]"
     ]
    },
    {
     "name": "stdout",
     "output_type": "stream",
     "text": [
      "AXNX\n"
     ]
    },
    {
     "name": "stderr",
     "output_type": "stream",
     "text": [
      " 10%|▉         | 509/5197 [3:20:08<30:05:35, 23.11s/it]"
     ]
    },
    {
     "name": "stdout",
     "output_type": "stream",
     "text": [
      "AXON\n"
     ]
    },
    {
     "name": "stderr",
     "output_type": "stream",
     "text": [
      " 10%|▉         | 510/5197 [3:20:24<27:19:31, 20.99s/it]"
     ]
    },
    {
     "name": "stdout",
     "output_type": "stream",
     "text": [
      "AXP\n"
     ]
    },
    {
     "name": "stderr",
     "output_type": "stream",
     "text": [
      " 10%|▉         | 511/5197 [3:20:42<26:03:10, 20.01s/it]"
     ]
    },
    {
     "name": "stdout",
     "output_type": "stream",
     "text": [
      "AXR\n"
     ]
    },
    {
     "name": "stderr",
     "output_type": "stream",
     "text": [
      " 10%|▉         | 512/5197 [3:21:00<25:12:27, 19.37s/it]"
     ]
    },
    {
     "name": "stdout",
     "output_type": "stream",
     "text": [
      "AXS\n"
     ]
    },
    {
     "name": "stderr",
     "output_type": "stream",
     "text": [
      " 10%|▉         | 513/5197 [3:21:24<27:05:58, 20.83s/it]"
     ]
    },
    {
     "name": "stdout",
     "output_type": "stream",
     "text": [
      "AXSM\n"
     ]
    },
    {
     "name": "stderr",
     "output_type": "stream",
     "text": [
      " 10%|▉         | 514/5197 [3:21:47<28:03:45, 21.57s/it]"
     ]
    },
    {
     "name": "stdout",
     "output_type": "stream",
     "text": [
      "AXTA\n"
     ]
    },
    {
     "name": "stderr",
     "output_type": "stream",
     "text": [
      " 10%|▉         | 515/5197 [3:22:08<27:43:21, 21.32s/it]"
     ]
    },
    {
     "name": "stdout",
     "output_type": "stream",
     "text": [
      "AXTI\n"
     ]
    },
    {
     "name": "stderr",
     "output_type": "stream",
     "text": [
      " 10%|▉         | 516/5197 [3:22:30<28:11:32, 21.68s/it]"
     ]
    },
    {
     "name": "stdout",
     "output_type": "stream",
     "text": [
      "AY\n"
     ]
    },
    {
     "name": "stderr",
     "output_type": "stream",
     "text": [
      " 10%|▉         | 517/5197 [3:22:51<27:34:48, 21.22s/it]"
     ]
    },
    {
     "name": "stdout",
     "output_type": "stream",
     "text": [
      "AYI\n"
     ]
    },
    {
     "name": "stderr",
     "output_type": "stream",
     "text": [
      " 10%|▉         | 518/5197 [3:23:12<27:33:08, 21.20s/it]"
     ]
    },
    {
     "name": "stdout",
     "output_type": "stream",
     "text": [
      "AYRO\n"
     ]
    },
    {
     "name": "stderr",
     "output_type": "stream",
     "text": [
      " 10%|▉         | 519/5197 [3:23:30<26:16:59, 20.23s/it]"
     ]
    },
    {
     "name": "stdout",
     "output_type": "stream",
     "text": [
      "AYTU\n"
     ]
    },
    {
     "name": "stderr",
     "output_type": "stream",
     "text": [
      " 10%|█         | 520/5197 [3:23:43<23:35:49, 18.16s/it]"
     ]
    },
    {
     "name": "stdout",
     "output_type": "stream",
     "text": [
      "AYX\n"
     ]
    },
    {
     "name": "stderr",
     "output_type": "stream",
     "text": [
      " 10%|█         | 521/5197 [3:24:04<24:46:37, 19.08s/it]"
     ]
    },
    {
     "name": "stdout",
     "output_type": "stream",
     "text": [
      "AZ\n"
     ]
    },
    {
     "name": "stderr",
     "output_type": "stream",
     "text": [
      " 10%|█         | 522/5197 [3:24:32<28:18:13, 21.80s/it]"
     ]
    },
    {
     "name": "stdout",
     "output_type": "stream",
     "text": [
      "AZEK\n"
     ]
    },
    {
     "name": "stderr",
     "output_type": "stream",
     "text": [
      " 10%|█         | 523/5197 [3:24:58<29:41:52, 22.87s/it]"
     ]
    },
    {
     "name": "stdout",
     "output_type": "stream",
     "text": [
      "AZO\n"
     ]
    },
    {
     "name": "stderr",
     "output_type": "stream",
     "text": [
      " 10%|█         | 524/5197 [3:25:21<29:44:00, 22.91s/it]"
     ]
    },
    {
     "name": "stdout",
     "output_type": "stream",
     "text": [
      "AZPN\n"
     ]
    },
    {
     "name": "stderr",
     "output_type": "stream",
     "text": [
      " 10%|█         | 525/5197 [3:25:41<28:47:15, 22.18s/it]"
     ]
    },
    {
     "name": "stdout",
     "output_type": "stream",
     "text": [
      "AZTA\n"
     ]
    },
    {
     "name": "stderr",
     "output_type": "stream",
     "text": [
      " 10%|█         | 526/5197 [3:26:07<30:15:39, 23.32s/it]"
     ]
    },
    {
     "name": "stdout",
     "output_type": "stream",
     "text": [
      "AZTR\n"
     ]
    },
    {
     "name": "stderr",
     "output_type": "stream",
     "text": [
      " 10%|█         | 527/5197 [3:26:27<28:45:04, 22.16s/it]"
     ]
    },
    {
     "name": "stdout",
     "output_type": "stream",
     "text": [
      "AZZ\n"
     ]
    },
    {
     "name": "stderr",
     "output_type": "stream",
     "text": [
      " 10%|█         | 528/5197 [3:26:55<31:03:31, 23.95s/it]"
     ]
    },
    {
     "name": "stdout",
     "output_type": "stream",
     "text": [
      "B\n"
     ]
    },
    {
     "name": "stderr",
     "output_type": "stream",
     "text": [
      " 10%|█         | 529/5197 [3:27:12<28:22:08, 21.88s/it]"
     ]
    },
    {
     "name": "stdout",
     "output_type": "stream",
     "text": [
      "BA\n"
     ]
    },
    {
     "name": "stderr",
     "output_type": "stream",
     "text": [
      " 10%|█         | 530/5197 [3:27:27<25:41:33, 19.82s/it]"
     ]
    },
    {
     "name": "stdout",
     "output_type": "stream",
     "text": [
      "BAC\n"
     ]
    },
    {
     "name": "stderr",
     "output_type": "stream",
     "text": [
      " 10%|█         | 531/5197 [3:27:59<30:25:18, 23.47s/it]"
     ]
    },
    {
     "name": "stdout",
     "output_type": "stream",
     "text": [
      "BACA\n"
     ]
    },
    {
     "name": "stderr",
     "output_type": "stream",
     "text": [
      " 10%|█         | 532/5197 [3:28:15<27:43:15, 21.39s/it]"
     ]
    },
    {
     "name": "stdout",
     "output_type": "stream",
     "text": [
      "BACK\n"
     ]
    },
    {
     "name": "stderr",
     "output_type": "stream",
     "text": [
      " 10%|█         | 533/5197 [3:28:33<26:19:03, 20.31s/it]"
     ]
    },
    {
     "name": "stdout",
     "output_type": "stream",
     "text": [
      "BAER\n"
     ]
    },
    {
     "name": "stderr",
     "output_type": "stream",
     "text": [
      " 10%|█         | 534/5197 [3:28:50<25:04:46, 19.36s/it]"
     ]
    },
    {
     "name": "stdout",
     "output_type": "stream",
     "text": [
      "BAFN\n"
     ]
    },
    {
     "name": "stderr",
     "output_type": "stream",
     "text": [
      " 10%|█         | 535/5197 [3:29:10<25:01:43, 19.33s/it]"
     ]
    },
    {
     "name": "stdout",
     "output_type": "stream",
     "text": [
      "BAH\n"
     ]
    },
    {
     "name": "stderr",
     "output_type": "stream",
     "text": [
      " 10%|█         | 536/5197 [3:29:33<26:35:20, 20.54s/it]"
     ]
    },
    {
     "name": "stdout",
     "output_type": "stream",
     "text": [
      "BALL\n"
     ]
    },
    {
     "name": "stderr",
     "output_type": "stream",
     "text": [
      " 10%|█         | 537/5197 [3:29:49<24:42:37, 19.09s/it]"
     ]
    },
    {
     "name": "stdout",
     "output_type": "stream",
     "text": [
      "BALY\n"
     ]
    },
    {
     "name": "stderr",
     "output_type": "stream",
     "text": [
      " 10%|█         | 538/5197 [3:30:13<26:38:21, 20.58s/it]"
     ]
    },
    {
     "name": "stdout",
     "output_type": "stream",
     "text": [
      "BAM\n"
     ]
    },
    {
     "name": "stderr",
     "output_type": "stream",
     "text": [
      " 10%|█         | 539/5197 [3:30:35<27:11:00, 21.01s/it]"
     ]
    },
    {
     "name": "stdout",
     "output_type": "stream",
     "text": [
      "BANC\n"
     ]
    },
    {
     "name": "stderr",
     "output_type": "stream",
     "text": [
      " 10%|█         | 540/5197 [3:30:53<26:08:50, 20.21s/it]"
     ]
    },
    {
     "name": "stdout",
     "output_type": "stream",
     "text": [
      "BAND\n"
     ]
    },
    {
     "name": "stderr",
     "output_type": "stream",
     "text": [
      " 10%|█         | 541/5197 [3:31:13<25:53:00, 20.01s/it]"
     ]
    },
    {
     "name": "stdout",
     "output_type": "stream",
     "text": [
      "BANF\n"
     ]
    },
    {
     "name": "stderr",
     "output_type": "stream",
     "text": [
      " 10%|█         | 542/5197 [3:31:36<26:59:57, 20.88s/it]"
     ]
    },
    {
     "name": "stdout",
     "output_type": "stream",
     "text": [
      "BANL\n"
     ]
    },
    {
     "name": "stderr",
     "output_type": "stream",
     "text": [
      " 10%|█         | 543/5197 [3:31:56<26:44:13, 20.68s/it]"
     ]
    },
    {
     "name": "stdout",
     "output_type": "stream",
     "text": [
      "BANR\n"
     ]
    },
    {
     "name": "stderr",
     "output_type": "stream",
     "text": [
      " 10%|█         | 544/5197 [3:32:20<27:54:52, 21.60s/it]"
     ]
    },
    {
     "name": "stdout",
     "output_type": "stream",
     "text": [
      "BANX\n"
     ]
    },
    {
     "name": "stderr",
     "output_type": "stream",
     "text": [
      " 10%|█         | 545/5197 [3:32:41<27:42:51, 21.45s/it]"
     ]
    },
    {
     "name": "stdout",
     "output_type": "stream",
     "text": [
      "BAOS\n"
     ]
    },
    {
     "name": "stderr",
     "output_type": "stream",
     "text": [
      " 11%|█         | 546/5197 [3:33:02<27:49:28, 21.54s/it]"
     ]
    },
    {
     "name": "stdout",
     "output_type": "stream",
     "text": [
      "BAP\n"
     ]
    },
    {
     "name": "stderr",
     "output_type": "stream",
     "text": [
      " 11%|█         | 547/5197 [3:33:25<28:05:42, 21.75s/it]"
     ]
    },
    {
     "name": "stdout",
     "output_type": "stream",
     "text": [
      "BARK\n"
     ]
    },
    {
     "name": "stderr",
     "output_type": "stream",
     "text": [
      " 11%|█         | 548/5197 [3:33:43<26:54:42, 20.84s/it]"
     ]
    },
    {
     "name": "stdout",
     "output_type": "stream",
     "text": [
      "BASE\n"
     ]
    },
    {
     "name": "stderr",
     "output_type": "stream",
     "text": [
      " 11%|█         | 549/5197 [3:34:03<26:32:42, 20.56s/it]"
     ]
    },
    {
     "name": "stdout",
     "output_type": "stream",
     "text": [
      "BATL\n"
     ]
    },
    {
     "name": "stderr",
     "output_type": "stream",
     "text": [
      " 11%|█         | 550/5197 [3:34:23<26:23:57, 20.45s/it]"
     ]
    },
    {
     "name": "stdout",
     "output_type": "stream",
     "text": [
      "BATRA\n"
     ]
    },
    {
     "name": "stderr",
     "output_type": "stream",
     "text": [
      " 11%|█         | 551/5197 [3:34:48<28:07:52, 21.80s/it]"
     ]
    },
    {
     "name": "stdout",
     "output_type": "stream",
     "text": [
      "BATRK\n"
     ]
    },
    {
     "name": "stderr",
     "output_type": "stream",
     "text": [
      " 11%|█         | 552/5197 [3:35:03<25:31:50, 19.79s/it]"
     ]
    },
    {
     "name": "stdout",
     "output_type": "stream",
     "text": [
      "BAX\n"
     ]
    },
    {
     "name": "stderr",
     "output_type": "stream",
     "text": [
      " 11%|█         | 553/5197 [3:35:23<25:28:04, 19.74s/it]"
     ]
    },
    {
     "name": "stdout",
     "output_type": "stream",
     "text": [
      "BAYA\n"
     ]
    },
    {
     "name": "stderr",
     "output_type": "stream",
     "text": [
      " 11%|█         | 554/5197 [3:35:42<25:07:32, 19.48s/it]"
     ]
    },
    {
     "name": "stdout",
     "output_type": "stream",
     "text": [
      "BB\n"
     ]
    },
    {
     "name": "stderr",
     "output_type": "stream",
     "text": [
      " 11%|█         | 555/5197 [3:35:55<22:26:41, 17.41s/it]"
     ]
    },
    {
     "name": "stdout",
     "output_type": "stream",
     "text": [
      "BBAI\n"
     ]
    },
    {
     "name": "stderr",
     "output_type": "stream",
     "text": [
      " 11%|█         | 556/5197 [3:36:09<21:08:47, 16.40s/it]"
     ]
    },
    {
     "name": "stdout",
     "output_type": "stream",
     "text": [
      "BBCP\n"
     ]
    },
    {
     "name": "stderr",
     "output_type": "stream",
     "text": [
      " 11%|█         | 557/5197 [3:36:25<21:18:44, 16.54s/it]"
     ]
    },
    {
     "name": "stdout",
     "output_type": "stream",
     "text": [
      "BBGI\n"
     ]
    },
    {
     "name": "stderr",
     "output_type": "stream",
     "text": [
      " 11%|█         | 558/5197 [3:36:53<25:39:02, 19.91s/it]"
     ]
    },
    {
     "name": "stdout",
     "output_type": "stream",
     "text": [
      "BBIO\n"
     ]
    },
    {
     "name": "stderr",
     "output_type": "stream",
     "text": [
      " 11%|█         | 559/5197 [3:37:18<27:43:20, 21.52s/it]"
     ]
    },
    {
     "name": "stdout",
     "output_type": "stream",
     "text": [
      "BBLG\n"
     ]
    },
    {
     "name": "stderr",
     "output_type": "stream",
     "text": [
      " 11%|█         | 560/5197 [3:37:38<26:57:53, 20.93s/it]"
     ]
    },
    {
     "name": "stdout",
     "output_type": "stream",
     "text": [
      "BBSI\n"
     ]
    },
    {
     "name": "stderr",
     "output_type": "stream",
     "text": [
      " 11%|█         | 561/5197 [3:38:00<27:13:08, 21.14s/it]"
     ]
    },
    {
     "name": "stdout",
     "output_type": "stream",
     "text": [
      "BBUC\n"
     ]
    },
    {
     "name": "stderr",
     "output_type": "stream",
     "text": [
      " 11%|█         | 562/5197 [3:38:16<25:18:28, 19.66s/it]"
     ]
    },
    {
     "name": "stdout",
     "output_type": "stream",
     "text": [
      "BBW\n"
     ]
    },
    {
     "name": "stderr",
     "output_type": "stream",
     "text": [
      " 11%|█         | 563/5197 [3:38:32<24:07:48, 18.75s/it]"
     ]
    },
    {
     "name": "stdout",
     "output_type": "stream",
     "text": [
      "BBWI\n"
     ]
    },
    {
     "name": "stderr",
     "output_type": "stream",
     "text": [
      " 11%|█         | 564/5197 [3:38:54<25:01:55, 19.45s/it]"
     ]
    },
    {
     "name": "stdout",
     "output_type": "stream",
     "text": [
      "BBY\n"
     ]
    },
    {
     "name": "stderr",
     "output_type": "stream",
     "text": [
      " 11%|█         | 565/5197 [3:39:11<24:08:48, 18.77s/it]"
     ]
    },
    {
     "name": "stdout",
     "output_type": "stream",
     "text": [
      "BC\n"
     ]
    },
    {
     "name": "stderr",
     "output_type": "stream",
     "text": [
      " 11%|█         | 566/5197 [3:39:30<24:22:41, 18.95s/it]"
     ]
    },
    {
     "name": "stdout",
     "output_type": "stream",
     "text": [
      "BCAB\n"
     ]
    },
    {
     "name": "stderr",
     "output_type": "stream",
     "text": [
      " 11%|█         | 567/5197 [3:39:47<23:44:52, 18.46s/it]"
     ]
    },
    {
     "name": "stdout",
     "output_type": "stream",
     "text": [
      "BCAL\n"
     ]
    },
    {
     "name": "stderr",
     "output_type": "stream",
     "text": [
      " 11%|█         | 568/5197 [3:40:13<26:21:11, 20.50s/it]"
     ]
    },
    {
     "name": "stdout",
     "output_type": "stream",
     "text": [
      "BCAN\n"
     ]
    },
    {
     "name": "stderr",
     "output_type": "stream",
     "text": [
      " 11%|█         | 569/5197 [3:40:47<31:42:32, 24.67s/it]"
     ]
    },
    {
     "name": "stdout",
     "output_type": "stream",
     "text": [
      "BCBP\n"
     ]
    },
    {
     "name": "stderr",
     "output_type": "stream",
     "text": [
      " 11%|█         | 570/5197 [3:41:12<31:55:33, 24.84s/it]"
     ]
    },
    {
     "name": "stdout",
     "output_type": "stream",
     "text": [
      "BCC\n"
     ]
    },
    {
     "name": "stderr",
     "output_type": "stream",
     "text": [
      " 11%|█         | 571/5197 [3:41:29<28:51:37, 22.46s/it]"
     ]
    },
    {
     "name": "stdout",
     "output_type": "stream",
     "text": [
      "BCDA\n"
     ]
    },
    {
     "name": "stderr",
     "output_type": "stream",
     "text": [
      " 11%|█         | 572/5197 [3:41:54<29:47:11, 23.19s/it]"
     ]
    },
    {
     "name": "stdout",
     "output_type": "stream",
     "text": [
      "BCE\n"
     ]
    },
    {
     "name": "stderr",
     "output_type": "stream",
     "text": [
      " 11%|█         | 573/5197 [3:42:10<26:55:15, 20.96s/it]"
     ]
    },
    {
     "name": "stdout",
     "output_type": "stream",
     "text": [
      "BCEL\n"
     ]
    },
    {
     "name": "stderr",
     "output_type": "stream",
     "text": [
      " 11%|█         | 574/5197 [3:42:27<25:17:00, 19.69s/it]"
     ]
    },
    {
     "name": "stdout",
     "output_type": "stream",
     "text": [
      "BCLI\n"
     ]
    },
    {
     "name": "stderr",
     "output_type": "stream",
     "text": [
      " 11%|█         | 575/5197 [3:42:43<23:59:48, 18.69s/it]"
     ]
    },
    {
     "name": "stdout",
     "output_type": "stream",
     "text": [
      "BCML\n"
     ]
    },
    {
     "name": "stderr",
     "output_type": "stream",
     "text": [
      " 11%|█         | 576/5197 [3:43:06<25:36:46, 19.95s/it]"
     ]
    },
    {
     "name": "stdout",
     "output_type": "stream",
     "text": [
      "BCO\n"
     ]
    },
    {
     "name": "stderr",
     "output_type": "stream",
     "text": [
      " 11%|█         | 577/5197 [3:43:25<25:21:39, 19.76s/it]"
     ]
    },
    {
     "name": "stdout",
     "output_type": "stream",
     "text": [
      "BCOV\n"
     ]
    },
    {
     "name": "stderr",
     "output_type": "stream",
     "text": [
      " 11%|█         | 578/5197 [3:43:47<26:17:50, 20.50s/it]"
     ]
    },
    {
     "name": "stdout",
     "output_type": "stream",
     "text": [
      "BCOW\n"
     ]
    },
    {
     "name": "stderr",
     "output_type": "stream",
     "text": [
      " 11%|█         | 579/5197 [3:44:13<28:19:47, 22.08s/it]"
     ]
    },
    {
     "name": "stdout",
     "output_type": "stream",
     "text": [
      "BCPC\n"
     ]
    },
    {
     "name": "stderr",
     "output_type": "stream",
     "text": [
      " 11%|█         | 580/5197 [3:44:33<27:19:06, 21.30s/it]"
     ]
    },
    {
     "name": "stdout",
     "output_type": "stream",
     "text": [
      "BCRX\n"
     ]
    },
    {
     "name": "stderr",
     "output_type": "stream",
     "text": [
      " 11%|█         | 581/5197 [3:44:54<27:27:56, 21.42s/it]"
     ]
    },
    {
     "name": "stdout",
     "output_type": "stream",
     "text": [
      "BCSA\n"
     ]
    },
    {
     "name": "stderr",
     "output_type": "stream",
     "text": [
      " 11%|█         | 582/5197 [3:45:12<26:02:57, 20.32s/it]"
     ]
    },
    {
     "name": "stdout",
     "output_type": "stream",
     "text": [
      "BCSF\n"
     ]
    },
    {
     "name": "stderr",
     "output_type": "stream",
     "text": [
      " 11%|█         | 583/5197 [3:45:32<25:54:38, 20.22s/it]"
     ]
    },
    {
     "name": "stdout",
     "output_type": "stream",
     "text": [
      "BCTX\n"
     ]
    },
    {
     "name": "stderr",
     "output_type": "stream",
     "text": [
      " 11%|█         | 584/5197 [3:45:54<26:33:58, 20.73s/it]"
     ]
    },
    {
     "name": "stdout",
     "output_type": "stream",
     "text": [
      "BDC\n"
     ]
    },
    {
     "name": "stderr",
     "output_type": "stream",
     "text": [
      " 11%|█▏        | 585/5197 [3:46:13<25:43:59, 20.09s/it]"
     ]
    },
    {
     "name": "stdout",
     "output_type": "stream",
     "text": [
      "BDL\n"
     ]
    },
    {
     "name": "stderr",
     "output_type": "stream",
     "text": [
      " 11%|█▏        | 586/5197 [3:46:40<28:39:42, 22.38s/it]"
     ]
    },
    {
     "name": "stdout",
     "output_type": "stream",
     "text": [
      "BDN\n"
     ]
    },
    {
     "name": "stderr",
     "output_type": "stream",
     "text": [
      " 11%|█▏        | 587/5197 [3:47:00<27:45:44, 21.68s/it]"
     ]
    },
    {
     "name": "stdout",
     "output_type": "stream",
     "text": [
      "BDSX\n"
     ]
    },
    {
     "name": "stderr",
     "output_type": "stream",
     "text": [
      " 11%|█▏        | 588/5197 [3:47:22<27:44:32, 21.67s/it]"
     ]
    },
    {
     "name": "stdout",
     "output_type": "stream",
     "text": [
      "BDTX\n"
     ]
    },
    {
     "name": "stderr",
     "output_type": "stream",
     "text": [
      " 11%|█▏        | 589/5197 [3:47:41<26:39:13, 20.82s/it]"
     ]
    },
    {
     "name": "stdout",
     "output_type": "stream",
     "text": [
      "BDX\n"
     ]
    },
    {
     "name": "stderr",
     "output_type": "stream",
     "text": [
      " 11%|█▏        | 590/5197 [3:48:00<26:02:16, 20.35s/it]"
     ]
    },
    {
     "name": "stdout",
     "output_type": "stream",
     "text": [
      "BE\n"
     ]
    },
    {
     "name": "stderr",
     "output_type": "stream",
     "text": [
      " 11%|█▏        | 591/5197 [3:48:36<31:50:53, 24.89s/it]"
     ]
    },
    {
     "name": "stdout",
     "output_type": "stream",
     "text": [
      "BEAM\n"
     ]
    },
    {
     "name": "stderr",
     "output_type": "stream",
     "text": [
      " 11%|█▏        | 592/5197 [3:49:08<34:40:50, 27.11s/it]"
     ]
    },
    {
     "name": "stdout",
     "output_type": "stream",
     "text": [
      "BEAT\n"
     ]
    },
    {
     "name": "stderr",
     "output_type": "stream",
     "text": [
      " 11%|█▏        | 593/5197 [3:49:28<31:47:39, 24.86s/it]"
     ]
    },
    {
     "name": "stdout",
     "output_type": "stream",
     "text": [
      "BECN\n"
     ]
    },
    {
     "name": "stderr",
     "output_type": "stream",
     "text": [
      " 11%|█▏        | 594/5197 [3:49:44<28:34:56, 22.35s/it]"
     ]
    },
    {
     "name": "stdout",
     "output_type": "stream",
     "text": [
      "BEEM\n"
     ]
    },
    {
     "name": "stderr",
     "output_type": "stream",
     "text": [
      " 11%|█▏        | 595/5197 [3:50:04<27:39:11, 21.63s/it]"
     ]
    },
    {
     "name": "stdout",
     "output_type": "stream",
     "text": [
      "BEEP\n"
     ]
    },
    {
     "name": "stderr",
     "output_type": "stream",
     "text": [
      " 11%|█▏        | 596/5197 [3:50:23<26:36:11, 20.82s/it]"
     ]
    },
    {
     "name": "stdout",
     "output_type": "stream",
     "text": [
      "BEKE\n"
     ]
    },
    {
     "name": "stderr",
     "output_type": "stream",
     "text": [
      " 11%|█▏        | 597/5197 [3:50:38<24:23:30, 19.09s/it]"
     ]
    },
    {
     "name": "stdout",
     "output_type": "stream",
     "text": [
      "BELFA\n"
     ]
    },
    {
     "name": "stderr",
     "output_type": "stream",
     "text": [
      " 12%|█▏        | 598/5197 [3:51:02<26:17:07, 20.58s/it]"
     ]
    },
    {
     "name": "stdout",
     "output_type": "stream",
     "text": [
      "BELFB\n"
     ]
    },
    {
     "name": "stderr",
     "output_type": "stream",
     "text": [
      " 12%|█▏        | 599/5197 [3:51:26<27:31:52, 21.56s/it]"
     ]
    },
    {
     "name": "stdout",
     "output_type": "stream",
     "text": [
      "BEN\n"
     ]
    },
    {
     "name": "stderr",
     "output_type": "stream",
     "text": [
      " 12%|█▏        | 600/5197 [3:51:53<29:52:03, 23.39s/it]"
     ]
    },
    {
     "name": "stdout",
     "output_type": "stream",
     "text": [
      "BENF\n"
     ]
    },
    {
     "name": "stderr",
     "output_type": "stream",
     "text": [
      " 12%|█▏        | 601/5197 [3:52:19<30:41:22, 24.04s/it]"
     ]
    },
    {
     "name": "stdout",
     "output_type": "stream",
     "text": [
      "BEPC\n"
     ]
    },
    {
     "name": "stderr",
     "output_type": "stream",
     "text": [
      " 12%|█▏        | 602/5197 [3:52:48<32:24:42, 25.39s/it]"
     ]
    },
    {
     "name": "stdout",
     "output_type": "stream",
     "text": [
      "BERY\n"
     ]
    },
    {
     "name": "stderr",
     "output_type": "stream",
     "text": [
      " 12%|█▏        | 603/5197 [3:53:09<30:49:00, 24.15s/it]"
     ]
    },
    {
     "name": "stdout",
     "output_type": "stream",
     "text": [
      "BETR\n"
     ]
    },
    {
     "name": "stderr",
     "output_type": "stream",
     "text": [
      " 12%|█▏        | 604/5197 [3:53:28<29:00:13, 22.73s/it]"
     ]
    },
    {
     "name": "stdout",
     "output_type": "stream",
     "text": [
      "BFa\n"
     ]
    },
    {
     "name": "stderr",
     "output_type": "stream",
     "text": [
      " 12%|█▏        | 605/5197 [3:53:46<27:02:07, 21.20s/it]"
     ]
    },
    {
     "name": "stdout",
     "output_type": "stream",
     "text": [
      "BFAC\n"
     ]
    },
    {
     "name": "stderr",
     "output_type": "stream",
     "text": [
      " 12%|█▏        | 606/5197 [3:54:18<31:22:26, 24.60s/it]"
     ]
    },
    {
     "name": "stdout",
     "output_type": "stream",
     "text": [
      "BFAM\n"
     ]
    },
    {
     "name": "stderr",
     "output_type": "stream",
     "text": [
      " 12%|█▏        | 607/5197 [3:54:49<33:31:22, 26.29s/it]"
     ]
    },
    {
     "name": "stdout",
     "output_type": "stream",
     "text": [
      "BFb\n"
     ]
    },
    {
     "name": "stderr",
     "output_type": "stream",
     "text": [
      " 12%|█▏        | 608/5197 [3:55:08<30:40:23, 24.06s/it]"
     ]
    },
    {
     "name": "stdout",
     "output_type": "stream",
     "text": [
      "BFC\n"
     ]
    },
    {
     "name": "stderr",
     "output_type": "stream",
     "text": [
      " 12%|█▏        | 609/5197 [3:55:32<30:40:37, 24.07s/it]"
     ]
    },
    {
     "name": "stdout",
     "output_type": "stream",
     "text": [
      "BFH\n"
     ]
    },
    {
     "name": "stderr",
     "output_type": "stream",
     "text": [
      " 12%|█▏        | 610/5197 [3:55:56<30:37:05, 24.03s/it]"
     ]
    },
    {
     "name": "stdout",
     "output_type": "stream",
     "text": [
      "BFI\n"
     ]
    },
    {
     "name": "stderr",
     "output_type": "stream",
     "text": [
      " 12%|█▏        | 611/5197 [3:56:13<28:06:25, 22.06s/it]"
     ]
    },
    {
     "name": "stdout",
     "output_type": "stream",
     "text": [
      "BFIN\n"
     ]
    },
    {
     "name": "stderr",
     "output_type": "stream",
     "text": [
      " 12%|█▏        | 612/5197 [3:56:28<25:17:04, 19.85s/it]"
     ]
    },
    {
     "name": "stdout",
     "output_type": "stream",
     "text": [
      "BFLY\n"
     ]
    },
    {
     "name": "stderr",
     "output_type": "stream",
     "text": [
      " 12%|█▏        | 613/5197 [3:56:42<23:00:35, 18.07s/it]"
     ]
    },
    {
     "name": "stdout",
     "output_type": "stream",
     "text": [
      "BFRI\n"
     ]
    },
    {
     "name": "stderr",
     "output_type": "stream",
     "text": [
      " 12%|█▏        | 614/5197 [3:57:01<23:29:11, 18.45s/it]"
     ]
    },
    {
     "name": "stdout",
     "output_type": "stream",
     "text": [
      "BFS\n"
     ]
    },
    {
     "name": "stderr",
     "output_type": "stream",
     "text": [
      " 12%|█▏        | 615/5197 [3:57:23<24:44:56, 19.44s/it]"
     ]
    },
    {
     "name": "stdout",
     "output_type": "stream",
     "text": [
      "BFST\n"
     ]
    },
    {
     "name": "stderr",
     "output_type": "stream",
     "text": [
      " 12%|█▏        | 616/5197 [3:57:42<24:46:54, 19.47s/it]"
     ]
    },
    {
     "name": "stdout",
     "output_type": "stream",
     "text": [
      "BG\n"
     ]
    },
    {
     "name": "stderr",
     "output_type": "stream",
     "text": [
      " 12%|█▏        | 617/5197 [3:58:04<25:46:43, 20.26s/it]"
     ]
    },
    {
     "name": "stdout",
     "output_type": "stream",
     "text": [
      "BGC\n"
     ]
    },
    {
     "name": "stderr",
     "output_type": "stream",
     "text": [
      " 12%|█▏        | 618/5197 [3:58:19<23:46:58, 18.70s/it]"
     ]
    },
    {
     "name": "stdout",
     "output_type": "stream",
     "text": [
      "BGFV\n"
     ]
    },
    {
     "name": "stderr",
     "output_type": "stream",
     "text": [
      " 12%|█▏        | 619/5197 [3:58:39<24:10:20, 19.01s/it]"
     ]
    },
    {
     "name": "stdout",
     "output_type": "stream",
     "text": [
      "BGI\n"
     ]
    },
    {
     "name": "stderr",
     "output_type": "stream",
     "text": [
      " 12%|█▏        | 620/5197 [3:59:01<25:12:08, 19.82s/it]"
     ]
    },
    {
     "name": "stdout",
     "output_type": "stream",
     "text": [
      "BGLC\n"
     ]
    },
    {
     "name": "stderr",
     "output_type": "stream",
     "text": [
      " 12%|█▏        | 621/5197 [3:59:19<24:38:53, 19.39s/it]"
     ]
    },
    {
     "name": "stdout",
     "output_type": "stream",
     "text": [
      "BGS\n"
     ]
    },
    {
     "name": "stderr",
     "output_type": "stream",
     "text": [
      " 12%|█▏        | 622/5197 [3:59:27<20:18:26, 15.98s/it]"
     ]
    },
    {
     "name": "stdout",
     "output_type": "stream",
     "text": [
      "BGSF\n"
     ]
    },
    {
     "name": "stderr",
     "output_type": "stream",
     "text": [
      " 12%|█▏        | 623/5197 [3:59:45<21:05:19, 16.60s/it]"
     ]
    },
    {
     "name": "stdout",
     "output_type": "stream",
     "text": [
      "BGXX\n"
     ]
    },
    {
     "name": "stderr",
     "output_type": "stream",
     "text": [
      " 12%|█▏        | 624/5197 [4:00:02<21:14:01, 16.72s/it]"
     ]
    },
    {
     "name": "stdout",
     "output_type": "stream",
     "text": [
      "BH\n"
     ]
    },
    {
     "name": "stderr",
     "output_type": "stream",
     "text": [
      " 12%|█▏        | 625/5197 [4:00:23<22:37:03, 17.81s/it]"
     ]
    },
    {
     "name": "stdout",
     "output_type": "stream",
     "text": [
      "BHa\n"
     ]
    },
    {
     "name": "stderr",
     "output_type": "stream",
     "text": [
      " 12%|█▏        | 626/5197 [4:00:52<26:52:42, 21.17s/it]"
     ]
    },
    {
     "name": "stdout",
     "output_type": "stream",
     "text": [
      "BHAC\n"
     ]
    },
    {
     "name": "stderr",
     "output_type": "stream",
     "text": [
      " 12%|█▏        | 627/5197 [4:01:13<26:52:37, 21.17s/it]"
     ]
    },
    {
     "name": "stdout",
     "output_type": "stream",
     "text": [
      "BHAT\n"
     ]
    },
    {
     "name": "stderr",
     "output_type": "stream",
     "text": [
      " 12%|█▏        | 628/5197 [4:01:40<29:12:56, 23.02s/it]"
     ]
    },
    {
     "name": "stdout",
     "output_type": "stream",
     "text": [
      "BHB\n"
     ]
    },
    {
     "name": "stderr",
     "output_type": "stream",
     "text": [
      " 12%|█▏        | 629/5197 [4:02:00<27:53:02, 21.98s/it]"
     ]
    },
    {
     "name": "stdout",
     "output_type": "stream",
     "text": [
      "BHC\n"
     ]
    },
    {
     "name": "stderr",
     "output_type": "stream",
     "text": [
      " 12%|█▏        | 630/5197 [4:02:20<27:21:06, 21.56s/it]"
     ]
    },
    {
     "name": "stdout",
     "output_type": "stream",
     "text": [
      "BHE\n"
     ]
    },
    {
     "name": "stderr",
     "output_type": "stream",
     "text": [
      " 12%|█▏        | 631/5197 [4:02:35<24:53:29, 19.63s/it]"
     ]
    },
    {
     "name": "stdout",
     "output_type": "stream",
     "text": [
      "BHF\n"
     ]
    },
    {
     "name": "stderr",
     "output_type": "stream",
     "text": [
      " 12%|█▏        | 632/5197 [4:03:00<26:36:25, 20.98s/it]"
     ]
    },
    {
     "name": "stdout",
     "output_type": "stream",
     "text": [
      "BHIL\n"
     ]
    },
    {
     "name": "stderr",
     "output_type": "stream",
     "text": [
      " 12%|█▏        | 633/5197 [4:03:23<27:41:56, 21.85s/it]"
     ]
    },
    {
     "name": "stdout",
     "output_type": "stream",
     "text": [
      "BHLB\n"
     ]
    },
    {
     "name": "stderr",
     "output_type": "stream",
     "text": [
      " 12%|█▏        | 634/5197 [4:03:43<26:39:57, 21.04s/it]"
     ]
    },
    {
     "name": "stdout",
     "output_type": "stream",
     "text": [
      "BHM\n"
     ]
    },
    {
     "name": "stderr",
     "output_type": "stream",
     "text": [
      " 12%|█▏        | 635/5197 [4:04:07<27:58:54, 22.08s/it]"
     ]
    },
    {
     "name": "stdout",
     "output_type": "stream",
     "text": [
      "BHR\n"
     ]
    },
    {
     "name": "stderr",
     "output_type": "stream",
     "text": [
      " 12%|█▏        | 636/5197 [4:04:31<28:47:53, 22.73s/it]"
     ]
    },
    {
     "name": "stdout",
     "output_type": "stream",
     "text": [
      "BHRB\n"
     ]
    },
    {
     "name": "stderr",
     "output_type": "stream",
     "text": [
      " 12%|█▏        | 637/5197 [4:04:51<27:32:22, 21.74s/it]"
     ]
    },
    {
     "name": "stdout",
     "output_type": "stream",
     "text": [
      "BHVN\n"
     ]
    },
    {
     "name": "stderr",
     "output_type": "stream",
     "text": [
      " 12%|█▏        | 638/5197 [4:05:10<26:38:36, 21.04s/it]"
     ]
    },
    {
     "name": "stdout",
     "output_type": "stream",
     "text": [
      "BIAF\n"
     ]
    },
    {
     "name": "stderr",
     "output_type": "stream",
     "text": [
      " 12%|█▏        | 639/5197 [4:05:38<29:07:05, 23.00s/it]"
     ]
    },
    {
     "name": "stdout",
     "output_type": "stream",
     "text": [
      "BIG\n"
     ]
    },
    {
     "name": "stderr",
     "output_type": "stream",
     "text": [
      " 12%|█▏        | 640/5197 [4:06:04<30:22:01, 23.99s/it]"
     ]
    },
    {
     "name": "stdout",
     "output_type": "stream",
     "text": [
      "BIGC\n"
     ]
    },
    {
     "name": "stderr",
     "output_type": "stream",
     "text": [
      " 12%|█▏        | 641/5197 [4:06:27<30:06:32, 23.79s/it]"
     ]
    },
    {
     "name": "stdout",
     "output_type": "stream",
     "text": [
      "BIIB\n"
     ]
    },
    {
     "name": "stderr",
     "output_type": "stream",
     "text": [
      " 12%|█▏        | 642/5197 [4:06:55<31:25:31, 24.84s/it]"
     ]
    },
    {
     "name": "stdout",
     "output_type": "stream",
     "text": [
      "BILI\n"
     ]
    },
    {
     "name": "stderr",
     "output_type": "stream",
     "text": [
      " 12%|█▏        | 643/5197 [4:07:10<27:58:46, 22.12s/it]"
     ]
    },
    {
     "name": "stdout",
     "output_type": "stream",
     "text": [
      "BILL\n"
     ]
    },
    {
     "name": "stderr",
     "output_type": "stream",
     "text": [
      " 12%|█▏        | 644/5197 [4:07:32<27:44:20, 21.93s/it]"
     ]
    },
    {
     "name": "stdout",
     "output_type": "stream",
     "text": [
      "BIMI\n"
     ]
    },
    {
     "name": "stderr",
     "output_type": "stream",
     "text": [
      " 12%|█▏        | 645/5197 [4:07:52<26:56:10, 21.30s/it]"
     ]
    },
    {
     "name": "stdout",
     "output_type": "stream",
     "text": [
      "BIO\n"
     ]
    },
    {
     "name": "stderr",
     "output_type": "stream",
     "text": [
      " 12%|█▏        | 646/5197 [4:08:11<26:16:21, 20.78s/it]"
     ]
    },
    {
     "name": "stdout",
     "output_type": "stream",
     "text": [
      "BIOb\n"
     ]
    },
    {
     "name": "stderr",
     "output_type": "stream",
     "text": [
      " 12%|█▏        | 647/5197 [4:08:28<24:36:09, 19.47s/it]"
     ]
    },
    {
     "name": "stdout",
     "output_type": "stream",
     "text": [
      "BIOL\n"
     ]
    },
    {
     "name": "stderr",
     "output_type": "stream",
     "text": [
      " 12%|█▏        | 648/5197 [4:08:55<27:30:09, 21.77s/it]"
     ]
    },
    {
     "name": "stdout",
     "output_type": "stream",
     "text": [
      "BIOR\n"
     ]
    },
    {
     "name": "stderr",
     "output_type": "stream",
     "text": [
      " 12%|█▏        | 649/5197 [4:09:14<26:37:19, 21.07s/it]"
     ]
    },
    {
     "name": "stdout",
     "output_type": "stream",
     "text": [
      "BIOS\n"
     ]
    },
    {
     "name": "stderr",
     "output_type": "stream",
     "text": [
      " 13%|█▎        | 650/5197 [4:09:32<25:22:01, 20.08s/it]"
     ]
    },
    {
     "name": "stdout",
     "output_type": "stream",
     "text": [
      "BIOX\n"
     ]
    },
    {
     "name": "stderr",
     "output_type": "stream",
     "text": [
      " 13%|█▎        | 651/5197 [4:09:52<25:08:54, 19.92s/it]"
     ]
    },
    {
     "name": "stdout",
     "output_type": "stream",
     "text": [
      "BIPC\n"
     ]
    },
    {
     "name": "stderr",
     "output_type": "stream",
     "text": [
      " 13%|█▎        | 652/5197 [4:10:09<24:11:33, 19.16s/it]"
     ]
    },
    {
     "name": "stdout",
     "output_type": "stream",
     "text": [
      "BIRD\n"
     ]
    },
    {
     "name": "stderr",
     "output_type": "stream",
     "text": [
      " 13%|█▎        | 653/5197 [4:10:26<23:13:06, 18.39s/it]"
     ]
    },
    {
     "name": "stdout",
     "output_type": "stream",
     "text": [
      "BIRK\n"
     ]
    },
    {
     "name": "stderr",
     "output_type": "stream",
     "text": [
      " 13%|█▎        | 654/5197 [4:10:38<20:53:12, 16.55s/it]"
     ]
    },
    {
     "name": "stdout",
     "output_type": "stream",
     "text": [
      "BITE\n"
     ]
    },
    {
     "name": "stderr",
     "output_type": "stream",
     "text": [
      " 13%|█▎        | 655/5197 [4:10:54<20:48:11, 16.49s/it]"
     ]
    },
    {
     "name": "stdout",
     "output_type": "stream",
     "text": [
      "BITF\n"
     ]
    },
    {
     "name": "stderr",
     "output_type": "stream",
     "text": [
      " 13%|█▎        | 656/5197 [4:11:09<20:16:11, 16.07s/it]"
     ]
    },
    {
     "name": "stdout",
     "output_type": "stream",
     "text": [
      "BIVI\n"
     ]
    },
    {
     "name": "stderr",
     "output_type": "stream",
     "text": [
      " 13%|█▎        | 657/5197 [4:11:34<23:35:28, 18.71s/it]"
     ]
    },
    {
     "name": "stdout",
     "output_type": "stream",
     "text": [
      "BJ\n"
     ]
    },
    {
     "name": "stderr",
     "output_type": "stream",
     "text": [
      " 13%|█▎        | 658/5197 [4:11:54<23:56:52, 18.99s/it]"
     ]
    },
    {
     "name": "stdout",
     "output_type": "stream",
     "text": [
      "BJDX\n"
     ]
    },
    {
     "name": "stderr",
     "output_type": "stream",
     "text": [
      " 13%|█▎        | 659/5197 [4:12:13<23:57:37, 19.01s/it]"
     ]
    },
    {
     "name": "stdout",
     "output_type": "stream",
     "text": [
      "BJRI\n"
     ]
    },
    {
     "name": "stderr",
     "output_type": "stream",
     "text": [
      " 13%|█▎        | 660/5197 [4:12:32<23:49:18, 18.90s/it]"
     ]
    },
    {
     "name": "stdout",
     "output_type": "stream",
     "text": [
      "BK\n"
     ]
    },
    {
     "name": "stderr",
     "output_type": "stream",
     "text": [
      " 13%|█▎        | 661/5197 [4:12:47<22:19:43, 17.72s/it]"
     ]
    },
    {
     "name": "stdout",
     "output_type": "stream",
     "text": [
      "BKCC\n"
     ]
    },
    {
     "name": "stderr",
     "output_type": "stream",
     "text": [
      " 13%|█▎        | 662/5197 [4:13:01<21:02:52, 16.71s/it]"
     ]
    },
    {
     "name": "stdout",
     "output_type": "stream",
     "text": [
      "BKD\n"
     ]
    },
    {
     "name": "stderr",
     "output_type": "stream",
     "text": [
      " 13%|█▎        | 663/5197 [4:13:17<20:51:55, 16.57s/it]"
     ]
    },
    {
     "name": "stdout",
     "output_type": "stream",
     "text": [
      "BKE\n"
     ]
    },
    {
     "name": "stderr",
     "output_type": "stream",
     "text": [
      " 13%|█▎        | 664/5197 [4:13:37<22:03:40, 17.52s/it]"
     ]
    },
    {
     "name": "stdout",
     "output_type": "stream",
     "text": [
      "BKH\n"
     ]
    },
    {
     "name": "stderr",
     "output_type": "stream",
     "text": [
      " 13%|█▎        | 665/5197 [4:13:59<23:40:25, 18.81s/it]"
     ]
    },
    {
     "name": "stdout",
     "output_type": "stream",
     "text": [
      "BKKT\n"
     ]
    },
    {
     "name": "stderr",
     "output_type": "stream",
     "text": [
      " 13%|█▎        | 666/5197 [4:14:17<23:32:08, 18.70s/it]"
     ]
    },
    {
     "name": "stdout",
     "output_type": "stream",
     "text": [
      "BKNG\n"
     ]
    },
    {
     "name": "stderr",
     "output_type": "stream",
     "text": [
      " 13%|█▎        | 667/5197 [4:14:35<23:19:42, 18.54s/it]"
     ]
    },
    {
     "name": "stdout",
     "output_type": "stream",
     "text": [
      "BKR\n"
     ]
    },
    {
     "name": "stderr",
     "output_type": "stream",
     "text": [
      " 13%|█▎        | 668/5197 [4:14:43<19:13:21, 15.28s/it]"
     ]
    },
    {
     "name": "stdout",
     "output_type": "stream",
     "text": [
      "BKSY\n"
     ]
    },
    {
     "name": "stderr",
     "output_type": "stream",
     "text": [
      " 13%|█▎        | 669/5197 [4:15:03<21:02:45, 16.73s/it]"
     ]
    },
    {
     "name": "stdout",
     "output_type": "stream",
     "text": [
      "BKTI\n"
     ]
    },
    {
     "name": "stderr",
     "output_type": "stream",
     "text": [
      " 13%|█▎        | 670/5197 [4:15:16<19:36:19, 15.59s/it]"
     ]
    },
    {
     "name": "stdout",
     "output_type": "stream",
     "text": [
      "BKU\n"
     ]
    },
    {
     "name": "stderr",
     "output_type": "stream",
     "text": [
      " 13%|█▎        | 671/5197 [4:15:30<18:54:27, 15.04s/it]"
     ]
    },
    {
     "name": "stdout",
     "output_type": "stream",
     "text": [
      "BKYI\n"
     ]
    },
    {
     "name": "stderr",
     "output_type": "stream",
     "text": [
      " 13%|█▎        | 672/5197 [4:15:59<24:05:53, 19.17s/it]"
     ]
    },
    {
     "name": "stdout",
     "output_type": "stream",
     "text": [
      "BL\n"
     ]
    },
    {
     "name": "stderr",
     "output_type": "stream",
     "text": [
      " 13%|█▎        | 673/5197 [4:16:16<23:34:13, 18.76s/it]"
     ]
    },
    {
     "name": "stdout",
     "output_type": "stream",
     "text": [
      "BLAC\n"
     ]
    },
    {
     "name": "stderr",
     "output_type": "stream",
     "text": [
      " 13%|█▎        | 674/5197 [4:16:38<24:34:50, 19.56s/it]"
     ]
    },
    {
     "name": "stdout",
     "output_type": "stream",
     "text": [
      "BLBD\n"
     ]
    },
    {
     "name": "stderr",
     "output_type": "stream",
     "text": [
      " 13%|█▎        | 675/5197 [4:16:51<22:17:16, 17.74s/it]"
     ]
    },
    {
     "name": "stdout",
     "output_type": "stream",
     "text": [
      "BLBX\n"
     ]
    },
    {
     "name": "stderr",
     "output_type": "stream",
     "text": [
      " 13%|█▎        | 676/5197 [4:17:10<22:39:48, 18.05s/it]"
     ]
    },
    {
     "name": "stdout",
     "output_type": "stream",
     "text": [
      "BLCO\n"
     ]
    },
    {
     "name": "stderr",
     "output_type": "stream",
     "text": [
      " 13%|█▎        | 677/5197 [4:17:33<24:39:46, 19.64s/it]"
     ]
    },
    {
     "name": "stdout",
     "output_type": "stream",
     "text": [
      "BLD\n"
     ]
    },
    {
     "name": "stderr",
     "output_type": "stream",
     "text": [
      " 13%|█▎        | 678/5197 [4:17:48<22:49:49, 18.19s/it]"
     ]
    },
    {
     "name": "stdout",
     "output_type": "stream",
     "text": [
      "BLDE\n"
     ]
    },
    {
     "name": "stderr",
     "output_type": "stream",
     "text": [
      " 13%|█▎        | 679/5197 [4:18:00<20:34:09, 16.39s/it]"
     ]
    },
    {
     "name": "stdout",
     "output_type": "stream",
     "text": [
      "BLDP\n"
     ]
    },
    {
     "name": "stderr",
     "output_type": "stream",
     "text": [
      " 13%|█▎        | 680/5197 [4:18:17<20:44:19, 16.53s/it]"
     ]
    },
    {
     "name": "stdout",
     "output_type": "stream",
     "text": [
      "BLDR\n"
     ]
    },
    {
     "name": "stderr",
     "output_type": "stream",
     "text": [
      " 13%|█▎        | 681/5197 [4:18:40<22:57:47, 18.31s/it]"
     ]
    },
    {
     "name": "stdout",
     "output_type": "stream",
     "text": [
      "BLEU\n"
     ]
    },
    {
     "name": "stderr",
     "output_type": "stream",
     "text": [
      " 13%|█▎        | 682/5197 [4:18:54<21:26:56, 17.10s/it]"
     ]
    },
    {
     "name": "stdout",
     "output_type": "stream",
     "text": [
      "BLFS\n"
     ]
    },
    {
     "name": "stderr",
     "output_type": "stream",
     "text": [
      " 13%|█▎        | 683/5197 [4:19:07<20:03:36, 16.00s/it]"
     ]
    },
    {
     "name": "stdout",
     "output_type": "stream",
     "text": [
      "BLFY\n"
     ]
    },
    {
     "name": "stderr",
     "output_type": "stream",
     "text": [
      " 13%|█▎        | 684/5197 [4:19:29<22:20:48, 17.83s/it]"
     ]
    },
    {
     "name": "stdout",
     "output_type": "stream",
     "text": [
      "BLIN\n"
     ]
    },
    {
     "name": "stderr",
     "output_type": "stream",
     "text": [
      " 13%|█▎        | 685/5197 [4:19:47<22:02:29, 17.59s/it]"
     ]
    },
    {
     "name": "stdout",
     "output_type": "stream",
     "text": [
      "BLK\n"
     ]
    },
    {
     "name": "stderr",
     "output_type": "stream",
     "text": [
      " 13%|█▎        | 686/5197 [4:20:09<23:45:38, 18.96s/it]"
     ]
    },
    {
     "name": "stdout",
     "output_type": "stream",
     "text": [
      "BLKB\n"
     ]
    },
    {
     "name": "stderr",
     "output_type": "stream",
     "text": [
      " 13%|█▎        | 687/5197 [4:20:30<24:46:39, 19.78s/it]"
     ]
    },
    {
     "name": "stdout",
     "output_type": "stream",
     "text": [
      "BLMN\n"
     ]
    },
    {
     "name": "stderr",
     "output_type": "stream",
     "text": [
      " 13%|█▎        | 688/5197 [4:20:49<24:30:47, 19.57s/it]"
     ]
    },
    {
     "name": "stdout",
     "output_type": "stream",
     "text": [
      "BLND\n"
     ]
    },
    {
     "name": "stderr",
     "output_type": "stream",
     "text": [
      " 13%|█▎        | 689/5197 [4:21:15<26:51:41, 21.45s/it]"
     ]
    },
    {
     "name": "stdout",
     "output_type": "stream",
     "text": [
      "BLNK\n"
     ]
    },
    {
     "name": "stderr",
     "output_type": "stream",
     "text": [
      " 13%|█▎        | 690/5197 [4:21:37<26:55:33, 21.51s/it]"
     ]
    },
    {
     "name": "stdout",
     "output_type": "stream",
     "text": [
      "BLUA\n"
     ]
    },
    {
     "name": "stderr",
     "output_type": "stream",
     "text": [
      " 13%|█▎        | 691/5197 [4:21:56<25:52:42, 20.68s/it]"
     ]
    },
    {
     "name": "stdout",
     "output_type": "stream",
     "text": [
      "BLUE\n"
     ]
    },
    {
     "name": "stderr",
     "output_type": "stream",
     "text": [
      " 13%|█▎        | 692/5197 [4:22:02<20:22:00, 16.28s/it]"
     ]
    },
    {
     "name": "stdout",
     "output_type": "stream",
     "text": [
      "BLX\n"
     ]
    },
    {
     "name": "stderr",
     "output_type": "stream",
     "text": [
      " 13%|█▎        | 693/5197 [4:22:24<22:26:45, 17.94s/it]"
     ]
    },
    {
     "name": "stdout",
     "output_type": "stream",
     "text": [
      "BLZE\n"
     ]
    },
    {
     "name": "stderr",
     "output_type": "stream",
     "text": [
      " 13%|█▎        | 694/5197 [4:22:43<23:03:16, 18.43s/it]"
     ]
    },
    {
     "name": "stdout",
     "output_type": "stream",
     "text": [
      "BMBL\n"
     ]
    },
    {
     "name": "stderr",
     "output_type": "stream",
     "text": [
      " 13%|█▎        | 695/5197 [4:23:02<23:04:50, 18.46s/it]"
     ]
    },
    {
     "name": "stdout",
     "output_type": "stream",
     "text": [
      "BMEA\n"
     ]
    },
    {
     "name": "stderr",
     "output_type": "stream",
     "text": [
      " 13%|█▎        | 696/5197 [4:23:22<23:51:38, 19.08s/it]"
     ]
    },
    {
     "name": "stdout",
     "output_type": "stream",
     "text": [
      "BMI\n"
     ]
    },
    {
     "name": "stderr",
     "output_type": "stream",
     "text": [
      " 13%|█▎        | 697/5197 [4:23:47<26:07:52, 20.91s/it]"
     ]
    },
    {
     "name": "stdout",
     "output_type": "stream",
     "text": [
      "BMO\n"
     ]
    },
    {
     "name": "stderr",
     "output_type": "stream",
     "text": [
      " 13%|█▎        | 698/5197 [4:24:02<23:40:34, 18.95s/it]"
     ]
    },
    {
     "name": "stdout",
     "output_type": "stream",
     "text": [
      "BMR\n"
     ]
    },
    {
     "name": "stderr",
     "output_type": "stream",
     "text": [
      " 13%|█▎        | 699/5197 [4:24:22<24:16:43, 19.43s/it]"
     ]
    },
    {
     "name": "stdout",
     "output_type": "stream",
     "text": [
      "BMRA\n"
     ]
    },
    {
     "name": "stderr",
     "output_type": "stream",
     "text": [
      " 13%|█▎        | 700/5197 [4:24:45<25:21:11, 20.30s/it]"
     ]
    },
    {
     "name": "stdout",
     "output_type": "stream",
     "text": [
      "BMRC\n"
     ]
    },
    {
     "name": "stderr",
     "output_type": "stream",
     "text": [
      " 13%|█▎        | 701/5197 [4:25:02<24:06:19, 19.30s/it]"
     ]
    },
    {
     "name": "stdout",
     "output_type": "stream",
     "text": [
      "BMRN\n"
     ]
    },
    {
     "name": "stderr",
     "output_type": "stream",
     "text": [
      " 14%|█▎        | 702/5197 [4:25:23<24:54:14, 19.95s/it]"
     ]
    },
    {
     "name": "stdout",
     "output_type": "stream",
     "text": [
      "BMTX\n"
     ]
    },
    {
     "name": "stderr",
     "output_type": "stream",
     "text": [
      " 14%|█▎        | 703/5197 [4:25:40<23:41:23, 18.98s/it]"
     ]
    },
    {
     "name": "stdout",
     "output_type": "stream",
     "text": [
      "BMY\n"
     ]
    },
    {
     "name": "stderr",
     "output_type": "stream",
     "text": [
      " 14%|█▎        | 704/5197 [4:26:00<24:21:53, 19.52s/it]"
     ]
    },
    {
     "name": "stdout",
     "output_type": "stream",
     "text": [
      "BN\n"
     ]
    },
    {
     "name": "stderr",
     "output_type": "stream",
     "text": [
      " 14%|█▎        | 705/5197 [4:26:16<22:59:36, 18.43s/it]"
     ]
    },
    {
     "name": "stdout",
     "output_type": "stream",
     "text": [
      "BNED\n"
     ]
    },
    {
     "name": "stderr",
     "output_type": "stream",
     "text": [
      " 14%|█▎        | 706/5197 [4:26:39<24:31:23, 19.66s/it]"
     ]
    },
    {
     "name": "stdout",
     "output_type": "stream",
     "text": [
      "BNGO\n"
     ]
    },
    {
     "name": "stderr",
     "output_type": "stream",
     "text": [
      " 14%|█▎        | 707/5197 [4:26:55<23:11:04, 18.59s/it]"
     ]
    },
    {
     "name": "stdout",
     "output_type": "stream",
     "text": [
      "BNIX\n"
     ]
    },
    {
     "name": "stderr",
     "output_type": "stream",
     "text": [
      " 14%|█▎        | 708/5197 [4:27:12<22:35:11, 18.11s/it]"
     ]
    },
    {
     "name": "stdout",
     "output_type": "stream",
     "text": [
      "BNL\n"
     ]
    },
    {
     "name": "stderr",
     "output_type": "stream",
     "text": [
      " 14%|█▎        | 709/5197 [4:27:33<23:35:40, 18.93s/it]"
     ]
    },
    {
     "name": "stdout",
     "output_type": "stream",
     "text": [
      "BNR\n"
     ]
    },
    {
     "name": "stderr",
     "output_type": "stream",
     "text": [
      " 14%|█▎        | 710/5197 [4:27:49<22:25:52, 18.00s/it]"
     ]
    },
    {
     "name": "stdout",
     "output_type": "stream",
     "text": [
      "BNRE\n"
     ]
    },
    {
     "name": "stderr",
     "output_type": "stream",
     "text": [
      " 14%|█▎        | 711/5197 [4:28:08<23:04:53, 18.52s/it]"
     ]
    },
    {
     "name": "stdout",
     "output_type": "stream",
     "text": [
      "BNREa\n"
     ]
    },
    {
     "name": "stderr",
     "output_type": "stream",
     "text": [
      " 14%|█▎        | 712/5197 [4:28:30<24:17:41, 19.50s/it]"
     ]
    },
    {
     "name": "stdout",
     "output_type": "stream",
     "text": [
      "BNRG\n"
     ]
    },
    {
     "name": "stderr",
     "output_type": "stream",
     "text": [
      " 14%|█▎        | 713/5197 [4:28:57<27:07:27, 21.78s/it]"
     ]
    },
    {
     "name": "stdout",
     "output_type": "stream",
     "text": [
      "BNS\n"
     ]
    },
    {
     "name": "stderr",
     "output_type": "stream",
     "text": [
      " 14%|█▎        | 714/5197 [4:29:28<30:23:52, 24.41s/it]"
     ]
    },
    {
     "name": "stdout",
     "output_type": "stream",
     "text": [
      "BNTX\n"
     ]
    },
    {
     "name": "stderr",
     "output_type": "stream",
     "text": [
      " 14%|█▍        | 715/5197 [4:29:46<28:00:08, 22.49s/it]"
     ]
    },
    {
     "name": "stdout",
     "output_type": "stream",
     "text": [
      "BNZI\n"
     ]
    },
    {
     "name": "stderr",
     "output_type": "stream",
     "text": [
      " 14%|█▍        | 716/5197 [4:30:06<26:57:26, 21.66s/it]"
     ]
    },
    {
     "name": "stdout",
     "output_type": "stream",
     "text": [
      "BOC\n"
     ]
    },
    {
     "name": "stderr",
     "output_type": "stream",
     "text": [
      " 14%|█▍        | 717/5197 [4:30:31<28:22:46, 22.80s/it]"
     ]
    },
    {
     "name": "stdout",
     "output_type": "stream",
     "text": [
      "BOCN\n"
     ]
    },
    {
     "name": "stderr",
     "output_type": "stream",
     "text": [
      " 14%|█▍        | 718/5197 [4:30:51<27:27:40, 22.07s/it]"
     ]
    },
    {
     "name": "stdout",
     "output_type": "stream",
     "text": [
      "BODI\n"
     ]
    },
    {
     "name": "stderr",
     "output_type": "stream",
     "text": [
      " 14%|█▍        | 719/5197 [4:31:15<27:56:24, 22.46s/it]"
     ]
    },
    {
     "name": "stdout",
     "output_type": "stream",
     "text": [
      "BOF\n"
     ]
    },
    {
     "name": "stderr",
     "output_type": "stream",
     "text": [
      " 14%|█▍        | 720/5197 [4:31:35<27:00:08, 21.71s/it]"
     ]
    },
    {
     "name": "stdout",
     "output_type": "stream",
     "text": [
      "BOH\n"
     ]
    },
    {
     "name": "stderr",
     "output_type": "stream",
     "text": [
      " 14%|█▍        | 721/5197 [4:31:53<25:35:53, 20.59s/it]"
     ]
    },
    {
     "name": "stdout",
     "output_type": "stream",
     "text": [
      "BOKF\n"
     ]
    },
    {
     "name": "stderr",
     "output_type": "stream",
     "text": [
      " 14%|█▍        | 722/5197 [4:32:09<24:05:48, 19.39s/it]"
     ]
    },
    {
     "name": "stdout",
     "output_type": "stream",
     "text": [
      "BOLT\n"
     ]
    },
    {
     "name": "stderr",
     "output_type": "stream",
     "text": [
      " 14%|█▍        | 723/5197 [4:32:34<26:02:59, 20.96s/it]"
     ]
    },
    {
     "name": "stdout",
     "output_type": "stream",
     "text": [
      "BON\n"
     ]
    },
    {
     "name": "stderr",
     "output_type": "stream",
     "text": [
      " 14%|█▍        | 724/5197 [4:33:00<27:46:06, 22.35s/it]"
     ]
    },
    {
     "name": "stdout",
     "output_type": "stream",
     "text": [
      "BOOM\n"
     ]
    },
    {
     "name": "stderr",
     "output_type": "stream",
     "text": [
      " 14%|█▍        | 725/5197 [4:33:20<27:00:42, 21.74s/it]"
     ]
    },
    {
     "name": "stdout",
     "output_type": "stream",
     "text": [
      "BOOT\n"
     ]
    },
    {
     "name": "stderr",
     "output_type": "stream",
     "text": [
      " 14%|█▍        | 726/5197 [4:33:39<25:52:15, 20.83s/it]"
     ]
    },
    {
     "name": "stdout",
     "output_type": "stream",
     "text": [
      "BORR\n"
     ]
    },
    {
     "name": "stderr",
     "output_type": "stream",
     "text": [
      " 14%|█▍        | 727/5197 [4:33:58<25:13:34, 20.32s/it]"
     ]
    },
    {
     "name": "stdout",
     "output_type": "stream",
     "text": [
      "BOSC\n"
     ]
    },
    {
     "name": "stderr",
     "output_type": "stream",
     "text": [
      " 14%|█▍        | 728/5197 [4:34:18<25:09:14, 20.26s/it]"
     ]
    },
    {
     "name": "stdout",
     "output_type": "stream",
     "text": [
      "BOTJ\n"
     ]
    },
    {
     "name": "stderr",
     "output_type": "stream",
     "text": [
      " 14%|█▍        | 729/5197 [4:34:44<27:25:06, 22.09s/it]"
     ]
    },
    {
     "name": "stdout",
     "output_type": "stream",
     "text": [
      "BOWL\n"
     ]
    },
    {
     "name": "stderr",
     "output_type": "stream",
     "text": [
      " 14%|█▍        | 730/5197 [4:35:00<25:04:13, 20.20s/it]"
     ]
    },
    {
     "name": "stdout",
     "output_type": "stream",
     "text": [
      "BOWN\n"
     ]
    },
    {
     "name": "stderr",
     "output_type": "stream",
     "text": [
      " 14%|█▍        | 731/5197 [4:35:19<24:31:21, 19.77s/it]"
     ]
    },
    {
     "name": "stdout",
     "output_type": "stream",
     "text": [
      "BOX\n"
     ]
    },
    {
     "name": "stderr",
     "output_type": "stream",
     "text": [
      " 14%|█▍        | 732/5197 [4:35:39<24:32:43, 19.79s/it]"
     ]
    },
    {
     "name": "stdout",
     "output_type": "stream",
     "text": [
      "BOXL\n"
     ]
    },
    {
     "name": "stderr",
     "output_type": "stream",
     "text": [
      " 14%|█▍        | 733/5197 [4:35:59<24:36:56, 19.85s/it]"
     ]
    },
    {
     "name": "stdout",
     "output_type": "stream",
     "text": [
      "BPMC\n"
     ]
    },
    {
     "name": "stderr",
     "output_type": "stream",
     "text": [
      " 14%|█▍        | 734/5197 [4:36:20<25:19:24, 20.43s/it]"
     ]
    },
    {
     "name": "stdout",
     "output_type": "stream",
     "text": [
      "BPOP\n"
     ]
    },
    {
     "name": "stderr",
     "output_type": "stream",
     "text": [
      " 14%|█▍        | 735/5197 [4:36:37<23:52:21, 19.26s/it]"
     ]
    },
    {
     "name": "stdout",
     "output_type": "stream",
     "text": [
      "BPRN\n"
     ]
    },
    {
     "name": "stderr",
     "output_type": "stream",
     "text": [
      " 14%|█▍        | 736/5197 [4:36:59<25:02:38, 20.21s/it]"
     ]
    },
    {
     "name": "stdout",
     "output_type": "stream",
     "text": [
      "BPTH\n"
     ]
    },
    {
     "name": "stderr",
     "output_type": "stream",
     "text": [
      " 14%|█▍        | 737/5197 [4:37:19<24:44:42, 19.97s/it]"
     ]
    },
    {
     "name": "stdout",
     "output_type": "stream",
     "text": [
      "BPTS\n"
     ]
    },
    {
     "name": "stderr",
     "output_type": "stream",
     "text": [
      " 14%|█▍        | 738/5197 [4:37:33<22:44:12, 18.36s/it]"
     ]
    },
    {
     "name": "stdout",
     "output_type": "stream",
     "text": [
      "BQ\n"
     ]
    },
    {
     "name": "stderr",
     "output_type": "stream",
     "text": [
      " 14%|█▍        | 739/5197 [4:37:58<25:02:23, 20.22s/it]"
     ]
    },
    {
     "name": "stdout",
     "output_type": "stream",
     "text": [
      "BR\n"
     ]
    },
    {
     "name": "stderr",
     "output_type": "stream",
     "text": [
      " 14%|█▍        | 740/5197 [4:38:17<24:29:29, 19.78s/it]"
     ]
    },
    {
     "name": "stdout",
     "output_type": "stream",
     "text": [
      "BRAC\n"
     ]
    },
    {
     "name": "stderr",
     "output_type": "stream",
     "text": [
      " 14%|█▍        | 741/5197 [4:38:36<24:23:54, 19.71s/it]"
     ]
    },
    {
     "name": "stdout",
     "output_type": "stream",
     "text": [
      "BRAG\n"
     ]
    },
    {
     "name": "stderr",
     "output_type": "stream",
     "text": [
      " 14%|█▍        | 742/5197 [4:38:53<23:21:07, 18.87s/it]"
     ]
    },
    {
     "name": "stdout",
     "output_type": "stream",
     "text": [
      "BRBR\n"
     ]
    },
    {
     "name": "stderr",
     "output_type": "stream",
     "text": [
      " 14%|█▍        | 743/5197 [4:39:18<25:30:39, 20.62s/it]"
     ]
    },
    {
     "name": "stdout",
     "output_type": "stream",
     "text": [
      "BRBS\n"
     ]
    },
    {
     "name": "stderr",
     "output_type": "stream",
     "text": [
      " 14%|█▍        | 744/5197 [4:39:35<24:10:39, 19.55s/it]"
     ]
    },
    {
     "name": "stdout",
     "output_type": "stream",
     "text": [
      "BRC\n"
     ]
    },
    {
     "name": "stderr",
     "output_type": "stream",
     "text": [
      " 14%|█▍        | 745/5197 [4:40:01<26:45:25, 21.64s/it]"
     ]
    },
    {
     "name": "stdout",
     "output_type": "stream",
     "text": [
      "BRCC\n"
     ]
    },
    {
     "name": "stderr",
     "output_type": "stream",
     "text": [
      " 14%|█▍        | 746/5197 [4:40:18<25:05:36, 20.30s/it]"
     ]
    },
    {
     "name": "stdout",
     "output_type": "stream",
     "text": [
      "BRDG\n"
     ]
    },
    {
     "name": "stderr",
     "output_type": "stream",
     "text": [
      " 14%|█▍        | 747/5197 [4:40:33<22:54:35, 18.53s/it]"
     ]
    },
    {
     "name": "stdout",
     "output_type": "stream",
     "text": [
      "BREA\n"
     ]
    },
    {
     "name": "stderr",
     "output_type": "stream",
     "text": [
      " 14%|█▍        | 748/5197 [4:40:56<24:36:48, 19.92s/it]"
     ]
    },
    {
     "name": "stdout",
     "output_type": "stream",
     "text": [
      "BREZ\n"
     ]
    },
    {
     "name": "stderr",
     "output_type": "stream",
     "text": [
      " 14%|█▍        | 749/5197 [4:41:11<22:42:11, 18.37s/it]"
     ]
    },
    {
     "name": "stdout",
     "output_type": "stream",
     "text": [
      "BRFH\n"
     ]
    },
    {
     "name": "stderr",
     "output_type": "stream",
     "text": [
      " 14%|█▍        | 750/5197 [4:41:38<25:49:29, 20.91s/it]"
     ]
    },
    {
     "name": "stdout",
     "output_type": "stream",
     "text": [
      "BRID\n"
     ]
    },
    {
     "name": "stderr",
     "output_type": "stream",
     "text": [
      " 14%|█▍        | 751/5197 [4:41:59<25:55:12, 20.99s/it]"
     ]
    },
    {
     "name": "stdout",
     "output_type": "stream",
     "text": [
      "BRKa\n"
     ]
    },
    {
     "name": "stderr",
     "output_type": "stream",
     "text": [
      " 14%|█▍        | 752/5197 [4:42:26<28:03:57, 22.73s/it]"
     ]
    },
    {
     "name": "stdout",
     "output_type": "stream",
     "text": [
      "BRKb\n"
     ]
    },
    {
     "name": "stderr",
     "output_type": "stream",
     "text": [
      " 14%|█▍        | 753/5197 [4:42:42<25:39:14, 20.78s/it]"
     ]
    },
    {
     "name": "stdout",
     "output_type": "stream",
     "text": [
      "BRKH\n"
     ]
    },
    {
     "name": "stderr",
     "output_type": "stream",
     "text": [
      " 15%|█▍        | 754/5197 [4:43:05<26:29:30, 21.47s/it]"
     ]
    },
    {
     "name": "stdout",
     "output_type": "stream",
     "text": [
      "BRKL\n"
     ]
    },
    {
     "name": "stderr",
     "output_type": "stream",
     "text": [
      " 15%|█▍        | 755/5197 [4:43:23<25:07:14, 20.36s/it]"
     ]
    },
    {
     "name": "stdout",
     "output_type": "stream",
     "text": [
      "BRKR\n"
     ]
    },
    {
     "name": "stderr",
     "output_type": "stream",
     "text": [
      " 15%|█▍        | 756/5197 [4:43:38<23:13:57, 18.83s/it]"
     ]
    },
    {
     "name": "stdout",
     "output_type": "stream",
     "text": [
      "BRLS\n"
     ]
    },
    {
     "name": "stderr",
     "output_type": "stream",
     "text": [
      " 15%|█▍        | 757/5197 [4:43:54<22:09:58, 17.97s/it]"
     ]
    },
    {
     "name": "stdout",
     "output_type": "stream",
     "text": [
      "BRLT\n"
     ]
    },
    {
     "name": "stderr",
     "output_type": "stream",
     "text": [
      " 15%|█▍        | 758/5197 [4:44:10<21:18:51, 17.29s/it]"
     ]
    },
    {
     "name": "stdout",
     "output_type": "stream",
     "text": [
      "BRN\n"
     ]
    },
    {
     "name": "stderr",
     "output_type": "stream",
     "text": [
      " 15%|█▍        | 759/5197 [4:44:29<21:59:29, 17.84s/it]"
     ]
    },
    {
     "name": "stdout",
     "output_type": "stream",
     "text": [
      "BRO\n"
     ]
    },
    {
     "name": "stderr",
     "output_type": "stream",
     "text": [
      " 15%|█▍        | 760/5197 [4:44:49<22:59:08, 18.65s/it]"
     ]
    },
    {
     "name": "stdout",
     "output_type": "stream",
     "text": [
      "BROG\n"
     ]
    },
    {
     "name": "stderr",
     "output_type": "stream",
     "text": [
      " 15%|█▍        | 761/5197 [4:45:04<21:31:26, 17.47s/it]"
     ]
    },
    {
     "name": "stdout",
     "output_type": "stream",
     "text": [
      "BROS\n"
     ]
    },
    {
     "name": "stderr",
     "output_type": "stream",
     "text": [
      " 15%|█▍        | 762/5197 [4:45:18<20:05:37, 16.31s/it]"
     ]
    },
    {
     "name": "stdout",
     "output_type": "stream",
     "text": [
      "BRSP\n"
     ]
    },
    {
     "name": "stderr",
     "output_type": "stream",
     "text": [
      " 15%|█▍        | 763/5197 [4:45:36<20:53:59, 16.97s/it]"
     ]
    },
    {
     "name": "stdout",
     "output_type": "stream",
     "text": [
      "BRTX\n"
     ]
    },
    {
     "name": "stderr",
     "output_type": "stream",
     "text": [
      " 15%|█▍        | 764/5197 [4:45:51<20:13:14, 16.42s/it]"
     ]
    },
    {
     "name": "stdout",
     "output_type": "stream",
     "text": [
      "BRX\n"
     ]
    },
    {
     "name": "stderr",
     "output_type": "stream",
     "text": [
      " 15%|█▍        | 765/5197 [4:46:13<22:01:22, 17.89s/it]"
     ]
    },
    {
     "name": "stdout",
     "output_type": "stream",
     "text": [
      "BRY\n"
     ]
    },
    {
     "name": "stderr",
     "output_type": "stream",
     "text": [
      " 15%|█▍        | 766/5197 [4:46:29<21:18:35, 17.31s/it]"
     ]
    },
    {
     "name": "stdout",
     "output_type": "stream",
     "text": [
      "BRZE\n"
     ]
    },
    {
     "name": "stderr",
     "output_type": "stream",
     "text": [
      " 15%|█▍        | 767/5197 [4:46:52<23:45:43, 19.31s/it]"
     ]
    },
    {
     "name": "stdout",
     "output_type": "stream",
     "text": [
      "BSBK\n"
     ]
    },
    {
     "name": "stderr",
     "output_type": "stream",
     "text": [
      " 15%|█▍        | 768/5197 [4:47:14<24:42:13, 20.08s/it]"
     ]
    },
    {
     "name": "stdout",
     "output_type": "stream",
     "text": [
      "BSET\n"
     ]
    },
    {
     "name": "stderr",
     "output_type": "stream",
     "text": [
      " 15%|█▍        | 769/5197 [4:47:36<25:16:42, 20.55s/it]"
     ]
    },
    {
     "name": "stdout",
     "output_type": "stream",
     "text": [
      "BSFC\n"
     ]
    },
    {
     "name": "stderr",
     "output_type": "stream",
     "text": [
      " 15%|█▍        | 770/5197 [4:47:54<24:10:01, 19.65s/it]"
     ]
    },
    {
     "name": "stdout",
     "output_type": "stream",
     "text": [
      "BSGM\n"
     ]
    },
    {
     "name": "stderr",
     "output_type": "stream",
     "text": [
      " 15%|█▍        | 771/5197 [4:48:24<28:08:35, 22.89s/it]"
     ]
    },
    {
     "name": "stdout",
     "output_type": "stream",
     "text": [
      "BSIG\n"
     ]
    },
    {
     "name": "stderr",
     "output_type": "stream",
     "text": [
      " 15%|█▍        | 772/5197 [4:48:44<27:12:17, 22.13s/it]"
     ]
    },
    {
     "name": "stdout",
     "output_type": "stream",
     "text": [
      "BSRR\n"
     ]
    },
    {
     "name": "stderr",
     "output_type": "stream",
     "text": [
      " 15%|█▍        | 773/5197 [4:49:15<30:18:56, 24.67s/it]"
     ]
    },
    {
     "name": "stdout",
     "output_type": "stream",
     "text": [
      "BSVN\n"
     ]
    },
    {
     "name": "stderr",
     "output_type": "stream",
     "text": [
      " 15%|█▍        | 774/5197 [4:49:43<31:31:57, 25.67s/it]"
     ]
    },
    {
     "name": "stdout",
     "output_type": "stream",
     "text": [
      "BSX\n"
     ]
    },
    {
     "name": "stderr",
     "output_type": "stream",
     "text": [
      " 15%|█▍        | 775/5197 [4:50:09<31:32:56, 25.68s/it]"
     ]
    },
    {
     "name": "stdout",
     "output_type": "stream",
     "text": [
      "BSY\n"
     ]
    },
    {
     "name": "stderr",
     "output_type": "stream",
     "text": [
      " 15%|█▍        | 776/5197 [4:50:27<28:44:50, 23.41s/it]"
     ]
    },
    {
     "name": "stdout",
     "output_type": "stream",
     "text": [
      "BTAI\n"
     ]
    },
    {
     "name": "stderr",
     "output_type": "stream",
     "text": [
      " 15%|█▍        | 777/5197 [4:50:34<22:47:01, 18.56s/it]"
     ]
    },
    {
     "name": "stdout",
     "output_type": "stream",
     "text": [
      "BTBD\n"
     ]
    },
    {
     "name": "stderr",
     "output_type": "stream",
     "text": [
      " 15%|█▍        | 778/5197 [4:50:59<24:58:06, 20.34s/it]"
     ]
    },
    {
     "name": "stdout",
     "output_type": "stream",
     "text": [
      "BTBT\n"
     ]
    },
    {
     "name": "stderr",
     "output_type": "stream",
     "text": [
      " 15%|█▍        | 779/5197 [4:51:26<27:35:03, 22.48s/it]"
     ]
    },
    {
     "name": "stdout",
     "output_type": "stream",
     "text": [
      "BTCS\n"
     ]
    },
    {
     "name": "stderr",
     "output_type": "stream",
     "text": [
      " 15%|█▌        | 780/5197 [4:51:49<27:52:27, 22.72s/it]"
     ]
    },
    {
     "name": "stdout",
     "output_type": "stream",
     "text": [
      "BTCT\n"
     ]
    },
    {
     "name": "stderr",
     "output_type": "stream",
     "text": [
      " 15%|█▌        | 781/5197 [4:52:12<27:57:19, 22.79s/it]"
     ]
    },
    {
     "name": "stdout",
     "output_type": "stream",
     "text": [
      "BTCY\n"
     ]
    },
    {
     "name": "stderr",
     "output_type": "stream",
     "text": [
      " 15%|█▌        | 782/5197 [4:52:41<29:58:20, 24.44s/it]"
     ]
    },
    {
     "name": "stdout",
     "output_type": "stream",
     "text": [
      "BTDR\n"
     ]
    },
    {
     "name": "stderr",
     "output_type": "stream",
     "text": [
      " 15%|█▌        | 783/5197 [4:52:55<26:15:21, 21.41s/it]"
     ]
    },
    {
     "name": "stdout",
     "output_type": "stream",
     "text": [
      "BTE\n"
     ]
    },
    {
     "name": "stderr",
     "output_type": "stream",
     "text": [
      " 15%|█▌        | 784/5197 [4:53:10<24:03:53, 19.63s/it]"
     ]
    },
    {
     "name": "stdout",
     "output_type": "stream",
     "text": [
      "BTG\n"
     ]
    },
    {
     "name": "stderr",
     "output_type": "stream",
     "text": [
      " 15%|█▌        | 785/5197 [4:53:28<23:18:15, 19.02s/it]"
     ]
    },
    {
     "name": "stdout",
     "output_type": "stream",
     "text": [
      "BTM\n"
     ]
    },
    {
     "name": "stderr",
     "output_type": "stream",
     "text": [
      " 15%|█▌        | 786/5197 [4:53:48<23:52:05, 19.48s/it]"
     ]
    },
    {
     "name": "stdout",
     "output_type": "stream",
     "text": [
      "BTMD\n"
     ]
    },
    {
     "name": "stderr",
     "output_type": "stream",
     "text": [
      " 15%|█▌        | 787/5197 [4:54:02<21:43:57, 17.74s/it]"
     ]
    },
    {
     "name": "stdout",
     "output_type": "stream",
     "text": [
      "BTOG\n"
     ]
    },
    {
     "name": "stderr",
     "output_type": "stream",
     "text": [
      " 15%|█▌        | 788/5197 [4:54:24<23:24:35, 19.11s/it]"
     ]
    },
    {
     "name": "stdout",
     "output_type": "stream",
     "text": [
      "BTSG\n"
     ]
    },
    {
     "name": "stderr",
     "output_type": "stream",
     "text": [
      " 15%|█▌        | 789/5197 [4:54:51<26:02:42, 21.27s/it]"
     ]
    },
    {
     "name": "stdout",
     "output_type": "stream",
     "text": [
      "BTTR\n"
     ]
    },
    {
     "name": "stderr",
     "output_type": "stream",
     "text": [
      " 15%|█▌        | 790/5197 [4:55:06<23:54:08, 19.53s/it]"
     ]
    },
    {
     "name": "stdout",
     "output_type": "stream",
     "text": [
      "BTTX\n"
     ]
    },
    {
     "name": "stderr",
     "output_type": "stream",
     "text": [
      " 15%|█▌        | 791/5197 [4:55:30<25:34:27, 20.90s/it]"
     ]
    },
    {
     "name": "stdout",
     "output_type": "stream",
     "text": [
      "BTU\n"
     ]
    },
    {
     "name": "stderr",
     "output_type": "stream",
     "text": [
      " 15%|█▌        | 792/5197 [4:55:47<24:08:07, 19.72s/it]"
     ]
    },
    {
     "name": "stdout",
     "output_type": "stream",
     "text": [
      "BUJA\n"
     ]
    },
    {
     "name": "stderr",
     "output_type": "stream",
     "text": [
      " 15%|█▌        | 793/5197 [4:56:07<24:08:59, 19.74s/it]"
     ]
    },
    {
     "name": "stdout",
     "output_type": "stream",
     "text": [
      "BUR\n"
     ]
    },
    {
     "name": "stderr",
     "output_type": "stream",
     "text": [
      " 15%|█▌        | 794/5197 [4:56:23<22:37:58, 18.51s/it]"
     ]
    },
    {
     "name": "stdout",
     "output_type": "stream",
     "text": [
      "BURL\n"
     ]
    },
    {
     "name": "stderr",
     "output_type": "stream",
     "text": [
      " 15%|█▌        | 795/5197 [4:56:46<24:28:04, 20.01s/it]"
     ]
    },
    {
     "name": "stdout",
     "output_type": "stream",
     "text": [
      "BURU\n"
     ]
    },
    {
     "name": "stderr",
     "output_type": "stream",
     "text": [
      " 15%|█▌        | 796/5197 [4:56:58<21:31:40, 17.61s/it]"
     ]
    },
    {
     "name": "stdout",
     "output_type": "stream",
     "text": [
      "BUSE\n"
     ]
    },
    {
     "name": "stderr",
     "output_type": "stream",
     "text": [
      " 15%|█▌        | 797/5197 [4:57:19<22:45:53, 18.63s/it]"
     ]
    },
    {
     "name": "stdout",
     "output_type": "stream",
     "text": [
      "BV\n"
     ]
    },
    {
     "name": "stderr",
     "output_type": "stream",
     "text": [
      " 15%|█▌        | 798/5197 [4:57:42<24:17:58, 19.89s/it]"
     ]
    },
    {
     "name": "stdout",
     "output_type": "stream",
     "text": [
      "BVFL\n"
     ]
    },
    {
     "name": "stderr",
     "output_type": "stream",
     "text": [
      " 15%|█▌        | 799/5197 [4:58:02<24:22:50, 19.96s/it]"
     ]
    },
    {
     "name": "stdout",
     "output_type": "stream",
     "text": [
      "BVS\n"
     ]
    },
    {
     "name": "stderr",
     "output_type": "stream",
     "text": [
      " 15%|█▌        | 800/5197 [4:58:18<22:52:30, 18.73s/it]"
     ]
    },
    {
     "name": "stdout",
     "output_type": "stream",
     "text": [
      "BW\n"
     ]
    },
    {
     "name": "stderr",
     "output_type": "stream",
     "text": [
      " 15%|█▌        | 801/5197 [4:58:45<25:42:16, 21.05s/it]"
     ]
    },
    {
     "name": "stdout",
     "output_type": "stream",
     "text": [
      "BWA\n"
     ]
    },
    {
     "name": "stderr",
     "output_type": "stream",
     "text": [
      " 15%|█▌        | 802/5197 [4:59:08<26:40:04, 21.84s/it]"
     ]
    },
    {
     "name": "stdout",
     "output_type": "stream",
     "text": [
      "BWAQ\n"
     ]
    },
    {
     "name": "stderr",
     "output_type": "stream",
     "text": [
      " 15%|█▌        | 803/5197 [4:59:28<25:51:02, 21.18s/it]"
     ]
    },
    {
     "name": "stdout",
     "output_type": "stream",
     "text": [
      "BWAY\n"
     ]
    },
    {
     "name": "stderr",
     "output_type": "stream",
     "text": [
      " 15%|█▌        | 804/5197 [4:59:49<25:51:57, 21.20s/it]"
     ]
    },
    {
     "name": "stdout",
     "output_type": "stream",
     "text": [
      "BWB\n"
     ]
    },
    {
     "name": "stderr",
     "output_type": "stream",
     "text": [
      " 15%|█▌        | 805/5197 [5:00:11<26:11:38, 21.47s/it]"
     ]
    },
    {
     "name": "stdout",
     "output_type": "stream",
     "text": [
      "BWEN\n"
     ]
    },
    {
     "name": "stderr",
     "output_type": "stream",
     "text": [
      " 16%|█▌        | 806/5197 [5:00:34<26:50:11, 22.00s/it]"
     ]
    },
    {
     "name": "stdout",
     "output_type": "stream",
     "text": [
      "BWFG\n"
     ]
    },
    {
     "name": "stderr",
     "output_type": "stream",
     "text": [
      " 16%|█▌        | 807/5197 [5:00:52<25:19:38, 20.77s/it]"
     ]
    },
    {
     "name": "stdout",
     "output_type": "stream",
     "text": [
      "BWMN\n"
     ]
    },
    {
     "name": "stderr",
     "output_type": "stream",
     "text": [
      " 16%|█▌        | 808/5197 [5:01:17<26:34:39, 21.80s/it]"
     ]
    },
    {
     "name": "stdout",
     "output_type": "stream",
     "text": [
      "BWMX\n"
     ]
    },
    {
     "name": "stderr",
     "output_type": "stream",
     "text": [
      " 16%|█▌        | 809/5197 [5:01:42<27:55:47, 22.91s/it]"
     ]
    },
    {
     "name": "stdout",
     "output_type": "stream",
     "text": [
      "BWXT\n"
     ]
    },
    {
     "name": "stderr",
     "output_type": "stream",
     "text": [
      " 16%|█▌        | 810/5197 [5:02:01<26:35:40, 21.82s/it]"
     ]
    },
    {
     "name": "stdout",
     "output_type": "stream",
     "text": [
      "BXC\n"
     ]
    },
    {
     "name": "stderr",
     "output_type": "stream",
     "text": [
      " 16%|█▌        | 811/5197 [5:02:20<25:23:38, 20.84s/it]"
     ]
    },
    {
     "name": "stdout",
     "output_type": "stream",
     "text": [
      "BXMT\n"
     ]
    },
    {
     "name": "stderr",
     "output_type": "stream",
     "text": [
      " 16%|█▌        | 812/5197 [5:02:37<24:01:16, 19.72s/it]"
     ]
    },
    {
     "name": "stdout",
     "output_type": "stream",
     "text": [
      "BXP\n"
     ]
    },
    {
     "name": "stderr",
     "output_type": "stream",
     "text": [
      " 16%|█▌        | 813/5197 [5:02:50<21:42:46, 17.83s/it]"
     ]
    },
    {
     "name": "stdout",
     "output_type": "stream",
     "text": [
      "BXSL\n"
     ]
    },
    {
     "name": "stderr",
     "output_type": "stream",
     "text": [
      " 16%|█▌        | 814/5197 [5:03:09<21:55:07, 18.00s/it]"
     ]
    },
    {
     "name": "stdout",
     "output_type": "stream",
     "text": [
      "BY\n"
     ]
    },
    {
     "name": "stderr",
     "output_type": "stream",
     "text": [
      " 16%|█▌        | 815/5197 [5:03:28<22:24:00, 18.40s/it]"
     ]
    },
    {
     "name": "stdout",
     "output_type": "stream",
     "text": [
      "BYD\n"
     ]
    },
    {
     "name": "stderr",
     "output_type": "stream",
     "text": [
      " 16%|█▌        | 816/5197 [5:03:48<23:05:49, 18.98s/it]"
     ]
    },
    {
     "name": "stdout",
     "output_type": "stream",
     "text": [
      "BYFC\n"
     ]
    },
    {
     "name": "stderr",
     "output_type": "stream",
     "text": [
      " 16%|█▌        | 817/5197 [5:04:19<27:11:45, 22.35s/it]"
     ]
    },
    {
     "name": "stdout",
     "output_type": "stream",
     "text": [
      "BYND\n"
     ]
    },
    {
     "name": "stderr",
     "output_type": "stream",
     "text": [
      " 16%|█▌        | 818/5197 [5:04:42<27:29:42, 22.60s/it]"
     ]
    },
    {
     "name": "stdout",
     "output_type": "stream",
     "text": [
      "BYNO\n"
     ]
    },
    {
     "name": "stderr",
     "output_type": "stream",
     "text": [
      " 16%|█▌        | 819/5197 [5:05:03<26:47:32, 22.03s/it]"
     ]
    },
    {
     "name": "stdout",
     "output_type": "stream",
     "text": [
      "BYON\n"
     ]
    },
    {
     "name": "stderr",
     "output_type": "stream",
     "text": [
      " 16%|█▌        | 820/5197 [5:05:35<30:24:34, 25.01s/it]"
     ]
    },
    {
     "name": "stdout",
     "output_type": "stream",
     "text": [
      "BYRN\n"
     ]
    },
    {
     "name": "stderr",
     "output_type": "stream",
     "text": [
      " 16%|█▌        | 821/5197 [5:05:48<26:10:59, 21.54s/it]"
     ]
    },
    {
     "name": "stdout",
     "output_type": "stream",
     "text": [
      "BYSI\n"
     ]
    },
    {
     "name": "stderr",
     "output_type": "stream",
     "text": [
      " 16%|█▌        | 822/5197 [5:06:06<24:45:07, 20.37s/it]"
     ]
    },
    {
     "name": "stdout",
     "output_type": "stream",
     "text": [
      "BYU\n"
     ]
    },
    {
     "name": "stderr",
     "output_type": "stream",
     "text": [
      " 16%|█▌        | 823/5197 [5:06:23<23:42:00, 19.51s/it]"
     ]
    },
    {
     "name": "stdout",
     "output_type": "stream",
     "text": [
      "BZFD\n"
     ]
    },
    {
     "name": "stderr",
     "output_type": "stream",
     "text": [
      " 16%|█▌        | 824/5197 [5:06:41<23:08:49, 19.06s/it]"
     ]
    },
    {
     "name": "stdout",
     "output_type": "stream",
     "text": [
      "BZH\n"
     ]
    },
    {
     "name": "stderr",
     "output_type": "stream",
     "text": [
      " 16%|█▌        | 825/5197 [5:06:51<19:50:57, 16.34s/it]"
     ]
    },
    {
     "name": "stdout",
     "output_type": "stream",
     "text": [
      "C\n"
     ]
    },
    {
     "name": "stderr",
     "output_type": "stream",
     "text": [
      " 16%|█▌        | 826/5197 [5:07:17<23:27:53, 19.33s/it]"
     ]
    },
    {
     "name": "stdout",
     "output_type": "stream",
     "text": [
      "CAAP\n"
     ]
    },
    {
     "name": "stderr",
     "output_type": "stream",
     "text": [
      " 16%|█▌        | 827/5197 [5:07:36<23:01:43, 18.97s/it]"
     ]
    },
    {
     "name": "stdout",
     "output_type": "stream",
     "text": [
      "CAAS\n"
     ]
    },
    {
     "name": "stderr",
     "output_type": "stream",
     "text": [
      " 16%|█▌        | 828/5197 [5:07:58<24:19:14, 20.04s/it]"
     ]
    },
    {
     "name": "stdout",
     "output_type": "stream",
     "text": [
      "CABA\n"
     ]
    },
    {
     "name": "stderr",
     "output_type": "stream",
     "text": [
      " 16%|█▌        | 829/5197 [5:08:16<23:31:07, 19.38s/it]"
     ]
    },
    {
     "name": "stdout",
     "output_type": "stream",
     "text": [
      "CABO\n"
     ]
    },
    {
     "name": "stderr",
     "output_type": "stream",
     "text": [
      " 16%|█▌        | 830/5197 [5:08:32<22:14:40, 18.34s/it]"
     ]
    },
    {
     "name": "stdout",
     "output_type": "stream",
     "text": [
      "CAC\n"
     ]
    },
    {
     "name": "stderr",
     "output_type": "stream",
     "text": [
      " 16%|█▌        | 831/5197 [5:08:58<25:01:11, 20.63s/it]"
     ]
    },
    {
     "name": "stdout",
     "output_type": "stream",
     "text": [
      "CACC\n"
     ]
    },
    {
     "name": "stderr",
     "output_type": "stream",
     "text": [
      " 16%|█▌        | 832/5197 [5:09:13<23:02:55, 19.01s/it]"
     ]
    },
    {
     "name": "stdout",
     "output_type": "stream",
     "text": [
      "CACI\n"
     ]
    },
    {
     "name": "stderr",
     "output_type": "stream",
     "text": [
      " 16%|█▌        | 833/5197 [5:09:40<26:01:00, 21.46s/it]"
     ]
    },
    {
     "name": "stdout",
     "output_type": "stream",
     "text": [
      "CACO\n"
     ]
    },
    {
     "name": "stderr",
     "output_type": "stream",
     "text": [
      " 16%|█▌        | 834/5197 [5:10:05<27:14:17, 22.47s/it]"
     ]
    },
    {
     "name": "stdout",
     "output_type": "stream",
     "text": [
      "CADE\n"
     ]
    },
    {
     "name": "stderr",
     "output_type": "stream",
     "text": [
      " 16%|█▌        | 835/5197 [5:10:25<26:08:52, 21.58s/it]"
     ]
    },
    {
     "name": "stdout",
     "output_type": "stream",
     "text": [
      "CADL\n"
     ]
    },
    {
     "name": "stderr",
     "output_type": "stream",
     "text": [
      " 16%|█▌        | 836/5197 [5:10:42<24:38:48, 20.35s/it]"
     ]
    },
    {
     "name": "stdout",
     "output_type": "stream",
     "text": [
      "CAE\n"
     ]
    },
    {
     "name": "stderr",
     "output_type": "stream",
     "text": [
      " 16%|█▌        | 837/5197 [5:11:06<25:53:57, 21.38s/it]"
     ]
    },
    {
     "name": "stdout",
     "output_type": "stream",
     "text": [
      "CAG\n"
     ]
    },
    {
     "name": "stderr",
     "output_type": "stream",
     "text": [
      " 16%|█▌        | 838/5197 [5:11:28<26:15:19, 21.68s/it]"
     ]
    },
    {
     "name": "stdout",
     "output_type": "stream",
     "text": [
      "CAH\n"
     ]
    },
    {
     "name": "stderr",
     "output_type": "stream",
     "text": [
      " 16%|█▌        | 839/5197 [5:11:47<25:08:12, 20.76s/it]"
     ]
    },
    {
     "name": "stdout",
     "output_type": "stream",
     "text": [
      "CAKE\n"
     ]
    },
    {
     "name": "stderr",
     "output_type": "stream",
     "text": [
      " 16%|█▌        | 840/5197 [5:12:06<24:29:16, 20.23s/it]"
     ]
    },
    {
     "name": "stdout",
     "output_type": "stream",
     "text": [
      "CAL\n"
     ]
    },
    {
     "name": "stderr",
     "output_type": "stream",
     "text": [
      " 16%|█▌        | 841/5197 [5:12:28<25:02:03, 20.69s/it]"
     ]
    },
    {
     "name": "stdout",
     "output_type": "stream",
     "text": [
      "CALB\n"
     ]
    },
    {
     "name": "stderr",
     "output_type": "stream",
     "text": [
      " 16%|█▌        | 842/5197 [5:12:48<25:01:06, 20.68s/it]"
     ]
    },
    {
     "name": "stdout",
     "output_type": "stream",
     "text": [
      "CALC\n"
     ]
    },
    {
     "name": "stderr",
     "output_type": "stream",
     "text": [
      " 16%|█▌        | 843/5197 [5:13:05<23:33:22, 19.48s/it]"
     ]
    },
    {
     "name": "stdout",
     "output_type": "stream",
     "text": [
      "CALM\n"
     ]
    },
    {
     "name": "stderr",
     "output_type": "stream",
     "text": [
      " 16%|█▌        | 844/5197 [5:13:23<23:04:28, 19.08s/it]"
     ]
    },
    {
     "name": "stdout",
     "output_type": "stream",
     "text": [
      "CALT\n"
     ]
    },
    {
     "name": "stderr",
     "output_type": "stream",
     "text": [
      " 16%|█▋        | 845/5197 [5:13:49<25:41:43, 21.26s/it]"
     ]
    },
    {
     "name": "stdout",
     "output_type": "stream",
     "text": [
      "CALX\n"
     ]
    },
    {
     "name": "stderr",
     "output_type": "stream",
     "text": [
      " 16%|█▋        | 846/5197 [5:14:12<26:02:37, 21.55s/it]"
     ]
    },
    {
     "name": "stdout",
     "output_type": "stream",
     "text": [
      "CAMP\n"
     ]
    },
    {
     "name": "stderr",
     "output_type": "stream",
     "text": [
      " 16%|█▋        | 847/5197 [5:14:33<25:56:50, 21.47s/it]"
     ]
    },
    {
     "name": "stdout",
     "output_type": "stream",
     "text": [
      "CAMT\n"
     ]
    },
    {
     "name": "stderr",
     "output_type": "stream",
     "text": [
      " 16%|█▋        | 848/5197 [5:14:52<25:11:57, 20.86s/it]"
     ]
    },
    {
     "name": "stdout",
     "output_type": "stream",
     "text": [
      "CAN\n"
     ]
    },
    {
     "name": "stderr",
     "output_type": "stream",
     "text": [
      " 16%|█▋        | 849/5197 [5:15:04<21:42:53, 17.98s/it]"
     ]
    },
    {
     "name": "stdout",
     "output_type": "stream",
     "text": [
      "CANG\n"
     ]
    },
    {
     "name": "stderr",
     "output_type": "stream",
     "text": [
      " 16%|█▋        | 850/5197 [5:15:29<24:20:34, 20.16s/it]"
     ]
    },
    {
     "name": "stdout",
     "output_type": "stream",
     "text": [
      "CAPR\n"
     ]
    },
    {
     "name": "stderr",
     "output_type": "stream",
     "text": [
      " 16%|█▋        | 851/5197 [5:15:48<24:00:21, 19.89s/it]"
     ]
    },
    {
     "name": "stdout",
     "output_type": "stream",
     "text": [
      "CAPT\n"
     ]
    },
    {
     "name": "stderr",
     "output_type": "stream",
     "text": [
      " 16%|█▋        | 852/5197 [5:16:05<22:43:30, 18.83s/it]"
     ]
    },
    {
     "name": "stdout",
     "output_type": "stream",
     "text": [
      "CAR\n"
     ]
    },
    {
     "name": "stderr",
     "output_type": "stream",
     "text": [
      " 16%|█▋        | 853/5197 [5:16:32<25:49:59, 21.41s/it]"
     ]
    },
    {
     "name": "stdout",
     "output_type": "stream",
     "text": [
      "CARA\n"
     ]
    },
    {
     "name": "stderr",
     "output_type": "stream",
     "text": [
      " 16%|█▋        | 854/5197 [5:17:02<29:03:55, 24.09s/it]"
     ]
    },
    {
     "name": "stdout",
     "output_type": "stream",
     "text": [
      "CARE\n"
     ]
    },
    {
     "name": "stderr",
     "output_type": "stream",
     "text": [
      " 16%|█▋        | 855/5197 [5:17:22<27:17:58, 22.63s/it]"
     ]
    },
    {
     "name": "stdout",
     "output_type": "stream",
     "text": [
      "CARG\n"
     ]
    },
    {
     "name": "stderr",
     "output_type": "stream",
     "text": [
      " 16%|█▋        | 856/5197 [5:17:52<30:15:46, 25.10s/it]"
     ]
    },
    {
     "name": "stdout",
     "output_type": "stream",
     "text": [
      "CARM\n"
     ]
    },
    {
     "name": "stderr",
     "output_type": "stream",
     "text": [
      " 16%|█▋        | 857/5197 [5:18:22<31:46:04, 26.35s/it]"
     ]
    },
    {
     "name": "stdout",
     "output_type": "stream",
     "text": [
      "CARR\n"
     ]
    },
    {
     "name": "stderr",
     "output_type": "stream",
     "text": [
      " 17%|█▋        | 858/5197 [5:18:59<35:53:33, 29.78s/it]"
     ]
    },
    {
     "name": "stdout",
     "output_type": "stream",
     "text": [
      "CARS\n"
     ]
    },
    {
     "name": "stderr",
     "output_type": "stream",
     "text": [
      " 17%|█▋        | 859/5197 [5:19:28<35:22:19, 29.35s/it]"
     ]
    },
    {
     "name": "stdout",
     "output_type": "stream",
     "text": [
      "CART\n"
     ]
    },
    {
     "name": "stderr",
     "output_type": "stream",
     "text": [
      " 17%|█▋        | 860/5197 [5:19:59<35:59:36, 29.88s/it]"
     ]
    },
    {
     "name": "stdout",
     "output_type": "stream",
     "text": [
      "CARV\n"
     ]
    },
    {
     "name": "stderr",
     "output_type": "stream",
     "text": [
      " 17%|█▋        | 861/5197 [5:20:23<33:52:34, 28.13s/it]"
     ]
    },
    {
     "name": "stdout",
     "output_type": "stream",
     "text": [
      "CASA\n"
     ]
    },
    {
     "name": "stderr",
     "output_type": "stream",
     "text": [
      " 17%|█▋        | 862/5197 [5:20:53<34:38:48, 28.77s/it]"
     ]
    },
    {
     "name": "stdout",
     "output_type": "stream",
     "text": [
      "CASH\n"
     ]
    },
    {
     "name": "stderr",
     "output_type": "stream",
     "text": [
      " 17%|█▋        | 863/5197 [5:21:21<34:27:37, 28.62s/it]"
     ]
    },
    {
     "name": "stdout",
     "output_type": "stream",
     "text": [
      "CASI\n"
     ]
    },
    {
     "name": "stderr",
     "output_type": "stream",
     "text": [
      " 17%|█▋        | 864/5197 [5:21:50<34:28:55, 28.65s/it]"
     ]
    },
    {
     "name": "stdout",
     "output_type": "stream",
     "text": [
      "CASS\n"
     ]
    },
    {
     "name": "stderr",
     "output_type": "stream",
     "text": [
      " 17%|█▋        | 865/5197 [5:22:21<35:19:23, 29.35s/it]"
     ]
    },
    {
     "name": "stdout",
     "output_type": "stream",
     "text": [
      "CASY\n"
     ]
    },
    {
     "name": "stderr",
     "output_type": "stream",
     "text": [
      " 17%|█▋        | 866/5197 [5:22:47<34:06:56, 28.36s/it]"
     ]
    },
    {
     "name": "stdout",
     "output_type": "stream",
     "text": [
      "CAT\n"
     ]
    },
    {
     "name": "stderr",
     "output_type": "stream",
     "text": [
      " 17%|█▋        | 867/5197 [5:23:28<38:25:10, 31.94s/it]"
     ]
    },
    {
     "name": "stdout",
     "output_type": "stream",
     "text": [
      "CATC\n"
     ]
    },
    {
     "name": "stderr",
     "output_type": "stream",
     "text": [
      " 17%|█▋        | 868/5197 [5:23:55<36:39:49, 30.49s/it]"
     ]
    },
    {
     "name": "stdout",
     "output_type": "stream",
     "text": [
      "CATO\n"
     ]
    },
    {
     "name": "stderr",
     "output_type": "stream",
     "text": [
      " 17%|█▋        | 869/5197 [5:24:28<37:36:59, 31.29s/it]"
     ]
    },
    {
     "name": "stdout",
     "output_type": "stream",
     "text": [
      "CATX\n"
     ]
    },
    {
     "name": "stderr",
     "output_type": "stream",
     "text": [
      " 17%|█▋        | 870/5197 [5:24:53<35:30:02, 29.54s/it]"
     ]
    },
    {
     "name": "stdout",
     "output_type": "stream",
     "text": [
      "CATY\n"
     ]
    },
    {
     "name": "stderr",
     "output_type": "stream",
     "text": [
      " 17%|█▋        | 871/5197 [5:25:27<36:58:03, 30.76s/it]"
     ]
    },
    {
     "name": "stdout",
     "output_type": "stream",
     "text": [
      "CAUD\n"
     ]
    },
    {
     "name": "stderr",
     "output_type": "stream",
     "text": [
      " 17%|█▋        | 872/5197 [5:25:53<35:12:48, 29.31s/it]"
     ]
    },
    {
     "name": "stdout",
     "output_type": "stream",
     "text": [
      "CAVA\n"
     ]
    },
    {
     "name": "stderr",
     "output_type": "stream",
     "text": [
      " 17%|█▋        | 873/5197 [5:26:26<36:42:41, 30.56s/it]"
     ]
    },
    {
     "name": "stdout",
     "output_type": "stream",
     "text": [
      "CB\n"
     ]
    },
    {
     "name": "stderr",
     "output_type": "stream",
     "text": [
      " 17%|█▋        | 874/5197 [5:26:56<36:22:49, 30.30s/it]"
     ]
    },
    {
     "name": "stdout",
     "output_type": "stream",
     "text": [
      "CBAN\n"
     ]
    },
    {
     "name": "stderr",
     "output_type": "stream",
     "text": [
      " 17%|█▋        | 875/5197 [5:27:27<36:41:19, 30.56s/it]"
     ]
    },
    {
     "name": "stdout",
     "output_type": "stream",
     "text": [
      "CBAT\n"
     ]
    },
    {
     "name": "stderr",
     "output_type": "stream",
     "text": [
      " 17%|█▋        | 876/5197 [5:27:53<34:58:19, 29.14s/it]"
     ]
    },
    {
     "name": "stdout",
     "output_type": "stream",
     "text": [
      "CBAY\n"
     ]
    },
    {
     "name": "stderr",
     "output_type": "stream",
     "text": [
      " 17%|█▋        | 877/5197 [5:28:27<36:42:26, 30.59s/it]"
     ]
    },
    {
     "name": "stdout",
     "output_type": "stream",
     "text": [
      "CBFV\n"
     ]
    },
    {
     "name": "stderr",
     "output_type": "stream",
     "text": [
      " 17%|█▋        | 878/5197 [5:29:01<37:58:07, 31.65s/it]"
     ]
    },
    {
     "name": "stdout",
     "output_type": "stream",
     "text": [
      "CBL\n"
     ]
    },
    {
     "name": "stderr",
     "output_type": "stream",
     "text": [
      " 17%|█▋        | 879/5197 [5:29:40<40:29:22, 33.76s/it]"
     ]
    },
    {
     "name": "stdout",
     "output_type": "stream",
     "text": [
      "CBNK\n"
     ]
    },
    {
     "name": "stderr",
     "output_type": "stream",
     "text": [
      " 17%|█▋        | 880/5197 [5:30:08<38:35:25, 32.18s/it]"
     ]
    },
    {
     "name": "stdout",
     "output_type": "stream",
     "text": [
      "CBOE\n"
     ]
    },
    {
     "name": "stderr",
     "output_type": "stream",
     "text": [
      " 17%|█▋        | 881/5197 [5:30:32<35:23:57, 29.53s/it]"
     ]
    },
    {
     "name": "stdout",
     "output_type": "stream",
     "text": [
      "CBRE\n"
     ]
    },
    {
     "name": "stderr",
     "output_type": "stream",
     "text": [
      " 17%|█▋        | 882/5197 [5:31:03<35:56:02, 29.98s/it]"
     ]
    },
    {
     "name": "stdout",
     "output_type": "stream",
     "text": [
      "CBRG\n"
     ]
    },
    {
     "name": "stderr",
     "output_type": "stream",
     "text": [
      " 17%|█▋        | 883/5197 [5:31:32<35:51:53, 29.93s/it]"
     ]
    },
    {
     "name": "stdout",
     "output_type": "stream",
     "text": [
      "CBRL\n"
     ]
    },
    {
     "name": "stderr",
     "output_type": "stream",
     "text": [
      " 17%|█▋        | 884/5197 [5:32:01<35:21:54, 29.52s/it]"
     ]
    },
    {
     "name": "stdout",
     "output_type": "stream",
     "text": [
      "CBSH\n"
     ]
    },
    {
     "name": "stderr",
     "output_type": "stream",
     "text": [
      " 17%|█▋        | 885/5197 [5:32:27<34:13:36, 28.58s/it]"
     ]
    },
    {
     "name": "stdout",
     "output_type": "stream",
     "text": [
      "CBT\n"
     ]
    },
    {
     "name": "stderr",
     "output_type": "stream",
     "text": [
      " 17%|█▋        | 886/5197 [5:33:11<39:43:32, 33.17s/it]"
     ]
    },
    {
     "name": "stdout",
     "output_type": "stream",
     "text": [
      "CBU\n"
     ]
    },
    {
     "name": "stderr",
     "output_type": "stream",
     "text": [
      " 17%|█▋        | 887/5197 [5:33:52<42:16:09, 35.31s/it]"
     ]
    },
    {
     "name": "stdout",
     "output_type": "stream",
     "text": [
      "CBUS\n"
     ]
    },
    {
     "name": "stderr",
     "output_type": "stream",
     "text": [
      " 17%|█▋        | 888/5197 [5:34:29<43:02:30, 35.96s/it]"
     ]
    },
    {
     "name": "stdout",
     "output_type": "stream",
     "text": [
      "CBZ\n"
     ]
    },
    {
     "name": "stderr",
     "output_type": "stream",
     "text": [
      " 17%|█▋        | 889/5197 [5:35:02<42:02:32, 35.13s/it]"
     ]
    },
    {
     "name": "stdout",
     "output_type": "stream",
     "text": [
      "CC\n"
     ]
    },
    {
     "name": "stderr",
     "output_type": "stream",
     "text": [
      " 17%|█▋        | 890/5197 [5:35:28<38:34:35, 32.24s/it]"
     ]
    },
    {
     "name": "stdout",
     "output_type": "stream",
     "text": [
      "CCAP\n"
     ]
    },
    {
     "name": "stderr",
     "output_type": "stream",
     "text": [
      " 17%|█▋        | 891/5197 [5:35:56<37:11:44, 31.10s/it]"
     ]
    },
    {
     "name": "stdout",
     "output_type": "stream",
     "text": [
      "CCB\n"
     ]
    },
    {
     "name": "stderr",
     "output_type": "stream",
     "text": [
      " 17%|█▋        | 892/5197 [5:36:22<35:20:38, 29.56s/it]"
     ]
    },
    {
     "name": "stdout",
     "output_type": "stream",
     "text": [
      "CCBG\n"
     ]
    },
    {
     "name": "stderr",
     "output_type": "stream",
     "text": [
      " 17%|█▋        | 893/5197 [5:36:45<32:50:17, 27.47s/it]"
     ]
    },
    {
     "name": "stdout",
     "output_type": "stream",
     "text": [
      "CCCC\n"
     ]
    },
    {
     "name": "stderr",
     "output_type": "stream",
     "text": [
      " 17%|█▋        | 894/5197 [5:37:14<33:31:36, 28.05s/it]"
     ]
    },
    {
     "name": "stdout",
     "output_type": "stream",
     "text": [
      "CCCS\n"
     ]
    },
    {
     "name": "stderr",
     "output_type": "stream",
     "text": [
      " 17%|█▋        | 895/5197 [5:37:41<33:04:36, 27.68s/it]"
     ]
    },
    {
     "name": "stdout",
     "output_type": "stream",
     "text": [
      "CCEL\n"
     ]
    },
    {
     "name": "stderr",
     "output_type": "stream",
     "text": [
      " 17%|█▋        | 896/5197 [5:38:19<36:38:19, 30.67s/it]"
     ]
    },
    {
     "name": "stdout",
     "output_type": "stream",
     "text": [
      "CCEP\n"
     ]
    },
    {
     "name": "stderr",
     "output_type": "stream",
     "text": [
      " 17%|█▋        | 897/5197 [5:38:46<35:37:24, 29.82s/it]"
     ]
    },
    {
     "name": "stdout",
     "output_type": "stream",
     "text": [
      "CCG\n"
     ]
    },
    {
     "name": "stderr",
     "output_type": "stream",
     "text": [
      " 17%|█▋        | 898/5197 [5:39:15<35:10:03, 29.45s/it]"
     ]
    },
    {
     "name": "stdout",
     "output_type": "stream",
     "text": [
      "CCI\n"
     ]
    },
    {
     "name": "stderr",
     "output_type": "stream",
     "text": [
      " 17%|█▋        | 899/5197 [5:39:47<36:04:49, 30.22s/it]"
     ]
    },
    {
     "name": "stdout",
     "output_type": "stream",
     "text": [
      "CCJ\n"
     ]
    },
    {
     "name": "stderr",
     "output_type": "stream",
     "text": [
      " 17%|█▋        | 900/5197 [5:40:18<36:16:45, 30.39s/it]"
     ]
    },
    {
     "name": "stdout",
     "output_type": "stream",
     "text": [
      "CCK\n"
     ]
    },
    {
     "name": "stderr",
     "output_type": "stream",
     "text": [
      " 17%|█▋        | 901/5197 [5:40:46<35:20:40, 29.62s/it]"
     ]
    },
    {
     "name": "stdout",
     "output_type": "stream",
     "text": [
      "CCL\n"
     ]
    },
    {
     "name": "stderr",
     "output_type": "stream",
     "text": [
      " 17%|█▋        | 902/5197 [5:41:13<34:39:43, 29.05s/it]"
     ]
    },
    {
     "name": "stdout",
     "output_type": "stream",
     "text": [
      "CCLD\n"
     ]
    },
    {
     "name": "stderr",
     "output_type": "stream",
     "text": [
      " 17%|█▋        | 903/5197 [5:41:39<33:17:21, 27.91s/it]"
     ]
    },
    {
     "name": "stdout",
     "output_type": "stream",
     "text": [
      "CCNE\n"
     ]
    },
    {
     "name": "stderr",
     "output_type": "stream",
     "text": [
      " 17%|█▋        | 904/5197 [5:42:19<37:35:05, 31.52s/it]"
     ]
    },
    {
     "name": "stdout",
     "output_type": "stream",
     "text": [
      "CCO\n"
     ]
    },
    {
     "name": "stderr",
     "output_type": "stream",
     "text": [
      " 17%|█▋        | 905/5197 [5:42:55<39:14:32, 32.92s/it]"
     ]
    },
    {
     "name": "stdout",
     "output_type": "stream",
     "text": [
      "CCOI\n"
     ]
    },
    {
     "name": "stderr",
     "output_type": "stream",
     "text": [
      " 17%|█▋        | 906/5197 [5:43:21<36:47:55, 30.87s/it]"
     ]
    },
    {
     "name": "stdout",
     "output_type": "stream",
     "text": [
      "CCRD\n"
     ]
    },
    {
     "name": "stderr",
     "output_type": "stream",
     "text": [
      " 17%|█▋        | 907/5197 [5:43:49<35:55:36, 30.15s/it]"
     ]
    },
    {
     "name": "stdout",
     "output_type": "stream",
     "text": [
      "CCRN\n"
     ]
    },
    {
     "name": "stderr",
     "output_type": "stream",
     "text": [
      " 17%|█▋        | 908/5197 [5:44:17<34:53:45, 29.29s/it]"
     ]
    },
    {
     "name": "stdout",
     "output_type": "stream",
     "text": [
      "CCS\n"
     ]
    },
    {
     "name": "stderr",
     "output_type": "stream",
     "text": [
      " 17%|█▋        | 909/5197 [5:44:36<31:19:42, 26.30s/it]"
     ]
    },
    {
     "name": "stdout",
     "output_type": "stream",
     "text": [
      "CCSI\n"
     ]
    },
    {
     "name": "stderr",
     "output_type": "stream",
     "text": [
      " 18%|█▊        | 910/5197 [5:45:00<30:42:35, 25.79s/it]"
     ]
    },
    {
     "name": "stdout",
     "output_type": "stream",
     "text": [
      "CCTG\n"
     ]
    },
    {
     "name": "stderr",
     "output_type": "stream",
     "text": [
      " 18%|█▊        | 911/5197 [5:45:30<32:01:41, 26.90s/it]"
     ]
    },
    {
     "name": "stdout",
     "output_type": "stream",
     "text": [
      "CCTS\n"
     ]
    },
    {
     "name": "stderr",
     "output_type": "stream",
     "text": [
      " 18%|█▊        | 912/5197 [5:45:57<31:58:58, 26.87s/it]"
     ]
    },
    {
     "name": "stdout",
     "output_type": "stream",
     "text": [
      "CDAQ\n"
     ]
    },
    {
     "name": "stderr",
     "output_type": "stream",
     "text": [
      " 18%|█▊        | 913/5197 [5:46:28<33:41:35, 28.31s/it]"
     ]
    },
    {
     "name": "stdout",
     "output_type": "stream",
     "text": [
      "CDE\n"
     ]
    },
    {
     "name": "stderr",
     "output_type": "stream",
     "text": [
      " 18%|█▊        | 914/5197 [5:47:06<36:53:50, 31.01s/it]"
     ]
    },
    {
     "name": "stdout",
     "output_type": "stream",
     "text": [
      "CDIO\n"
     ]
    },
    {
     "name": "stderr",
     "output_type": "stream",
     "text": [
      " 18%|█▊        | 915/5197 [5:47:33<35:41:59, 30.01s/it]"
     ]
    },
    {
     "name": "stdout",
     "output_type": "stream",
     "text": [
      "CDLX\n"
     ]
    },
    {
     "name": "stderr",
     "output_type": "stream",
     "text": [
      " 18%|█▊        | 916/5197 [5:48:06<36:39:07, 30.82s/it]"
     ]
    },
    {
     "name": "stdout",
     "output_type": "stream",
     "text": [
      "CDMO\n"
     ]
    },
    {
     "name": "stderr",
     "output_type": "stream",
     "text": [
      " 18%|█▊        | 917/5197 [5:48:28<33:17:09, 28.00s/it]"
     ]
    },
    {
     "name": "stdout",
     "output_type": "stream",
     "text": [
      "CDNA\n"
     ]
    },
    {
     "name": "stderr",
     "output_type": "stream",
     "text": [
      " 18%|█▊        | 918/5197 [5:49:04<36:24:34, 30.63s/it]"
     ]
    },
    {
     "name": "stdout",
     "output_type": "stream",
     "text": [
      "CDNS\n"
     ]
    },
    {
     "name": "stderr",
     "output_type": "stream",
     "text": [
      " 18%|█▊        | 919/5197 [5:49:38<37:33:33, 31.61s/it]"
     ]
    },
    {
     "name": "stdout",
     "output_type": "stream",
     "text": [
      "CDP\n"
     ]
    },
    {
     "name": "stderr",
     "output_type": "stream",
     "text": [
      " 18%|█▊        | 920/5197 [5:50:05<36:00:53, 30.31s/it]"
     ]
    },
    {
     "name": "stdout",
     "output_type": "stream",
     "text": [
      "CDRE\n"
     ]
    },
    {
     "name": "stderr",
     "output_type": "stream",
     "text": [
      " 18%|█▊        | 921/5197 [5:50:44<38:45:42, 32.63s/it]"
     ]
    },
    {
     "name": "stdout",
     "output_type": "stream",
     "text": [
      "CDRO\n"
     ]
    },
    {
     "name": "stderr",
     "output_type": "stream",
     "text": [
      " 18%|█▊        | 922/5197 [5:51:17<39:00:18, 32.85s/it]"
     ]
    },
    {
     "name": "stdout",
     "output_type": "stream",
     "text": [
      "CDT\n"
     ]
    },
    {
     "name": "stderr",
     "output_type": "stream",
     "text": [
      " 18%|█▊        | 923/5197 [5:51:49<38:43:31, 32.62s/it]"
     ]
    },
    {
     "name": "stdout",
     "output_type": "stream",
     "text": [
      "CDTX\n"
     ]
    },
    {
     "name": "stderr",
     "output_type": "stream",
     "text": [
      " 18%|█▊        | 924/5197 [5:52:33<42:37:20, 35.91s/it]"
     ]
    },
    {
     "name": "stdout",
     "output_type": "stream",
     "text": [
      "CDW\n"
     ]
    },
    {
     "name": "stderr",
     "output_type": "stream",
     "text": [
      " 18%|█▊        | 925/5197 [5:53:14<44:43:13, 37.69s/it]"
     ]
    },
    {
     "name": "stdout",
     "output_type": "stream",
     "text": [
      "CDXC\n"
     ]
    },
    {
     "name": "stderr",
     "output_type": "stream",
     "text": [
      " 18%|█▊        | 926/5197 [5:53:58<46:40:48, 39.35s/it]"
     ]
    },
    {
     "name": "stdout",
     "output_type": "stream",
     "text": [
      "CDXS\n"
     ]
    },
    {
     "name": "stderr",
     "output_type": "stream",
     "text": [
      " 18%|█▊        | 927/5197 [5:54:34<45:32:10, 38.39s/it]"
     ]
    },
    {
     "name": "stdout",
     "output_type": "stream",
     "text": [
      "CDZI\n"
     ]
    },
    {
     "name": "stderr",
     "output_type": "stream",
     "text": [
      " 18%|█▊        | 928/5197 [5:55:08<44:08:35, 37.23s/it]"
     ]
    },
    {
     "name": "stdout",
     "output_type": "stream",
     "text": [
      "CE\n"
     ]
    },
    {
     "name": "stderr",
     "output_type": "stream",
     "text": [
      " 18%|█▊        | 929/5197 [5:55:38<41:31:40, 35.03s/it]"
     ]
    },
    {
     "name": "stdout",
     "output_type": "stream",
     "text": [
      "CEAD\n"
     ]
    },
    {
     "name": "stderr",
     "output_type": "stream",
     "text": [
      " 18%|█▊        | 930/5197 [5:56:14<41:47:29, 35.26s/it]"
     ]
    },
    {
     "name": "stdout",
     "output_type": "stream",
     "text": [
      "CECO\n"
     ]
    },
    {
     "name": "stderr",
     "output_type": "stream",
     "text": [
      " 18%|█▊        | 931/5197 [5:56:49<41:35:23, 35.10s/it]"
     ]
    },
    {
     "name": "stdout",
     "output_type": "stream",
     "text": [
      "CEG\n"
     ]
    },
    {
     "name": "stderr",
     "output_type": "stream",
     "text": [
      " 18%|█▊        | 932/5197 [5:57:31<44:15:49, 37.36s/it]"
     ]
    },
    {
     "name": "stdout",
     "output_type": "stream",
     "text": [
      "CEI\n"
     ]
    },
    {
     "name": "stderr",
     "output_type": "stream",
     "text": [
      " 18%|█▊        | 933/5197 [5:58:04<42:32:56, 35.92s/it]"
     ]
    },
    {
     "name": "stdout",
     "output_type": "stream",
     "text": [
      "CEIX\n"
     ]
    },
    {
     "name": "stderr",
     "output_type": "stream",
     "text": [
      " 18%|█▊        | 934/5197 [5:58:43<43:36:15, 36.82s/it]"
     ]
    },
    {
     "name": "stdout",
     "output_type": "stream",
     "text": [
      "CELC\n"
     ]
    },
    {
     "name": "stderr",
     "output_type": "stream",
     "text": [
      " 18%|█▊        | 935/5197 [5:59:16<42:17:38, 35.72s/it]"
     ]
    },
    {
     "name": "stdout",
     "output_type": "stream",
     "text": [
      "CELH\n"
     ]
    },
    {
     "name": "stderr",
     "output_type": "stream",
     "text": [
      " 18%|█▊        | 936/5197 [5:59:52<42:32:43, 35.95s/it]"
     ]
    },
    {
     "name": "stdout",
     "output_type": "stream",
     "text": [
      "CELU\n"
     ]
    },
    {
     "name": "stderr",
     "output_type": "stream",
     "text": [
      " 18%|█▊        | 937/5197 [6:00:18<38:45:18, 32.75s/it]"
     ]
    },
    {
     "name": "stdout",
     "output_type": "stream",
     "text": [
      "CELZ\n"
     ]
    },
    {
     "name": "stderr",
     "output_type": "stream",
     "text": [
      " 18%|█▊        | 938/5197 [6:00:49<38:16:58, 32.36s/it]"
     ]
    },
    {
     "name": "stdout",
     "output_type": "stream",
     "text": [
      "CENN\n"
     ]
    },
    {
     "name": "stderr",
     "output_type": "stream",
     "text": [
      " 18%|█▊        | 939/5197 [6:00:59<30:21:06, 25.66s/it]"
     ]
    },
    {
     "name": "stdout",
     "output_type": "stream",
     "text": [
      "CENT\n"
     ]
    },
    {
     "name": "stderr",
     "output_type": "stream",
     "text": [
      " 18%|█▊        | 940/5197 [6:01:33<33:03:08, 27.95s/it]"
     ]
    },
    {
     "name": "stdout",
     "output_type": "stream",
     "text": [
      "CENTA\n"
     ]
    },
    {
     "name": "stderr",
     "output_type": "stream",
     "text": [
      " 18%|█▊        | 941/5197 [6:02:05<34:33:32, 29.23s/it]"
     ]
    },
    {
     "name": "stdout",
     "output_type": "stream",
     "text": [
      "CENX\n"
     ]
    },
    {
     "name": "stderr",
     "output_type": "stream",
     "text": [
      " 18%|█▊        | 942/5197 [6:02:34<34:26:50, 29.14s/it]"
     ]
    },
    {
     "name": "stdout",
     "output_type": "stream",
     "text": [
      "CERE\n"
     ]
    },
    {
     "name": "stderr",
     "output_type": "stream",
     "text": [
      " 18%|█▊        | 943/5197 [6:03:04<34:58:01, 29.59s/it]"
     ]
    },
    {
     "name": "stdout",
     "output_type": "stream",
     "text": [
      "CERO\n"
     ]
    },
    {
     "name": "stderr",
     "output_type": "stream",
     "text": [
      " 18%|█▊        | 944/5197 [6:03:32<34:23:53, 29.12s/it]"
     ]
    },
    {
     "name": "stdout",
     "output_type": "stream",
     "text": [
      "CERS\n"
     ]
    },
    {
     "name": "stderr",
     "output_type": "stream",
     "text": [
      " 18%|█▊        | 945/5197 [6:04:05<35:32:10, 30.09s/it]"
     ]
    },
    {
     "name": "stdout",
     "output_type": "stream",
     "text": [
      "CERT\n"
     ]
    },
    {
     "name": "stderr",
     "output_type": "stream",
     "text": [
      " 18%|█▊        | 946/5197 [6:04:41<37:44:36, 31.96s/it]"
     ]
    },
    {
     "name": "stdout",
     "output_type": "stream",
     "text": [
      "CETU\n"
     ]
    },
    {
     "name": "stderr",
     "output_type": "stream",
     "text": [
      " 18%|█▊        | 947/5197 [6:05:10<36:30:03, 30.92s/it]"
     ]
    },
    {
     "name": "stdout",
     "output_type": "stream",
     "text": [
      "CETX\n"
     ]
    },
    {
     "name": "stderr",
     "output_type": "stream",
     "text": [
      " 18%|█▊        | 948/5197 [6:05:47<38:39:31, 32.75s/it]"
     ]
    },
    {
     "name": "stdout",
     "output_type": "stream",
     "text": [
      "CETY\n"
     ]
    },
    {
     "name": "stderr",
     "output_type": "stream",
     "text": [
      " 18%|█▊        | 949/5197 [6:06:10<35:24:05, 30.00s/it]"
     ]
    },
    {
     "name": "stdout",
     "output_type": "stream",
     "text": [
      "CEVA\n"
     ]
    },
    {
     "name": "stderr",
     "output_type": "stream",
     "text": [
      " 18%|█▊        | 950/5197 [6:06:49<38:28:18, 32.61s/it]"
     ]
    },
    {
     "name": "stdout",
     "output_type": "stream",
     "text": [
      "CF\n"
     ]
    },
    {
     "name": "stderr",
     "output_type": "stream",
     "text": [
      " 18%|█▊        | 951/5197 [6:07:29<41:05:38, 34.84s/it]"
     ]
    },
    {
     "name": "stdout",
     "output_type": "stream",
     "text": [
      "CFB\n"
     ]
    },
    {
     "name": "stderr",
     "output_type": "stream",
     "text": [
      " 18%|█▊        | 952/5197 [6:08:02<40:20:21, 34.21s/it]"
     ]
    },
    {
     "name": "stdout",
     "output_type": "stream",
     "text": [
      "CFBK\n"
     ]
    },
    {
     "name": "stderr",
     "output_type": "stream",
     "text": [
      " 18%|█▊        | 953/5197 [6:08:38<40:59:07, 34.77s/it]"
     ]
    },
    {
     "name": "stdout",
     "output_type": "stream",
     "text": [
      "CFFI\n"
     ]
    },
    {
     "name": "stderr",
     "output_type": "stream",
     "text": [
      " 18%|█▊        | 954/5197 [6:09:13<41:20:55, 35.08s/it]"
     ]
    },
    {
     "name": "stdout",
     "output_type": "stream",
     "text": [
      "CFFN\n"
     ]
    },
    {
     "name": "stderr",
     "output_type": "stream",
     "text": [
      " 18%|█▊        | 955/5197 [6:09:43<39:12:53, 33.28s/it]"
     ]
    },
    {
     "name": "stdout",
     "output_type": "stream",
     "text": [
      "CFFS\n"
     ]
    },
    {
     "name": "stderr",
     "output_type": "stream",
     "text": [
      " 18%|█▊        | 956/5197 [6:10:20<40:38:25, 34.50s/it]"
     ]
    },
    {
     "name": "stdout",
     "output_type": "stream",
     "text": [
      "CFG\n"
     ]
    },
    {
     "name": "stderr",
     "output_type": "stream",
     "text": [
      " 18%|█▊        | 957/5197 [6:10:54<40:40:02, 34.53s/it]"
     ]
    },
    {
     "name": "stdout",
     "output_type": "stream",
     "text": [
      "CFLT\n"
     ]
    },
    {
     "name": "stderr",
     "output_type": "stream",
     "text": [
      " 18%|█▊        | 958/5197 [6:11:29<40:42:22, 34.57s/it]"
     ]
    },
    {
     "name": "stdout",
     "output_type": "stream",
     "text": [
      "CFR\n"
     ]
    },
    {
     "name": "stderr",
     "output_type": "stream",
     "text": [
      " 18%|█▊        | 959/5197 [6:12:06<41:26:02, 35.20s/it]"
     ]
    },
    {
     "name": "stdout",
     "output_type": "stream",
     "text": [
      "CFSB\n"
     ]
    },
    {
     "name": "stderr",
     "output_type": "stream",
     "text": [
      " 18%|█▊        | 960/5197 [6:12:31<37:55:36, 32.22s/it]"
     ]
    },
    {
     "name": "stdout",
     "output_type": "stream",
     "text": [
      "CGA\n"
     ]
    },
    {
     "name": "stderr",
     "output_type": "stream",
     "text": [
      " 18%|█▊        | 961/5197 [6:13:06<38:41:51, 32.89s/it]"
     ]
    },
    {
     "name": "stdout",
     "output_type": "stream",
     "text": [
      "CGAU\n"
     ]
    },
    {
     "name": "stderr",
     "output_type": "stream",
     "text": [
      " 19%|█▊        | 962/5197 [6:13:32<36:14:29, 30.81s/it]"
     ]
    },
    {
     "name": "stdout",
     "output_type": "stream",
     "text": [
      "CGBD\n"
     ]
    },
    {
     "name": "stderr",
     "output_type": "stream",
     "text": [
      " 19%|█▊        | 963/5197 [6:13:44<29:38:58, 25.21s/it]"
     ]
    },
    {
     "name": "stdout",
     "output_type": "stream",
     "text": [
      "CGC\n"
     ]
    },
    {
     "name": "stderr",
     "output_type": "stream",
     "text": [
      " 19%|█▊        | 964/5197 [6:13:57<25:33:47, 21.74s/it]"
     ]
    },
    {
     "name": "stdout",
     "output_type": "stream",
     "text": [
      "CGEM\n"
     ]
    },
    {
     "name": "stderr",
     "output_type": "stream",
     "text": [
      " 19%|█▊        | 965/5197 [6:14:02<19:39:49, 16.73s/it]"
     ]
    },
    {
     "name": "stdout",
     "output_type": "stream",
     "text": [
      "CGEN\n"
     ]
    },
    {
     "name": "stderr",
     "output_type": "stream",
     "text": [
      " 19%|█▊        | 966/5197 [6:14:11<16:48:29, 14.30s/it]"
     ]
    },
    {
     "name": "stdout",
     "output_type": "stream",
     "text": [
      "CGNT\n"
     ]
    },
    {
     "name": "stderr",
     "output_type": "stream",
     "text": [
      " 19%|█▊        | 967/5197 [6:14:19<14:26:47, 12.29s/it]"
     ]
    },
    {
     "name": "stdout",
     "output_type": "stream",
     "text": [
      "CGNX\n"
     ]
    },
    {
     "name": "stderr",
     "output_type": "stream",
     "text": [
      " 19%|█▊        | 968/5197 [6:14:28<13:16:19, 11.30s/it]"
     ]
    },
    {
     "name": "stdout",
     "output_type": "stream",
     "text": [
      "CGON\n"
     ]
    },
    {
     "name": "stderr",
     "output_type": "stream",
     "text": [
      " 19%|█▊        | 969/5197 [6:14:32<11:00:00,  9.37s/it]"
     ]
    },
    {
     "name": "stdout",
     "output_type": "stream",
     "text": [
      "CGTX\n"
     ]
    },
    {
     "name": "stderr",
     "output_type": "stream",
     "text": [
      " 19%|█▊        | 970/5197 [6:14:44<11:42:25,  9.97s/it]"
     ]
    },
    {
     "name": "stdout",
     "output_type": "stream",
     "text": [
      "CHAA\n"
     ]
    },
    {
     "name": "stderr",
     "output_type": "stream",
     "text": [
      " 19%|█▊        | 971/5197 [6:14:55<12:04:36, 10.29s/it]"
     ]
    },
    {
     "name": "stdout",
     "output_type": "stream",
     "text": [
      "CHCI\n"
     ]
    },
    {
     "name": "stderr",
     "output_type": "stream",
     "text": [
      " 19%|█▊        | 972/5197 [6:15:02<11:05:14,  9.45s/it]"
     ]
    },
    {
     "name": "stdout",
     "output_type": "stream",
     "text": [
      "CHCO\n"
     ]
    },
    {
     "name": "stderr",
     "output_type": "stream",
     "text": [
      " 19%|█▊        | 973/5197 [6:15:11<10:47:01,  9.19s/it]"
     ]
    },
    {
     "name": "stdout",
     "output_type": "stream",
     "text": [
      "CHCT\n"
     ]
    },
    {
     "name": "stderr",
     "output_type": "stream",
     "text": [
      " 19%|█▊        | 974/5197 [6:15:19<10:25:32,  8.89s/it]"
     ]
    },
    {
     "name": "stdout",
     "output_type": "stream",
     "text": [
      "CHD\n"
     ]
    },
    {
     "name": "stderr",
     "output_type": "stream",
     "text": [
      " 19%|█▉        | 975/5197 [6:15:29<10:38:49,  9.08s/it]"
     ]
    },
    {
     "name": "stdout",
     "output_type": "stream",
     "text": [
      "CHDN\n"
     ]
    },
    {
     "name": "stderr",
     "output_type": "stream",
     "text": [
      " 19%|█▉        | 976/5197 [6:15:34<9:11:02,  7.83s/it] "
     ]
    },
    {
     "name": "stdout",
     "output_type": "stream",
     "text": [
      "CHE\n"
     ]
    },
    {
     "name": "stderr",
     "output_type": "stream",
     "text": [
      " 19%|█▉        | 977/5197 [6:15:42<9:28:59,  8.09s/it]"
     ]
    },
    {
     "name": "stdout",
     "output_type": "stream",
     "text": [
      "CHEF\n"
     ]
    },
    {
     "name": "stderr",
     "output_type": "stream",
     "text": [
      " 19%|█▉        | 978/5197 [6:15:48<8:49:33,  7.53s/it]"
     ]
    },
    {
     "name": "stdout",
     "output_type": "stream",
     "text": [
      "CHEK\n"
     ]
    },
    {
     "name": "stderr",
     "output_type": "stream",
     "text": [
      " 19%|█▉        | 979/5197 [6:15:55<8:34:43,  7.32s/it]"
     ]
    },
    {
     "name": "stdout",
     "output_type": "stream",
     "text": [
      "CHGG\n"
     ]
    },
    {
     "name": "stderr",
     "output_type": "stream",
     "text": [
      " 19%|█▉        | 980/5197 [6:16:01<8:06:31,  6.92s/it]"
     ]
    },
    {
     "name": "stdout",
     "output_type": "stream",
     "text": [
      "CHH\n"
     ]
    },
    {
     "name": "stderr",
     "output_type": "stream",
     "text": [
      " 19%|█▉        | 981/5197 [6:16:06<7:29:48,  6.40s/it]"
     ]
    },
    {
     "name": "stdout",
     "output_type": "stream",
     "text": [
      "CHK\n"
     ]
    },
    {
     "name": "stderr",
     "output_type": "stream",
     "text": [
      " 19%|█▉        | 982/5197 [6:16:11<6:57:12,  5.94s/it]"
     ]
    },
    {
     "name": "stdout",
     "output_type": "stream",
     "text": [
      "CHKP\n"
     ]
    },
    {
     "name": "stderr",
     "output_type": "stream",
     "text": [
      " 19%|█▉        | 983/5197 [6:16:16<6:30:09,  5.56s/it]"
     ]
    },
    {
     "name": "stdout",
     "output_type": "stream",
     "text": [
      "CHMG\n"
     ]
    },
    {
     "name": "stderr",
     "output_type": "stream",
     "text": [
      " 19%|█▉        | 984/5197 [6:16:21<6:23:57,  5.47s/it]"
     ]
    },
    {
     "name": "stdout",
     "output_type": "stream",
     "text": [
      "CHMI\n"
     ]
    },
    {
     "name": "stderr",
     "output_type": "stream",
     "text": [
      " 19%|█▉        | 985/5197 [6:16:27<6:20:09,  5.42s/it]"
     ]
    },
    {
     "name": "stdout",
     "output_type": "stream",
     "text": [
      "CHNR\n"
     ]
    },
    {
     "name": "stderr",
     "output_type": "stream",
     "text": [
      " 19%|█▉        | 986/5197 [6:16:31<6:01:26,  5.15s/it]"
     ]
    },
    {
     "name": "stdout",
     "output_type": "stream",
     "text": [
      "CHPT\n"
     ]
    },
    {
     "name": "stderr",
     "output_type": "stream",
     "text": [
      " 19%|█▉        | 987/5197 [6:16:36<5:47:40,  4.96s/it]"
     ]
    },
    {
     "name": "stdout",
     "output_type": "stream",
     "text": [
      "CHR\n"
     ]
    },
    {
     "name": "stderr",
     "output_type": "stream",
     "text": [
      " 19%|█▉        | 988/5197 [6:16:42<6:13:49,  5.33s/it]"
     ]
    },
    {
     "name": "stdout",
     "output_type": "stream",
     "text": [
      "CHRD\n"
     ]
    },
    {
     "name": "stderr",
     "output_type": "stream",
     "text": [
      " 19%|█▉        | 989/5197 [6:16:48<6:24:39,  5.48s/it]"
     ]
    },
    {
     "name": "stdout",
     "output_type": "stream",
     "text": [
      "CHRO\n"
     ]
    },
    {
     "name": "stderr",
     "output_type": "stream",
     "text": [
      " 19%|█▉        | 990/5197 [6:16:52<6:01:04,  5.15s/it]"
     ]
    },
    {
     "name": "stdout",
     "output_type": "stream",
     "text": [
      "CHRS\n"
     ]
    },
    {
     "name": "stderr",
     "output_type": "stream",
     "text": [
      " 19%|█▉        | 991/5197 [6:16:58<6:23:37,  5.47s/it]"
     ]
    },
    {
     "name": "stdout",
     "output_type": "stream",
     "text": [
      "CHRW\n"
     ]
    },
    {
     "name": "stderr",
     "output_type": "stream",
     "text": [
      " 19%|█▉        | 992/5197 [6:17:03<6:05:38,  5.22s/it]"
     ]
    },
    {
     "name": "stdout",
     "output_type": "stream",
     "text": [
      "CHSN\n"
     ]
    },
    {
     "name": "stderr",
     "output_type": "stream",
     "text": [
      " 19%|█▉        | 993/5197 [6:17:09<6:15:31,  5.36s/it]"
     ]
    },
    {
     "name": "stdout",
     "output_type": "stream",
     "text": [
      "CHTR\n"
     ]
    },
    {
     "name": "stderr",
     "output_type": "stream",
     "text": [
      " 19%|█▉        | 994/5197 [6:17:15<6:29:23,  5.56s/it]"
     ]
    },
    {
     "name": "stdout",
     "output_type": "stream",
     "text": [
      "CHUY\n"
     ]
    },
    {
     "name": "stderr",
     "output_type": "stream",
     "text": [
      " 19%|█▉        | 995/5197 [6:17:20<6:34:08,  5.63s/it]"
     ]
    },
    {
     "name": "stdout",
     "output_type": "stream",
     "text": [
      "CHWY\n"
     ]
    },
    {
     "name": "stderr",
     "output_type": "stream",
     "text": [
      " 19%|█▉        | 996/5197 [6:17:24<5:55:29,  5.08s/it]"
     ]
    },
    {
     "name": "stdout",
     "output_type": "stream",
     "text": [
      "CHX\n"
     ]
    },
    {
     "name": "stderr",
     "output_type": "stream",
     "text": [
      " 19%|█▉        | 997/5197 [6:17:28<5:37:15,  4.82s/it]"
     ]
    },
    {
     "name": "stdout",
     "output_type": "stream",
     "text": [
      "CI\n"
     ]
    },
    {
     "name": "stderr",
     "output_type": "stream",
     "text": [
      " 19%|█▉        | 998/5197 [6:17:34<6:04:33,  5.21s/it]"
     ]
    },
    {
     "name": "stdout",
     "output_type": "stream",
     "text": [
      "CIA\n"
     ]
    },
    {
     "name": "stderr",
     "output_type": "stream",
     "text": [
      " 19%|█▉        | 999/5197 [6:17:42<6:42:56,  5.76s/it]"
     ]
    },
    {
     "name": "stdout",
     "output_type": "stream",
     "text": [
      "CIEN\n"
     ]
    },
    {
     "name": "stderr",
     "output_type": "stream",
     "text": [
      " 19%|█▉        | 1000/5197 [6:17:47<6:34:01,  5.63s/it]"
     ]
    },
    {
     "name": "stdout",
     "output_type": "stream",
     "text": [
      "CIFR\n"
     ]
    },
    {
     "name": "stderr",
     "output_type": "stream",
     "text": [
      " 19%|█▉        | 1001/5197 [6:17:52<6:20:32,  5.44s/it]"
     ]
    },
    {
     "name": "stdout",
     "output_type": "stream",
     "text": [
      "CIGI\n"
     ]
    },
    {
     "name": "stderr",
     "output_type": "stream",
     "text": [
      " 19%|█▉        | 1002/5197 [6:17:57<6:09:23,  5.28s/it]"
     ]
    },
    {
     "name": "stdout",
     "output_type": "stream",
     "text": [
      "CIM\n"
     ]
    },
    {
     "name": "stderr",
     "output_type": "stream",
     "text": [
      " 19%|█▉        | 1003/5197 [6:18:02<6:00:31,  5.16s/it]"
     ]
    },
    {
     "name": "stdout",
     "output_type": "stream",
     "text": [
      "CINF\n"
     ]
    },
    {
     "name": "stderr",
     "output_type": "stream",
     "text": [
      " 19%|█▉        | 1004/5197 [6:18:06<5:52:57,  5.05s/it]"
     ]
    },
    {
     "name": "stdout",
     "output_type": "stream",
     "text": [
      "CING\n"
     ]
    },
    {
     "name": "stderr",
     "output_type": "stream",
     "text": [
      " 19%|█▉        | 1005/5197 [6:18:12<5:56:16,  5.10s/it]"
     ]
    },
    {
     "name": "stdout",
     "output_type": "stream",
     "text": [
      "CINT\n"
     ]
    },
    {
     "name": "stderr",
     "output_type": "stream",
     "text": [
      " 19%|█▉        | 1006/5197 [6:18:17<5:52:54,  5.05s/it]"
     ]
    },
    {
     "name": "stdout",
     "output_type": "stream",
     "text": [
      "CION\n"
     ]
    },
    {
     "name": "stderr",
     "output_type": "stream",
     "text": [
      " 19%|█▉        | 1007/5197 [6:18:23<6:15:07,  5.37s/it]"
     ]
    },
    {
     "name": "stdout",
     "output_type": "stream",
     "text": [
      "CISO\n"
     ]
    },
    {
     "name": "stderr",
     "output_type": "stream",
     "text": [
      " 19%|█▉        | 1008/5197 [6:18:28<6:09:50,  5.30s/it]"
     ]
    },
    {
     "name": "stdout",
     "output_type": "stream",
     "text": [
      "CISS\n"
     ]
    },
    {
     "name": "stderr",
     "output_type": "stream",
     "text": [
      " 19%|█▉        | 1009/5197 [6:18:33<5:58:32,  5.14s/it]"
     ]
    },
    {
     "name": "stdout",
     "output_type": "stream",
     "text": [
      "CITE\n"
     ]
    },
    {
     "name": "stderr",
     "output_type": "stream",
     "text": [
      " 19%|█▉        | 1010/5197 [6:18:37<5:45:51,  4.96s/it]"
     ]
    },
    {
     "name": "stdout",
     "output_type": "stream",
     "text": [
      "CIVB\n"
     ]
    },
    {
     "name": "stderr",
     "output_type": "stream",
     "text": [
      " 19%|█▉        | 1011/5197 [6:18:42<5:42:24,  4.91s/it]"
     ]
    },
    {
     "name": "stdout",
     "output_type": "stream",
     "text": [
      "CIVI\n"
     ]
    },
    {
     "name": "stderr",
     "output_type": "stream",
     "text": [
      " 19%|█▉        | 1012/5197 [6:18:47<5:47:59,  4.99s/it]"
     ]
    },
    {
     "name": "stdout",
     "output_type": "stream",
     "text": [
      "CIX\n"
     ]
    },
    {
     "name": "stderr",
     "output_type": "stream",
     "text": [
      " 19%|█▉        | 1013/5197 [6:18:52<5:50:02,  5.02s/it]"
     ]
    },
    {
     "name": "stdout",
     "output_type": "stream",
     "text": [
      "CJET\n"
     ]
    },
    {
     "name": "stderr",
     "output_type": "stream",
     "text": [
      " 20%|█▉        | 1014/5197 [6:18:57<5:48:33,  5.00s/it]"
     ]
    },
    {
     "name": "stdout",
     "output_type": "stream",
     "text": [
      "CJJD\n"
     ]
    },
    {
     "name": "stderr",
     "output_type": "stream",
     "text": [
      " 20%|█▉        | 1015/5197 [6:19:03<6:01:01,  5.18s/it]"
     ]
    },
    {
     "name": "stdout",
     "output_type": "stream",
     "text": [
      "CKPT\n"
     ]
    },
    {
     "name": "stderr",
     "output_type": "stream",
     "text": [
      " 20%|█▉        | 1016/5197 [6:19:08<5:52:43,  5.06s/it]"
     ]
    },
    {
     "name": "stdout",
     "output_type": "stream",
     "text": [
      "CKX\n"
     ]
    },
    {
     "name": "stderr",
     "output_type": "stream",
     "text": [
      " 20%|█▉        | 1017/5197 [6:19:13<6:09:25,  5.30s/it]"
     ]
    },
    {
     "name": "stdout",
     "output_type": "stream",
     "text": [
      "CL\n"
     ]
    },
    {
     "name": "stderr",
     "output_type": "stream",
     "text": [
      " 20%|█▉        | 1018/5197 [6:19:18<5:49:43,  5.02s/it]"
     ]
    },
    {
     "name": "stdout",
     "output_type": "stream",
     "text": [
      "CLAR\n"
     ]
    },
    {
     "name": "stderr",
     "output_type": "stream",
     "text": [
      " 20%|█▉        | 1019/5197 [6:19:23<5:48:24,  5.00s/it]"
     ]
    },
    {
     "name": "stdout",
     "output_type": "stream",
     "text": [
      "CLB\n"
     ]
    },
    {
     "name": "stderr",
     "output_type": "stream",
     "text": [
      " 20%|█▉        | 1020/5197 [6:19:28<5:44:21,  4.95s/it]"
     ]
    },
    {
     "name": "stdout",
     "output_type": "stream",
     "text": [
      "CLBK\n"
     ]
    },
    {
     "name": "stderr",
     "output_type": "stream",
     "text": [
      " 20%|█▉        | 1021/5197 [6:19:33<6:01:14,  5.19s/it]"
     ]
    },
    {
     "name": "stdout",
     "output_type": "stream",
     "text": [
      "CLBR\n"
     ]
    },
    {
     "name": "stderr",
     "output_type": "stream",
     "text": [
      " 20%|█▉        | 1022/5197 [6:19:38<5:48:47,  5.01s/it]"
     ]
    },
    {
     "name": "stdout",
     "output_type": "stream",
     "text": [
      "CLBT\n"
     ]
    },
    {
     "name": "stderr",
     "output_type": "stream",
     "text": [
      " 20%|█▉        | 1023/5197 [6:19:43<5:41:49,  4.91s/it]"
     ]
    },
    {
     "name": "stdout",
     "output_type": "stream",
     "text": [
      "CLCO\n"
     ]
    },
    {
     "name": "stderr",
     "output_type": "stream",
     "text": [
      " 20%|█▉        | 1024/5197 [6:19:46<5:18:22,  4.58s/it]"
     ]
    },
    {
     "name": "stdout",
     "output_type": "stream",
     "text": [
      "CLDI\n"
     ]
    },
    {
     "name": "stderr",
     "output_type": "stream",
     "text": [
      " 20%|█▉        | 1025/5197 [6:19:50<5:09:06,  4.45s/it]"
     ]
    },
    {
     "name": "stdout",
     "output_type": "stream",
     "text": [
      "CLDX\n"
     ]
    },
    {
     "name": "stderr",
     "output_type": "stream",
     "text": [
      " 20%|█▉        | 1026/5197 [6:19:55<5:08:19,  4.44s/it]"
     ]
    },
    {
     "name": "stdout",
     "output_type": "stream",
     "text": [
      "CLEU\n"
     ]
    },
    {
     "name": "stderr",
     "output_type": "stream",
     "text": [
      " 20%|█▉        | 1027/5197 [6:19:59<5:05:06,  4.39s/it]"
     ]
    },
    {
     "name": "stdout",
     "output_type": "stream",
     "text": [
      "CLF\n"
     ]
    },
    {
     "name": "stderr",
     "output_type": "stream",
     "text": [
      " 20%|█▉        | 1028/5197 [6:20:05<5:27:38,  4.72s/it]"
     ]
    },
    {
     "name": "stdout",
     "output_type": "stream",
     "text": [
      "CLFD\n"
     ]
    },
    {
     "name": "stderr",
     "output_type": "stream",
     "text": [
      " 20%|█▉        | 1029/5197 [6:20:10<5:39:41,  4.89s/it]"
     ]
    },
    {
     "name": "stdout",
     "output_type": "stream",
     "text": [
      "CLH\n"
     ]
    },
    {
     "name": "stderr",
     "output_type": "stream",
     "text": [
      " 20%|█▉        | 1030/5197 [6:20:15<5:33:13,  4.80s/it]"
     ]
    },
    {
     "name": "stdout",
     "output_type": "stream",
     "text": [
      "CLIR\n"
     ]
    },
    {
     "name": "stderr",
     "output_type": "stream",
     "text": [
      " 20%|█▉        | 1031/5197 [6:20:20<5:56:36,  5.14s/it]"
     ]
    },
    {
     "name": "stdout",
     "output_type": "stream",
     "text": [
      "CLMB\n"
     ]
    },
    {
     "name": "stderr",
     "output_type": "stream",
     "text": [
      " 20%|█▉        | 1032/5197 [6:20:26<5:55:22,  5.12s/it]"
     ]
    },
    {
     "name": "stdout",
     "output_type": "stream",
     "text": [
      "CLNE\n"
     ]
    },
    {
     "name": "stderr",
     "output_type": "stream",
     "text": [
      " 20%|█▉        | 1033/5197 [6:20:31<6:12:23,  5.37s/it]"
     ]
    },
    {
     "name": "stdout",
     "output_type": "stream",
     "text": [
      "CLNN\n"
     ]
    },
    {
     "name": "stderr",
     "output_type": "stream",
     "text": [
      " 20%|█▉        | 1034/5197 [6:20:36<5:55:58,  5.13s/it]"
     ]
    },
    {
     "name": "stdout",
     "output_type": "stream",
     "text": [
      "CLOE\n"
     ]
    },
    {
     "name": "stderr",
     "output_type": "stream",
     "text": [
      " 20%|█▉        | 1035/5197 [6:20:40<5:39:20,  4.89s/it]"
     ]
    },
    {
     "name": "stdout",
     "output_type": "stream",
     "text": [
      "CLOV\n"
     ]
    },
    {
     "name": "stderr",
     "output_type": "stream",
     "text": [
      " 20%|█▉        | 1036/5197 [6:20:45<5:33:43,  4.81s/it]"
     ]
    },
    {
     "name": "stdout",
     "output_type": "stream",
     "text": [
      "CLPR\n"
     ]
    },
    {
     "name": "stderr",
     "output_type": "stream",
     "text": [
      " 20%|█▉        | 1037/5197 [6:20:50<5:28:42,  4.74s/it]"
     ]
    },
    {
     "name": "stdout",
     "output_type": "stream",
     "text": [
      "CLPS\n"
     ]
    },
    {
     "name": "stderr",
     "output_type": "stream",
     "text": [
      " 20%|█▉        | 1038/5197 [6:20:54<5:19:05,  4.60s/it]"
     ]
    },
    {
     "name": "stdout",
     "output_type": "stream",
     "text": [
      "CLPT\n"
     ]
    },
    {
     "name": "stderr",
     "output_type": "stream",
     "text": [
      " 20%|█▉        | 1039/5197 [6:20:59<5:25:38,  4.70s/it]"
     ]
    },
    {
     "name": "stdout",
     "output_type": "stream",
     "text": [
      "CLRB\n"
     ]
    },
    {
     "name": "stderr",
     "output_type": "stream",
     "text": [
      " 20%|██        | 1040/5197 [6:21:03<5:24:28,  4.68s/it]"
     ]
    },
    {
     "name": "stdout",
     "output_type": "stream",
     "text": [
      "CLRC\n"
     ]
    },
    {
     "name": "stderr",
     "output_type": "stream",
     "text": [
      " 20%|██        | 1041/5197 [6:21:08<5:24:18,  4.68s/it]"
     ]
    },
    {
     "name": "stdout",
     "output_type": "stream",
     "text": [
      "CLRO\n"
     ]
    },
    {
     "name": "stderr",
     "output_type": "stream",
     "text": [
      " 20%|██        | 1042/5197 [6:21:13<5:21:35,  4.64s/it]"
     ]
    },
    {
     "name": "stdout",
     "output_type": "stream",
     "text": [
      "CLS\n"
     ]
    },
    {
     "name": "stderr",
     "output_type": "stream",
     "text": [
      " 20%|██        | 1043/5197 [6:21:19<5:54:10,  5.12s/it]"
     ]
    },
    {
     "name": "stdout",
     "output_type": "stream",
     "text": [
      "CLSD\n"
     ]
    },
    {
     "name": "stderr",
     "output_type": "stream",
     "text": [
      " 20%|██        | 1044/5197 [6:21:23<5:35:32,  4.85s/it]"
     ]
    },
    {
     "name": "stdout",
     "output_type": "stream",
     "text": [
      "CLSK\n"
     ]
    },
    {
     "name": "stderr",
     "output_type": "stream",
     "text": [
      " 20%|██        | 1045/5197 [6:21:28<5:34:03,  4.83s/it]"
     ]
    },
    {
     "name": "stdout",
     "output_type": "stream",
     "text": [
      "CLST\n"
     ]
    },
    {
     "name": "stderr",
     "output_type": "stream",
     "text": [
      " 20%|██        | 1046/5197 [6:21:32<5:26:04,  4.71s/it]"
     ]
    },
    {
     "name": "stdout",
     "output_type": "stream",
     "text": [
      "CLVR\n"
     ]
    },
    {
     "name": "stderr",
     "output_type": "stream",
     "text": [
      " 20%|██        | 1047/5197 [6:21:37<5:25:39,  4.71s/it]"
     ]
    },
    {
     "name": "stdout",
     "output_type": "stream",
     "text": [
      "CLVT\n"
     ]
    },
    {
     "name": "stderr",
     "output_type": "stream",
     "text": [
      " 20%|██        | 1048/5197 [6:21:42<5:29:54,  4.77s/it]"
     ]
    },
    {
     "name": "stdout",
     "output_type": "stream",
     "text": [
      "CLW\n"
     ]
    },
    {
     "name": "stderr",
     "output_type": "stream",
     "text": [
      " 20%|██        | 1049/5197 [6:21:47<5:39:17,  4.91s/it]"
     ]
    },
    {
     "name": "stdout",
     "output_type": "stream",
     "text": [
      "CLWT\n"
     ]
    },
    {
     "name": "stderr",
     "output_type": "stream",
     "text": [
      " 20%|██        | 1050/5197 [6:21:52<5:32:48,  4.82s/it]"
     ]
    },
    {
     "name": "stdout",
     "output_type": "stream",
     "text": [
      "CLX\n"
     ]
    },
    {
     "name": "stderr",
     "output_type": "stream",
     "text": [
      " 20%|██        | 1051/5197 [6:21:57<5:36:37,  4.87s/it]"
     ]
    },
    {
     "name": "stdout",
     "output_type": "stream",
     "text": [
      "CM\n"
     ]
    },
    {
     "name": "stderr",
     "output_type": "stream",
     "text": [
      " 20%|██        | 1052/5197 [6:22:02<5:37:57,  4.89s/it]"
     ]
    },
    {
     "name": "stdout",
     "output_type": "stream",
     "text": [
      "CMA\n"
     ]
    },
    {
     "name": "stderr",
     "output_type": "stream",
     "text": [
      " 20%|██        | 1053/5197 [6:22:06<5:30:10,  4.78s/it]"
     ]
    },
    {
     "name": "stdout",
     "output_type": "stream",
     "text": [
      "CMAX\n"
     ]
    },
    {
     "name": "stderr",
     "output_type": "stream",
     "text": [
      " 20%|██        | 1054/5197 [6:22:13<6:04:24,  5.28s/it]"
     ]
    },
    {
     "name": "stdout",
     "output_type": "stream",
     "text": [
      "CMBM\n"
     ]
    },
    {
     "name": "stderr",
     "output_type": "stream",
     "text": [
      " 20%|██        | 1055/5197 [6:22:18<5:55:59,  5.16s/it]"
     ]
    },
    {
     "name": "stdout",
     "output_type": "stream",
     "text": [
      "CMC\n"
     ]
    },
    {
     "name": "stderr",
     "output_type": "stream",
     "text": [
      " 20%|██        | 1056/5197 [6:22:23<5:59:09,  5.20s/it]"
     ]
    },
    {
     "name": "stdout",
     "output_type": "stream",
     "text": [
      "CMCA\n"
     ]
    },
    {
     "name": "stderr",
     "output_type": "stream",
     "text": [
      " 20%|██        | 1057/5197 [6:22:28<5:49:10,  5.06s/it]"
     ]
    },
    {
     "name": "stdout",
     "output_type": "stream",
     "text": [
      "CMCL\n"
     ]
    },
    {
     "name": "stderr",
     "output_type": "stream",
     "text": [
      " 20%|██        | 1058/5197 [6:22:32<5:38:56,  4.91s/it]"
     ]
    },
    {
     "name": "stdout",
     "output_type": "stream",
     "text": [
      "CMCO\n"
     ]
    },
    {
     "name": "stderr",
     "output_type": "stream",
     "text": [
      " 20%|██        | 1059/5197 [6:22:36<5:24:00,  4.70s/it]"
     ]
    },
    {
     "name": "stdout",
     "output_type": "stream",
     "text": [
      "CMCSA\n"
     ]
    },
    {
     "name": "stderr",
     "output_type": "stream",
     "text": [
      " 20%|██        | 1060/5197 [6:22:42<5:39:39,  4.93s/it]"
     ]
    },
    {
     "name": "stdout",
     "output_type": "stream",
     "text": [
      "CMCT\n"
     ]
    },
    {
     "name": "stderr",
     "output_type": "stream",
     "text": [
      " 20%|██        | 1061/5197 [6:22:48<6:06:31,  5.32s/it]"
     ]
    },
    {
     "name": "stdout",
     "output_type": "stream",
     "text": [
      "CME\n"
     ]
    },
    {
     "name": "stderr",
     "output_type": "stream",
     "text": [
      " 20%|██        | 1062/5197 [6:22:54<6:12:35,  5.41s/it]"
     ]
    },
    {
     "name": "stdout",
     "output_type": "stream",
     "text": [
      "CMG\n"
     ]
    },
    {
     "name": "stderr",
     "output_type": "stream",
     "text": [
      " 20%|██        | 1063/5197 [6:22:59<6:03:58,  5.28s/it]"
     ]
    },
    {
     "name": "stdout",
     "output_type": "stream",
     "text": [
      "CMI\n"
     ]
    },
    {
     "name": "stderr",
     "output_type": "stream",
     "text": [
      " 20%|██        | 1064/5197 [6:23:03<5:48:27,  5.06s/it]"
     ]
    },
    {
     "name": "stdout",
     "output_type": "stream",
     "text": [
      "CMLS\n"
     ]
    },
    {
     "name": "stderr",
     "output_type": "stream",
     "text": [
      " 20%|██        | 1065/5197 [6:23:08<5:45:31,  5.02s/it]"
     ]
    },
    {
     "name": "stdout",
     "output_type": "stream",
     "text": [
      "CMMB\n"
     ]
    },
    {
     "name": "stderr",
     "output_type": "stream",
     "text": [
      " 21%|██        | 1066/5197 [6:23:13<5:33:20,  4.84s/it]"
     ]
    },
    {
     "name": "stdout",
     "output_type": "stream",
     "text": [
      "CMND\n"
     ]
    },
    {
     "name": "stderr",
     "output_type": "stream",
     "text": [
      " 21%|██        | 1067/5197 [6:23:17<5:31:35,  4.82s/it]"
     ]
    },
    {
     "name": "stdout",
     "output_type": "stream",
     "text": [
      "CMP\n"
     ]
    },
    {
     "name": "stderr",
     "output_type": "stream",
     "text": [
      " 21%|██        | 1068/5197 [6:23:22<5:26:34,  4.75s/it]"
     ]
    },
    {
     "name": "stdout",
     "output_type": "stream",
     "text": [
      "CMPO\n"
     ]
    },
    {
     "name": "stderr",
     "output_type": "stream",
     "text": [
      " 21%|██        | 1069/5197 [6:23:27<5:27:37,  4.76s/it]"
     ]
    },
    {
     "name": "stdout",
     "output_type": "stream",
     "text": [
      "CMPR\n"
     ]
    },
    {
     "name": "stderr",
     "output_type": "stream",
     "text": [
      " 21%|██        | 1070/5197 [6:23:32<5:43:27,  4.99s/it]"
     ]
    },
    {
     "name": "stdout",
     "output_type": "stream",
     "text": [
      "CMPS\n"
     ]
    },
    {
     "name": "stderr",
     "output_type": "stream",
     "text": [
      " 21%|██        | 1071/5197 [6:23:37<5:46:53,  5.04s/it]"
     ]
    },
    {
     "name": "stdout",
     "output_type": "stream",
     "text": [
      "CMPX\n"
     ]
    },
    {
     "name": "stderr",
     "output_type": "stream",
     "text": [
      " 21%|██        | 1072/5197 [6:23:42<5:38:17,  4.92s/it]"
     ]
    },
    {
     "name": "stdout",
     "output_type": "stream",
     "text": [
      "CMRE\n"
     ]
    },
    {
     "name": "stderr",
     "output_type": "stream",
     "text": [
      " 21%|██        | 1073/5197 [6:23:47<5:36:15,  4.89s/it]"
     ]
    },
    {
     "name": "stdout",
     "output_type": "stream",
     "text": [
      "CMRX\n"
     ]
    },
    {
     "name": "stderr",
     "output_type": "stream",
     "text": [
      " 21%|██        | 1074/5197 [6:23:52<5:32:15,  4.84s/it]"
     ]
    },
    {
     "name": "stdout",
     "output_type": "stream",
     "text": [
      "CMS\n"
     ]
    },
    {
     "name": "stderr",
     "output_type": "stream",
     "text": [
      " 21%|██        | 1075/5197 [6:23:57<5:38:26,  4.93s/it]"
     ]
    },
    {
     "name": "stdout",
     "output_type": "stream",
     "text": [
      "CMT\n"
     ]
    },
    {
     "name": "stderr",
     "output_type": "stream",
     "text": [
      " 21%|██        | 1076/5197 [6:24:01<5:34:09,  4.87s/it]"
     ]
    },
    {
     "name": "stdout",
     "output_type": "stream",
     "text": [
      "CMTG\n"
     ]
    },
    {
     "name": "stderr",
     "output_type": "stream",
     "text": [
      " 21%|██        | 1077/5197 [6:24:06<5:32:57,  4.85s/it]"
     ]
    },
    {
     "name": "stdout",
     "output_type": "stream",
     "text": [
      "CMTL\n"
     ]
    },
    {
     "name": "stderr",
     "output_type": "stream",
     "text": [
      " 21%|██        | 1078/5197 [6:24:11<5:27:38,  4.77s/it]"
     ]
    },
    {
     "name": "stdout",
     "output_type": "stream",
     "text": [
      "CNA\n"
     ]
    },
    {
     "name": "stderr",
     "output_type": "stream",
     "text": [
      " 21%|██        | 1079/5197 [6:24:16<5:28:57,  4.79s/it]"
     ]
    },
    {
     "name": "stdout",
     "output_type": "stream",
     "text": [
      "CNC\n"
     ]
    },
    {
     "name": "stderr",
     "output_type": "stream",
     "text": [
      " 21%|██        | 1080/5197 [6:24:20<5:23:56,  4.72s/it]"
     ]
    },
    {
     "name": "stdout",
     "output_type": "stream",
     "text": [
      "CNDA\n"
     ]
    },
    {
     "name": "stderr",
     "output_type": "stream",
     "text": [
      " 21%|██        | 1081/5197 [6:24:25<5:23:50,  4.72s/it]"
     ]
    },
    {
     "name": "stdout",
     "output_type": "stream",
     "text": [
      "CNDB\n"
     ]
    },
    {
     "name": "stderr",
     "output_type": "stream",
     "text": [
      " 21%|██        | 1082/5197 [6:24:30<5:22:20,  4.70s/it]"
     ]
    },
    {
     "name": "stdout",
     "output_type": "stream",
     "text": [
      "CNDT\n"
     ]
    },
    {
     "name": "stderr",
     "output_type": "stream",
     "text": [
      " 21%|██        | 1083/5197 [6:24:35<5:28:53,  4.80s/it]"
     ]
    },
    {
     "name": "stdout",
     "output_type": "stream",
     "text": [
      "CNET\n"
     ]
    },
    {
     "name": "stderr",
     "output_type": "stream",
     "text": [
      " 21%|██        | 1084/5197 [6:24:39<5:23:40,  4.72s/it]"
     ]
    },
    {
     "name": "stdout",
     "output_type": "stream",
     "text": [
      "CNEY\n"
     ]
    },
    {
     "name": "stderr",
     "output_type": "stream",
     "text": [
      " 21%|██        | 1085/5197 [6:24:44<5:21:21,  4.69s/it]"
     ]
    },
    {
     "name": "stdout",
     "output_type": "stream",
     "text": [
      "CNF\n"
     ]
    },
    {
     "name": "stderr",
     "output_type": "stream",
     "text": [
      " 21%|██        | 1086/5197 [6:24:48<5:11:55,  4.55s/it]"
     ]
    },
    {
     "name": "stdout",
     "output_type": "stream",
     "text": [
      "CNFR\n"
     ]
    },
    {
     "name": "stderr",
     "output_type": "stream",
     "text": [
      " 21%|██        | 1087/5197 [6:24:53<5:16:46,  4.62s/it]"
     ]
    },
    {
     "name": "stdout",
     "output_type": "stream",
     "text": [
      "CNGL\n"
     ]
    },
    {
     "name": "stderr",
     "output_type": "stream",
     "text": [
      " 21%|██        | 1088/5197 [6:24:58<5:27:01,  4.78s/it]"
     ]
    },
    {
     "name": "stdout",
     "output_type": "stream",
     "text": [
      "CNHI\n"
     ]
    },
    {
     "name": "stderr",
     "output_type": "stream",
     "text": [
      " 21%|██        | 1089/5197 [6:25:02<5:17:25,  4.64s/it]"
     ]
    },
    {
     "name": "stdout",
     "output_type": "stream",
     "text": [
      "CNI\n"
     ]
    },
    {
     "name": "stderr",
     "output_type": "stream",
     "text": [
      " 21%|██        | 1090/5197 [6:25:07<5:25:16,  4.75s/it]"
     ]
    },
    {
     "name": "stdout",
     "output_type": "stream",
     "text": [
      "CNK\n"
     ]
    },
    {
     "name": "stderr",
     "output_type": "stream",
     "text": [
      " 21%|██        | 1091/5197 [6:25:12<5:31:30,  4.84s/it]"
     ]
    },
    {
     "name": "stdout",
     "output_type": "stream",
     "text": [
      "CNM\n"
     ]
    },
    {
     "name": "stderr",
     "output_type": "stream",
     "text": [
      " 21%|██        | 1092/5197 [6:25:16<5:15:49,  4.62s/it]"
     ]
    },
    {
     "name": "stdout",
     "output_type": "stream",
     "text": [
      "CNMD\n"
     ]
    },
    {
     "name": "stderr",
     "output_type": "stream",
     "text": [
      " 21%|██        | 1093/5197 [6:25:21<5:12:18,  4.57s/it]"
     ]
    },
    {
     "name": "stdout",
     "output_type": "stream",
     "text": [
      "CNNE\n"
     ]
    },
    {
     "name": "stderr",
     "output_type": "stream",
     "text": [
      " 21%|██        | 1094/5197 [6:25:26<5:23:53,  4.74s/it]"
     ]
    },
    {
     "name": "stdout",
     "output_type": "stream",
     "text": [
      "CNO\n"
     ]
    },
    {
     "name": "stderr",
     "output_type": "stream",
     "text": [
      " 21%|██        | 1095/5197 [6:25:31<5:33:22,  4.88s/it]"
     ]
    },
    {
     "name": "stdout",
     "output_type": "stream",
     "text": [
      "CNOB\n"
     ]
    },
    {
     "name": "stderr",
     "output_type": "stream",
     "text": [
      " 21%|██        | 1096/5197 [6:25:37<5:49:48,  5.12s/it]"
     ]
    },
    {
     "name": "stdout",
     "output_type": "stream",
     "text": [
      "CNP\n"
     ]
    },
    {
     "name": "stderr",
     "output_type": "stream",
     "text": [
      " 21%|██        | 1097/5197 [6:25:42<5:46:47,  5.08s/it]"
     ]
    },
    {
     "name": "stdout",
     "output_type": "stream",
     "text": [
      "CNQ\n"
     ]
    },
    {
     "name": "stderr",
     "output_type": "stream",
     "text": [
      " 21%|██        | 1098/5197 [6:25:47<5:50:07,  5.12s/it]"
     ]
    },
    {
     "name": "stdout",
     "output_type": "stream",
     "text": [
      "CNS\n"
     ]
    },
    {
     "name": "stderr",
     "output_type": "stream",
     "text": [
      " 21%|██        | 1099/5197 [6:25:52<5:48:39,  5.10s/it]"
     ]
    },
    {
     "name": "stdout",
     "output_type": "stream",
     "text": [
      "CNSL\n"
     ]
    },
    {
     "name": "stderr",
     "output_type": "stream",
     "text": [
      " 21%|██        | 1100/5197 [6:25:57<5:38:53,  4.96s/it]"
     ]
    },
    {
     "name": "stdout",
     "output_type": "stream",
     "text": [
      "CNSP\n"
     ]
    },
    {
     "name": "stderr",
     "output_type": "stream",
     "text": [
      " 21%|██        | 1101/5197 [6:26:01<5:27:38,  4.80s/it]"
     ]
    },
    {
     "name": "stdout",
     "output_type": "stream",
     "text": [
      "CNTG\n"
     ]
    },
    {
     "name": "stderr",
     "output_type": "stream",
     "text": [
      " 21%|██        | 1102/5197 [6:26:06<5:29:05,  4.82s/it]"
     ]
    },
    {
     "name": "stdout",
     "output_type": "stream",
     "text": [
      "CNTX\n"
     ]
    },
    {
     "name": "stderr",
     "output_type": "stream",
     "text": [
      " 21%|██        | 1103/5197 [6:26:13<6:09:02,  5.41s/it]"
     ]
    },
    {
     "name": "stdout",
     "output_type": "stream",
     "text": [
      "CNTY\n"
     ]
    },
    {
     "name": "stderr",
     "output_type": "stream",
     "text": [
      " 21%|██        | 1104/5197 [6:26:18<6:01:20,  5.30s/it]"
     ]
    },
    {
     "name": "stdout",
     "output_type": "stream",
     "text": [
      "CNVS\n"
     ]
    },
    {
     "name": "stderr",
     "output_type": "stream",
     "text": [
      " 21%|██▏       | 1105/5197 [6:26:23<5:47:54,  5.10s/it]"
     ]
    },
    {
     "name": "stdout",
     "output_type": "stream",
     "text": [
      "CNX\n"
     ]
    },
    {
     "name": "stderr",
     "output_type": "stream",
     "text": [
      " 21%|██▏       | 1106/5197 [6:26:27<5:41:41,  5.01s/it]"
     ]
    },
    {
     "name": "stdout",
     "output_type": "stream",
     "text": [
      "CNXA\n"
     ]
    },
    {
     "name": "stderr",
     "output_type": "stream",
     "text": [
      " 21%|██▏       | 1107/5197 [6:26:32<5:27:50,  4.81s/it]"
     ]
    },
    {
     "name": "stdout",
     "output_type": "stream",
     "text": [
      "CNXC\n"
     ]
    },
    {
     "name": "stderr",
     "output_type": "stream",
     "text": [
      " 21%|██▏       | 1108/5197 [6:26:38<5:52:10,  5.17s/it]"
     ]
    },
    {
     "name": "stdout",
     "output_type": "stream",
     "text": [
      "CNXN\n"
     ]
    },
    {
     "name": "stderr",
     "output_type": "stream",
     "text": [
      " 21%|██▏       | 1109/5197 [6:26:43<5:51:45,  5.16s/it]"
     ]
    },
    {
     "name": "stdout",
     "output_type": "stream",
     "text": [
      "COCH\n"
     ]
    },
    {
     "name": "stderr",
     "output_type": "stream",
     "text": [
      " 21%|██▏       | 1110/5197 [6:26:47<5:41:49,  5.02s/it]"
     ]
    },
    {
     "name": "stdout",
     "output_type": "stream",
     "text": [
      "COCO\n"
     ]
    },
    {
     "name": "stderr",
     "output_type": "stream",
     "text": [
      " 21%|██▏       | 1111/5197 [6:26:52<5:39:00,  4.98s/it]"
     ]
    },
    {
     "name": "stdout",
     "output_type": "stream",
     "text": [
      "COCP\n"
     ]
    },
    {
     "name": "stderr",
     "output_type": "stream",
     "text": [
      " 21%|██▏       | 1112/5197 [6:26:59<6:02:47,  5.33s/it]"
     ]
    },
    {
     "name": "stdout",
     "output_type": "stream",
     "text": [
      "CODA\n"
     ]
    },
    {
     "name": "stderr",
     "output_type": "stream",
     "text": [
      " 21%|██▏       | 1113/5197 [6:27:03<5:46:19,  5.09s/it]"
     ]
    },
    {
     "name": "stdout",
     "output_type": "stream",
     "text": [
      "CODI\n"
     ]
    },
    {
     "name": "stderr",
     "output_type": "stream",
     "text": [
      " 21%|██▏       | 1114/5197 [6:27:08<5:51:55,  5.17s/it]"
     ]
    },
    {
     "name": "stdout",
     "output_type": "stream",
     "text": [
      "CODX\n"
     ]
    },
    {
     "name": "stderr",
     "output_type": "stream",
     "text": [
      " 21%|██▏       | 1115/5197 [6:27:14<5:53:41,  5.20s/it]"
     ]
    },
    {
     "name": "stdout",
     "output_type": "stream",
     "text": [
      "COEP\n"
     ]
    },
    {
     "name": "stderr",
     "output_type": "stream",
     "text": [
      " 21%|██▏       | 1116/5197 [6:27:18<5:37:47,  4.97s/it]"
     ]
    },
    {
     "name": "stdout",
     "output_type": "stream",
     "text": [
      "COF\n"
     ]
    },
    {
     "name": "stderr",
     "output_type": "stream",
     "text": [
      " 21%|██▏       | 1117/5197 [6:27:23<5:31:47,  4.88s/it]"
     ]
    },
    {
     "name": "stdout",
     "output_type": "stream",
     "text": [
      "COFS\n"
     ]
    },
    {
     "name": "stderr",
     "output_type": "stream",
     "text": [
      " 22%|██▏       | 1118/5197 [6:27:29<5:48:59,  5.13s/it]"
     ]
    },
    {
     "name": "stdout",
     "output_type": "stream",
     "text": [
      "COGT\n"
     ]
    },
    {
     "name": "stderr",
     "output_type": "stream",
     "text": [
      " 22%|██▏       | 1119/5197 [6:27:33<5:38:23,  4.98s/it]"
     ]
    },
    {
     "name": "stdout",
     "output_type": "stream",
     "text": [
      "COHN\n"
     ]
    },
    {
     "name": "stderr",
     "output_type": "stream",
     "text": [
      " 22%|██▏       | 1120/5197 [6:27:38<5:31:35,  4.88s/it]"
     ]
    },
    {
     "name": "stdout",
     "output_type": "stream",
     "text": [
      "COHR\n"
     ]
    },
    {
     "name": "stderr",
     "output_type": "stream",
     "text": [
      " 22%|██▏       | 1121/5197 [6:27:43<5:30:45,  4.87s/it]"
     ]
    },
    {
     "name": "stdout",
     "output_type": "stream",
     "text": [
      "COHU\n"
     ]
    },
    {
     "name": "stderr",
     "output_type": "stream",
     "text": [
      " 22%|██▏       | 1122/5197 [6:27:48<5:48:39,  5.13s/it]"
     ]
    },
    {
     "name": "stdout",
     "output_type": "stream",
     "text": [
      "COIN\n"
     ]
    },
    {
     "name": "stderr",
     "output_type": "stream",
     "text": [
      " 22%|██▏       | 1123/5197 [6:27:53<5:43:08,  5.05s/it]"
     ]
    },
    {
     "name": "stdout",
     "output_type": "stream",
     "text": [
      "COKE\n"
     ]
    },
    {
     "name": "stderr",
     "output_type": "stream",
     "text": [
      " 22%|██▏       | 1124/5197 [6:27:58<5:29:39,  4.86s/it]"
     ]
    },
    {
     "name": "stdout",
     "output_type": "stream",
     "text": [
      "COLB\n"
     ]
    },
    {
     "name": "stderr",
     "output_type": "stream",
     "text": [
      " 22%|██▏       | 1125/5197 [6:28:02<5:21:21,  4.74s/it]"
     ]
    },
    {
     "name": "stdout",
     "output_type": "stream",
     "text": [
      "COLD\n"
     ]
    },
    {
     "name": "stderr",
     "output_type": "stream",
     "text": [
      " 22%|██▏       | 1126/5197 [6:28:07<5:23:59,  4.78s/it]"
     ]
    },
    {
     "name": "stdout",
     "output_type": "stream",
     "text": [
      "COLL\n"
     ]
    },
    {
     "name": "stderr",
     "output_type": "stream",
     "text": [
      " 22%|██▏       | 1127/5197 [6:28:11<5:18:37,  4.70s/it]"
     ]
    },
    {
     "name": "stdout",
     "output_type": "stream",
     "text": [
      "COLM\n"
     ]
    },
    {
     "name": "stderr",
     "output_type": "stream",
     "text": [
      " 22%|██▏       | 1128/5197 [6:28:18<5:57:16,  5.27s/it]"
     ]
    },
    {
     "name": "stdout",
     "output_type": "stream",
     "text": [
      "COMM\n"
     ]
    },
    {
     "name": "stderr",
     "output_type": "stream",
     "text": [
      " 22%|██▏       | 1129/5197 [6:28:23<5:53:03,  5.21s/it]"
     ]
    },
    {
     "name": "stdout",
     "output_type": "stream",
     "text": [
      "COMP\n"
     ]
    },
    {
     "name": "stderr",
     "output_type": "stream",
     "text": [
      " 22%|██▏       | 1130/5197 [6:28:28<5:38:52,  5.00s/it]"
     ]
    },
    {
     "name": "stdout",
     "output_type": "stream",
     "text": [
      "CONN\n"
     ]
    },
    {
     "name": "stderr",
     "output_type": "stream",
     "text": [
      " 22%|██▏       | 1131/5197 [6:28:33<5:38:57,  5.00s/it]"
     ]
    },
    {
     "name": "stdout",
     "output_type": "stream",
     "text": [
      "CONX\n"
     ]
    },
    {
     "name": "stderr",
     "output_type": "stream",
     "text": [
      " 22%|██▏       | 1132/5197 [6:28:37<5:29:40,  4.87s/it]"
     ]
    },
    {
     "name": "stdout",
     "output_type": "stream",
     "text": [
      "COO\n"
     ]
    },
    {
     "name": "stderr",
     "output_type": "stream",
     "text": [
      " 22%|██▏       | 1133/5197 [6:28:42<5:33:03,  4.92s/it]"
     ]
    },
    {
     "name": "stdout",
     "output_type": "stream",
     "text": [
      "COOK\n"
     ]
    },
    {
     "name": "stderr",
     "output_type": "stream",
     "text": [
      " 22%|██▏       | 1134/5197 [6:28:48<5:58:33,  5.29s/it]"
     ]
    },
    {
     "name": "stdout",
     "output_type": "stream",
     "text": [
      "COOL\n"
     ]
    },
    {
     "name": "stderr",
     "output_type": "stream",
     "text": [
      " 22%|██▏       | 1135/5197 [6:28:53<5:45:50,  5.11s/it]"
     ]
    },
    {
     "name": "stdout",
     "output_type": "stream",
     "text": [
      "COOLU\n"
     ]
    },
    {
     "name": "stderr",
     "output_type": "stream",
     "text": [
      " 22%|██▏       | 1136/5197 [6:28:58<5:31:29,  4.90s/it]"
     ]
    },
    {
     "name": "stdout",
     "output_type": "stream",
     "text": [
      "COOP\n"
     ]
    },
    {
     "name": "stderr",
     "output_type": "stream",
     "text": [
      " 22%|██▏       | 1137/5197 [6:29:02<5:25:39,  4.81s/it]"
     ]
    },
    {
     "name": "stdout",
     "output_type": "stream",
     "text": [
      "COP\n"
     ]
    },
    {
     "name": "stderr",
     "output_type": "stream",
     "text": [
      " 22%|██▏       | 1138/5197 [6:29:07<5:29:59,  4.88s/it]"
     ]
    },
    {
     "name": "stdout",
     "output_type": "stream",
     "text": [
      "COR\n"
     ]
    },
    {
     "name": "stderr",
     "output_type": "stream",
     "text": [
      " 22%|██▏       | 1139/5197 [6:29:12<5:27:29,  4.84s/it]"
     ]
    },
    {
     "name": "stdout",
     "output_type": "stream",
     "text": [
      "CORT\n"
     ]
    },
    {
     "name": "stderr",
     "output_type": "stream",
     "text": [
      " 22%|██▏       | 1140/5197 [6:29:17<5:29:19,  4.87s/it]"
     ]
    },
    {
     "name": "stdout",
     "output_type": "stream",
     "text": [
      "CORZ\n"
     ]
    },
    {
     "name": "stderr",
     "output_type": "stream",
     "text": [
      " 22%|██▏       | 1141/5197 [6:29:22<5:29:51,  4.88s/it]"
     ]
    },
    {
     "name": "stdout",
     "output_type": "stream",
     "text": [
      "COSM\n"
     ]
    },
    {
     "name": "stderr",
     "output_type": "stream",
     "text": [
      " 22%|██▏       | 1142/5197 [6:29:26<5:22:34,  4.77s/it]"
     ]
    },
    {
     "name": "stdout",
     "output_type": "stream",
     "text": [
      "COST\n"
     ]
    },
    {
     "name": "stderr",
     "output_type": "stream",
     "text": [
      " 22%|██▏       | 1143/5197 [6:29:31<5:24:50,  4.81s/it]"
     ]
    },
    {
     "name": "stdout",
     "output_type": "stream",
     "text": [
      "COTY\n"
     ]
    },
    {
     "name": "stderr",
     "output_type": "stream",
     "text": [
      " 22%|██▏       | 1144/5197 [6:29:39<6:28:58,  5.76s/it]"
     ]
    },
    {
     "name": "stdout",
     "output_type": "stream",
     "text": [
      "COUR\n"
     ]
    },
    {
     "name": "stderr",
     "output_type": "stream",
     "text": [
      " 22%|██▏       | 1145/5197 [6:29:44<6:08:26,  5.46s/it]"
     ]
    },
    {
     "name": "stdout",
     "output_type": "stream",
     "text": [
      "COYA\n"
     ]
    },
    {
     "name": "stderr",
     "output_type": "stream",
     "text": [
      " 22%|██▏       | 1146/5197 [6:29:48<5:47:52,  5.15s/it]"
     ]
    },
    {
     "name": "stdout",
     "output_type": "stream",
     "text": [
      "CP\n"
     ]
    },
    {
     "name": "stderr",
     "output_type": "stream",
     "text": [
      " 22%|██▏       | 1147/5197 [6:29:53<5:45:23,  5.12s/it]"
     ]
    },
    {
     "name": "stdout",
     "output_type": "stream",
     "text": [
      "CPA\n"
     ]
    },
    {
     "name": "stderr",
     "output_type": "stream",
     "text": [
      " 22%|██▏       | 1148/5197 [6:29:58<5:36:21,  4.98s/it]"
     ]
    },
    {
     "name": "stdout",
     "output_type": "stream",
     "text": [
      "CPB\n"
     ]
    },
    {
     "name": "stderr",
     "output_type": "stream",
     "text": [
      " 22%|██▏       | 1149/5197 [6:30:03<5:36:57,  4.99s/it]"
     ]
    },
    {
     "name": "stdout",
     "output_type": "stream",
     "text": [
      "CPBI\n"
     ]
    },
    {
     "name": "stderr",
     "output_type": "stream",
     "text": [
      " 22%|██▏       | 1150/5197 [6:30:07<5:19:12,  4.73s/it]"
     ]
    },
    {
     "name": "stdout",
     "output_type": "stream",
     "text": [
      "CPE\n"
     ]
    },
    {
     "name": "stderr",
     "output_type": "stream",
     "text": [
      " 22%|██▏       | 1151/5197 [6:30:12<5:20:58,  4.76s/it]"
     ]
    },
    {
     "name": "stdout",
     "output_type": "stream",
     "text": [
      "CPF\n"
     ]
    },
    {
     "name": "stderr",
     "output_type": "stream",
     "text": [
      " 22%|██▏       | 1152/5197 [6:30:17<5:24:37,  4.82s/it]"
     ]
    },
    {
     "name": "stdout",
     "output_type": "stream",
     "text": [
      "CPG\n"
     ]
    },
    {
     "name": "stderr",
     "output_type": "stream",
     "text": [
      " 22%|██▏       | 1153/5197 [6:30:22<5:25:46,  4.83s/it]"
     ]
    },
    {
     "name": "stdout",
     "output_type": "stream",
     "text": [
      "CPHC\n"
     ]
    },
    {
     "name": "stderr",
     "output_type": "stream",
     "text": [
      " 22%|██▏       | 1154/5197 [6:30:26<5:22:21,  4.78s/it]"
     ]
    },
    {
     "name": "stdout",
     "output_type": "stream",
     "text": [
      "CPHI\n"
     ]
    },
    {
     "name": "stderr",
     "output_type": "stream",
     "text": [
      " 22%|██▏       | 1155/5197 [6:30:31<5:21:27,  4.77s/it]"
     ]
    },
    {
     "name": "stdout",
     "output_type": "stream",
     "text": [
      "CPIX\n"
     ]
    },
    {
     "name": "stderr",
     "output_type": "stream",
     "text": [
      " 22%|██▏       | 1156/5197 [6:30:36<5:27:32,  4.86s/it]"
     ]
    },
    {
     "name": "stdout",
     "output_type": "stream",
     "text": [
      "CPK\n"
     ]
    },
    {
     "name": "stderr",
     "output_type": "stream",
     "text": [
      " 22%|██▏       | 1157/5197 [6:30:41<5:31:29,  4.92s/it]"
     ]
    },
    {
     "name": "stdout",
     "output_type": "stream",
     "text": [
      "CPNG\n"
     ]
    },
    {
     "name": "stderr",
     "output_type": "stream",
     "text": [
      " 22%|██▏       | 1158/5197 [6:30:46<5:28:54,  4.89s/it]"
     ]
    },
    {
     "name": "stdout",
     "output_type": "stream",
     "text": [
      "CPOP\n"
     ]
    },
    {
     "name": "stderr",
     "output_type": "stream",
     "text": [
      " 22%|██▏       | 1159/5197 [6:30:52<5:47:46,  5.17s/it]"
     ]
    },
    {
     "name": "stdout",
     "output_type": "stream",
     "text": [
      "CPRI\n"
     ]
    },
    {
     "name": "stderr",
     "output_type": "stream",
     "text": [
      " 22%|██▏       | 1160/5197 [6:30:57<5:43:16,  5.10s/it]"
     ]
    },
    {
     "name": "stdout",
     "output_type": "stream",
     "text": [
      "CPRT\n"
     ]
    },
    {
     "name": "stderr",
     "output_type": "stream",
     "text": [
      " 22%|██▏       | 1161/5197 [6:31:02<5:50:09,  5.21s/it]"
     ]
    },
    {
     "name": "stdout",
     "output_type": "stream",
     "text": [
      "CPRX\n"
     ]
    },
    {
     "name": "stderr",
     "output_type": "stream",
     "text": [
      " 22%|██▏       | 1162/5197 [6:31:07<5:46:45,  5.16s/it]"
     ]
    },
    {
     "name": "stdout",
     "output_type": "stream",
     "text": [
      "CPS\n"
     ]
    },
    {
     "name": "stderr",
     "output_type": "stream",
     "text": [
      " 22%|██▏       | 1163/5197 [6:31:12<5:37:10,  5.01s/it]"
     ]
    },
    {
     "name": "stdout",
     "output_type": "stream",
     "text": [
      "CPSH\n"
     ]
    },
    {
     "name": "stderr",
     "output_type": "stream",
     "text": [
      " 22%|██▏       | 1164/5197 [6:31:18<5:47:41,  5.17s/it]"
     ]
    },
    {
     "name": "stdout",
     "output_type": "stream",
     "text": [
      "CPSS\n"
     ]
    },
    {
     "name": "stderr",
     "output_type": "stream",
     "text": [
      " 22%|██▏       | 1165/5197 [6:31:22<5:33:33,  4.96s/it]"
     ]
    },
    {
     "name": "stdout",
     "output_type": "stream",
     "text": [
      "CPT\n"
     ]
    },
    {
     "name": "stderr",
     "output_type": "stream",
     "text": [
      " 22%|██▏       | 1166/5197 [6:31:26<5:21:10,  4.78s/it]"
     ]
    },
    {
     "name": "stdout",
     "output_type": "stream",
     "text": [
      "CPTN\n"
     ]
    },
    {
     "name": "stderr",
     "output_type": "stream",
     "text": [
      " 22%|██▏       | 1167/5197 [6:31:31<5:15:01,  4.69s/it]"
     ]
    },
    {
     "name": "stdout",
     "output_type": "stream",
     "text": [
      "CR\n"
     ]
    },
    {
     "name": "stderr",
     "output_type": "stream",
     "text": [
      " 22%|██▏       | 1168/5197 [6:31:36<5:20:43,  4.78s/it]"
     ]
    },
    {
     "name": "stdout",
     "output_type": "stream",
     "text": [
      "CRAI\n"
     ]
    },
    {
     "name": "stderr",
     "output_type": "stream",
     "text": [
      " 22%|██▏       | 1169/5197 [6:31:41<5:21:24,  4.79s/it]"
     ]
    },
    {
     "name": "stdout",
     "output_type": "stream",
     "text": [
      "CRBG\n"
     ]
    },
    {
     "name": "stderr",
     "output_type": "stream",
     "text": [
      " 23%|██▎       | 1170/5197 [6:31:46<5:22:11,  4.80s/it]"
     ]
    },
    {
     "name": "stdout",
     "output_type": "stream",
     "text": [
      "CRBP\n"
     ]
    },
    {
     "name": "stderr",
     "output_type": "stream",
     "text": [
      " 23%|██▎       | 1171/5197 [6:31:50<5:15:59,  4.71s/it]"
     ]
    },
    {
     "name": "stdout",
     "output_type": "stream",
     "text": [
      "CRBU\n"
     ]
    },
    {
     "name": "stderr",
     "output_type": "stream",
     "text": [
      " 23%|██▎       | 1172/5197 [6:31:55<5:10:03,  4.62s/it]"
     ]
    },
    {
     "name": "stdout",
     "output_type": "stream",
     "text": [
      "CRC\n"
     ]
    },
    {
     "name": "stderr",
     "output_type": "stream",
     "text": [
      " 23%|██▎       | 1173/5197 [6:31:59<5:12:28,  4.66s/it]"
     ]
    },
    {
     "name": "stdout",
     "output_type": "stream",
     "text": [
      "CRCT\n"
     ]
    },
    {
     "name": "stderr",
     "output_type": "stream",
     "text": [
      " 23%|██▎       | 1174/5197 [6:32:04<5:17:59,  4.74s/it]"
     ]
    },
    {
     "name": "stdout",
     "output_type": "stream",
     "text": [
      "CRDa\n"
     ]
    },
    {
     "name": "stderr",
     "output_type": "stream",
     "text": [
      " 23%|██▎       | 1175/5197 [6:32:08<5:06:45,  4.58s/it]"
     ]
    },
    {
     "name": "stdout",
     "output_type": "stream",
     "text": [
      "CRDb\n"
     ]
    },
    {
     "name": "stderr",
     "output_type": "stream",
     "text": [
      " 23%|██▎       | 1176/5197 [6:32:12<4:51:33,  4.35s/it]"
     ]
    },
    {
     "name": "stdout",
     "output_type": "stream",
     "text": [
      "CRDF\n"
     ]
    },
    {
     "name": "stderr",
     "output_type": "stream",
     "text": [
      " 23%|██▎       | 1177/5197 [6:32:17<4:57:25,  4.44s/it]"
     ]
    },
    {
     "name": "stdout",
     "output_type": "stream",
     "text": [
      "CRDL\n"
     ]
    },
    {
     "name": "stderr",
     "output_type": "stream",
     "text": [
      " 23%|██▎       | 1178/5197 [6:32:22<5:03:25,  4.53s/it]"
     ]
    },
    {
     "name": "stdout",
     "output_type": "stream",
     "text": [
      "CRDO\n"
     ]
    },
    {
     "name": "stderr",
     "output_type": "stream",
     "text": [
      " 23%|██▎       | 1179/5197 [6:32:26<5:01:47,  4.51s/it]"
     ]
    },
    {
     "name": "stdout",
     "output_type": "stream",
     "text": [
      "CREG\n"
     ]
    },
    {
     "name": "stderr",
     "output_type": "stream",
     "text": [
      " 23%|██▎       | 1180/5197 [6:32:31<5:01:54,  4.51s/it]"
     ]
    },
    {
     "name": "stdout",
     "output_type": "stream",
     "text": [
      "CREV\n"
     ]
    },
    {
     "name": "stderr",
     "output_type": "stream",
     "text": [
      " 23%|██▎       | 1181/5197 [6:32:35<5:03:42,  4.54s/it]"
     ]
    },
    {
     "name": "stdout",
     "output_type": "stream",
     "text": [
      "CREX\n"
     ]
    },
    {
     "name": "stderr",
     "output_type": "stream",
     "text": [
      " 23%|██▎       | 1182/5197 [6:32:40<5:05:11,  4.56s/it]"
     ]
    },
    {
     "name": "stdout",
     "output_type": "stream",
     "text": [
      "CRGO\n"
     ]
    },
    {
     "name": "stderr",
     "output_type": "stream",
     "text": [
      " 23%|██▎       | 1183/5197 [6:32:45<5:16:16,  4.73s/it]"
     ]
    },
    {
     "name": "stdout",
     "output_type": "stream",
     "text": [
      "CRGX\n"
     ]
    },
    {
     "name": "stderr",
     "output_type": "stream",
     "text": [
      " 23%|██▎       | 1184/5197 [6:32:49<5:08:42,  4.62s/it]"
     ]
    },
    {
     "name": "stdout",
     "output_type": "stream",
     "text": [
      "CRGY\n"
     ]
    },
    {
     "name": "stderr",
     "output_type": "stream",
     "text": [
      " 23%|██▎       | 1185/5197 [6:32:54<5:08:01,  4.61s/it]"
     ]
    },
    {
     "name": "stdout",
     "output_type": "stream",
     "text": [
      "CRI\n"
     ]
    },
    {
     "name": "stderr",
     "output_type": "stream",
     "text": [
      " 23%|██▎       | 1186/5197 [6:32:59<5:11:02,  4.65s/it]"
     ]
    },
    {
     "name": "stdout",
     "output_type": "stream",
     "text": [
      "CRIS\n"
     ]
    },
    {
     "name": "stderr",
     "output_type": "stream",
     "text": [
      " 23%|██▎       | 1187/5197 [6:33:03<5:04:57,  4.56s/it]"
     ]
    },
    {
     "name": "stdout",
     "output_type": "stream",
     "text": [
      "CRK\n"
     ]
    },
    {
     "name": "stderr",
     "output_type": "stream",
     "text": [
      " 23%|██▎       | 1188/5197 [6:33:07<4:59:41,  4.49s/it]"
     ]
    },
    {
     "name": "stdout",
     "output_type": "stream",
     "text": [
      "CRKN\n"
     ]
    },
    {
     "name": "stderr",
     "output_type": "stream",
     "text": [
      " 23%|██▎       | 1189/5197 [6:33:13<5:29:53,  4.94s/it]"
     ]
    },
    {
     "name": "stdout",
     "output_type": "stream",
     "text": [
      "CRL\n"
     ]
    },
    {
     "name": "stderr",
     "output_type": "stream",
     "text": [
      " 23%|██▎       | 1190/5197 [6:33:18<5:23:35,  4.85s/it]"
     ]
    },
    {
     "name": "stdout",
     "output_type": "stream",
     "text": [
      "CRM\n"
     ]
    },
    {
     "name": "stderr",
     "output_type": "stream",
     "text": [
      " 23%|██▎       | 1191/5197 [6:33:23<5:21:09,  4.81s/it]"
     ]
    },
    {
     "name": "stdout",
     "output_type": "stream",
     "text": [
      "CRMD\n"
     ]
    },
    {
     "name": "stderr",
     "output_type": "stream",
     "text": [
      " 23%|██▎       | 1192/5197 [6:33:27<5:16:45,  4.75s/it]"
     ]
    },
    {
     "name": "stdout",
     "output_type": "stream",
     "text": [
      "CRML\n"
     ]
    },
    {
     "name": "stderr",
     "output_type": "stream",
     "text": [
      " 23%|██▎       | 1193/5197 [6:33:31<5:04:06,  4.56s/it]"
     ]
    },
    {
     "name": "stdout",
     "output_type": "stream",
     "text": [
      "CRMT\n"
     ]
    },
    {
     "name": "stderr",
     "output_type": "stream",
     "text": [
      " 23%|██▎       | 1194/5197 [6:33:36<5:02:41,  4.54s/it]"
     ]
    },
    {
     "name": "stdout",
     "output_type": "stream",
     "text": [
      "CRNC\n"
     ]
    },
    {
     "name": "stderr",
     "output_type": "stream",
     "text": [
      " 23%|██▎       | 1195/5197 [6:33:42<5:43:01,  5.14s/it]"
     ]
    },
    {
     "name": "stdout",
     "output_type": "stream",
     "text": [
      "CRNT\n"
     ]
    },
    {
     "name": "stderr",
     "output_type": "stream",
     "text": [
      " 23%|██▎       | 1196/5197 [6:33:47<5:36:43,  5.05s/it]"
     ]
    },
    {
     "name": "stdout",
     "output_type": "stream",
     "text": [
      "CRNX\n"
     ]
    },
    {
     "name": "stderr",
     "output_type": "stream",
     "text": [
      " 23%|██▎       | 1197/5197 [6:33:54<6:15:36,  5.63s/it]"
     ]
    },
    {
     "name": "stdout",
     "output_type": "stream",
     "text": [
      "CRON\n"
     ]
    },
    {
     "name": "stderr",
     "output_type": "stream",
     "text": [
      " 23%|██▎       | 1198/5197 [6:33:59<5:55:16,  5.33s/it]"
     ]
    },
    {
     "name": "stdout",
     "output_type": "stream",
     "text": [
      "CROX\n"
     ]
    },
    {
     "name": "stderr",
     "output_type": "stream",
     "text": [
      " 23%|██▎       | 1199/5197 [6:34:05<6:02:40,  5.44s/it]"
     ]
    },
    {
     "name": "stdout",
     "output_type": "stream",
     "text": [
      "CRS\n"
     ]
    },
    {
     "name": "stderr",
     "output_type": "stream",
     "text": [
      " 23%|██▎       | 1200/5197 [6:34:10<5:53:36,  5.31s/it]"
     ]
    },
    {
     "name": "stdout",
     "output_type": "stream",
     "text": [
      "CRSP\n"
     ]
    },
    {
     "name": "stderr",
     "output_type": "stream",
     "text": [
      " 23%|██▎       | 1201/5197 [6:34:14<5:43:59,  5.17s/it]"
     ]
    },
    {
     "name": "stdout",
     "output_type": "stream",
     "text": [
      "CRSR\n"
     ]
    },
    {
     "name": "stderr",
     "output_type": "stream",
     "text": [
      " 23%|██▎       | 1202/5197 [6:34:19<5:37:54,  5.07s/it]"
     ]
    },
    {
     "name": "stdout",
     "output_type": "stream",
     "text": [
      "CRUS\n"
     ]
    },
    {
     "name": "stderr",
     "output_type": "stream",
     "text": [
      " 23%|██▎       | 1203/5197 [6:34:23<5:15:48,  4.74s/it]"
     ]
    },
    {
     "name": "stdout",
     "output_type": "stream",
     "text": [
      "CRVL\n"
     ]
    },
    {
     "name": "stderr",
     "output_type": "stream",
     "text": [
      " 23%|██▎       | 1204/5197 [6:34:28<5:24:14,  4.87s/it]"
     ]
    },
    {
     "name": "stdout",
     "output_type": "stream",
     "text": [
      "CRVO\n"
     ]
    },
    {
     "name": "stderr",
     "output_type": "stream",
     "text": [
      " 23%|██▎       | 1205/5197 [6:34:33<5:16:20,  4.75s/it]"
     ]
    },
    {
     "name": "stdout",
     "output_type": "stream",
     "text": [
      "CRVS\n"
     ]
    },
    {
     "name": "stderr",
     "output_type": "stream",
     "text": [
      " 23%|██▎       | 1206/5197 [6:34:38<5:23:18,  4.86s/it]"
     ]
    },
    {
     "name": "stdout",
     "output_type": "stream",
     "text": [
      "CRWD\n"
     ]
    },
    {
     "name": "stderr",
     "output_type": "stream",
     "text": [
      " 23%|██▎       | 1207/5197 [6:34:42<5:14:44,  4.73s/it]"
     ]
    },
    {
     "name": "stdout",
     "output_type": "stream",
     "text": [
      "CRWS\n"
     ]
    },
    {
     "name": "stderr",
     "output_type": "stream",
     "text": [
      " 23%|██▎       | 1208/5197 [6:34:47<5:16:30,  4.76s/it]"
     ]
    },
    {
     "name": "stdout",
     "output_type": "stream",
     "text": [
      "CSBR\n"
     ]
    },
    {
     "name": "stderr",
     "output_type": "stream",
     "text": [
      " 23%|██▎       | 1209/5197 [6:34:52<5:13:52,  4.72s/it]"
     ]
    },
    {
     "name": "stdout",
     "output_type": "stream",
     "text": [
      "CSCO\n"
     ]
    },
    {
     "name": "stderr",
     "output_type": "stream",
     "text": [
      " 23%|██▎       | 1210/5197 [6:34:57<5:23:43,  4.87s/it]"
     ]
    },
    {
     "name": "stdout",
     "output_type": "stream",
     "text": [
      "CSGP\n"
     ]
    },
    {
     "name": "stderr",
     "output_type": "stream",
     "text": [
      " 23%|██▎       | 1211/5197 [6:35:05<6:24:19,  5.79s/it]"
     ]
    },
    {
     "name": "stdout",
     "output_type": "stream",
     "text": [
      "CSGS\n"
     ]
    },
    {
     "name": "stderr",
     "output_type": "stream",
     "text": [
      " 23%|██▎       | 1212/5197 [6:35:08<5:28:32,  4.95s/it]"
     ]
    },
    {
     "name": "stdout",
     "output_type": "stream",
     "text": [
      "CSIQ\n"
     ]
    },
    {
     "name": "stderr",
     "output_type": "stream",
     "text": [
      " 23%|██▎       | 1213/5197 [6:35:12<5:18:02,  4.79s/it]"
     ]
    },
    {
     "name": "stdout",
     "output_type": "stream",
     "text": [
      "CSL\n"
     ]
    },
    {
     "name": "stderr",
     "output_type": "stream",
     "text": [
      " 23%|██▎       | 1214/5197 [6:35:17<5:16:23,  4.77s/it]"
     ]
    }
   ],
   "source": [
    "a = UpdateFsGlobalDB()\n",
    "a.update_db_fs_global()"
   ]
  }
 ],
 "metadata": {
  "kernelspec": {
   "display_name": "finance",
   "language": "python",
   "name": "python3"
  },
  "language_info": {
   "codemirror_mode": {
    "name": "ipython",
    "version": 3
   },
   "file_extension": ".py",
   "mimetype": "text/x-python",
   "name": "python",
   "nbconvert_exporter": "python",
   "pygments_lexer": "ipython3",
   "version": "3.8.18"
  }
 },
 "nbformat": 4,
 "nbformat_minor": 2
}
