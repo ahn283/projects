{
 "cells": [
  {
   "cell_type": "code",
   "execution_count": 2,
   "metadata": {},
   "outputs": [],
   "source": [
    "# db connection\n",
    "\n",
    "import pymysql\n",
    "from sqlalchemy import create_engine\n",
    "import keyring\n",
    "import platform\n",
    "import numpy as np\n",
    "\n",
    "user = 'root'\n",
    "pw = keyring.get_password('macmini_db', user)\n",
    "host = '192.168.219.106' if platform.system() == 'Windows' else '127.0.0.1'\n",
    "port = 3306\n",
    "db = 'stock'"
   ]
  },
  {
   "cell_type": "markdown",
   "metadata": {},
   "source": [
    "# DATA COLUMNS"
   ]
  },
  {
   "cell_type": "code",
   "execution_count": 3,
   "metadata": {},
   "outputs": [],
   "source": [
    "# base data\n",
    "COLUMNS_STOCK_DATA = ['date', 'open', 'high', 'low', 'close', 'volume']\n",
    "COLUMNS_TRAINING_DATA = ['open', 'high', 'low', 'close', 'volume', 'close_ma5', 'volume_ma5', 'close_ma5_ratio', 'volume_ma5_ratio',\n",
    "       'open_close_ratio', 'open_prev_close_ratio', 'high_close_ratio',\n",
    "       'low_close_ratio', 'close_prev_close_ratio', 'volume_prev_volume_ratio',\n",
    "       'close_ma10', 'volume_ma10', 'close_ma10_ratio', 'volume_ma10_ratio',\n",
    "       'close_ma20', 'volume_ma20', 'close_ma20_ratio', 'volume_ma20_ratio',\n",
    "       'close_ma60', 'volume_ma60', 'close_ma60_ratio', 'volume_ma60_ratio',\n",
    "       'close_ma120', 'volume_ma120', 'close_ma120_ratio',\n",
    "       'volume_ma120_ratio', 'close_ma240', 'volume_ma240',\n",
    "       'close_ma240_ratio', 'volume_ma240_ratio', 'upper_bb',\n",
    "       'lower_bb', 'bb_pb', 'bb_width', 'macd',\n",
    "       'macd_signal', 'macd_oscillator', 'rs', 'rsi']"
   ]
  },
  {
   "cell_type": "markdown",
   "metadata": {},
   "source": [
    "## Device"
   ]
  },
  {
   "cell_type": "code",
   "execution_count": 4,
   "metadata": {},
   "outputs": [
    {
     "data": {
      "text/plain": [
       "device(type='cuda')"
      ]
     },
     "execution_count": 4,
     "metadata": {},
     "output_type": "execute_result"
    }
   ],
   "source": [
    "device = torch.device('cuda' if torch.cuda.is_available() else 'cpu')\n",
    "device"
   ]
  },
  {
   "cell_type": "markdown",
   "metadata": {},
   "source": [
    "# UTILITIES"
   ]
  },
  {
   "cell_type": "markdown",
   "metadata": {},
   "source": [
    "## Get stock data "
   ]
  },
  {
   "cell_type": "code",
   "execution_count": 5,
   "metadata": {},
   "outputs": [],
   "source": [
    "import pandas as pd\n",
    "import pymysql\n",
    "from sqlalchemy import create_engine\n",
    "\n",
    "\n",
    "# get us stock price of a specific ticker\n",
    "def get_stock_data(ticker, fro=None, to=None):\n",
    "\n",
    "    # connect DB\n",
    "    engine = create_engine(f'mysql+pymysql://{user}:{pw}@{host}:{port}/{db}')\n",
    "\n",
    "    con = pymysql.connect(\n",
    "        user=user,\n",
    "        passwd=pw,\n",
    "        host=host,\n",
    "        db=db,\n",
    "        charset='utf8'\n",
    "    )\n",
    "            \n",
    "    mycursor = con.cursor()\n",
    "    \n",
    "    if fro is not None:\n",
    "        if to is not None:               \n",
    "            query = f\"\"\" \n",
    "                    SELECT * FROM price_global\n",
    "                    WHERE ticker = '{ticker}'\n",
    "                    AND date BETWEEN '{fro}' AND '{to}' \n",
    "                    \"\"\"\n",
    "        else:\n",
    "            query = f\"\"\" \n",
    "                    SELECT * FROM price_global\n",
    "                    WHERE ticker = '{ticker}'\n",
    "                    AND date >= '{fro}'\n",
    "                    \"\"\"\n",
    "    \n",
    "    else:\n",
    "        if to is not None:\n",
    "            query = f\"\"\" \n",
    "                    SELECT * FROM price_global\n",
    "                    WHERE ticker = '{ticker}'\n",
    "                    AND date <= '{to}' \n",
    "                    \"\"\"\n",
    "        else:\n",
    "            query = f\"\"\" \n",
    "                    SELECT * FROM price_global\n",
    "                    WHERE ticker = '{ticker}'\n",
    "                    \"\"\"\n",
    "            \n",
    "    print(query)\n",
    "    prices = pd.read_sql(query, con=engine)\n",
    "    con.close()\n",
    "    engine.dispose()\n",
    "    return prices"
   ]
  },
  {
   "cell_type": "markdown",
   "metadata": {},
   "source": [
    "### Sample code"
   ]
  },
  {
   "cell_type": "code",
   "execution_count": 6,
   "metadata": {},
   "outputs": [
    {
     "name": "stdout",
     "output_type": "stream",
     "text": [
      " \n",
      "                    SELECT * FROM price_global\n",
      "                    WHERE ticker = 'AAPL'\n",
      "                    AND date BETWEEN '2010-01-01' AND '2020-12-31' \n",
      "                    \n"
     ]
    }
   ],
   "source": [
    "stock_code = 'AAPL'\n",
    "fro = '2010-01-01'\n",
    "to = '2020-12-31'\n",
    "df = get_stock_data(stock_code, fro=fro, to=to)"
   ]
  },
  {
   "cell_type": "markdown",
   "metadata": {},
   "source": [
    "## Functions"
   ]
  },
  {
   "cell_type": "markdown",
   "metadata": {},
   "source": [
    "### Sigmoid function"
   ]
  },
  {
   "cell_type": "code",
   "execution_count": 7,
   "metadata": {},
   "outputs": [],
   "source": [
    "def sigmoid(x):\n",
    "    x = max(min(x, 10), -10)\n",
    "    return 1. / (1. + np.exp(-x))"
   ]
  },
  {
   "cell_type": "markdown",
   "metadata": {},
   "source": [
    "## Preprocessing"
   ]
  },
  {
   "cell_type": "code",
   "execution_count": 8,
   "metadata": {},
   "outputs": [],
   "source": [
    "def preprocess(data):\n",
    "    \n",
    "    # moving average\n",
    "    windows = [5, 10, 20, 60, 120, 240]\n",
    "    for window in windows:\n",
    "        data[f'close_ma{window}'] = data['close'].rolling(window).mean()\n",
    "        data[f'volume_ma{window}'] = data['volume'].rolling(window).mean()\n",
    "        data[f'close_ma{window}_ratio'] = (data['close'] - data[f'close_ma{window}']) / data[f'close_ma{window}']\n",
    "        data[f'volume_ma{window}_ratio'] = (data['volume'] - data[f'volume_ma{window}']) / data[f'volume_ma{window}']\n",
    "        data['open_close_ratio'] = (data['open'].values - data['close'].values) / data['close'].values\n",
    "        data['open_prev_close_ratio'] = np.zeros(len(data))\n",
    "        data.loc[1:, 'open_prev_close_ratio'] = (data['open'][1:].values - data['close'][:-1].values) / data['close'][:-1].values\n",
    "        data['high_close_ratio'] = (data['high'].values - data['close'].values) / data['close'].values\n",
    "        data['low_close_ratio'] = (data['low'].values - data['close'].values) / data['close'].values\n",
    "        data['close_prev_close_ratio'] = np.zeros(len(data))\n",
    "        data.loc[1:, 'close_prev_close_ratio'] = (data['close'][1:].values - data['close'][:-1].values) / data['close'][:-1].values \n",
    "        data['volume_prev_volume_ratio'] = np.zeros(len(data))\n",
    "        data.loc[1:, 'volume_prev_volume_ratio'] = (\n",
    "            # if volume is 0, change it into non zero value exploring previous volume continuously\n",
    "            (data['volume'][1:].values - data['volume'][:-1].values) / data['volume'][:-1].replace(to_replace=0, method='ffill').replace(to_replace=0, method='bfill').values\n",
    "        )\n",
    "    \n",
    "    # Bollinger band\n",
    "    data['middle_bb'] = data['close'].rolling(20).mean()\n",
    "    data['upper_bb'] = data['middle_bb'] + 2 * data['close'].rolling(20).std()\n",
    "    data['lower_bb'] = data['middle_bb'] - 2 * data['close'].rolling(20).std()\n",
    "    data['bb_pb'] = (data['close'] - data['lower_bb']) / (data['upper_bb'] - data['lower_bb'])\n",
    "    data['bb_width'] = (data['upper_bb'] - data['lower_bb']) / data['middle_bb']\n",
    "    \n",
    "    # MACD\n",
    "    macd_short, macd_long, macd_signal = 12, 26, 9\n",
    "    data['ema_short'] = data['close'].ewm(macd_short).mean()\n",
    "    data['ema_long'] = data['close'].ewm(macd_long).mean()\n",
    "    data['macd'] = data['ema_short'] - data['ema_long']\n",
    "    data['macd_signal'] = data['macd'].ewm(macd_signal).mean()\n",
    "    data['macd_oscillator'] = data['macd'] - data['macd_signal']\n",
    "    \n",
    "    # RSI\n",
    "    data['close_change'] = data['close'].diff()\n",
    "    # data['close_up'] = np.where(data['close_change'] >=0, df['close_change'], 0)\n",
    "    data['close_up'] = data['close_change'].apply(lambda x: x if x >= 0 else 0)\n",
    "    # data['close_down'] = np.where(data['close_change'] < 0, df['close_change'].abs(), 0)\n",
    "    data['close_down'] = data['close_change'].apply(lambda x: -x if x < 0 else 0)\n",
    "    data['rs'] = data['close_up'].ewm(alpha=1/14, min_periods=14).mean() / data['close_down'].ewm(alpha=1/14, min_periods=14).mean()\n",
    "    data['rsi'] = 100 - (100 / (1 + data['rs']))\n",
    "    \n",
    "    \n",
    "    return data"
   ]
  },
  {
   "cell_type": "markdown",
   "metadata": {},
   "source": [
    "### Sample code"
   ]
  },
  {
   "cell_type": "code",
   "execution_count": 9,
   "metadata": {},
   "outputs": [],
   "source": [
    "df_adj = preprocess(df)"
   ]
  },
  {
   "cell_type": "markdown",
   "metadata": {},
   "source": [
    "## Load data\n",
    "\n",
    "load_data() function is a combined function for getting data from databases and preprocessing it into training data."
   ]
  },
  {
   "cell_type": "code",
   "execution_count": 10,
   "metadata": {},
   "outputs": [],
   "source": [
    "def load_data(stock_code, fro, to):\n",
    "    ''' \n",
    "    Arguments\n",
    "    ----------\n",
    "    - stock_code : unique stock code\n",
    "    - fro : start date\n",
    "    - to : end data\n",
    "    \n",
    "    Returns\n",
    "    --------\n",
    "    df_adj : entire prerprocessed data\n",
    "    stock_data : data for plotting chart\n",
    "    training_data : data for training a model\n",
    "    '''\n",
    "    \n",
    "    df = get_stock_data(stock_code, fro, to)\n",
    "    df_adj = preprocess(df).dropna().reset_index(drop=True)\n",
    "    # df_adj.dropna(inplace=True).reset_index(drop=True)\n",
    "    \n",
    "    stock_data = df_adj[COLUMNS_STOCK_DATA]\n",
    "    training_data = df_adj[COLUMNS_TRAINING_DATA]\n",
    "    \n",
    "    return df_adj, stock_data, training_data.values"
   ]
  },
  {
   "cell_type": "markdown",
   "metadata": {},
   "source": [
    "### Sample code"
   ]
  },
  {
   "cell_type": "code",
   "execution_count": 11,
   "metadata": {},
   "outputs": [
    {
     "name": "stdout",
     "output_type": "stream",
     "text": [
      " \n",
      "                    SELECT * FROM price_global\n",
      "                    WHERE ticker = 'AAPL'\n",
      "                    AND date BETWEEN '2010-01-01' AND '2020-12-31' \n",
      "                    \n"
     ]
    }
   ],
   "source": [
    "df_adj, stock_data, training_data = load_data(stock_code, fro, to)"
   ]
  },
  {
   "cell_type": "markdown",
   "metadata": {},
   "source": [
    "# Environment"
   ]
  },
  {
   "cell_type": "code",
   "execution_count": 12,
   "metadata": {},
   "outputs": [],
   "source": [
    "# environment\n",
    "\n",
    "import numpy as np\n",
    "import pandas as pd\n",
    "\n",
    "# environment\n",
    "\n",
    "class Environment:\n",
    "    ''' \n",
    "    Attribute\n",
    "    ---------\n",
    "    - stock_data : stock price data such as 'open', 'close', 'high', 'low', 'volume'\n",
    "    - state : current state\n",
    "    - idx : current postion of stock data\n",
    "    \n",
    "    \n",
    "    Functions\n",
    "    --------\n",
    "    - reset() : initialize idx and state\n",
    "    - observe() : move idx into next postion and get a new state\n",
    "    - get_price() : get close price of current state\n",
    "    - get_state() : get current state\n",
    "    '''\n",
    "    \n",
    "    def __init__(self, stock_data=None):\n",
    "        self.close_price_idx = 4    # index postion of close price\n",
    "        self.open_price_idx = 1     # index position of open price\n",
    "        self.stock_data = stock_data\n",
    "        self.state = None\n",
    "        self.idx = -1\n",
    "        \n",
    "    def reset(self):\n",
    "        self.state = None\n",
    "        self.idx = -1\n",
    "        \n",
    "    def observe(self):\n",
    "        # move to next day and get price data\n",
    "        # if there is no more idx, return None\n",
    "        if len(self.stock_data) > self.idx + 1:\n",
    "            self.idx += 1\n",
    "            self.state = self.stock_data.iloc[self.idx]\n",
    "            return self.state\n",
    "        return None\n",
    "    \n",
    "    def get_close_price(self):\n",
    "        # return close price\n",
    "        if self.state is not None:\n",
    "            return self.state[self.close_price_idx]\n",
    "        return None\n",
    "    \n",
    "    def get_state(self):\n",
    "        # return current state\n",
    "        if self.state is not None:\n",
    "            return self.state\n",
    "        return None\n",
    "        "
   ]
  },
  {
   "cell_type": "markdown",
   "metadata": {},
   "source": [
    "### Sample code"
   ]
  },
  {
   "cell_type": "code",
   "execution_count": 13,
   "metadata": {},
   "outputs": [],
   "source": [
    "env = Environment(stock_data)"
   ]
  },
  {
   "cell_type": "code",
   "execution_count": 14,
   "metadata": {},
   "outputs": [],
   "source": [
    "env.reset()"
   ]
  },
  {
   "cell_type": "code",
   "execution_count": 15,
   "metadata": {},
   "outputs": [
    {
     "data": {
      "text/plain": [
       "date      2010-12-14\n",
       "open       11.392857\n",
       "high       11.490357\n",
       "low        11.519286\n",
       "close      11.438929\n",
       "volume      9.684193\n",
       "Name: 0, dtype: object"
      ]
     },
     "execution_count": 15,
     "metadata": {},
     "output_type": "execute_result"
    }
   ],
   "source": [
    "env.observe()"
   ]
  },
  {
   "cell_type": "code",
   "execution_count": 16,
   "metadata": {},
   "outputs": [
    {
     "data": {
      "text/plain": [
       "date      2010-12-14\n",
       "open       11.392857\n",
       "high       11.490357\n",
       "low        11.519286\n",
       "close      11.438929\n",
       "volume      9.684193\n",
       "Name: 0, dtype: object"
      ]
     },
     "execution_count": 16,
     "metadata": {},
     "output_type": "execute_result"
    }
   ],
   "source": [
    "env.get_state()"
   ]
  },
  {
   "cell_type": "code",
   "execution_count": 17,
   "metadata": {},
   "outputs": [
    {
     "data": {
      "text/plain": [
       "date      2010-12-15\n",
       "open       11.399643\n",
       "high       11.428571\n",
       "low        11.535714\n",
       "close      11.441429\n",
       "volume      9.686307\n",
       "Name: 1, dtype: object"
      ]
     },
     "execution_count": 17,
     "metadata": {},
     "output_type": "execute_result"
    }
   ],
   "source": [
    "env.observe()"
   ]
  },
  {
   "cell_type": "code",
   "execution_count": 18,
   "metadata": {},
   "outputs": [
    {
     "data": {
      "text/plain": [
       "11.441429138183594"
      ]
     },
     "execution_count": 18,
     "metadata": {},
     "output_type": "execute_result"
    }
   ],
   "source": [
    "env.get_state()['close']"
   ]
  },
  {
   "cell_type": "code",
   "execution_count": 19,
   "metadata": {},
   "outputs": [
    {
     "data": {
      "text/plain": [
       "date      2010-12-16\n",
       "open       11.432143\n",
       "high         11.4675\n",
       "low        11.521786\n",
       "close      11.473214\n",
       "volume      9.713216\n",
       "Name: 2, dtype: object"
      ]
     },
     "execution_count": 19,
     "metadata": {},
     "output_type": "execute_result"
    }
   ],
   "source": [
    "env.observe()"
   ]
  },
  {
   "cell_type": "code",
   "execution_count": 21,
   "metadata": {},
   "outputs": [
    {
     "data": {
      "text/plain": [
       "11.432143211364746"
      ]
     },
     "execution_count": 21,
     "metadata": {},
     "output_type": "execute_result"
    }
   ],
   "source": [
    "env.get_state()['open']"
   ]
  },
  {
   "cell_type": "markdown",
   "metadata": {},
   "source": [
    "# Agent"
   ]
  },
  {
   "cell_type": "code",
   "execution_count": 22,
   "metadata": {},
   "outputs": [],
   "source": [
    "class Agent:\n",
    "    ''' \n",
    "    Attributes\n",
    "    --------\n",
    "    - enviroment : instance of environment\n",
    "    - initial_balance : initial capital balance\n",
    "    - min_trading_price : minimum trading price\n",
    "    - max_trading_price : maximum trading price\n",
    "    - balance : cash balance\n",
    "    - num_stocks : obtained stocks\n",
    "    - portfolio_value : value of portfolios (balance + price * num_stocks)\n",
    "    - num_buy : number of buying\n",
    "    - num_sell : number of selling\n",
    "    - num_hold : number of holding\n",
    "    - ratio_hold : ratio of holding stocks\n",
    "    - profitloss : current profit or loss\n",
    "    - avg_buy_price_ratio : the ratio average price of a stock bought to the current price\n",
    "    \n",
    "    Functions\n",
    "    --------\n",
    "    - reset() : initialize an agent\n",
    "    - set_balance() : initialize balance\n",
    "    - get_states() : get the state of an agent\n",
    "    - decide_action() : exploration or exploitation behavior according to the policy net\n",
    "    - validate_action() : validate actions\n",
    "    - decide_trading_unit() : decide how many stocks are sold or bought\n",
    "    - act() : act the actions\n",
    "    '''\n",
    "    \n",
    "    def __init__(self,\n",
    "                 env,\n",
    "                 initial_balance=100000, min_trading_price=10, max_trading_price=10000):      \n",
    "        \n",
    "        # agent state dimensions\n",
    "        ## (ratio_hold, profit-loss ratio, current price to avg_buy_price ratio)\n",
    "        # self.state_dim = 3\n",
    "        \n",
    "        # trading charge and tax\n",
    "        self.TRADING_CHARGE = 0.00015    # trading charge 0.015%\n",
    "        self.TRADING_TAX = 0.002          # trading tax = 0.2%\n",
    "        \n",
    "        # action space\n",
    "        self.ACTION_BUY = 0      # buy\n",
    "        self.ACTION_SELL = 1     # sell\n",
    "        self.ACTION_HOLD = 2     # hold\n",
    "        \n",
    "        # get probabilities from neural nets\n",
    "        self.ACTIONS = [self.ACTION_BUY, self.ACTION_SELL, self.ACTION_HOLD]\n",
    "        self.NUM_ACTIONS = len(self.ACTIONS)      # output number from nueral nets\n",
    "        \n",
    "        \n",
    "        # get current price from the environment\n",
    "        self.env = env\n",
    "        self.initial_balance = initial_balance\n",
    "        self.done = False\n",
    "        \n",
    "        # minumum and maximum trainding price\n",
    "        self.min_trading_price = min_trading_price\n",
    "        self.max_trading_price = max_trading_price\n",
    "        \n",
    "        # attributes for an agent class\n",
    "        self.balance = initial_balance\n",
    "        self.num_stocks = 0\n",
    "        \n",
    "        # value of portfolio : balance + num_stocks * {current stock price}\n",
    "        self.portfolio_value = self.balance\n",
    "        self.num_buy = 0\n",
    "        self.num_sell = 0\n",
    "        self.num_hold = 0\n",
    "        \n",
    "        # three states of Agent class\n",
    "        self.ratio_hold = 0\n",
    "        self.profitloss = 0\n",
    "        self.avg_buy_price = 0\n",
    "        \n",
    "    def reset(self):\n",
    "        self.balance = self.initial_balance\n",
    "        self.num_stocks = 0\n",
    "        self.portfolio_value = self.balance\n",
    "        self.num_buy = 0\n",
    "        self.num_sell = 0\n",
    "        self.num_hold = 0\n",
    "        self.ratio_hold = 0\n",
    "        self.profitloss = 0\n",
    "        self.avg_buy_price = 0\n",
    "        self.done = False\n",
    "        \n",
    "    def set_initial_balance(self, balance):\n",
    "        self.initial_balance = balance\n",
    "        \n",
    "    def get_states(self):\n",
    "        # return current profitloss based on close price\n",
    "        close_price = self.env.get_state()['close']\n",
    "        self.portfolio_value = self.balance + close_price * self.num_stocks\n",
    "        self.profitloss = self.portfolio_value / self.initial_balance - 1\n",
    "        return self.profitloss\n",
    "        \n",
    "    def decide_action(self, pred_value, eps):\n",
    "        # act randomly with epsilon probability, act according to neural network  with (1 - epsilon) probability\n",
    "        confidence = 0\n",
    "        \n",
    "        # if theres is a pred_policy, follow it, otherwise follow a pred_value\n",
    "        pred = pred_value\n",
    "            \n",
    "        # there is no prediction from both pred_policy and pred_value, explore!\n",
    "        if pred is None:\n",
    "            eps = 1\n",
    "        else:\n",
    "            maxpred = np.max(pred)\n",
    "            # if values for actions are euqal, explore!\n",
    "            if (pred == maxpred).all():\n",
    "                eps = 1\n",
    "        \n",
    "            # if the diffrence between buying and selling prediction policy value is less than 0.05, explore!   \n",
    "                    \n",
    "        # decide whether exploration will be done or not\n",
    "        if np.random.rand() < eps:\n",
    "            exploration = True\n",
    "            action = np.random.randint(self.NUM_ACTIONS) \n",
    "        else: \n",
    "            exploration = False\n",
    "            action = np.argmax(pred)\n",
    "            \n",
    "        confidence = .5\n",
    "        if pred_value is not None:\n",
    "            confidence = sigmoid(pred[action])\n",
    "            \n",
    "        return action, confidence, exploration\n",
    "    \n",
    "    def validate_action(self, action, open_price):\n",
    "        # validate if the action is available\n",
    "        if action == self.ACTION_BUY:\n",
    "            # check if al least one stock can be bought.\n",
    "            if self.balance < open_price * (1 + self.TRADING_CHARGE):\n",
    "                return False\n",
    "        elif action == self.ACTION_SELL:\n",
    "            # check if there is any sotck that can be sold\n",
    "            if self.num_stocks <= 0:\n",
    "                return False\n",
    "        \n",
    "        return True\n",
    "    \n",
    "    def decide_trading_unit(self, confidence):\n",
    "        # adjust number of stocks for buying and selling according to confidence level\n",
    "        if np.isnan(confidence):\n",
    "            return self.min_trading_price\n",
    "        \n",
    "        # set buying price range between self.min_trading_price + added_trading_price [min_trading_price, max_trading_price]\n",
    "        # in case that confidence > 1 causes the price over max_trading_price, we set min() so that the value cannot have larger value than self.max_trading_price - self.min_trading_price\n",
    "        # in case that confidence < 0, we set max() so that added_trading_price cannot have negative value.\n",
    "        added_trading_price = max(min(\n",
    "            int(confidence * (self.max_trading_price - self.min_trading_price)),\n",
    "            self.max_trading_price - self.min_trading_price\n",
    "        ), 0)\n",
    "        \n",
    "        trading_price = self.min_trading_price + added_trading_price\n",
    "        \n",
    "        return max(int(trading_price / self.environment.get_price()), 1)\n",
    "    \n",
    "    def step(self, action, confidence):\n",
    "        '''\n",
    "        Arguments\n",
    "        ---------\n",
    "        - action : decided action from decide_action() method based on exploration or exploitation (0 or 1)\n",
    "        - confidence : probabilitu from decide_action() method, the probability from policy network or the softmax probability from value network\n",
    "        '''\n",
    "        \n",
    "        # get the next open price from the environment\n",
    "        next_state = self.env.observ()\n",
    "        \n",
    "        if next_state is None:\n",
    "            self.done = True\n",
    "        else:\n",
    "            self.done = False\n",
    "        \n",
    "        open_price = next_state['open']\n",
    "        \n",
    "        if not self.validate_action(action, open_price):\n",
    "            action = self.ACTION_HOLD\n",
    "        \n",
    "        # buy\n",
    "        if action == self.ACTION_BUY:\n",
    "            # decide how many stocks will be bought\n",
    "            trading_unit = self.decide_trading_unit(confidence)\n",
    "            balance = (\n",
    "                self.balance - open_price * (1 + self.TRADING_CHARGE) * trading_unit\n",
    "            )\n",
    "            \n",
    "            # if lacks of balance, buy maximum units within the amount of money available\n",
    "            if balance < 0:\n",
    "                trading_unit = min(\n",
    "                    int(self.balance / (open_price * (1 + self.TRADING_CHARGE))),\n",
    "                    int(self.max_trading_price / open_price)\n",
    "                )\n",
    "                \n",
    "            # total amount of money with trading charge\n",
    "            invest_amount = open_price * (1 + self.TRADING_CHARGE) * trading_unit\n",
    "            if invest_amount > 0:\n",
    "                self.avg_buy_price = (self.avg_buy_price * self.num_stocks + open_price * trading_unit) / (self.num_stocks + trading_unit)\n",
    "                self.balance -= invest_amount\n",
    "                self.num_stocks += trading_unit\n",
    "                self.num_buy += 1\n",
    "                \n",
    "        # sell\n",
    "        elif action == self.ACTION_SELL:\n",
    "            # decide how many stocks will be sold\n",
    "            trading_unit = self.decide_trading_unit(confidence)\n",
    "            \n",
    "            # if lacks of stocks, sell maximum units available\n",
    "            trading_unit = min(trading_unit, self.num_stocks)\n",
    "            \n",
    "            # selling amount\n",
    "            invest_amount = open_price * (\n",
    "                1 - (self.TRADING_TAX + self.TRADING_CHARGE)\n",
    "            ) * trading_unit\n",
    "            \n",
    "            if invest_amount > 0:\n",
    "                # update average buy price\n",
    "                self.avg_buy_price = (self.avg_buy_price * self.num_stocks - open_price * trading_unit) / (self.num_stocks - trading_unit) if self.num_stocks > trading_unit else 0\n",
    "                self.num_stocks -= trading_unit\n",
    "                self.balance += invest_amount\n",
    "                self.num_sell += 1\n",
    "                \n",
    "        # hold\n",
    "        elif action == self.ACTION_HOLD:\n",
    "            self.num_hold += 1\n",
    "            \n",
    "        # update portfolio value with close price\n",
    "        close_price = next_state['close']\n",
    "        \n",
    "        self.portfolio_value = self.balance + close_price * self.num_stocks\n",
    "        self.profitloss = self.portfolio_value / self.initial_balance - 1\n",
    "        \n",
    "        info = ''\n",
    "        \n",
    "        return self.next_state, self.profitloss, self.done, info             # (next_states, profitloss, done, info)\n",
    "    \n",
    "    "
   ]
  },
  {
   "cell_type": "markdown",
   "metadata": {},
   "source": [
    "# Learner"
   ]
  },
  {
   "cell_type": "markdown",
   "metadata": {},
   "source": [
    "## DQN Learner"
   ]
  },
  {
   "cell_type": "markdown",
   "metadata": {},
   "source": [
    "### Method\n",
    "\n",
    "##### Experience buffer\n",
    "\n",
    "- We get transition data $(s,a,r,s^\\prime)$, save into buffer, and train with uniform random sampling data from buffer.\n",
    "\n",
    "- Q-learning is off-poilcy learning.\n",
    "\n",
    "#### Target netwrok\n",
    "\n",
    "- We set separate target network and update it periodically.\n",
    "\n",
    "    - $\\theta_i$ : training parameter for $i$th iteration\n",
    "\n",
    "    - $\\theta^-_i$ : target calculation network for $i$th iteration\n",
    "\n",
    "    - $U(D)$ : replay memory of transitions $\\rightarrow \\pi_0, \\cdots, \\pi_i$ dataset.\n",
    "\n",
    "#### Loss function\n",
    "\n",
    "$$L_i(\\theta_i)=E_{s,a,r,s^\\prime}\\left[(r+\\gamma\\max_{a^\\prime}Q(s^\\prime, a^\\prime, Q^-_i)-Q(s,a;\\theta_i))^2\\right]$$"
   ]
  },
  {
   "cell_type": "markdown",
   "metadata": {},
   "source": [
    "### Network architecture\n",
    "\n",
    "- To reudce compuration complexity, neural network get states and return all action-values.\n",
    "\n",
    "<img src='./image/3-s2.0-B9780323857871000117-f06-02-9780323857871.jpg'>"
   ]
  },
  {
   "cell_type": "code",
   "execution_count": 23,
   "metadata": {},
   "outputs": [],
   "source": [
    "from collections import deque\n",
    "import random\n",
    "\n",
    "class ReplayMemory:\n",
    "    \n",
    "    def __init__(self, replay_capacity=480):\n",
    "        self.buffer =deque([], maxlen=replay_capacity)\n",
    "        \n",
    "    def getsize(self):\n",
    "        return len(self.buffer)\n",
    "    \n",
    "    def append(self, transition):\n",
    "        self.buffer.append(transition)\n",
    "        \n",
    "    def sample(self, size):\n",
    "        buffer_size = len(self.buffer)\n",
    "        if buffer_size >= size:\n",
    "            samples = random.sample(self.buffer, size)\n",
    "        else:\n",
    "            assert False, f\"Buffer size ({buffer_size}) is smaller than the sample size ({size})\"\n",
    "        return samples"
   ]
  },
  {
   "cell_type": "code",
   "execution_count": 24,
   "metadata": {},
   "outputs": [],
   "source": [
    "r = ReplayMemory()"
   ]
  },
  {
   "cell_type": "code",
   "execution_count": 25,
   "metadata": {},
   "outputs": [
    {
     "data": {
      "text/plain": [
       "deque([], maxlen=480)"
      ]
     },
     "execution_count": 25,
     "metadata": {},
     "output_type": "execute_result"
    }
   ],
   "source": [
    "r.buffer"
   ]
  },
  {
   "cell_type": "code",
   "execution_count": 27,
   "metadata": {},
   "outputs": [],
   "source": [
    "# dqn_learner.py\n",
    "\n",
    "import torch\n",
    "from torch import nn \n",
    "\n",
    "class DQNAgent: \n",
    "    \n",
    "    def __init__(self, \n",
    "                 env, agent,\n",
    "                 stock_code=None, \n",
    "                 stock_data=None, training_data=None,\n",
    "                 discount_factor=0.8, num_epochs=1000, eps_init=1, eps_final=0.05, eps_decrease_step=1000, batch_size=60, replay_init_ratio=0.3, replacy_capacity=480,\n",
    "                 num_steps=1, lr=0.005, value_network=None, reuse_models=True, \n",
    "                 output_path='', gen_output=True):\n",
    "        \n",
    "        # environement paramters\n",
    "        self.stock_code = stock_code\n",
    "        self.stock_data = stock_data\n",
    "        self.training_data = training_data\n",
    "        \n",
    "        self.env = Environment(stock_code=self.stock_code)\n",
    "        self.agent = Agent(self.env)\n",
    "        \n",
    "        \n",
    "        # reinforcement learning parameters\n",
    "        self.discount_factor = discount_factor\n",
    "        self.num_epochs = num_epochs\n",
    "        self.eps_init = eps_init \n",
    "        self.eps_final = eps_final \n",
    "        self.eps_decrease_step = eps_decrease_step\n",
    "        self.batch_size = batch_size\n",
    "        self.replay_capacity = replacy_capacity\n",
    "        self.replay_init_ratio = replay_init_ratio    \n",
    "        \n",
    "        # network\n",
    "        self.lr = lr\n",
    "        self.num_steps = num_steps\n",
    "        self.value_network = value_network\n",
    "        self.reuse_models = reuse_models \n",
    "        self.input_dim = (self.num_steps, self.training_data.shape[1])\n",
    "        kernel_size = 2\n",
    "        self.network = nn.Sequential(\n",
    "            nn.BatchNorm2d(self.input_dim),\n",
    "            nn.Conv2d(self.input_dim, 1, kernel_size),\n",
    "            nn.BatchNorm2d(1),\n",
    "            nn.Flatten(),\n",
    "            nn.Dropout(p=0.1),\n",
    "            nn.Linear(self.input_dim - (kernel_size - 1), 128),\n",
    "            nn.BatchNorm2d(128),\n",
    "            nn.Dropout(p=0.1),\n",
    "            nn.Linear(128, 64),\n",
    "            nn.BatchNorm2d(64),\n",
    "            nn.Dropout(p=0.1),\n",
    "            nn.Linear(64, 32),\n",
    "            nn.BatchNorm2d(32),\n",
    "            nn.Dropout(p=0.1),\n",
    "            nn.Linear(32, self.NUM_ACTIONS)\n",
    "        )\n",
    "        self.target_network = nn.Sequential(\n",
    "            nn.BatchNorm2d(self.input_dim),\n",
    "            nn.Conv2d(self.input_dim, 1, kernel_size),\n",
    "            nn.BatchNorm2d(1),\n",
    "            nn.Flatten(),\n",
    "            nn.Dropout(p=0.1),\n",
    "            nn.Linear(self.input_dim - (kernel_size - 1), 128),\n",
    "            nn.BatchNorm2d(128),\n",
    "            nn.Dropout(p=0.1),\n",
    "            nn.Linear(128, 64),\n",
    "            nn.BatchNorm2d(64),\n",
    "            nn.Dropout(p=0.1),\n",
    "            nn.Linear(64, 32),\n",
    "            nn.BatchNorm2d(32),\n",
    "            nn.Dropout(p=0.1),\n",
    "            nn.Linear(32, self.NUM_ACTIONS)\n",
    "        )   \n",
    "        \n",
    "        # We do not train target_network\n",
    "        for param in self.target_network.parameters():\n",
    "            param.requires_grad = False    \n",
    "        \n",
    "        # memory\n",
    "        self.replay_memory = ReplayMemory()\n",
    "        self.memory_sample = []     # training data sample\n",
    "        self.memory_action = []     # actions taken\n",
    "        self.memory_reward = []     # reward obtained\n",
    "        self.memory_value = []      # prediction value for action\n",
    "        self.memory_pv = []         # portfolio value\n",
    "        self.memory_num_stocks = [] # number of stocks\n",
    "        self.memory_exp_idx = []    # exploration index\n",
    "        \n",
    "        # exploration epoch info\n",
    "        self.loss = 0               # loss during epoch\n",
    "        self.itr_cnt = 0            # number of iterations with profit\n",
    "        self.exploration_cnt = 0    # count of exploration\n",
    "        self.batch_size = 0         # number of training\n",
    "        \n",
    "        # log path\n",
    "        self.output_path = output_path\n",
    "        self.gen_output = gen_output\n",
    "        \n",
    "    def update_target_network(self):\n",
    "        self.target_network.load_state_dict(self.net.state_dict())\n",
    "        \n",
    "    def set_optimizer(self):\n",
    "        self.optimizer = torch.optim.NAdam(\n",
    "            params=self.network.parameters(),\n",
    "            lr=self.lr,\n",
    "            weight_decay=1e-3\n",
    "        )\n",
    "        \n",
    "    def forward(self, x):\n",
    "        Qs = self.network(x)\n",
    "        return Qs\n",
    "    \n",
    "    def forward_target_network(self, x):\n",
    "        Qs = self.target_network(x)\n",
    "        return Qs\n",
    "    \n",
    "    def get_argmax_action(self, x):\n",
    "        # transform torch tensor with two dimentional matrix\n",
    "        s = torch.from_numpy(x).reshape(1, -1).float()\n",
    "        Qs = self.forward(s)\n",
    "        # get item(integer) in argmax tensor\n",
    "        argmax_action = Qs.argmax(dim=-1).item()\n",
    "        return argmax_action\n",
    "    \n",
    "    def train(self):\n",
    "        transitions = self.replay_memory.sample(self.batch_size)\n",
    "        states, actions, rewards, next_states, dones = zip(*transitions)\n",
    "        \n",
    "        states_array = np.stack(states, axis=0)                     # (n_batch, states)\n",
    "        actions_array = np.stack(actions, axis=0, dtype=np.int64)   # (n_batch)\n",
    "        rewards_array = np.stack(rewards, axis=0)                   # (n_batch)\n",
    "        next_states_array = np.stack(next_states, axis=0)           # (n_batch, states)\n",
    "        dones_array = np.stack(dones, axis=0)                       # (n_batch)\n",
    "        \n",
    "        states_tensor = torch.from_numpy(states_array).float()\n",
    "        actions_tensor = torch.from_numpy(actions_array)\n",
    "        rewards_tensor = torch.from_numpy(rewards_array).float()\n",
    "        next_states_tensor = torch.from_numpy(next_states_array).float()\n",
    "        dones_tensor = torch.from_numpy(dones_array).float()\n",
    "        \n",
    "        Qs = self.forward(states_tensor)\n",
    "        next_Qs = self.forward_target_network(next_states_tensor)\n",
    "        \n",
    "        chosen_Q = Qs.gather(dim=-1, index=actions_tensor.reshape(-1, 1)).reshape(-1)   # (n_batch, 1) -> (n_batch)\n",
    "        target_Q = rewards_array + (1 - dones_tensor) * self.discount_factor * next_Qs.max(dim=-1).values\n",
    "        \n",
    "        # loss function\n",
    "        criterion = nn.SmoothL1Loss()\n",
    "        loss = criterion(chosen_Q, target_Q)\n",
    "        \n",
    "        # update by gradient descent\n",
    "        self.optimizer.zero_grad()\n",
    "        loss.backward()\n",
    "        self.optimizer.step()\n",
    "        \n",
    "        return loss.item()\n",
    "        \n",
    "    def get_eps(self, step):\n",
    "        eps_init = self.eps_init\n",
    "        eps_final = self.eps_final\n",
    "        if step >= self.eps_decrease_step:\n",
    "            eps = eps_final\n",
    "        else:\n",
    "            m = (eps_final - eps_init) / self.eps_decrease_step\n",
    "            eps = eps_init + m * eps\n",
    "        return eps\n",
    "        \n",
    "        \n",
    "        "
   ]
  }
 ],
 "metadata": {
  "kernelspec": {
   "display_name": "finance",
   "language": "python",
   "name": "python3"
  },
  "language_info": {
   "codemirror_mode": {
    "name": "ipython",
    "version": 3
   },
   "file_extension": ".py",
   "mimetype": "text/x-python",
   "name": "python",
   "nbconvert_exporter": "python",
   "pygments_lexer": "ipython3",
   "version": "3.8.18"
  }
 },
 "nbformat": 4,
 "nbformat_minor": 2
}
