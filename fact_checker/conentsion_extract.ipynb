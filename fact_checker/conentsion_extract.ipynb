{
 "cells": [
  {
   "cell_type": "code",
   "execution_count": 2,
   "metadata": {},
   "outputs": [],
   "source": [
    "import os\n",
    "import keyring\n",
    "\n",
    "from typing import Annotated, Literal, List, Optional, TypedDict\n",
    "\n",
    "from langchain_community.tools.tavily_search import TavilySearchResults\n",
    "from langchain_core.prompts import ChatPromptTemplate, MessagesPlaceholder\n",
    "from langchain_openai import ChatOpenAI\n",
    "from pydantic import BaseModel\n",
    "from langchain_core.messages import HumanMessage, BaseMessage\n",
    "from langgraph.prebuilt import create_react_agent\n",
    "\n",
    "from langchain_community.document_loaders import WebBaseLoader\n",
    "from langchain_core.tools import tool\n",
    "\n",
    "# Setup for tools\n",
    "OPENAI_API_KEY = keyring.get_password('openai', 'key_for_mac')\n",
    "TAVILY_API_KEY = keyring.get_password('tavily', 'key_for_mac')\n",
    "os.environ['OPENAI_API_KEY'] = OPENAI_API_KEY\n",
    "os.environ['TAVILY_API_KEY'] = TAVILY_API_KEY\n",
    "\n",
    "# Set up LangSmith observability\n",
    "os.environ['LANGCHAIN_TRACING_V2'] = 'true'\n",
    "os.environ['LANGCHAIN_ENDPOINT'] = \"https://api.smith.langchain.com\"\n",
    "os.environ['LANGCHAIN_API_KEY'] = keyring.get_password('langsmith', 'learning_agent')\n",
    "os.environ['LANGCHAIN_PROJECT'] = \"pr-stupendous-hood-8\""
   ]
  },
  {
   "cell_type": "code",
   "execution_count": 3,
   "metadata": {},
   "outputs": [],
   "source": [
    "# tavily search tool\n",
    "tavily_tool = TavilySearchResults(max_results=5)\n",
    "\n",
    "# Set web search and scraping tools\n",
    "@tool\n",
    "def scrape_webpages(urls: List[str]) -> str:\n",
    "    \"\"\" Use requests and bs4 ro scrape the provideed web pages for detailed information. \"\"\"\n",
    "    loader = WebBaseLoader(urls)\n",
    "    docs = loader.load()\n",
    "    return \"\\n\\n\".join(\n",
    "        [\n",
    "            f\"\\n{doc.page_content}\\n\"\n",
    "            for doc in docs\n",
    "        ]\n",
    "    )\n",
    "    \n",
    "# Define the tools\n",
    "tools = [\n",
    "    tavily_tool,\n",
    "    scrape_webpages\n",
    "]"
   ]
  },
  {
   "cell_type": "code",
   "execution_count": 6,
   "metadata": {},
   "outputs": [],
   "source": [
    "import functools\n",
    "import operator\n",
    "\n",
    "def agent_node(state, agent, name):\n",
    "    result = agent.invoke(state)\n",
    "    extracted_contentions = result.get(\"contentions\", [])\n",
    "    return {\n",
    "        \"messages\": [HumanMessage(content=result[\"messages\"][-1].content, name=name)], \n",
    "        \"contentions\": extracted_contentions\n",
    "    }\n",
    "\n",
    "llm = ChatOpenAI(model='gpt-4o-mini', temperature=0)\n",
    "\n",
    "query_system = \"\"\"\n",
    "You are a text analysis specialist in a Query Analysis Team.\n",
    "Your role is to extract contentious issues from the input text that require fact-checking.\n",
    "\n",
    "Your task:\n",
    "1. Analyze the user's request or question.\n",
    "2. Extract contentious issues.\n",
    "\"\"\"\n",
    "\n",
    "query_agent = create_react_agent(llm, tools=[tavily_tool], state_modifier=query_system)\n",
    "query_node = functools.partial(agent_node, agent=query_agent, name=\"John\")"
   ]
  },
  {
   "cell_type": "code",
   "execution_count": null,
   "metadata": {},
   "outputs": [],
   "source": [
    "class ContentionAnalysisState(TypedDict):\n",
    "    messages: Annotated"
   ]
  },
  {
   "cell_type": "code",
   "execution_count": null,
   "metadata": {},
   "outputs": [],
   "source": [
    "# # QueryAnalysisTeam graph state\n",
    "# class QueryAnalysisTeamState(TypedDict):\n",
    "#     # A message is added after each team member finishes\n",
    "#     messages = Annotated[List[BaseMessage], operator.add]\n",
    "#     # The team members are tracked so they are aware of the other's skill-sets\n",
    "#     team_members: List[str]\n",
    "#     # Used to route work. The supervisor calls a function that will update this every time it makes a decision\n",
    "#     next: str\n",
    "#     # The list of contention extracted from the query\n",
    "#     contentions: List[str]"
   ]
  }
 ],
 "metadata": {
  "kernelspec": {
   "display_name": "agent",
   "language": "python",
   "name": "python3"
  },
  "language_info": {
   "codemirror_mode": {
    "name": "ipython",
    "version": 3
   },
   "file_extension": ".py",
   "mimetype": "text/x-python",
   "name": "python",
   "nbconvert_exporter": "python",
   "pygments_lexer": "ipython3",
   "version": "3.10.6"
  }
 },
 "nbformat": 4,
 "nbformat_minor": 2
}
