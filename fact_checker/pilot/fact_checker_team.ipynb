{
 "cells": [
  {
   "cell_type": "code",
   "execution_count": 79,
   "metadata": {},
   "outputs": [],
   "source": [
    "import os\n",
    "import keyring\n",
    "import json\n",
    "import functools\n",
    "import operator\n",
    "\n",
    "from typing import Annotated, Literal, List, Optional, TypedDict\n",
    "\n",
    "from langchain_community.tools.tavily_search import TavilySearchResults\n",
    "from langchain_core.prompts import ChatPromptTemplate, MessagesPlaceholder\n",
    "from langchain_openai import ChatOpenAI\n",
    "from pydantic import BaseModel\n",
    "from langchain_core.messages import HumanMessage, BaseMessage\n",
    "from langgraph.prebuilt import create_react_agent\n",
    "\n",
    "from langchain_community.document_loaders import WebBaseLoader\n",
    "from langchain_core.tools import tool\n",
    "\n",
    "# Setup for tools\n",
    "OPENAI_API_KEY = keyring.get_password('openai', 'key_for_mac')\n",
    "TAVILY_API_KEY = keyring.get_password('tavily', 'key_for_mac')\n",
    "os.environ['OPENAI_API_KEY'] = OPENAI_API_KEY\n",
    "os.environ['TAVILY_API_KEY'] = TAVILY_API_KEY\n",
    "\n",
    "# Set up LangSmith observability\n",
    "os.environ['LANGCHAIN_TRACING_V2'] = 'true'\n",
    "os.environ['LANGCHAIN_ENDPOINT'] = \"https://api.smith.langchain.com\"\n",
    "os.environ['LANGCHAIN_API_KEY'] = keyring.get_password('langsmith', 'learning_agent')\n",
    "os.environ['LANGCHAIN_PROJECT'] = \"pr-stupendous-hood-8\""
   ]
  },
  {
   "cell_type": "code",
   "execution_count": 50,
   "metadata": {},
   "outputs": [],
   "source": [
    "# tavily search tool\n",
    "search_tool = TavilySearchResults(max_results=5)\n",
    "\n",
    "# Set web search and scraping tools\n",
    "@tool\n",
    "def scrape_webpages(urls: List[str]) -> str:\n",
    "    \"\"\" Use requests and bs4 ro scrape the provideed web pages for detailed information. \"\"\"\n",
    "    loader = WebBaseLoader(urls)\n",
    "    docs = loader.load()\n",
    "    return \"\\n\\n\".join(\n",
    "        [\n",
    "            f\"\\n{doc.page_content}\\n\"\n",
    "            for doc in docs\n",
    "        ]\n",
    "    )\n",
    "    \n",
    "# Define the tools\n",
    "tools = [\n",
    "    search_tool,\n",
    "    scrape_webpages\n",
    "]"
   ]
  },
  {
   "cell_type": "code",
   "execution_count": 51,
   "metadata": {},
   "outputs": [],
   "source": [
    "# Define sub-agents and supervisor agent\n",
    "from langchain.output_parsers.openai_functions import JsonOutputFunctionsParser\n",
    "from langgraph.graph import StateGraph, START, END\n",
    "from langchain_core.messages import HumanMessage\n",
    "\n",
    "def agent_node(state, agent, name):\n",
    "    result = agent.invoke(state)\n",
    "    # extracted_contentions = result.get(\"contentions\", [])\n",
    "    return {\n",
    "        \"messages\": [HumanMessage(content=result[\"messages\"][-1].content, name=name)], \n",
    "    }"
   ]
  },
  {
   "cell_type": "code",
   "execution_count": 52,
   "metadata": {},
   "outputs": [],
   "source": [
    "# Make a query analysis team\n",
    "import functools\n",
    "import operator\n",
    "\n",
    "# QueryAnalysisTeam graph state\n",
    "class FactCheckerTeamState(TypedDict):\n",
    "    # A message is added after each team member finishes\n",
    "    messages: Annotated[List[BaseMessage], operator.add]\n",
    "    # The team members are tracked so they are aware of the other's skill-sets\n",
    "    team_members: List[str]\n",
    "    # Used to route work. The supervisor calls a function that will update this every time it makes a decision\n",
    "    next: str\n",
    "    # Supervisor's instruction to the agent\n",
    "    instruction: str\n",
    "    # The list of contention extracted from the query\n",
    "    contentions: List[str]\n",
    "    # The list of facts checked by the agent\n",
    "    facts: List[str]\n",
    "\n",
    "llm = ChatOpenAI(model='gpt-4o-mini', temperature=0)"
   ]
  },
  {
   "cell_type": "code",
   "execution_count": 60,
   "metadata": {},
   "outputs": [],
   "source": [
    "# Query Analysis Agent : Alicia\n",
    "analysis_members = [\"Alicia\"]\n",
    "\n",
    "analysis_system = \"\"\"\n",
    "You are a text analysis specialist in a Query Analysis Team.\n",
    "Your primary role is to extract contentious issues from the input text that require fact-checking.\n",
    "You should answer the same language as user's input.\n",
    "\n",
    "# Your Responsibilities:\n",
    "\t1.\tAnalyze the input text for extracting contention:\n",
    "Analyze the input text carefully to identify potential areas of controversy or claims requiring verification.\n",
    "\t2.\tExtranc specific contentious iuuses:\n",
    "Extract specific contentious issues, including any claims, statistics, or opinions that might spark debate or require validation.\n",
    "  \t3.\tReview Extracted Contentious Issues:\n",
    "Carefully analyze the issues provided by the query analyst, ensuring you fully understand the context and significance of each issue.\n",
    "\t4.\tSummarize Issues Clearly and Concisely:\n",
    "Create concise summaries that capture the essence of each contentious issue while ensuring clarity and relevance for fact-checking purposes.\n",
    "\t5.\tOrganize Summaries in a Structured Format:\n",
    "Present the summarized issues in a clean and structured format that is easy to reference and understand.\n",
    "\n",
    "# Output Format:\n",
    "{\n",
    "    \"contentious_issues\": [\n",
    "        \"Summarized issue 1\",\n",
    "        \"Summarized issue 2\",\n",
    "        \"Summarized issue 3\"\n",
    "    ]\n",
    "}\n",
    "\"\"\"\n",
    "\n",
    "def analysis_agent_node(state, agent, name) -> FactCheckerTeamState:\n",
    "    result = agent.invoke(state)\n",
    "    try:\n",
    "        output = json.loads(result[\"messages\"][-1].content)\n",
    "        summarized_issues = output.get(\"contentious_issues\", [])\n",
    "        if not summarized_issues:\n",
    "            raise ValueError(\"Summarized contentions are empty.\")\n",
    "    except (json.JSONDecodeError, KeyError, ValueError) as e:\n",
    "        summarized_issues = [\"Error in summarizing contentions: \" + str(e)]\n",
    "    \n",
    "    state['contensions'] = summarized_issues\n",
    "    \n",
    "    return {\n",
    "        \"messages\": [HumanMessage(content=result[\"messages\"][-1].content, name=name)],\n",
    "        # \"contentions\": summarized_issues,\n",
    "    }\n",
    "\n",
    "analysis_agent = create_react_agent(llm, tools=[], state_modifier=analysis_system)\n",
    "analysis_node = functools.partial(agent_node, agent=analysis_agent, name=\"Alicia\")"
   ]
  },
  {
   "cell_type": "code",
   "execution_count": 61,
   "metadata": {},
   "outputs": [
    {
     "data": {
      "image/png": "[encoded data removed]",
      "text/plain": [
       "<langgraph.graph.state.CompiledStateGraph object at 0x12c8237c0>"
      ]
     },
     "metadata": {},
     "output_type": "display_data"
    }
   ],
   "source": [
    "# Verify the analysis team\n",
    "analysis_workflow = StateGraph(FactCheckerTeamState)\n",
    "analysis_workflow.add_node(\"Alicia\", analysis_node)\n",
    "analysis_workflow.add_edge(START, \"Alicia\")\n",
    "analysis_workflow.add_edge(\"Alicia\", END)\n",
    "analysis_graph = analysis_workflow.compile()\n",
    "\n",
    "display(analysis_graph)"
   ]
  },
  {
   "cell_type": "code",
   "execution_count": 62,
   "metadata": {},
   "outputs": [
    {
     "name": "stdout",
     "output_type": "stream",
     "text": [
      "{'Alicia': {'messages': [HumanMessage(content='{\\n    \"contentious_issues\": [\\n        \"Claim that over 70% of people globally support the use of artificial intelligence in law enforcement.\",\\n        \"Assertion that AI-based policing systems have led to a 50% increase in wrongful arrests due to algorithmic bias.\",\\n        \"Government claim that implementing AI surveillance has reduced crime rates by as much as 40%.\",\\n        \"Dispute from human rights organizations regarding the transparency and reliability of data supporting crime rate reductions due to AI surveillance.\"\\n    ]\\n}', additional_kwargs={}, response_metadata={}, name='Alicia')]}}\n",
      "---\n"
     ]
    }
   ],
   "source": [
    "for s in analysis_graph.stream(\n",
    "    {\n",
    "        \"messages\": [HumanMessage(\n",
    "            content=\"Recent studies suggest that over 70% of people globally support the use of artificial intelligence in law enforcement. However, critics argue that AI-based policing systems have led to a 50% increase in wrongful arrests due to algorithmic bias. Additionally, some governments claim that implementing AI surveillance has reduced crime rates by as much as 40%, but human rights organizations dispute these figures, stating that the data lacks transparency and reliability.\"\n",
    "        )]\n",
    "    }\n",
    "):\n",
    "    if \"__end__\" not in s:\n",
    "        print(s)\n",
    "        print(\"---\")"
   ]
  },
  {
   "cell_type": "code",
   "execution_count": 63,
   "metadata": {},
   "outputs": [
    {
     "name": "stdout",
     "output_type": "stream",
     "text": [
      "{'Alicia': {'messages': [HumanMessage(content='{\\n    \"contentious_issues\": [\\n        \"대통령이 선관위에 대해 전면적인 강제 수사를 해야 한다는 주장\",\\n        \"전자개표 방식에 대한 고집이 의혹을 불러일으킨다는 의견\",\\n        \"선관위가 의혹 덩어리라는 주장\"\\n    ]\\n}', additional_kwargs={}, response_metadata={}, name='Alicia')]}}\n",
      "---\n"
     ]
    }
   ],
   "source": [
    "for s in analysis_graph.stream(\n",
    "    {\n",
    "        \"messages\": [HumanMessage(\n",
    "            '수개표가 아닌 전자개표 방식을 고집하니, 대통령은 의혹 덩어리라고 생각되는 선관위에 대해 전면적인 강제 수사를 할 수 밖에 없다.'\n",
    "        )]\n",
    "    }\n",
    "):\n",
    "    if \"__end__\" not in s:\n",
    "        print(s)\n",
    "        print(\"---\")"
   ]
  },
  {
   "cell_type": "code",
   "execution_count": 40,
   "metadata": {},
   "outputs": [],
   "source": [
    "# Research members\n",
    "research_roles = [\"economy\", \"science\", \"technology\", \"politics\", \"history\", \"generalist\"]\n",
    "reseach_members = [\"Buffet\", \"Newton\", \"Elon\", \"Machiavelli\", \"Carr\", \"Jimmy\"]\n",
    "\n",
    "research_system = \"\"\"\n",
    "## Responsibilities:\n",
    "1. Research Facts: Use appropriate tools and reliable sources to verify the factual accuracy of each contention.\n",
    "2. Assign a Factual Score:\n",
    "\t• Provide a factuality score between 0 and 100, where:\n",
    "\t• 0 = Completely false.\n",
    "    • 50 = Partially true.\n",
    "\t• 100 = Completely true.\n",
    "\t• Include an explanation for your score, especially if the score is not 100 or 0.\n",
    "3. Provide Supporting Evidence: Include links to the sources used for your research. Ensure the sources are credible and relevant.\n",
    "\n",
    "## Output Format:\n",
    "[\n",
    "    {\n",
    "        \"contention\": \"<The original contentious statement>\",\n",
    "        \"fact\": \"<Explanation of the factual accuracy, supported by evidence>\",\n",
    "        \"score\": <Factual score between 0 and 100>,\n",
    "        \"sources\": [\n",
    "            \"<URL or reference 1>\",\n",
    "            \"<URL or reference 2>\",\n",
    "            \"<URL or reference 3>\"\n",
    "        ]\n",
    "    }\n",
    "]\n",
    "\n",
    "\n",
    "## Example output format:\n",
    "[\n",
    "    {\n",
    "        \"contentions\":\"The claim that drinking eight glasses of water a day improves health and prevents chronic diseases is contentious, with some scientists arguing there is no universal scientific basis for this recommendation, necessitating further investigation into hydration guidelines.\",\n",
    "        \"fact\":\"The recommendation to drink eight glasses of water daily lacks robust scientific support. Hydration needs vary among individuals based on factors like age, activity level, and climate. Many experts suggest using thirst as a natural indicator for when to drink water. Additionally, various beverages and foods contribute to overall hydration, not just plain water.\",\n",
    "        \"score\": 30,\n",
    "        \"sources\": [\n",
    "            \"https://www.healthline.com/nutrition/8-glasses-of-water-per-day?utm_source=chatgpt.com\",\n",
    "            \"https://sciencebasedmedicine.org/eight-glasses-of-water-myth/\",\n",
    "            \"https://www.michiganmedicine.org/health-lab/myth-busting-no-more-8-glasses-day\"\n",
    "        ]\n",
    "    },\n",
    "    {\n",
    "        \"contentions\":\"he IEA's prediction that electric vehicles will constitute 30% of global car sales by 2030, up from 5% in 2020, requires scrutiny of the assumptions and factors influencing EV adoption.\",\n",
    "        \"fact\":\"The IEA projects that electric vehicles (EVs) could account for 30% of global car sales by 2030, up from 5% in 2020, under scenarios where existing and announced government policies are maintained. Achieving this target depends on several key factors, including government incentives and emission regulations, the development of charging infrastructure, advancements in battery technology to reduce costs and improve range, and market dynamics such as consumer preferences and the availability of diverse EV models. Any significant changes in these areas, such as shifts in policy or economic conditions, could impact the realization of this projection.\",\n",
    "        \"score\": 90,\n",
    "        \"sources\": [\n",
    "            \"https://www.healthline.com/nutrition/8-glasses-of-water-per-day?utm_source=chatgpt.com\",\n",
    "            \"https://sciencebasedmedicine.org/eight-glasses-of-water-myth/\",\n",
    "            \"https://www.michiganmedicine.org/health-lab/myth-busting-no-more-8-glasses-day\"\n",
    "        ]\n",
    "    }\n",
    "]\n",
    "\"\"\"\n"
   ]
  },
  {
   "cell_type": "code",
   "execution_count": 64,
   "metadata": {},
   "outputs": [],
   "source": [
    "# Test econmomy research agent\n",
    "economy_role_system = \"\"\"You are a specialist tasked with researching and verifying the factual accuracy of contentions provided by the Query Analysis Team. \n",
    "Your primary responsibility is to assess the validity of each contention and provide a comprehensive evaluation.\\n\"\"\"\n",
    "\n",
    "economy_research_system = economy_role_system + research_system\n",
    "economy_research_system\n",
    "\n",
    "economy_research_agent = create_react_agent(llm, tools=[search_tool, scrape_webpages], state_modifier=economy_research_system)\n",
    "economy_research_node = functools.partial(agent_node, agent=economy_research_agent, name=\"Buffett\")"
   ]
  },
  {
   "cell_type": "code",
   "execution_count": 42,
   "metadata": {},
   "outputs": [
    {
     "data": {
      "image/png": "[encoded data removed]",
      "text/plain": [
       "<langgraph.graph.state.CompiledStateGraph object at 0x12c403fd0>"
      ]
     },
     "metadata": {},
     "output_type": "display_data"
    }
   ],
   "source": [
    "# Verify the research team\n",
    "research_workflow = StateGraph(FactCheckerTeamState)\n",
    "research_workflow.add_node(\"Buffet\",economy_research_node)\n",
    "research_workflow.add_edge(START, \"Buffet\")\n",
    "research_workflow.add_edge(\"Buffet\", END)\n",
    "research_graph = research_workflow.compile()\n",
    "\n",
    "display(research_graph)"
   ]
  },
  {
   "cell_type": "code",
   "execution_count": 43,
   "metadata": {},
   "outputs": [
    {
     "name": "stdout",
     "output_type": "stream",
     "text": [
      "{'Buffet': {'messages': [HumanMessage(content='[\\n    {\\n        \"contention\": \"Recent studies suggest that over 70% of people globally support the use of artificial intelligence in law enforcement.\",\\n        \"fact\": \"While there is significant support for AI in law enforcement, the claim that over 70% of people globally support it is not universally substantiated. A survey by Ipsos indicates strong bipartisan support for AI safety standards, but it also highlights concerns about misuse in policing. Other surveys show that while many law enforcement professionals view AI positively, public opinion may vary significantly by region and context. Therefore, the statement is partially true but lacks comprehensive global backing.\",\\n        \"score\": 60,\\n        \"sources\": [\\n            \"https://www.ipsos.com/en-us/artificial-intelligence-key-insights-data-and-tables\",\\n            \"https://i-hls.com/archives/127003\",\\n            \"https://globalordnancenews.com/2024/11/20/ai-in-law-enforcement-cellebrite-survey-reveals-opportunities-challenges-and-growing-adoption-by/\"\\n        ]\\n    },\\n    {\\n        \"contention\": \"Critics argue that AI-based policing systems have led to a 50% increase in wrongful arrests due to algorithmic bias.\",\\n        \"fact\": \"The assertion that AI-based policing systems have caused a 50% increase in wrongful arrests is a contentious claim. While there are documented cases of wrongful arrests linked to algorithmic bias, quantifying this as a 50% increase is not universally supported by empirical data. Studies indicate that algorithmic bias can lead to misidentifications and wrongful arrests, but specific statistics can vary widely based on the context and location. Thus, the claim is partially true but lacks precise backing.\",\\n        \"score\": 50,\\n        \"sources\": [\\n            \"https://naacp.org/resources/artificial-intelligence-predictive-policing-issue-brief\",\\n            \"https://www.newstarget.com/2025-01-18-police-ai-facial-recognition-rise-wrongful-arrests.html\",\\n            \"https://link.springer.com/article/10.1007/s43681-024-00541-3\"\\n        ]\\n    },\\n    {\\n        \"contention\": \"Some governments claim that implementing AI surveillance has reduced crime rates by as much as 40%, but human rights organizations dispute these figures, stating that the data lacks transparency and reliability.\",\\n        \"fact\": \"The claim that AI surveillance has led to a 40% reduction in crime rates is reported by some governments, but it is met with skepticism from human rights organizations. These organizations argue that the data supporting such claims often lacks transparency and reliability, making it difficult to validate the effectiveness of AI surveillance in crime reduction. This contention reflects a real debate about the efficacy and ethical implications of AI in law enforcement, making it largely true.\",\\n        \"score\": 80,\\n        \"sources\": [\\n            \"https://www.deloitte.com/global/en/Industries/government-public/perspectives/urban-future-with-a-purpose/surveillance-and-predictive-policing-through-ai.html\",\\n            \"https://www.ned.org/global-struggle-over-ai-surveillance-emerging-trends-democratic-responses/\",\\n            \"https://www.aigantic.com/ai-and-surveillance-exploring-advantages-and-ethical-dilemmas/\"\\n        ]\\n    }\\n]', additional_kwargs={}, response_metadata={}, name='Buffett')]}}\n",
      "---\n"
     ]
    }
   ],
   "source": [
    "for s in research_graph.stream(\n",
    "    {\n",
    "        \"messages\": [HumanMessage(\n",
    "            content=\"Recent studies suggest that over 70% of people globally support the use of artificial intelligence in law enforcement. However, critics argue that AI-based policing systems have led to a 50% increase in wrongful arrests due to algorithmic bias. Additionally, some governments claim that implementing AI surveillance has reduced crime rates by as much as 40%, but human rights organizations dispute these figures, stating that the data lacks transparency and reliability.\"\n",
    "        )]\n",
    "    }\n",
    "):\n",
    "    if \"__end__\" not in s:\n",
    "        print(s)\n",
    "        print(\"---\")"
   ]
  },
  {
   "cell_type": "code",
   "execution_count": 44,
   "metadata": {},
   "outputs": [
    {
     "name": "stdout",
     "output_type": "stream",
     "text": [
      "{'Buffet': {'messages': [HumanMessage(content='[\\n    {\\n        \"contention\": \"수개표가 아닌 전자개표 방식을 고집하니, 대통령은 의혹 덩어리라고 생각되는 선관위에 대해 전면적인 강제 수사를 할 수 밖에 없다.\",\\n        \"fact\": \"대통령 윤석열은 중앙선거관리위원회(선관위)에 대한 강제 수사가 사실상 불가능하다고 주장했으나, 최근 5년간 선관위에 대한 압수수색이 181차례 이뤄졌고, 이 중 91%가 그의 취임 이후에 진행되었다. 그러나 부정선거 의혹과 관련된 압수수색은 단 한 번도 없었다. 선관위는 부정선거가 시스템상 불가능하다고 반박하며, 대통령의 주장에 대해 법적으로 압수수색은 가능하다고 설명했다. 따라서 대통령의 주장과 선관위의 반박은 상충하며, 강제 수사에 대한 의혹은 사실과 다르다.\",\\n        \"score\": 40,\\n        \"sources\": [\\n            \"https://news.nate.com/view/20250122n17039\",\\n            \"https://www.hani.co.kr/arti/politics/politics_general/1179200.html\",\\n            \"https://www.yna.co.kr/view/AKR20241213086751001\"\\n        ]\\n    }\\n]', additional_kwargs={}, response_metadata={}, name='Buffett')]}}\n",
      "---\n"
     ]
    }
   ],
   "source": [
    "for s in research_graph.stream(\n",
    "    {\n",
    "        \"messages\": [HumanMessage(\n",
    "            content= '수개표가 아닌 전자개표 방식을 고집하니, 대통령은 의혹 덩어리라고 생각되는 선관위에 대해 전면적인 강제 수사를 할 수 밖에 없다.'\n",
    "        )]\n",
    "    }\n",
    "):\n",
    "    if \"__end__\" not in s:\n",
    "        print(s)\n",
    "        print(\"---\")"
   ]
  },
  {
   "cell_type": "code",
   "execution_count": 46,
   "metadata": {},
   "outputs": [
    {
     "name": "stdout",
     "output_type": "stream",
     "text": [
      "{'Buffet': {'messages': [HumanMessage(content='[\\n    {\\n        \"contention\": \"선관위가 의혹 덩어리라는 주장\",\\n        \"fact\": \"중앙선거관리위원회(선관위)는 최근 부정선거 의혹에 대해 여러 차례 반박하며 이러한 주장을 \\'근거 없는 주장\\'이라고 일축했습니다. 선관위는 개표 결과 조작이나 사전투표용지 조작 등의 주장에 대해 명확한 반박을 제시하며, 이러한 주장이 민주주의 제도를 위협하는 행위라고 강조했습니다. 따라서 선관위에 대한 의혹은 사실에 기반하지 않은 것으로 보입니다.\",\\n        \"score\": 20,\\n        \"sources\": [\\n            \"https://www.yna.co.kr/view/MYH20241219014100641\",\\n            \"https://www.wikitree.co.kr/articles/1011396\",\\n            \"https://www.khan.co.kr/article/202501151811001\"\\n        ]\\n    }\\n]', additional_kwargs={}, response_metadata={}, name='Buffett')]}}\n",
      "---\n"
     ]
    }
   ],
   "source": [
    "for s in research_graph.stream(\n",
    "    {\n",
    "        \"messages\": [HumanMessage(\n",
    "            content= '선관위가 의혹 덩어리라는 주장'\n",
    "        )]\n",
    "    }\n",
    "):\n",
    "    if \"__end__\" not in s:\n",
    "        print(s)\n",
    "        print(\"---\")"
   ]
  },
  {
   "cell_type": "code",
   "execution_count": 73,
   "metadata": {},
   "outputs": [],
   "source": [
    "# # Create a supervisor\n",
    "# def create_team_supervisor(llm: ChatOpenAI, system_prompt, members) -> str:\n",
    "#     \"\"\"An LLM-Based router\"\"\"\n",
    "#     options = [\"FINISH\"] + members\n",
    "    \n",
    "#     # Define a function for OpenAI function calling : https://platform.openai.com/docs/guides/function-calling\n",
    "#     route_tool = {\n",
    "#         \"name\": \"route\",\n",
    "#         \"description\": \"Select the next role and optionally provide clear instructions for the selected role to carry out\",\n",
    "#         \"parameters\": {\n",
    "#             \"type\": \"object\",\n",
    "#             \"properties\": {\n",
    "#                 \"next\": {\n",
    "#                     \"title\": \"Next\",\n",
    "#                     \"type\": \"string\",\n",
    "#                     \"enum\": options,\n",
    "#                     \"description\": \"The next team member to act or FINISH if the process is complete.\"\n",
    "#                 },\n",
    "#                 \"instructions\": {\n",
    "#                     \"title\": \"Instruction\",\n",
    "#                     \"type\": \"string\",\n",
    "#                     \"description\": \"Optional: Provide a clear instruction for the selected team member.\"\n",
    "#                 }\n",
    "#             },\n",
    "#             \"required\": [\"next\"]  # 'instructions' is not required\n",
    "#         }\n",
    "#     }\n",
    "    \n",
    "#     # Create the prompt template\n",
    "#     prompt = ChatPromptTemplate.from_messages(\n",
    "#         [\n",
    "#             (\"system\", system_prompt),\n",
    "#             MessagesPlaceholder(variable_name=\"messages\"),\n",
    "#             (\n",
    "#                 \"system\",\n",
    "#                 \"\"\"Given the conversation above, who should act next?\n",
    "#                 OR should we FINISH?, select one of : {options}.\n",
    "#                 Optionally, provide instructions for the selected team member.\n",
    "#                 \"\"\"\n",
    "#             )\n",
    "#         ]\n",
    "#     ).partial(options=str(options), team_members=\", \".join(members))\n",
    "#     return (\n",
    "#         prompt\n",
    "#         | llm.bind_functions(functions=[route_tool], function_call=\"route\")\n",
    "#         | JsonOutputFunctionsParser()\n",
    "#     )"
   ]
  },
  {
   "cell_type": "code",
   "execution_count": 71,
   "metadata": {},
   "outputs": [],
   "source": [
    "# Create a supervisor\n",
    "def create_team_supervisor(llm: ChatOpenAI, system_prompt, members) -> str:\n",
    "    \"\"\"An LLM-Based router\"\"\"\n",
    "    options = [\"FINISH\"] + members\n",
    "    \n",
    "    # Define a tool for routing decisions: OpenAI function calling\n",
    "    route_tool = {\n",
    "        \"name\": \"route\",\n",
    "        \"description\": \"Select the next role and optionally provide clear instructions for the selected role to carry out\",\n",
    "        \"parameters\": {\n",
    "            \"type\": \"object\",\n",
    "            \"properties\": {\n",
    "                \"next\": {\n",
    "                    \"title\": \"Next\",\n",
    "                    \"type\": \"string\",\n",
    "                    \"enum\": options,\n",
    "                    \"description\": \"The next team member to act or FINISH if the process is complete.\"\n",
    "                },\n",
    "                \"instructions\": {\n",
    "                    \"title\": \"Instruction\",\n",
    "                    \"type\": \"string\",\n",
    "                    \"description\": \"Optional: Provide a clear instruction for the selected team member.\"\n",
    "                }\n",
    "            },\n",
    "            \"required\": [\"next\"]  # 'instructions' is optional\n",
    "        }\n",
    "    }\n",
    "    \n",
    "    # Create the prompt template\n",
    "    prompt = ChatPromptTemplate.from_messages(\n",
    "        [\n",
    "            (\"system\", system_prompt),\n",
    "            MessagesPlaceholder(variable_name=\"messages\"),\n",
    "            (\n",
    "                \"system\",\n",
    "                \"\"\"Given the conversation above, who should act next?\n",
    "                OR should we FINISH? Select one of: {options}.\n",
    "                Optionally, provide instructions for the selected team member.\n",
    "                \"\"\"\n",
    "            )\n",
    "        ]\n",
    "    ).partial(options=str(options), team_members=\", \".join(members))\n",
    "    \n",
    "    # Bind the tool to the LLM\n",
    "    return (\n",
    "        prompt\n",
    "        | llm.bind_tools(tools=[route_tool])  # Fix: Wrap route_tool in a list\n",
    "        | JsonOutputFunctionsParser()\n",
    "    )"
   ]
  },
  {
   "cell_type": "code",
   "execution_count": 74,
   "metadata": {},
   "outputs": [],
   "source": [
    "research_supervisor_agent = create_team_supervisor(\n",
    "    llm,\n",
    "    \"\"\"You are responsible for managing a research team tasked with identifying contentious issues from the given text and verifying their factual accuracy. \n",
    "    Your team consists of the following members: Alicia and Buffet.\n",
    "\n",
    "    ### Responsibilities:\n",
    "    1. **Manage Task Assignment**:\n",
    "        - Evaluate the user input and decide which worker (Alicia or Buffet) should act next based on their expertise.\n",
    "        - Monitor the progress and context of the fact-checking process.\n",
    "        - If a worker’s output requires further refinement or improvement, assign them additional tasks.\n",
    "\n",
    "    2. **Evaluate Outputs**:\n",
    "        - Review the results provided by each worker.\n",
    "        - Determine whether the output meets the expected standards.\n",
    "        - If satisfactory, assign the next task or conclude the process.\n",
    "\n",
    "    3. **Communicate Clearly**:\n",
    "        - Respond with one of the following options: {', '.join(options)}.\n",
    "        - Optionally, provide clear instructions to the selected worker.\n",
    "\n",
    "    4. **Complete the Process**:\n",
    "        - When all contentious issues have been identified and researched, respond with “FINISH” to conclude the task.\n",
    "\n",
    "    ### Guidelines:\n",
    "    - Assign tasks efficiently to ensure the process progresses productively.\n",
    "    - Provide constructive feedback if outputs need improvement.\n",
    "    - Ensure the final results are clear, concise, and actionable for the fact-checking team.\n",
    "\n",
    "    ### Output Instructions:\n",
    "    Respond with a valid JSON object formatted as follows:\n",
    "    {\n",
    "        \"next\": \"Analysis\",  // Replace \"Analysis\" with \"Research\" or \"FINISH\" as appropriate.\n",
    "        \"instructions\": \"Provide specific instructions for the selected worker, if applicable.\"\n",
    "    }\n",
    "    \"\"\",\n",
    "    [\"Analysis\", \"Research\"],\n",
    ")"
   ]
  },
  {
   "cell_type": "code",
   "execution_count": 76,
   "metadata": {},
   "outputs": [],
   "source": [
    "# Build a Query Team graph define chain for super layer\n",
    "query_workflow = StateGraph(FactCheckerTeamState)\n",
    "query_workflow.add_node(\"Alicia\", analysis_node)\n",
    "query_workflow.add_node('Supervisor', research_supervisor_agent)\n",
    "query_workflow.add_node('Buffet', economy_research_node)\n",
    "query_workflow.add_edge(\"Alicia\", \"Supervisor\")\n",
    "query_workflow.add_edge(\"Buffet\", \"Supervisor\")\n",
    "query_workflow.add_edge(START, \"Supervisor\")\n",
    "query_workflow.add_conditional_edges(\n",
    "    \"Supervisor\",\n",
    "    lambda x: x[\"next\"],\n",
    "    {\n",
    "        \"Analysis\": \"Alicia\", \n",
    "        \"Research\": \"Buffet\",\n",
    "        \"FINISH\": END\n",
    "    }\n",
    ")\n",
    "query_graph = query_workflow .compile()"
   ]
  },
  {
   "cell_type": "code",
   "execution_count": 77,
   "metadata": {},
   "outputs": [
    {
     "data": {
      "image/png": "[encoded data removed]",
      "text/plain": [
       "<IPython.core.display.Image object>"
      ]
     },
     "metadata": {},
     "output_type": "display_data"
    }
   ],
   "source": [
    "from IPython.display import Image, display\n",
    "display(Image(query_graph.get_graph().draw_mermaid_png()))"
   ]
  },
  {
   "cell_type": "code",
   "execution_count": 78,
   "metadata": {},
   "outputs": [
    {
     "ename": "KeyError",
     "evalue": "'Input to ChatPromptTemplate is missing variables {\"\\', \\'.join(options)\", \\'\\\\n        \"next\"\\'}.  Expected: [\\'\\\\n        \"next\"\\', \"\\', \\'.join(options)\", \\'messages\\'] Received: [\\'messages\\']\\nNote: if you intended {\\', \\'.join(options)} to be part of the string and not a variable, please escape it with double curly braces like: \\'{{\\', \\'.join(options)}}\\'.\\nFor troubleshooting, visit: https://python.langchain.com/docs/troubleshooting/errors/INVALID_PROMPT_INPUT '",
     "output_type": "error",
     "traceback": [
      "\u001b[0;31m---------------------------------------------------------------------------\u001b[0m",
      "\u001b[0;31mKeyError\u001b[0m                                  Traceback (most recent call last)",
      "Cell \u001b[0;32mIn[78], line 1\u001b[0m\n\u001b[0;32m----> 1\u001b[0m \u001b[38;5;28;01mfor\u001b[39;00m s \u001b[38;5;129;01min\u001b[39;00m query_graph\u001b[38;5;241m.\u001b[39mstream(\n\u001b[1;32m      2\u001b[0m     {\n\u001b[1;32m      3\u001b[0m         \u001b[38;5;124m\"\u001b[39m\u001b[38;5;124mmessages\u001b[39m\u001b[38;5;124m\"\u001b[39m: [HumanMessage(\n\u001b[1;32m      4\u001b[0m             content\u001b[38;5;241m=\u001b[39m \u001b[38;5;124m'\u001b[39m\u001b[38;5;124m수개표가 아닌 전자개표 방식을 고집하니, 대통령은 의혹 덩어리라고 생각되는 선관위에 대해 전면적인 강제 수사를 할 수 밖에 없다.\u001b[39m\u001b[38;5;124m'\u001b[39m\n\u001b[1;32m      5\u001b[0m         )]\n\u001b[1;32m      6\u001b[0m     }\n\u001b[1;32m      7\u001b[0m ):\n\u001b[1;32m      8\u001b[0m     \u001b[38;5;28;01mif\u001b[39;00m \u001b[38;5;124m\"\u001b[39m\u001b[38;5;124m__end__\u001b[39m\u001b[38;5;124m\"\u001b[39m \u001b[38;5;129;01mnot\u001b[39;00m \u001b[38;5;129;01min\u001b[39;00m s:\n\u001b[1;32m      9\u001b[0m         \u001b[38;5;28mprint\u001b[39m(s)\n",
      "File \u001b[0;32m~/anaconda3/envs/agent/lib/python3.10/site-packages/langgraph/pregel/__init__.py:1660\u001b[0m, in \u001b[0;36mPregel.stream\u001b[0;34m(self, input, config, stream_mode, output_keys, interrupt_before, interrupt_after, debug, subgraphs)\u001b[0m\n\u001b[1;32m   1654\u001b[0m     \u001b[38;5;66;03m# Similarly to Bulk Synchronous Parallel / Pregel model\u001b[39;00m\n\u001b[1;32m   1655\u001b[0m     \u001b[38;5;66;03m# computation proceeds in steps, while there are channel updates\u001b[39;00m\n\u001b[1;32m   1656\u001b[0m     \u001b[38;5;66;03m# channel updates from step N are only visible in step N+1\u001b[39;00m\n\u001b[1;32m   1657\u001b[0m     \u001b[38;5;66;03m# channels are guaranteed to be immutable for the duration of the step,\u001b[39;00m\n\u001b[1;32m   1658\u001b[0m     \u001b[38;5;66;03m# with channel updates applied only at the transition between steps\u001b[39;00m\n\u001b[1;32m   1659\u001b[0m     \u001b[38;5;28;01mwhile\u001b[39;00m loop\u001b[38;5;241m.\u001b[39mtick(input_keys\u001b[38;5;241m=\u001b[39m\u001b[38;5;28mself\u001b[39m\u001b[38;5;241m.\u001b[39minput_channels):\n\u001b[0;32m-> 1660\u001b[0m         \u001b[38;5;28;01mfor\u001b[39;00m _ \u001b[38;5;129;01min\u001b[39;00m runner\u001b[38;5;241m.\u001b[39mtick(\n\u001b[1;32m   1661\u001b[0m             loop\u001b[38;5;241m.\u001b[39mtasks\u001b[38;5;241m.\u001b[39mvalues(),\n\u001b[1;32m   1662\u001b[0m             timeout\u001b[38;5;241m=\u001b[39m\u001b[38;5;28mself\u001b[39m\u001b[38;5;241m.\u001b[39mstep_timeout,\n\u001b[1;32m   1663\u001b[0m             retry_policy\u001b[38;5;241m=\u001b[39m\u001b[38;5;28mself\u001b[39m\u001b[38;5;241m.\u001b[39mretry_policy,\n\u001b[1;32m   1664\u001b[0m             get_waiter\u001b[38;5;241m=\u001b[39mget_waiter,\n\u001b[1;32m   1665\u001b[0m         ):\n\u001b[1;32m   1666\u001b[0m             \u001b[38;5;66;03m# emit output\u001b[39;00m\n\u001b[1;32m   1667\u001b[0m             \u001b[38;5;28;01myield from\u001b[39;00m output()\n\u001b[1;32m   1668\u001b[0m \u001b[38;5;66;03m# emit output\u001b[39;00m\n",
      "File \u001b[0;32m~/anaconda3/envs/agent/lib/python3.10/site-packages/langgraph/pregel/runner.py:167\u001b[0m, in \u001b[0;36mPregelRunner.tick\u001b[0;34m(self, tasks, reraise, timeout, retry_policy, get_waiter)\u001b[0m\n\u001b[1;32m    165\u001b[0m t \u001b[38;5;241m=\u001b[39m tasks[\u001b[38;5;241m0\u001b[39m]\n\u001b[1;32m    166\u001b[0m \u001b[38;5;28;01mtry\u001b[39;00m:\n\u001b[0;32m--> 167\u001b[0m     \u001b[43mrun_with_retry\u001b[49m\u001b[43m(\u001b[49m\n\u001b[1;32m    168\u001b[0m \u001b[43m        \u001b[49m\u001b[43mt\u001b[49m\u001b[43m,\u001b[49m\n\u001b[1;32m    169\u001b[0m \u001b[43m        \u001b[49m\u001b[43mretry_policy\u001b[49m\u001b[43m,\u001b[49m\n\u001b[1;32m    170\u001b[0m \u001b[43m        \u001b[49m\u001b[43mconfigurable\u001b[49m\u001b[38;5;241;43m=\u001b[39;49m\u001b[43m{\u001b[49m\n\u001b[1;32m    171\u001b[0m \u001b[43m            \u001b[49m\u001b[43mCONFIG_KEY_SEND\u001b[49m\u001b[43m:\u001b[49m\u001b[43m \u001b[49m\u001b[43mpartial\u001b[49m\u001b[43m(\u001b[49m\u001b[43mwriter\u001b[49m\u001b[43m,\u001b[49m\u001b[43m \u001b[49m\u001b[43mt\u001b[49m\u001b[43m)\u001b[49m\u001b[43m,\u001b[49m\n\u001b[1;32m    172\u001b[0m \u001b[43m            \u001b[49m\u001b[43mCONFIG_KEY_CALL\u001b[49m\u001b[43m:\u001b[49m\u001b[43m \u001b[49m\u001b[43mpartial\u001b[49m\u001b[43m(\u001b[49m\u001b[43mcall\u001b[49m\u001b[43m,\u001b[49m\u001b[43m \u001b[49m\u001b[43mt\u001b[49m\u001b[43m)\u001b[49m\u001b[43m,\u001b[49m\n\u001b[1;32m    173\u001b[0m \u001b[43m        \u001b[49m\u001b[43m}\u001b[49m\u001b[43m,\u001b[49m\n\u001b[1;32m    174\u001b[0m \u001b[43m    \u001b[49m\u001b[43m)\u001b[49m\n\u001b[1;32m    175\u001b[0m     \u001b[38;5;28mself\u001b[39m\u001b[38;5;241m.\u001b[39mcommit(t, \u001b[38;5;28;01mNone\u001b[39;00m)\n\u001b[1;32m    176\u001b[0m \u001b[38;5;28;01mexcept\u001b[39;00m \u001b[38;5;167;01mException\u001b[39;00m \u001b[38;5;28;01mas\u001b[39;00m exc:\n",
      "File \u001b[0;32m~/anaconda3/envs/agent/lib/python3.10/site-packages/langgraph/pregel/retry.py:40\u001b[0m, in \u001b[0;36mrun_with_retry\u001b[0;34m(task, retry_policy, configurable)\u001b[0m\n\u001b[1;32m     38\u001b[0m     task\u001b[38;5;241m.\u001b[39mwrites\u001b[38;5;241m.\u001b[39mclear()\n\u001b[1;32m     39\u001b[0m     \u001b[38;5;66;03m# run the task\u001b[39;00m\n\u001b[0;32m---> 40\u001b[0m     \u001b[38;5;28;01mreturn\u001b[39;00m \u001b[43mtask\u001b[49m\u001b[38;5;241;43m.\u001b[39;49m\u001b[43mproc\u001b[49m\u001b[38;5;241;43m.\u001b[39;49m\u001b[43minvoke\u001b[49m\u001b[43m(\u001b[49m\u001b[43mtask\u001b[49m\u001b[38;5;241;43m.\u001b[39;49m\u001b[43minput\u001b[49m\u001b[43m,\u001b[49m\u001b[43m \u001b[49m\u001b[43mconfig\u001b[49m\u001b[43m)\u001b[49m\n\u001b[1;32m     41\u001b[0m \u001b[38;5;28;01mexcept\u001b[39;00m ParentCommand \u001b[38;5;28;01mas\u001b[39;00m exc:\n\u001b[1;32m     42\u001b[0m     ns: \u001b[38;5;28mstr\u001b[39m \u001b[38;5;241m=\u001b[39m config[CONF][CONFIG_KEY_CHECKPOINT_NS]\n",
      "File \u001b[0;32m~/anaconda3/envs/agent/lib/python3.10/site-packages/langgraph/utils/runnable.py:408\u001b[0m, in \u001b[0;36mRunnableSeq.invoke\u001b[0;34m(self, input, config, **kwargs)\u001b[0m\n\u001b[1;32m    404\u001b[0m config \u001b[38;5;241m=\u001b[39m patch_config(\n\u001b[1;32m    405\u001b[0m     config, callbacks\u001b[38;5;241m=\u001b[39mrun_manager\u001b[38;5;241m.\u001b[39mget_child(\u001b[38;5;124mf\u001b[39m\u001b[38;5;124m\"\u001b[39m\u001b[38;5;124mseq:step:\u001b[39m\u001b[38;5;132;01m{\u001b[39;00mi\u001b[38;5;241m+\u001b[39m\u001b[38;5;241m1\u001b[39m\u001b[38;5;132;01m}\u001b[39;00m\u001b[38;5;124m\"\u001b[39m)\n\u001b[1;32m    406\u001b[0m )\n\u001b[1;32m    407\u001b[0m \u001b[38;5;28;01mif\u001b[39;00m i \u001b[38;5;241m==\u001b[39m \u001b[38;5;241m0\u001b[39m:\n\u001b[0;32m--> 408\u001b[0m     \u001b[38;5;28minput\u001b[39m \u001b[38;5;241m=\u001b[39m \u001b[43mstep\u001b[49m\u001b[38;5;241;43m.\u001b[39;49m\u001b[43minvoke\u001b[49m\u001b[43m(\u001b[49m\u001b[38;5;28;43minput\u001b[39;49m\u001b[43m,\u001b[49m\u001b[43m \u001b[49m\u001b[43mconfig\u001b[49m\u001b[43m,\u001b[49m\u001b[43m \u001b[49m\u001b[38;5;241;43m*\u001b[39;49m\u001b[38;5;241;43m*\u001b[39;49m\u001b[43mkwargs\u001b[49m\u001b[43m)\u001b[49m\n\u001b[1;32m    409\u001b[0m \u001b[38;5;28;01melse\u001b[39;00m:\n\u001b[1;32m    410\u001b[0m     \u001b[38;5;28minput\u001b[39m \u001b[38;5;241m=\u001b[39m step\u001b[38;5;241m.\u001b[39minvoke(\u001b[38;5;28minput\u001b[39m, config)\n",
      "File \u001b[0;32m~/anaconda3/envs/agent/lib/python3.10/site-packages/langchain_core/prompts/base.py:208\u001b[0m, in \u001b[0;36mBasePromptTemplate.invoke\u001b[0;34m(self, input, config, **kwargs)\u001b[0m\n\u001b[1;32m    206\u001b[0m \u001b[38;5;28;01mif\u001b[39;00m \u001b[38;5;28mself\u001b[39m\u001b[38;5;241m.\u001b[39mtags:\n\u001b[1;32m    207\u001b[0m     config[\u001b[38;5;124m\"\u001b[39m\u001b[38;5;124mtags\u001b[39m\u001b[38;5;124m\"\u001b[39m] \u001b[38;5;241m=\u001b[39m config[\u001b[38;5;124m\"\u001b[39m\u001b[38;5;124mtags\u001b[39m\u001b[38;5;124m\"\u001b[39m] \u001b[38;5;241m+\u001b[39m \u001b[38;5;28mself\u001b[39m\u001b[38;5;241m.\u001b[39mtags\n\u001b[0;32m--> 208\u001b[0m \u001b[38;5;28;01mreturn\u001b[39;00m \u001b[38;5;28;43mself\u001b[39;49m\u001b[38;5;241;43m.\u001b[39;49m\u001b[43m_call_with_config\u001b[49m\u001b[43m(\u001b[49m\n\u001b[1;32m    209\u001b[0m \u001b[43m    \u001b[49m\u001b[38;5;28;43mself\u001b[39;49m\u001b[38;5;241;43m.\u001b[39;49m\u001b[43m_format_prompt_with_error_handling\u001b[49m\u001b[43m,\u001b[49m\n\u001b[1;32m    210\u001b[0m \u001b[43m    \u001b[49m\u001b[38;5;28;43minput\u001b[39;49m\u001b[43m,\u001b[49m\n\u001b[1;32m    211\u001b[0m \u001b[43m    \u001b[49m\u001b[43mconfig\u001b[49m\u001b[43m,\u001b[49m\n\u001b[1;32m    212\u001b[0m \u001b[43m    \u001b[49m\u001b[43mrun_type\u001b[49m\u001b[38;5;241;43m=\u001b[39;49m\u001b[38;5;124;43m\"\u001b[39;49m\u001b[38;5;124;43mprompt\u001b[39;49m\u001b[38;5;124;43m\"\u001b[39;49m\u001b[43m,\u001b[49m\n\u001b[1;32m    213\u001b[0m \u001b[43m    \u001b[49m\u001b[43mserialized\u001b[49m\u001b[38;5;241;43m=\u001b[39;49m\u001b[38;5;28;43mself\u001b[39;49m\u001b[38;5;241;43m.\u001b[39;49m\u001b[43m_serialized\u001b[49m\u001b[43m,\u001b[49m\n\u001b[1;32m    214\u001b[0m \u001b[43m\u001b[49m\u001b[43m)\u001b[49m\n",
      "File \u001b[0;32m~/anaconda3/envs/agent/lib/python3.10/site-packages/langchain_core/runnables/base.py:1925\u001b[0m, in \u001b[0;36mRunnable._call_with_config\u001b[0;34m(self, func, input, config, run_type, serialized, **kwargs)\u001b[0m\n\u001b[1;32m   1921\u001b[0m     context \u001b[38;5;241m=\u001b[39m copy_context()\n\u001b[1;32m   1922\u001b[0m     context\u001b[38;5;241m.\u001b[39mrun(_set_config_context, child_config)\n\u001b[1;32m   1923\u001b[0m     output \u001b[38;5;241m=\u001b[39m cast(\n\u001b[1;32m   1924\u001b[0m         Output,\n\u001b[0;32m-> 1925\u001b[0m         \u001b[43mcontext\u001b[49m\u001b[38;5;241;43m.\u001b[39;49m\u001b[43mrun\u001b[49m\u001b[43m(\u001b[49m\n\u001b[1;32m   1926\u001b[0m \u001b[43m            \u001b[49m\u001b[43mcall_func_with_variable_args\u001b[49m\u001b[43m,\u001b[49m\u001b[43m  \u001b[49m\u001b[38;5;66;43;03m# type: ignore[arg-type]\u001b[39;49;00m\n\u001b[1;32m   1927\u001b[0m \u001b[43m            \u001b[49m\u001b[43mfunc\u001b[49m\u001b[43m,\u001b[49m\u001b[43m  \u001b[49m\u001b[38;5;66;43;03m# type: ignore[arg-type]\u001b[39;49;00m\n\u001b[1;32m   1928\u001b[0m \u001b[43m            \u001b[49m\u001b[38;5;28;43minput\u001b[39;49m\u001b[43m,\u001b[49m\u001b[43m  \u001b[49m\u001b[38;5;66;43;03m# type: ignore[arg-type]\u001b[39;49;00m\n\u001b[1;32m   1929\u001b[0m \u001b[43m            \u001b[49m\u001b[43mconfig\u001b[49m\u001b[43m,\u001b[49m\n\u001b[1;32m   1930\u001b[0m \u001b[43m            \u001b[49m\u001b[43mrun_manager\u001b[49m\u001b[43m,\u001b[49m\n\u001b[1;32m   1931\u001b[0m \u001b[43m            \u001b[49m\u001b[38;5;241;43m*\u001b[39;49m\u001b[38;5;241;43m*\u001b[39;49m\u001b[43mkwargs\u001b[49m\u001b[43m,\u001b[49m\n\u001b[1;32m   1932\u001b[0m \u001b[43m        \u001b[49m\u001b[43m)\u001b[49m,\n\u001b[1;32m   1933\u001b[0m     )\n\u001b[1;32m   1934\u001b[0m \u001b[38;5;28;01mexcept\u001b[39;00m \u001b[38;5;167;01mBaseException\u001b[39;00m \u001b[38;5;28;01mas\u001b[39;00m e:\n\u001b[1;32m   1935\u001b[0m     run_manager\u001b[38;5;241m.\u001b[39mon_chain_error(e)\n",
      "File \u001b[0;32m~/anaconda3/envs/agent/lib/python3.10/site-packages/langchain_core/runnables/config.py:396\u001b[0m, in \u001b[0;36mcall_func_with_variable_args\u001b[0;34m(func, input, config, run_manager, **kwargs)\u001b[0m\n\u001b[1;32m    394\u001b[0m \u001b[38;5;28;01mif\u001b[39;00m run_manager \u001b[38;5;129;01mis\u001b[39;00m \u001b[38;5;129;01mnot\u001b[39;00m \u001b[38;5;28;01mNone\u001b[39;00m \u001b[38;5;129;01mand\u001b[39;00m accepts_run_manager(func):\n\u001b[1;32m    395\u001b[0m     kwargs[\u001b[38;5;124m\"\u001b[39m\u001b[38;5;124mrun_manager\u001b[39m\u001b[38;5;124m\"\u001b[39m] \u001b[38;5;241m=\u001b[39m run_manager\n\u001b[0;32m--> 396\u001b[0m \u001b[38;5;28;01mreturn\u001b[39;00m \u001b[43mfunc\u001b[49m\u001b[43m(\u001b[49m\u001b[38;5;28;43minput\u001b[39;49m\u001b[43m,\u001b[49m\u001b[43m \u001b[49m\u001b[38;5;241;43m*\u001b[39;49m\u001b[38;5;241;43m*\u001b[39;49m\u001b[43mkwargs\u001b[49m\u001b[43m)\u001b[49m\n",
      "File \u001b[0;32m~/anaconda3/envs/agent/lib/python3.10/site-packages/langchain_core/prompts/base.py:182\u001b[0m, in \u001b[0;36mBasePromptTemplate._format_prompt_with_error_handling\u001b[0;34m(self, inner_input)\u001b[0m\n\u001b[1;32m    181\u001b[0m \u001b[38;5;28;01mdef\u001b[39;00m\u001b[38;5;250m \u001b[39m\u001b[38;5;21m_format_prompt_with_error_handling\u001b[39m(\u001b[38;5;28mself\u001b[39m, inner_input: \u001b[38;5;28mdict\u001b[39m) \u001b[38;5;241m-\u001b[39m\u001b[38;5;241m>\u001b[39m PromptValue:\n\u001b[0;32m--> 182\u001b[0m     _inner_input \u001b[38;5;241m=\u001b[39m \u001b[38;5;28;43mself\u001b[39;49m\u001b[38;5;241;43m.\u001b[39;49m\u001b[43m_validate_input\u001b[49m\u001b[43m(\u001b[49m\u001b[43minner_input\u001b[49m\u001b[43m)\u001b[49m\n\u001b[1;32m    183\u001b[0m     \u001b[38;5;28;01mreturn\u001b[39;00m \u001b[38;5;28mself\u001b[39m\u001b[38;5;241m.\u001b[39mformat_prompt(\u001b[38;5;241m*\u001b[39m\u001b[38;5;241m*\u001b[39m_inner_input)\n",
      "File \u001b[0;32m~/anaconda3/envs/agent/lib/python3.10/site-packages/langchain_core/prompts/base.py:176\u001b[0m, in \u001b[0;36mBasePromptTemplate._validate_input\u001b[0;34m(self, inner_input)\u001b[0m\n\u001b[1;32m    170\u001b[0m     example_key \u001b[38;5;241m=\u001b[39m missing\u001b[38;5;241m.\u001b[39mpop()\n\u001b[1;32m    171\u001b[0m     msg \u001b[38;5;241m+\u001b[39m\u001b[38;5;241m=\u001b[39m (\n\u001b[1;32m    172\u001b[0m         \u001b[38;5;124mf\u001b[39m\u001b[38;5;124m\"\u001b[39m\u001b[38;5;130;01m\\n\u001b[39;00m\u001b[38;5;124mNote: if you intended \u001b[39m\u001b[38;5;130;01m{{\u001b[39;00m\u001b[38;5;132;01m{\u001b[39;00mexample_key\u001b[38;5;132;01m}\u001b[39;00m\u001b[38;5;130;01m}}\u001b[39;00m\u001b[38;5;124m to be part of the string\u001b[39m\u001b[38;5;124m\"\u001b[39m\n\u001b[1;32m    173\u001b[0m         \u001b[38;5;124m\"\u001b[39m\u001b[38;5;124m and not a variable, please escape it with double curly braces like: \u001b[39m\u001b[38;5;124m\"\u001b[39m\n\u001b[1;32m    174\u001b[0m         \u001b[38;5;124mf\u001b[39m\u001b[38;5;124m\"\u001b[39m\u001b[38;5;124m'\u001b[39m\u001b[38;5;130;01m{{\u001b[39;00m\u001b[38;5;130;01m{{\u001b[39;00m\u001b[38;5;132;01m{\u001b[39;00mexample_key\u001b[38;5;132;01m}\u001b[39;00m\u001b[38;5;130;01m}}\u001b[39;00m\u001b[38;5;130;01m}}\u001b[39;00m\u001b[38;5;124m'\u001b[39m\u001b[38;5;124m.\u001b[39m\u001b[38;5;124m\"\u001b[39m\n\u001b[1;32m    175\u001b[0m     )\n\u001b[0;32m--> 176\u001b[0m     \u001b[38;5;28;01mraise\u001b[39;00m \u001b[38;5;167;01mKeyError\u001b[39;00m(\n\u001b[1;32m    177\u001b[0m         create_message(message\u001b[38;5;241m=\u001b[39mmsg, error_code\u001b[38;5;241m=\u001b[39mErrorCode\u001b[38;5;241m.\u001b[39mINVALID_PROMPT_INPUT)\n\u001b[1;32m    178\u001b[0m     )\n\u001b[1;32m    179\u001b[0m \u001b[38;5;28;01mreturn\u001b[39;00m inner_input\n",
      "\u001b[0;31mKeyError\u001b[0m: 'Input to ChatPromptTemplate is missing variables {\"\\', \\'.join(options)\", \\'\\\\n        \"next\"\\'}.  Expected: [\\'\\\\n        \"next\"\\', \"\\', \\'.join(options)\", \\'messages\\'] Received: [\\'messages\\']\\nNote: if you intended {\\', \\'.join(options)} to be part of the string and not a variable, please escape it with double curly braces like: \\'{{\\', \\'.join(options)}}\\'.\\nFor troubleshooting, visit: https://python.langchain.com/docs/troubleshooting/errors/INVALID_PROMPT_INPUT '"
     ]
    }
   ],
   "source": [
    "for s in query_graph.stream(\n",
    "    {\n",
    "        \"messages\": [HumanMessage(\n",
    "            content= '수개표가 아닌 전자개표 방식을 고집하니, 대통령은 의혹 덩어리라고 생각되는 선관위에 대해 전면적인 강제 수사를 할 수 밖에 없다.'\n",
    "        )]\n",
    "    }\n",
    "):\n",
    "    if \"__end__\" not in s:\n",
    "        print(s)\n",
    "        print(\"---\")"
   ]
  }
 ],
 "metadata": {
  "kernelspec": {
   "display_name": "agent",
   "language": "python",
   "name": "python3"
  },
  "language_info": {
   "codemirror_mode": {
    "name": "ipython",
    "version": 3
   },
   "file_extension": ".py",
   "mimetype": "text/x-python",
   "name": "python",
   "nbconvert_exporter": "python",
   "pygments_lexer": "ipython3",
   "version": "3.10.6"
  }
 },
 "nbformat": 4,
 "nbformat_minor": 2
}
