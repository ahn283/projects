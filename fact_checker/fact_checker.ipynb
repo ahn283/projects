{
 "cells": [
  {
   "cell_type": "code",
   "execution_count": 176,
   "metadata": {},
   "outputs": [],
   "source": [
    "import os\n",
    "import keyring\n",
    "import json\n",
    "import operator\n",
    "import functools\n",
    "\n",
    "from typing import Annotated, Literal, List, Optional, TypedDict\n",
    "\n",
    "from langchain_community.tools.tavily_search import TavilySearchResults\n",
    "from langchain_core.prompts import ChatPromptTemplate, MessagesPlaceholder\n",
    "from langchain_openai import ChatOpenAI\n",
    "from pydantic import BaseModel\n",
    "from langchain_core.messages import HumanMessage, BaseMessage\n",
    "from langgraph.prebuilt import create_react_agent\n",
    "\n",
    "from langchain_community.document_loaders import WebBaseLoader\n",
    "from langchain_core.tools import tool\n",
    "\n",
    "from langchain.output_parsers.openai_functions import JsonOutputFunctionsParser\n",
    "from langgraph.graph import StateGraph, START, END\n",
    "from langchain_core.messages import HumanMessage\n",
    "\n",
    "# Setup for tools\n",
    "OPENAI_API_KEY = keyring.get_password('openai', 'key_for_mac')\n",
    "TAVILY_API_KEY = keyring.get_password('tavily', 'key_for_mac')\n",
    "os.environ['OPENAI_API_KEY'] = OPENAI_API_KEY\n",
    "os.environ['TAVILY_API_KEY'] = TAVILY_API_KEY\n",
    "\n",
    "# Set up LangSmith observability\n",
    "os.environ['LANGCHAIN_TRACING_V2'] = 'true'\n",
    "os.environ['LANGCHAIN_ENDPOINT'] = \"https://api.smith.langchain.com\"\n",
    "os.environ['LANGCHAIN_API_KEY'] = keyring.get_password('langsmith', 'learning_agent')\n",
    "os.environ['LANGCHAIN_PROJECT'] = \"pr-stupendous-hood-8\""
   ]
  },
  {
   "cell_type": "code",
   "execution_count": 177,
   "metadata": {},
   "outputs": [],
   "source": [
    "# search search tool\n",
    "search_tool = TavilySearchResults(max_results=5)\n",
    "\n",
    "# Set web search and scraping tools\n",
    "@tool\n",
    "def scrape_webpages(urls: List[str]) -> str:\n",
    "    \"\"\" Use requests and bs4 ro scrape the provideed web pages for detailed information. \"\"\"\n",
    "    loader = WebBaseLoader(urls)\n",
    "    docs = loader.load()\n",
    "    return \"\\n\\n\".join(\n",
    "        [\n",
    "            f\"\\n{doc.page_content}\\n\"\n",
    "            for doc in docs\n",
    "        ]\n",
    "    )\n",
    "    \n",
    "# Define the tools\n",
    "tools = [\n",
    "    search_tool,\n",
    "    # scrape_webpages\n",
    "]"
   ]
  },
  {
   "cell_type": "code",
   "execution_count": 178,
   "metadata": {},
   "outputs": [],
   "source": [
    "# Define a analysis agent\n",
    "\n",
    "# FactCheckState graph state\n",
    "class FactCheckState(TypedDict):\n",
    "    # A message is added after each team member finishes\n",
    "    messages: Annotated[List[BaseMessage], operator.add]\n",
    "    # The team members are tracked so they are aware of the other's skill-sets\n",
    "    team_members: List[str]\n",
    "    # Used to route work. The supervisor calls a function that will update this every time it makes a decision\n",
    "    next: str\n",
    "    # The list of contention extracted from the query\n",
    "    contentions: List[str]\n",
    "    \n",
    "llm = ChatOpenAI(model='gpt-4o-mini', temperature=0)\n"
   ]
  },
  {
   "cell_type": "code",
   "execution_count": 179,
   "metadata": {},
   "outputs": [],
   "source": [
    "# Query Analysis Agent : Alicia\n",
    "analysis_members = [\"Alicia\"]\n",
    "\n",
    "analysis_system = \"\"\"\n",
    "You are a text analysis specialist in a Query Analysis Team.\n",
    "Your primary role is to extract contentious issues from the input text that require fact-checking.\n",
    "You should answer the same language as user's input.\n",
    "\n",
    "# Your Responsibilities:\n",
    "\t1.\tAnalyze the input text for extracting contention:\n",
    "Analyze the input text carefully to identify potential areas of controversy or claims requiring verification.\n",
    "\t2.\tExtranc specific contentious iuuses:\n",
    "Extract specific contentious issues, including any claims, statistics, or opinions that might spark debate or require validation.\n",
    "  \t3.\tReview Extracted Contentious Issues:\n",
    "Carefully analyze the issues provided by the query analyst, ensuring you fully understand the context and significance of each issue.\n",
    "\t4.\tSummarize Issues Clearly and Concisely:\n",
    "Create concise summaries that capture the essence of each contentious issue while ensuring clarity and relevance for fact-checking purposes.\n",
    "\t5.\tOrganize Summaries in a Structured Format:\n",
    "Present the summarized issues in a clean and structured format that is easy to reference and understand.\n",
    "\n",
    "# Output Format:\n",
    "{\n",
    "    \"contentious_issues\": [\n",
    "        \"Summarized issue 1\",\n",
    "        ...\n",
    "    ]\n",
    "}\n",
    "\"\"\"\n",
    "\n",
    "def analysis_agent_node(state, agent, name) -> FactCheckState:\n",
    "    result = agent.invoke(state)\n",
    "    try:\n",
    "        output = json.loads(result[\"messages\"][-1].content)\n",
    "        summarized_issues = output.get(\"contentious_issues\", [])\n",
    "        if not summarized_issues:\n",
    "            raise ValueError(\"Summarized contentions are empty.\")\n",
    "    except (json.JSONDecodeError, KeyError, ValueError) as e:\n",
    "        summarized_issues = [\"Error in summarizing contentions: \" + str(e)]\n",
    "    \n",
    "    state['contensions'] = summarized_issues\n",
    "    \n",
    "    return {\n",
    "        \"messages\": [HumanMessage(content=result[\"messages\"][-1].content, name=name)],\n",
    "        \"contentions\": summarized_issues,\n",
    "    }\n",
    "\n",
    "analysis_agent = create_react_agent(llm, tools=[], state_modifier=analysis_system)\n",
    "analysis_node = functools.partial(analysis_agent_node, agent=analysis_agent, name=\"Alicia\")\n",
    "analysis_members = {\n",
    "    \"Analysis\": \"Alica\"\n",
    "}"
   ]
  },
  {
   "cell_type": "code",
   "execution_count": 180,
   "metadata": {},
   "outputs": [
    {
     "data": {
      "image/png": "[encoded data removed]",
      "text/plain": [
       "<langgraph.graph.state.CompiledStateGraph object at 0x15af4a3b0>"
      ]
     },
     "metadata": {},
     "output_type": "display_data"
    }
   ],
   "source": [
    "# Test the analysis agent\n",
    "analysis_workflow = StateGraph(FactCheckState)\n",
    "analysis_workflow.add_node(\"Alicia\", analysis_node)\n",
    "analysis_workflow.add_edge(START, \"Alicia\")\n",
    "analysis_workflow.add_edge(\"Alicia\", END)\n",
    "analysis_graph = analysis_workflow.compile()\n",
    "\n",
    "display(analysis_graph)"
   ]
  },
  {
   "cell_type": "code",
   "execution_count": 181,
   "metadata": {},
   "outputs": [
    {
     "name": "stdout",
     "output_type": "stream",
     "text": [
      "{'Alicia': {'messages': [HumanMessage(content='{\\n    \"contentious_issues\": [\\n        \"Claim that over 70% of people globally support the use of artificial intelligence in law enforcement.\",\\n        \"Assertion that AI-based policing systems have led to a 50% increase in wrongful arrests due to algorithmic bias.\",\\n        \"Government claim that implementing AI surveillance has reduced crime rates by as much as 40%.\",\\n        \"Dispute from human rights organizations regarding the transparency and reliability of data supporting crime rate reductions due to AI surveillance.\"\\n    ]\\n}', additional_kwargs={}, response_metadata={}, name='Alicia')], 'contentions': ['Claim that over 70% of people globally support the use of artificial intelligence in law enforcement.', 'Assertion that AI-based policing systems have led to a 50% increase in wrongful arrests due to algorithmic bias.', 'Government claim that implementing AI surveillance has reduced crime rates by as much as 40%.', 'Dispute from human rights organizations regarding the transparency and reliability of data supporting crime rate reductions due to AI surveillance.']}}\n",
      "---\n"
     ]
    }
   ],
   "source": [
    "# several contentions\n",
    "for s in analysis_graph.stream(\n",
    "    {\n",
    "        \"messages\": [HumanMessage(\n",
    "            content=\"Recent studies suggest that over 70% of people globally support the use of artificial intelligence in law enforcement. However, critics argue that AI-based policing systems have led to a 50% increase in wrongful arrests due to algorithmic bias. Additionally, some governments claim that implementing AI surveillance has reduced crime rates by as much as 40%, but human rights organizations dispute these figures, stating that the data lacks transparency and reliability.\"\n",
    "        )]\n",
    "    }\n",
    "):\n",
    "    if \"__end__\" not in s:\n",
    "        print(s)\n",
    "        print(\"---\")"
   ]
  },
  {
   "cell_type": "code",
   "execution_count": 182,
   "metadata": {},
   "outputs": [
    {
     "name": "stdout",
     "output_type": "stream",
     "text": [
      "{'Alicia': {'messages': [HumanMessage(content='{\\n    \"contentious_issues\": [\\n        \"대통령이 선관위에 대해 전면적인 강제 수사를 해야 한다는 주장\",\\n        \"전자개표 방식에 대한 고집이 의혹을 불러일으킨다는 의견\"\\n    ]\\n}', additional_kwargs={}, response_metadata={}, name='Alicia')], 'contentions': ['대통령이 선관위에 대해 전면적인 강제 수사를 해야 한다는 주장', '전자개표 방식에 대한 고집이 의혹을 불러일으킨다는 의견']}}\n",
      "---\n"
     ]
    }
   ],
   "source": [
    "# Several contentions\n",
    "for s in analysis_graph.stream(\n",
    "    {\n",
    "        \"messages\": [HumanMessage(\n",
    "            '수개표가 아닌 전자개표 방식을 고집하니, 대통령은 의혹 덩어리라고 생각되는 선관위에 대해 전면적인 강제 수사를 할 수 밖에 없다.'\n",
    "        )]\n",
    "    }\n",
    "):\n",
    "    if \"__end__\" not in s:\n",
    "        print(s)\n",
    "        print(\"---\")"
   ]
  },
  {
   "cell_type": "code",
   "execution_count": 183,
   "metadata": {},
   "outputs": [
    {
     "name": "stdout",
     "output_type": "stream",
     "text": [
      "{'Alicia': {'messages': [HumanMessage(content='{\\n    \"contentious_issues\": [\\n        \"전자개표 방식에 대한 고집이 의혹을 불러일으킨다는 주장\"\\n    ]\\n}', additional_kwargs={}, response_metadata={}, name='Alicia')], 'contentions': ['전자개표 방식에 대한 고집이 의혹을 불러일으킨다는 주장']}}\n",
      "---\n"
     ]
    }
   ],
   "source": [
    "# one contention\n",
    "for s in analysis_graph.stream(\n",
    "    {\n",
    "        \"messages\": [HumanMessage(\n",
    "            '전자개표 방식에 대한 고집이 의혹을 불러일으킨다는 의견'\n",
    "        )]\n",
    "    }\n",
    "):\n",
    "    if \"__end__\" not in s:\n",
    "        print(s)\n",
    "        print(\"---\")"
   ]
  },
  {
   "cell_type": "code",
   "execution_count": 246,
   "metadata": {},
   "outputs": [],
   "source": [
    "# Define reseach team state and agent node\n",
    "class ResearchState(TypedDict):\n",
    "    # A message is added after each team member finishes\n",
    "    messages: Annotated[List[BaseMessage], operator.add]\n",
    "    # The team members are tracked so they are aware of the other's skill-sets\n",
    "    team_members: List[str]\n",
    "    # Used to route work. The supervisor calls a function that will update this every time it makes a decision\n",
    "    next: str\n",
    "    # A contention extracted from the analysis agent\n",
    "    contention: str\n",
    "    # supporting evidence of a contention\n",
    "    pros: List[str]\n",
    "    # cons evidence of a contentsion\n",
    "    cons: List[str]\n",
    "    \n",
    "    \n",
    "def research_agent_node(state, agent, name, type) -> FactCheckState:\n",
    "    result = agent.invoke(state)\n",
    "    try:\n",
    "        # Debug agent output\n",
    "        content = result[\"messages\"][-1].content.strip()\n",
    "        print(\"Agent Output:\", content)\n",
    "        \n",
    "        if not content:\n",
    "            raise ValueError(\"Agent returned an empty response.\")\n",
    "        \n",
    "        output = json.loads(content)\n",
    "        evidences = output.get(type, [])\n",
    "        if not evidences:\n",
    "            raise ValueError(f\"No '{type}' found in the output.\")\n",
    "    except (json.JSONDecodeError, KeyError, ValueError) as e:\n",
    "        evidences = [f\"Error in researching evidences: {str(e)}\"]\n",
    "    \n",
    "    # Safely update the state\n",
    "    state[type] = state.get(type, []) + evidences\n",
    "    \n",
    "    return {\n",
    "        \"messages\": [HumanMessage(content=result[\"messages\"][-1].content, name=name)],\n",
    "        type: evidences,\n",
    "    }"
   ]
  },
  {
   "cell_type": "code",
   "execution_count": 247,
   "metadata": {},
   "outputs": [],
   "source": [
    "# Define a research team\n",
    "## Research team consists of two members : one for pros \"Jefferson\" another for cons \"John\"\n",
    "research_members = {\n",
    "    \"research_pros\": \"Jefferson\",\n",
    "    \"research_cons\": \"John\",\n",
    "    \"evalute\": \"Washington\"\n",
    "}\n",
    "\n",
    "# Pros agent\n",
    "\n",
    "research_pros_system = \"\"\"\n",
    "You are a specialist tasked with researching supporting evidence for the contentions provided by the Analysis team (Alicia). \n",
    "Your goal is to verify the factual accuracy of the contentions by finding credible evidence and summarizing it concisely. \n",
    "\n",
    "### Responsibilities:\n",
    "1.\tResearch Facts:\n",
    "•\tUse appropriate tools and reliable sources to verify the truth of each contention.\n",
    "•\tEnsure all sources used are credible, relevant, and up-to-date.\n",
    "2.\tProvide Supporting Evidence:\n",
    "•\tFor each contention, gather multiple pieces of supporting evidence.\n",
    "•\tInclude links to the sources used, ensuring they directly support or refute the contention.\n",
    "3.\tSummarize Evidence:\n",
    "•\tSummarize the evidence clearly and concisely to ensure it is actionable for fact-checking purposes.\n",
    "•\tFocus on clarity and relevance.\n",
    "\n",
    "### **Guidelines**:\n",
    "- **Objectivity**: Evaluate the contention impartially, using reliable evidence to refute its validity.\n",
    "- **Clarity**: Ensure the evidence is summarized in a concise and easy-to-understand manner.\n",
    "- **Credibility**: Use only reputable sources, such as scientific journals, institutional reports, and trusted news outlets.\n",
    "- **Format Consistency**: Ensure all evidence summaries follow the specified output format.\n",
    "- **Language**: YOU SHOULD ANSHWER THE SAME LANGAUGE AS THE HUMAN'S INPUT \n",
    "\n",
    "\n",
    "### Output Format:\n",
    "{\n",
    "    \"contention\": \"<The original contentious statement>\",\n",
    "    \"pros\": [\n",
    "        \"<Evidence summary 1> Source: <URL of reference>\", ...\n",
    "    ]\n",
    "}\n",
    "\n",
    "\n",
    "## Example output format:\n",
    "{\n",
    "    \"contention\": \"The claim that drinking eight glasses of water a day improves health and prevents chronic diseases is contentious, with some scientists arguing there is no universal scientific basis for this recommendation, necessitating further investigation into hydration guidelines.\",\n",
    "    \"pros\": [\n",
    "        \"The recommendation to drink eight glasses of water daily lacks robust scientific support. Hydration needs vary based on factors like age, activity level, and climate. Source: https://www.healthline.com/nutrition/8-glasses-of-water-per-day?utm_source=chatgpt.com\",\n",
    "        \"Experts suggest using thirst as a natural indicator for when to drink water rather than adhering to a fixed amount. Source: https://sciencebasedmedicine.org/eight-glasses-of-water-myth/\",\n",
    "        \"Various beverages and foods contribute to overall hydration, not just plain water. Source: https://www.michiganmedicine.org/health-lab/myth-busting-no-more-8-glasses-day\"\n",
    "    ]\n",
    "}\n",
    "\"\"\"\n",
    "research_pros_agent = create_react_agent(llm, tools=tools, state_modifier=research_pros_system)\n",
    "research_pros_node = functools.partial(research_agent_node, agent=research_pros_agent, name=\"Jefferson\", type=\"pros\")"
   ]
  },
  {
   "cell_type": "code",
   "execution_count": 248,
   "metadata": {},
   "outputs": [
    {
     "data": {
      "image/png": "[encoded data removed]",
      "text/plain": [
       "<langgraph.graph.state.CompiledStateGraph object at 0x15abbb520>"
      ]
     },
     "metadata": {},
     "output_type": "display_data"
    }
   ],
   "source": [
    "# Test research agent\n",
    "research_pro_workflow = StateGraph(ResearchState)\n",
    "research_pro_workflow.add_node(\"Jefferson\", research_pros_node)\n",
    "research_pro_workflow.add_edge(START, \"Jefferson\")\n",
    "research_pro_workflow.add_edge(\"Jefferson\", END)\n",
    "research_pro_graph = research_pro_workflow.compile()\n",
    "\n",
    "display(research_pro_graph)"
   ]
  },
  {
   "cell_type": "code",
   "execution_count": 249,
   "metadata": {},
   "outputs": [
    {
     "name": "stdout",
     "output_type": "stream",
     "text": [
      "Agent Output: {\n",
      "    \"contention\": \"전자개표 방식에 대한 고집이 의혹을 불러일으킨다는 의견\",\n",
      "    \"pros\": [\n",
      "        \"전자개표기 도입 이후 부정선거 의혹이 지속적으로 제기되고 있으며, 특히 한국과 미국의 전자개표기 사용에 대한 논란이 커지고 있다. 전문가들은 전자개표기가 투표 결과를 조작할 수 있는 가능성을 지적하고 있다. Source: https://m.blog.naver.com/shltop/222146067278\",\n",
      "        \"한국의 전자개표기 시스템이 부정선거와 관련된 의혹을 받고 있으며, 이는 미국 대선의 도미니언 시스템과 유사한 방식으로 조작될 수 있다는 주장이 있다. Source: https://m.fntoday.co.kr/news/articleView.html?idxno=239774\",\n",
      "        \"부정선거 의혹은 전자개표기 납품업체의 양심고백과 관련된 사건들로 인해 더욱 심화되고 있으며, 이는 선거 과정의 공정성에 대한 의문을 불러일으키고 있다. Source: https://m.blog.naver.com/henrynkoh/223694212383\",\n",
      "        \"전자개표기와 관련된 부정선거 의혹은 한국의 선거 시스템에 대한 신뢰를 저하시킬 수 있으며, 이는 민주주의의 핵심인 선거의 투명성을 위협하는 요소로 작용할 수 있다. Source: http://www.fntoday.co.kr/news/articleView.html?idxno=342224\"\n",
      "    ]\n",
      "}\n",
      "{'Jefferson': {'messages': [HumanMessage(content='{\\n    \"contention\": \"전자개표 방식에 대한 고집이 의혹을 불러일으킨다는 의견\",\\n    \"pros\": [\\n        \"전자개표기 도입 이후 부정선거 의혹이 지속적으로 제기되고 있으며, 특히 한국과 미국의 전자개표기 사용에 대한 논란이 커지고 있다. 전문가들은 전자개표기가 투표 결과를 조작할 수 있는 가능성을 지적하고 있다. Source: https://m.blog.naver.com/shltop/222146067278\",\\n        \"한국의 전자개표기 시스템이 부정선거와 관련된 의혹을 받고 있으며, 이는 미국 대선의 도미니언 시스템과 유사한 방식으로 조작될 수 있다는 주장이 있다. Source: https://m.fntoday.co.kr/news/articleView.html?idxno=239774\",\\n        \"부정선거 의혹은 전자개표기 납품업체의 양심고백과 관련된 사건들로 인해 더욱 심화되고 있으며, 이는 선거 과정의 공정성에 대한 의문을 불러일으키고 있다. Source: https://m.blog.naver.com/henrynkoh/223694212383\",\\n        \"전자개표기와 관련된 부정선거 의혹은 한국의 선거 시스템에 대한 신뢰를 저하시킬 수 있으며, 이는 민주주의의 핵심인 선거의 투명성을 위협하는 요소로 작용할 수 있다. Source: http://www.fntoday.co.kr/news/articleView.html?idxno=342224\"\\n    ]\\n}', additional_kwargs={}, response_metadata={}, name='Jefferson')], 'pros': ['전자개표기 도입 이후 부정선거 의혹이 지속적으로 제기되고 있으며, 특히 한국과 미국의 전자개표기 사용에 대한 논란이 커지고 있다. 전문가들은 전자개표기가 투표 결과를 조작할 수 있는 가능성을 지적하고 있다. Source: https://m.blog.naver.com/shltop/222146067278', '한국의 전자개표기 시스템이 부정선거와 관련된 의혹을 받고 있으며, 이는 미국 대선의 도미니언 시스템과 유사한 방식으로 조작될 수 있다는 주장이 있다. Source: https://m.fntoday.co.kr/news/articleView.html?idxno=239774', '부정선거 의혹은 전자개표기 납품업체의 양심고백과 관련된 사건들로 인해 더욱 심화되고 있으며, 이는 선거 과정의 공정성에 대한 의문을 불러일으키고 있다. Source: https://m.blog.naver.com/henrynkoh/223694212383', '전자개표기와 관련된 부정선거 의혹은 한국의 선거 시스템에 대한 신뢰를 저하시킬 수 있으며, 이는 민주주의의 핵심인 선거의 투명성을 위협하는 요소로 작용할 수 있다. Source: http://www.fntoday.co.kr/news/articleView.html?idxno=342224']}}\n",
      "---\n"
     ]
    }
   ],
   "source": [
    "# one contention\n",
    "for s in research_pro_graph.stream(\n",
    "    {\n",
    "        \"messages\": [HumanMessage(\n",
    "            '전자개표 방식에 대한 고집이 의혹을 불러일으킨다는 의견'\n",
    "        )]\n",
    "    }\n",
    "):\n",
    "    if \"__end__\" not in s:\n",
    "        print(s)\n",
    "        print(\"---\")"
   ]
  },
  {
   "cell_type": "code",
   "execution_count": 250,
   "metadata": {},
   "outputs": [],
   "source": [
    "# Cons agent\n",
    "\n",
    "research_cons_system = \"\"\"\n",
    "You are a research specialist tasked with identifying and summarizing credible evidence against the contentions provided by the Analysis team (Alicia). \n",
    "Your goal is to refute the validity of each contention by gathering and presenting reliable evidence clearly and concisely.\n",
    "\n",
    "---\n",
    "\n",
    "### Responsibilities:\n",
    "1.\tResearch Facts:\n",
    "•\tUse appropriate tools and reliable sources to verify the truth of each contention.\n",
    "•\tEnsure all sources used are credible, relevant, and up-to-date.\n",
    "2.\tProvide Supporting Evidence:\n",
    "•\tFor each contention, gather multiple pieces of supporting evidence.\n",
    "•\tInclude links to the sources used, ensuring they directly support or refute the contention.\n",
    "3.\tSummarize Evidence:\n",
    "•\tSummarize the evidence clearly and concisely to ensure it is actionable for fact-checking purposes.\n",
    "•\tFocus on clarity and relevance.\n",
    "\n",
    "### **Guidelines**:\n",
    "- **Objectivity**: Evaluate the contention impartially, using reliable evidence to refute its validity.\n",
    "- **Clarity**: Ensure the evidence is summarized in a concise and easy-to-understand manner.\n",
    "- **Credibility**: Use only reputable sources, such as scientific journals, institutional reports, and trusted news outlets.\n",
    "- **Format Consistency**: Ensure all evidence summaries follow the specified output format.\n",
    "- **Language**: YOU SHOULD ANSHWER THE SAME LANGAUGE AS THE HUMAN'S INPUT \n",
    "\n",
    "### Output Format:\n",
    "{\n",
    "    \"contention\": \"<The original contentious statement>\",\n",
    "    \"cons\": [\n",
    "        \"<Evidence summary 1> Source: <URL of reference>\", ...\n",
    "    ]\n",
    "}\n",
    "\n",
    "\n",
    "## Example output format:\n",
    "{\n",
    "    \"contention\": \"The claim that drinking eight glasses of water a day improves health and prevents chronic diseases is contentious, with some scientists arguing there is no universal scientific basis for this recommendation, necessitating further investigation into hydration guidelines.\",\n",
    "    \"cons\": [\n",
    "        \"The recommendation to drink eight glasses of water daily lacks robust scientific support. Hydration needs vary based on factors like age, activity level, and climate. Source: https://www.healthline.com/nutrition/8-glasses-of-water-per-day?utm_source=chatgpt.com\",\n",
    "        \"Experts suggest using thirst as a natural indicator for when to drink water rather than adhering to a fixed amount. Source: https://sciencebasedmedicine.org/eight-glasses-of-water-myth/\",\n",
    "        \"Various beverages and foods contribute to overall hydration, not just plain water. Source: https://www.michiganmedicine.org/health-lab/myth-busting-no-more-8-glasses-day\"\n",
    "    ]\n",
    "}\n",
    "\"\"\"\n",
    "research_cons_agent = create_react_agent(llm, tools=tools, state_modifier=research_cons_system)\n",
    "research_cons_node = functools.partial(research_agent_node, agent=research_cons_agent, name=\"John\", type=\"cons\")"
   ]
  },
  {
   "cell_type": "code",
   "execution_count": 251,
   "metadata": {},
   "outputs": [
    {
     "data": {
      "image/png": "[encoded data removed]",
      "text/plain": [
       "<langgraph.graph.state.CompiledStateGraph object at 0x15b857670>"
      ]
     },
     "metadata": {},
     "output_type": "display_data"
    }
   ],
   "source": [
    "# Test research agent\n",
    "research_cons_workflow = StateGraph(ResearchState)\n",
    "research_cons_workflow.add_node(\"John\", research_cons_node)\n",
    "research_cons_workflow.add_edge(START, \"John\")\n",
    "research_cons_workflow.add_edge(\"John\", END)\n",
    "research_cons_graph = research_cons_workflow.compile()\n",
    "\n",
    "display(research_cons_graph)"
   ]
  },
  {
   "cell_type": "code",
   "execution_count": 252,
   "metadata": {},
   "outputs": [
    {
     "name": "stdout",
     "output_type": "stream",
     "text": [
      "Agent Output: {\n",
      "    \"contention\": \"전자개표 방식에 대한 고집이 의혹을 불러일으킨다는 의견\",\n",
      "    \"cons\": [\n",
      "        \"중앙선거관리위원회는 전자개표 과정에서 의도적인 오류가 발생할 가능성이 없다고 주장하며, 전자개표기의 정확도는 100%에 달한다고 보고하고 있습니다. Source: https://m.post.naver.com/viewer/postView.nhn?volumeNo=7332257&memberNo=29442882\",\n",
      "        \"부정선거 의혹은 전자개표 방식에 대한 불신에서 비롯되지만, 전문가들은 투명한 선거 시스템 구축과 독립적인 기술위원회의 검증을 통해 신뢰성을 높일 수 있다고 강조하고 있습니다. Source: https://www.etoday.co.kr/news/view/2432600\",\n",
      "        \"수검표 과정은 전자개표 결과를 검증하기 위한 절차로, 모든 투표지를 다시 세는 것이 아니라 오류와 무효표 여부를 확인하는 데 초점을 맞추고 있습니다. 이는 전자개표 방식의 신뢰성을 보완하는 역할을 합니다. Source: https://stranger-jy.tistory.com/1138\"\n",
      "    ]\n",
      "}\n",
      "{'John': {'messages': [HumanMessage(content='{\\n    \"contention\": \"전자개표 방식에 대한 고집이 의혹을 불러일으킨다는 의견\",\\n    \"cons\": [\\n        \"중앙선거관리위원회는 전자개표 과정에서 의도적인 오류가 발생할 가능성이 없다고 주장하며, 전자개표기의 정확도는 100%에 달한다고 보고하고 있습니다. Source: https://m.post.naver.com/viewer/postView.nhn?volumeNo=7332257&memberNo=29442882\",\\n        \"부정선거 의혹은 전자개표 방식에 대한 불신에서 비롯되지만, 전문가들은 투명한 선거 시스템 구축과 독립적인 기술위원회의 검증을 통해 신뢰성을 높일 수 있다고 강조하고 있습니다. Source: https://www.etoday.co.kr/news/view/2432600\",\\n        \"수검표 과정은 전자개표 결과를 검증하기 위한 절차로, 모든 투표지를 다시 세는 것이 아니라 오류와 무효표 여부를 확인하는 데 초점을 맞추고 있습니다. 이는 전자개표 방식의 신뢰성을 보완하는 역할을 합니다. Source: https://stranger-jy.tistory.com/1138\"\\n    ]\\n}', additional_kwargs={}, response_metadata={}, name='John')], 'cons': ['중앙선거관리위원회는 전자개표 과정에서 의도적인 오류가 발생할 가능성이 없다고 주장하며, 전자개표기의 정확도는 100%에 달한다고 보고하고 있습니다. Source: https://m.post.naver.com/viewer/postView.nhn?volumeNo=7332257&memberNo=29442882', '부정선거 의혹은 전자개표 방식에 대한 불신에서 비롯되지만, 전문가들은 투명한 선거 시스템 구축과 독립적인 기술위원회의 검증을 통해 신뢰성을 높일 수 있다고 강조하고 있습니다. Source: https://www.etoday.co.kr/news/view/2432600', '수검표 과정은 전자개표 결과를 검증하기 위한 절차로, 모든 투표지를 다시 세는 것이 아니라 오류와 무효표 여부를 확인하는 데 초점을 맞추고 있습니다. 이는 전자개표 방식의 신뢰성을 보완하는 역할을 합니다. Source: https://stranger-jy.tistory.com/1138']}}\n",
      "---\n"
     ]
    }
   ],
   "source": [
    "# one contention\n",
    "for s in research_cons_graph.stream(\n",
    "    {\n",
    "        \"messages\": [HumanMessage(\n",
    "            '전자개표 방식에 대한 고집이 의혹을 불러일으킨다는 의견'\n",
    "        )]\n",
    "    }\n",
    "):\n",
    "    if \"__end__\" not in s:\n",
    "        print(s)\n",
    "        print(\"---\")"
   ]
  },
  {
   "cell_type": "code",
   "execution_count": 253,
   "metadata": {},
   "outputs": [],
   "source": [
    "# Research evaluator\n",
    "def agent_node(state, agent, name):\n",
    "    result = agent.invoke(state)\n",
    "    # extracted_contentions = result.get(\"contentions\", [])\n",
    "    return {\n",
    "        \"messages\": [HumanMessage(content=result[\"messages\"][-1].content, name=name)], \n",
    "    }\n",
    "\n",
    "\n",
    "research_evaluate_system = \"\"\"\n",
    "You are a specialist tasked with verifying the factual accuracy of contentions by evaluating various pieces of information. \n",
    "Your primary responsibility is to assess the validity of the contention, assign a factual score, and provide a detailed explanation.\n",
    "\n",
    "### Responsibilities:\n",
    "1. Review information: \n",
    "\t• Utilize all available information from both supporting and opposing parties.\n",
    " \t• If additional information is needed, request further research from your team members.\n",
    " \t• If you need research by your own, use tools.  \n",
    "  \t• Ensure you have sufficient information before proceeding to the next step.\n",
    "2. Assign a Factual Score:\n",
    "\t• Provide a factuality score between **0 and 100**, where:\n",
    "        - `0`: Completely false.\n",
    "        - `25`: Mostly false, but contains minor elements of truth.\n",
    "        - `50`: Neutral or inconclusive.\n",
    "        - `75`: Mostly true, but contains minor inaccuracies.\n",
    "        - `100`: Completely true.\n",
    "\t• Include an explanation for your score, especially if the score is not 100 or 0.\n",
    "3. Provide Supporting Evidence: Include links to the sources used for your research. Ensure the sources are credible and relevant.\n",
    "\n",
    "### **Guidelines**:\n",
    "- **Objectivity**: Maintain impartiality and evaluate the contention based on the evidence.\n",
    "- **Clarity**: Ensure your explanations are concise, clear, and actionable.\n",
    "- **Credibility**: Use reliable and authoritative sources (e.g., peer-reviewed articles, reputable news outlets, or institutional reports).\n",
    "- **Collaboration**: If necessary, collaborate with your team or tools to gather additional information.\n",
    "- **Language**: YOU SHOULD ANSHWER THE SAME LANGAUGE AS THE HUMAN'S INPUT \n",
    "\n",
    "### **Output Format**:\n",
    "Provide your response in the following structured format:\n",
    "{\n",
    "    \"contention\": \"<The original contentious statement>\",\n",
    "    \"score\": <Factual score between 0 and 100>,\n",
    "    \"explanation\": \"<Detailed explanation for the assigned score>\",\n",
    "    \"sources\": [\n",
    "        \"<URL of reference 1>\",\n",
    "        \"<URL of reference 2>\",\n",
    "        ...\n",
    "    ]\n",
    "}\n",
    "\"\"\"\n",
    "research_evaluate_agent = create_react_agent(llm, tools=tools, state_modifier=research_evaluate_system)\n",
    "research_evaluate_node = functools.partial(agent_node, agent=research_evaluate_agent, name=\"Washington\")"
   ]
  },
  {
   "cell_type": "code",
   "execution_count": 254,
   "metadata": {},
   "outputs": [],
   "source": [
    "# Research team supervisor\n",
    "def create_team_supervisor(llm: ChatOpenAI, system_prompt, members) -> str:\n",
    "    \"\"\"An LLM-Based router\"\"\"\n",
    "    options = [\"FINISH\"] + members\n",
    "    \n",
    "    # Define a function for OpenAI function calling : https://platform.openai.com/docs/guides/function-calling\n",
    "    function_def = {\n",
    "        \"name\": \"route\",\n",
    "        \"description\": \"Select the next role and provide clear instructions for the selected role to carry out\",\n",
    "        \"parameters\": {\n",
    "            \"title\": \"routeSchema\",\n",
    "            \"type\": \"object\",\n",
    "            \"properties\": {\n",
    "                \"next\": {\n",
    "                    \"title\": \"Next\",\n",
    "                    \"anyOf\": [\n",
    "                        {\"enum\": options},\n",
    "                    ]\n",
    "                }\n",
    "            },\n",
    "            \"required\": [\"next\"],\n",
    "        }\n",
    "    }\n",
    "    prompt = ChatPromptTemplate.from_messages(\n",
    "        [\n",
    "            (\"system\", system_prompt),\n",
    "            MessagesPlaceholder(variable_name=\"messages\"),\n",
    "            (\n",
    "                \"system\",\n",
    "                \"Given the conversation above, who should act next?\"\n",
    "                \" or should we FINISH?, select one of : {options}\"\n",
    "            )\n",
    "        ]\n",
    "    ).partial(options=str(options), team_members=\", \".join(members))\n",
    "    return (\n",
    "        prompt\n",
    "        | llm.bind_functions(functions=[function_def], function_call=\"route\")\n",
    "        | JsonOutputFunctionsParser()\n",
    "    )\n",
    "\n",
    "research_supervisor_agent = create_team_supervisor(\n",
    "    llm,\n",
    "    \"\"\"Your team is responsible for researching cons and pros about the contention.\n",
    "    As the supervisor, you are tasked with managing a conversation between the following workers: Jefferson and John.\n",
    "\n",
    "    Responsibilities:\n",
    "        1.\tManage Task Assignment:\n",
    "        •\tEvaluate the user input and decide which worker, Jefferson or John, should act next based on their expertise.\n",
    "        •\tIf a worker’s output requires additional refinement or improvements, assign them further tasks.\n",
    "        2.\tEvaluate Outputs:\n",
    "        •\tReview the results provided by each worker.\n",
    "        •\tIf the output is satisfactory, assign the next worker or conclude the process.\n",
    "        3.\tComplete the Process:\n",
    "        •\tOnce all contentious issues have been identified and summarized, respond with “FINISH” to conclude the task.\n",
    "\n",
    "    Guidelines:\n",
    "        •\tAssign tasks efficiently to ensure the process moves forward productively.\n",
    "        •\tProvide constructive feedback to workers if their outputs need improvement.\n",
    "        •\tEnsure that the final output is clear, concise, and actionable for the fact-finding team.\n",
    "        •\tYOU SHOULD ANSHWER THE SAME LANGAUGE AS THE HUMAN'S INPUT \n",
    "\n",
    "    ### Output Instructions:\n",
    "    Respond with a valid JSON object formatted as follows:\n",
    "    \"next\": \"Research Pros\",  // Replace \"Research Pros\" with \"Research Cons\", \"Evaluate\" or \"FINISH\" as appropriate.\n",
    "    \"instructions\": \"You need get more contentions. Check the numbers.\"\n",
    "    \"\"\",\n",
    "    [\"Research Pros\", \"Research Cons\", \"Evaluate\"],\n",
    ")"
   ]
  },
  {
   "cell_type": "code",
   "execution_count": 255,
   "metadata": {},
   "outputs": [
    {
     "data": {
      "image/png": "[encoded data removed]",
      "text/plain": [
       "<langgraph.graph.state.CompiledStateGraph object at 0x15c167b50>"
      ]
     },
     "metadata": {},
     "output_type": "display_data"
    }
   ],
   "source": [
    "# Definte StateGraph and add nodes\n",
    "research_workflow = StateGraph(ResearchState)\n",
    "research_workflow.add_node(\"Jefferson\", research_pros_node)\n",
    "research_workflow.add_node(\"John\", research_cons_node)\n",
    "research_workflow.add_node(\"Supervisor\", research_supervisor_agent)\n",
    "research_workflow.add_node(\"Washington\", research_evaluate_node)\n",
    "\n",
    "# Define edges for agents to return to the supervisor\n",
    "for idx, type in enumerate(research_members):\n",
    "    member = research_members[type]\n",
    "    research_workflow.add_edge(member, 'Supervisor')\n",
    "\n",
    "# Define conditional edges\n",
    "research_workflow.add_conditional_edges(\n",
    "    \"Supervisor\",\n",
    "    lambda x: x[\"next\"],\n",
    "    {\n",
    "        \"Research Pros\":\"Jefferson\",\n",
    "        \"Research Cons\":\"John\",\n",
    "        \"Evaluate\":\"Washington\",\n",
    "        \"FINISH\":END\n",
    "    }\n",
    ")\n",
    "research_workflow.add_edge(START, \"Supervisor\")\n",
    "\n",
    "research_graph = research_workflow.compile()\n",
    "display(research_graph)"
   ]
  },
  {
   "cell_type": "code",
   "execution_count": 256,
   "metadata": {},
   "outputs": [
    {
     "name": "stdout",
     "output_type": "stream",
     "text": [
      "{'Supervisor': {'next': 'Research Cons'}}\n",
      "---\n",
      "Agent Output: {\n",
      "    \"contention\": \"인류 달 착륙이 거짓이다.\",\n",
      "    \"cons\": [\n",
      "        \"모든 달 착륙이 조작되었다는 주장은 신뢰할 수 있는 증거에 의해 반박되었습니다. NASA는 달 착륙의 진위를 입증하기 위해 다양한 과학적 데이터를 제공하고 있습니다. Source: https://www.iop.org/explore-physics/moon/how-do-we-know-we-went-to-the-moon\",\n",
      "        \"달에서의 사진에서 깃발이 바람에 펄럭이는 것처럼 보이는 것은 실제로는 깃발이 특별히 설계된 구조로 인해 발생한 현상입니다. 달에는 공기가 없기 때문에 바람이 존재하지 않습니다. Source: https://www.history.co.uk/articles/debunking-the-biggest-moon-landing-conspiracy-theories\",\n",
      "        \"달 착륙 사진의 그림자가 비정상적으로 보인다는 주장은 조명과 사진의 특성으로 설명될 수 있으며, 이는 과학적으로 입증된 사실입니다. Source: https://www.history.com/news/moon-landing-fake-conspiracy-theories\",\n",
      "        \"아폴로 11 미션에서 설치된 레트로리플렉터는 지구에서 관측 가능하며, 이는 인간이 달에 착륙했음을 증명하는 중요한 증거입니다. Source: https://en.wikipedia.org/wiki/Moon_landing_conspiracy_theories\"\n",
      "    ]\n",
      "}\n",
      "{'John': {'messages': [HumanMessage(content='{\\n    \"contention\": \"인류 달 착륙이 거짓이다.\",\\n    \"cons\": [\\n        \"모든 달 착륙이 조작되었다는 주장은 신뢰할 수 있는 증거에 의해 반박되었습니다. NASA는 달 착륙의 진위를 입증하기 위해 다양한 과학적 데이터를 제공하고 있습니다. Source: https://www.iop.org/explore-physics/moon/how-do-we-know-we-went-to-the-moon\",\\n        \"달에서의 사진에서 깃발이 바람에 펄럭이는 것처럼 보이는 것은 실제로는 깃발이 특별히 설계된 구조로 인해 발생한 현상입니다. 달에는 공기가 없기 때문에 바람이 존재하지 않습니다. Source: https://www.history.co.uk/articles/debunking-the-biggest-moon-landing-conspiracy-theories\",\\n        \"달 착륙 사진의 그림자가 비정상적으로 보인다는 주장은 조명과 사진의 특성으로 설명될 수 있으며, 이는 과학적으로 입증된 사실입니다. Source: https://www.history.com/news/moon-landing-fake-conspiracy-theories\",\\n        \"아폴로 11 미션에서 설치된 레트로리플렉터는 지구에서 관측 가능하며, 이는 인간이 달에 착륙했음을 증명하는 중요한 증거입니다. Source: https://en.wikipedia.org/wiki/Moon_landing_conspiracy_theories\"\\n    ]\\n}', additional_kwargs={}, response_metadata={}, name='John')], 'cons': ['모든 달 착륙이 조작되었다는 주장은 신뢰할 수 있는 증거에 의해 반박되었습니다. NASA는 달 착륙의 진위를 입증하기 위해 다양한 과학적 데이터를 제공하고 있습니다. Source: https://www.iop.org/explore-physics/moon/how-do-we-know-we-went-to-the-moon', '달에서의 사진에서 깃발이 바람에 펄럭이는 것처럼 보이는 것은 실제로는 깃발이 특별히 설계된 구조로 인해 발생한 현상입니다. 달에는 공기가 없기 때문에 바람이 존재하지 않습니다. Source: https://www.history.co.uk/articles/debunking-the-biggest-moon-landing-conspiracy-theories', '달 착륙 사진의 그림자가 비정상적으로 보인다는 주장은 조명과 사진의 특성으로 설명될 수 있으며, 이는 과학적으로 입증된 사실입니다. Source: https://www.history.com/news/moon-landing-fake-conspiracy-theories', '아폴로 11 미션에서 설치된 레트로리플렉터는 지구에서 관측 가능하며, 이는 인간이 달에 착륙했음을 증명하는 중요한 증거입니다. Source: https://en.wikipedia.org/wiki/Moon_landing_conspiracy_theories']}}\n",
      "---\n",
      "{'Supervisor': {'next': 'Research Pros'}}\n",
      "---\n",
      "Agent Output: {\n",
      "    \"contention\": \"인류 달 착륙이 거짓이다.\",\n",
      "    \"pros\": [\n",
      "        \"모든 달 착륙이 조작되었다는 주장은 신뢰할 수 있는 증거에 의해 반박되었습니다. NASA는 달 착륙의 진위를 입증하기 위해 다양한 과학적 데이터를 제공하고 있습니다. Source: https://www.iop.org/explore-physics/moon/how-do-we-know-we-went-to-the-moon\",\n",
      "        \"달에서의 사진에서 깃발이 바람에 펄럭이는 것처럼 보이는 것은 실제로는 깃발이 특별히 설계된 구조로 인해 발생한 현상입니다. 달에는 공기가 없기 때문에 바람이 존재하지 않습니다. Source: https://www.history.co.uk/articles/debunking-the-biggest-moon-landing-conspiracy-theories\",\n",
      "        \"달 착륙 사진의 그림자가 비정상적으로 보인다는 주장은 조명과 사진의 특성으로 설명될 수 있으며, 이는 과학적으로 입증된 사실입니다. Source: https://www.history.com/news/moon-landing-fake-conspiracy-theories\",\n",
      "        \"아폴로 11 미션에서 설치된 레트로리플렉터는 지구에서 관측 가능하며, 이는 인간이 달에 착륙했음을 증명하는 중요한 증거입니다. Source: https://en.wikipedia.org/wiki/Moon_landing_conspiracy_theories\"\n",
      "    ]\n",
      "}\n",
      "{'Jefferson': {'messages': [HumanMessage(content='{\\n    \"contention\": \"인류 달 착륙이 거짓이다.\",\\n    \"pros\": [\\n        \"모든 달 착륙이 조작되었다는 주장은 신뢰할 수 있는 증거에 의해 반박되었습니다. NASA는 달 착륙의 진위를 입증하기 위해 다양한 과학적 데이터를 제공하고 있습니다. Source: https://www.iop.org/explore-physics/moon/how-do-we-know-we-went-to-the-moon\",\\n        \"달에서의 사진에서 깃발이 바람에 펄럭이는 것처럼 보이는 것은 실제로는 깃발이 특별히 설계된 구조로 인해 발생한 현상입니다. 달에는 공기가 없기 때문에 바람이 존재하지 않습니다. Source: https://www.history.co.uk/articles/debunking-the-biggest-moon-landing-conspiracy-theories\",\\n        \"달 착륙 사진의 그림자가 비정상적으로 보인다는 주장은 조명과 사진의 특성으로 설명될 수 있으며, 이는 과학적으로 입증된 사실입니다. Source: https://www.history.com/news/moon-landing-fake-conspiracy-theories\",\\n        \"아폴로 11 미션에서 설치된 레트로리플렉터는 지구에서 관측 가능하며, 이는 인간이 달에 착륙했음을 증명하는 중요한 증거입니다. Source: https://en.wikipedia.org/wiki/Moon_landing_conspiracy_theories\"\\n    ]\\n}', additional_kwargs={}, response_metadata={}, name='Jefferson')], 'pros': ['모든 달 착륙이 조작되었다는 주장은 신뢰할 수 있는 증거에 의해 반박되었습니다. NASA는 달 착륙의 진위를 입증하기 위해 다양한 과학적 데이터를 제공하고 있습니다. Source: https://www.iop.org/explore-physics/moon/how-do-we-know-we-went-to-the-moon', '달에서의 사진에서 깃발이 바람에 펄럭이는 것처럼 보이는 것은 실제로는 깃발이 특별히 설계된 구조로 인해 발생한 현상입니다. 달에는 공기가 없기 때문에 바람이 존재하지 않습니다. Source: https://www.history.co.uk/articles/debunking-the-biggest-moon-landing-conspiracy-theories', '달 착륙 사진의 그림자가 비정상적으로 보인다는 주장은 조명과 사진의 특성으로 설명될 수 있으며, 이는 과학적으로 입증된 사실입니다. Source: https://www.history.com/news/moon-landing-fake-conspiracy-theories', '아폴로 11 미션에서 설치된 레트로리플렉터는 지구에서 관측 가능하며, 이는 인간이 달에 착륙했음을 증명하는 중요한 증거입니다. Source: https://en.wikipedia.org/wiki/Moon_landing_conspiracy_theories']}}\n",
      "---\n",
      "{'Supervisor': {'next': 'Evaluate'}}\n",
      "---\n",
      "{'Washington': {'messages': [HumanMessage(content='{\\n    \"contention\": \"인류 달 착륙이 거짓이다.\",\\n    \"score\": 0,\\n    \"explanation\": \"인류의 달 착륙은 역사적 사실로, 여러 신뢰할 수 있는 증거에 의해 입증되었습니다. NASA의 아폴로 11 미션은 1969년 7월 20일에 이루어졌으며, 이 미션은 약 400,000명의 직원과 계약자들의 협력으로 성공적으로 수행되었습니다. 달 착륙을 부정하는 주장은 과학적 사실에 의해 반박되었으며, 예를 들어 달에서의 깃발이 바람에 펄럭이는 것처럼 보이는 현상은 깃발의 구조적 특성 때문입니다. 또한, 아폴로 미션에서 설치된 레트로리플렉터는 지구에서 관측 가능하여 인간이 달에 착륙했음을 증명하는 중요한 증거입니다. 이러한 이유로, 인류의 달 착륙이 거짓이라는 주장은 완전히 잘못된 것입니다.\",\\n    \"sources\": [\\n        \"https://www.iop.org/explore-physics/moon/how-do-we-know-we-went-to-the-moon\",\\n        \"https://www.history.co.uk/articles/debunking-the-biggest-moon-landing-conspiracy-theories\",\\n        \"https://www.history.com/news/moon-landing-fake-conspiracy-theories\",\\n        \"https://en.wikipedia.org/wiki/Moon_landing_conspiracy_theories\",\\n        \"https://theweek.com/102265/apollo-11-the-moon-landing-conspiracy-debunked\",\\n        \"https://www.rmg.co.uk/stories/topics/moon-landing-conspiracy-theories-debunked\"\\n    ]\\n}', additional_kwargs={}, response_metadata={}, name='Washington')]}}\n",
      "---\n",
      "{'Supervisor': {'next': 'Evaluate'}}\n",
      "---\n",
      "{'Washington': {'messages': [HumanMessage(content='{\\n    \"contention\": \"인류 달 착륙이 거짓이다.\",\\n    \"score\": 0,\\n    \"explanation\": \"인류의 달 착륙은 역사적 사실로, 여러 신뢰할 수 있는 증거에 의해 입증되었습니다. NASA의 아폴로 11 미션은 1969년 7월 20일에 이루어졌으며, 이 미션은 약 400,000명의 직원과 계약자들의 협력으로 성공적으로 수행되었습니다. 달 착륙을 부정하는 주장은 과학적 사실에 의해 반박되었으며, 예를 들어 달에서의 깃발이 바람에 펄럭이는 것처럼 보이는 현상은 깃발의 구조적 특성 때문입니다. 또한, 아폴로 미션에서 설치된 레트로리플렉터는 지구에서 관측 가능하여 인간이 달에 착륙했음을 증명하는 중요한 증거입니다. 이러한 이유로, 인류의 달 착륙이 거짓이라는 주장은 완전히 잘못된 것입니다.\",\\n    \"sources\": [\\n        \"https://www.iop.org/explore-physics/moon/how-do-we-know-we-went-to-the-moon\",\\n        \"https://www.history.co.uk/articles/debunking-the-biggest-moon-landing-conspiracy-theories\",\\n        \"https://www.history.com/news/moon-landing-fake-conspiracy-theories\",\\n        \"https://en.wikipedia.org/wiki/Moon_landing_conspiracy_theories\",\\n        \"https://theweek.com/102265/apollo-11-the-moon-landing-conspiracy-debunked\",\\n        \"https://www.rmg.co.uk/stories/topics/moon-landing-conspiracy-theories-debunked\"\\n    ]\\n}', additional_kwargs={}, response_metadata={}, name='Washington')]}}\n",
      "---\n",
      "{'Supervisor': {'next': 'Evaluate'}}\n",
      "---\n",
      "{'Washington': {'messages': [HumanMessage(content='{\\n    \"contention\": \"인류 달 착륙이 거짓이다.\",\\n    \"score\": 0,\\n    \"explanation\": \"인류의 달 착륙은 역사적 사실로, 여러 신뢰할 수 있는 증거에 의해 입증되었습니다. NASA의 아폴로 11 미션은 1969년 7월 20일에 이루어졌으며, 이 미션은 약 400,000명의 직원과 계약자들의 협력으로 성공적으로 수행되었습니다. 달 착륙을 부정하는 주장은 과학적 사실에 의해 반박되었으며, 예를 들어 달에서의 깃발이 바람에 펄럭이는 것처럼 보이는 현상은 깃발의 구조적 특성 때문입니다. 또한, 아폴로 미션에서 설치된 레트로리플렉터는 지구에서 관측 가능하여 인간이 달에 착륙했음을 증명하는 중요한 증거입니다. 이러한 이유로, 인류의 달 착륙이 거짓이라는 주장은 완전히 잘못된 것입니다.\",\\n    \"sources\": [\\n        \"https://www.iop.org/explore-physics/moon/how-do-we-know-we-went-to-the-moon\",\\n        \"https://www.history.co.uk/articles/debunking-the-biggest-moon-landing-conspiracy-theories\",\\n        \"https://www.history.com/news/moon-landing-fake-conspiracy-theories\",\\n        \"https://en.wikipedia.org/wiki/Moon_landing_conspiracy_theories\",\\n        \"https://theweek.com/102265/apollo-11-the-moon-landing-conspiracy-debunked\",\\n        \"https://www.rmg.co.uk/stories/topics/moon-landing-conspiracy-theories-debunked\"\\n    ]\\n}', additional_kwargs={}, response_metadata={}, name='Washington')]}}\n",
      "---\n",
      "{'Supervisor': {'next': 'Evaluate'}}\n",
      "---\n",
      "{'Washington': {'messages': [HumanMessage(content='{\\n    \"contention\": \"인류 달 착륙이 거짓이다.\",\\n    \"score\": 0,\\n    \"explanation\": \"인류의 달 착륙은 역사적 사실로, 여러 신뢰할 수 있는 증거에 의해 입증되었습니다. NASA의 아폴로 11 미션은 1969년 7월 20일에 이루어졌으며, 이 미션은 약 400,000명의 직원과 계약자들의 협력으로 성공적으로 수행되었습니다. 달 착륙을 부정하는 주장은 과학적 사실에 의해 반박되었으며, 예를 들어 달에서의 깃발이 바람에 펄럭이는 것처럼 보이는 현상은 깃발의 구조적 특성 때문입니다. 또한, 아폴로 미션에서 설치된 레트로리플렉터는 지구에서 관측 가능하여 인간이 달에 착륙했음을 증명하는 중요한 증거입니다. 이러한 이유로, 인류의 달 착륙이 거짓이라는 주장은 완전히 잘못된 것입니다.\",\\n    \"sources\": [\\n        \"https://www.iop.org/explore-physics/moon/how-do-we-know-we-went-to-the-moon\",\\n        \"https://www.history.co.uk/articles/debunking-the-biggest-moon-landing-conspiracy-theories\",\\n        \"https://www.history.com/news/moon-landing-fake-conspiracy-theories\",\\n        \"https://en.wikipedia.org/wiki/Moon_landing_conspiracy_theories\",\\n        \"https://theweek.com/102265/apollo-11-the-moon-landing-conspiracy-debunked\",\\n        \"https://www.rmg.co.uk/stories/topics/moon-landing-conspiracy-theories-debunked\"\\n    ]\\n}', additional_kwargs={}, response_metadata={}, name='Washington')]}}\n",
      "---\n",
      "{'Supervisor': {'next': 'Evaluate'}}\n",
      "---\n",
      "{'Washington': {'messages': [HumanMessage(content='{\\n    \"contention\": \"인류 달 착륙이 거짓이다.\",\\n    \"score\": 0,\\n    \"explanation\": \"인류의 달 착륙은 역사적 사실로, 여러 신뢰할 수 있는 증거에 의해 입증되었습니다. NASA의 아폴로 11 미션은 1969년 7월 20일에 이루어졌으며, 이 미션은 약 400,000명의 직원과 계약자들의 협력으로 성공적으로 수행되었습니다. 달 착륙을 부정하는 주장은 과학적 사실에 의해 반박되었으며, 예를 들어 달에서의 깃발이 바람에 펄럭이는 것처럼 보이는 현상은 깃발의 구조적 특성 때문입니다. 또한, 아폴로 미션에서 설치된 레트로리플렉터는 지구에서 관측 가능하여 인간이 달에 착륙했음을 증명하는 중요한 증거입니다. 이러한 이유로, 인류의 달 착륙이 거짓이라는 주장은 완전히 잘못된 것입니다.\",\\n    \"sources\": [\\n        \"https://www.iop.org/explore-physics/moon/how-do-we-know-we-went-to-the-moon\",\\n        \"https://www.history.co.uk/articles/debunking-the-biggest-moon-landing-conspiracy-theories\",\\n        \"https://www.history.com/news/moon-landing-fake-conspiracy-theories\",\\n        \"https://en.wikipedia.org/wiki/Moon_landing_conspiracy_theories\",\\n        \"https://theweek.com/102265/apollo-11-the-moon-landing-conspiracy-debunked\",\\n        \"https://www.rmg.co.uk/stories/topics/moon-landing-conspiracy-theories-debunked\"\\n    ]\\n}', additional_kwargs={}, response_metadata={}, name='Washington')]}}\n",
      "---\n",
      "{'Supervisor': {'next': 'FINISH'}}\n",
      "---\n"
     ]
    }
   ],
   "source": [
    "# one contention\n",
    "for s in research_graph.stream(\n",
    "    {\n",
    "        \"messages\": [HumanMessage(\n",
    "            '인류 달 착륙이 거짓이다.'\n",
    "        )]\n",
    "    }\n",
    "):\n",
    "    if \"__end__\" not in s:\n",
    "        print(s)\n",
    "        print(\"---\")"
   ]
  },
  {
   "cell_type": "code",
   "execution_count": 257,
   "metadata": {},
   "outputs": [
    {
     "data": {
      "text/plain": [
       "{'research_pros': 'Jefferson',\n",
       " 'research_cons': 'John',\n",
       " 'evalute': 'Washington'}"
      ]
     },
     "execution_count": 257,
     "metadata": {},
     "output_type": "execute_result"
    }
   ],
   "source": [
    "research_members"
   ]
  },
  {
   "cell_type": "code",
   "execution_count": 258,
   "metadata": {},
   "outputs": [],
   "source": [
    "# for idx, type in enumerate(research_members):\n",
    "#     member = research_members[type]\n",
    "#     research_workflow.add_edge(member, 'Supervisor')"
   ]
  },
  {
   "cell_type": "code",
   "execution_count": 259,
   "metadata": {},
   "outputs": [
    {
     "data": {
      "text/plain": [
       "{'Analysis': 'Alica',\n",
       " 'research_pros': 'Jefferson',\n",
       " 'research_cons': 'John',\n",
       " 'evalute': 'Washington'}"
      ]
     },
     "execution_count": 259,
     "metadata": {},
     "output_type": "execute_result"
    }
   ],
   "source": [
    "analysis_members | research_members"
   ]
  }
 ],
 "metadata": {
  "kernelspec": {
   "display_name": "agent",
   "language": "python",
   "name": "python3"
  },
  "language_info": {
   "codemirror_mode": {
    "name": "ipython",
    "version": 3
   },
   "file_extension": ".py",
   "mimetype": "text/x-python",
   "name": "python",
   "nbconvert_exporter": "python",
   "pygments_lexer": "ipython3",
   "version": "3.10.6"
  }
 },
 "nbformat": 4,
 "nbformat_minor": 2
}
