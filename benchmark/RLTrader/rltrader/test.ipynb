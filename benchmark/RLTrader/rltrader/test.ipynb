{
 "cells": [
  {
   "cell_type": "code",
   "execution_count": 1,
   "metadata": {},
   "outputs": [],
   "source": [
    "import os"
   ]
  },
  {
   "cell_type": "code",
   "execution_count": 5,
   "metadata": {},
   "outputs": [
    {
     "data": {
      "text/plain": [
       "'c:\\\\project\\\\github\\\\projects\\\\benchmark\\\\RLTrader'"
      ]
     },
     "execution_count": 5,
     "metadata": {},
     "output_type": "execute_result"
    }
   ],
   "source": [
    "os.environ.get('RLTRADER_BASE', os.path.abspath(os.path.join('__file__', os.path.pardir, os.path.pardir)))"
   ]
  },
  {
   "cell_type": "code",
   "execution_count": 6,
   "metadata": {},
   "outputs": [],
   "source": [
    "COLUMNS_TRAINING_DATA_V1 = [\n",
    "    'open_lastclose_ratio', 'high_close_ratio', 'low_close_ratio',\n",
    "    'close_lastclose_ratio', 'volume_lastvolume_ratio',\n",
    "    'close_ma5_ratio', 'volume_ma5_ratio',\n",
    "    'close_ma10_ratio', 'volume_ma10_ratio',\n",
    "    'close_ma20_ratio', 'volumne_ma20_ratio',\n",
    "    'close_ma60_ratio', 'volume_ma60_ratio',\n",
    "    'close_ma120_ratio', 'volume_ma120_ratio'\n",
    "]"
   ]
  },
  {
   "cell_type": "code",
   "execution_count": 7,
   "metadata": {},
   "outputs": [],
   "source": [
    "COLUMNS_TRAINIG_DATA_V1_1 = COLUMNS_TRAINING_DATA_V1 + [\n",
    "    'inst_lastint_ratio', 'frgn_lastfrgn_ratio',\n",
    "    'inst_mas5_ratio', 'frgn_ma5_ratio',\n",
    "    'inst_ma10_ratio', 'frgn_ma10_ratio',\n",
    "    'inst_ma20_ratio', 'frgn_ma20_ratio',\n",
    "    'inst_ma60_ratio', 'frgn_ma60_ratio',\n",
    "    'inst_ma120_ratio', 'frgn_ma120_ratio',\n",
    "]"
   ]
  },
  {
   "cell_type": "code",
   "execution_count": 8,
   "metadata": {},
   "outputs": [
    {
     "data": {
      "text/plain": [
       "['open_lastclose_ratio',\n",
       " 'high_close_ratio',\n",
       " 'low_close_ratio',\n",
       " 'close_lastclose_ratio',\n",
       " 'volume_lastvolume_ratio',\n",
       " 'close_ma5_ratio',\n",
       " 'volume_ma5_ratio',\n",
       " 'close_ma10_ratio',\n",
       " 'volume_ma10_ratio',\n",
       " 'close_ma20_ratio',\n",
       " 'volumne_ma20_ratio',\n",
       " 'close_ma60_ratio',\n",
       " 'volume_ma60_ratio',\n",
       " 'close_ma120_ratio',\n",
       " 'volume_ma120_ratio',\n",
       " 'inst_lastint_ratio',\n",
       " 'frgn_lastfrgn_ratio',\n",
       " 'inst_mas5_ratio',\n",
       " 'frgn_ma5_ratio',\n",
       " 'inst_ma10_ratio',\n",
       " 'frgn_ma10_ratio',\n",
       " 'inst_ma20_ratio',\n",
       " 'frgn_ma20_ratio',\n",
       " 'inst_ma60_ratio',\n",
       " 'frgn_ma60_ratio',\n",
       " 'inst_ma120_ratio',\n",
       " 'frgn_ma120_ratio']"
      ]
     },
     "execution_count": 8,
     "metadata": {},
     "output_type": "execute_result"
    }
   ],
   "source": [
    "COLUMNS_TRAINIG_DATA_V1_1"
   ]
  },
  {
   "cell_type": "code",
   "execution_count": 9,
   "metadata": {},
   "outputs": [],
   "source": [
    "COLUMNS_TRAINING_DATA_V2 = ['per', 'pbr', 'roe'] + COLUMNS_TRAINING_DATA_V1 + [\n",
    "    'market_kospi_ma5_ratio', 'market_kospi_ma20_ratio',\n",
    "    'market_kospi_ma60_ratio', 'market_kospi_ma120_ratio',\n",
    "    'bond_k3y_ma5_ratio', 'bond_k3y_ma20_ratio',\n",
    "    'bond_k3y_ma60_ratio', 'bond_k3y_ma120_ratio',\n",
    "]"
   ]
  },
  {
   "cell_type": "code",
   "execution_count": 10,
   "metadata": {},
   "outputs": [],
   "source": [
    "COLUMN_TRAINING_DATA_V3 = COLUMNS_TRAINING_DATA_V2 + [\n",
    "    'ind', 'ind_diff', 'ind_ma5', 'ind_ma10', 'ind_ma20', 'ind_ma60', 'ind_ma120',\n",
    "    'inst', 'inst_diff', 'inst_ma5', 'inst_ma10', 'inst_ma20', 'inst_ma60', 'inst_ma120',\n",
    "    'foreign', 'foreign_diff', 'foreign_ma5', 'foreign_ma10', 'foreign_ma20',\n",
    "    'foreign_ma60', 'foreign_ma120' \n",
    "]"
   ]
  },
  {
   "cell_type": "code",
   "execution_count": 11,
   "metadata": {},
   "outputs": [],
   "source": [
    "COLUMNS_TRAINING_DATA_V3 = list(map(\n",
    "    lambda x: x if x != 'close_lastclost_ratio' else 'diffratio', COLUMN_TRAINING_DATA_V3\n",
    "))"
   ]
  },
  {
   "cell_type": "code",
   "execution_count": 12,
   "metadata": {},
   "outputs": [
    {
     "data": {
      "text/plain": [
       "['per',\n",
       " 'pbr',\n",
       " 'roe',\n",
       " 'open_lastclose_ratio',\n",
       " 'high_close_ratio',\n",
       " 'low_close_ratio',\n",
       " 'close_lastclose_ratio',\n",
       " 'volume_lastvolume_ratio',\n",
       " 'close_ma5_ratio',\n",
       " 'volume_ma5_ratio',\n",
       " 'close_ma10_ratio',\n",
       " 'volume_ma10_ratio',\n",
       " 'close_ma20_ratio',\n",
       " 'volumne_ma20_ratio',\n",
       " 'close_ma60_ratio',\n",
       " 'volume_ma60_ratio',\n",
       " 'close_ma120_ratio',\n",
       " 'volume_ma120_ratio',\n",
       " 'market_kospi_ma5_ratio',\n",
       " 'market_kospi_ma20_ratio',\n",
       " 'market_kospi_ma60_ratio',\n",
       " 'market_kospi_ma120_ratio',\n",
       " 'bond_k3y_ma5_ratio',\n",
       " 'bond_k3y_ma20_ratio',\n",
       " 'bond_k3y_ma60_ratio',\n",
       " 'bond_k3y_ma120_ratio',\n",
       " 'ind',\n",
       " 'ind_diff',\n",
       " 'ind_ma5',\n",
       " 'ind_ma10',\n",
       " 'ind_ma20',\n",
       " 'ind_ma60',\n",
       " 'ind_ma120',\n",
       " 'inst',\n",
       " 'inst_diff',\n",
       " 'inst_ma5',\n",
       " 'inst_ma10',\n",
       " 'inst_ma20',\n",
       " 'inst_ma60',\n",
       " 'inst_ma120',\n",
       " 'foreign',\n",
       " 'foreign_diff',\n",
       " 'foreign_ma5',\n",
       " 'foreign_ma10',\n",
       " 'foreign_ma20',\n",
       " 'foreign_ma60',\n",
       " 'foreign_ma120']"
      ]
     },
     "execution_count": 12,
     "metadata": {},
     "output_type": "execute_result"
    }
   ],
   "source": [
    "COLUMN_TRAINING_DATA_V3"
   ]
  }
 ],
 "metadata": {
  "kernelspec": {
   "display_name": "finance",
   "language": "python",
   "name": "python3"
  },
  "language_info": {
   "codemirror_mode": {
    "name": "ipython",
    "version": 3
   },
   "file_extension": ".py",
   "mimetype": "text/x-python",
   "name": "python",
   "nbconvert_exporter": "python",
   "pygments_lexer": "ipython3",
   "version": "3.8.18"
  }
 },
 "nbformat": 4,
 "nbformat_minor": 2
}
