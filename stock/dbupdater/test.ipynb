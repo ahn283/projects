{
 "cells": [
  {
   "cell_type": "code",
   "execution_count": 17,
   "metadata": {},
   "outputs": [],
   "source": [
    "import pymysql\n",
    "import pandas as pd\n",
    "import lxml"
   ]
  },
  {
   "cell_type": "code",
   "execution_count": 18,
   "metadata": {},
   "outputs": [],
   "source": [
    "## database password\n",
    "## hidden\n",
    "pw = '04250629'"
   ]
  },
  {
   "cell_type": "code",
   "execution_count": 19,
   "metadata": {},
   "outputs": [],
   "source": [
    "conn = pymysql.connect(\n",
    "    host='localhost',\n",
    "    user='root',\n",
    "    password=pw,\n",
    "    db='stock',\n",
    "    charset='utf8'\n",
    "    )\n",
    "\n",
    "# create cursor\n",
    "## create company_info and daily_price table if not exists\n",
    "with conn.cursor() as curs:\n",
    "    sql = \"\"\"\n",
    "    CREATE TABLE IF NOT EXISTS company_info (\n",
    "        code VARCHAR(20),\n",
    "        company VARCHAR(100),\n",
    "        last_update DATE,\n",
    "        PRIMARY KEY (code)\n",
    "    )\n",
    "    \"\"\"\n",
    "\n",
    "    curs.execute(sql)\n",
    "\n",
    "    sql = \"\"\"\n",
    "    CREATE TABLE IF NOT EXISTS daily_orice(\n",
    "        code VARCHAR(20),\n",
    "        date DATE,\n",
    "        open BIGINT,\n",
    "        high BIGINT,\n",
    "        low BIGINT,\n",
    "        close BIGINT,\n",
    "        diff BIGINT,\n",
    "        volume BIGINT,\n",
    "        PRIMARY KEY (code, date)\n",
    "    )\n",
    "    \"\"\"\n",
    "    curs.execute(sql)\n",
    "    curs.close()\n",
    "        \n",
    "    # commit\n",
    "conn.commit()"
   ]
  },
  {
   "cell_type": "code",
   "execution_count": 20,
   "metadata": {},
   "outputs": [
    {
     "data": {
      "text/html": [
       "<div>\n",
       "<style scoped>\n",
       "    .dataframe tbody tr th:only-of-type {\n",
       "        vertical-align: middle;\n",
       "    }\n",
       "\n",
       "    .dataframe tbody tr th {\n",
       "        vertical-align: top;\n",
       "    }\n",
       "\n",
       "    .dataframe thead th {\n",
       "        text-align: right;\n",
       "    }\n",
       "</style>\n",
       "<table border=\"1\" class=\"dataframe\">\n",
       "  <thead>\n",
       "    <tr style=\"text-align: right;\">\n",
       "      <th></th>\n",
       "      <th>code</th>\n",
       "      <th>company</th>\n",
       "    </tr>\n",
       "  </thead>\n",
       "  <tbody>\n",
       "    <tr>\n",
       "      <th>0</th>\n",
       "      <td>095570</td>\n",
       "      <td>AJ네트웍스</td>\n",
       "    </tr>\n",
       "    <tr>\n",
       "      <th>1</th>\n",
       "      <td>138930</td>\n",
       "      <td>BNK금융지주</td>\n",
       "    </tr>\n",
       "    <tr>\n",
       "      <th>2</th>\n",
       "      <td>155660</td>\n",
       "      <td>DSR</td>\n",
       "    </tr>\n",
       "    <tr>\n",
       "      <th>3</th>\n",
       "      <td>078930</td>\n",
       "      <td>GS</td>\n",
       "    </tr>\n",
       "    <tr>\n",
       "      <th>4</th>\n",
       "      <td>294870</td>\n",
       "      <td>HDC현대산업개발</td>\n",
       "    </tr>\n",
       "  </tbody>\n",
       "</table>\n",
       "</div>"
      ],
      "text/plain": [
       "     code    company\n",
       "0  095570     AJ네트웍스\n",
       "1  138930    BNK금융지주\n",
       "2  155660        DSR\n",
       "3  078930         GS\n",
       "4  294870  HDC현대산업개발"
      ]
     },
     "execution_count": 20,
     "metadata": {},
     "output_type": "execute_result"
    }
   ],
   "source": [
    "url=\"https://kind.krx.co.kr/corpgeneral/corpList.do?method=download&searchType=13\"\n",
    "krx = pd.read_html(url, header=0)[0]\n",
    "krx = krx[['종목코드', '회사명']]\n",
    "krx = krx.rename(columns={'종목코드':'code', '회사명':'company'})\n",
    "krx.code = krx.code.map('{:06d}'.format)\n",
    "krx.head()                               "
   ]
  },
  {
   "cell_type": "code",
   "execution_count": 27,
   "metadata": {},
   "outputs": [
    {
     "name": "stderr",
     "output_type": "stream",
     "text": [
      "/var/folders/dt/q9f0jq252ld5kmwg8rqf4pgw0000gn/T/ipykernel_91990/2405500686.py:4: UserWarning: pandas only supports SQLAlchemy connectable (engine/connection) or database string URI or sqlite3 DBAPI2 connection. Other DBAPI2 objects are not tested. Please consider using SQLAlchemy.\n",
      "  df = pd.read_sql(sql, conn)\n"
     ]
    }
   ],
   "source": [
    "from datetime import datetime\n",
    "codes = dict()\n",
    "sql = \"SELECT * FROM company_info\"\n",
    "df = pd.read_sql(sql, conn)\n",
    "for idx in range(len(df)):\n",
    "    ## update codes dictionary using code and company_name\n",
    "    codes[df['code'].values[idx]] = df['company'].values[idx]\n",
    "with conn.cursor() as curs:\n",
    "    sql = \"\"\"\n",
    "    SELECT max(last_update) FROM company_info\n",
    "    \"\"\"\n",
    "    curs.execute(sql)\n",
    "    ## get recent update date\n",
    "    rs = curs.fetchone()\n",
    "    today = datetime.today().strftime('%Y-%m-%d')\n",
    "\n",
    "    if rs[0] == None or rs[0].strftime('%Y-%m-%d') < today:\n",
    "        for idx in range(len(krx)):\n",
    "            code = krx.code.values[idx]\n",
    "            company = krx.company.values[idx]\n",
    "            sql = f\"REPLACE INTO company_info (code, company, last_update) VALUES ('{code}', '{company}', '{today}')\"\n",
    "            curs.execute(sql)\n",
    "            codes[code] = company\n",
    "            tmnow = datetime.now().strftime('%Y-%m-%d %H:%M')\n",
    "            print(f\"[{tmnow}] #{idx+1:04d} REPLACE INTO company_info VALUES ({code}, {company}, {today})\")\n",
    "        conn.commit()\n",
    "        print('')\n",
    "    curs.close()\n",
    "\n"
   ]
  },
  {
   "cell_type": "code",
   "execution_count": 41,
   "metadata": {},
   "outputs": [
    {
     "name": "stderr",
     "output_type": "stream",
     "text": [
      "/var/folders/dt/q9f0jq252ld5kmwg8rqf4pgw0000gn/T/ipykernel_91990/2023275707.py:31: FutureWarning: The frame.append method is deprecated and will be removed from pandas in a future version. Use pandas.concat instead.\n",
      "  df = df.append(pd.read_html(requests.get(page_url, headers=header).text)[0])\n",
      "/var/folders/dt/q9f0jq252ld5kmwg8rqf4pgw0000gn/T/ipykernel_91990/2023275707.py:31: FutureWarning: The frame.append method is deprecated and will be removed from pandas in a future version. Use pandas.concat instead.\n",
      "  df = df.append(pd.read_html(requests.get(page_url, headers=header).text)[0])\n",
      "/var/folders/dt/q9f0jq252ld5kmwg8rqf4pgw0000gn/T/ipykernel_91990/2023275707.py:31: FutureWarning: The frame.append method is deprecated and will be removed from pandas in a future version. Use pandas.concat instead.\n",
      "  df = df.append(pd.read_html(requests.get(page_url, headers=header).text)[0])\n",
      "/var/folders/dt/q9f0jq252ld5kmwg8rqf4pgw0000gn/T/ipykernel_91990/2023275707.py:31: FutureWarning: The frame.append method is deprecated and will be removed from pandas in a future version. Use pandas.concat instead.\n",
      "  df = df.append(pd.read_html(requests.get(page_url, headers=header).text)[0])\n"
     ]
    },
    {
     "name": "stdout",
     "output_type": "stream",
     "text": [
      "[2023-06-03 17:55] 삼성전자 (005930) : 0004/0010 pages are downloading...\r"
     ]
    },
    {
     "name": "stderr",
     "output_type": "stream",
     "text": [
      "/var/folders/dt/q9f0jq252ld5kmwg8rqf4pgw0000gn/T/ipykernel_91990/2023275707.py:31: FutureWarning: The frame.append method is deprecated and will be removed from pandas in a future version. Use pandas.concat instead.\n",
      "  df = df.append(pd.read_html(requests.get(page_url, headers=header).text)[0])\n",
      "/var/folders/dt/q9f0jq252ld5kmwg8rqf4pgw0000gn/T/ipykernel_91990/2023275707.py:31: FutureWarning: The frame.append method is deprecated and will be removed from pandas in a future version. Use pandas.concat instead.\n",
      "  df = df.append(pd.read_html(requests.get(page_url, headers=header).text)[0])\n",
      "/var/folders/dt/q9f0jq252ld5kmwg8rqf4pgw0000gn/T/ipykernel_91990/2023275707.py:31: FutureWarning: The frame.append method is deprecated and will be removed from pandas in a future version. Use pandas.concat instead.\n",
      "  df = df.append(pd.read_html(requests.get(page_url, headers=header).text)[0])\n",
      "/var/folders/dt/q9f0jq252ld5kmwg8rqf4pgw0000gn/T/ipykernel_91990/2023275707.py:31: FutureWarning: The frame.append method is deprecated and will be removed from pandas in a future version. Use pandas.concat instead.\n",
      "  df = df.append(pd.read_html(requests.get(page_url, headers=header).text)[0])\n"
     ]
    },
    {
     "name": "stdout",
     "output_type": "stream",
     "text": [
      "[2023-06-03 17:55] 삼성전자 (005930) : 0010/0010 pages are downloading...\r"
     ]
    },
    {
     "name": "stderr",
     "output_type": "stream",
     "text": [
      "/var/folders/dt/q9f0jq252ld5kmwg8rqf4pgw0000gn/T/ipykernel_91990/2023275707.py:31: FutureWarning: The frame.append method is deprecated and will be removed from pandas in a future version. Use pandas.concat instead.\n",
      "  df = df.append(pd.read_html(requests.get(page_url, headers=header).text)[0])\n",
      "/var/folders/dt/q9f0jq252ld5kmwg8rqf4pgw0000gn/T/ipykernel_91990/2023275707.py:31: FutureWarning: The frame.append method is deprecated and will be removed from pandas in a future version. Use pandas.concat instead.\n",
      "  df = df.append(pd.read_html(requests.get(page_url, headers=header).text)[0])\n"
     ]
    },
    {
     "data": {
      "text/html": [
       "<div>\n",
       "<style scoped>\n",
       "    .dataframe tbody tr th:only-of-type {\n",
       "        vertical-align: middle;\n",
       "    }\n",
       "\n",
       "    .dataframe tbody tr th {\n",
       "        vertical-align: top;\n",
       "    }\n",
       "\n",
       "    .dataframe thead th {\n",
       "        text-align: right;\n",
       "    }\n",
       "</style>\n",
       "<table border=\"1\" class=\"dataframe\">\n",
       "  <thead>\n",
       "    <tr style=\"text-align: right;\">\n",
       "      <th></th>\n",
       "      <th>date</th>\n",
       "      <th>open</th>\n",
       "      <th>high</th>\n",
       "      <th>low</th>\n",
       "      <th>close</th>\n",
       "      <th>diff</th>\n",
       "      <th>volume</th>\n",
       "    </tr>\n",
       "  </thead>\n",
       "  <tbody>\n",
       "    <tr>\n",
       "      <th>1</th>\n",
       "      <td>2023.06.02</td>\n",
       "      <td>71700</td>\n",
       "      <td>72200</td>\n",
       "      <td>71600</td>\n",
       "      <td>72200</td>\n",
       "      <td>1300</td>\n",
       "      <td>11716021</td>\n",
       "    </tr>\n",
       "    <tr>\n",
       "      <th>2</th>\n",
       "      <td>2023.06.01</td>\n",
       "      <td>70900</td>\n",
       "      <td>71600</td>\n",
       "      <td>70600</td>\n",
       "      <td>70900</td>\n",
       "      <td>500</td>\n",
       "      <td>14669296</td>\n",
       "    </tr>\n",
       "    <tr>\n",
       "      <th>3</th>\n",
       "      <td>2023.05.31</td>\n",
       "      <td>72400</td>\n",
       "      <td>72500</td>\n",
       "      <td>71000</td>\n",
       "      <td>71400</td>\n",
       "      <td>900</td>\n",
       "      <td>25666087</td>\n",
       "    </tr>\n",
       "    <tr>\n",
       "      <th>4</th>\n",
       "      <td>2023.05.30</td>\n",
       "      <td>71300</td>\n",
       "      <td>72300</td>\n",
       "      <td>71200</td>\n",
       "      <td>72300</td>\n",
       "      <td>2000</td>\n",
       "      <td>27476897</td>\n",
       "    </tr>\n",
       "    <tr>\n",
       "      <th>5</th>\n",
       "      <td>2023.05.26</td>\n",
       "      <td>69800</td>\n",
       "      <td>70400</td>\n",
       "      <td>69500</td>\n",
       "      <td>70300</td>\n",
       "      <td>1500</td>\n",
       "      <td>19549511</td>\n",
       "    </tr>\n",
       "  </tbody>\n",
       "</table>\n",
       "</div>"
      ],
      "text/plain": [
       "         date   open   high    low  close  diff    volume\n",
       "1  2023.06.02  71700  72200  71600  72200  1300  11716021\n",
       "2  2023.06.01  70900  71600  70600  70900   500  14669296\n",
       "3  2023.05.31  72400  72500  71000  71400   900  25666087\n",
       "4  2023.05.30  71300  72300  71200  72300  2000  27476897\n",
       "5  2023.05.26  69800  70400  69500  70300  1500  19549511"
      ]
     },
     "execution_count": 41,
     "metadata": {},
     "output_type": "execute_result"
    }
   ],
   "source": [
    "from bs4 import BeautifulSoup\n",
    "import urllib\n",
    "import requests\n",
    "\n",
    "# setting UA header\n",
    "header = {'User-Agent' : 'Mozilla/5.0 (Macintosh; Intel Mac OS X 10_15_7) AppleWebKit/537.36 (KHTML, like Gecko) Chrome/113.0.0.0 Safari/537.36'}\n",
    "\n",
    "# request url\n",
    "url = 'http://finance.naver.com/item/sise_day.nhn?code=005930'\n",
    "request = urllib.request.Request(url, headers=header)\n",
    "\n",
    "# get html\n",
    "doc =urllib.request.urlopen(request)\n",
    "html = BeautifulSoup(doc, \"lxml\")\n",
    "\n",
    "# parsing\n",
    "## find the last page\n",
    "pgrr = html.find('td', class_='pgRR')\n",
    "s = str(pgrr.a['href']).split('=')\n",
    "lastpage = s[-1]\n",
    "\n",
    "# make dataframe\n",
    "df = pd.DataFrame()\n",
    "\n",
    "# crawling\n",
    "## crawling min(lastpage, 10) pages\n",
    "pages = min(int(lastpage), 10)\n",
    "for page in range(1, pages+1):\n",
    "    page_url = '{}&page={}'.format(url, page)\n",
    "    # append daily prices into dataframe\n",
    "    df = df.append(pd.read_html(requests.get(page_url, headers=header).text)[0])\n",
    "    tmnow = datetime.now().strftime('%Y-%m-%d %H:%M')\n",
    "    print('[{}] {} ({}) : {:04d}/{:04d} pages are downloading...'.format(tmnow, codes['005930'], '005930', page, pages), end=\"\\r\")\n",
    "\n",
    "df = df.rename(columns={'날짜':'date', '종가':'close', '전일비':'diff', '시가':'open', '고가':'high', '저가':'low', '거래량':'volume'})\n",
    "df = df.dropna()\n",
    "df[['close', 'diff', 'open', 'high', 'low', 'volume']] = df[['close', 'diff', 'open', 'high', 'low', 'volume']].astype(int)\n",
    "df = df[['date', 'open', 'high', 'low', 'close', 'diff', 'volume']]\n",
    "\n",
    "df.head()\n",
    "\n"
   ]
  },
  {
   "cell_type": "code",
   "execution_count": null,
   "metadata": {},
   "outputs": [],
   "source": []
  },
  {
   "cell_type": "code",
   "execution_count": null,
   "metadata": {},
   "outputs": [],
   "source": []
  },
  {
   "cell_type": "code",
   "execution_count": 22,
   "metadata": {},
   "outputs": [],
   "source": [
    "# curs.close()\n",
    "# conn.close()"
   ]
  }
 ],
 "metadata": {
  "kernelspec": {
   "display_name": "base",
   "language": "python",
   "name": "python3"
  },
  "language_info": {
   "codemirror_mode": {
    "name": "ipython",
    "version": 3
   },
   "file_extension": ".py",
   "mimetype": "text/x-python",
   "name": "python",
   "nbconvert_exporter": "python",
   "pygments_lexer": "ipython3",
   "version": "3.11.3"
  },
  "orig_nbformat": 4
 },
 "nbformat": 4,
 "nbformat_minor": 2
}
