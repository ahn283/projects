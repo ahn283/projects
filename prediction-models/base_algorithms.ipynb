{
 "cells": [
  {
   "cell_type": "code",
   "execution_count": 189,
   "metadata": {},
   "outputs": [],
   "source": [
    "import pandas as pd\n",
    "import numpy as np\n",
    "import matplotlib.pyplot as plt\n",
    "\n",
    "from sklearn.model_selection import train_test_split\n",
    "from sklearn.preprocessing import MinMaxScaler\n",
    "from sklearn.ensemble import RandomForestRegressor\n",
    "from sklearn.linear_model import LinearRegression\n",
    "\n",
    "\n",
    "from sklearn.metrics import mean_absolute_error, mean_absolute_percentage_error, mean_squared_error"
   ]
  },
  {
   "cell_type": "markdown",
   "metadata": {},
   "source": [
    "# Load data"
   ]
  },
  {
   "cell_type": "code",
   "execution_count": 92,
   "metadata": {},
   "outputs": [
    {
     "data": {
      "text/html": [
       "<div>\n",
       "<style scoped>\n",
       "    .dataframe tbody tr th:only-of-type {\n",
       "        vertical-align: middle;\n",
       "    }\n",
       "\n",
       "    .dataframe tbody tr th {\n",
       "        vertical-align: top;\n",
       "    }\n",
       "\n",
       "    .dataframe thead th {\n",
       "        text-align: right;\n",
       "    }\n",
       "</style>\n",
       "<table border=\"1\" class=\"dataframe\">\n",
       "  <thead>\n",
       "    <tr style=\"text-align: right;\">\n",
       "      <th></th>\n",
       "      <th>Apple</th>\n",
       "      <th>Tesla</th>\n",
       "      <th>bond_rate</th>\n",
       "      <th>Dow</th>\n",
       "      <th>tech_index</th>\n",
       "      <th>health_index</th>\n",
       "      <th>consumer_dis_index</th>\n",
       "      <th>consumer_staples_index</th>\n",
       "      <th>energy_index</th>\n",
       "      <th>financial_index</th>\n",
       "      <th>...</th>\n",
       "      <th>real_estate_index</th>\n",
       "      <th>utilities_index</th>\n",
       "      <th>JPYUSD</th>\n",
       "      <th>CNYUSD</th>\n",
       "      <th>EURUSD</th>\n",
       "      <th>date</th>\n",
       "      <th>country</th>\n",
       "      <th>month</th>\n",
       "      <th>log_apple</th>\n",
       "      <th>log_tesla</th>\n",
       "    </tr>\n",
       "  </thead>\n",
       "  <tbody>\n",
       "    <tr>\n",
       "      <th>8782</th>\n",
       "      <td>24.848475</td>\n",
       "      <td>15.114667</td>\n",
       "      <td>1.398</td>\n",
       "      <td>17050.750000</td>\n",
       "      <td>37.280865</td>\n",
       "      <td>59.642284</td>\n",
       "      <td>70.730659</td>\n",
       "      <td>39.916458</td>\n",
       "      <td>49.383343</td>\n",
       "      <td>16.221687</td>\n",
       "      <td>...</td>\n",
       "      <td>22.927450</td>\n",
       "      <td>33.919144</td>\n",
       "      <td>0.008339</td>\n",
       "      <td>0.157577</td>\n",
       "      <td>1.124000</td>\n",
       "      <td>2015-10-08</td>\n",
       "      <td>US</td>\n",
       "      <td>10</td>\n",
       "      <td>3.212796</td>\n",
       "      <td>2.715666</td>\n",
       "    </tr>\n",
       "    <tr>\n",
       "      <th>8783</th>\n",
       "      <td>25.443027</td>\n",
       "      <td>14.712667</td>\n",
       "      <td>1.406</td>\n",
       "      <td>17084.490234</td>\n",
       "      <td>37.443348</td>\n",
       "      <td>59.913666</td>\n",
       "      <td>70.812683</td>\n",
       "      <td>40.005421</td>\n",
       "      <td>49.063103</td>\n",
       "      <td>16.117661</td>\n",
       "      <td>...</td>\n",
       "      <td>22.889507</td>\n",
       "      <td>33.757278</td>\n",
       "      <td>0.008338</td>\n",
       "      <td>0.157642</td>\n",
       "      <td>1.128694</td>\n",
       "      <td>2015-10-09</td>\n",
       "      <td>US</td>\n",
       "      <td>10</td>\n",
       "      <td>3.236442</td>\n",
       "      <td>2.688709</td>\n",
       "    </tr>\n",
       "    <tr>\n",
       "      <th>8784</th>\n",
       "      <td>25.325024</td>\n",
       "      <td>14.372000</td>\n",
       "      <td>1.400</td>\n",
       "      <td>17131.859375</td>\n",
       "      <td>37.488480</td>\n",
       "      <td>60.071239</td>\n",
       "      <td>71.149803</td>\n",
       "      <td>40.110588</td>\n",
       "      <td>48.429699</td>\n",
       "      <td>16.131527</td>\n",
       "      <td>...</td>\n",
       "      <td>23.033701</td>\n",
       "      <td>34.057907</td>\n",
       "      <td>0.008321</td>\n",
       "      <td>0.157846</td>\n",
       "      <td>1.136997</td>\n",
       "      <td>2015-10-12</td>\n",
       "      <td>US</td>\n",
       "      <td>10</td>\n",
       "      <td>3.231793</td>\n",
       "      <td>2.665282</td>\n",
       "    </tr>\n",
       "    <tr>\n",
       "      <th>8785</th>\n",
       "      <td>25.368139</td>\n",
       "      <td>14.616667</td>\n",
       "      <td>1.362</td>\n",
       "      <td>17081.890625</td>\n",
       "      <td>37.407238</td>\n",
       "      <td>59.318375</td>\n",
       "      <td>70.767113</td>\n",
       "      <td>39.867928</td>\n",
       "      <td>47.924412</td>\n",
       "      <td>16.006695</td>\n",
       "      <td>...</td>\n",
       "      <td>22.889507</td>\n",
       "      <td>33.980831</td>\n",
       "      <td>0.008333</td>\n",
       "      <td>0.158403</td>\n",
       "      <td>1.135551</td>\n",
       "      <td>2015-10-13</td>\n",
       "      <td>US</td>\n",
       "      <td>10</td>\n",
       "      <td>3.233494</td>\n",
       "      <td>2.682162</td>\n",
       "    </tr>\n",
       "    <tr>\n",
       "      <th>8786</th>\n",
       "      <td>25.009598</td>\n",
       "      <td>14.458667</td>\n",
       "      <td>1.280</td>\n",
       "      <td>16924.750000</td>\n",
       "      <td>37.335026</td>\n",
       "      <td>59.204567</td>\n",
       "      <td>70.047333</td>\n",
       "      <td>39.406887</td>\n",
       "      <td>48.337158</td>\n",
       "      <td>15.874916</td>\n",
       "      <td>...</td>\n",
       "      <td>22.889507</td>\n",
       "      <td>33.973110</td>\n",
       "      <td>0.008353</td>\n",
       "      <td>0.157920</td>\n",
       "      <td>1.138498</td>\n",
       "      <td>2015-10-14</td>\n",
       "      <td>US</td>\n",
       "      <td>10</td>\n",
       "      <td>3.219260</td>\n",
       "      <td>2.671294</td>\n",
       "    </tr>\n",
       "  </tbody>\n",
       "</table>\n",
       "<p>5 rows × 22 columns</p>\n",
       "</div>"
      ],
      "text/plain": [
       "          Apple      Tesla  bond_rate           Dow  tech_index  health_index  \\\n",
       "8782  24.848475  15.114667      1.398  17050.750000   37.280865     59.642284   \n",
       "8783  25.443027  14.712667      1.406  17084.490234   37.443348     59.913666   \n",
       "8784  25.325024  14.372000      1.400  17131.859375   37.488480     60.071239   \n",
       "8785  25.368139  14.616667      1.362  17081.890625   37.407238     59.318375   \n",
       "8786  25.009598  14.458667      1.280  16924.750000   37.335026     59.204567   \n",
       "\n",
       "      consumer_dis_index  consumer_staples_index  energy_index  \\\n",
       "8782           70.730659               39.916458     49.383343   \n",
       "8783           70.812683               40.005421     49.063103   \n",
       "8784           71.149803               40.110588     48.429699   \n",
       "8785           70.767113               39.867928     47.924412   \n",
       "8786           70.047333               39.406887     48.337158   \n",
       "\n",
       "      financial_index  ...  real_estate_index  utilities_index    JPYUSD  \\\n",
       "8782        16.221687  ...          22.927450        33.919144  0.008339   \n",
       "8783        16.117661  ...          22.889507        33.757278  0.008338   \n",
       "8784        16.131527  ...          23.033701        34.057907  0.008321   \n",
       "8785        16.006695  ...          22.889507        33.980831  0.008333   \n",
       "8786        15.874916  ...          22.889507        33.973110  0.008353   \n",
       "\n",
       "        CNYUSD    EURUSD        date  country month log_apple  log_tesla  \n",
       "8782  0.157577  1.124000  2015-10-08       US    10  3.212796   2.715666  \n",
       "8783  0.157642  1.128694  2015-10-09       US    10  3.236442   2.688709  \n",
       "8784  0.157846  1.136997  2015-10-12       US    10  3.231793   2.665282  \n",
       "8785  0.158403  1.135551  2015-10-13       US    10  3.233494   2.682162  \n",
       "8786  0.157920  1.138498  2015-10-14       US    10  3.219260   2.671294  \n",
       "\n",
       "[5 rows x 22 columns]"
      ]
     },
     "execution_count": 92,
     "metadata": {},
     "output_type": "execute_result"
    }
   ],
   "source": [
    "data = pd.read_csv('../preprocessing/datasets/tesla_apple_stock_price.csv', index_col=0)\n",
    "data.head()"
   ]
  },
  {
   "cell_type": "markdown",
   "metadata": {},
   "source": [
    "# Common function"
   ]
  },
  {
   "cell_type": "code",
   "execution_count": 190,
   "metadata": {},
   "outputs": [],
   "source": [
    "# evaluate with MAE, MAPE\n",
    "\n",
    "def evaluation_mae_mape(y_real, y_pred):\n",
    "    mae = mean_absolute_error(y_real, y_pred)\n",
    "    mape = mean_absolute_percentage_error(y_real, y_pred)\n",
    "    metrics = pd.DataFrame({\"MAE\": [mae], \"MAPE\": [mape]})\n",
    "    return metrics"
   ]
  },
  {
   "cell_type": "code",
   "execution_count": 191,
   "metadata": {},
   "outputs": [],
   "source": [
    "# make dataframe for plotting\n",
    "def eval_df(y_real, y_pred):\n",
    "    df = pd.DataFrame()\n",
    "    df[\"Target\"] = y_real\n",
    "    df[\"Pred\"] = y_pred\n",
    "    return df"
   ]
  },
  {
   "cell_type": "code",
   "execution_count": 185,
   "metadata": {},
   "outputs": [],
   "source": [
    "# 실제 Y와 예측치 시각화\n",
    "def plot_prediction(Y_true_pred):\n",
    "    plt.figure(figsize=(16, 8))\n",
    "    plt.plot(Y_true_pred, linewidth=5, label=Y_true_pred.columns)\n",
    "    plt.xticks(fontsize=25, rotation=0)\n",
    "    plt.yticks(fontsize=25)\n",
    "    plt.xlabel('Index', fontname='serif', fontsize=28)\n",
    "    plt.legend(fontsize=20)\n",
    "    plt.grid()\n",
    "    plt.show()"
   ]
  },
  {
   "cell_type": "code",
   "execution_count": 192,
   "metadata": {},
   "outputs": [],
   "source": [
    "# 검증 함수화\n",
    "def evaluation_reg(Y_real, Y_pred):\n",
    "    MAE = mean_absolute_error(Y_real, Y_pred)\n",
    "    MSE = mean_squared_error(Y_real, Y_pred)\n",
    "    MAPE = mean_absolute_percentage_error(Y_real, Y_pred)\n",
    "    Score = pd.DataFrame([MAE, MSE, MAPE], index=['MAE', 'MSE', 'MAPE'], columns=['Score']).T\n",
    "    \n",
    "    return Score"
   ]
  },
  {
   "cell_type": "code",
   "execution_count": 193,
   "metadata": {},
   "outputs": [],
   "source": [
    "# Train & Test 모두의 검증 함수화\n",
    "def evaluation_reg_trte(Y_real_tr, Y_pred_tr, Y_real_te, Y_pred_te):\n",
    "    Score_tr = evaluation_reg(Y_real_tr, Y_pred_tr)\n",
    "    Score_te = evaluation_reg(Y_real_te, Y_pred_te)\n",
    "    Score_trte = pd.concat([Score_tr, Score_te], axis=0)\n",
    "    Score_trte.index = ['Train', 'Test']\n",
    "\n",
    "    return Score_trte"
   ]
  },
  {
   "cell_type": "markdown",
   "metadata": {},
   "source": [
    "# ML regression Model"
   ]
  },
  {
   "cell_type": "markdown",
   "metadata": {},
   "source": [
    "Use simple machine learinng regression with rolling window - 20 days (1 month), 60 days (3 month), 252 days (1 year)\n",
    "- Extract rolling window datasets\n",
    "- Fit regression model and get co-efficient\n",
    "- Predict with model"
   ]
  },
  {
   "cell_type": "code",
   "execution_count": 158,
   "metadata": {},
   "outputs": [
    {
     "name": "stderr",
     "output_type": "stream",
     "text": [
      "/Users/woojin/anaconda3/envs/pytorch/lib/python3.9/site-packages/pydantic/_internal/_fields.py:127: UserWarning: Field \"model_server_url\" has conflict with protected namespace \"model_\".\n",
      "\n",
      "You may be able to resolve this warning by setting `model_config['protected_namespaces'] = ()`.\n",
      "  warnings.warn(\n",
      "/Users/woojin/anaconda3/envs/pytorch/lib/python3.9/site-packages/pydantic/_internal/_config.py:269: UserWarning: Valid config keys have changed in V2:\n",
      "* 'schema_extra' has been renamed to 'json_schema_extra'\n",
      "  warnings.warn(message, UserWarning)\n",
      "2023/09/22 17:53:17 INFO mlflow.tracking.fluent: Experiment with name 'stock prediction' does not exist. Creating a new experiment.\n"
     ]
    }
   ],
   "source": [
    "import mlflow\n",
    "\n",
    "mlflow.set_tracking_uri(\"http://127.0.0.1:5000\")\n",
    "mlflow.set_experiment(\"stock prediction\")\n",
    "\n",
    "mlflow.sklearn.autolog()"
   ]
  },
  {
   "cell_type": "markdown",
   "metadata": {},
   "source": [
    "## 60 days datasets\n",
    "\n",
    "- target : Apple price\n",
    "\n",
    "- variables : 60 days variabels (60 x 16) "
   ]
  },
  {
   "cell_type": "code",
   "execution_count": 159,
   "metadata": {},
   "outputs": [
    {
     "name": "stdout",
     "output_type": "stream",
     "text": [
      "<class 'pandas.core.frame.DataFrame'>\n",
      "DatetimeIndex: 1995 entries, 2015-10-08 to 2023-09-20\n",
      "Data columns (total 21 columns):\n",
      " #   Column                  Non-Null Count  Dtype  \n",
      "---  ------                  --------------  -----  \n",
      " 0   Apple                   1995 non-null   float64\n",
      " 1   Tesla                   1995 non-null   float64\n",
      " 2   bond_rate               1995 non-null   float64\n",
      " 3   Dow                     1995 non-null   float64\n",
      " 4   tech_index              1995 non-null   float64\n",
      " 5   health_index            1995 non-null   float64\n",
      " 6   consumer_dis_index      1995 non-null   float64\n",
      " 7   consumer_staples_index  1995 non-null   float64\n",
      " 8   energy_index            1995 non-null   float64\n",
      " 9   financial_index         1995 non-null   float64\n",
      " 10  industrial_index        1995 non-null   float64\n",
      " 11  material_index          1995 non-null   float64\n",
      " 12  real_estate_index       1995 non-null   float64\n",
      " 13  utilities_index         1995 non-null   float64\n",
      " 14  JPYUSD                  1995 non-null   float64\n",
      " 15  CNYUSD                  1995 non-null   float64\n",
      " 16  EURUSD                  1995 non-null   float64\n",
      " 17  country                 1995 non-null   object \n",
      " 18  month                   1995 non-null   int64  \n",
      " 19  log_apple               1995 non-null   float64\n",
      " 20  log_tesla               1995 non-null   float64\n",
      "dtypes: float64(19), int64(1), object(1)\n",
      "memory usage: 342.9+ KB\n"
     ]
    }
   ],
   "source": [
    "df = data.set_index('date')\n",
    "df.index = pd.to_datetime(df.index)\n",
    "df.info()"
   ]
  },
  {
   "cell_type": "code",
   "execution_count": 160,
   "metadata": {},
   "outputs": [
    {
     "data": {
      "text/html": [
       "<div>\n",
       "<style scoped>\n",
       "    .dataframe tbody tr th:only-of-type {\n",
       "        vertical-align: middle;\n",
       "    }\n",
       "\n",
       "    .dataframe tbody tr th {\n",
       "        vertical-align: top;\n",
       "    }\n",
       "\n",
       "    .dataframe thead th {\n",
       "        text-align: right;\n",
       "    }\n",
       "</style>\n",
       "<table border=\"1\" class=\"dataframe\">\n",
       "  <thead>\n",
       "    <tr style=\"text-align: right;\">\n",
       "      <th></th>\n",
       "      <th>Apple</th>\n",
       "    </tr>\n",
       "    <tr>\n",
       "      <th>date</th>\n",
       "      <th></th>\n",
       "    </tr>\n",
       "  </thead>\n",
       "  <tbody>\n",
       "    <tr>\n",
       "      <th>2015-10-08</th>\n",
       "      <td>24.848475</td>\n",
       "    </tr>\n",
       "    <tr>\n",
       "      <th>2015-10-09</th>\n",
       "      <td>25.443027</td>\n",
       "    </tr>\n",
       "    <tr>\n",
       "      <th>2015-10-12</th>\n",
       "      <td>25.325024</td>\n",
       "    </tr>\n",
       "    <tr>\n",
       "      <th>2015-10-13</th>\n",
       "      <td>25.368139</td>\n",
       "    </tr>\n",
       "    <tr>\n",
       "      <th>2015-10-14</th>\n",
       "      <td>25.009598</td>\n",
       "    </tr>\n",
       "    <tr>\n",
       "      <th>...</th>\n",
       "      <td>...</td>\n",
       "    </tr>\n",
       "    <tr>\n",
       "      <th>2023-09-14</th>\n",
       "      <td>175.740005</td>\n",
       "    </tr>\n",
       "    <tr>\n",
       "      <th>2023-09-15</th>\n",
       "      <td>175.009995</td>\n",
       "    </tr>\n",
       "    <tr>\n",
       "      <th>2023-09-18</th>\n",
       "      <td>177.970001</td>\n",
       "    </tr>\n",
       "    <tr>\n",
       "      <th>2023-09-19</th>\n",
       "      <td>179.070007</td>\n",
       "    </tr>\n",
       "    <tr>\n",
       "      <th>2023-09-20</th>\n",
       "      <td>175.490005</td>\n",
       "    </tr>\n",
       "  </tbody>\n",
       "</table>\n",
       "<p>1995 rows × 1 columns</p>\n",
       "</div>"
      ],
      "text/plain": [
       "                 Apple\n",
       "date                  \n",
       "2015-10-08   24.848475\n",
       "2015-10-09   25.443027\n",
       "2015-10-12   25.325024\n",
       "2015-10-13   25.368139\n",
       "2015-10-14   25.009598\n",
       "...                ...\n",
       "2023-09-14  175.740005\n",
       "2023-09-15  175.009995\n",
       "2023-09-18  177.970001\n",
       "2023-09-19  179.070007\n",
       "2023-09-20  175.490005\n",
       "\n",
       "[1995 rows x 1 columns]"
      ]
     },
     "execution_count": 160,
     "metadata": {},
     "output_type": "execute_result"
    }
   ],
   "source": [
    "target = df[['Apple']]\n",
    "target"
   ]
  },
  {
   "cell_type": "code",
   "execution_count": 161,
   "metadata": {},
   "outputs": [],
   "source": [
    "df = df.drop(['Apple', 'Tesla', 'country', 'log_apple', 'log_tesla'], axis=1)"
   ]
  },
  {
   "cell_type": "code",
   "execution_count": 162,
   "metadata": {},
   "outputs": [
    {
     "data": {
      "text/html": [
       "<div>\n",
       "<style scoped>\n",
       "    .dataframe tbody tr th:only-of-type {\n",
       "        vertical-align: middle;\n",
       "    }\n",
       "\n",
       "    .dataframe tbody tr th {\n",
       "        vertical-align: top;\n",
       "    }\n",
       "\n",
       "    .dataframe thead th {\n",
       "        text-align: right;\n",
       "    }\n",
       "</style>\n",
       "<table border=\"1\" class=\"dataframe\">\n",
       "  <thead>\n",
       "    <tr style=\"text-align: right;\">\n",
       "      <th></th>\n",
       "      <th>bond_rate</th>\n",
       "      <th>Dow</th>\n",
       "      <th>tech_index</th>\n",
       "      <th>health_index</th>\n",
       "      <th>consumer_dis_index</th>\n",
       "      <th>consumer_staples_index</th>\n",
       "      <th>energy_index</th>\n",
       "      <th>financial_index</th>\n",
       "      <th>industrial_index</th>\n",
       "      <th>material_index</th>\n",
       "      <th>real_estate_index</th>\n",
       "      <th>utilities_index</th>\n",
       "      <th>JPYUSD</th>\n",
       "      <th>CNYUSD</th>\n",
       "      <th>EURUSD</th>\n",
       "      <th>month</th>\n",
       "    </tr>\n",
       "    <tr>\n",
       "      <th>date</th>\n",
       "      <th></th>\n",
       "      <th></th>\n",
       "      <th></th>\n",
       "      <th></th>\n",
       "      <th></th>\n",
       "      <th></th>\n",
       "      <th></th>\n",
       "      <th></th>\n",
       "      <th></th>\n",
       "      <th></th>\n",
       "      <th></th>\n",
       "      <th></th>\n",
       "      <th></th>\n",
       "      <th></th>\n",
       "      <th></th>\n",
       "      <th></th>\n",
       "    </tr>\n",
       "  </thead>\n",
       "  <tbody>\n",
       "    <tr>\n",
       "      <th>2015-10-08</th>\n",
       "      <td>1.398</td>\n",
       "      <td>17050.750000</td>\n",
       "      <td>37.280865</td>\n",
       "      <td>59.642284</td>\n",
       "      <td>70.730659</td>\n",
       "      <td>39.916458</td>\n",
       "      <td>49.383343</td>\n",
       "      <td>16.221687</td>\n",
       "      <td>45.808945</td>\n",
       "      <td>37.534855</td>\n",
       "      <td>22.927450</td>\n",
       "      <td>33.919144</td>\n",
       "      <td>0.008339</td>\n",
       "      <td>0.157577</td>\n",
       "      <td>1.124000</td>\n",
       "      <td>10</td>\n",
       "    </tr>\n",
       "    <tr>\n",
       "      <th>2015-10-09</th>\n",
       "      <td>1.406</td>\n",
       "      <td>17084.490234</td>\n",
       "      <td>37.443348</td>\n",
       "      <td>59.913666</td>\n",
       "      <td>70.812683</td>\n",
       "      <td>40.005421</td>\n",
       "      <td>49.063103</td>\n",
       "      <td>16.117661</td>\n",
       "      <td>45.963940</td>\n",
       "      <td>37.517872</td>\n",
       "      <td>22.889507</td>\n",
       "      <td>33.757278</td>\n",
       "      <td>0.008338</td>\n",
       "      <td>0.157642</td>\n",
       "      <td>1.128694</td>\n",
       "      <td>10</td>\n",
       "    </tr>\n",
       "    <tr>\n",
       "      <th>2015-10-12</th>\n",
       "      <td>1.400</td>\n",
       "      <td>17131.859375</td>\n",
       "      <td>37.488480</td>\n",
       "      <td>60.071239</td>\n",
       "      <td>71.149803</td>\n",
       "      <td>40.110588</td>\n",
       "      <td>48.429699</td>\n",
       "      <td>16.131527</td>\n",
       "      <td>45.972557</td>\n",
       "      <td>37.194946</td>\n",
       "      <td>23.033701</td>\n",
       "      <td>34.057907</td>\n",
       "      <td>0.008321</td>\n",
       "      <td>0.157846</td>\n",
       "      <td>1.136997</td>\n",
       "      <td>10</td>\n",
       "    </tr>\n",
       "    <tr>\n",
       "      <th>2015-10-13</th>\n",
       "      <td>1.362</td>\n",
       "      <td>17081.890625</td>\n",
       "      <td>37.407238</td>\n",
       "      <td>59.318375</td>\n",
       "      <td>70.767113</td>\n",
       "      <td>39.867928</td>\n",
       "      <td>47.924412</td>\n",
       "      <td>16.006695</td>\n",
       "      <td>45.481747</td>\n",
       "      <td>37.050476</td>\n",
       "      <td>22.889507</td>\n",
       "      <td>33.980831</td>\n",
       "      <td>0.008333</td>\n",
       "      <td>0.158403</td>\n",
       "      <td>1.135551</td>\n",
       "      <td>10</td>\n",
       "    </tr>\n",
       "    <tr>\n",
       "      <th>2015-10-14</th>\n",
       "      <td>1.280</td>\n",
       "      <td>16924.750000</td>\n",
       "      <td>37.335026</td>\n",
       "      <td>59.204567</td>\n",
       "      <td>70.047333</td>\n",
       "      <td>39.406887</td>\n",
       "      <td>48.337158</td>\n",
       "      <td>15.874916</td>\n",
       "      <td>44.990925</td>\n",
       "      <td>37.347916</td>\n",
       "      <td>22.889507</td>\n",
       "      <td>33.973110</td>\n",
       "      <td>0.008353</td>\n",
       "      <td>0.157920</td>\n",
       "      <td>1.138498</td>\n",
       "      <td>10</td>\n",
       "    </tr>\n",
       "  </tbody>\n",
       "</table>\n",
       "</div>"
      ],
      "text/plain": [
       "            bond_rate           Dow  tech_index  health_index  \\\n",
       "date                                                            \n",
       "2015-10-08      1.398  17050.750000   37.280865     59.642284   \n",
       "2015-10-09      1.406  17084.490234   37.443348     59.913666   \n",
       "2015-10-12      1.400  17131.859375   37.488480     60.071239   \n",
       "2015-10-13      1.362  17081.890625   37.407238     59.318375   \n",
       "2015-10-14      1.280  16924.750000   37.335026     59.204567   \n",
       "\n",
       "            consumer_dis_index  consumer_staples_index  energy_index  \\\n",
       "date                                                                   \n",
       "2015-10-08           70.730659               39.916458     49.383343   \n",
       "2015-10-09           70.812683               40.005421     49.063103   \n",
       "2015-10-12           71.149803               40.110588     48.429699   \n",
       "2015-10-13           70.767113               39.867928     47.924412   \n",
       "2015-10-14           70.047333               39.406887     48.337158   \n",
       "\n",
       "            financial_index  industrial_index  material_index  \\\n",
       "date                                                            \n",
       "2015-10-08        16.221687         45.808945       37.534855   \n",
       "2015-10-09        16.117661         45.963940       37.517872   \n",
       "2015-10-12        16.131527         45.972557       37.194946   \n",
       "2015-10-13        16.006695         45.481747       37.050476   \n",
       "2015-10-14        15.874916         44.990925       37.347916   \n",
       "\n",
       "            real_estate_index  utilities_index    JPYUSD    CNYUSD    EURUSD  \\\n",
       "date                                                                           \n",
       "2015-10-08          22.927450        33.919144  0.008339  0.157577  1.124000   \n",
       "2015-10-09          22.889507        33.757278  0.008338  0.157642  1.128694   \n",
       "2015-10-12          23.033701        34.057907  0.008321  0.157846  1.136997   \n",
       "2015-10-13          22.889507        33.980831  0.008333  0.158403  1.135551   \n",
       "2015-10-14          22.889507        33.973110  0.008353  0.157920  1.138498   \n",
       "\n",
       "            month  \n",
       "date               \n",
       "2015-10-08     10  \n",
       "2015-10-09     10  \n",
       "2015-10-12     10  \n",
       "2015-10-13     10  \n",
       "2015-10-14     10  "
      ]
     },
     "execution_count": 162,
     "metadata": {},
     "output_type": "execute_result"
    }
   ],
   "source": [
    "df.head()"
   ]
  },
  {
   "cell_type": "code",
   "execution_count": 163,
   "metadata": {},
   "outputs": [
    {
     "data": {
      "text/html": [
       "<div>\n",
       "<style scoped>\n",
       "    .dataframe tbody tr th:only-of-type {\n",
       "        vertical-align: middle;\n",
       "    }\n",
       "\n",
       "    .dataframe tbody tr th {\n",
       "        vertical-align: top;\n",
       "    }\n",
       "\n",
       "    .dataframe thead th {\n",
       "        text-align: right;\n",
       "    }\n",
       "</style>\n",
       "<table border=\"1\" class=\"dataframe\">\n",
       "  <thead>\n",
       "    <tr style=\"text-align: right;\">\n",
       "      <th></th>\n",
       "      <th>Apple</th>\n",
       "    </tr>\n",
       "    <tr>\n",
       "      <th>date</th>\n",
       "      <th></th>\n",
       "    </tr>\n",
       "  </thead>\n",
       "  <tbody>\n",
       "    <tr>\n",
       "      <th>2016-01-06</th>\n",
       "      <td>22.949333</td>\n",
       "    </tr>\n",
       "    <tr>\n",
       "      <th>2016-01-07</th>\n",
       "      <td>21.980772</td>\n",
       "    </tr>\n",
       "    <tr>\n",
       "      <th>2016-01-08</th>\n",
       "      <td>22.097004</td>\n",
       "    </tr>\n",
       "    <tr>\n",
       "      <th>2016-01-11</th>\n",
       "      <td>22.454798</td>\n",
       "    </tr>\n",
       "    <tr>\n",
       "      <th>2016-01-12</th>\n",
       "      <td>22.780691</td>\n",
       "    </tr>\n",
       "    <tr>\n",
       "      <th>...</th>\n",
       "      <td>...</td>\n",
       "    </tr>\n",
       "    <tr>\n",
       "      <th>2023-09-14</th>\n",
       "      <td>175.740005</td>\n",
       "    </tr>\n",
       "    <tr>\n",
       "      <th>2023-09-15</th>\n",
       "      <td>175.009995</td>\n",
       "    </tr>\n",
       "    <tr>\n",
       "      <th>2023-09-18</th>\n",
       "      <td>177.970001</td>\n",
       "    </tr>\n",
       "    <tr>\n",
       "      <th>2023-09-19</th>\n",
       "      <td>179.070007</td>\n",
       "    </tr>\n",
       "    <tr>\n",
       "      <th>2023-09-20</th>\n",
       "      <td>175.490005</td>\n",
       "    </tr>\n",
       "  </tbody>\n",
       "</table>\n",
       "<p>1934 rows × 1 columns</p>\n",
       "</div>"
      ],
      "text/plain": [
       "                 Apple\n",
       "date                  \n",
       "2016-01-06   22.949333\n",
       "2016-01-07   21.980772\n",
       "2016-01-08   22.097004\n",
       "2016-01-11   22.454798\n",
       "2016-01-12   22.780691\n",
       "...                ...\n",
       "2023-09-14  175.740005\n",
       "2023-09-15  175.009995\n",
       "2023-09-18  177.970001\n",
       "2023-09-19  179.070007\n",
       "2023-09-20  175.490005\n",
       "\n",
       "[1934 rows x 1 columns]"
      ]
     },
     "execution_count": 163,
     "metadata": {},
     "output_type": "execute_result"
    }
   ],
   "source": [
    "y = target[61:]\n",
    "y"
   ]
  },
  {
   "cell_type": "code",
   "execution_count": 164,
   "metadata": {},
   "outputs": [
    {
     "data": {
      "text/plain": [
       "array([[[1.39800000e+00, 1.70507500e+04, 3.72808647e+01, ...,\n",
       "         1.57577097e-01, 1.12399960e+00, 1.00000000e+01],\n",
       "        [1.40600002e+00, 1.70844902e+04, 3.74433479e+01, ...,\n",
       "         1.57641679e-01, 1.12869358e+00, 1.00000000e+01],\n",
       "        [1.39999998e+00, 1.71318594e+04, 3.74884796e+01, ...,\n",
       "         1.57845721e-01, 1.13699675e+00, 1.00000000e+01],\n",
       "        ...,\n",
       "        [1.79900002e+00, 1.76038691e+04, 3.94095612e+01, ...,\n",
       "         1.54444918e-01, 1.09280062e+00, 1.20000000e+01],\n",
       "        [1.75800002e+00, 1.74250293e+04, 3.88561668e+01, ...,\n",
       "         1.54292405e-01, 1.09339809e+00, 1.20000000e+01],\n",
       "        [1.73500001e+00, 1.71489395e+04, 3.83481293e+01, ...,\n",
       "         1.54232934e-01, 1.08539915e+00, 1.00000000e+00]],\n",
       "\n",
       "       [[1.40600002e+00, 1.70844902e+04, 3.74433479e+01, ...,\n",
       "         1.57641679e-01, 1.12869358e+00, 1.00000000e+01],\n",
       "        [1.39999998e+00, 1.71318594e+04, 3.74884796e+01, ...,\n",
       "         1.57845721e-01, 1.13699675e+00, 1.00000000e+01],\n",
       "        [1.36199999e+00, 1.70818906e+04, 3.74072380e+01, ...,\n",
       "         1.58403292e-01, 1.13555062e+00, 1.00000000e+01],\n",
       "        ...,\n",
       "        [1.75800002e+00, 1.74250293e+04, 3.88561668e+01, ...,\n",
       "         1.54292405e-01, 1.09339809e+00, 1.20000000e+01],\n",
       "        [1.73500001e+00, 1.71489395e+04, 3.83481293e+01, ...,\n",
       "         1.54232934e-01, 1.08539915e+00, 1.00000000e+00],\n",
       "        [1.72399998e+00, 1.71586602e+04, 3.82483292e+01, ...,\n",
       "         1.53247312e-01, 1.08275497e+00, 1.00000000e+00]]])"
      ]
     },
     "execution_count": 164,
     "metadata": {},
     "output_type": "execute_result"
    }
   ],
   "source": [
    "window = 60\n",
    "test = np.array(df.iloc[0:window, :])\n",
    "test = np.stack([test, df.iloc[0+1:window+1, :]])\n",
    "test\n"
   ]
  },
  {
   "cell_type": "code",
   "execution_count": 165,
   "metadata": {},
   "outputs": [
    {
     "data": {
      "text/plain": [
       "(2, 60, 16)"
      ]
     },
     "execution_count": 165,
     "metadata": {},
     "output_type": "execute_result"
    }
   ],
   "source": [
    "test.shape"
   ]
  },
  {
   "cell_type": "code",
   "execution_count": 166,
   "metadata": {},
   "outputs": [
    {
     "name": "stdout",
     "output_type": "stream",
     "text": [
      "(60, 16)\n",
      "(2, 60, 16)\n"
     ]
    },
    {
     "data": {
      "text/plain": [
       "(1934, 60, 16)"
      ]
     },
     "execution_count": 166,
     "metadata": {},
     "output_type": "execute_result"
    }
   ],
   "source": [
    "window = 60\n",
    "\n",
    "for i in range(1934):\n",
    "    if i==0:\n",
    "        x0 = np.array(df.iloc[0+i:window+i, :])\n",
    "        print(x0.shape)\n",
    "    elif i==1:\n",
    "        x1 = np.array(df.iloc[0+i:window+i, :])\n",
    "        X = np.stack([x0, x1])\n",
    "        print(X.shape)\n",
    "    else:\n",
    "        xn = np.array([df.iloc[0+i:window+i, :]])\n",
    "        X = np.append(X, xn, axis=0)\n",
    "\n",
    "X.shape"
   ]
  },
  {
   "cell_type": "markdown",
   "metadata": {},
   "source": [
    "## Train and test split"
   ]
  },
  {
   "cell_type": "code",
   "execution_count": 167,
   "metadata": {},
   "outputs": [
    {
     "data": {
      "text/plain": [
       "(252, 60, 16)"
      ]
     },
     "execution_count": 167,
     "metadata": {},
     "output_type": "execute_result"
    }
   ],
   "source": [
    "X[-252:].shape"
   ]
  },
  {
   "cell_type": "code",
   "execution_count": 168,
   "metadata": {},
   "outputs": [
    {
     "data": {
      "text/plain": [
       "date\n",
       "2016-01-06    22.949333\n",
       "2016-01-07    21.980772\n",
       "2016-01-08    22.097004\n",
       "2016-01-11    22.454798\n",
       "2016-01-12    22.780691\n",
       "                ...    \n",
       "2016-12-30    26.982430\n",
       "2017-01-03    27.059311\n",
       "2017-01-04    27.029016\n",
       "2017-01-05    27.166471\n",
       "2017-01-06    27.469328\n",
       "Name: Apple, Length: 252, dtype: float64"
      ]
     },
     "execution_count": 168,
     "metadata": {},
     "output_type": "execute_result"
    }
   ],
   "source": [
    "y.iloc[:252, 0]"
   ]
  },
  {
   "cell_type": "code",
   "execution_count": 169,
   "metadata": {},
   "outputs": [],
   "source": [
    "X_train, X_test = X[:-252], X[-252:]\n",
    "y_train, y_test = y.iloc[:-252], y.iloc[-252:]"
   ]
  },
  {
   "cell_type": "code",
   "execution_count": 170,
   "metadata": {},
   "outputs": [
    {
     "data": {
      "text/plain": [
       "1682"
      ]
     },
     "execution_count": 170,
     "metadata": {},
     "output_type": "execute_result"
    }
   ],
   "source": [
    "len(X_train)"
   ]
  },
  {
   "cell_type": "code",
   "execution_count": 171,
   "metadata": {},
   "outputs": [
    {
     "data": {
      "text/plain": [
       "252"
      ]
     },
     "execution_count": 171,
     "metadata": {},
     "output_type": "execute_result"
    }
   ],
   "source": [
    "len(X_test)"
   ]
  },
  {
   "cell_type": "code",
   "execution_count": 172,
   "metadata": {},
   "outputs": [],
   "source": [
    "# reshape into 2 dimensional matrix\n",
    "X_train_re = X_train.reshape(1682,-1)\n",
    "X_test_re = X_test.reshape(252,-1)"
   ]
  },
  {
   "cell_type": "code",
   "execution_count": 173,
   "metadata": {},
   "outputs": [
    {
     "name": "stdout",
     "output_type": "stream",
     "text": [
      "(252, 960) (1682, 1)\n"
     ]
    }
   ],
   "source": [
    "print(X_test_re.shape, y_train.shape)"
   ]
  },
  {
   "cell_type": "markdown",
   "metadata": {},
   "source": [
    "## Linear regression"
   ]
  },
  {
   "cell_type": "code",
   "execution_count": 174,
   "metadata": {},
   "outputs": [
    {
     "name": "stderr",
     "output_type": "stream",
     "text": [
      "2023/09/22 17:53:31 INFO mlflow.utils.autologging_utils: Created MLflow autologging run with ID '1880f061fc6d4838ae2de025f043e7c7', which will track hyperparameters, performance metrics, model artifacts, and lineage information for the current sklearn workflow\n",
      "2023/09/22 17:53:31 WARNING mlflow.sklearn: Failed to log training dataset information to MLflow Tracking. Reason: 'DataFrame' object has no attribute 'flatten'\n",
      "2023/09/22 17:57:55 WARNING mlflow.utils.autologging_utils: MLflow autologging encountered a warning: \"/Users/woojin/anaconda3/envs/pytorch/lib/python3.9/site-packages/_distutils_hack/__init__.py:33: UserWarning: Setuptools is replacing distutils.\"\n"
     ]
    },
    {
     "data": {
      "text/html": [
       "<style>#sk-container-id-3 {color: black;}#sk-container-id-3 pre{padding: 0;}#sk-container-id-3 div.sk-toggleable {background-color: white;}#sk-container-id-3 label.sk-toggleable__label {cursor: pointer;display: block;width: 100%;margin-bottom: 0;padding: 0.3em;box-sizing: border-box;text-align: center;}#sk-container-id-3 label.sk-toggleable__label-arrow:before {content: \"▸\";float: left;margin-right: 0.25em;color: #696969;}#sk-container-id-3 label.sk-toggleable__label-arrow:hover:before {color: black;}#sk-container-id-3 div.sk-estimator:hover label.sk-toggleable__label-arrow:before {color: black;}#sk-container-id-3 div.sk-toggleable__content {max-height: 0;max-width: 0;overflow: hidden;text-align: left;background-color: #f0f8ff;}#sk-container-id-3 div.sk-toggleable__content pre {margin: 0.2em;color: black;border-radius: 0.25em;background-color: #f0f8ff;}#sk-container-id-3 input.sk-toggleable__control:checked~div.sk-toggleable__content {max-height: 200px;max-width: 100%;overflow: auto;}#sk-container-id-3 input.sk-toggleable__control:checked~label.sk-toggleable__label-arrow:before {content: \"▾\";}#sk-container-id-3 div.sk-estimator input.sk-toggleable__control:checked~label.sk-toggleable__label {background-color: #d4ebff;}#sk-container-id-3 div.sk-label input.sk-toggleable__control:checked~label.sk-toggleable__label {background-color: #d4ebff;}#sk-container-id-3 input.sk-hidden--visually {border: 0;clip: rect(1px 1px 1px 1px);clip: rect(1px, 1px, 1px, 1px);height: 1px;margin: -1px;overflow: hidden;padding: 0;position: absolute;width: 1px;}#sk-container-id-3 div.sk-estimator {font-family: monospace;background-color: #f0f8ff;border: 1px dotted black;border-radius: 0.25em;box-sizing: border-box;margin-bottom: 0.5em;}#sk-container-id-3 div.sk-estimator:hover {background-color: #d4ebff;}#sk-container-id-3 div.sk-parallel-item::after {content: \"\";width: 100%;border-bottom: 1px solid gray;flex-grow: 1;}#sk-container-id-3 div.sk-label:hover label.sk-toggleable__label {background-color: #d4ebff;}#sk-container-id-3 div.sk-serial::before {content: \"\";position: absolute;border-left: 1px solid gray;box-sizing: border-box;top: 0;bottom: 0;left: 50%;z-index: 0;}#sk-container-id-3 div.sk-serial {display: flex;flex-direction: column;align-items: center;background-color: white;padding-right: 0.2em;padding-left: 0.2em;position: relative;}#sk-container-id-3 div.sk-item {position: relative;z-index: 1;}#sk-container-id-3 div.sk-parallel {display: flex;align-items: stretch;justify-content: center;background-color: white;position: relative;}#sk-container-id-3 div.sk-item::before, #sk-container-id-3 div.sk-parallel-item::before {content: \"\";position: absolute;border-left: 1px solid gray;box-sizing: border-box;top: 0;bottom: 0;left: 50%;z-index: -1;}#sk-container-id-3 div.sk-parallel-item {display: flex;flex-direction: column;z-index: 1;position: relative;background-color: white;}#sk-container-id-3 div.sk-parallel-item:first-child::after {align-self: flex-end;width: 50%;}#sk-container-id-3 div.sk-parallel-item:last-child::after {align-self: flex-start;width: 50%;}#sk-container-id-3 div.sk-parallel-item:only-child::after {width: 0;}#sk-container-id-3 div.sk-dashed-wrapped {border: 1px dashed gray;margin: 0 0.4em 0.5em 0.4em;box-sizing: border-box;padding-bottom: 0.4em;background-color: white;}#sk-container-id-3 div.sk-label label {font-family: monospace;font-weight: bold;display: inline-block;line-height: 1.2em;}#sk-container-id-3 div.sk-label-container {text-align: center;}#sk-container-id-3 div.sk-container {/* jupyter's `normalize.less` sets `[hidden] { display: none; }` but bootstrap.min.css set `[hidden] { display: none !important; }` so we also need the `!important` here to be able to override the default hidden behavior on the sphinx rendered scikit-learn.org. See: https://github.com/scikit-learn/scikit-learn/issues/21755 */display: inline-block !important;position: relative;}#sk-container-id-3 div.sk-text-repr-fallback {display: none;}</style><div id=\"sk-container-id-3\" class=\"sk-top-container\"><div class=\"sk-text-repr-fallback\"><pre>LinearRegression()</pre><b>In a Jupyter environment, please rerun this cell to show the HTML representation or trust the notebook. <br />On GitHub, the HTML representation is unable to render, please try loading this page with nbviewer.org.</b></div><div class=\"sk-container\" hidden><div class=\"sk-item\"><div class=\"sk-estimator sk-toggleable\"><input class=\"sk-toggleable__control sk-hidden--visually\" id=\"sk-estimator-id-3\" type=\"checkbox\" checked><label for=\"sk-estimator-id-3\" class=\"sk-toggleable__label sk-toggleable__label-arrow\">LinearRegression</label><div class=\"sk-toggleable__content\"><pre>LinearRegression()</pre></div></div></div></div></div>"
      ],
      "text/plain": [
       "LinearRegression()"
      ]
     },
     "execution_count": 174,
     "metadata": {},
     "output_type": "execute_result"
    }
   ],
   "source": [
    "lr = LinearRegression()\n",
    "lr.fit(X_train_re, y_train)"
   ]
  },
  {
   "cell_type": "code",
   "execution_count": 175,
   "metadata": {},
   "outputs": [],
   "source": [
    "pred_lr = lr.predict(X_test_re)"
   ]
  },
  {
   "cell_type": "code",
   "execution_count": 176,
   "metadata": {},
   "outputs": [
    {
     "data": {
      "text/html": [
       "<div>\n",
       "<style scoped>\n",
       "    .dataframe tbody tr th:only-of-type {\n",
       "        vertical-align: middle;\n",
       "    }\n",
       "\n",
       "    .dataframe tbody tr th {\n",
       "        vertical-align: top;\n",
       "    }\n",
       "\n",
       "    .dataframe thead th {\n",
       "        text-align: right;\n",
       "    }\n",
       "</style>\n",
       "<table border=\"1\" class=\"dataframe\">\n",
       "  <thead>\n",
       "    <tr style=\"text-align: right;\">\n",
       "      <th></th>\n",
       "      <th>Target</th>\n",
       "      <th>Pred</th>\n",
       "    </tr>\n",
       "    <tr>\n",
       "      <th>date</th>\n",
       "      <th></th>\n",
       "      <th></th>\n",
       "    </tr>\n",
       "  </thead>\n",
       "  <tbody>\n",
       "    <tr>\n",
       "      <th>2022-09-20</th>\n",
       "      <td>155.974686</td>\n",
       "      <td>151.446542</td>\n",
       "    </tr>\n",
       "    <tr>\n",
       "      <th>2022-09-21</th>\n",
       "      <td>152.813461</td>\n",
       "      <td>157.580399</td>\n",
       "    </tr>\n",
       "    <tr>\n",
       "      <th>2022-09-22</th>\n",
       "      <td>151.839249</td>\n",
       "      <td>153.768445</td>\n",
       "    </tr>\n",
       "    <tr>\n",
       "      <th>2022-09-23</th>\n",
       "      <td>149.542847</td>\n",
       "      <td>142.942339</td>\n",
       "    </tr>\n",
       "    <tr>\n",
       "      <th>2022-09-26</th>\n",
       "      <td>149.880859</td>\n",
       "      <td>138.097029</td>\n",
       "    </tr>\n",
       "    <tr>\n",
       "      <th>...</th>\n",
       "      <td>...</td>\n",
       "      <td>...</td>\n",
       "    </tr>\n",
       "    <tr>\n",
       "      <th>2023-09-14</th>\n",
       "      <td>175.740005</td>\n",
       "      <td>208.778020</td>\n",
       "    </tr>\n",
       "    <tr>\n",
       "      <th>2023-09-15</th>\n",
       "      <td>175.009995</td>\n",
       "      <td>211.031291</td>\n",
       "    </tr>\n",
       "    <tr>\n",
       "      <th>2023-09-18</th>\n",
       "      <td>177.970001</td>\n",
       "      <td>212.261071</td>\n",
       "    </tr>\n",
       "    <tr>\n",
       "      <th>2023-09-19</th>\n",
       "      <td>179.070007</td>\n",
       "      <td>213.628473</td>\n",
       "    </tr>\n",
       "    <tr>\n",
       "      <th>2023-09-20</th>\n",
       "      <td>175.490005</td>\n",
       "      <td>205.525454</td>\n",
       "    </tr>\n",
       "  </tbody>\n",
       "</table>\n",
       "<p>252 rows × 2 columns</p>\n",
       "</div>"
      ],
      "text/plain": [
       "                Target        Pred\n",
       "date                              \n",
       "2022-09-20  155.974686  151.446542\n",
       "2022-09-21  152.813461  157.580399\n",
       "2022-09-22  151.839249  153.768445\n",
       "2022-09-23  149.542847  142.942339\n",
       "2022-09-26  149.880859  138.097029\n",
       "...                ...         ...\n",
       "2023-09-14  175.740005  208.778020\n",
       "2023-09-15  175.009995  211.031291\n",
       "2023-09-18  177.970001  212.261071\n",
       "2023-09-19  179.070007  213.628473\n",
       "2023-09-20  175.490005  205.525454\n",
       "\n",
       "[252 rows x 2 columns]"
      ]
     },
     "execution_count": 176,
     "metadata": {},
     "output_type": "execute_result"
    }
   ],
   "source": [
    "graph = pd.DataFrame()\n",
    "graph[\"Target\"] = y_test\n",
    "graph[\"Pred\"] = pred_lr\n",
    "graph"
   ]
  },
  {
   "cell_type": "code",
   "execution_count": 181,
   "metadata": {},
   "outputs": [
    {
     "data": {
      "text/plain": [
       "<Axes: xlabel='date'>"
      ]
     },
     "execution_count": 181,
     "metadata": {},
     "output_type": "execute_result"
    },
    {
     "data": {
      "image/png": "[encoded data removed]",
      "text/plain": [
       "<Figure size 640x480 with 1 Axes>"
      ]
     },
     "metadata": {},
     "output_type": "display_data"
    }
   ],
   "source": [
    "eval_df(y_test, pred_lr).plot()"
   ]
  },
  {
   "cell_type": "code",
   "execution_count": 178,
   "metadata": {},
   "outputs": [
    {
     "data": {
      "text/html": [
       "<div>\n",
       "<style scoped>\n",
       "    .dataframe tbody tr th:only-of-type {\n",
       "        vertical-align: middle;\n",
       "    }\n",
       "\n",
       "    .dataframe tbody tr th {\n",
       "        vertical-align: top;\n",
       "    }\n",
       "\n",
       "    .dataframe thead th {\n",
       "        text-align: right;\n",
       "    }\n",
       "</style>\n",
       "<table border=\"1\" class=\"dataframe\">\n",
       "  <thead>\n",
       "    <tr style=\"text-align: right;\">\n",
       "      <th></th>\n",
       "      <th>MAE</th>\n",
       "      <th>MAPE</th>\n",
       "    </tr>\n",
       "  </thead>\n",
       "  <tbody>\n",
       "    <tr>\n",
       "      <th>0</th>\n",
       "      <td>12.464643</td>\n",
       "      <td>0.074195</td>\n",
       "    </tr>\n",
       "  </tbody>\n",
       "</table>\n",
       "</div>"
      ],
      "text/plain": [
       "         MAE      MAPE\n",
       "0  12.464643  0.074195"
      ]
     },
     "execution_count": 178,
     "metadata": {},
     "output_type": "execute_result"
    }
   ],
   "source": [
    "# mae = mean_absolute_error(y_test, pred)\n",
    "# mape = mean_absolute_percentage_error(y_test, pred)\n",
    "# metrics = pd.DataFrame({\"MAE\": [mae], \"MAPE\": [mape]})\n",
    "# metrics\n",
    "\n",
    "eval_lr = evaluation_mae_mape(y_test, pred_lr)\n",
    "eval_lr"
   ]
  },
  {
   "cell_type": "markdown",
   "metadata": {},
   "source": [
    "## Random Forest"
   ]
  },
  {
   "cell_type": "code",
   "execution_count": 179,
   "metadata": {},
   "outputs": [
    {
     "name": "stderr",
     "output_type": "stream",
     "text": [
      "2023/09/22 17:57:55 INFO mlflow.utils.autologging_utils: Created MLflow autologging run with ID 'cd87c4611ee04850afa526d520b4214b', which will track hyperparameters, performance metrics, model artifacts, and lineage information for the current sklearn workflow\n",
      "2023/09/22 17:57:55 WARNING mlflow.sklearn: Failed to log training dataset information to MLflow Tracking. Reason: 'DataFrame' object has no attribute 'flatten'\n",
      "/Users/woojin/anaconda3/envs/pytorch/lib/python3.9/site-packages/sklearn/base.py:1151: DataConversionWarning: A column-vector y was passed when a 1d array was expected. Please change the shape of y to (n_samples,), for example using ravel().\n",
      "  return fit_method(estimator, *args, **kwargs)\n"
     ]
    },
    {
     "data": {
      "text/html": [
       "<style>#sk-container-id-5 {color: black;}#sk-container-id-5 pre{padding: 0;}#sk-container-id-5 div.sk-toggleable {background-color: white;}#sk-container-id-5 label.sk-toggleable__label {cursor: pointer;display: block;width: 100%;margin-bottom: 0;padding: 0.3em;box-sizing: border-box;text-align: center;}#sk-container-id-5 label.sk-toggleable__label-arrow:before {content: \"▸\";float: left;margin-right: 0.25em;color: #696969;}#sk-container-id-5 label.sk-toggleable__label-arrow:hover:before {color: black;}#sk-container-id-5 div.sk-estimator:hover label.sk-toggleable__label-arrow:before {color: black;}#sk-container-id-5 div.sk-toggleable__content {max-height: 0;max-width: 0;overflow: hidden;text-align: left;background-color: #f0f8ff;}#sk-container-id-5 div.sk-toggleable__content pre {margin: 0.2em;color: black;border-radius: 0.25em;background-color: #f0f8ff;}#sk-container-id-5 input.sk-toggleable__control:checked~div.sk-toggleable__content {max-height: 200px;max-width: 100%;overflow: auto;}#sk-container-id-5 input.sk-toggleable__control:checked~label.sk-toggleable__label-arrow:before {content: \"▾\";}#sk-container-id-5 div.sk-estimator input.sk-toggleable__control:checked~label.sk-toggleable__label {background-color: #d4ebff;}#sk-container-id-5 div.sk-label input.sk-toggleable__control:checked~label.sk-toggleable__label {background-color: #d4ebff;}#sk-container-id-5 input.sk-hidden--visually {border: 0;clip: rect(1px 1px 1px 1px);clip: rect(1px, 1px, 1px, 1px);height: 1px;margin: -1px;overflow: hidden;padding: 0;position: absolute;width: 1px;}#sk-container-id-5 div.sk-estimator {font-family: monospace;background-color: #f0f8ff;border: 1px dotted black;border-radius: 0.25em;box-sizing: border-box;margin-bottom: 0.5em;}#sk-container-id-5 div.sk-estimator:hover {background-color: #d4ebff;}#sk-container-id-5 div.sk-parallel-item::after {content: \"\";width: 100%;border-bottom: 1px solid gray;flex-grow: 1;}#sk-container-id-5 div.sk-label:hover label.sk-toggleable__label {background-color: #d4ebff;}#sk-container-id-5 div.sk-serial::before {content: \"\";position: absolute;border-left: 1px solid gray;box-sizing: border-box;top: 0;bottom: 0;left: 50%;z-index: 0;}#sk-container-id-5 div.sk-serial {display: flex;flex-direction: column;align-items: center;background-color: white;padding-right: 0.2em;padding-left: 0.2em;position: relative;}#sk-container-id-5 div.sk-item {position: relative;z-index: 1;}#sk-container-id-5 div.sk-parallel {display: flex;align-items: stretch;justify-content: center;background-color: white;position: relative;}#sk-container-id-5 div.sk-item::before, #sk-container-id-5 div.sk-parallel-item::before {content: \"\";position: absolute;border-left: 1px solid gray;box-sizing: border-box;top: 0;bottom: 0;left: 50%;z-index: -1;}#sk-container-id-5 div.sk-parallel-item {display: flex;flex-direction: column;z-index: 1;position: relative;background-color: white;}#sk-container-id-5 div.sk-parallel-item:first-child::after {align-self: flex-end;width: 50%;}#sk-container-id-5 div.sk-parallel-item:last-child::after {align-self: flex-start;width: 50%;}#sk-container-id-5 div.sk-parallel-item:only-child::after {width: 0;}#sk-container-id-5 div.sk-dashed-wrapped {border: 1px dashed gray;margin: 0 0.4em 0.5em 0.4em;box-sizing: border-box;padding-bottom: 0.4em;background-color: white;}#sk-container-id-5 div.sk-label label {font-family: monospace;font-weight: bold;display: inline-block;line-height: 1.2em;}#sk-container-id-5 div.sk-label-container {text-align: center;}#sk-container-id-5 div.sk-container {/* jupyter's `normalize.less` sets `[hidden] { display: none; }` but bootstrap.min.css set `[hidden] { display: none !important; }` so we also need the `!important` here to be able to override the default hidden behavior on the sphinx rendered scikit-learn.org. See: https://github.com/scikit-learn/scikit-learn/issues/21755 */display: inline-block !important;position: relative;}#sk-container-id-5 div.sk-text-repr-fallback {display: none;}</style><div id=\"sk-container-id-5\" class=\"sk-top-container\"><div class=\"sk-text-repr-fallback\"><pre>RandomForestRegressor()</pre><b>In a Jupyter environment, please rerun this cell to show the HTML representation or trust the notebook. <br />On GitHub, the HTML representation is unable to render, please try loading this page with nbviewer.org.</b></div><div class=\"sk-container\" hidden><div class=\"sk-item\"><div class=\"sk-estimator sk-toggleable\"><input class=\"sk-toggleable__control sk-hidden--visually\" id=\"sk-estimator-id-5\" type=\"checkbox\" checked><label for=\"sk-estimator-id-5\" class=\"sk-toggleable__label sk-toggleable__label-arrow\">RandomForestRegressor</label><div class=\"sk-toggleable__content\"><pre>RandomForestRegressor()</pre></div></div></div></div></div>"
      ],
      "text/plain": [
       "RandomForestRegressor()"
      ]
     },
     "execution_count": 179,
     "metadata": {},
     "output_type": "execute_result"
    }
   ],
   "source": [
    "rf = RandomForestRegressor()\n",
    "\n",
    "rf.fit(X_train_re, y_train)"
   ]
  },
  {
   "cell_type": "code",
   "execution_count": 182,
   "metadata": {},
   "outputs": [],
   "source": [
    "pred_rf = rf.predict(X_test_re)"
   ]
  },
  {
   "cell_type": "code",
   "execution_count": 187,
   "metadata": {},
   "outputs": [
    {
     "data": {
      "text/plain": [
       "<Axes: xlabel='date'>"
      ]
     },
     "execution_count": 187,
     "metadata": {},
     "output_type": "execute_result"
    },
    {
     "data": {
      "image/png": "[encoded data removed]",
      "text/plain": [
       "<Figure size 640x480 with 1 Axes>"
      ]
     },
     "metadata": {},
     "output_type": "display_data"
    }
   ],
   "source": [
    "eval_df(y_test, pred_rf).plot()"
   ]
  },
  {
   "cell_type": "markdown",
   "metadata": {},
   "source": [
    "# Deep Learning"
   ]
  }
 ],
 "metadata": {
  "kernelspec": {
   "display_name": "pytorch",
   "language": "python",
   "name": "python3"
  },
  "language_info": {
   "codemirror_mode": {
    "name": "ipython",
    "version": 3
   },
   "file_extension": ".py",
   "mimetype": "text/x-python",
   "name": "python",
   "nbconvert_exporter": "python",
   "pygments_lexer": "ipython3",
   "version": "3.9.18"
  },
  "orig_nbformat": 4
 },
 "nbformat": 4,
 "nbformat_minor": 2
}
