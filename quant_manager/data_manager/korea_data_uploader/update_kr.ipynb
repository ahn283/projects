{
 "cells": [
  {
   "cell_type": "markdown",
   "metadata": {},
   "source": [
    "# Dababase information"
   ]
  },
  {
   "cell_type": "code",
   "execution_count": 1,
   "metadata": {},
   "outputs": [],
   "source": [
    "import keyring\n",
    "import platform\n",
    "\n",
    "user = 'root'\n",
    "pw = keyring.get_password('macmini_db', user)\n",
    "host = '192.168.219.109' if platform.system() == 'Windows' else '127.0.0.1'\n",
    "port = 3306\n",
    "db = 'stock'"
   ]
  },
  {
   "cell_type": "markdown",
   "metadata": {},
   "source": [
    "# Update `price_kr` database"
   ]
  },
  {
   "cell_type": "code",
   "execution_count": 4,
   "metadata": {},
   "outputs": [
    {
     "name": "stderr",
     "output_type": "stream",
     "text": [
      "100%|██████████| 2418/2418 [1:35:08<00:00,  2.36s/it]\n"
     ]
    }
   ],
   "source": [
    "from UpdatePriceKrDB import UpdatePriceKrDB\n",
    "\n",
    "price_updater = UpdatePriceKrDB(user=user, pw=pw, host=host, port=port, db=db)\n",
    "price_updater.update_db_price_kr()"
   ]
  },
  {
   "cell_type": "markdown",
   "metadata": {},
   "source": [
    "# Update `sector_kr` database"
   ]
  },
  {
   "cell_type": "code",
   "execution_count": 5,
   "metadata": {},
   "outputs": [
    {
     "name": "stderr",
     "output_type": "stream",
     "text": [
      "c:\\project\\github\\projects\\quant_manager\\data_manager\\korea_data_uploader\\UpdateSectorKrDB.py:29: GuessedAtParserWarning: No parser was explicitly specified, so I'm using the best available HTML parser for this system (\"lxml\"). This usually isn't a problem, but if you run this code on another system, or in a different virtual environment, it may use a different parser and behave differently.\n",
      "\n",
      "The code that caused this warning is on line 29 of the file c:\\project\\github\\projects\\quant_manager\\data_manager\\korea_data_uploader\\UpdateSectorKrDB.py. To get rid of this warning, pass the additional argument 'features=\"lxml\"' to the BeautifulSoup constructor.\n",
      "\n",
      "  data_html = BeautifulSoup(data.content)\n",
      "100%|██████████| 10/10 [00:25<00:00,  2.54s/it]\n"
     ]
    }
   ],
   "source": [
    "from UpdateSectorKrDB import UpdateSectorKrDB\n",
    "\n",
    "sector_updater = UpdateSectorKrDB(user=user, pw=pw, host=host, port=port, db=db)\n",
    "sector_updater.update_db_sector_kr()"
   ]
  },
  {
   "cell_type": "markdown",
   "metadata": {},
   "source": [
    "# Update `ticker_kr` database"
   ]
  },
  {
   "cell_type": "code",
   "execution_count": 6,
   "metadata": {},
   "outputs": [
    {
     "name": "stderr",
     "output_type": "stream",
     "text": [
      "c:\\project\\github\\projects\\quant_manager\\data_manager\\korea_data_uploader\\UpdateTickerKrDB.py:36: GuessedAtParserWarning: No parser was explicitly specified, so I'm using the best available HTML parser for this system (\"lxml\"). This usually isn't a problem, but if you run this code on another system, or in a different virtual environment, it may use a different parser and behave differently.\n",
      "\n",
      "The code that caused this warning is on line 36 of the file c:\\project\\github\\projects\\quant_manager\\data_manager\\korea_data_uploader\\UpdateTickerKrDB.py. To get rid of this warning, pass the additional argument 'features=\"lxml\"' to the BeautifulSoup constructor.\n",
      "\n",
      "  data_html = BeautifulSoup(data.content)\n"
     ]
    },
    {
     "data": {
      "text/plain": [
       "<bound method UpdateTickerKrDB.update_db_ticker_kr of <UpdateTickerKrDB.UpdateTickerKrDB object at 0x000001859E2ADEE0>>"
      ]
     },
     "execution_count": 6,
     "metadata": {},
     "output_type": "execute_result"
    }
   ],
   "source": [
    "from UpdateTickerKrDB import UpdateTickerKrDB\n",
    "\n",
    "ticker_updater = UpdateTickerKrDB(user=user, pw=pw, host=host, port=port, db=db)\n",
    "ticker_updater.update_db_ticker_kr"
   ]
  },
  {
   "cell_type": "markdown",
   "metadata": {},
   "source": [
    "# Update `fs_kr` database"
   ]
  },
  {
   "cell_type": "code",
   "execution_count": 2,
   "metadata": {},
   "outputs": [
    {
     "name": "stderr",
     "output_type": "stream",
     "text": [
      "100%|██████████| 2418/2418 [2:01:34<00:00,  3.02s/it]  \n"
     ]
    },
    {
     "ename": "",
     "evalue": "",
     "output_type": "error",
     "traceback": [
      "\u001b[1;31mThe Kernel crashed while executing code in the current cell or a previous cell. \n",
      "\u001b[1;31mPlease review the code in the cell(s) to identify a possible cause of the failure. \n",
      "\u001b[1;31mClick <a href='https://aka.ms/vscodeJupyterKernelCrash'>here</a> for more info. \n",
      "\u001b[1;31mView Jupyter <a href='command:jupyter.viewOutput'>log</a> for further details."
     ]
    }
   ],
   "source": [
    "from UpdateFsKrDB import UpdateFsKrDB\n",
    "\n",
    "fs_updater = UpdateFsKrDB(user=user, pw=pw, host=host, port=port, db=db)\n",
    "fs_updater.update_db_fs_kr()"
   ]
  },
  {
   "cell_type": "code",
   "execution_count": 2,
   "metadata": {},
   "outputs": [],
   "source": [
    "from UpdateFsKrDB import UpdateFsKrDB\n",
    "\n",
    "fs_updater = UpdateFsKrDB(user=user, pw=pw, host=host, port=port, db=db)\n",
    "a = fs_updater.read_fs('005930')"
   ]
  },
  {
   "cell_type": "code",
   "execution_count": 3,
   "metadata": {},
   "outputs": [],
   "source": [
    "a_list = a.values.tolist()"
   ]
  },
  {
   "cell_type": "markdown",
   "metadata": {},
   "source": [
    "# Update `value_kr` database"
   ]
  },
  {
   "cell_type": "code",
   "execution_count": 8,
   "metadata": {},
   "outputs": [],
   "source": [
    "from UpdateValueKrDb import UpdateValueKrDB\n",
    "\n",
    "value_updater = UpdateValueKrDB(user=user, pw=pw, port=port, host=host, db=db)\n",
    "value_updater.upate_value_kr_db()"
   ]
  }
 ],
 "metadata": {
  "kernelspec": {
   "display_name": "finance",
   "language": "python",
   "name": "python3"
  },
  "language_info": {
   "codemirror_mode": {
    "name": "ipython",
    "version": 3
   },
   "file_extension": ".py",
   "mimetype": "text/x-python",
   "name": "python",
   "nbconvert_exporter": "python",
   "pygments_lexer": "ipython3",
   "version": "3.11.9"
  }
 },
 "nbformat": 4,
 "nbformat_minor": 2
}
